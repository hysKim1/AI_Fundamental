{
 "cells": [
  {
   "cell_type": "markdown",
   "metadata": {},
   "source": [
       "# [AI 이노베이션 스퀘어] 11기 기본 저녁반\n",
    "- github: https://github.com/hysKim1/AI_Fundamental\n",
    "    -  [파이썬 공식문서]https://docs.python.org/ko/3/\n",
    "        - [용어집](https://docs.python.org/ko/3/glossary.html)\n",
    "        - [언어 레퍼런스](https://docs.python.org/ko/3/reference/index.html)\n",
    "        - [자습서](https://docs.python.org/ko/3/tutorial/index.html)\n",
    "  \n",
    "---"
   ]
  },
  {
   "cell_type": "markdown",
   "metadata": {},
   "source": [
    "## 목차\n",
    "\n",
    "1. [예외처리문](#예외처리문) <br/>\n",
    "     1.1  [Try](#1-Try) <br/>\n",
    "     1.2  [ Except ](#2-Except) <br/>\n",
    "     1.3  [ As](#3-As) <br/>\n",
    "     1.4  [ Else](#4-Else) <br/>\n",
    "     1.5  [ Finally ](#5-Finally) <br/>\n",
    "     1.6  [ Assert ](#6-Assert) <br/>\n",
    "     1.7  [ Raise ](#7-Raise) <br/>\n",
    "     1.8  [ From ](#8-From) <br/>\n",
    "\n",
    "\n",
    "\n",
    "2. [Functional Programming](#Functional-Programming) <br/>\n",
    "      2.1 [ Function ](#Function)<br/>\n",
    "      2.2 [ 함수 선언/정의 ](#함수-선언/정의)<br/>\n",
    "      2.3 [ 디폴트값 ](#디폴트값)<br/>\n",
    "      2.5  [Signature ](#Signature)<br/>\n",
    "      2.6  [Docstring](#Docstring)<br/>\n",
    "      2.7  [매개변수](#매개변수)<br/>\n",
    "      \n",
    "      ---\n",
    "      "
   ]
  },
  {
   "cell_type": "markdown",
   "metadata": {},
   "source": [
    "## 예외처리문\n",
    "- **에러**가 발생해도 코드를 중단하지 않고 실행\n",
    "\n",
    "\n",
    "\n",
    "\n",
    "1.  실행 중단없이 에러 방지하도록 예외 처리\n",
    "    - try \n",
    "    - except..as..\n",
    "    - else \n",
    "    - finally\n",
    "2. 강제로 에러 발생하도록 예외 처리\n",
    "    - assert\n",
    "    - raise... from"
   ]
  },
  {
   "cell_type": "markdown",
   "metadata": {},
   "source": [
    "\n",
    ">[**EAFP**](https://docs.python.org/ko/3/glossary.html#term-eafp)  \n",
    "**허락보다는 용서를 구하기가 쉽다 (Easier to ask for forgiveness than permission).**  \n",
    "이 흔히 볼 수 있는 **파이썬 코딩 스타일은, 올바른 키나 어트리뷰트의 존재를 가정하고, 그 가정이 틀리면 예외를 잡습니다. 이 깔끔하고 빠른 스타일은 많은 try와 except 문의 존재로 특징지어집니다.** 이 테크닉은 C와 같은 다른 많은 언어에서 자주 사용되는 LBYL 스타일과 대비됩니다.\n",
    "\n",
    "- 검사를 일일히 수행하지 않고 먼저 실행하고 **예외처리를 진행**하고 에러가 발생하면 디버깅."
   ]
  },
  {
   "cell_type": "markdown",
   "metadata": {},
   "source": [
    "###### 흔한 에러의 종류 \n",
    "공식문서 내장 예외(built-in Error): https://docs.python.org/ko/3/library/exceptions.html"
   ]
  },
  {
   "cell_type": "markdown",
   "metadata": {},
   "source": [
    "zerodivisionError"
   ]
  },
  {
   "cell_type": "code",
   "execution_count": 90,
   "metadata": {},
   "outputs": [
    {
     "ename": "ZeroDivisionError",
     "evalue": "division by zero",
     "output_type": "error",
     "traceback": [
      "\u001b[1;31m---------------------------------------------------------------------------\u001b[0m",
      "\u001b[1;31mZeroDivisionError\u001b[0m                         Traceback (most recent call last)",
      "\u001b[1;32m<ipython-input-90-6c16767f6731>\u001b[0m in \u001b[0;36m<module>\u001b[1;34m\u001b[0m\n\u001b[1;32m----> 1\u001b[1;33m \u001b[0ma\u001b[0m \u001b[1;33m=\u001b[0m \u001b[1;36m1\u001b[0m\u001b[1;33m/\u001b[0m\u001b[1;36m0\u001b[0m\u001b[1;33m\u001b[0m\u001b[1;33m\u001b[0m\u001b[0m\n\u001b[0m",
      "\u001b[1;31mZeroDivisionError\u001b[0m: division by zero"
     ]
    }
   ],
   "source": [
    "#zerodivisionError: 0으로 나누는경우 생기는 에러\n",
    "a = 1/0"
   ]
  },
  {
   "cell_type": "markdown",
   "metadata": {},
   "source": [
    "IndexError"
   ]
  },
  {
   "cell_type": "code",
   "execution_count": 304,
   "metadata": {},
   "outputs": [
    {
     "ename": "IndexError",
     "evalue": "list index out of range",
     "output_type": "error",
     "traceback": [
      "\u001b[0;31m---------------------------------------------------------------------------\u001b[0m",
      "\u001b[0;31mIndexError\u001b[0m                                Traceback (most recent call last)",
      "\u001b[0;32m<ipython-input-304-b474bb0d341d>\u001b[0m in \u001b[0;36m<module>\u001b[0;34m\u001b[0m\n\u001b[1;32m      1\u001b[0m \u001b[0;31m#IndexError\u001b[0m\u001b[0;34m\u001b[0m\u001b[0;34m\u001b[0m\u001b[0;34m\u001b[0m\u001b[0m\n\u001b[1;32m      2\u001b[0m \u001b[0ma\u001b[0m\u001b[0;34m=\u001b[0m\u001b[0;34m[\u001b[0m\u001b[0;36m1\u001b[0m\u001b[0;34m,\u001b[0m\u001b[0;36m2\u001b[0m\u001b[0;34m,\u001b[0m\u001b[0;36m3\u001b[0m\u001b[0;34m]\u001b[0m\u001b[0;34m\u001b[0m\u001b[0;34m\u001b[0m\u001b[0m\n\u001b[0;32m----> 3\u001b[0;31m \u001b[0ma\u001b[0m\u001b[0;34m[\u001b[0m\u001b[0;36m100\u001b[0m\u001b[0;34m]\u001b[0m\u001b[0;34m\u001b[0m\u001b[0;34m\u001b[0m\u001b[0m\n\u001b[0m",
      "\u001b[0;31mIndexError\u001b[0m: list index out of range"
     ]
    }
   ],
   "source": [
    "#IndexError: 컨테이너의 인덱스 길이를 초과한 경우\n",
    "a=[1,2,3]\n",
    "a[100]"
   ]
  },
  {
   "cell_type": "markdown",
   "metadata": {},
   "source": [
    " ### 예외 처리\n",
    " #### 1 Try\n",
    " \n",
    "`try`에서 실행되는 코드가 에러가 발생할 경우,  `except`, `else`, `finally`순으로 실행 중단 없이 수행\n",
    "\n",
    "- `try` :try 구문에서 오류가 발생하지 않으면 실행됨\n",
    "    - `except `:try 에서 **에러 발생시** except 구문 실행\n",
    "        - 여러개 동시에 사용 가능 (elif와 비슷)\n",
    "    - `else` : try 에서 **에러 안생기면** else 실행\n",
    "    - `finally `: 에러 존재 여부 **상관 없이** 실행\n",
    "  "
   ]
  },
  {
   "cell_type": "code",
   "execution_count": 308,
   "metadata": {},
   "outputs": [
    {
     "name": "stdout",
     "output_type": "stream",
     "text": [
      "1.0\n"
     ]
    }
   ],
   "source": [
    "# Error가 없어서 Try구문 실행\n",
    "try:\n",
    "    a = 1/1\n",
    "except:\n",
    "    print('error')\n",
    "print(a)"
   ]
  },
  {
   "cell_type": "markdown",
   "metadata": {},
   "source": [
    "#### 2 Except\n",
    "-  해당하는 에러가 발생했을 때만 `except`를 실행하여 지정한 에러 처리"
   ]
  },
  {
   "cell_type": "code",
   "execution_count": 316,
   "metadata": {},
   "outputs": [
    {
     "name": "stdout",
     "output_type": "stream",
     "text": [
      "Zero Division Error\n"
     ]
    }
   ],
   "source": [
    "try:\n",
    "    a = 1/0 # ZeroDivisionError\n",
    "except ZeroDivisionError:\n",
    "    print(\"Zero Division Error\")\n",
    "except:\n",
    "    print(\"그밖에 \")"
   ]
  },
  {
   "cell_type": "code",
   "execution_count": 337,
   "metadata": {},
   "outputs": [
    {
     "name": "stdout",
     "output_type": "stream",
     "text": [
      "그밖에 \n"
     ]
    }
   ],
   "source": [
    "try:\n",
    "    a = 1j > 2j # TypeError\n",
    "except ZeroDivisionError:\n",
    "    print(\"error\")\n",
    "except:\n",
    "    print(\"그밖에 \")"
   ]
  },
  {
   "cell_type": "markdown",
   "metadata": {},
   "source": [
    "#### 3 AS\n",
    "- `except 발생오류 as 오류메시지` 이용하여 발생한 오류와 오류 메시지 변수를 포함 \n",
    "    - 나중에 `as`에대한 다른 용법도 다룰 예정"
   ]
  },
  {
   "cell_type": "code",
   "execution_count": 338,
   "metadata": {},
   "outputs": [
    {
     "name": "stdout",
     "output_type": "stream",
     "text": [
      "division by zero\n"
     ]
    }
   ],
   "source": [
    "try:\n",
    "    a = 1/0 # ZeroDivisionError\n",
    "except ZeroDivisionError as e: \n",
    "    print(e)\n",
    "except:\n",
    "    print(\"그밖에 \")"
   ]
  },
  {
   "cell_type": "markdown",
   "metadata": {},
   "source": [
    "#### 4 Else\n",
    "try 에서 에러 안생기면 else 실행"
   ]
  },
  {
   "cell_type": "code",
   "execution_count": 320,
   "metadata": {},
   "outputs": [
    {
     "name": "stdout",
     "output_type": "stream",
     "text": [
      "ZeroDivisionError\n"
     ]
    }
   ],
   "source": [
    "# Except : ZeroDivisionError 에러 발생시 except구문 발생\n",
    "try:\n",
    "    a = 1/0 \n",
    "except:\n",
    "    print('ZeroDivisionError')\n",
    "else:\n",
    "    print('No error')"
   ]
  },
  {
   "cell_type": "code",
   "execution_count": 11,
   "metadata": {},
   "outputs": [
    {
     "name": "stdout",
     "output_type": "stream",
     "text": [
      "No error\n"
     ]
    }
   ],
   "source": [
    "#try문에서 에러가 없자 else실행\n",
    "try:\n",
    "    a = 1/1   #a=1\n",
    "except:\n",
    "    print('Error')\n",
    "else:\n",
    "    print('No error')"
   ]
  },
  {
   "cell_type": "markdown",
   "metadata": {},
   "source": [
    "#### 5 Finally\n",
    "- 에러 존재 여부에 관계없이 항상 수행 \n",
    "- 에러처리에 마지막에서 끝났다는 메시지를 보여주기 위해 자주 사용"
   ]
  },
  {
   "cell_type": "code",
   "execution_count": 12,
   "metadata": {},
   "outputs": [
    {
     "name": "stdout",
     "output_type": "stream",
     "text": [
      "No error\n",
      "The end\n"
     ]
    }
   ],
   "source": [
    "try:\n",
    "    a = 1/1   #a=1\n",
    "except:\n",
    "    print('Error')\n",
    "else:\n",
    "    print('No error')\n",
    "finally:\n",
    "    print('The end')"
   ]
  },
  {
   "cell_type": "code",
   "execution_count": 13,
   "metadata": {},
   "outputs": [
    {
     "name": "stdout",
     "output_type": "stream",
     "text": [
      "Error\n",
      "The end\n"
     ]
    }
   ],
   "source": [
    "try:\n",
    "    a = 1/0   #ZeroDivisionError\n",
    "except:\n",
    "    print('Error')\n",
    "else:\n",
    "    print('No error')\n",
    "finally:\n",
    "    print('The end')"
   ]
  },
  {
   "cell_type": "code",
   "execution_count": 1,
   "metadata": {},
   "outputs": [
    {
     "name": "stdout",
     "output_type": "stream",
     "text": [
      "error 1\n",
      "no error\n",
      "The end\n"
     ]
    }
   ],
   "source": [
    "try:\n",
    "    try:\n",
    "        a = 1/0\n",
    "    except:\n",
    "        print('error 1')\n",
    "except:\n",
    "    print('error 2')\n",
    "else:\n",
    "    print(\"no error\")\n",
    "finally:\n",
    "    print('The end')"
   ]
  },
  {
   "cell_type": "code",
   "execution_count": 29,
   "metadata": {},
   "outputs": [
    {
     "name": "stdout",
     "output_type": "stream",
     "text": [
      "division by zero\n",
      "final\n"
     ]
    }
   ],
   "source": [
    "#시스템 중단 없이 실행하며 Error 설명\n",
    "try:\n",
    "    a=1/0\n",
    "except AssertionError:\n",
    "    print('A')\n",
    "else: \n",
    "    print('Else')\n",
    "finally:\n",
    "    print('final')"
   ]
  },
  {
   "cell_type": "markdown",
   "metadata": {},
   "source": [
    "#### 6 Assert \n",
    "-  `AssertionError ` : **검증식 값이 거짓이면 에러를 강제로 발생** 시킴\n",
    "-  Assert 이후 true/false 를 반환할수 있는 검증식 필요"
   ]
  },
  {
   "cell_type": "code",
   "execution_count": 50,
   "metadata": {},
   "outputs": [
    {
     "ename": "AssertionError",
     "evalue": "",
     "output_type": "error",
     "traceback": [
      "\u001b[0;31m---------------------------------------------------------------------------\u001b[0m",
      "\u001b[0;31mAssertionError\u001b[0m                            Traceback (most recent call last)",
      "\u001b[0;32m<ipython-input-50-8662c28a3ebf>\u001b[0m in \u001b[0;36m<module>\u001b[0;34m\u001b[0m\n\u001b[1;32m      1\u001b[0m \u001b[0;31m# a는1인데 1이 아니기 떄문에 AssertionError\u001b[0m\u001b[0;34m\u001b[0m\u001b[0;34m\u001b[0m\u001b[0;34m\u001b[0m\u001b[0m\n\u001b[1;32m      2\u001b[0m \u001b[0ma\u001b[0m\u001b[0;34m=\u001b[0m\u001b[0;36m1\u001b[0m\u001b[0;34m\u001b[0m\u001b[0;34m\u001b[0m\u001b[0m\n\u001b[0;32m----> 3\u001b[0;31m \u001b[0;32massert\u001b[0m \u001b[0ma\u001b[0m\u001b[0;34m!=\u001b[0m\u001b[0;36m1\u001b[0m\u001b[0;34m\u001b[0m\u001b[0;34m\u001b[0m\u001b[0m\n\u001b[0m",
      "\u001b[0;31mAssertionError\u001b[0m: "
     ]
    }
   ],
   "source": [
    "  # AssertionError: a는1인데 1이 아니냐는 검증식이 거짓이므로 에러 \n",
    "a=1\n",
    "assert a!=1 "
   ]
  },
  {
   "cell_type": "markdown",
   "metadata": {},
   "source": [
    "#### 7 Raise\n",
    "\n",
    "- **예외 에러 강제로 발생**시켜 프로그램이 정상적으로 실행되지 않을때 알림\n",
    "- Raise ~ From"
   ]
  },
  {
   "cell_type": "code",
   "execution_count": 343,
   "metadata": {},
   "outputs": [
    {
     "name": "stdout",
     "output_type": "stream",
     "text": [
      "0으로 나누는 예외가 발생\n"
     ]
    },
    {
     "ename": "ZeroDivisionError",
     "evalue": "0으로 나눔",
     "output_type": "error",
     "traceback": [
      "\u001b[0;31m---------------------------------------------------------------------------\u001b[0m",
      "\u001b[0;31mZeroDivisionError\u001b[0m                         Traceback (most recent call last)",
      "\u001b[0;32m<ipython-input-343-be4c047e2e46>\u001b[0m in \u001b[0;36m<module>\u001b[0;34m\u001b[0m\n\u001b[1;32m      2\u001b[0m \u001b[0;32mtry\u001b[0m\u001b[0;34m:\u001b[0m\u001b[0;34m\u001b[0m\u001b[0;34m\u001b[0m\u001b[0m\n\u001b[0;32m----> 3\u001b[0;31m     \u001b[0ma\u001b[0m\u001b[0;34m=\u001b[0m\u001b[0;36m1\u001b[0m\u001b[0;34m/\u001b[0m\u001b[0;36m0\u001b[0m\u001b[0;34m\u001b[0m\u001b[0;34m\u001b[0m\u001b[0m\n\u001b[0m\u001b[1;32m      4\u001b[0m \u001b[0;32mexcept\u001b[0m \u001b[0mZeroDivisionError\u001b[0m \u001b[0;32mas\u001b[0m \u001b[0me\u001b[0m\u001b[0;34m:\u001b[0m\u001b[0;34m\u001b[0m\u001b[0;34m\u001b[0m\u001b[0m\n",
      "\u001b[0;31mZeroDivisionError\u001b[0m: division by zero",
      "\nDuring handling of the above exception, another exception occurred:\n",
      "\u001b[0;31mZeroDivisionError\u001b[0m                         Traceback (most recent call last)",
      "\u001b[0;32m<ipython-input-343-be4c047e2e46>\u001b[0m in \u001b[0;36m<module>\u001b[0;34m\u001b[0m\n\u001b[1;32m      4\u001b[0m \u001b[0;32mexcept\u001b[0m \u001b[0mZeroDivisionError\u001b[0m \u001b[0;32mas\u001b[0m \u001b[0me\u001b[0m\u001b[0;34m:\u001b[0m\u001b[0;34m\u001b[0m\u001b[0;34m\u001b[0m\u001b[0m\n\u001b[1;32m      5\u001b[0m     \u001b[0mprint\u001b[0m\u001b[0;34m(\u001b[0m\u001b[0;34m'0으로 나누는 예외가 발생'\u001b[0m\u001b[0;34m)\u001b[0m\u001b[0;34m\u001b[0m\u001b[0;34m\u001b[0m\u001b[0m\n\u001b[0;32m----> 6\u001b[0;31m     \u001b[0;32mraise\u001b[0m \u001b[0mZeroDivisionError\u001b[0m\u001b[0;34m(\u001b[0m\u001b[0;34m\"0으로 나눔\"\u001b[0m\u001b[0;34m)\u001b[0m\u001b[0;34m\u001b[0m\u001b[0;34m\u001b[0m\u001b[0m\n\u001b[0m",
      "\u001b[0;31mZeroDivisionError\u001b[0m: 0으로 나눔"
     ]
    }
   ],
   "source": [
    "#1/0은 0으로 나누는 에러가 발생되므로 에러 처리\n",
    "try:\n",
    "    a=1/0\n",
    "except ZeroDivisionError as e:\n",
    "    print('0으로 나누는 예외가 발생')\n",
    "    raise ZeroDivisionError(\"0으로 나눔\")"
   ]
  },
  {
   "cell_type": "code",
   "execution_count": 342,
   "metadata": {},
   "outputs": [
    {
     "name": "stdout",
     "output_type": "stream",
     "text": [
      "division by zero\n"
     ]
    },
    {
     "ename": "KeyError",
     "evalue": "'key error '",
     "output_type": "error",
     "traceback": [
      "\u001b[0;31m---------------------------------------------------------------------------\u001b[0m",
      "\u001b[0;31mZeroDivisionError\u001b[0m                         Traceback (most recent call last)",
      "\u001b[0;32m<ipython-input-342-d0cbbaac0424>\u001b[0m in \u001b[0;36m<module>\u001b[0;34m\u001b[0m\n\u001b[1;32m      1\u001b[0m \u001b[0;32mtry\u001b[0m\u001b[0;34m:\u001b[0m\u001b[0;34m\u001b[0m\u001b[0;34m\u001b[0m\u001b[0m\n\u001b[0;32m----> 2\u001b[0;31m     \u001b[0;36m1\u001b[0m\u001b[0;34m/\u001b[0m\u001b[0;36m0\u001b[0m\u001b[0;34m\u001b[0m\u001b[0;34m\u001b[0m\u001b[0m\n\u001b[0m\u001b[1;32m      3\u001b[0m \u001b[0;32mexcept\u001b[0m \u001b[0mException\u001b[0m \u001b[0;32mas\u001b[0m \u001b[0me\u001b[0m\u001b[0;34m:\u001b[0m\u001b[0;34m\u001b[0m\u001b[0;34m\u001b[0m\u001b[0m\n",
      "\u001b[0;31mZeroDivisionError\u001b[0m: division by zero",
      "\nDuring handling of the above exception, another exception occurred:\n",
      "\u001b[0;31mKeyError\u001b[0m                                  Traceback (most recent call last)",
      "\u001b[0;32m<ipython-input-342-d0cbbaac0424>\u001b[0m in \u001b[0;36m<module>\u001b[0;34m\u001b[0m\n\u001b[1;32m      3\u001b[0m \u001b[0;32mexcept\u001b[0m \u001b[0mException\u001b[0m \u001b[0;32mas\u001b[0m \u001b[0me\u001b[0m\u001b[0;34m:\u001b[0m\u001b[0;34m\u001b[0m\u001b[0;34m\u001b[0m\u001b[0m\n\u001b[1;32m      4\u001b[0m     \u001b[0mprint\u001b[0m\u001b[0;34m(\u001b[0m\u001b[0me\u001b[0m\u001b[0;34m)\u001b[0m\u001b[0;34m\u001b[0m\u001b[0;34m\u001b[0m\u001b[0m\n\u001b[0;32m----> 5\u001b[0;31m     \u001b[0;32mraise\u001b[0m \u001b[0mKeyError\u001b[0m\u001b[0;34m(\u001b[0m\u001b[0;34m\"key error \"\u001b[0m\u001b[0;34m)\u001b[0m\u001b[0;34m\u001b[0m\u001b[0;34m\u001b[0m\u001b[0m\n\u001b[0m",
      "\u001b[0;31mKeyError\u001b[0m: 'key error '"
     ]
    }
   ],
   "source": [
    "try:\n",
    "    1/0\n",
    "except Exception as e:\n",
    "    print(e)\n",
    "    raise KeyError(\"key error \")"
   ]
  },
  {
   "cell_type": "markdown",
   "metadata": {},
   "source": [
    "#### 8 From\n",
    "어디로 부터 발생하는지 구체적으로 알려줌"
   ]
  },
  {
   "cell_type": "code",
   "execution_count": 347,
   "metadata": {},
   "outputs": [
    {
     "name": "stdout",
     "output_type": "stream",
     "text": [
      "division by zero\n"
     ]
    },
    {
     "ename": "KeyError",
     "evalue": "",
     "output_type": "error",
     "traceback": [
      "\u001b[0;31m---------------------------------------------------------------------------\u001b[0m",
      "\u001b[0;31mKeyError\u001b[0m                                  Traceback (most recent call last)",
      "\u001b[0;32m<ipython-input-347-3aff570ad6d3>\u001b[0m in \u001b[0;36m<module>\u001b[0;34m\u001b[0m\n\u001b[1;32m      3\u001b[0m \u001b[0;32mexcept\u001b[0m \u001b[0mException\u001b[0m \u001b[0;32mas\u001b[0m \u001b[0me\u001b[0m\u001b[0;34m:\u001b[0m\u001b[0;34m\u001b[0m\u001b[0;34m\u001b[0m\u001b[0m\n\u001b[1;32m      4\u001b[0m     \u001b[0mprint\u001b[0m\u001b[0;34m(\u001b[0m\u001b[0me\u001b[0m\u001b[0;34m)\u001b[0m\u001b[0;34m\u001b[0m\u001b[0;34m\u001b[0m\u001b[0m\n\u001b[0;32m----> 5\u001b[0;31m     \u001b[0;32mraise\u001b[0m \u001b[0mKeyError\u001b[0m \u001b[0;32mfrom\u001b[0m \u001b[0;32mNone\u001b[0m\u001b[0;34m\u001b[0m\u001b[0;34m\u001b[0m\u001b[0m\n\u001b[0m",
      "\u001b[0;31mKeyError\u001b[0m: "
     ]
    }
   ],
   "source": [
    "#마지막 에러만 발생\n",
    "try:\n",
    "    1/0\n",
    "except Exception as e:\n",
    "    print(e)\n",
    "    raise KeyError from None"
   ]
  },
  {
   "cell_type": "code",
   "execution_count": 348,
   "metadata": {},
   "outputs": [
    {
     "name": "stdout",
     "output_type": "stream",
     "text": [
      "division by zero\n"
     ]
    },
    {
     "ename": "KeyError",
     "evalue": "",
     "output_type": "error",
     "traceback": [
      "\u001b[0;31m---------------------------------------------------------------------------\u001b[0m",
      "\u001b[0;31mZeroDivisionError\u001b[0m                         Traceback (most recent call last)",
      "\u001b[0;32m<ipython-input-348-6ecf6be98972>\u001b[0m in \u001b[0;36m<module>\u001b[0;34m\u001b[0m\n\u001b[1;32m      1\u001b[0m \u001b[0;32mtry\u001b[0m\u001b[0;34m:\u001b[0m\u001b[0;34m\u001b[0m\u001b[0;34m\u001b[0m\u001b[0m\n\u001b[0;32m----> 2\u001b[0;31m     \u001b[0;36m1\u001b[0m\u001b[0;34m/\u001b[0m\u001b[0;36m0\u001b[0m\u001b[0;34m\u001b[0m\u001b[0;34m\u001b[0m\u001b[0m\n\u001b[0m\u001b[1;32m      3\u001b[0m \u001b[0;32mexcept\u001b[0m \u001b[0mException\u001b[0m \u001b[0;32mas\u001b[0m \u001b[0me\u001b[0m\u001b[0;34m:\u001b[0m\u001b[0;34m\u001b[0m\u001b[0;34m\u001b[0m\u001b[0m\n",
      "\u001b[0;31mZeroDivisionError\u001b[0m: division by zero",
      "\nThe above exception was the direct cause of the following exception:\n",
      "\u001b[0;31mKeyError\u001b[0m                                  Traceback (most recent call last)",
      "\u001b[0;32m<ipython-input-348-6ecf6be98972>\u001b[0m in \u001b[0;36m<module>\u001b[0;34m\u001b[0m\n\u001b[1;32m      3\u001b[0m \u001b[0;32mexcept\u001b[0m \u001b[0mException\u001b[0m \u001b[0;32mas\u001b[0m \u001b[0me\u001b[0m\u001b[0;34m:\u001b[0m\u001b[0;34m\u001b[0m\u001b[0;34m\u001b[0m\u001b[0m\n\u001b[1;32m      4\u001b[0m     \u001b[0mprint\u001b[0m\u001b[0;34m(\u001b[0m\u001b[0me\u001b[0m\u001b[0;34m)\u001b[0m\u001b[0;34m\u001b[0m\u001b[0;34m\u001b[0m\u001b[0m\n\u001b[0;32m----> 5\u001b[0;31m     \u001b[0;32mraise\u001b[0m \u001b[0mKeyError\u001b[0m \u001b[0;32mfrom\u001b[0m \u001b[0me\u001b[0m\u001b[0;34m\u001b[0m\u001b[0;34m\u001b[0m\u001b[0m\n\u001b[0m",
      "\u001b[0;31mKeyError\u001b[0m: "
     ]
    }
   ],
   "source": [
    "try:\n",
    "    1/0\n",
    "except Exception as e:\n",
    "    print(e)\n",
    "    raise KeyError from e"
   ]
  },
  {
   "cell_type": "markdown",
   "metadata": {},
   "source": [
    "---"
   ]
  },
  {
   "cell_type": "markdown",
   "metadata": {},
   "source": [
    "### Functional Programming\n",
    "\n",
    "프로그래밍 언어가 문제를 분해하는 방법\n",
    "- 절차적 언어 : 어떻게 문제를 해결해야하는지 지시사항(명령)\n",
    "- 선언적 언어:해결해야할 문제를 설명하는 사양 작성\n",
    "-  객체지향 언어: 객체의 모음 조작\n",
    "- **함수형 프로그래밍**: 문제를 여개의 함수로 분해\n",
    "    - 재사용을 위해서 encapsulation\n",
    "    - 정의역의 원소들을 공역의 원소로 사상(mapping)\n",
    "    \n"
   ]
  },
  {
   "cell_type": "code",
   "execution_count": 99,
   "metadata": {},
   "outputs": [
    {
     "name": "stdout",
     "output_type": "stream",
     "text": [
      "값들의 평균:  2.5\n"
     ]
    }
   ],
   "source": [
    "#여러 줄의 코드를 각 각 실행해야함\n",
    "x =[1,2,3,4]\n",
    "sum_x=sum(x)\n",
    "count_x=len(x)\n",
    "avg_x=sum_x/count_x\n",
    "print( '값들의 평균: ',avg_x)"
   ]
  },
  {
   "cell_type": "markdown",
   "metadata": {},
   "source": [
    "### Function\n",
    "- 내장함수(built-in)함수 : 파이썬 인터프리터에는 사용 가능한 함수와 형으로 모듈이나 패키지를 가져오지 않고도 기본적으로 내장되어있음.\n",
    "    예. len( ) , sum( ) , print()\n",
    "- Parameter 개수와 Argument 개수 동일해야함\n",
    "- 파이썬 공식 문서 참고 : https://docs.python.org/ko/3/tutorial/controlflow.html#more-on-defining-functions\n",
    "\n"
   ]
  },
  {
   "cell_type": "code",
   "execution_count": 91,
   "metadata": {},
   "outputs": [
    {
     "data": {
      "text/plain": [
       "10"
      ]
     },
     "execution_count": 91,
     "metadata": {},
     "output_type": "execute_result"
    }
   ],
   "source": [
    "#내장함수(built-in function)\n",
    "sum([1,2,3,4])"
   ]
  },
  {
   "cell_type": "markdown",
   "metadata": {},
   "source": [
    "#### 함수 선언/정의\n",
    "- **매개변수(Parameter): 함수를 정의**할 때 쓰는 변수  \n",
    "\n",
    ">**`def`** 함수이름(매개변수(Parameter) ). <br>\n",
    "statement1.....<br>\n"
   ]
  },
  {
   "cell_type": "markdown",
   "metadata": {},
   "source": [
    "함수를 이용하면 여러줄의 코드를 **재사용 할 수 있어 편리**\n",
    "\n",
    "- 예시1 :파이썬에서는 평균을 구하는 내장함수가 없어 함수 정의하는  예시\n"
   ]
  },
  {
   "cell_type": "markdown",
   "metadata": {},
   "source": [
    "1. 평균 함수정의"
   ]
  },
  {
   "cell_type": "code",
   "execution_count": 96,
   "metadata": {},
   "outputs": [],
   "source": [
    "# 여러줄의 코드를  함수로 묶어 정의\n",
    "def avg(t):\n",
    "    x =t\n",
    "    sum_x=sum(x)\n",
    "    count_x=len(x)\n",
    "    avg_x=sum_x/count_x\n",
    "    print( '값들의 평균: ',avg_x)"
   ]
  },
  {
   "cell_type": "code",
   "execution_count": 97,
   "metadata": {},
   "outputs": [
    {
     "name": "stdout",
     "output_type": "stream",
     "text": [
      "값들의 평균:  2.5\n"
     ]
    }
   ],
   "source": [
    "#위의 함수를 불러옴\n",
    "avg([1,2,3,4])"
   ]
  },
  {
   "cell_type": "markdown",
   "metadata": {},
   "source": [
    "2. 평균 함수 호출"
   ]
  },
  {
   "cell_type": "code",
   "execution_count": 98,
   "metadata": {},
   "outputs": [
    {
     "name": "stdout",
     "output_type": "stream",
     "text": [
      "값들의 평균:  4.5\n"
     ]
    }
   ],
   "source": [
    "avg(range(10))"
   ]
  },
  {
   "cell_type": "markdown",
   "metadata": {},
   "source": [
    "예시2. 입력받은 값의 길이를 출력하는 함수\n",
    "1. len() built-in 함수와 동일한 함수 len2  정의"
   ]
  },
  {
   "cell_type": "code",
   "execution_count": 25,
   "metadata": {},
   "outputs": [],
   "source": [
    "def len2(t):\n",
    "    count =0        #초기화\n",
    "    for i in t:        #for 반복문으로 증가 연산자 이용하여 길이 갯수 셈\n",
    "        count +=1\n",
    "    else:               # for 문 끝난 후 else문에서 길이 출력\n",
    "        print(count)"
   ]
  },
  {
   "cell_type": "markdown",
   "metadata": {},
   "source": [
    "2. `함수이름  ( 인자 )`:   함수 호출(call) -> callable.\n",
    "\n"
   ]
  },
  {
   "cell_type": "code",
   "execution_count": 26,
   "metadata": {
    "scrolled": true
   },
   "outputs": [
    {
     "name": "stdout",
     "output_type": "stream",
     "text": [
      "0\n"
     ]
    }
   ],
   "source": [
    "len2('')"
   ]
  },
  {
   "cell_type": "code",
   "execution_count": 27,
   "metadata": {},
   "outputs": [
    {
     "name": "stdout",
     "output_type": "stream",
     "text": [
      "3\n"
     ]
    }
   ],
   "source": [
    "len2('abc')"
   ]
  },
  {
   "cell_type": "code",
   "execution_count": 28,
   "metadata": {},
   "outputs": [
    {
     "data": {
      "text/plain": [
       "3"
      ]
     },
     "execution_count": 28,
     "metadata": {},
     "output_type": "execute_result"
    }
   ],
   "source": [
    "len('abc') #내부의 built-in 함수와 동일한 결과값"
   ]
  },
  {
   "cell_type": "code",
   "execution_count": 100,
   "metadata": {},
   "outputs": [
    {
     "ename": "TypeError",
     "evalue": "len2() takes 1 positional argument but 2 were given",
     "output_type": "error",
     "traceback": [
      "\u001b[0;31m---------------------------------------------------------------------------\u001b[0m",
      "\u001b[0;31mTypeError\u001b[0m                                 Traceback (most recent call last)",
      "\u001b[0;32m<ipython-input-100-2db3036e8193>\u001b[0m in \u001b[0;36m<module>\u001b[0;34m\u001b[0m\n\u001b[0;32m----> 1\u001b[0;31m \u001b[0mlen2\u001b[0m\u001b[0;34m(\u001b[0m\u001b[0;34m'abc'\u001b[0m\u001b[0;34m,\u001b[0m\u001b[0;36m1\u001b[0m\u001b[0;34m)\u001b[0m  \u001b[0;31m#TypeError : 정의한 매개변수는 1개인데 인자2개를 넣어 에러\u001b[0m\u001b[0;34m\u001b[0m\u001b[0;34m\u001b[0m\u001b[0m\n\u001b[0m",
      "\u001b[0;31mTypeError\u001b[0m: len2() takes 1 positional argument but 2 were given"
     ]
    }
   ],
   "source": [
    "len2('abc',1)  #TypeError : 정의한 매개변수는 1개인데 인자2개를 넣어 에러"
   ]
  },
  {
   "cell_type": "markdown",
   "metadata": {},
   "source": [
    "예시3. 피보나치 수열 생성 함수 "
   ]
  },
  {
   "cell_type": "code",
   "execution_count": 1,
   "metadata": {},
   "outputs": [],
   "source": [
    "def fib(n):\n",
    "    \"\"\" Docstring : 피보나치 수열 생성\n",
    "    n= 생성하고 싶은 갯수-1 \"\"\"\n",
    "    a,b =0,1             # 초기화 하기 위한 할당\n",
    "    while a<=n:\n",
    "        print(a,end=' ')\n",
    "        a,b =b, a+b  #swapping\n",
    "    print()"
   ]
  },
  {
   "cell_type": "code",
   "execution_count": 2,
   "metadata": {},
   "outputs": [
    {
     "name": "stdout",
     "output_type": "stream",
     "text": [
      "0 1 1 2 3 5 \n"
     ]
    }
   ],
   "source": [
    "fib(7)"
   ]
  },
  {
   "cell_type": "markdown",
   "metadata": {},
   "source": [
    "예시4. 더하는 함수"
   ]
  },
  {
   "cell_type": "code",
   "execution_count": 261,
   "metadata": {},
   "outputs": [
    {
     "data": {
      "text/plain": [
       "8"
      ]
     },
     "execution_count": 261,
     "metadata": {},
     "output_type": "execute_result"
    }
   ],
   "source": [
    "def add(x,y):\n",
    "    '''x+y'''\n",
    "    return x+y\n",
    "add(3,5)"
   ]
  },
  {
   "cell_type": "markdown",
   "metadata": {},
   "source": [
    "더하는 함수에 다른 형태로 넣으면 원하는 결과값이 나오지 않는것을 알 수 있음"
   ]
  },
  {
   "cell_type": "code",
   "execution_count": 262,
   "metadata": {},
   "outputs": [
    {
     "data": {
      "text/plain": [
       "[2, 7]"
      ]
     },
     "execution_count": 262,
     "metadata": {},
     "output_type": "execute_result"
    }
   ],
   "source": [
    "add([2],[7])"
   ]
  },
  {
   "cell_type": "code",
   "execution_count": 263,
   "metadata": {},
   "outputs": [
    {
     "data": {
      "text/plain": [
       "'35'"
      ]
     },
     "execution_count": 263,
     "metadata": {},
     "output_type": "execute_result"
    }
   ],
   "source": [
    "add('3','5')"
   ]
  },
  {
   "cell_type": "markdown",
   "metadata": {},
   "source": [
    "###### 매개변수 입력 방법\n",
    "\n",
    "1. 인자 순서대로 값 입력\n",
    "2. 키워드 방식:  키워드1=값1, ... 매칭\n",
    "3. 혼합\n",
    "\n",
    " - 자세한 내용은 하단의 [매개변수](#매개변수)에서 다룸"
   ]
  },
  {
   "cell_type": "code",
   "execution_count": 22,
   "metadata": {},
   "outputs": [],
   "source": [
    "def hamsoo(a): #  a는 매개변수\n",
    "    return a"
   ]
  },
  {
   "cell_type": "code",
   "execution_count": 101,
   "metadata": {},
   "outputs": [
    {
     "data": {
      "text/plain": [
       "1"
      ]
     },
     "execution_count": 101,
     "metadata": {},
     "output_type": "execute_result"
    }
   ],
   "source": [
    "hamsoo(1)       # 인자=1 ,  a=1값 리턴 "
   ]
  },
  {
   "cell_type": "code",
   "execution_count": 102,
   "metadata": {},
   "outputs": [
    {
     "data": {
      "text/plain": [
       "<function __main__.hamsoo(a)>"
      ]
     },
     "execution_count": 102,
     "metadata": {},
     "output_type": "execute_result"
    }
   ],
   "source": [
    "hamsoo         #함수에대한 정보 "
   ]
  },
  {
   "cell_type": "markdown",
   "metadata": {},
   "source": [
    "##### 디폴트값 \n",
    "- 함수 선언 시 파라미터의 디폴트값(기본 설정 값) 설정 시 디폴트값 입력은 옵션(생략 가능)\n",
    "- 값을 생략하면  디폴트값 사용."
   ]
  },
  {
   "cell_type": "code",
   "execution_count": 17,
   "metadata": {},
   "outputs": [],
   "source": [
    "def hamsoo(a,b,c=5):   #매개변수 c=5 디폴트 값 설정\n",
    "    return a*b+c"
   ]
  },
  {
   "cell_type": "code",
   "execution_count": 18,
   "metadata": {},
   "outputs": [
    {
     "data": {
      "text/plain": [
       "7"
      ]
     },
     "execution_count": 18,
     "metadata": {},
     "output_type": "execute_result"
    }
   ],
   "source": [
    "hamsoo(1,2)  #매개변수 c=5가 디폴트 값이므로 생략 가능\n",
    "# 1*2_+5=7"
   ]
  },
  {
   "cell_type": "code",
   "execution_count": 19,
   "metadata": {},
   "outputs": [
    {
     "data": {
      "text/plain": [
       "3"
      ]
     },
     "execution_count": 19,
     "metadata": {},
     "output_type": "execute_result"
    }
   ],
   "source": [
    "hamsoo(1,2,1) #디폴트값에서 인자 c=1로 덮어씀\n",
    "#1+2+1-3"
   ]
  },
  {
   "cell_type": "code",
   "execution_count": 5,
   "metadata": {},
   "outputs": [
    {
     "ename": "SyntaxError",
     "evalue": "non-default argument follows default argument (<ipython-input-5-13d18935c77e>, line 2)",
     "output_type": "error",
     "traceback": [
      "\u001b[0;36m  File \u001b[0;32m\"<ipython-input-5-13d18935c77e>\"\u001b[0;36m, line \u001b[0;32m2\u001b[0m\n\u001b[0;31m    def hamsoo(a=5,b,c):\u001b[0m\n\u001b[0m              ^\u001b[0m\n\u001b[0;31mSyntaxError\u001b[0m\u001b[0;31m:\u001b[0m non-default argument follows default argument\n"
     ]
    }
   ],
   "source": [
    "# SyntaxError: 앞에 파라미터가 디폴트값이면 나머지 파라미터도 키워드형식으로 입력 \n",
    "def hamsoo(a=5,b,c):\n",
    "    return a*b+c"
   ]
  },
  {
   "cell_type": "code",
   "execution_count": 104,
   "metadata": {},
   "outputs": [
    {
     "data": {
      "text/plain": [
       "6"
      ]
     },
     "execution_count": 104,
     "metadata": {},
     "output_type": "execute_result"
    }
   ],
   "source": [
    "# 앞에 파라미터가 디폴트값이 있으면 나머지 파라미터도 필요 \n",
    "def hamsoo(a=5,b=1,c=1):\n",
    "    return a*b+c"
   ]
  },
  {
   "cell_type": "code",
   "execution_count": 106,
   "metadata": {},
   "outputs": [
    {
     "data": {
      "text/plain": [
       "6"
      ]
     },
     "execution_count": 106,
     "metadata": {},
     "output_type": "execute_result"
    }
   ],
   "source": [
    "hamsoo()  #a,b,c가 모두 디폴트 값이 있어 에러 없음"
   ]
  },
  {
   "cell_type": "markdown",
   "metadata": {},
   "source": [
    "### Signature"
   ]
  },
  {
   "cell_type": "markdown",
   "metadata": {},
   "source": [
    "`shift` + `tab` 이용하면\n",
    " - 함수의 Signature 사용방법\n",
    " - 함수의 Docstring\n"
   ]
  },
  {
   "cell_type": "code",
   "execution_count": 128,
   "metadata": {},
   "outputs": [
    {
     "data": {
      "text/plain": [
       "<function sum(iterable, start=0, /)>"
      ]
     },
     "execution_count": 128,
     "metadata": {},
     "output_type": "execute_result"
    }
   ],
   "source": [
    "sum  "
   ]
  },
  {
   "cell_type": "markdown",
   "metadata": {},
   "source": [
    "- sum 함수의 siganture: ` signature:um(iterable, start=0, /)  `\n"
   ]
  },
  {
   "cell_type": "markdown",
   "metadata": {},
   "source": [
    "### Docstring\n",
    "- 큰따옴표 3개 `\"\"\"   multi-line string \"\"\"\"`"
   ]
  },
  {
   "cell_type": "code",
   "execution_count": 7,
   "metadata": {},
   "outputs": [
    {
     "data": {
      "text/plain": [
       "1"
      ]
     },
     "execution_count": 7,
     "metadata": {},
     "output_type": "execute_result"
    }
   ],
   "source": [
    "def a():\n",
    "    '''Docstring : 함수에 대한 설명\n",
    "   - 다른사람들 이용시 편리\n",
    "    '''\n",
    "    return 1\n",
    "\n",
    "a()"
   ]
  },
  {
   "cell_type": "code",
   "execution_count": 33,
   "metadata": {},
   "outputs": [
    {
     "data": {
      "text/plain": [
       "<method-wrapper '__abs__' of int object at 0x11030d560>"
      ]
     },
     "execution_count": 33,
     "metadata": {},
     "output_type": "execute_result"
    }
   ],
   "source": [
    "a=-1\n",
    "a.__abs__ #method wrapper <collable>"
   ]
  },
  {
   "cell_type": "code",
   "execution_count": 32,
   "metadata": {},
   "outputs": [
    {
     "data": {
      "text/plain": [
       "1"
      ]
     },
     "execution_count": 32,
     "metadata": {},
     "output_type": "execute_result"
    }
   ],
   "source": [
    "a.__abs__()"
   ]
  },
  {
   "cell_type": "code",
   "execution_count": 35,
   "metadata": {},
   "outputs": [
    {
     "data": {
      "text/plain": [
       "1"
      ]
     },
     "execution_count": 35,
     "metadata": {},
     "output_type": "execute_result"
    }
   ],
   "source": [
    "(-1).__abs__() "
   ]
  },
  {
   "cell_type": "code",
   "execution_count": 39,
   "metadata": {},
   "outputs": [
    {
     "data": {
      "text/plain": [
       "-1.0"
      ]
     },
     "execution_count": 39,
     "metadata": {},
     "output_type": "execute_result"
    }
   ],
   "source": [
    "-1. .__abs__() #연산자 우선순위 리터널 > "
   ]
  },
  {
   "cell_type": "markdown",
   "metadata": {},
   "source": [
    "#### 매개변수 \n",
    "- **매개변수(Parameter): 함수를 정의**할 때 쓰는 변수  \n",
    "\n",
    "\n",
    "함수의 매개변수 종류 \n",
    "   1. Positional 방식\n",
    "   2.  Keyword 방식\n",
    "   3. Positional과 Keyword 혼합\n",
    "   4. Positional only\n",
    "   5. Keword only\n",
    "   6. 가변 포지셔널\n",
    "   7. 가변 키워드\n",
    "--- \n",
    "#### 1. Positional 방식"
   ]
  },
  {
   "cell_type": "markdown",
   "metadata": {},
   "source": [
    "- **선언한 파라미터의 순서와  인자의 입력 순서,갯수 동일**해야함"
   ]
  },
  {
   "cell_type": "code",
   "execution_count": 181,
   "metadata": {},
   "outputs": [
    {
     "data": {
      "text/plain": [
       "(3, 2, 1)"
      ]
     },
     "execution_count": 181,
     "metadata": {},
     "output_type": "execute_result"
    }
   ],
   "source": [
    "def hamsoo(a,b,c):\n",
    "    return a  ,b , c   \n",
    "\n",
    "hamsoo(3,2,1)"
   ]
  },
  {
   "cell_type": "code",
   "execution_count": 182,
   "metadata": {},
   "outputs": [
    {
     "data": {
      "text/plain": [
       "(1, 2, 3)"
      ]
     },
     "execution_count": 182,
     "metadata": {},
     "output_type": "execute_result"
    }
   ],
   "source": [
    "#입력 순서에따라  결과값 상이함을 알수 있음\n",
    "hamsoo(1,2,3)"
   ]
  },
  {
   "cell_type": "markdown",
   "metadata": {},
   "source": [
    "TypeError : hamsoo()에서 매개변수 c에 대응하는 positional argument를 입력하지 않아서 에러발생."
   ]
  },
  {
   "cell_type": "code",
   "execution_count": 183,
   "metadata": {
    "scrolled": true
   },
   "outputs": [
    {
     "ename": "TypeError",
     "evalue": "hamsoo() missing 1 required positional argument: 'c'",
     "output_type": "error",
     "traceback": [
      "\u001b[0;31m---------------------------------------------------------------------------\u001b[0m",
      "\u001b[0;31mTypeError\u001b[0m                                 Traceback (most recent call last)",
      "\u001b[0;32m<ipython-input-183-3f847ef93d8e>\u001b[0m in \u001b[0;36m<module>\u001b[0;34m\u001b[0m\n\u001b[0;32m----> 1\u001b[0;31m \u001b[0mhamsoo\u001b[0m\u001b[0;34m(\u001b[0m\u001b[0;36m1\u001b[0m\u001b[0;34m,\u001b[0m\u001b[0;36m2\u001b[0m\u001b[0;34m)\u001b[0m\u001b[0;34m\u001b[0m\u001b[0;34m\u001b[0m\u001b[0m\n\u001b[0m",
      "\u001b[0;31mTypeError\u001b[0m: hamsoo() missing 1 required positional argument: 'c'"
     ]
    }
   ],
   "source": [
    "hamsoo(1,2)"
   ]
  },
  {
   "cell_type": "markdown",
   "metadata": {},
   "source": [
    "#### 2. Keyword 방식\n",
    "- **순서에 관계없이** 정의한 매개변수(Parameter) 이름에 따라 값 대입."
   ]
  },
  {
   "cell_type": "code",
   "execution_count": 184,
   "metadata": {},
   "outputs": [
    {
     "data": {
      "text/plain": [
       "(2, 3, 1)"
      ]
     },
     "execution_count": 184,
     "metadata": {},
     "output_type": "execute_result"
    }
   ],
   "source": [
    "hamsoo(b=3,c=1,a=2)"
   ]
  },
  {
   "cell_type": "code",
   "execution_count": 185,
   "metadata": {},
   "outputs": [
    {
     "data": {
      "text/plain": [
       "(2, 3, 1)"
      ]
     },
     "execution_count": 185,
     "metadata": {},
     "output_type": "execute_result"
    }
   ],
   "source": [
    "hamsoo(c=1,b=3,a=2)"
   ]
  },
  {
   "cell_type": "markdown",
   "metadata": {},
   "source": [
    "#### 3. Positional과 Keyword 혼합"
   ]
  },
  {
   "cell_type": "markdown",
   "metadata": {},
   "source": [
    " keyword 방식 사용한 이후에는 일괄적으로  keyword 방법만 사용 가능"
   ]
  },
  {
   "cell_type": "code",
   "execution_count": 186,
   "metadata": {},
   "outputs": [],
   "source": [
    "def hamsoo(a, b, c):\n",
    "    '''\n",
    "    Docstring: 입력값 & 순서 그대로 출력\n",
    "    '''\n",
    "    return a, b, c"
   ]
  },
  {
   "cell_type": "code",
   "execution_count": 187,
   "metadata": {},
   "outputs": [
    {
     "data": {
      "text/plain": [
       "(1, 3, 2)"
      ]
     },
     "execution_count": 187,
     "metadata": {},
     "output_type": "execute_result"
    }
   ],
   "source": [
    "hamsoo(1, c=2, b=3)"
   ]
  },
  {
   "cell_type": "code",
   "execution_count": 188,
   "metadata": {},
   "outputs": [
    {
     "ename": "SyntaxError",
     "evalue": "positional argument follows keyword argument (<ipython-input-188-e0e57b34c46b>, line 2)",
     "output_type": "error",
     "traceback": [
      "\u001b[0;36m  File \u001b[0;32m\"<ipython-input-188-e0e57b34c46b>\"\u001b[0;36m, line \u001b[0;32m2\u001b[0m\n\u001b[0;31m    hamsoo(c=2, 2, b=3)\u001b[0m\n\u001b[0m               ^\u001b[0m\n\u001b[0;31mSyntaxError\u001b[0m\u001b[0;31m:\u001b[0m positional argument follows keyword argument\n"
     ]
    }
   ],
   "source": [
    "# SyntaxError: keyword, positional, keyword\n",
    "hamsoo(c=2, 2, b=3)"
   ]
  },
  {
   "cell_type": "code",
   "execution_count": 189,
   "metadata": {},
   "outputs": [
    {
     "data": {
      "text/plain": [
       "(2, 3, 2)"
      ]
     },
     "execution_count": 189,
     "metadata": {},
     "output_type": "execute_result"
    }
   ],
   "source": [
    "# SyntaxError: keyword, positional, keyword\n",
    "hamsoo(c=2, a=2, b=3)"
   ]
  },
  {
   "cell_type": "code",
   "execution_count": 190,
   "metadata": {},
   "outputs": [],
   "source": [
    "def hamsoo(a, b, c=4): # 매개변수 b의 기본값은 4\n",
    "    '''연습'''\n",
    "    return a,b,c"
   ]
  },
  {
   "cell_type": "markdown",
   "metadata": {},
   "source": [
    "#### 4. Positional only\n",
    "- `/`의 앞에 오는 인자들 positional 방식으로만 인자를 쓸 수 있도록 강제  \n",
    "- python 3.8부터 가능(이전 버전에서는 사전 정의된 positional only 함수는 있지만, 사용자가 만들 수는 없었다.)"
   ]
  },
  {
   "cell_type": "code",
   "execution_count": 23,
   "metadata": {},
   "outputs": [
    {
     "data": {
      "text/plain": [
       "<function sum(iterable, start=0, /)>"
      ]
     },
     "execution_count": 23,
     "metadata": {},
     "output_type": "execute_result"
    }
   ],
   "source": [
    "sum"
   ]
  },
  {
   "cell_type": "markdown",
   "metadata": {},
   "source": [
    "Signature: sum(iterable, start=0, **/**)"
   ]
  },
  {
   "cell_type": "code",
   "execution_count": 195,
   "metadata": {},
   "outputs": [
    {
     "ename": "SyntaxError",
     "evalue": "invalid syntax (<ipython-input-195-44c7fdd1bdf2>, line 1)",
     "output_type": "error",
     "traceback": [
      "\u001b[0;36m  File \u001b[0;32m\"<ipython-input-195-44c7fdd1bdf2>\"\u001b[0;36m, line \u001b[0;32m1\u001b[0m\n\u001b[0;31m    def hamsoo( a, b, c ,/) :\u001b[0m\n\u001b[0m                         ^\u001b[0m\n\u001b[0;31mSyntaxError\u001b[0m\u001b[0;31m:\u001b[0m invalid syntax\n"
     ]
    }
   ],
   "source": [
    "def hamsoo( a, b, c ,/) :\n",
    "    '''연습'''\n",
    "    return a,b,c"
   ]
  },
  {
   "cell_type": "code",
   "execution_count": 196,
   "metadata": {},
   "outputs": [
    {
     "data": {
      "text/plain": [
       "(1, 2, 3)"
      ]
     },
     "execution_count": 196,
     "metadata": {},
     "output_type": "execute_result"
    }
   ],
   "source": [
    "hamsoo(1,2,3)"
   ]
  },
  {
   "cell_type": "code",
   "execution_count": 197,
   "metadata": {},
   "outputs": [
    {
     "data": {
      "text/plain": [
       "(1, 2, 3)"
      ]
     },
     "execution_count": 197,
     "metadata": {},
     "output_type": "execute_result"
    }
   ],
   "source": [
    "hamsoo(a=1,b=2,c=3)"
   ]
  },
  {
   "cell_type": "markdown",
   "metadata": {},
   "source": [
    "#### 5. Keword only"
   ]
  },
  {
   "cell_type": "markdown",
   "metadata": {},
   "source": [
    "-  `*` 이후로 인자를 keyword 방식으로만 입력하도록 강제  \n"
   ]
  },
  {
   "cell_type": "code",
   "execution_count": 215,
   "metadata": {},
   "outputs": [],
   "source": [
    "def hamsoo(*, a):\n",
    "    '''키워드방식만 '''\n",
    "    return a"
   ]
  },
  {
   "cell_type": "code",
   "execution_count": 217,
   "metadata": {},
   "outputs": [
    {
     "data": {
      "text/plain": [
       "1"
      ]
     },
     "execution_count": 217,
     "metadata": {},
     "output_type": "execute_result"
    }
   ],
   "source": [
    "hamsoo(a=1)"
   ]
  },
  {
   "cell_type": "code",
   "execution_count": 218,
   "metadata": {
    "scrolled": true
   },
   "outputs": [
    {
     "ename": "TypeError",
     "evalue": "hamsoo() got an unexpected keyword argument 'b'",
     "output_type": "error",
     "traceback": [
      "\u001b[0;31m---------------------------------------------------------------------------\u001b[0m",
      "\u001b[0;31mTypeError\u001b[0m                                 Traceback (most recent call last)",
      "\u001b[0;32m<ipython-input-218-d54cbc4b0788>\u001b[0m in \u001b[0;36m<module>\u001b[0;34m\u001b[0m\n\u001b[1;32m      1\u001b[0m \u001b[0;31m# positional 방식은  Error\u001b[0m\u001b[0;34m\u001b[0m\u001b[0;34m\u001b[0m\u001b[0;34m\u001b[0m\u001b[0m\n\u001b[0;32m----> 2\u001b[0;31m \u001b[0mhamsoo\u001b[0m\u001b[0;34m(\u001b[0m\u001b[0;36m1\u001b[0m\u001b[0;34m,\u001b[0m\u001b[0mb\u001b[0m\u001b[0;34m=\u001b[0m\u001b[0;36m2\u001b[0m\u001b[0;34m,\u001b[0m\u001b[0mc\u001b[0m\u001b[0;34m=\u001b[0m\u001b[0;36m3\u001b[0m\u001b[0;34m)\u001b[0m\u001b[0;34m\u001b[0m\u001b[0;34m\u001b[0m\u001b[0m\n\u001b[0m",
      "\u001b[0;31mTypeError\u001b[0m: hamsoo() got an unexpected keyword argument 'b'"
     ]
    }
   ],
   "source": [
    "# positional 방식은  Error\n",
    "hamsoo(1,b=2,c=3)"
   ]
  },
  {
   "cell_type": "markdown",
   "metadata": {},
   "source": [
    "#### 6. 가변 포지셔널"
   ]
  },
  {
   "cell_type": "markdown",
   "metadata": {},
   "source": [
    "`*Parameter`  : **포지셔널 방식**으로 입력되는 **인자의 개수에 상관없이 모두** 받음"
   ]
  },
  {
   "cell_type": "code",
   "execution_count": 238,
   "metadata": {},
   "outputs": [],
   "source": [
    "def hamsoo(*a):\n",
    "    '''포지셔널 방식만 가능\n",
    "     인자개수 제한 없음'''\n",
    "    return a"
   ]
  },
  {
   "cell_type": "code",
   "execution_count": 239,
   "metadata": {},
   "outputs": [
    {
     "data": {
      "text/plain": [
       "()"
      ]
     },
     "execution_count": 239,
     "metadata": {},
     "output_type": "execute_result"
    }
   ],
   "source": [
    "hamsoo()"
   ]
  },
  {
   "cell_type": "code",
   "execution_count": 202,
   "metadata": {},
   "outputs": [
    {
     "data": {
      "text/plain": [
       "(1,)"
      ]
     },
     "execution_count": 202,
     "metadata": {},
     "output_type": "execute_result"
    }
   ],
   "source": [
    "#1개 입력한 경우\n",
    "hamsoo(1)"
   ]
  },
  {
   "cell_type": "code",
   "execution_count": 203,
   "metadata": {},
   "outputs": [
    {
     "data": {
      "text/plain": [
       "(1, 2, 3, 4, 5)"
      ]
     },
     "execution_count": 203,
     "metadata": {},
     "output_type": "execute_result"
    }
   ],
   "source": [
    "#5개 인자 입력한 경우\n",
    "hamsoo(1,2,3,4,5)"
   ]
  },
  {
   "cell_type": "markdown",
   "metadata": {},
   "source": [
    "#### 7. 가변 키워드"
   ]
  },
  {
   "cell_type": "markdown",
   "metadata": {},
   "source": [
    "`**Parameter` : **키워드 방식**으로 입력되는 **인자의 개수에 상관없이 모두** 받음\n",
    "-  입력값 : 매개변수, 인자\n",
    "- 출력값 : dictionary { 매개변수= key, 인자= value } \n",
    "    - 키값 재할당 불가 (유일성)"
   ]
  },
  {
   "cell_type": "code",
   "execution_count": 233,
   "metadata": {},
   "outputs": [],
   "source": [
    "def hamsoo(**a) :\n",
    "    '''\n",
    "  ** : dictionary {키:값}\n",
    "    '''\n",
    "    if 'color' in a:\n",
    "        print(\"다채로움\")\n",
    "    return a\n"
   ]
  },
  {
   "cell_type": "code",
   "execution_count": 235,
   "metadata": {},
   "outputs": [
    {
     "data": {
      "text/plain": [
       "{}"
      ]
     },
     "execution_count": 235,
     "metadata": {},
     "output_type": "execute_result"
    }
   ],
   "source": [
    "# 인자 없는경우.\n",
    "hamsoo()"
   ]
  },
  {
   "cell_type": "code",
   "execution_count": 236,
   "metadata": {},
   "outputs": [
    {
     "name": "stdout",
     "output_type": "stream",
     "text": [
      "다채로움\n"
     ]
    },
    {
     "data": {
      "text/plain": [
       "{'color': 2}"
      ]
     },
     "execution_count": 236,
     "metadata": {},
     "output_type": "execute_result"
    }
   ],
   "source": [
    "hamsoo(color=2)"
   ]
  },
  {
   "cell_type": "code",
   "execution_count": 210,
   "metadata": {},
   "outputs": [
    {
     "data": {
      "text/plain": [
       "{'a': 1}"
      ]
     },
     "execution_count": 210,
     "metadata": {},
     "output_type": "execute_result"
    }
   ],
   "source": [
    "# 인자 1개\n",
    "hamsoo(a=1)"
   ]
  },
  {
   "cell_type": "code",
   "execution_count": 213,
   "metadata": {},
   "outputs": [
    {
     "data": {
      "text/plain": [
       "{'b': 1, 'a': 1, 'c': 1}"
      ]
     },
     "execution_count": 213,
     "metadata": {},
     "output_type": "execute_result"
    }
   ],
   "source": [
    "# 인자 여러개\n",
    "hamsoo(b=1, a=1, c=1)"
   ]
  },
  {
   "cell_type": "code",
   "execution_count": 243,
   "metadata": {},
   "outputs": [],
   "source": [
    "# 가변 키워드에 color가 입력되면 print가 실행되는 조건문이 포함된 함수\n",
    "def hamsoo(**a) :\n",
    "    '''\n",
    "  ** : dictionary {키:값}\n",
    "    '''\n",
    "    if 'color' in a.keys():\n",
    "        print(a.keys())\n",
    "    return None"
   ]
  },
  {
   "cell_type": "code",
   "execution_count": 244,
   "metadata": {},
   "outputs": [],
   "source": [
    "# color가 없으므로 아무것도(None) 리턴하지 않음\n",
    "hamsoo()"
   ]
  },
  {
   "cell_type": "code",
   "execution_count": 245,
   "metadata": {},
   "outputs": [
    {
     "name": "stdout",
     "output_type": "stream",
     "text": [
      "dict_keys(['color'])\n"
     ]
    }
   ],
   "source": [
    "# color가 있으므로 print가 실행\n",
    "hamsoo(color=1)"
   ]
  },
  {
   "cell_type": "markdown",
   "metadata": {},
   "source": [
    "####  혼합\n",
    "- 가변 키워드/가변 포지셔널은 한번 만 사용 가능 "
   ]
  },
  {
   "cell_type": "code",
   "execution_count": 247,
   "metadata": {},
   "outputs": [
    {
     "ename": "SyntaxError",
     "evalue": "invalid syntax (<ipython-input-247-bf541dfa9e51>, line 2)",
     "output_type": "error",
     "traceback": [
      "\u001b[0;36m  File \u001b[0;32m\"<ipython-input-247-bf541dfa9e51>\"\u001b[0;36m, line \u001b[0;32m2\u001b[0m\n\u001b[0;31m    def a(**a, **b):\u001b[0m\n\u001b[0m                ^\u001b[0m\n\u001b[0;31mSyntaxError\u001b[0m\u001b[0;31m:\u001b[0m invalid syntax\n"
     ]
    }
   ],
   "source": [
    "# Error\n",
    "def a(**a, **b):\n",
    "    pass"
   ]
  },
  {
   "cell_type": "markdown",
   "metadata": {},
   "source": [
    "- 가변 키워드 다음에 가변 포지셔널이 올 수 없음"
   ]
  },
  {
   "cell_type": "code",
   "execution_count": 248,
   "metadata": {},
   "outputs": [
    {
     "ename": "SyntaxError",
     "evalue": "invalid syntax (<ipython-input-248-61250a922fa5>, line 2)",
     "output_type": "error",
     "traceback": [
      "\u001b[0;36m  File \u001b[0;32m\"<ipython-input-248-61250a922fa5>\"\u001b[0;36m, line \u001b[0;32m2\u001b[0m\n\u001b[0;31m    def a(**a, *b):\u001b[0m\n\u001b[0m               ^\u001b[0m\n\u001b[0;31mSyntaxError\u001b[0m\u001b[0;31m:\u001b[0m invalid syntax\n"
     ]
    }
   ],
   "source": [
    "# Error\n",
    "def a(**a, *b):\n",
    "    pass"
   ]
  },
  {
   "attachments": {
    "matplot.svg": {
     "image/svg+xml": [
      "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"
     ]
    }
   },
   "cell_type": "markdown",
   "metadata": {},
   "source": [
    " ![matplot.svg](attachment:matplot.svg)\n",
    "\n",
    "[Matplotlib](https://matplotlib.org):  파이썬에서 범용적인 시각화 라이브러리\n",
    "     - pyplot: MATLAB이라는 언어와 같은 명령 스타일 함수들을 갖고 있는 시각화 프레임워크\n",
    "         - plt.plot( y축값)\n",
    "         - plt.bar(x, height) : 바그래프 \n",
    "         - plt.hist(x,y)"
   ]
  },
  {
   "cell_type": "code",
   "execution_count": 253,
   "metadata": {},
   "outputs": [
    {
     "data": {
      "text/plain": [
       "[<matplotlib.lines.Line2D at 0x122773e80>]"
      ]
     },
     "execution_count": 253,
     "metadata": {},
     "output_type": "execute_result"
    },
    {
     "data": {
      "image/png": "[encoded data removed]",
      "text/plain": [
       "<Figure size 432x288 with 1 Axes>"
      ]
     },
     "metadata": {
      "needs_background": "light"
     },
     "output_type": "display_data"
    }
   ],
   "source": [
    "import matplotlib.pyplot as plt\n",
    "plt.plot([1,4,9,25,36])"
   ]
  },
  {
   "cell_type": "code",
   "execution_count": 254,
   "metadata": {},
   "outputs": [
    {
     "data": {
      "text/plain": [
       "[<matplotlib.lines.Line2D at 0x12285f668>]"
      ]
     },
     "execution_count": 254,
     "metadata": {},
     "output_type": "execute_result"
    },
    {
     "data": {
      "image/png": "[encoded data removed]",
      "text/plain": [
       "<Figure size 432x288 with 1 Axes>"
      ]
     },
     "metadata": {
      "needs_background": "light"
     },
     "output_type": "display_data"
    }
   ],
   "source": [
    "plt.plot([0,2,4,6,8,10],[1,2,1,2,1,2],color='navy')\n",
    "#call signatures:  함수 호출, [ ] 생략 가능(option) - 불명확\n",
    "# * 키워드 방식으로만 사용 Othre parameters, custom ** 가변 포지셔널 방식"
   ]
  },
  {
   "cell_type": "code",
   "execution_count": 255,
   "metadata": {},
   "outputs": [
    {
     "data": {
      "text/plain": [
       "<BarContainer object of 3 artists>"
      ]
     },
     "execution_count": 255,
     "metadata": {},
     "output_type": "execute_result"
    },
    {
     "data": {
      "image/png": "[encoded data removed]",
      "text/plain": [
       "<Figure size 432x288 with 1 Axes>"
      ]
     },
     "metadata": {
      "needs_background": "light"
     },
     "output_type": "display_data"
    }
   ],
   "source": [
    "plt.bar([1,2,3], [2,3,2]) #signature: 가변 키워드 사용"
   ]
  },
  {
   "cell_type": "code",
   "execution_count": 71,
   "metadata": {},
   "outputs": [
    {
     "data": {
      "text/plain": [
       "<BarContainer object of 3 artists>"
      ]
     },
     "execution_count": 71,
     "metadata": {},
     "output_type": "execute_result"
    },
    {
     "data": {
      "image/png": "[encoded data removed]",
      "text/plain": [
       "<Figure size 432x288 with 1 Axes>"
      ]
     },
     "metadata": {
      "needs_background": "light"
     },
     "output_type": "display_data"
    }
   ],
   "source": [
    "# 가변 키워드 edge 사용\n",
    "plt.bar([1,4,9], [1,2,3], align=\"edge\")"
   ]
  },
  {
   "cell_type": "code",
   "execution_count": 70,
   "metadata": {
    "scrolled": true
   },
   "outputs": [
    {
     "data": {
      "text/plain": [
       "<BarContainer object of 3 artists>"
      ]
     },
     "execution_count": 70,
     "metadata": {},
     "output_type": "execute_result"
    },
    {
     "data": {
      "image/png": "[encoded data removed]",
      "text/plain": [
       "<Figure size 432x288 with 1 Axes>"
      ]
     },
     "metadata": {
      "needs_background": "light"
     },
     "output_type": "display_data"
    }
   ],
   "source": [
    "# 가변 키워드 edge, color 사용\n",
    "plt.bar([1,4,9], [1,2,3], align=\"edge\", color=\"gold\")"
   ]
  },
  {
   "cell_type": "code",
   "execution_count": 258,
   "metadata": {},
   "outputs": [
    {
     "data": {
      "text/plain": [
       "<BarContainer object of 5 artists>"
      ]
     },
     "execution_count": 258,
     "metadata": {},
     "output_type": "execute_result"
    },
    {
     "data": {
      "image/png": "[encoded data removed]",
      "text/plain": [
       "<Figure size 432x288 with 1 Axes>"
      ]
     },
     "metadata": {
      "needs_background": "light"
     },
     "output_type": "display_data"
    }
   ],
   "source": [
    "plt.bar((1,2,3,4,5),(1,3,6,3,1),width=1,\n",
    "        edgecolor='White') #kwargs (optional)"
   ]
  }
 ],
 "metadata": {
  "kernelspec": {
   "display_name": "Python 3",
   "language": "python",
   "name": "python3"
  },
  "language_info": {
   "codemirror_mode": {
    "name": "ipython",
    "version": 3
   },
   "file_extension": ".py",
   "mimetype": "text/x-python",
   "name": "python",
   "nbconvert_exporter": "python",
   "pygments_lexer": "ipython3",
   "version": "3.7.3"
  },
  "toc": {
   "base_numbering": 1,
   "nav_menu": {},
   "number_sections": true,
   "sideBar": true,
   "skip_h1_title": true,
   "title_cell": "Table of Contents",
   "title_sidebar": "Contents",
   "toc_cell": true,
   "toc_position": {
    "height": "calc(100% - 180px)",
    "left": "10px",
    "top": "150px",
    "width": "307.2px"
   },
   "toc_section_display": true,
   "toc_window_display": true
  },
  "varInspector": {
   "cols": {
    "lenName": 16,
    "lenType": 16,
    "lenVar": 40
   },
   "kernels_config": {
    "python": {
     "delete_cmd_postfix": "",
     "delete_cmd_prefix": "del ",
     "library": "var_list.py",
     "varRefreshCmd": "print(var_dic_list())"
    },
    "r": {
     "delete_cmd_postfix": ") ",
     "delete_cmd_prefix": "rm(",
     "library": "var_list.r",
     "varRefreshCmd": "cat(var_dic_list()) "
    }
   },
   "types_to_exclude": [
    "module",
    "function",
    "builtin_function_or_method",
    "instance",
    "_Feature"
   ],
   "window_display": false
  }
 },
 "nbformat": 4,
 "nbformat_minor": 2
}
