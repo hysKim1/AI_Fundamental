{
 "cells": [
  {
   "cell_type": "markdown",
   "metadata": {
    "colab_type": "text",
    "id": "kLItxI7bWwwX"
   },
   "source": [
    "# [AI 이노베이션 스퀘어] 11기 기본 저녁반\n",
    "- github: https://github.com/hysKim1/AI_Fundamental\n",
    "    - [파이썬 공식문서]https://docs.python.org/ko/3/\n",
    "    - [Numpy 공식문서]https://numpy.org/devdocs/\n",
    "    - [ML]https://developers.google.com/machine-learning/crash-course/ml-intro?hl=ko\n",
    "    - [DL]https://www.tensorflow.org/\n",
    "---\n",
    "* [1.Tensorflow ](#Tensorflow ) <br>\n",
    "     *  [설치](#Tensorflow-설치)\n",
    "     *  [Numpy vs Tensorflow](#to_numeric)\n",
    "         *  [  constant ](#constant)\n",
    "     * [2.2 연산](#연산)<br>\n",
    "         * [add](#add)<br>\n",
    "         * [reduce_sum](#reduce_sum)<br>\n",
    "         * [Universal function](#Universal-function)<br>\n",
    "         * [broadcasting](#broadcasting)<br>       \n",
    " \n",
    "* [2. DL 과정](#DL-과정) <br>\n",
    "     * [ 데이터](#데이터)\n",
    "     * [holdout](#holdout)<br>\n",
    "     * [ Normalization](#Normalization)<br>\n",
    "     * [ 모델구조](#모델-구조)<br>\n",
    "     * [ 모델 학습 전략 :compile](#모델-학습-전략)<br>\n",
    "     * [ 학습,검정: fit &evaluate ](#학습,검정)<br>\n",
    "\n",
    "\n",
    " ---\n",
    "## Tensorflow\n",
    "### 설치\n",
    "- 설치부터가 장벽!!!\n",
    "\n",
    "- 주피터노트북이 버전에 민감하므로 주피터 노트북에서 설치하지 말고 **anaconda prompt 관리자 권한**으로 이용하여 설치\n",
    "  - anaconda 는 충돌이 나면 알아서 처리하기 때문\n",
    "  - 2점대 버전 선택하여 설치\n",
    "  - 컴퓨터가 GPU가 있는경우 GPU 설정해야함 (50배 속도 향상)"
   ]
  },
  {
   "cell_type": "raw",
   "metadata": {
    "colab": {},
    "colab_type": "code",
    "id": "WudjIvVSW1BV"
   },
   "source": [
    "conda install tensorflow==2.1.0\n",
    "conda install tensorflow==2.2.0"
   ]
  },
  {
   "cell_type": "code",
   "execution_count": null,
   "metadata": {
    "colab": {},
    "colab_type": "code",
    "id": "VJZoJqSMW1uq"
   },
   "outputs": [],
   "source": [
    "#!pip install -U tensorflow"
   ]
  },
  {
   "cell_type": "markdown",
   "metadata": {
    "colab_type": "text",
    "id": "6pS0hx6kXCjk"
   },
   "source": [
    "### 설치 문제점\n",
    "ImportError: DLL load failed: 지정된 모듈을 찾을 수 없습니다.\n",
    "\n",
    "해결 : Visual Studio 2013용 Microsoft Visual C++ 재배포 가능 패키지 다운로드\n",
    "https://support.microsoft.com/ko-kr/help/2977003/the-latest-supported-visual-c-downloads\n",
    " \n",
    " 이 외 문제   \n",
    "해결 2. 설치  안되신분들은 대안 온라인 주피터 노트북 이용\n",
    "- 웹환경이라 느림\n",
    "- 연속으로 12시간 이상 사용 불가\n",
    "Google Codelab https://colab.research.google.com/\n",
    "\n",
    "해결3. 재부팅\n",
    "\"No module named 'tensorflow'\"\n",
    "\n",
    "해결 4. prompt 관리자 권한실행\n",
    "conda install nb_conda"
   ]
  },
  {
   "cell_type": "markdown",
   "metadata": {
    "colab_type": "text",
    "id": "30irngdsW3ac"
   },
   "source": [
    "설치 확인법\n",
    "- import tensorflow as tf가 에러없이 작동됨"
   ]
  },
  {
   "cell_type": "code",
   "execution_count": 2,
   "metadata": {
    "colab": {},
    "colab_type": "code",
    "id": "tHoLgODqKej2"
   },
   "outputs": [],
   "source": [
    "import tensorflow as tf"
   ]
  },
  {
   "cell_type": "code",
   "execution_count": 3,
   "metadata": {
    "colab": {
     "base_uri": "https://localhost:8080/",
     "height": 37
    },
    "colab_type": "code",
    "id": "XLPEcPrMLzPq",
    "outputId": "3bb8eb46-99ba-4937-f073-90061e0db11b"
   },
   "outputs": [
    {
     "data": {
      "text/plain": [
       "'2.3.0'"
      ]
     },
     "execution_count": 3,
     "metadata": {},
     "output_type": "execute_result"
    }
   ],
   "source": [
    "tf.__version__"
   ]
  },
  {
   "cell_type": "code",
   "execution_count": 5,
   "metadata": {
    "colab": {
     "base_uri": "https://localhost:8080/",
     "height": 36
    },
    "colab_type": "code",
    "id": "MXbtazt5hIQQ",
    "outputId": "c9365c2b-03b9-42d8-f44e-f4500ee20a9f"
   },
   "outputs": [
    {
     "data": {
      "text/plain": [
       "'CPython'"
      ]
     },
     "execution_count": 5,
     "metadata": {},
     "output_type": "execute_result"
    }
   ],
   "source": [
    "import platform\n",
    "platform.python_implementation()"
   ]
  },
  {
   "cell_type": "code",
   "execution_count": 6,
   "metadata": {
    "colab": {
     "base_uri": "https://localhost:8080/",
     "height": 36
    },
    "colab_type": "code",
    "id": "G9ZOtCMVhOBt",
    "outputId": "1890e0a3-3cb2-4575-99d1-78cf8c9c0158"
   },
   "outputs": [
    {
     "data": {
      "text/plain": [
       "sys.version_info(major=3, minor=7, micro=6, releaselevel='final', serial=0)"
      ]
     },
     "execution_count": 6,
     "metadata": {},
     "output_type": "execute_result"
    }
   ],
   "source": [
    "import sys\n",
    "sys.version_info"
   ]
  },
  {
   "cell_type": "markdown",
   "metadata": {
    "colab_type": "text",
    "id": "XdlZZSYYMSJn"
   },
   "source": [
    "디버깅 용도로 초반에사용"
   ]
  },
  {
   "cell_type": "code",
   "execution_count": 7,
   "metadata": {
    "colab": {},
    "colab_type": "code",
    "id": "xz3RtPJeLzUD"
   },
   "outputs": [],
   "source": [
    "tf.debugging.set_log_device_placement(True) "
   ]
  },
  {
   "cell_type": "markdown",
   "metadata": {
    "colab_type": "text",
    "id": "jA8bdP5bQYg1"
   },
   "source": [
    "## Numpy vs Tensorflow\n",
    "\n",
    "### numpy 복습\n",
    "\n",
    "- vectorization \n",
    "  - emelment-wise: 같은 위치의 요소를 계산함\n",
    "  - 한번에 core 갯수만큼 한번에 계산됨.\n",
    "- ufunc\n",
    "- broadcating\n",
    "  - 자동으로 형 맞춰줌 \n",
    "- cpu 기반 "
   ]
  },
  {
   "cell_type": "markdown",
   "metadata": {
    "colab_type": "text",
    "id": "Q_Wymf2MMYA2"
   },
   "source": [
    "- Numpy 와 비슷함\n",
    "    - vectorization \n",
    "      - emelment-wise: 같은 위치의 요소를 계산\n",
    "    - ufunc\n",
    "    - broadcating\n",
    "        \n",
    "- numpy와의 차이점: \n",
    "  - GPU TPU와 같은 가속기 지원\n",
    "      - gpu 되는 하드웨어, 소프트웨어 있어야 GPU 기능 지원\n",
    "  -  Neural Network 관련 기능 제공\n",
    "  - 데이터 타입에 민감\n",
    "  - immutable \n",
    "    - constant"
   ]
  },
  {
   "cell_type": "markdown",
   "metadata": {},
   "source": [
    "### constant\n",
    "- tensorflow 상수 텐서 생성\n",
    "- `tf.constant(value, dtype=None, shape=None, name='Const')`\n",
    "    - 값 value: 상수 또는 list 형태\n",
    "    - dtype: 데이터 타입결정 \n",
    "        - 명시하지 않는 경우 값에따라 결정"
   ]
  },
  {
   "cell_type": "code",
   "execution_count": 8,
   "metadata": {
    "colab": {},
    "colab_type": "code",
    "id": "FGvCkE8FLzWr"
   },
   "outputs": [],
   "source": [
    "a=tf.constant([1,2,3]) #int32\n",
    "b=tf.constant([1,2,3],dtype=tf.float64)"
   ]
  },
  {
   "cell_type": "code",
   "execution_count": 9,
   "metadata": {
    "colab": {
     "base_uri": "https://localhost:8080/",
     "height": 176
    },
    "colab_type": "code",
    "id": "7UnbRXNnMt3-",
    "outputId": "24f1571f-a2b3-4d9b-a06d-2b6838d7e446"
   },
   "outputs": [
    {
     "data": {
      "text/plain": [
       "TensorShape([3])"
      ]
     },
     "execution_count": 9,
     "metadata": {},
     "output_type": "execute_result"
    }
   ],
   "source": [
    "b.shape"
   ]
  },
  {
   "cell_type": "code",
   "execution_count": 10,
   "metadata": {
    "colab": {},
    "colab_type": "code",
    "id": "kqD5iV2ULzZl"
   },
   "outputs": [],
   "source": [
    "import numpy as np\n",
    "c= np.array([1,2,3],dtype=np.float32)\n",
    "d= np.array([1,2,3],dtype=np.float64)"
   ]
  },
  {
   "cell_type": "code",
   "execution_count": 11,
   "metadata": {},
   "outputs": [
    {
     "data": {
      "text/plain": [
       "array([1., 2., 3.], dtype=float32)"
      ]
     },
     "execution_count": 11,
     "metadata": {},
     "output_type": "execute_result"
    }
   ],
   "source": [
    "c"
   ]
  },
  {
   "cell_type": "markdown",
   "metadata": {
    "colab_type": "text",
    "id": "qTMvvMhSOPme"
   },
   "source": [
    "- scipy의 특징: numpy 기반으로 과학분야에서 많이 사용하는것을 미리 만들어 놓음\n",
    "- tensofr : Nueral Net에서많이사용한것을 tensofr로 구현해 놓음\n",
    "    - 내부적으로 만들어진 tensor 사용하지만 low levl 을 집접 만들 필요 없음"
   ]
  },
  {
   "cell_type": "markdown",
   "metadata": {
    "colab_type": "text",
    "id": "iCzzE3SYOnvl"
   },
   "source": [
    "## tensor + flow\n",
    "- Tnsor: numpy에서 3차원 이상의 배열 \n",
    "  - 데이터 타입, 크기\n",
    "  - GPU 가속\n",
    "  - 풍부한 연산 library\n",
    "  - tensor 변환\n",
    "  \n",
    "- Flow: feed forward, backpropagtion처럼 값을 연속적으로 보내기떄문에 흐름이라고 볼수 있음\n",
    "    - numpy + auto differenciation(자동미분)\n",
    "       - backpropagation 용이\n",
    "    - MLP(multi-layer perceptron) 과같은 이론을 구현해 놓음\n",
    "\n",
    "### 연산\n",
    "- numpy보다 엄격함\n",
    "- 데이터 타입 동일해야함\n",
    "- element-wise "
   ]
  },
  {
   "cell_type": "markdown",
   "metadata": {},
   "source": [
    "#### add\n",
    "- numpy와 동일\n",
    "    - element-wise로 같은 위치의 원소값을 더함\n",
    "    - broadcasting \n"
   ]
  },
  {
   "cell_type": "code",
   "execution_count": 18,
   "metadata": {
    "colab": {
     "base_uri": "https://localhost:8080/",
     "height": 237
    },
    "colab_type": "code",
    "id": "_F5J7HRaMwmE",
    "outputId": "cc9234ce-5eee-43b0-ef8c-f7788979282f",
    "scrolled": true
   },
   "outputs": [
    {
     "ename": "InvalidArgumentError",
     "evalue": "cannot compute AddV2 as input #1(zero-based) was expected to be a int32 tensor but is a double tensor [Op:AddV2]",
     "output_type": "error",
     "traceback": [
      "\u001b[0;31m---------------------------------------------------------------------------\u001b[0m",
      "\u001b[0;31mInvalidArgumentError\u001b[0m                      Traceback (most recent call last)",
      "\u001b[0;32m<ipython-input-18-ca730b97bf8a>\u001b[0m in \u001b[0;36m<module>\u001b[0;34m\u001b[0m\n\u001b[0;32m----> 1\u001b[0;31m \u001b[0ma\u001b[0m\u001b[0;34m+\u001b[0m\u001b[0mb\u001b[0m\u001b[0;34m\u001b[0m\u001b[0;34m\u001b[0m\u001b[0m\n\u001b[0m",
      "\u001b[0;32m~/opt/anaconda3/lib/python3.7/site-packages/tensorflow/python/ops/math_ops.py\u001b[0m in \u001b[0;36mbinary_op_wrapper\u001b[0;34m(x, y)\u001b[0m\n\u001b[1;32m   1123\u001b[0m     \u001b[0;32mwith\u001b[0m \u001b[0mops\u001b[0m\u001b[0;34m.\u001b[0m\u001b[0mname_scope\u001b[0m\u001b[0;34m(\u001b[0m\u001b[0;32mNone\u001b[0m\u001b[0;34m,\u001b[0m \u001b[0mop_name\u001b[0m\u001b[0;34m,\u001b[0m \u001b[0;34m[\u001b[0m\u001b[0mx\u001b[0m\u001b[0;34m,\u001b[0m \u001b[0my\u001b[0m\u001b[0;34m]\u001b[0m\u001b[0;34m)\u001b[0m \u001b[0;32mas\u001b[0m \u001b[0mname\u001b[0m\u001b[0;34m:\u001b[0m\u001b[0;34m\u001b[0m\u001b[0;34m\u001b[0m\u001b[0m\n\u001b[1;32m   1124\u001b[0m       \u001b[0;32mtry\u001b[0m\u001b[0;34m:\u001b[0m\u001b[0;34m\u001b[0m\u001b[0;34m\u001b[0m\u001b[0m\n\u001b[0;32m-> 1125\u001b[0;31m         \u001b[0;32mreturn\u001b[0m \u001b[0mfunc\u001b[0m\u001b[0;34m(\u001b[0m\u001b[0mx\u001b[0m\u001b[0;34m,\u001b[0m \u001b[0my\u001b[0m\u001b[0;34m,\u001b[0m \u001b[0mname\u001b[0m\u001b[0;34m=\u001b[0m\u001b[0mname\u001b[0m\u001b[0;34m)\u001b[0m\u001b[0;34m\u001b[0m\u001b[0;34m\u001b[0m\u001b[0m\n\u001b[0m\u001b[1;32m   1126\u001b[0m       \u001b[0;32mexcept\u001b[0m \u001b[0;34m(\u001b[0m\u001b[0mTypeError\u001b[0m\u001b[0;34m,\u001b[0m \u001b[0mValueError\u001b[0m\u001b[0;34m)\u001b[0m \u001b[0;32mas\u001b[0m \u001b[0me\u001b[0m\u001b[0;34m:\u001b[0m\u001b[0;34m\u001b[0m\u001b[0;34m\u001b[0m\u001b[0m\n\u001b[1;32m   1127\u001b[0m         \u001b[0;31m# Even if dispatching the op failed, the RHS may be a tensor aware\u001b[0m\u001b[0;34m\u001b[0m\u001b[0;34m\u001b[0m\u001b[0;34m\u001b[0m\u001b[0m\n",
      "\u001b[0;32m~/opt/anaconda3/lib/python3.7/site-packages/tensorflow/python/util/dispatch.py\u001b[0m in \u001b[0;36mwrapper\u001b[0;34m(*args, **kwargs)\u001b[0m\n\u001b[1;32m    199\u001b[0m     \u001b[0;34m\"\"\"Call target, and fall back on dispatchers if there is a TypeError.\"\"\"\u001b[0m\u001b[0;34m\u001b[0m\u001b[0;34m\u001b[0m\u001b[0m\n\u001b[1;32m    200\u001b[0m     \u001b[0;32mtry\u001b[0m\u001b[0;34m:\u001b[0m\u001b[0;34m\u001b[0m\u001b[0;34m\u001b[0m\u001b[0m\n\u001b[0;32m--> 201\u001b[0;31m       \u001b[0;32mreturn\u001b[0m \u001b[0mtarget\u001b[0m\u001b[0;34m(\u001b[0m\u001b[0;34m*\u001b[0m\u001b[0margs\u001b[0m\u001b[0;34m,\u001b[0m \u001b[0;34m**\u001b[0m\u001b[0mkwargs\u001b[0m\u001b[0;34m)\u001b[0m\u001b[0;34m\u001b[0m\u001b[0;34m\u001b[0m\u001b[0m\n\u001b[0m\u001b[1;32m    202\u001b[0m     \u001b[0;32mexcept\u001b[0m \u001b[0;34m(\u001b[0m\u001b[0mTypeError\u001b[0m\u001b[0;34m,\u001b[0m \u001b[0mValueError\u001b[0m\u001b[0;34m)\u001b[0m\u001b[0;34m:\u001b[0m\u001b[0;34m\u001b[0m\u001b[0;34m\u001b[0m\u001b[0m\n\u001b[1;32m    203\u001b[0m       \u001b[0;31m# Note: convert_to_eager_tensor currently raises a ValueError, not a\u001b[0m\u001b[0;34m\u001b[0m\u001b[0;34m\u001b[0m\u001b[0;34m\u001b[0m\u001b[0m\n",
      "\u001b[0;32m~/opt/anaconda3/lib/python3.7/site-packages/tensorflow/python/ops/math_ops.py\u001b[0m in \u001b[0;36m_add_dispatch\u001b[0;34m(x, y, name)\u001b[0m\n\u001b[1;32m   1445\u001b[0m     \u001b[0;32mreturn\u001b[0m \u001b[0mgen_math_ops\u001b[0m\u001b[0;34m.\u001b[0m\u001b[0madd\u001b[0m\u001b[0;34m(\u001b[0m\u001b[0mx\u001b[0m\u001b[0;34m,\u001b[0m \u001b[0my\u001b[0m\u001b[0;34m,\u001b[0m \u001b[0mname\u001b[0m\u001b[0;34m=\u001b[0m\u001b[0mname\u001b[0m\u001b[0;34m)\u001b[0m\u001b[0;34m\u001b[0m\u001b[0;34m\u001b[0m\u001b[0m\n\u001b[1;32m   1446\u001b[0m   \u001b[0;32melse\u001b[0m\u001b[0;34m:\u001b[0m\u001b[0;34m\u001b[0m\u001b[0;34m\u001b[0m\u001b[0m\n\u001b[0;32m-> 1447\u001b[0;31m     \u001b[0;32mreturn\u001b[0m \u001b[0mgen_math_ops\u001b[0m\u001b[0;34m.\u001b[0m\u001b[0madd_v2\u001b[0m\u001b[0;34m(\u001b[0m\u001b[0mx\u001b[0m\u001b[0;34m,\u001b[0m \u001b[0my\u001b[0m\u001b[0;34m,\u001b[0m \u001b[0mname\u001b[0m\u001b[0;34m=\u001b[0m\u001b[0mname\u001b[0m\u001b[0;34m)\u001b[0m\u001b[0;34m\u001b[0m\u001b[0;34m\u001b[0m\u001b[0m\n\u001b[0m\u001b[1;32m   1448\u001b[0m \u001b[0;34m\u001b[0m\u001b[0m\n\u001b[1;32m   1449\u001b[0m \u001b[0;34m\u001b[0m\u001b[0m\n",
      "\u001b[0;32m~/opt/anaconda3/lib/python3.7/site-packages/tensorflow/python/ops/gen_math_ops.py\u001b[0m in \u001b[0;36madd_v2\u001b[0;34m(x, y, name)\u001b[0m\n\u001b[1;32m    484\u001b[0m       \u001b[0;32mreturn\u001b[0m \u001b[0m_result\u001b[0m\u001b[0;34m\u001b[0m\u001b[0;34m\u001b[0m\u001b[0m\n\u001b[1;32m    485\u001b[0m     \u001b[0;32mexcept\u001b[0m \u001b[0m_core\u001b[0m\u001b[0;34m.\u001b[0m\u001b[0m_NotOkStatusException\u001b[0m \u001b[0;32mas\u001b[0m \u001b[0me\u001b[0m\u001b[0;34m:\u001b[0m\u001b[0;34m\u001b[0m\u001b[0;34m\u001b[0m\u001b[0m\n\u001b[0;32m--> 486\u001b[0;31m       \u001b[0m_ops\u001b[0m\u001b[0;34m.\u001b[0m\u001b[0mraise_from_not_ok_status\u001b[0m\u001b[0;34m(\u001b[0m\u001b[0me\u001b[0m\u001b[0;34m,\u001b[0m \u001b[0mname\u001b[0m\u001b[0;34m)\u001b[0m\u001b[0;34m\u001b[0m\u001b[0;34m\u001b[0m\u001b[0m\n\u001b[0m\u001b[1;32m    487\u001b[0m     \u001b[0;32mexcept\u001b[0m \u001b[0m_core\u001b[0m\u001b[0;34m.\u001b[0m\u001b[0m_FallbackException\u001b[0m\u001b[0;34m:\u001b[0m\u001b[0;34m\u001b[0m\u001b[0;34m\u001b[0m\u001b[0m\n\u001b[1;32m    488\u001b[0m       \u001b[0;32mpass\u001b[0m\u001b[0;34m\u001b[0m\u001b[0;34m\u001b[0m\u001b[0m\n",
      "\u001b[0;32m~/opt/anaconda3/lib/python3.7/site-packages/tensorflow/python/framework/ops.py\u001b[0m in \u001b[0;36mraise_from_not_ok_status\u001b[0;34m(e, name)\u001b[0m\n\u001b[1;32m   6841\u001b[0m   \u001b[0mmessage\u001b[0m \u001b[0;34m=\u001b[0m \u001b[0me\u001b[0m\u001b[0;34m.\u001b[0m\u001b[0mmessage\u001b[0m \u001b[0;34m+\u001b[0m \u001b[0;34m(\u001b[0m\u001b[0;34m\" name: \"\u001b[0m \u001b[0;34m+\u001b[0m \u001b[0mname\u001b[0m \u001b[0;32mif\u001b[0m \u001b[0mname\u001b[0m \u001b[0;32mis\u001b[0m \u001b[0;32mnot\u001b[0m \u001b[0;32mNone\u001b[0m \u001b[0;32melse\u001b[0m \u001b[0;34m\"\"\u001b[0m\u001b[0;34m)\u001b[0m\u001b[0;34m\u001b[0m\u001b[0;34m\u001b[0m\u001b[0m\n\u001b[1;32m   6842\u001b[0m   \u001b[0;31m# pylint: disable=protected-access\u001b[0m\u001b[0;34m\u001b[0m\u001b[0;34m\u001b[0m\u001b[0;34m\u001b[0m\u001b[0m\n\u001b[0;32m-> 6843\u001b[0;31m   \u001b[0msix\u001b[0m\u001b[0;34m.\u001b[0m\u001b[0mraise_from\u001b[0m\u001b[0;34m(\u001b[0m\u001b[0mcore\u001b[0m\u001b[0;34m.\u001b[0m\u001b[0m_status_to_exception\u001b[0m\u001b[0;34m(\u001b[0m\u001b[0me\u001b[0m\u001b[0;34m.\u001b[0m\u001b[0mcode\u001b[0m\u001b[0;34m,\u001b[0m \u001b[0mmessage\u001b[0m\u001b[0;34m)\u001b[0m\u001b[0;34m,\u001b[0m \u001b[0;32mNone\u001b[0m\u001b[0;34m)\u001b[0m\u001b[0;34m\u001b[0m\u001b[0;34m\u001b[0m\u001b[0m\n\u001b[0m\u001b[1;32m   6844\u001b[0m   \u001b[0;31m# pylint: enable=protected-access\u001b[0m\u001b[0;34m\u001b[0m\u001b[0;34m\u001b[0m\u001b[0;34m\u001b[0m\u001b[0m\n\u001b[1;32m   6845\u001b[0m \u001b[0;34m\u001b[0m\u001b[0m\n",
      "\u001b[0;32m~/opt/anaconda3/lib/python3.7/site-packages/six.py\u001b[0m in \u001b[0;36mraise_from\u001b[0;34m(value, from_value)\u001b[0m\n",
      "\u001b[0;31mInvalidArgumentError\u001b[0m: cannot compute AddV2 as input #1(zero-based) was expected to be a int32 tensor but is a double tensor [Op:AddV2]"
     ]
    }
   ],
   "source": [
    "a+b #int, float 타입이 맞이않아 error발생"
   ]
  },
  {
   "cell_type": "code",
   "execution_count": 24,
   "metadata": {
    "colab": {
     "base_uri": "https://localhost:8080/",
     "height": 55
    },
    "colab_type": "code",
    "id": "yAbJOnuxRSnA",
    "outputId": "689a65ab-ea4b-4620-ac50-eb2059ea636a"
   },
   "outputs": [
    {
     "name": "stdout",
     "output_type": "stream",
     "text": [
      "Executing op Add in device /job:localhost/replica:0/task:0/device:CPU:0\n"
     ]
    },
    {
     "data": {
      "text/plain": [
       "<tf.Tensor: shape=(2,), dtype=float32, numpy=array([4.2, 5.2], dtype=float32)>"
      ]
     },
     "execution_count": 24,
     "metadata": {},
     "output_type": "execute_result"
    }
   ],
   "source": [
    "tf.add([1.2],[3 , 4])  #broadcasting"
   ]
  },
  {
   "cell_type": "code",
   "execution_count": 21,
   "metadata": {
    "colab": {
     "base_uri": "https://localhost:8080/",
     "height": 55
    },
    "colab_type": "code",
    "id": "cJtIYHPrNz2H",
    "outputId": "53b9cdb5-8eda-4f92-f67c-61bc6e0a5fb9"
   },
   "outputs": [
    {
     "name": "stdout",
     "output_type": "stream",
     "text": [
      "Executing op Add in device /job:localhost/replica:0/task:0/device:CPU:0\n"
     ]
    },
    {
     "data": {
      "text/plain": [
       "<tf.Tensor: shape=(3,), dtype=int32, numpy=array([2, 4, 6], dtype=int32)>"
      ]
     },
     "execution_count": 21,
     "metadata": {},
     "output_type": "execute_result"
    }
   ],
   "source": [
    "tf.add(a,a) #element-wise"
   ]
  },
  {
   "cell_type": "code",
   "execution_count": 22,
   "metadata": {
    "colab": {
     "base_uri": "https://localhost:8080/",
     "height": 55
    },
    "colab_type": "code",
    "id": "h2aY8ryLQDxf",
    "outputId": "fea2b73c-2189-458b-815c-eb430a826dc3"
   },
   "outputs": [
    {
     "name": "stdout",
     "output_type": "stream",
     "text": [
      "Executing op AddV2 in device /job:localhost/replica:0/task:0/device:CPU:0\n"
     ]
    },
    {
     "data": {
      "text/plain": [
       "<tf.Tensor: shape=(3,), dtype=int32, numpy=array([2, 4, 6], dtype=int32)>"
      ]
     },
     "execution_count": 22,
     "metadata": {},
     "output_type": "execute_result"
    }
   ],
   "source": [
    "a+a"
   ]
  },
  {
   "cell_type": "markdown",
   "metadata": {},
   "source": [
    "- numpy는 데이터 타입이 다르면 강제형변환"
   ]
  },
  {
   "cell_type": "code",
   "execution_count": 19,
   "metadata": {
    "colab": {
     "base_uri": "https://localhost:8080/",
     "height": 36
    },
    "colab_type": "code",
    "id": "84VShN1wNy1P",
    "outputId": "5e115be8-219b-4a0b-ffdd-8d66b2cee0a3",
    "scrolled": true
   },
   "outputs": [
    {
     "data": {
      "text/plain": [
       "array([2., 4., 6.])"
      ]
     },
     "execution_count": 19,
     "metadata": {},
     "output_type": "execute_result"
    }
   ],
   "source": [
    "c+d"
   ]
  },
  {
   "cell_type": "markdown",
   "metadata": {},
   "source": [
    "### reduce_sum|\n",
    "- tensor의 모든 원소의 합\n",
    "- `np.add.reduce`와 동일"
   ]
  },
  {
   "cell_type": "code",
   "execution_count": null,
   "metadata": {
    "colab": {
     "base_uri": "https://localhost:8080/",
     "height": 73
    },
    "colab_type": "code",
    "id": "x3Svybu8QNia",
    "outputId": "28dfea21-4d21-4df1-8263-52ead247391c"
   },
   "outputs": [
    {
     "name": "stdout",
     "output_type": "stream",
     "text": [
      "Executing op Range in device /job:localhost/replica:0/task:0/device:CPU:0\n",
      "Executing op Sum in device /job:localhost/replica:0/task:0/device:CPU:0\n"
     ]
    },
    {
     "data": {
      "text/plain": [
       "<tf.Tensor: shape=(), dtype=int32, numpy=6>"
      ]
     },
     "execution_count": 28,
     "metadata": {
      "tags": []
     },
     "output_type": "execute_result"
    }
   ],
   "source": [
    "tf.reduce_sum([1,2,3])"
   ]
  },
  {
   "cell_type": "code",
   "execution_count": null,
   "metadata": {
    "colab": {
     "base_uri": "https://localhost:8080/",
     "height": 36
    },
    "colab_type": "code",
    "id": "sM7CCXz2QE8c",
    "outputId": "27d17e77-1acf-4901-975b-110e96b585cc"
   },
   "outputs": [
    {
     "data": {
      "text/plain": [
       "6"
      ]
     },
     "execution_count": 27,
     "metadata": {
      "tags": []
     },
     "output_type": "execute_result"
    }
   ],
   "source": [
    "np.add.reduce([1,2,3])"
   ]
  },
  {
   "cell_type": "markdown",
   "metadata": {
    "colab_type": "text",
    "id": "4M1awaH6TF0x"
   },
   "source": [
    "### Universal Function"
   ]
  },
  {
   "cell_type": "code",
   "execution_count": null,
   "metadata": {
    "colab": {
     "base_uri": "https://localhost:8080/",
     "height": 55
    },
    "colab_type": "code",
    "id": "NauZhJmdS8s-",
    "outputId": "74dbdec7-8cda-45f1-e2fa-1a9765c6f469"
   },
   "outputs": [
    {
     "name": "stdout",
     "output_type": "stream",
     "text": [
      "Executing op Add in device /job:localhost/replica:0/task:0/device:CPU:0\n"
     ]
    },
    {
     "data": {
      "text/plain": [
       "<tf.Tensor: shape=(2,), dtype=int32, numpy=array([4, 6], dtype=int32)>"
      ]
     },
     "execution_count": 37,
     "metadata": {
      "tags": []
     },
     "output_type": "execute_result"
    }
   ],
   "source": [
    "tf.add([3,3],[1,3])"
   ]
  },
  {
   "cell_type": "code",
   "execution_count": null,
   "metadata": {
    "colab": {
     "base_uri": "https://localhost:8080/",
     "height": 55
    },
    "colab_type": "code",
    "id": "fzctZ7DyQX6l",
    "outputId": "2609d8c0-e66f-48eb-f65c-0be7a8c9d01b",
    "scrolled": true
   },
   "outputs": [
    {
     "name": "stdout",
     "output_type": "stream",
     "text": [
      "Executing op Add in device /job:localhost/replica:0/task:0/device:CPU:0\n"
     ]
    },
    {
     "data": {
      "text/plain": [
       "<tf.Tensor: shape=(), dtype=int32, numpy=7>"
      ]
     },
     "execution_count": 38,
     "metadata": {
      "tags": []
     },
     "output_type": "execute_result"
    }
   ],
   "source": [
    "tf.add(3,4)"
   ]
  },
  {
   "cell_type": "markdown",
   "metadata": {
    "colab_type": "text",
    "id": "mSOu00jxR-NR"
   },
   "source": [
    "### 상호 호환성\n",
    "- numpy함수에 사용하면 numpy 형으로 변환됨\n",
    "- tensorflow > numpy \n",
    "    - numpy 바로 변환 가능 \n",
    "    - 역방향은 가능하지만 권장하지 않음"
   ]
  },
  {
   "cell_type": "markdown",
   "metadata": {},
   "source": [
    "### numpy\n",
    "- Tensor의 내용물을 복사해서 NumPy array(nxm) or scalar(1 x 1 ) 형태로 반환\n",
    "\n",
    "tensor -> numpy"
   ]
  },
  {
   "cell_type": "code",
   "execution_count": 14,
   "metadata": {
    "colab": {
     "base_uri": "https://localhost:8080/",
     "height": 36
    },
    "colab_type": "code",
    "id": "ESPqv2iEM8y8",
    "outputId": "58f8766f-4db6-4b60-e196-fabd2edaa431"
   },
   "outputs": [
    {
     "data": {
      "text/plain": [
       "array([1, 2, 3], dtype=int32)"
      ]
     },
     "execution_count": 14,
     "metadata": {},
     "output_type": "execute_result"
    }
   ],
   "source": [
    "a.numpy()"
   ]
  },
  {
   "cell_type": "code",
   "execution_count": 26,
   "metadata": {
    "colab": {
     "base_uri": "https://localhost:8080/",
     "height": 55
    },
    "colab_type": "code",
    "id": "cwrk5abBQPGr",
    "outputId": "527ef568-9516-41bb-8215-b2518511e51d"
   },
   "outputs": [
    {
     "name": "stdout",
     "output_type": "stream",
     "text": [
      "Executing op AddV2 in device /job:localhost/replica:0/task:0/device:CPU:0\n"
     ]
    },
    {
     "data": {
      "text/plain": [
       "array([2, 4, 6], dtype=int32)"
      ]
     },
     "execution_count": 26,
     "metadata": {},
     "output_type": "execute_result"
    }
   ],
   "source": [
    "(a+a).numpy()"
   ]
  },
  {
   "cell_type": "code",
   "execution_count": 27,
   "metadata": {
    "colab": {
     "base_uri": "https://localhost:8080/",
     "height": 36
    },
    "colab_type": "code",
    "id": "xo0o4SRvQXx9",
    "outputId": "fca076f5-26dd-4398-a4a8-3e0c4f0b6bfd"
   },
   "outputs": [
    {
     "data": {
      "text/plain": [
       "array([2., 4., 6.])"
      ]
     },
     "execution_count": 27,
     "metadata": {},
     "output_type": "execute_result"
    }
   ],
   "source": [
    "np.add(a,b)"
   ]
  },
  {
   "cell_type": "markdown",
   "metadata": {},
   "source": [
    "numpy -> tensor"
   ]
  },
  {
   "cell_type": "code",
   "execution_count": 28,
   "metadata": {
    "colab": {
     "base_uri": "https://localhost:8080/",
     "height": 55
    },
    "colab_type": "code",
    "id": "UGRSZisVQX26",
    "outputId": "f7d45eda-2cb0-42e7-fb9d-97fa44d5243b"
   },
   "outputs": [
    {
     "name": "stdout",
     "output_type": "stream",
     "text": [
      "Executing op Add in device /job:localhost/replica:0/task:0/device:CPU:0\n"
     ]
    },
    {
     "data": {
      "text/plain": [
       "<tf.Tensor: shape=(3,), dtype=float32, numpy=array([2., 4., 6.], dtype=float32)>"
      ]
     },
     "execution_count": 28,
     "metadata": {},
     "output_type": "execute_result"
    }
   ],
   "source": [
    "tf.add(c,d)"
   ]
  },
  {
   "cell_type": "markdown",
   "metadata": {
    "colab_type": "text",
    "id": "t70HLGBhS8YQ"
   },
   "source": [
    "### broadcasting\n",
    "- 길이가 다르지만 알아서 길이 맞춤"
   ]
  },
  {
   "cell_type": "code",
   "execution_count": 29,
   "metadata": {
    "colab": {
     "base_uri": "https://localhost:8080/",
     "height": 55
    },
    "colab_type": "code",
    "id": "S7LBmUt4Sjhn",
    "outputId": "cff34eb0-0f63-4287-dd3e-56ee8a522a1d"
   },
   "outputs": [
    {
     "name": "stdout",
     "output_type": "stream",
     "text": [
      "Executing op AddV2 in device /job:localhost/replica:0/task:0/device:CPU:0\n"
     ]
    },
    {
     "data": {
      "text/plain": [
       "<tf.Tensor: shape=(3,), dtype=int32, numpy=array([4, 5, 6], dtype=int32)>"
      ]
     },
     "execution_count": 29,
     "metadata": {},
     "output_type": "execute_result"
    }
   ],
   "source": [
    "a+3"
   ]
  },
  {
   "cell_type": "markdown",
   "metadata": {
    "colab_type": "text",
    "id": "DAD-PVrfTZU0"
   },
   "source": [
    "## DL 과정\n",
    "\n",
    "- 기기학습의 알고리즘 인 neural network 만들어진 모델을 가져다가 씀.\n",
    "  - 데이터가 가장 중요함\n",
    "#### keras\n",
    "   - 딥러닝에 사용하는것을추상적으로 만들어놓아서 가장 간단하게 구현 가능\n",
    "   - tf의 하위 library\n",
    "   \n",
    "   \n",
    "###  데이터\n",
    "    - 불러오기\n",
    "    - holdout"
   ]
  },
  {
   "cell_type": "code",
   "execution_count": 12,
   "metadata": {
    "colab": {
     "base_uri": "https://localhost:8080/",
     "height": 1000
    },
    "colab_type": "code",
    "id": "Tk33vVdLQX0d",
    "outputId": "56d767c5-9823-47ee-db68-15d63f737fd7"
   },
   "outputs": [
    {
     "data": {
      "text/plain": [
       "((array([[[0, 0, 0, ..., 0, 0, 0],\n",
       "          [0, 0, 0, ..., 0, 0, 0],\n",
       "          [0, 0, 0, ..., 0, 0, 0],\n",
       "          ...,\n",
       "          [0, 0, 0, ..., 0, 0, 0],\n",
       "          [0, 0, 0, ..., 0, 0, 0],\n",
       "          [0, 0, 0, ..., 0, 0, 0]],\n",
       "  \n",
       "         [[0, 0, 0, ..., 0, 0, 0],\n",
       "          [0, 0, 0, ..., 0, 0, 0],\n",
       "          [0, 0, 0, ..., 0, 0, 0],\n",
       "          ...,\n",
       "          [0, 0, 0, ..., 0, 0, 0],\n",
       "          [0, 0, 0, ..., 0, 0, 0],\n",
       "          [0, 0, 0, ..., 0, 0, 0]],\n",
       "  \n",
       "         [[0, 0, 0, ..., 0, 0, 0],\n",
       "          [0, 0, 0, ..., 0, 0, 0],\n",
       "          [0, 0, 0, ..., 0, 0, 0],\n",
       "          ...,\n",
       "          [0, 0, 0, ..., 0, 0, 0],\n",
       "          [0, 0, 0, ..., 0, 0, 0],\n",
       "          [0, 0, 0, ..., 0, 0, 0]],\n",
       "  \n",
       "         ...,\n",
       "  \n",
       "         [[0, 0, 0, ..., 0, 0, 0],\n",
       "          [0, 0, 0, ..., 0, 0, 0],\n",
       "          [0, 0, 0, ..., 0, 0, 0],\n",
       "          ...,\n",
       "          [0, 0, 0, ..., 0, 0, 0],\n",
       "          [0, 0, 0, ..., 0, 0, 0],\n",
       "          [0, 0, 0, ..., 0, 0, 0]],\n",
       "  \n",
       "         [[0, 0, 0, ..., 0, 0, 0],\n",
       "          [0, 0, 0, ..., 0, 0, 0],\n",
       "          [0, 0, 0, ..., 0, 0, 0],\n",
       "          ...,\n",
       "          [0, 0, 0, ..., 0, 0, 0],\n",
       "          [0, 0, 0, ..., 0, 0, 0],\n",
       "          [0, 0, 0, ..., 0, 0, 0]],\n",
       "  \n",
       "         [[0, 0, 0, ..., 0, 0, 0],\n",
       "          [0, 0, 0, ..., 0, 0, 0],\n",
       "          [0, 0, 0, ..., 0, 0, 0],\n",
       "          ...,\n",
       "          [0, 0, 0, ..., 0, 0, 0],\n",
       "          [0, 0, 0, ..., 0, 0, 0],\n",
       "          [0, 0, 0, ..., 0, 0, 0]]], dtype=uint8),\n",
       "  array([5, 0, 4, ..., 5, 6, 8], dtype=uint8)),\n",
       " (array([[[0, 0, 0, ..., 0, 0, 0],\n",
       "          [0, 0, 0, ..., 0, 0, 0],\n",
       "          [0, 0, 0, ..., 0, 0, 0],\n",
       "          ...,\n",
       "          [0, 0, 0, ..., 0, 0, 0],\n",
       "          [0, 0, 0, ..., 0, 0, 0],\n",
       "          [0, 0, 0, ..., 0, 0, 0]],\n",
       "  \n",
       "         [[0, 0, 0, ..., 0, 0, 0],\n",
       "          [0, 0, 0, ..., 0, 0, 0],\n",
       "          [0, 0, 0, ..., 0, 0, 0],\n",
       "          ...,\n",
       "          [0, 0, 0, ..., 0, 0, 0],\n",
       "          [0, 0, 0, ..., 0, 0, 0],\n",
       "          [0, 0, 0, ..., 0, 0, 0]],\n",
       "  \n",
       "         [[0, 0, 0, ..., 0, 0, 0],\n",
       "          [0, 0, 0, ..., 0, 0, 0],\n",
       "          [0, 0, 0, ..., 0, 0, 0],\n",
       "          ...,\n",
       "          [0, 0, 0, ..., 0, 0, 0],\n",
       "          [0, 0, 0, ..., 0, 0, 0],\n",
       "          [0, 0, 0, ..., 0, 0, 0]],\n",
       "  \n",
       "         ...,\n",
       "  \n",
       "         [[0, 0, 0, ..., 0, 0, 0],\n",
       "          [0, 0, 0, ..., 0, 0, 0],\n",
       "          [0, 0, 0, ..., 0, 0, 0],\n",
       "          ...,\n",
       "          [0, 0, 0, ..., 0, 0, 0],\n",
       "          [0, 0, 0, ..., 0, 0, 0],\n",
       "          [0, 0, 0, ..., 0, 0, 0]],\n",
       "  \n",
       "         [[0, 0, 0, ..., 0, 0, 0],\n",
       "          [0, 0, 0, ..., 0, 0, 0],\n",
       "          [0, 0, 0, ..., 0, 0, 0],\n",
       "          ...,\n",
       "          [0, 0, 0, ..., 0, 0, 0],\n",
       "          [0, 0, 0, ..., 0, 0, 0],\n",
       "          [0, 0, 0, ..., 0, 0, 0]],\n",
       "  \n",
       "         [[0, 0, 0, ..., 0, 0, 0],\n",
       "          [0, 0, 0, ..., 0, 0, 0],\n",
       "          [0, 0, 0, ..., 0, 0, 0],\n",
       "          ...,\n",
       "          [0, 0, 0, ..., 0, 0, 0],\n",
       "          [0, 0, 0, ..., 0, 0, 0],\n",
       "          [0, 0, 0, ..., 0, 0, 0]]], dtype=uint8),\n",
       "  array([7, 2, 1, ..., 4, 5, 6], dtype=uint8)))"
      ]
     },
     "execution_count": 12,
     "metadata": {},
     "output_type": "execute_result"
    }
   ],
   "source": [
    "tf.keras.datasets.mnist.load_data()#snake 방식은 function"
   ]
  },
  {
   "cell_type": "markdown",
   "metadata": {},
   "source": [
    "len technique \n",
    " - array 갯수 확인하여  unpacking"
   ]
  },
  {
   "cell_type": "code",
   "execution_count": 13,
   "metadata": {
    "colab": {
     "base_uri": "https://localhost:8080/",
     "height": 36
    },
    "colab_type": "code",
    "id": "K_6byB97TYyH",
    "outputId": "044ca2bf-045c-4638-c5de-fb16ec8f1489"
   },
   "outputs": [
    {
     "data": {
      "text/plain": [
       "2"
      ]
     },
     "execution_count": 13,
     "metadata": {},
     "output_type": "execute_result"
    }
   ],
   "source": [
    "len(tf.keras.datasets.mnist.load_data())"
   ]
  },
  {
   "cell_type": "code",
   "execution_count": 14,
   "metadata": {
    "colab": {},
    "colab_type": "code",
    "id": "hqzI4sSHTY0w"
   },
   "outputs": [],
   "source": [
    "x,y=tf.keras.datasets.mnist.load_data() #2개 unpacking"
   ]
  },
  {
   "cell_type": "code",
   "execution_count": 15,
   "metadata": {
    "colab": {
     "base_uri": "https://localhost:8080/",
     "height": 36
    },
    "colab_type": "code",
    "id": "---T9D-OTYwj",
    "outputId": "2acd9e32-789e-45ed-a08f-a010c20b49ba"
   },
   "outputs": [
    {
     "data": {
      "text/plain": [
       "2"
      ]
     },
     "execution_count": 15,
     "metadata": {},
     "output_type": "execute_result"
    }
   ],
   "source": [
    "len(x) #x array 내부에 array2개  ->unpacking 한번더"
   ]
  },
  {
   "cell_type": "code",
   "execution_count": 16,
   "metadata": {
    "colab": {
     "base_uri": "https://localhost:8080/",
     "height": 36
    },
    "colab_type": "code",
    "id": "L9hX-0QFTYuW",
    "outputId": "13b45c0a-faf5-4f2e-b271-ad1ad899bfd5"
   },
   "outputs": [
    {
     "data": {
      "text/plain": [
       "2"
      ]
     },
     "execution_count": 16,
     "metadata": {},
     "output_type": "execute_result"
    }
   ],
   "source": [
    "len(y) #상동"
   ]
  },
  {
   "cell_type": "markdown",
   "metadata": {
    "colab_type": "text",
    "id": "VFrMcu_uUtQM"
   },
   "source": [
    "### holdout\n",
    "데이터를 train, test로 쪼갬\n",
    "- 학습에 이용하지않는데이터로 검정하기 위해서"
   ]
  },
  {
   "cell_type": "code",
   "execution_count": 18,
   "metadata": {
    "colab": {},
    "colab_type": "code",
    "id": "n8C89FNRTYrj"
   },
   "outputs": [],
   "source": [
    "(X_train,y_train),(X_test,y_test) = tf.keras.datasets.mnist.load_data()\n",
    "# 총 4개의 array이기 때문에 다음과 같이 나눔"
   ]
  },
  {
   "cell_type": "markdown",
   "metadata": {
    "colab_type": "text",
    "id": "MisaO3aZVvry"
   },
   "source": [
    " - 2^8=256 ; 색상은 0~255 개\n",
    " - 2차원이므로 흑백이미지"
   ]
  },
  {
   "cell_type": "code",
   "execution_count": 36,
   "metadata": {
    "colab": {
     "base_uri": "https://localhost:8080/",
     "height": 36
    },
    "colab_type": "code",
    "id": "ZsQ-R0aVVVOD",
    "outputId": "9ec376fd-4aa8-47e8-937f-a061e1761e56"
   },
   "outputs": [
    {
     "data": {
      "text/plain": [
       "(60000, 28, 28)"
      ]
     },
     "execution_count": 36,
     "metadata": {},
     "output_type": "execute_result"
    }
   ],
   "source": [
    "X_train.shape #3차원. 28 x 28 이 6만개"
   ]
  },
  {
   "cell_type": "code",
   "execution_count": 37,
   "metadata": {
    "colab": {
     "base_uri": "https://localhost:8080/",
     "height": 36
    },
    "colab_type": "code",
    "id": "STVsxQA3VXQx",
    "outputId": "be8fe7a3-960a-4efb-fecf-9c3b6a64fb67"
   },
   "outputs": [
    {
     "data": {
      "text/plain": [
       "dtype('uint8')"
      ]
     },
     "execution_count": 37,
     "metadata": {},
     "output_type": "execute_result"
    }
   ],
   "source": [
    "X_train.dtype"
   ]
  },
  {
   "cell_type": "markdown",
   "metadata": {
    "colab_type": "text",
    "id": "CpxBeShnoJgF"
   },
   "source": [
    "###  Normalization \n",
    "- 값을 0~1사이로 변경 \n",
    "- MinMaxScaler 과 동일\n",
    "- $\\frac{x-min}{max-min}=\\frac{x-0}{255-0}= \\frac{x}{255}$"
   ]
  },
  {
   "cell_type": "code",
   "execution_count": 20,
   "metadata": {
    "colab": {},
    "colab_type": "code",
    "id": "FQheRD_jUrxH"
   },
   "outputs": [],
   "source": [
    "X_train, X_test =X_train/255.0 , X_test/ 255.0"
   ]
  },
  {
   "cell_type": "code",
   "execution_count": 21,
   "metadata": {
    "colab": {
     "base_uri": "https://localhost:8080/",
     "height": 1000
    },
    "colab_type": "code",
    "id": "gax3ACgmVhl1",
    "outputId": "0762dcce-1bb0-4190-ebbb-aeb98f246054"
   },
   "outputs": [
    {
     "data": {
      "text/plain": [
       "array([[0.00000000e+00, 0.00000000e+00, 0.00000000e+00, 0.00000000e+00,\n",
       "        0.00000000e+00, 0.00000000e+00, 0.00000000e+00, 0.00000000e+00,\n",
       "        0.00000000e+00, 0.00000000e+00, 0.00000000e+00, 0.00000000e+00,\n",
       "        0.00000000e+00, 0.00000000e+00, 0.00000000e+00, 0.00000000e+00,\n",
       "        0.00000000e+00, 0.00000000e+00, 0.00000000e+00, 0.00000000e+00,\n",
       "        0.00000000e+00, 0.00000000e+00, 0.00000000e+00, 0.00000000e+00,\n",
       "        0.00000000e+00, 0.00000000e+00, 0.00000000e+00, 0.00000000e+00],\n",
       "       [0.00000000e+00, 0.00000000e+00, 0.00000000e+00, 0.00000000e+00,\n",
       "        0.00000000e+00, 0.00000000e+00, 0.00000000e+00, 0.00000000e+00,\n",
       "        0.00000000e+00, 0.00000000e+00, 0.00000000e+00, 0.00000000e+00,\n",
       "        0.00000000e+00, 0.00000000e+00, 0.00000000e+00, 0.00000000e+00,\n",
       "        0.00000000e+00, 0.00000000e+00, 0.00000000e+00, 0.00000000e+00,\n",
       "        0.00000000e+00, 0.00000000e+00, 0.00000000e+00, 0.00000000e+00,\n",
       "        0.00000000e+00, 0.00000000e+00, 0.00000000e+00, 0.00000000e+00],\n",
       "       [0.00000000e+00, 0.00000000e+00, 0.00000000e+00, 0.00000000e+00,\n",
       "        0.00000000e+00, 0.00000000e+00, 0.00000000e+00, 0.00000000e+00,\n",
       "        0.00000000e+00, 0.00000000e+00, 0.00000000e+00, 0.00000000e+00,\n",
       "        0.00000000e+00, 0.00000000e+00, 0.00000000e+00, 0.00000000e+00,\n",
       "        0.00000000e+00, 0.00000000e+00, 0.00000000e+00, 0.00000000e+00,\n",
       "        0.00000000e+00, 0.00000000e+00, 0.00000000e+00, 0.00000000e+00,\n",
       "        0.00000000e+00, 0.00000000e+00, 0.00000000e+00, 0.00000000e+00],\n",
       "       [0.00000000e+00, 0.00000000e+00, 0.00000000e+00, 0.00000000e+00,\n",
       "        0.00000000e+00, 0.00000000e+00, 0.00000000e+00, 0.00000000e+00,\n",
       "        0.00000000e+00, 0.00000000e+00, 0.00000000e+00, 0.00000000e+00,\n",
       "        0.00000000e+00, 0.00000000e+00, 0.00000000e+00, 0.00000000e+00,\n",
       "        0.00000000e+00, 0.00000000e+00, 0.00000000e+00, 0.00000000e+00,\n",
       "        0.00000000e+00, 0.00000000e+00, 0.00000000e+00, 0.00000000e+00,\n",
       "        0.00000000e+00, 0.00000000e+00, 0.00000000e+00, 0.00000000e+00],\n",
       "       [0.00000000e+00, 0.00000000e+00, 0.00000000e+00, 0.00000000e+00,\n",
       "        0.00000000e+00, 0.00000000e+00, 0.00000000e+00, 0.00000000e+00,\n",
       "        0.00000000e+00, 0.00000000e+00, 0.00000000e+00, 0.00000000e+00,\n",
       "        0.00000000e+00, 0.00000000e+00, 0.00000000e+00, 0.00000000e+00,\n",
       "        0.00000000e+00, 0.00000000e+00, 0.00000000e+00, 0.00000000e+00,\n",
       "        0.00000000e+00, 0.00000000e+00, 0.00000000e+00, 0.00000000e+00,\n",
       "        0.00000000e+00, 0.00000000e+00, 0.00000000e+00, 0.00000000e+00],\n",
       "       [0.00000000e+00, 0.00000000e+00, 0.00000000e+00, 0.00000000e+00,\n",
       "        0.00000000e+00, 0.00000000e+00, 0.00000000e+00, 0.00000000e+00,\n",
       "        0.00000000e+00, 0.00000000e+00, 0.00000000e+00, 0.00000000e+00,\n",
       "        4.61361015e-05, 2.76816609e-04, 2.76816609e-04, 2.76816609e-04,\n",
       "        1.93771626e-03, 2.09150327e-03, 2.69127259e-03, 3.99846213e-04,\n",
       "        2.55286428e-03, 3.92156863e-03, 3.79853902e-03, 1.95309496e-03,\n",
       "        0.00000000e+00, 0.00000000e+00, 0.00000000e+00, 0.00000000e+00],\n",
       "       [0.00000000e+00, 0.00000000e+00, 0.00000000e+00, 0.00000000e+00,\n",
       "        0.00000000e+00, 0.00000000e+00, 0.00000000e+00, 0.00000000e+00,\n",
       "        4.61361015e-04, 5.53633218e-04, 1.44559785e-03, 2.36831988e-03,\n",
       "        2.61437908e-03, 3.89081123e-03, 3.89081123e-03, 3.89081123e-03,\n",
       "        3.89081123e-03, 3.89081123e-03, 3.46020761e-03, 2.64513649e-03,\n",
       "        3.89081123e-03, 3.72164552e-03, 2.99884660e-03, 9.84236832e-04,\n",
       "        0.00000000e+00, 0.00000000e+00, 0.00000000e+00, 0.00000000e+00],\n",
       "       [0.00000000e+00, 0.00000000e+00, 0.00000000e+00, 0.00000000e+00,\n",
       "        0.00000000e+00, 0.00000000e+00, 0.00000000e+00, 7.53556324e-04,\n",
       "        3.66013072e-03, 3.89081123e-03, 3.89081123e-03, 3.89081123e-03,\n",
       "        3.89081123e-03, 3.89081123e-03, 3.89081123e-03, 3.89081123e-03,\n",
       "        3.89081123e-03, 3.86005383e-03, 1.43021915e-03, 1.26105344e-03,\n",
       "        1.26105344e-03, 8.61207228e-04, 5.99769319e-04, 0.00000000e+00,\n",
       "        0.00000000e+00, 0.00000000e+00, 0.00000000e+00, 0.00000000e+00],\n",
       "       [0.00000000e+00, 0.00000000e+00, 0.00000000e+00, 0.00000000e+00,\n",
       "        0.00000000e+00, 0.00000000e+00, 0.00000000e+00, 2.76816609e-04,\n",
       "        3.36793541e-03, 3.89081123e-03, 3.89081123e-03, 3.89081123e-03,\n",
       "        3.89081123e-03, 3.89081123e-03, 3.04498270e-03, 2.79892349e-03,\n",
       "        3.79853902e-03, 3.70626682e-03, 0.00000000e+00, 0.00000000e+00,\n",
       "        0.00000000e+00, 0.00000000e+00, 0.00000000e+00, 0.00000000e+00,\n",
       "        0.00000000e+00, 0.00000000e+00, 0.00000000e+00, 0.00000000e+00],\n",
       "       [0.00000000e+00, 0.00000000e+00, 0.00000000e+00, 0.00000000e+00,\n",
       "        0.00000000e+00, 0.00000000e+00, 0.00000000e+00, 0.00000000e+00,\n",
       "        1.23029604e-03, 2.39907728e-03, 1.64552095e-03, 3.89081123e-03,\n",
       "        3.89081123e-03, 3.15263360e-03, 1.69165705e-04, 0.00000000e+00,\n",
       "        6.61284121e-04, 2.36831988e-03, 0.00000000e+00, 0.00000000e+00,\n",
       "        0.00000000e+00, 0.00000000e+00, 0.00000000e+00, 0.00000000e+00,\n",
       "        0.00000000e+00, 0.00000000e+00, 0.00000000e+00, 0.00000000e+00],\n",
       "       [0.00000000e+00, 0.00000000e+00, 0.00000000e+00, 0.00000000e+00,\n",
       "        0.00000000e+00, 0.00000000e+00, 0.00000000e+00, 0.00000000e+00,\n",
       "        0.00000000e+00, 2.15301807e-04, 1.53787005e-05, 2.36831988e-03,\n",
       "        3.89081123e-03, 1.38408304e-03, 0.00000000e+00, 0.00000000e+00,\n",
       "        0.00000000e+00, 0.00000000e+00, 0.00000000e+00, 0.00000000e+00,\n",
       "        0.00000000e+00, 0.00000000e+00, 0.00000000e+00, 0.00000000e+00,\n",
       "        0.00000000e+00, 0.00000000e+00, 0.00000000e+00, 0.00000000e+00],\n",
       "       [0.00000000e+00, 0.00000000e+00, 0.00000000e+00, 0.00000000e+00,\n",
       "        0.00000000e+00, 0.00000000e+00, 0.00000000e+00, 0.00000000e+00,\n",
       "        0.00000000e+00, 0.00000000e+00, 0.00000000e+00, 2.13763937e-03,\n",
       "        3.89081123e-03, 2.92195309e-03, 3.07574010e-05, 0.00000000e+00,\n",
       "        0.00000000e+00, 0.00000000e+00, 0.00000000e+00, 0.00000000e+00,\n",
       "        0.00000000e+00, 0.00000000e+00, 0.00000000e+00, 0.00000000e+00,\n",
       "        0.00000000e+00, 0.00000000e+00, 0.00000000e+00, 0.00000000e+00],\n",
       "       [0.00000000e+00, 0.00000000e+00, 0.00000000e+00, 0.00000000e+00,\n",
       "        0.00000000e+00, 0.00000000e+00, 0.00000000e+00, 0.00000000e+00,\n",
       "        0.00000000e+00, 0.00000000e+00, 0.00000000e+00, 1.69165705e-04,\n",
       "        2.92195309e-03, 3.89081123e-03, 1.07650903e-03, 0.00000000e+00,\n",
       "        0.00000000e+00, 0.00000000e+00, 0.00000000e+00, 0.00000000e+00,\n",
       "        0.00000000e+00, 0.00000000e+00, 0.00000000e+00, 0.00000000e+00,\n",
       "        0.00000000e+00, 0.00000000e+00, 0.00000000e+00, 0.00000000e+00],\n",
       "       [0.00000000e+00, 0.00000000e+00, 0.00000000e+00, 0.00000000e+00,\n",
       "        0.00000000e+00, 0.00000000e+00, 0.00000000e+00, 0.00000000e+00,\n",
       "        0.00000000e+00, 0.00000000e+00, 0.00000000e+00, 0.00000000e+00,\n",
       "        5.38254517e-04, 3.70626682e-03, 3.46020761e-03, 2.46059208e-03,\n",
       "        1.66089965e-03, 1.53787005e-05, 0.00000000e+00, 0.00000000e+00,\n",
       "        0.00000000e+00, 0.00000000e+00, 0.00000000e+00, 0.00000000e+00,\n",
       "        0.00000000e+00, 0.00000000e+00, 0.00000000e+00, 0.00000000e+00],\n",
       "       [0.00000000e+00, 0.00000000e+00, 0.00000000e+00, 0.00000000e+00,\n",
       "        0.00000000e+00, 0.00000000e+00, 0.00000000e+00, 0.00000000e+00,\n",
       "        0.00000000e+00, 0.00000000e+00, 0.00000000e+00, 0.00000000e+00,\n",
       "        0.00000000e+00, 1.24567474e-03, 3.69088812e-03, 3.89081123e-03,\n",
       "        3.89081123e-03, 1.83006536e-03, 3.84467512e-04, 0.00000000e+00,\n",
       "        0.00000000e+00, 0.00000000e+00, 0.00000000e+00, 0.00000000e+00,\n",
       "        0.00000000e+00, 0.00000000e+00, 0.00000000e+00, 0.00000000e+00],\n",
       "       [0.00000000e+00, 0.00000000e+00, 0.00000000e+00, 0.00000000e+00,\n",
       "        0.00000000e+00, 0.00000000e+00, 0.00000000e+00, 0.00000000e+00,\n",
       "        0.00000000e+00, 0.00000000e+00, 0.00000000e+00, 0.00000000e+00,\n",
       "        0.00000000e+00, 0.00000000e+00, 6.92041522e-04, 2.86043829e-03,\n",
       "        3.89081123e-03, 3.89081123e-03, 2.30680507e-03, 4.15224913e-04,\n",
       "        0.00000000e+00, 0.00000000e+00, 0.00000000e+00, 0.00000000e+00,\n",
       "        0.00000000e+00, 0.00000000e+00, 0.00000000e+00, 0.00000000e+00],\n",
       "       [0.00000000e+00, 0.00000000e+00, 0.00000000e+00, 0.00000000e+00,\n",
       "        0.00000000e+00, 0.00000000e+00, 0.00000000e+00, 0.00000000e+00,\n",
       "        0.00000000e+00, 0.00000000e+00, 0.00000000e+00, 0.00000000e+00,\n",
       "        0.00000000e+00, 0.00000000e+00, 0.00000000e+00, 2.46059208e-04,\n",
       "        1.43021915e-03, 3.87543253e-03, 3.89081123e-03, 2.87581699e-03,\n",
       "        0.00000000e+00, 0.00000000e+00, 0.00000000e+00, 0.00000000e+00,\n",
       "        0.00000000e+00, 0.00000000e+00, 0.00000000e+00, 0.00000000e+00],\n",
       "       [0.00000000e+00, 0.00000000e+00, 0.00000000e+00, 0.00000000e+00,\n",
       "        0.00000000e+00, 0.00000000e+00, 0.00000000e+00, 0.00000000e+00,\n",
       "        0.00000000e+00, 0.00000000e+00, 0.00000000e+00, 0.00000000e+00,\n",
       "        0.00000000e+00, 0.00000000e+00, 0.00000000e+00, 0.00000000e+00,\n",
       "        0.00000000e+00, 3.82929642e-03, 3.89081123e-03, 3.82929642e-03,\n",
       "        9.84236832e-04, 0.00000000e+00, 0.00000000e+00, 0.00000000e+00,\n",
       "        0.00000000e+00, 0.00000000e+00, 0.00000000e+00, 0.00000000e+00],\n",
       "       [0.00000000e+00, 0.00000000e+00, 0.00000000e+00, 0.00000000e+00,\n",
       "        0.00000000e+00, 0.00000000e+00, 0.00000000e+00, 0.00000000e+00,\n",
       "        0.00000000e+00, 0.00000000e+00, 0.00000000e+00, 0.00000000e+00,\n",
       "        0.00000000e+00, 0.00000000e+00, 7.07420223e-04, 1.99923106e-03,\n",
       "        2.81430219e-03, 3.89081123e-03, 3.89081123e-03, 3.18339100e-03,\n",
       "        3.07574010e-05, 0.00000000e+00, 0.00000000e+00, 0.00000000e+00,\n",
       "        0.00000000e+00, 0.00000000e+00, 0.00000000e+00, 0.00000000e+00],\n",
       "       [0.00000000e+00, 0.00000000e+00, 0.00000000e+00, 0.00000000e+00,\n",
       "        0.00000000e+00, 0.00000000e+00, 0.00000000e+00, 0.00000000e+00,\n",
       "        0.00000000e+00, 0.00000000e+00, 0.00000000e+00, 0.00000000e+00,\n",
       "        5.99769319e-04, 2.27604767e-03, 3.52172241e-03, 3.89081123e-03,\n",
       "        3.89081123e-03, 3.89081123e-03, 3.84467512e-03, 2.79892349e-03,\n",
       "        0.00000000e+00, 0.00000000e+00, 0.00000000e+00, 0.00000000e+00,\n",
       "        0.00000000e+00, 0.00000000e+00, 0.00000000e+00, 0.00000000e+00],\n",
       "       [0.00000000e+00, 0.00000000e+00, 0.00000000e+00, 0.00000000e+00,\n",
       "        0.00000000e+00, 0.00000000e+00, 0.00000000e+00, 0.00000000e+00,\n",
       "        0.00000000e+00, 0.00000000e+00, 3.69088812e-04, 1.75317186e-03,\n",
       "        3.39869281e-03, 3.89081123e-03, 3.89081123e-03, 3.89081123e-03,\n",
       "        3.89081123e-03, 3.09111880e-03, 1.19953864e-03, 0.00000000e+00,\n",
       "        0.00000000e+00, 0.00000000e+00, 0.00000000e+00, 0.00000000e+00,\n",
       "        0.00000000e+00, 0.00000000e+00, 0.00000000e+00, 0.00000000e+00],\n",
       "       [0.00000000e+00, 0.00000000e+00, 0.00000000e+00, 0.00000000e+00,\n",
       "        0.00000000e+00, 0.00000000e+00, 0.00000000e+00, 0.00000000e+00,\n",
       "        3.53710111e-04, 1.01499423e-03, 3.27566321e-03, 3.89081123e-03,\n",
       "        3.89081123e-03, 3.89081123e-03, 3.89081123e-03, 3.04498270e-03,\n",
       "        1.24567474e-03, 3.07574010e-05, 0.00000000e+00, 0.00000000e+00,\n",
       "        0.00000000e+00, 0.00000000e+00, 0.00000000e+00, 0.00000000e+00,\n",
       "        0.00000000e+00, 0.00000000e+00, 0.00000000e+00, 0.00000000e+00],\n",
       "       [0.00000000e+00, 0.00000000e+00, 0.00000000e+00, 0.00000000e+00,\n",
       "        0.00000000e+00, 0.00000000e+00, 2.76816609e-04, 2.62975779e-03,\n",
       "        3.36793541e-03, 3.89081123e-03, 3.89081123e-03, 3.89081123e-03,\n",
       "        3.89081123e-03, 2.99884660e-03, 1.23029604e-03, 1.38408304e-04,\n",
       "        0.00000000e+00, 0.00000000e+00, 0.00000000e+00, 0.00000000e+00,\n",
       "        0.00000000e+00, 0.00000000e+00, 0.00000000e+00, 0.00000000e+00,\n",
       "        0.00000000e+00, 0.00000000e+00, 0.00000000e+00, 0.00000000e+00],\n",
       "       [0.00000000e+00, 0.00000000e+00, 0.00000000e+00, 0.00000000e+00,\n",
       "        8.45828527e-04, 2.64513649e-03, 3.47558631e-03, 3.89081123e-03,\n",
       "        3.89081123e-03, 3.89081123e-03, 3.89081123e-03, 3.75240292e-03,\n",
       "        2.04536717e-03, 1.69165705e-04, 0.00000000e+00, 0.00000000e+00,\n",
       "        0.00000000e+00, 0.00000000e+00, 0.00000000e+00, 0.00000000e+00,\n",
       "        0.00000000e+00, 0.00000000e+00, 0.00000000e+00, 0.00000000e+00,\n",
       "        0.00000000e+00, 0.00000000e+00, 0.00000000e+00, 0.00000000e+00],\n",
       "       [0.00000000e+00, 0.00000000e+00, 0.00000000e+00, 0.00000000e+00,\n",
       "        2.09150327e-03, 3.89081123e-03, 3.89081123e-03, 3.89081123e-03,\n",
       "        3.26028451e-03, 2.07612457e-03, 2.02998847e-03, 2.46059208e-04,\n",
       "        0.00000000e+00, 0.00000000e+00, 0.00000000e+00, 0.00000000e+00,\n",
       "        0.00000000e+00, 0.00000000e+00, 0.00000000e+00, 0.00000000e+00,\n",
       "        0.00000000e+00, 0.00000000e+00, 0.00000000e+00, 0.00000000e+00,\n",
       "        0.00000000e+00, 0.00000000e+00, 0.00000000e+00, 0.00000000e+00],\n",
       "       [0.00000000e+00, 0.00000000e+00, 0.00000000e+00, 0.00000000e+00,\n",
       "        0.00000000e+00, 0.00000000e+00, 0.00000000e+00, 0.00000000e+00,\n",
       "        0.00000000e+00, 0.00000000e+00, 0.00000000e+00, 0.00000000e+00,\n",
       "        0.00000000e+00, 0.00000000e+00, 0.00000000e+00, 0.00000000e+00,\n",
       "        0.00000000e+00, 0.00000000e+00, 0.00000000e+00, 0.00000000e+00,\n",
       "        0.00000000e+00, 0.00000000e+00, 0.00000000e+00, 0.00000000e+00,\n",
       "        0.00000000e+00, 0.00000000e+00, 0.00000000e+00, 0.00000000e+00],\n",
       "       [0.00000000e+00, 0.00000000e+00, 0.00000000e+00, 0.00000000e+00,\n",
       "        0.00000000e+00, 0.00000000e+00, 0.00000000e+00, 0.00000000e+00,\n",
       "        0.00000000e+00, 0.00000000e+00, 0.00000000e+00, 0.00000000e+00,\n",
       "        0.00000000e+00, 0.00000000e+00, 0.00000000e+00, 0.00000000e+00,\n",
       "        0.00000000e+00, 0.00000000e+00, 0.00000000e+00, 0.00000000e+00,\n",
       "        0.00000000e+00, 0.00000000e+00, 0.00000000e+00, 0.00000000e+00,\n",
       "        0.00000000e+00, 0.00000000e+00, 0.00000000e+00, 0.00000000e+00],\n",
       "       [0.00000000e+00, 0.00000000e+00, 0.00000000e+00, 0.00000000e+00,\n",
       "        0.00000000e+00, 0.00000000e+00, 0.00000000e+00, 0.00000000e+00,\n",
       "        0.00000000e+00, 0.00000000e+00, 0.00000000e+00, 0.00000000e+00,\n",
       "        0.00000000e+00, 0.00000000e+00, 0.00000000e+00, 0.00000000e+00,\n",
       "        0.00000000e+00, 0.00000000e+00, 0.00000000e+00, 0.00000000e+00,\n",
       "        0.00000000e+00, 0.00000000e+00, 0.00000000e+00, 0.00000000e+00,\n",
       "        0.00000000e+00, 0.00000000e+00, 0.00000000e+00, 0.00000000e+00]])"
      ]
     },
     "execution_count": 21,
     "metadata": {},
     "output_type": "execute_result"
    }
   ],
   "source": [
    "X_train[0]"
   ]
  },
  {
   "cell_type": "code",
   "execution_count": 22,
   "metadata": {
    "colab": {
     "base_uri": "https://localhost:8080/",
     "height": 36
    },
    "colab_type": "code",
    "id": "tVbLeDJUV8vt",
    "outputId": "9076174d-5749-413f-f8d6-3f4a2bb96eb0"
   },
   "outputs": [
    {
     "data": {
      "text/plain": [
       "(28, 28)"
      ]
     },
     "execution_count": 22,
     "metadata": {},
     "output_type": "execute_result"
    }
   ],
   "source": [
    "X_train[0].shape #28x28 사이즈의 첫번째 이미지"
   ]
  },
  {
   "cell_type": "markdown",
   "metadata": {
    "colab_type": "text",
    "id": "-YLrKwhKWOwM"
   },
   "source": [
    "컬러 정보가 없으면 다음과 같은 색으로 보여줌"
   ]
  },
  {
   "cell_type": "code",
   "execution_count": 23,
   "metadata": {
    "colab": {},
    "colab_type": "code",
    "id": "lZNZ-Kk0WA20"
   },
   "outputs": [],
   "source": [
    "import matplotlib.pyplot as plt"
   ]
  },
  {
   "cell_type": "code",
   "execution_count": 24,
   "metadata": {
    "colab": {
     "base_uri": "https://localhost:8080/",
     "height": 294
    },
    "colab_type": "code",
    "id": "O28MG6xPWGaw",
    "outputId": "545535b6-bf48-411a-ccba-56544f7dc2b6"
   },
   "outputs": [
    {
     "data": {
      "text/plain": [
       "<matplotlib.image.AxesImage at 0x7f9975241150>"
      ]
     },
     "execution_count": 24,
     "metadata": {},
     "output_type": "execute_result"
    },
    {
     "data": {
      "image/png": "[encoded data removed]",
      "text/plain": [
       "<Figure size 288x288 with 1 Axes>"
      ]
     },
     "metadata": {
      "needs_background": "light"
     },
     "output_type": "display_data"
    }
   ],
   "source": [
    "plt.matshow(X_train[0])  #채널 정보 없는경우 디폴트 색상"
   ]
  },
  {
   "cell_type": "code",
   "execution_count": 43,
   "metadata": {
    "colab": {
     "base_uri": "https://localhost:8080/",
     "height": 284
    },
    "colab_type": "code",
    "id": "KIbbaMEJWKDU",
    "outputId": "73d66577-a87d-4f5a-9f1e-94a2529e2309"
   },
   "outputs": [
    {
     "data": {
      "text/plain": [
       "<matplotlib.image.AxesImage at 0x7fc332554990>"
      ]
     },
     "execution_count": 43,
     "metadata": {},
     "output_type": "execute_result"
    },
    {
     "data": {
      "image/png": "[encoded data removed]",
      "text/plain": [
       "<Figure size 432x288 with 1 Axes>"
      ]
     },
     "metadata": {
      "needs_background": "light"
     },
     "output_type": "display_data"
    }
   ],
   "source": [
    "plt.imshow(X_train[0],cmap='gray')  #"
   ]
  },
  {
   "cell_type": "code",
   "execution_count": 44,
   "metadata": {
    "colab": {
     "base_uri": "https://localhost:8080/",
     "height": 284
    },
    "colab_type": "code",
    "id": "pGRNkWmnWMip",
    "outputId": "65f45cc3-d723-42da-a1d8-b73cc8f85fdd"
   },
   "outputs": [
    {
     "data": {
      "text/plain": [
       "<matplotlib.image.AxesImage at 0x7fc332976750>"
      ]
     },
     "execution_count": 44,
     "metadata": {},
     "output_type": "execute_result"
    },
    {
     "data": {
      "image/png": "[encoded data removed]",
      "text/plain": [
       "<Figure size 432x288 with 1 Axes>"
      ]
     },
     "metadata": {
      "needs_background": "light"
     },
     "output_type": "display_data"
    }
   ],
   "source": [
    "plt.imshow(X_train[0],cmap='binary')"
   ]
  },
  {
   "cell_type": "markdown",
   "metadata": {
    "colab_type": "text",
    "id": "0yxkOzTTXVHf"
   },
   "source": [
    "해당 이미지의 라벨링 값은 5"
   ]
  },
  {
   "cell_type": "code",
   "execution_count": 45,
   "metadata": {
    "colab": {
     "base_uri": "https://localhost:8080/",
     "height": 36
    },
    "colab_type": "code",
    "id": "hMe9BKAuWWeY",
    "outputId": "62e0725e-0a99-4104-86ff-7db31f831a5b"
   },
   "outputs": [
    {
     "data": {
      "text/plain": [
       "5"
      ]
     },
     "execution_count": 45,
     "metadata": {},
     "output_type": "execute_result"
    }
   ],
   "source": [
    "y_train[0]"
   ]
  },
  {
   "cell_type": "markdown",
   "metadata": {
    "colab_type": "text",
    "id": "_PSfc4oxXtey"
   },
   "source": [
    "\n",
    "- 입력 데이터: \n",
    "    - 예측모델에서는 1차원 데이터를 입력으로 받음\n",
    "- `reshape(데이터 갯수, 가로*세로)`"
   ]
  },
  {
   "cell_type": "code",
   "execution_count": 46,
   "metadata": {
    "colab": {
     "base_uri": "https://localhost:8080/",
     "height": 36
    },
    "colab_type": "code",
    "id": "NxK2lt-wWYuD",
    "outputId": "3b043421-e05b-4dec-fe47-322462b1af21"
   },
   "outputs": [
    {
     "data": {
      "text/plain": [
       "array([0., 0., 0., ..., 0., 0., 0.])"
      ]
     },
     "execution_count": 46,
     "metadata": {},
     "output_type": "execute_result"
    }
   ],
   "source": [
    "X_train.flatten() #전체 1차원이됨 -> 다른 방법 모색해야함"
   ]
  },
  {
   "cell_type": "markdown",
   "metadata": {
    "colab_type": "text",
    "id": "G5ySPxDvYPns"
   },
   "source": [
    "2차원으로 60,000개 데이터가 한줄로 바뀜"
   ]
  },
  {
   "cell_type": "code",
   "execution_count": 25,
   "metadata": {
    "colab": {
     "base_uri": "https://localhost:8080/",
     "height": 148
    },
    "colab_type": "code",
    "id": "IHsL1LxmXliS",
    "outputId": "89eca513-cc31-4494-8395-54c21b3e68c4"
   },
   "outputs": [
    {
     "data": {
      "text/plain": [
       "array([[0., 0., 0., ..., 0., 0., 0.],\n",
       "       [0., 0., 0., ..., 0., 0., 0.],\n",
       "       [0., 0., 0., ..., 0., 0., 0.],\n",
       "       ...,\n",
       "       [0., 0., 0., ..., 0., 0., 0.],\n",
       "       [0., 0., 0., ..., 0., 0., 0.],\n",
       "       [0., 0., 0., ..., 0., 0., 0.]])"
      ]
     },
     "execution_count": 25,
     "metadata": {},
     "output_type": "execute_result"
    }
   ],
   "source": [
    "X_train_= X_train.reshape(60000,28*28) #60000개\n",
    "X_train_"
   ]
  },
  {
   "cell_type": "code",
   "execution_count": 48,
   "metadata": {},
   "outputs": [
    {
     "data": {
      "text/plain": [
       "(60000, 784)"
      ]
     },
     "execution_count": 48,
     "metadata": {},
     "output_type": "execute_result"
    }
   ],
   "source": [
    "X_train_.shape"
   ]
  },
  {
   "cell_type": "markdown",
   "metadata": {
    "colab_type": "text",
    "id": "d_pGIEvpjyrr"
   },
   "source": [
    "### 모델 구조\n",
    "\n",
    "모델 구조와 compile 학습전략에 따라 성능 결정\n",
    "1. Sequential 모델 생성\n",
    "    - 구조만들기\n",
    "        - list 방식\n",
    "        - add 방식\n",
    "        \n",
    "   - summary 로 구조 확인"
   ]
  },
  {
   "cell_type": "markdown",
   "metadata": {},
   "source": [
    "- `Sequential`\n",
    "  -  레이어를 순차적으로 연결하여\n",
    "      -레이어 인스턴스를 생성자에게 넘겨줌으로써 Sequential 모델을 구성\n",
    "  - 딥러닝의 구조가 일방향이기 때문 (feed forwad:output 으로)"
   ]
  },
  {
   "cell_type": "markdown",
   "metadata": {
    "colab_type": "text",
    "id": "SToSzhvtiYLE"
   },
   "source": [
    "- `Dense`\n",
    "  - **fully connected ** 모든 노드들이 다 연결 되어있음\n",
    "\n",
    "벡터행렬의 곱으로 표현하므로 행렬의 형태가 중요함\n",
    "   - 행렬의 곱 : mxk @ kxn = mxn \n",
    "\n",
    "Neural Net 몇개의 레이어, 노드인지 정해야함.\n",
    "\n",
    "  - layer : input layer+ hidden layer+ ... + output layer\n",
    "      - input :데이터 크기 (맞추는게 중요)\n",
    "      - output: 분류 갯수\n",
    "      - activation function : 공간을 왜곡해서 비선형 문제 해결"
   ]
  },
  {
   "cell_type": "code",
   "execution_count": 26,
   "metadata": {
    "colab": {},
    "colab_type": "code",
    "id": "j2nooyCVpbmv"
   },
   "outputs": [
    {
     "name": "stdout",
     "output_type": "stream",
     "text": [
      "Executing op VarHandleOp in device /job:localhost/replica:0/task:0/device:CPU:0\n",
      "Executing op VarIsInitializedOp in device /job:localhost/replica:0/task:0/device:CPU:0\n",
      "Executing op LogicalNot in device /job:localhost/replica:0/task:0/device:CPU:0\n",
      "Executing op Assert in device /job:localhost/replica:0/task:0/device:CPU:0\n",
      "Executing op AssignVariableOp in device /job:localhost/replica:0/task:0/device:CPU:0\n",
      "Executing op VarHandleOp in device /job:localhost/replica:0/task:0/device:CPU:0\n",
      "Executing op VarIsInitializedOp in device /job:localhost/replica:0/task:0/device:CPU:0\n",
      "Executing op LogicalNot in device /job:localhost/replica:0/task:0/device:CPU:0\n",
      "Executing op Assert in device /job:localhost/replica:0/task:0/device:CPU:0\n",
      "Executing op AssignVariableOp in device /job:localhost/replica:0/task:0/device:CPU:0\n",
      "Executing op VarHandleOp in device /job:localhost/replica:0/task:0/device:CPU:0\n",
      "Executing op VarIsInitializedOp in device /job:localhost/replica:0/task:0/device:CPU:0\n",
      "Executing op LogicalNot in device /job:localhost/replica:0/task:0/device:CPU:0\n",
      "Executing op Assert in device /job:localhost/replica:0/task:0/device:CPU:0\n",
      "Executing op AssignVariableOp in device /job:localhost/replica:0/task:0/device:CPU:0\n",
      "Executing op RandomUniform in device /job:localhost/replica:0/task:0/device:CPU:0\n",
      "Executing op Sub in device /job:localhost/replica:0/task:0/device:CPU:0\n",
      "Executing op Mul in device /job:localhost/replica:0/task:0/device:CPU:0\n",
      "Executing op Add in device /job:localhost/replica:0/task:0/device:CPU:0\n",
      "Executing op VarHandleOp in device /job:localhost/replica:0/task:0/device:CPU:0\n",
      "Executing op VarIsInitializedOp in device /job:localhost/replica:0/task:0/device:CPU:0\n",
      "Executing op LogicalNot in device /job:localhost/replica:0/task:0/device:CPU:0\n",
      "Executing op Assert in device /job:localhost/replica:0/task:0/device:CPU:0\n",
      "Executing op AssignVariableOp in device /job:localhost/replica:0/task:0/device:CPU:0\n",
      "Executing op Fill in device /job:localhost/replica:0/task:0/device:CPU:0\n",
      "Executing op VarHandleOp in device /job:localhost/replica:0/task:0/device:CPU:0\n",
      "Executing op VarIsInitializedOp in device /job:localhost/replica:0/task:0/device:CPU:0\n",
      "Executing op LogicalNot in device /job:localhost/replica:0/task:0/device:CPU:0\n",
      "Executing op Assert in device /job:localhost/replica:0/task:0/device:CPU:0\n",
      "Executing op AssignVariableOp in device /job:localhost/replica:0/task:0/device:CPU:0\n",
      "Executing op RandomUniform in device /job:localhost/replica:0/task:0/device:CPU:0\n",
      "Executing op Sub in device /job:localhost/replica:0/task:0/device:CPU:0\n",
      "Executing op Mul in device /job:localhost/replica:0/task:0/device:CPU:0\n",
      "Executing op Add in device /job:localhost/replica:0/task:0/device:CPU:0\n",
      "Executing op VarHandleOp in device /job:localhost/replica:0/task:0/device:CPU:0\n",
      "Executing op VarIsInitializedOp in device /job:localhost/replica:0/task:0/device:CPU:0\n",
      "Executing op LogicalNot in device /job:localhost/replica:0/task:0/device:CPU:0\n",
      "Executing op Assert in device /job:localhost/replica:0/task:0/device:CPU:0\n",
      "Executing op AssignVariableOp in device /job:localhost/replica:0/task:0/device:CPU:0\n",
      "Executing op Fill in device /job:localhost/replica:0/task:0/device:CPU:0\n",
      "Executing op VarHandleOp in device /job:localhost/replica:0/task:0/device:CPU:0\n",
      "Executing op VarIsInitializedOp in device /job:localhost/replica:0/task:0/device:CPU:0\n",
      "Executing op LogicalNot in device /job:localhost/replica:0/task:0/device:CPU:0\n",
      "Executing op Assert in device /job:localhost/replica:0/task:0/device:CPU:0\n",
      "Executing op AssignVariableOp in device /job:localhost/replica:0/task:0/device:CPU:0\n",
      "Executing op RandomUniform in device /job:localhost/replica:0/task:0/device:CPU:0\n",
      "Executing op Sub in device /job:localhost/replica:0/task:0/device:CPU:0\n",
      "Executing op Mul in device /job:localhost/replica:0/task:0/device:CPU:0\n",
      "Executing op Add in device /job:localhost/replica:0/task:0/device:CPU:0\n",
      "Executing op VarHandleOp in device /job:localhost/replica:0/task:0/device:CPU:0\n",
      "Executing op VarIsInitializedOp in device /job:localhost/replica:0/task:0/device:CPU:0\n",
      "Executing op LogicalNot in device /job:localhost/replica:0/task:0/device:CPU:0\n",
      "Executing op Assert in device /job:localhost/replica:0/task:0/device:CPU:0\n",
      "Executing op AssignVariableOp in device /job:localhost/replica:0/task:0/device:CPU:0\n",
      "Executing op Fill in device /job:localhost/replica:0/task:0/device:CPU:0\n",
      "Executing op VarHandleOp in device /job:localhost/replica:0/task:0/device:CPU:0\n",
      "Executing op VarIsInitializedOp in device /job:localhost/replica:0/task:0/device:CPU:0\n",
      "Executing op LogicalNot in device /job:localhost/replica:0/task:0/device:CPU:0\n",
      "Executing op Assert in device /job:localhost/replica:0/task:0/device:CPU:0\n",
      "Executing op AssignVariableOp in device /job:localhost/replica:0/task:0/device:CPU:0\n"
     ]
    }
   ],
   "source": [
    "### list 형식\n",
    "#전처리해주는 레이어도있음. \n",
    "model=tf.keras.models.Sequential([\n",
    "           tf.keras.layers.Dense(32, input_shape=(28*28,),activation='relu') , \n",
    "           tf.keras.layers.Dense(16),\n",
    "           tf.keras.layers.Dense(10, activation='softmax')\n",
    "])"
   ]
  },
  {
   "cell_type": "code",
   "execution_count": 28,
   "metadata": {
    "colab": {
     "base_uri": "https://localhost:8080/",
     "height": 1000
    },
    "colab_type": "code",
    "id": "h8bgIb1eht9g",
    "outputId": "6655d933-742e-495a-d7bc-24b12d7913a7"
   },
   "outputs": [
    {
     "name": "stdout",
     "output_type": "stream",
     "text": [
      "Executing op VarHandleOp in device /job:localhost/replica:0/task:0/device:CPU:0\n",
      "Executing op VarIsInitializedOp in device /job:localhost/replica:0/task:0/device:CPU:0\n",
      "Executing op LogicalNot in device /job:localhost/replica:0/task:0/device:CPU:0\n",
      "Executing op Assert in device /job:localhost/replica:0/task:0/device:CPU:0\n",
      "Executing op AssignVariableOp in device /job:localhost/replica:0/task:0/device:CPU:0\n",
      "Executing op VarHandleOp in device /job:localhost/replica:0/task:0/device:CPU:0\n",
      "Executing op VarIsInitializedOp in device /job:localhost/replica:0/task:0/device:CPU:0\n",
      "Executing op LogicalNot in device /job:localhost/replica:0/task:0/device:CPU:0\n",
      "Executing op Assert in device /job:localhost/replica:0/task:0/device:CPU:0\n",
      "Executing op AssignVariableOp in device /job:localhost/replica:0/task:0/device:CPU:0\n",
      "Executing op VarHandleOp in device /job:localhost/replica:0/task:0/device:CPU:0\n",
      "Executing op VarIsInitializedOp in device /job:localhost/replica:0/task:0/device:CPU:0\n",
      "Executing op LogicalNot in device /job:localhost/replica:0/task:0/device:CPU:0\n",
      "Executing op Assert in device /job:localhost/replica:0/task:0/device:CPU:0\n",
      "Executing op AssignVariableOp in device /job:localhost/replica:0/task:0/device:CPU:0\n",
      "Executing op RandomUniform in device /job:localhost/replica:0/task:0/device:CPU:0\n",
      "Executing op Sub in device /job:localhost/replica:0/task:0/device:CPU:0\n",
      "Executing op Mul in device /job:localhost/replica:0/task:0/device:CPU:0\n",
      "Executing op Add in device /job:localhost/replica:0/task:0/device:CPU:0\n",
      "Executing op VarHandleOp in device /job:localhost/replica:0/task:0/device:CPU:0\n",
      "Executing op VarIsInitializedOp in device /job:localhost/replica:0/task:0/device:CPU:0\n",
      "Executing op LogicalNot in device /job:localhost/replica:0/task:0/device:CPU:0\n",
      "Executing op Assert in device /job:localhost/replica:0/task:0/device:CPU:0\n",
      "Executing op AssignVariableOp in device /job:localhost/replica:0/task:0/device:CPU:0\n",
      "Executing op Fill in device /job:localhost/replica:0/task:0/device:CPU:0\n",
      "Executing op VarHandleOp in device /job:localhost/replica:0/task:0/device:CPU:0\n",
      "Executing op VarIsInitializedOp in device /job:localhost/replica:0/task:0/device:CPU:0\n",
      "Executing op LogicalNot in device /job:localhost/replica:0/task:0/device:CPU:0\n",
      "Executing op Assert in device /job:localhost/replica:0/task:0/device:CPU:0\n",
      "Executing op AssignVariableOp in device /job:localhost/replica:0/task:0/device:CPU:0\n",
      "Executing op RandomUniform in device /job:localhost/replica:0/task:0/device:CPU:0\n",
      "Executing op Sub in device /job:localhost/replica:0/task:0/device:CPU:0\n",
      "Executing op Mul in device /job:localhost/replica:0/task:0/device:CPU:0\n",
      "Executing op Add in device /job:localhost/replica:0/task:0/device:CPU:0\n",
      "Executing op VarHandleOp in device /job:localhost/replica:0/task:0/device:CPU:0\n",
      "Executing op VarIsInitializedOp in device /job:localhost/replica:0/task:0/device:CPU:0\n",
      "Executing op LogicalNot in device /job:localhost/replica:0/task:0/device:CPU:0\n",
      "Executing op Assert in device /job:localhost/replica:0/task:0/device:CPU:0\n",
      "Executing op AssignVariableOp in device /job:localhost/replica:0/task:0/device:CPU:0\n",
      "Executing op Fill in device /job:localhost/replica:0/task:0/device:CPU:0\n",
      "Executing op VarHandleOp in device /job:localhost/replica:0/task:0/device:CPU:0\n",
      "Executing op VarIsInitializedOp in device /job:localhost/replica:0/task:0/device:CPU:0\n",
      "Executing op LogicalNot in device /job:localhost/replica:0/task:0/device:CPU:0\n",
      "Executing op Assert in device /job:localhost/replica:0/task:0/device:CPU:0\n",
      "Executing op AssignVariableOp in device /job:localhost/replica:0/task:0/device:CPU:0\n",
      "Executing op RandomUniform in device /job:localhost/replica:0/task:0/device:CPU:0\n",
      "Executing op Sub in device /job:localhost/replica:0/task:0/device:CPU:0\n",
      "Executing op Mul in device /job:localhost/replica:0/task:0/device:CPU:0\n",
      "Executing op Add in device /job:localhost/replica:0/task:0/device:CPU:0\n",
      "Executing op VarHandleOp in device /job:localhost/replica:0/task:0/device:CPU:0\n",
      "Executing op VarIsInitializedOp in device /job:localhost/replica:0/task:0/device:CPU:0\n",
      "Executing op LogicalNot in device /job:localhost/replica:0/task:0/device:CPU:0\n",
      "Executing op Assert in device /job:localhost/replica:0/task:0/device:CPU:0\n",
      "Executing op AssignVariableOp in device /job:localhost/replica:0/task:0/device:CPU:0\n",
      "Executing op Fill in device /job:localhost/replica:0/task:0/device:CPU:0\n",
      "Executing op VarHandleOp in device /job:localhost/replica:0/task:0/device:CPU:0\n",
      "Executing op VarIsInitializedOp in device /job:localhost/replica:0/task:0/device:CPU:0\n",
      "Executing op LogicalNot in device /job:localhost/replica:0/task:0/device:CPU:0\n",
      "Executing op Assert in device /job:localhost/replica:0/task:0/device:CPU:0\n",
      "Executing op AssignVariableOp in device /job:localhost/replica:0/task:0/device:CPU:0\n",
      "Model: \"sequential_2\"\n",
      "_________________________________________________________________\n",
      "Layer (type)                 Output Shape              Param #   \n",
      "=================================================================\n",
      "dense_6 (Dense)              (None, 32)                25120     \n",
      "_________________________________________________________________\n",
      "dense_7 (Dense)              (None, 16)                528       \n",
      "_________________________________________________________________\n",
      "dense_8 (Dense)              (None, 10)                170       \n",
      "=================================================================\n",
      "Total params: 25,818\n",
      "Trainable params: 25,818\n",
      "Non-trainable params: 0\n",
      "_________________________________________________________________\n"
     ]
    }
   ],
   "source": [
    "#다양한 모델을 만들 수 있음 \n",
    "# 텐서기반은 GPU 사용 지원 \n",
    "# add 방식\n",
    "model=tf.keras.models.Sequential() #인스턴스화\n",
    "model.add(tf.keras.layers.Dense(32, input_shape=(28*28,),activation='relu')) #input layer\n",
    "model.add(tf.keras.layers.Dense(16)) \n",
    "model.add(tf.keras.layers.Dense(10,activation='softmax'))  #output layer : 0~9 까지 총 10개로 분류해야하므로 Dense(10)\n",
    "model.summary()"
   ]
  },
  {
   "cell_type": "markdown",
   "metadata": {
    "colab_type": "text",
    "id": "RdxsFyvfkPM7"
   },
   "source": [
    "- layer : fully-connected(전체 연결됨)\n",
    "- output shape : 노드 갯수\n",
    "     \n",
    "    - 첫번째 레이어 퍼셉트론의 노드 32개 \n",
    "    - 두번째 레이어 퍼셉트론의 노드 16개\n",
    "    - 출력 레이어의 10개 클래스 (숫자 0~9)\n",
    "- Para # : 파라미터수 \n",
    "\n",
    "---\n",
    "sklearn의 MLP는 위와 동일함\n",
    "- 아래와 같이 다양한 옵션들 있음\n",
    "- 위의 방식보다 활용성 떨어짐 \n",
    "    - 한방향으로만 가능"
   ]
  },
  {
   "cell_type": "raw",
   "metadata": {},
   "source": [
    "Init signature:\n",
    "MLPClassifier(\n",
    "    hidden_layer_sizes=(100,),\n",
    "    activation='relu',\n",
    "    solver='adam',\n",
    "    alpha=0.0001,\n",
    "    batch_size='auto',\n",
    "    learning_rate='constant',\n",
    "    learning_rate_init=0.001,\n",
    "    power_t=0.5,\n",
    "    max_iter=200,\n",
    "    shuffle=True,\n",
    "    random_state=None,\n",
    "    tol=0.0001,\n",
    "    verbose=False,\n",
    "    warm_start=False,\n",
    "    momentum=0.9,\n",
    "    nesterovs_momentum=True,\n",
    "    early_stopping=False,\n",
    "    validation_fraction=0.1,\n",
    "    beta_1=0.9,\n",
    "    beta_2=0.999,\n",
    "    epsilon=1e-08,\n",
    "    n_iter_no_change=10,\n",
    "    max_fun=15000,\n",
    ")"
   ]
  },
  {
   "cell_type": "code",
   "execution_count": 29,
   "metadata": {
    "colab": {},
    "colab_type": "code",
    "id": "cVxW0c0WYGRw"
   },
   "outputs": [],
   "source": [
    "from sklearn.neural_network import MLPClassifier"
   ]
  },
  {
   "cell_type": "code",
   "execution_count": 30,
   "metadata": {
    "colab": {},
    "colab_type": "code",
    "id": "z4vJvduTo-uy"
   },
   "outputs": [],
   "source": [
    "mlp=MLPClassifier((32,16,10))  #단방향"
   ]
  },
  {
   "cell_type": "code",
   "execution_count": 31,
   "metadata": {
    "colab": {
     "base_uri": "https://localhost:8080/",
     "height": 167
    },
    "colab_type": "code",
    "id": "RxjTyruhYi4E",
    "outputId": "33e968e9-3306-4575-bfa7-eb595c808e37"
   },
   "outputs": [
    {
     "name": "stderr",
     "output_type": "stream",
     "text": [
      "/Users/MG/opt/anaconda3/lib/python3.7/site-packages/sklearn/neural_network/_multilayer_perceptron.py:573: UserWarning: Training interrupted by user.\n",
      "  warnings.warn(\"Training interrupted by user.\")\n"
     ]
    },
    {
     "data": {
      "text/plain": [
       "MLPClassifier(activation='relu', alpha=0.0001, batch_size='auto', beta_1=0.9,\n",
       "              beta_2=0.999, early_stopping=False, epsilon=1e-08,\n",
       "              hidden_layer_sizes=(32, 16, 10), learning_rate='constant',\n",
       "              learning_rate_init=0.001, max_fun=15000, max_iter=200,\n",
       "              momentum=0.9, n_iter_no_change=10, nesterovs_momentum=True,\n",
       "              power_t=0.5, random_state=None, shuffle=True, solver='adam',\n",
       "              tol=0.0001, validation_fraction=0.1, verbose=False,\n",
       "              warm_start=False)"
      ]
     },
     "execution_count": 31,
     "metadata": {},
     "output_type": "execute_result"
    }
   ],
   "source": [
    "mlp.fit(X_train_, y_train)"
   ]
  },
  {
   "cell_type": "code",
   "execution_count": 57,
   "metadata": {
    "colab": {
     "base_uri": "https://localhost:8080/",
     "height": 1000
    },
    "colab_type": "code",
    "id": "Eg1UIcwYfZGq",
    "outputId": "49db56d6-31d9-40b3-8ebe-31fd9a2cc0b1"
   },
   "outputs": [
    {
     "data": {
      "text/plain": [
       "{'activation': 'relu',\n",
       " 'solver': 'adam',\n",
       " 'alpha': 0.0001,\n",
       " 'batch_size': 'auto',\n",
       " 'learning_rate': 'constant',\n",
       " 'learning_rate_init': 0.001,\n",
       " 'power_t': 0.5,\n",
       " 'max_iter': 200,\n",
       " 'loss': 'log_loss',\n",
       " 'hidden_layer_sizes': (32, 16, 10),\n",
       " 'shuffle': True,\n",
       " 'random_state': None,\n",
       " 'tol': 0.0001,\n",
       " 'verbose': False,\n",
       " 'warm_start': False,\n",
       " 'momentum': 0.9,\n",
       " 'nesterovs_momentum': True,\n",
       " 'early_stopping': False,\n",
       " 'validation_fraction': 0.1,\n",
       " 'beta_1': 0.9,\n",
       " 'beta_2': 0.999,\n",
       " 'epsilon': 1e-08,\n",
       " 'n_iter_no_change': 10,\n",
       " 'max_fun': 15000,\n",
       " '_label_binarizer': LabelBinarizer(neg_label=0, pos_label=1, sparse_output=False),\n",
       " 'classes_': array([0, 1, 2, 3, 4, 5, 6, 7, 8, 9], dtype=uint8),\n",
       " 'n_outputs_': 10,\n",
       " '_random_state': RandomState(MT19937) at 0x7FC34B8359E0,\n",
       " 'n_iter_': 127,\n",
       " 't_': 7620000,\n",
       " 'n_layers_': 5,\n",
       " 'out_activation_': 'softmax',\n",
       " 'coefs_': [array([[ 4.47133475e-315,  3.12160115e-315,  2.05412566e-315, ...,\n",
       "          -1.84049516e-315, -1.06997410e-315,  4.35104543e-315],\n",
       "         [ 3.69913648e-315, -3.56105110e-315,  3.01814891e-315, ...,\n",
       "           1.46095613e-315, -2.24497944e-315, -3.66852876e-315],\n",
       "         [ 2.05009071e-315, -3.77828801e-315,  1.54482825e-315, ...,\n",
       "           7.03315110e-316,  1.33786450e-315, -2.51543156e-315],\n",
       "         ...,\n",
       "         [-2.86161662e-315, -4.05328645e-316, -2.04206463e-315, ...,\n",
       "           4.49548612e-315,  3.88699032e-317,  9.48002030e-316],\n",
       "         [-3.67681863e-315,  3.95869911e-316, -1.39130022e-315, ...,\n",
       "          -1.96580549e-315,  1.24798118e-315,  2.41190587e-315],\n",
       "         [-2.26386109e-315,  1.88999453e-315, -1.17197841e-315, ...,\n",
       "          -2.21075314e-315, -2.51280457e-315,  3.79060940e-315]]),\n",
       "  array([[ 2.94290850e-01, -7.79603763e-01,  9.78318910e-01,\n",
       "           3.97207619e-01,  7.45608938e-01,  5.03570963e-01,\n",
       "           1.85140745e-01, -4.10559003e-01, -7.47928882e-01,\n",
       "          -5.84631946e-01,  6.15937445e-01,  5.80148593e-02,\n",
       "           1.27483539e+00, -3.85768757e-01, -1.17257678e-01,\n",
       "          -4.49828287e-01],\n",
       "         [ 2.35614431e-01,  2.60831860e-01,  3.72374663e-01,\n",
       "          -4.06747237e-02,  2.47390369e-01, -7.66015388e-01,\n",
       "           3.12576498e-01,  9.59444696e-02,  4.08882686e-01,\n",
       "          -1.33937068e-03, -1.98585080e-01,  3.72195438e-01,\n",
       "           9.23493720e-02, -6.11943327e-02,  6.28152316e-01,\n",
       "           3.48148733e-01],\n",
       "         [ 6.36150634e-01,  8.04994219e-02,  5.96152890e-01,\n",
       "           6.13503495e-01,  9.14960074e-01,  8.37963577e-01,\n",
       "          -2.53914546e-02, -3.04863968e-01, -2.42760376e-01,\n",
       "          -7.48894248e-01, -1.07435472e-01, -6.42307730e-01,\n",
       "           4.58794484e-01, -3.23214417e-01,  2.77569468e-01,\n",
       "           3.74494717e-01],\n",
       "         [-1.85546848e-01,  4.66279919e-01,  2.09100329e-01,\n",
       "           1.34292031e-01, -6.00206184e-02,  3.85989384e-02,\n",
       "          -2.72416989e-01,  5.54560194e-03,  6.39937878e-01,\n",
       "          -9.01031606e-02,  7.25126640e-01,  6.85311913e-01,\n",
       "          -1.15611342e-02, -8.60859780e-01, -3.33557046e-01,\n",
       "          -3.57254650e-01],\n",
       "         [-3.90728804e-01,  3.00044821e-01, -7.95285368e-01,\n",
       "          -3.32778964e-01,  4.26144068e-02,  7.19490740e-01,\n",
       "           4.10299820e-01,  8.88161452e-01, -3.70056308e-01,\n",
       "          -3.12199837e-01,  7.51435012e-01,  2.55066193e-01,\n",
       "           1.61264567e-03,  4.92543493e-03, -4.29265154e-02,\n",
       "           5.09305077e-01],\n",
       "         [-1.56335748e-01,  4.66132784e-01,  4.93814889e-01,\n",
       "           2.01665326e-01,  5.93811217e-01,  2.02715942e-01,\n",
       "           1.87478370e-01, -1.65327813e-01, -3.11069846e-01,\n",
       "          -5.10264042e-01,  5.75595228e-02,  1.65430383e-01,\n",
       "          -8.81004959e-02,  6.55272037e-02,  2.67841978e-01,\n",
       "          -4.96098514e-01],\n",
       "         [-3.39206679e-01, -7.69058902e-01,  6.89160389e-01,\n",
       "           1.96301760e-01, -1.16755476e+00, -1.55478062e-02,\n",
       "          -7.04501263e-01, -2.17573238e-01, -2.81316256e-01,\n",
       "          -6.06203355e-01,  8.89538969e-01,  3.58087324e-01,\n",
       "           5.29303122e-01,  3.50578879e-01,  4.59091974e-01,\n",
       "          -5.75716239e-01],\n",
       "         [-4.87718252e-01, -7.30853194e-02, -1.02345170e-01,\n",
       "           5.80671397e-01,  5.41813056e-01, -1.96907522e-01,\n",
       "          -3.26433698e-02,  6.32410475e-01,  1.74359144e-01,\n",
       "           6.59091416e-02,  6.27531884e-01, -8.68848106e-01,\n",
       "           2.50446187e-01, -1.96078040e-01,  9.86566955e-02,\n",
       "           5.16653999e-02],\n",
       "         [-4.65358251e-01, -1.35223479e-01,  1.09958836e-01,\n",
       "           6.50090480e-01, -1.50589712e-01, -6.68685839e-01,\n",
       "           1.25982059e-01, -5.67749068e-01, -2.84719856e-01,\n",
       "           3.42774250e-01,  1.27649901e-01,  3.31837781e-01,\n",
       "          -2.52955523e-01,  6.71202164e-01, -9.32420888e-02,\n",
       "           2.76303543e-01],\n",
       "         [ 2.12843419e-01,  7.12360066e-01,  4.38663224e-01,\n",
       "          -7.23252204e-01,  1.38969847e-01,  5.06197500e-01,\n",
       "           4.33973543e-01, -2.01612400e-01,  9.67664555e-02,\n",
       "          -3.66461130e-01, -3.92019477e-01, -2.57575203e-01,\n",
       "           2.77094226e-01,  2.34057388e-01, -4.36093113e-01,\n",
       "           1.47270086e-01],\n",
       "         [ 1.23867282e+00, -3.89912648e-01,  1.55309574e+00,\n",
       "          -9.83949044e-01,  1.52919969e+00,  2.21785630e-01,\n",
       "           3.02527156e-01,  1.12084244e-01,  2.97299156e-01,\n",
       "          -4.32119829e-01, -1.16427473e+00,  1.43326129e-01,\n",
       "           2.05215673e-01,  6.11781206e-02,  1.57623498e-01,\n",
       "          -2.46004072e-01],\n",
       "         [-8.72278951e-01, -4.65283110e-03,  4.21598858e-01,\n",
       "          -3.93789610e-01, -3.65311169e-01, -4.21695892e-02,\n",
       "           4.22317264e-01,  8.19379764e-01,  4.16877117e-01,\n",
       "           5.73618636e-02,  4.26447302e-01,  1.35775475e-01,\n",
       "           4.50969457e-01,  6.30081826e-02, -5.75761373e-02,\n",
       "          -1.44192981e-01],\n",
       "         [ 2.14987201e-01,  7.77630919e-01, -3.87694117e-01,\n",
       "           7.50397480e-01, -5.36074720e-02, -7.93513675e-02,\n",
       "          -6.83792307e-02,  3.74704707e-01, -1.86438756e-01,\n",
       "          -1.12384988e-01, -6.17480849e-03,  9.65975019e-02,\n",
       "          -8.11427313e-01, -2.85338250e-02, -7.69927130e-01,\n",
       "          -3.12094646e-01],\n",
       "         [-7.82101494e-01, -3.35030272e-01, -3.08608577e-01,\n",
       "          -1.83487800e-01, -8.98162123e-02,  1.21964260e-01,\n",
       "          -1.91710379e-01,  6.44955497e-02,  2.65231141e-01,\n",
       "           1.85156516e-01, -3.76651535e-01,  1.52805159e-01,\n",
       "          -3.06120791e-01,  8.37091094e-01,  8.81348642e-01,\n",
       "           3.00639879e-01],\n",
       "         [ 4.15939893e-01,  1.98841545e-01, -2.72414864e-01,\n",
       "           6.83182561e-02,  9.60153028e-02,  3.05297548e-01,\n",
       "          -3.55116577e-01,  1.82582938e-02,  1.11117665e-01,\n",
       "           8.96348720e-01, -1.46392916e+00,  9.13595839e-01,\n",
       "          -7.42942862e-01,  4.34257884e-01,  4.94871559e-01,\n",
       "           2.03585573e-01],\n",
       "         [ 1.00280063e-01, -3.43786665e-01, -2.08113341e-01,\n",
       "           2.41638834e-01,  3.66134510e-01, -4.19056717e-01,\n",
       "           8.26362034e-01,  5.92463548e-01, -1.83735147e-01,\n",
       "          -1.67680680e-01,  4.37148919e-01,  3.14070106e-02,\n",
       "           6.71908593e-01,  2.67922348e-01, -3.12382886e-01,\n",
       "          -4.33885759e-01],\n",
       "         [ 3.51534964e-01,  2.08011697e-01, -4.10291270e-01,\n",
       "          -2.78603319e-01,  3.80399187e-01,  8.44626641e-01,\n",
       "           3.69287889e-01,  3.12012624e-01,  5.25087248e-04,\n",
       "           3.30720704e-01, -8.83534592e-01,  2.66928539e-01,\n",
       "          -4.88316519e-01,  3.43395430e-01,  2.19567953e-01,\n",
       "           6.60025264e-01],\n",
       "         [ 7.93189625e-01, -3.31893865e-01, -5.89309854e-01,\n",
       "           2.88832972e-02, -2.10866577e-01,  3.35275030e-01,\n",
       "           6.42216431e-01,  5.74397001e-01, -2.73063433e-01,\n",
       "          -2.77126159e-01,  3.53192393e-01, -5.49698110e-02,\n",
       "          -6.47646821e-02,  7.93996591e-02,  5.85597973e-01,\n",
       "          -2.49086696e-01],\n",
       "         [-5.02155540e-01, -8.64246682e-02,  9.15128764e-02,\n",
       "          -3.93455939e-01, -1.15226104e-01, -6.35398370e-01,\n",
       "           2.22521820e-01, -4.01689740e-01, -3.70184236e-01,\n",
       "          -3.58723396e-01, -3.32756083e-01, -5.49769988e-02,\n",
       "           3.62772034e-01,  4.94260993e-01, -9.57933848e-02,\n",
       "          -5.37951030e-01],\n",
       "         [ 5.48342838e-01,  1.76426631e-01,  3.64442026e-01,\n",
       "           1.28820902e-02, -5.14033281e-02, -1.54543654e-01,\n",
       "          -3.42740278e-01, -7.33491857e-01, -1.40989533e-01,\n",
       "          -1.72803147e-02,  4.76559801e-01, -3.16553021e-01,\n",
       "           5.64574699e-01, -6.51221496e-01, -9.21877332e-02,\n",
       "           4.13547405e-02],\n",
       "         [-1.57641896e-01,  3.89739848e-01,  1.71811851e-02,\n",
       "          -6.93780638e-03, -4.03025891e-01,  1.57503352e-01,\n",
       "           5.37614708e-02,  5.12462486e-02, -4.74043779e-01,\n",
       "          -2.90115836e-02,  5.00245982e-01, -2.37699099e-01,\n",
       "           1.48324126e-01,  4.86116646e-01,  6.09227687e-01,\n",
       "          -4.67043086e-02],\n",
       "         [ 5.89232097e-01,  8.37649509e-02,  3.90643969e-01,\n",
       "          -5.91824531e-02,  8.89897165e-01,  3.44672260e-01,\n",
       "          -4.90257174e-01,  2.43260271e-01,  8.11672631e-02,\n",
       "           9.67239012e-02, -2.66544224e-01, -2.82722962e-01,\n",
       "          -5.01282749e-01, -5.67088718e-01,  1.04607688e+00,\n",
       "           6.67479030e-03],\n",
       "         [-3.85496638e-01, -4.95189828e-01,  9.32076900e-01,\n",
       "           3.12458526e-02, -1.53406502e-01, -4.44439123e-01,\n",
       "          -2.04454796e-01, -5.63375991e-01,  2.64819456e-01,\n",
       "          -2.88594923e-01,  4.51844753e-01, -6.71394639e-01,\n",
       "           5.72036795e-01,  5.65961525e-02,  4.08180390e-01,\n",
       "          -4.62091484e-01],\n",
       "         [ 1.44292458e-01, -1.82377481e-02,  6.96852826e-02,\n",
       "           4.82023303e-01,  5.05705779e-01,  3.63299383e-01,\n",
       "           2.29733053e-01, -4.45156614e-01, -3.17645863e-01,\n",
       "           2.37919127e-01,  8.74554030e-02, -2.60443931e-01,\n",
       "           2.13548210e-01,  2.04196248e-01,  2.94043961e-01,\n",
       "           9.72433871e-01],\n",
       "         [ 6.66540161e-01,  1.42274273e-01,  4.27806649e-01,\n",
       "          -7.76670462e-02, -5.57613864e-01, -1.14605549e-01,\n",
       "           1.96634513e-01, -2.38281774e-03,  5.51422817e-01,\n",
       "           7.54223153e-03,  9.93272350e-01,  1.50886190e-01,\n",
       "           2.23932676e-01, -1.31793988e-01, -2.33872509e-01,\n",
       "          -6.04532926e-02],\n",
       "         [-2.53891953e-01, -2.36817807e-01,  5.41813194e-01,\n",
       "           3.25867716e-01,  2.35868017e-01,  3.01431759e-01,\n",
       "          -4.98868762e-01, -2.96521894e-01,  6.79461100e-01,\n",
       "           4.30557344e-01,  4.39493798e-01, -8.55443809e-02,\n",
       "          -3.74451221e-01,  5.64855314e-02, -3.67109354e-02,\n",
       "           3.44654293e-01],\n",
       "         [ 1.93506604e-01,  5.90660372e-01, -3.53391665e-01,\n",
       "          -2.77064069e-01,  1.32880247e-02, -5.44251276e-01,\n",
       "           1.61320784e-01, -2.84357759e-01,  1.54523279e-01,\n",
       "          -2.10519496e-01,  2.05006724e-01, -3.67239534e-01,\n",
       "          -5.49305051e-01,  6.17361212e-01, -2.58570610e-01,\n",
       "           2.97896593e-02],\n",
       "         [-3.02054434e-01, -5.36976846e-01,  2.95586853e-01,\n",
       "          -9.01097751e-02,  1.99554129e-01,  5.44886219e-01,\n",
       "           5.26757930e-01,  8.35883275e-03,  6.02683391e-01,\n",
       "          -5.27731757e-01, -6.84871103e-01,  9.15757031e-01,\n",
       "          -2.96513789e-01,  9.80537695e-01,  8.09722776e-02,\n",
       "          -1.26145841e-02],\n",
       "         [ 1.93232533e-01,  5.01303536e-01,  3.23277499e-01,\n",
       "           5.99379814e-01, -1.94148987e-02,  4.11916381e-01,\n",
       "          -4.44503900e-01,  6.78177987e-01,  4.22874390e-01,\n",
       "          -1.94145240e-01, -1.87320796e-01,  4.00261498e-02,\n",
       "           1.41467602e-01,  2.90626422e-01,  2.33515604e-01,\n",
       "           1.57974094e-01],\n",
       "         [ 3.17327405e-01, -3.04271998e-01,  5.63445349e-01,\n",
       "           4.19250345e-01,  3.82851981e-01, -1.88847965e-01,\n",
       "           2.04287849e-01,  8.45805620e-02, -3.77833829e-01,\n",
       "          -1.19932738e-01,  1.37147637e-01,  6.28917276e-01,\n",
       "          -4.85282093e-01, -1.99782055e-02,  8.33542806e-03,\n",
       "          -2.86518535e-01],\n",
       "         [-2.04283458e-02,  5.53877169e-01, -2.40739273e-01,\n",
       "          -1.45893520e-01, -6.19336478e-01, -1.97081418e-01,\n",
       "          -1.37147407e-01, -6.47094778e-01,  7.75116523e-01,\n",
       "           1.20043182e-01,  5.59702981e-01,  2.77060717e-01,\n",
       "          -2.39206355e-01, -3.03767614e-01, -9.21310195e-01,\n",
       "          -1.98497896e-01],\n",
       "         [ 4.78459098e-01,  4.64866318e-01, -9.18118308e-01,\n",
       "           5.78767377e-01, -3.55849142e-02,  1.90473909e-01,\n",
       "           6.58120901e-01,  9.23377205e-01, -2.03874506e-01,\n",
       "          -5.84640303e-01,  6.14305800e-01,  5.93997990e-01,\n",
       "           9.52462473e-01, -9.80864163e-01, -8.65586094e-01,\n",
       "           4.29264628e-01]]),\n",
       "  array([[-1.87389674e-315,  3.17793817e-001,  8.23123375e-001,\n",
       "           2.87016057e-001, -8.83883718e-002, -4.65579382e-001,\n",
       "          -4.57486542e-001,  1.18539271e+000, -8.74778849e-001,\n",
       "           6.94106877e-001],\n",
       "         [-2.89356852e-315, -1.89241428e-001, -1.75113254e-002,\n",
       "           6.27941647e-001, -2.02997267e-001, -5.98368953e-001,\n",
       "           7.03748502e-001,  1.51076325e-001, -8.17560696e-001,\n",
       "           2.91982388e-001],\n",
       "         [-4.03238638e-315,  2.26880573e-001, -3.97280494e-001,\n",
       "           8.70366194e-001,  1.26835115e-002,  3.37399401e-001,\n",
       "          -4.30540066e-001,  3.90865438e-001,  6.84384843e-001,\n",
       "           4.86359758e-002],\n",
       "         [-3.74454937e-316,  4.90582886e-001,  5.98531354e-001,\n",
       "          -5.03292437e-002, -3.35776497e-002, -5.93004702e-001,\n",
       "           1.19752431e-001,  7.32321493e-002,  5.80481669e-001,\n",
       "           5.25886107e-001],\n",
       "         [-1.74762593e-315, -4.90698653e-001, -2.57858959e-001,\n",
       "           3.14410874e-001,  2.14904633e-001,  3.21934155e-001,\n",
       "          -3.90389401e-001,  5.78554313e-001,  3.83713236e-001,\n",
       "           1.18735311e+000],\n",
       "         [-3.88249037e-315,  9.77183612e-001,  8.47796645e-001,\n",
       "          -9.87648061e-001,  2.76952491e-002,  9.66292528e-002,\n",
       "          -7.02859021e-001,  2.22713534e-001, -4.89786867e-001,\n",
       "           2.61941139e-001],\n",
       "         [ 6.18920743e-316, -2.11237162e-001, -3.71513609e-002,\n",
       "          -4.24839218e-001, -7.69669082e-002,  8.55904575e-001,\n",
       "           7.35628605e-001,  7.23978599e-001, -9.52884378e-002,\n",
       "           1.82555738e-001],\n",
       "         [-1.35885027e-315, -1.50725619e-001,  9.05588934e-001,\n",
       "          -1.46709554e+000, -2.77495636e-003,  6.33909702e-001,\n",
       "           1.07524912e+000,  3.51665535e-001, -3.36934363e-001,\n",
       "           3.23382523e-001],\n",
       "         [-3.65152387e-315, -5.43468327e-001,  6.10318327e-001,\n",
       "           9.48161209e-001,  7.36620320e-001,  5.22308238e-001,\n",
       "          -3.47490132e-001, -7.80070726e-001, -7.15911081e-001,\n",
       "          -8.14173775e-001],\n",
       "         [ 2.46380040e-315,  1.94882327e-002,  4.51453031e-001,\n",
       "          -8.56515729e-001,  7.23464171e-001, -1.23844481e+000,\n",
       "           4.90239290e-001, -3.12616522e-001, -1.94832340e-001,\n",
       "           4.13569725e-001],\n",
       "         [-1.63230353e-315, -4.62661851e-001,  7.90497139e-001,\n",
       "           4.49991211e-001, -5.94645011e-002, -4.77906801e-001,\n",
       "           9.21222527e-001,  2.12930341e-002,  7.45790430e-001,\n",
       "          -7.61847319e-001],\n",
       "         [ 4.63133693e-316,  7.46375754e-001,  8.49558410e-001,\n",
       "           2.35652862e-003, -4.19902591e-002,  7.41776307e-001,\n",
       "          -5.37685032e-001,  2.51418108e-002, -9.83917999e-001,\n",
       "          -3.19220718e-001],\n",
       "         [-2.82931357e-315, -7.62795752e-001,  1.04817645e-001,\n",
       "          -5.68384842e-001, -2.07317515e-001,  9.40666312e-001,\n",
       "          -9.89117799e-001,  8.41138607e-001,  1.06550624e+000,\n",
       "          -6.13812383e-002],\n",
       "         [-4.94024139e-315,  8.27185553e-001, -7.23358033e-001,\n",
       "          -2.14955495e-001,  1.75259998e-001,  4.12265339e-001,\n",
       "           6.49905516e-001, -3.84505848e-002,  5.86078433e-004,\n",
       "           8.73526812e-002],\n",
       "         [ 2.52202787e-315, -2.47621324e-001, -2.25882183e-001,\n",
       "           2.13350977e-002, -8.12342600e-001,  3.55126783e-001,\n",
       "          -3.81662591e-001, -1.21935496e+000,  5.48197968e-001,\n",
       "           9.10317244e-001],\n",
       "         [-4.38048177e-315, -8.05426631e-001,  5.36518613e-001,\n",
       "          -1.15406330e+000,  5.20340025e-001,  7.02401896e-001,\n",
       "           3.13519330e-001,  2.96618545e-002,  1.17790253e-001,\n",
       "           7.78029804e-001]]),\n",
       "  array([[-6.81598044e-316,  4.14748898e-315, -1.29478534e-316,\n",
       "           4.56553545e-315, -4.13281824e-315,  2.28255850e-315,\n",
       "           3.61974310e-316, -1.16114645e-315,  1.18784167e-315,\n",
       "           2.41436518e-315],\n",
       "         [ 5.76269856e-001, -9.35912218e-001,  1.25877644e-001,\n",
       "          -1.83061365e-001,  8.20672775e-001, -7.89753888e-001,\n",
       "           8.38286290e-001, -5.72327742e-001, -1.32714563e+000,\n",
       "           5.64933983e-001],\n",
       "         [-4.82017572e-001, -9.53440642e-001,  3.11114902e-001,\n",
       "           4.84634302e-001, -9.55116356e-001, -9.29761978e-002,\n",
       "          -3.83352429e-001,  1.17278477e+000, -5.30589059e-001,\n",
       "          -5.94985005e-002],\n",
       "         [ 1.07970010e+000, -6.16310852e-001, -2.41335490e-001,\n",
       "          -1.92438109e-001, -1.10542763e+000, -1.32432108e-001,\n",
       "          -3.92569798e-001, -6.15730817e-001,  6.56320832e-001,\n",
       "           9.00685703e-001],\n",
       "         [ 4.33738428e-001, -6.10080705e-001, -7.95883057e-001,\n",
       "          -6.07907510e-001, -7.27661047e-001,  4.67515040e-001,\n",
       "          -1.44480174e-002,  3.75579021e-001, -5.56216099e-001,\n",
       "           9.66282834e-002],\n",
       "         [ 3.81444334e-001,  8.27261453e-001,  5.95898251e-001,\n",
       "          -4.51759909e-001,  1.20525089e-001,  1.13779084e+000,\n",
       "          -1.14238627e-001, -2.13708027e-002, -7.19591754e-001,\n",
       "          -7.73466999e-001],\n",
       "         [ 8.29243956e-002, -2.25966272e-001,  6.23437565e-001,\n",
       "          -1.63762271e-001, -6.05473747e-001, -5.66841225e-001,\n",
       "           7.01796863e-001, -3.14260258e-001,  6.02662713e-001,\n",
       "          -1.60362692e+000],\n",
       "         [-6.96220407e-001,  8.36202002e-001,  2.92376256e-001,\n",
       "           9.14126715e-001, -1.81762269e-001, -8.73298005e-001,\n",
       "          -1.73300425e+000, -1.94159004e-001, -5.29562400e-001,\n",
       "           3.65132020e-001],\n",
       "         [-1.00857507e+000, -1.17396346e+000, -1.36968466e+000,\n",
       "           6.92549195e-001, -3.08522373e-001,  1.02614653e+000,\n",
       "           5.00918493e-001, -1.26182731e+000, -9.35340803e-002,\n",
       "          -1.81818071e-001],\n",
       "         [-9.26678894e-001,  6.52207895e-001, -7.01564023e-001,\n",
       "          -5.75711078e-001,  1.06601947e+000, -1.88769811e-001,\n",
       "          -3.19941468e-001,  6.28461494e-001,  5.03200535e-001,\n",
       "           3.76246368e-001]])],\n",
       " 'intercepts_': [array([ 0.10322447,  0.21774343,  0.19806794, -0.18002791,  0.14401404,\n",
       "         -0.06475297,  0.00602668,  0.41222101,  0.12881769, -0.44518405,\n",
       "          0.18877528, -0.13558095,  0.04308992,  0.29276172,  0.02921628,\n",
       "         -0.17821561,  0.00830673,  0.05598998, -0.11815277, -0.07753355,\n",
       "          0.45094561,  0.25628888, -0.04208556,  0.10473302, -0.00541998,\n",
       "          0.20138417,  0.42819641, -0.23109322,  0.4233738 , -0.12610997,\n",
       "         -0.31021136,  0.05558953]),\n",
       "  array([-0.12597436,  0.04285156,  0.05530556, -0.18792785, -0.31302356,\n",
       "         -0.0954071 ,  0.49956467, -0.0471137 ,  0.00918605,  0.41638425,\n",
       "          0.16614984,  0.08989343, -0.21940252,  0.81960954,  0.33202601,\n",
       "          0.08304044]),\n",
       "  array([-3.24723579e-01,  2.78359763e-01,  1.63527358e-04,  6.18003201e-01,\n",
       "         -1.48027332e-01,  1.74976104e-01,  4.63206524e-01, -5.69122575e-01,\n",
       "         -4.63764234e-02,  1.22776059e-02]),\n",
       "  array([-0.10741835, -0.60635488,  0.4284118 , -1.53845679, -0.23014112,\n",
       "         -0.14786632,  1.0241438 , -0.78801015,  0.61349244,  0.24974821])],\n",
       " 'loss_curve_': [0.9785365546161121,\n",
       "  0.31616816033785433,\n",
       "  0.24884360853826043,\n",
       "  0.21235572995203264,\n",
       "  0.18669057387335092,\n",
       "  0.16824051180555377,\n",
       "  0.15202172613080628,\n",
       "  0.13800033534739556,\n",
       "  0.12615624745015072,\n",
       "  0.11767267954278095,\n",
       "  0.11100806542857983,\n",
       "  0.10280213436715163,\n",
       "  0.09699382909510508,\n",
       "  0.09252979410790828,\n",
       "  0.08748117269906662,\n",
       "  0.0820791829356586,\n",
       "  0.07929614440222785,\n",
       "  0.07586740421369326,\n",
       "  0.07256951644464835,\n",
       "  0.06940923796626684,\n",
       "  0.0664344884991062,\n",
       "  0.06294602622702024,\n",
       "  0.061145237603292185,\n",
       "  0.05891244192227019,\n",
       "  0.05606322086435622,\n",
       "  0.053110111333033526,\n",
       "  0.05171442358675872,\n",
       "  0.04845856197949247,\n",
       "  0.04753271934884396,\n",
       "  0.04565124666403527,\n",
       "  0.043382996858082445,\n",
       "  0.04151444803102157,\n",
       "  0.04115921706275573,\n",
       "  0.03960762355453073,\n",
       "  0.036890120640416885,\n",
       "  0.03606764276600603,\n",
       "  0.034442919840316034,\n",
       "  0.03342624514663461,\n",
       "  0.0320487391286641,\n",
       "  0.030858816909195157,\n",
       "  0.031169225693647884,\n",
       "  0.030249320717565743,\n",
       "  0.027264254584705053,\n",
       "  0.027150017698296718,\n",
       "  0.02630517349876851,\n",
       "  0.02633585756134821,\n",
       "  0.024103353567194126,\n",
       "  0.023674619710400815,\n",
       "  0.022236627279877075,\n",
       "  0.021124135558459007,\n",
       "  0.022305156156958536,\n",
       "  0.02081799548909089,\n",
       "  0.02044798085302801,\n",
       "  0.018378703542196364,\n",
       "  0.0182013988218067,\n",
       "  0.01942063743924601,\n",
       "  0.016660046655009645,\n",
       "  0.016829000172762478,\n",
       "  0.018891549119373064,\n",
       "  0.01545274344458739,\n",
       "  0.01395225600769888,\n",
       "  0.014725754092468703,\n",
       "  0.01416650773860753,\n",
       "  0.01571711258142353,\n",
       "  0.01564504344683805,\n",
       "  0.01294705065162635,\n",
       "  0.011876231800361667,\n",
       "  0.015676032779983317,\n",
       "  0.012152267271618306,\n",
       "  0.010662539382629479,\n",
       "  0.010450560143838768,\n",
       "  0.014122908078859131,\n",
       "  0.01265115538326947,\n",
       "  0.009175220391057667,\n",
       "  0.01429432598040472,\n",
       "  0.010653134850466347,\n",
       "  0.008717959158454299,\n",
       "  0.007618171318187461,\n",
       "  0.009621226536680353,\n",
       "  0.008952974958683415,\n",
       "  0.011826524809905672,\n",
       "  0.008208025343355374,\n",
       "  0.01175607811301814,\n",
       "  0.013057734554830138,\n",
       "  0.007362997096913737,\n",
       "  0.006419520853612764,\n",
       "  0.0059666822434138265,\n",
       "  0.0062719068268903165,\n",
       "  0.011679332419475694,\n",
       "  0.007769879574522034,\n",
       "  0.011519304465127207,\n",
       "  0.0072974777952782306,\n",
       "  0.010255862915063349,\n",
       "  0.009855798210806805,\n",
       "  0.004265014775332924,\n",
       "  0.004372226599873974,\n",
       "  0.0039944044666832546,\n",
       "  0.018159815679022185,\n",
       "  0.007724860258078629,\n",
       "  0.005334603882210396,\n",
       "  0.005954917114941562,\n",
       "  0.005574136268805383,\n",
       "  0.0033057959298770164,\n",
       "  0.005447343522750484,\n",
       "  0.017022645510282965,\n",
       "  0.008410180780410144,\n",
       "  0.0033430358035406926,\n",
       "  0.0017904825961893396,\n",
       "  0.005137892641336716,\n",
       "  0.002790184894078381,\n",
       "  0.02167343165063741,\n",
       "  0.008579856678445798,\n",
       "  0.003872531969615166,\n",
       "  0.0017377859069276213,\n",
       "  0.0013194443714258965,\n",
       "  0.0011296006529171534,\n",
       "  0.001044224430769161,\n",
       "  0.0010564940747351801,\n",
       "  0.0010366158490710457,\n",
       "  0.0009611307180263181,\n",
       "  0.020639023899828905,\n",
       "  0.026961891329702156,\n",
       "  0.00617448649488957,\n",
       "  0.0037802517101159566,\n",
       "  0.001736262545379607,\n",
       "  0.0013464264096597054,\n",
       "  0.001046596547154247],\n",
       " '_no_improvement_count': 11,\n",
       " 'best_loss_': 0.0009611307180263181,\n",
       " '_optimizer': <sklearn.neural_network._stochastic_optimizers.AdamOptimizer at 0x7fc30e296bd0>,\n",
       " 'loss_': 0.001046596547154247}"
      ]
     },
     "execution_count": 57,
     "metadata": {},
     "output_type": "execute_result"
    }
   ],
   "source": [
    "vars(mlp)"
   ]
  },
  {
   "cell_type": "markdown",
   "metadata": {
    "colab_type": "text",
    "id": "o1j3TOPdk6xJ"
   },
   "source": [
    "### 모델 학습 전략\n",
    "  - 모델 학습전 compile 메소드로 학습방식에 대한 환경 설정 \n",
    "  - loss : 모델 최적화를 위한 손실 함수 \n",
    "      - categorical_crossentropy \n",
    "      - mse\n",
    "  - optimizer:정규화\n",
    "  - metrics :여러 평가척도 (accuracy, recall, precisoin, f-1 score...)\n",
    "    - confusion matrix 에서 배움"
   ]
  },
  {
   "cell_type": "code",
   "execution_count": 33,
   "metadata": {
    "colab": {
     "base_uri": "https://localhost:8080/",
     "height": 335
    },
    "colab_type": "code",
    "id": "5W3LXieIht42",
    "outputId": "ad16791d-dbd9-424c-ac2e-d5a59c7caf34"
   },
   "outputs": [
    {
     "name": "stdout",
     "output_type": "stream",
     "text": [
      "Executing op Fill in device /job:localhost/replica:0/task:0/device:CPU:0\n",
      "Executing op VarHandleOp in device /job:localhost/replica:0/task:0/device:CPU:0\n",
      "Executing op VarIsInitializedOp in device /job:localhost/replica:0/task:0/device:CPU:0\n",
      "Executing op LogicalNot in device /job:localhost/replica:0/task:0/device:CPU:0\n",
      "Executing op Assert in device /job:localhost/replica:0/task:0/device:CPU:0\n",
      "Executing op AssignVariableOp in device /job:localhost/replica:0/task:0/device:CPU:0\n",
      "Executing op Fill in device /job:localhost/replica:0/task:0/device:CPU:0\n",
      "Executing op VarHandleOp in device /job:localhost/replica:0/task:0/device:CPU:0\n",
      "Executing op VarIsInitializedOp in device /job:localhost/replica:0/task:0/device:CPU:0\n",
      "Executing op LogicalNot in device /job:localhost/replica:0/task:0/device:CPU:0\n",
      "Executing op Assert in device /job:localhost/replica:0/task:0/device:CPU:0\n",
      "Executing op AssignVariableOp in device /job:localhost/replica:0/task:0/device:CPU:0\n",
      "Executing op VarHandleOp in device /job:localhost/replica:0/task:0/device:CPU:0\n",
      "Executing op VarIsInitializedOp in device /job:localhost/replica:0/task:0/device:CPU:0\n",
      "Executing op LogicalNot in device /job:localhost/replica:0/task:0/device:CPU:0\n",
      "Executing op Assert in device /job:localhost/replica:0/task:0/device:CPU:0\n",
      "Executing op AssignVariableOp in device /job:localhost/replica:0/task:0/device:CPU:0\n",
      "Executing op DestroyResourceOp in device /job:localhost/replica:0/task:0/device:CPU:0\n"
     ]
    }
   ],
   "source": [
    "model.compile(loss='sparse_categorical_crossentropy', optimizer='adam', )"
   ]
  },
  {
   "cell_type": "markdown",
   "metadata": {
    "colab_type": "text",
    "id": "-BSisA2El5q6"
   },
   "source": [
    "### 학습,검정\n",
    "- fit\n",
    "- evaluate"
   ]
  },
  {
   "cell_type": "code",
   "execution_count": 34,
   "metadata": {
    "colab": {
     "base_uri": "https://localhost:8080/",
     "height": 36
    },
    "colab_type": "code",
    "id": "h2B8mO0pht3M",
    "outputId": "d251d0e9-cd16-464b-b176-0e8f3084093b"
   },
   "outputs": [
    {
     "data": {
      "text/plain": [
       "(60000, 784)"
      ]
     },
     "execution_count": 34,
     "metadata": {},
     "output_type": "execute_result"
    }
   ],
   "source": [
    "X_train_.reshape(-1,28*28).shape"
   ]
  },
  {
   "cell_type": "code",
   "execution_count": 35,
   "metadata": {
    "colab": {},
    "colab_type": "code",
    "id": "45GYsQXnsEVa"
   },
   "outputs": [],
   "source": [
    "X_test=X_test.reshape(-1,28*28)"
   ]
  },
  {
   "cell_type": "code",
   "execution_count": 36,
   "metadata": {
    "scrolled": true
   },
   "outputs": [
    {
     "data": {
      "text/plain": [
       "(10000, 784)"
      ]
     },
     "execution_count": 36,
     "metadata": {},
     "output_type": "execute_result"
    }
   ],
   "source": [
    "X_test.shape"
   ]
  },
  {
   "cell_type": "code",
   "execution_count": 37,
   "metadata": {},
   "outputs": [
    {
     "data": {
      "text/plain": [
       "(60000,)"
      ]
     },
     "execution_count": 37,
     "metadata": {},
     "output_type": "execute_result"
    }
   ],
   "source": [
    "y_train.shape"
   ]
  },
  {
   "cell_type": "code",
   "execution_count": 38,
   "metadata": {
    "scrolled": true
   },
   "outputs": [
    {
     "data": {
      "text/plain": [
       "(60000, 28, 28)"
      ]
     },
     "execution_count": 38,
     "metadata": {},
     "output_type": "execute_result"
    }
   ],
   "source": [
    "X_train.shape"
   ]
  },
  {
   "cell_type": "code",
   "execution_count": 41,
   "metadata": {
    "colab": {
     "base_uri": "https://localhost:8080/",
     "height": 1000
    },
    "colab_type": "code",
    "id": "CDJRjsfBlhf3",
    "outputId": "e59e2bcd-e9ad-43a3-b958-9bd2eac97d2b"
   },
   "outputs": [
    {
     "name": "stdout",
     "output_type": "stream",
     "text": [
      "Executing op ReadVariableOp in device /job:localhost/replica:0/task:0/device:CPU:0\n",
      "Executing op Identity in device /job:localhost/replica:0/task:0/device:CPU:0\n",
      "Executing op RangeDataset in device /job:localhost/replica:0/task:0/device:CPU:0\n",
      "Executing op RepeatDataset in device /job:localhost/replica:0/task:0/device:CPU:0\n",
      "Executing op MapDataset in device /job:localhost/replica:0/task:0/device:CPU:0\n",
      "Executing op PrefetchDataset in device /job:localhost/replica:0/task:0/device:CPU:0\n",
      "Executing op FlatMapDataset in device /job:localhost/replica:0/task:0/device:CPU:0\n",
      "Executing op TensorDataset in device /job:localhost/replica:0/task:0/device:CPU:0\n",
      "Executing op RepeatDataset in device /job:localhost/replica:0/task:0/device:CPU:0\n",
      "Executing op ZipDataset in device /job:localhost/replica:0/task:0/device:CPU:0\n",
      "Executing op ParallelMapDatasetV2 in device /job:localhost/replica:0/task:0/device:CPU:0\n",
      "Executing op AssignVariableOp in device /job:localhost/replica:0/task:0/device:CPU:0\n",
      "Executing op ModelDataset in device /job:localhost/replica:0/task:0/device:CPU:0\n",
      "Executing op AnonymousIteratorV2 in device /job:localhost/replica:0/task:0/device:CPU:0\n",
      "Executing op MakeIterator in device /job:localhost/replica:0/task:0/device:CPU:0\n",
      "Executing op AssignVariableOp in device /job:localhost/replica:0/task:0/device:CPU:0\n",
      "Executing op AssignVariableOp in device /job:localhost/replica:0/task:0/device:CPU:0\n",
      "Executing op __inference_train_function_768 in device /job:localhost/replica:0/task:0/device:CPU:0\n",
      "   1/1875 [..............................] - ETA: 0s - loss: 0.8579Executing op __inference_train_function_768 in device /job:localhost/replica:0/task:0/device:CPU:0\n",
      "Executing op __inference_train_function_768 in device /job:localhost/replica:0/task:0/device:CPU:0\n",
      "Executing op __inference_train_function_768 in device /job:localhost/replica:0/task:0/device:CPU:0\n",
      "Executing op __inference_train_function_768 in device /job:localhost/replica:0/task:0/device:CPU:0\n",
      "Executing op __inference_train_function_768 in device /job:localhost/replica:0/task:0/device:CPU:0\n",
      "Executing op __inference_train_function_768 in device /job:localhost/replica:0/task:0/device:CPU:0\n",
      "Executing op __inference_train_function_768 in device /job:localhost/replica:0/task:0/device:CPU:0\n",
      "   8/1875 [..............................] - ETA: 13s - loss: 0.7237Executing op __inference_train_function_768 in device /job:localhost/replica:0/task:0/device:CPU:0\n",
      "Executing op __inference_train_function_768 in device /job:localhost/replica:0/task:0/device:CPU:0\n",
      "Executing op __inference_train_function_768 in device /job:localhost/replica:0/task:0/device:CPU:0\n",
      "Executing op __inference_train_function_768 in device /job:localhost/replica:0/task:0/device:CPU:0\n",
      "Executing op __inference_train_function_768 in device /job:localhost/replica:0/task:0/device:CPU:0\n",
      "Executing op __inference_train_function_768 in device /job:localhost/replica:0/task:0/device:CPU:0\n",
      "Executing op __inference_train_function_768 in device /job:localhost/replica:0/task:0/device:CPU:0\n",
      "  15/1875 [..............................] - ETA: 13s - loss: 0.6621Executing op __inference_train_function_768 in device /job:localhost/replica:0/task:0/device:CPU:0\n",
      "Executing op __inference_train_function_768 in device /job:localhost/replica:0/task:0/device:CPU:0\n",
      "Executing op __inference_train_function_768 in device /job:localhost/replica:0/task:0/device:CPU:0\n",
      "Executing op __inference_train_function_768 in device /job:localhost/replica:0/task:0/device:CPU:0\n",
      "Executing op __inference_train_function_768 in device /job:localhost/replica:0/task:0/device:CPU:0\n",
      "Executing op __inference_train_function_768 in device /job:localhost/replica:0/task:0/device:CPU:0\n",
      "Executing op __inference_train_function_768 in device /job:localhost/replica:0/task:0/device:CPU:0\n",
      "Executing op __inference_train_function_768 in device /job:localhost/replica:0/task:0/device:CPU:0\n",
      "Executing op __inference_train_function_768 in device /job:localhost/replica:0/task:0/device:CPU:0\n",
      "  24/1875 [..............................] - ETA: 12s - loss: 0.6567Executing op __inference_train_function_768 in device /job:localhost/replica:0/task:0/device:CPU:0\n",
      "Executing op __inference_train_function_768 in device /job:localhost/replica:0/task:0/device:CPU:0\n",
      "Executing op __inference_train_function_768 in device /job:localhost/replica:0/task:0/device:CPU:0\n",
      "Executing op __inference_train_function_768 in device /job:localhost/replica:0/task:0/device:CPU:0\n",
      "Executing op __inference_train_function_768 in device /job:localhost/replica:0/task:0/device:CPU:0\n",
      "Executing op __inference_train_function_768 in device /job:localhost/replica:0/task:0/device:CPU:0\n",
      "Executing op __inference_train_function_768 in device /job:localhost/replica:0/task:0/device:CPU:0\n",
      "Executing op __inference_train_function_768 in device /job:localhost/replica:0/task:0/device:CPU:0\n",
      "Executing op __inference_train_function_768 in device /job:localhost/replica:0/task:0/device:CPU:0\n",
      "  33/1875 [..............................] - ETA: 12s - loss: 0.6350Executing op __inference_train_function_768 in device /job:localhost/replica:0/task:0/device:CPU:0\n",
      "Executing op __inference_train_function_768 in device /job:localhost/replica:0/task:0/device:CPU:0\n",
      "Executing op __inference_train_function_768 in device /job:localhost/replica:0/task:0/device:CPU:0\n",
      "Executing op __inference_train_function_768 in device /job:localhost/replica:0/task:0/device:CPU:0\n",
      "Executing op __inference_train_function_768 in device /job:localhost/replica:0/task:0/device:CPU:0\n",
      "Executing op __inference_train_function_768 in device /job:localhost/replica:0/task:0/device:CPU:0\n",
      "Executing op __inference_train_function_768 in device /job:localhost/replica:0/task:0/device:CPU:0\n",
      "Executing op __inference_train_function_768 in device /job:localhost/replica:0/task:0/device:CPU:0\n",
      "Executing op __inference_train_function_768 in device /job:localhost/replica:0/task:0/device:CPU:0\n",
      "Executing op __inference_train_function_768 in device /job:localhost/replica:0/task:0/device:CPU:0\n",
      "  43/1875 [..............................] - ETA: 11s - loss: 0.6555Executing op __inference_train_function_768 in device /job:localhost/replica:0/task:0/device:CPU:0\n",
      "Executing op __inference_train_function_768 in device /job:localhost/replica:0/task:0/device:CPU:0\n",
      "Executing op __inference_train_function_768 in device /job:localhost/replica:0/task:0/device:CPU:0\n",
      "Executing op __inference_train_function_768 in device /job:localhost/replica:0/task:0/device:CPU:0\n",
      "Executing op __inference_train_function_768 in device /job:localhost/replica:0/task:0/device:CPU:0\n",
      "Executing op __inference_train_function_768 in device /job:localhost/replica:0/task:0/device:CPU:0\n",
      "Executing op __inference_train_function_768 in device /job:localhost/replica:0/task:0/device:CPU:0\n",
      "Executing op __inference_train_function_768 in device /job:localhost/replica:0/task:0/device:CPU:0\n",
      "Executing op __inference_train_function_768 in device /job:localhost/replica:0/task:0/device:CPU:0\n",
      "  52/1875 [..............................] - ETA: 11s - loss: 0.6633Executing op __inference_train_function_768 in device /job:localhost/replica:0/task:0/device:CPU:0\n",
      "Executing op __inference_train_function_768 in device /job:localhost/replica:0/task:0/device:CPU:0\n",
      "Executing op __inference_train_function_768 in device /job:localhost/replica:0/task:0/device:CPU:0\n",
      "Executing op __inference_train_function_768 in device /job:localhost/replica:0/task:0/device:CPU:0\n",
      "Executing op __inference_train_function_768 in device /job:localhost/replica:0/task:0/device:CPU:0\n",
      "Executing op __inference_train_function_768 in device /job:localhost/replica:0/task:0/device:CPU:0\n",
      "Executing op __inference_train_function_768 in device /job:localhost/replica:0/task:0/device:CPU:0\n",
      "Executing op __inference_train_function_768 in device /job:localhost/replica:0/task:0/device:CPU:0\n",
      "Executing op __inference_train_function_768 in device /job:localhost/replica:0/task:0/device:CPU:0\n",
      "  61/1875 [..............................] - ETA: 10s - loss: 0.6550Executing op __inference_train_function_768 in device /job:localhost/replica:0/task:0/device:CPU:0\n",
      "Executing op __inference_train_function_768 in device /job:localhost/replica:0/task:0/device:CPU:0\n",
      "Executing op __inference_train_function_768 in device /job:localhost/replica:0/task:0/device:CPU:0\n"
     ]
    },
    {
     "name": "stdout",
     "output_type": "stream",
     "text": [
      "Executing op __inference_train_function_768 in device /job:localhost/replica:0/task:0/device:CPU:0\n",
      "Executing op __inference_train_function_768 in device /job:localhost/replica:0/task:0/device:CPU:0\n",
      "Executing op __inference_train_function_768 in device /job:localhost/replica:0/task:0/device:CPU:0\n",
      "Executing op __inference_train_function_768 in device /job:localhost/replica:0/task:0/device:CPU:0\n",
      "Executing op __inference_train_function_768 in device /job:localhost/replica:0/task:0/device:CPU:0\n",
      "Executing op __inference_train_function_768 in device /job:localhost/replica:0/task:0/device:CPU:0\n",
      "Executing op __inference_train_function_768 in device /job:localhost/replica:0/task:0/device:CPU:0\n",
      "  71/1875 [>.............................] - ETA: 10s - loss: 0.6590Executing op __inference_train_function_768 in device /job:localhost/replica:0/task:0/device:CPU:0\n",
      "Executing op __inference_train_function_768 in device /job:localhost/replica:0/task:0/device:CPU:0\n",
      "Executing op __inference_train_function_768 in device /job:localhost/replica:0/task:0/device:CPU:0\n",
      "Executing op __inference_train_function_768 in device /job:localhost/replica:0/task:0/device:CPU:0\n",
      "Executing op __inference_train_function_768 in device /job:localhost/replica:0/task:0/device:CPU:0\n",
      "  76/1875 [>.............................] - ETA: 12s - loss: 0.6539Executing op __inference_train_function_768 in device /job:localhost/replica:0/task:0/device:CPU:0\n",
      "Executing op __inference_train_function_768 in device /job:localhost/replica:0/task:0/device:CPU:0\n",
      "Executing op __inference_train_function_768 in device /job:localhost/replica:0/task:0/device:CPU:0\n",
      "Executing op __inference_train_function_768 in device /job:localhost/replica:0/task:0/device:CPU:0\n",
      "  80/1875 [>.............................] - ETA: 13s - loss: 0.6434Executing op __inference_train_function_768 in device /job:localhost/replica:0/task:0/device:CPU:0\n",
      "Executing op __inference_train_function_768 in device /job:localhost/replica:0/task:0/device:CPU:0\n",
      "Executing op __inference_train_function_768 in device /job:localhost/replica:0/task:0/device:CPU:0\n",
      "  83/1875 [>.............................] - ETA: 13s - loss: 0.6414Executing op __inference_train_function_768 in device /job:localhost/replica:0/task:0/device:CPU:0\n",
      "Executing op __inference_train_function_768 in device /job:localhost/replica:0/task:0/device:CPU:0\n",
      "Executing op __inference_train_function_768 in device /job:localhost/replica:0/task:0/device:CPU:0\n",
      "Executing op __inference_train_function_768 in device /job:localhost/replica:0/task:0/device:CPU:0\n",
      "Executing op __inference_train_function_768 in device /job:localhost/replica:0/task:0/device:CPU:0\n",
      "Executing op __inference_train_function_768 in device /job:localhost/replica:0/task:0/device:CPU:0\n",
      "  89/1875 [>.............................] - ETA: 13s - loss: 0.6516Executing op __inference_train_function_768 in device /job:localhost/replica:0/task:0/device:CPU:0\n",
      "Executing op __inference_train_function_768 in device /job:localhost/replica:0/task:0/device:CPU:0\n",
      "Executing op __inference_train_function_768 in device /job:localhost/replica:0/task:0/device:CPU:0\n",
      "Executing op __inference_train_function_768 in device /job:localhost/replica:0/task:0/device:CPU:0\n",
      "Executing op __inference_train_function_768 in device /job:localhost/replica:0/task:0/device:CPU:0\n",
      "Executing op __inference_train_function_768 in device /job:localhost/replica:0/task:0/device:CPU:0\n",
      "Executing op __inference_train_function_768 in device /job:localhost/replica:0/task:0/device:CPU:0\n",
      "Executing op __inference_train_function_768 in device /job:localhost/replica:0/task:0/device:CPU:0\n",
      "Executing op __inference_train_function_768 in device /job:localhost/replica:0/task:0/device:CPU:0\n",
      "Executing op __inference_train_function_768 in device /job:localhost/replica:0/task:0/device:CPU:0\n",
      "  99/1875 [>.............................] - ETA: 13s - loss: 0.6382Executing op __inference_train_function_768 in device /job:localhost/replica:0/task:0/device:CPU:0\n",
      "Executing op __inference_train_function_768 in device /job:localhost/replica:0/task:0/device:CPU:0\n",
      "Executing op __inference_train_function_768 in device /job:localhost/replica:0/task:0/device:CPU:0\n",
      "Executing op __inference_train_function_768 in device /job:localhost/replica:0/task:0/device:CPU:0\n",
      "Executing op __inference_train_function_768 in device /job:localhost/replica:0/task:0/device:CPU:0\n",
      "Executing op __inference_train_function_768 in device /job:localhost/replica:0/task:0/device:CPU:0\n",
      " 105/1875 [>.............................] - ETA: 13s - loss: 0.6342Executing op __inference_train_function_768 in device /job:localhost/replica:0/task:0/device:CPU:0\n",
      "Executing op __inference_train_function_768 in device /job:localhost/replica:0/task:0/device:CPU:0\n",
      "Executing op __inference_train_function_768 in device /job:localhost/replica:0/task:0/device:CPU:0\n",
      "Executing op __inference_train_function_768 in device /job:localhost/replica:0/task:0/device:CPU:0\n",
      "Executing op __inference_train_function_768 in device /job:localhost/replica:0/task:0/device:CPU:0\n",
      "Executing op __inference_train_function_768 in device /job:localhost/replica:0/task:0/device:CPU:0\n",
      "Executing op __inference_train_function_768 in device /job:localhost/replica:0/task:0/device:CPU:0\n",
      "Executing op __inference_train_function_768 in device /job:localhost/replica:0/task:0/device:CPU:0\n",
      " 113/1875 [>.............................] - ETA: 13s - loss: 0.6308Executing op __inference_train_function_768 in device /job:localhost/replica:0/task:0/device:CPU:0\n",
      "Executing op __inference_train_function_768 in device /job:localhost/replica:0/task:0/device:CPU:0\n",
      "Executing op __inference_train_function_768 in device /job:localhost/replica:0/task:0/device:CPU:0\n",
      "Executing op __inference_train_function_768 in device /job:localhost/replica:0/task:0/device:CPU:0\n",
      "Executing op __inference_train_function_768 in device /job:localhost/replica:0/task:0/device:CPU:0\n",
      "Executing op __inference_train_function_768 in device /job:localhost/replica:0/task:0/device:CPU:0\n",
      "Executing op __inference_train_function_768 in device /job:localhost/replica:0/task:0/device:CPU:0\n",
      "Executing op __inference_train_function_768 in device /job:localhost/replica:0/task:0/device:CPU:0\n",
      "Executing op __inference_train_function_768 in device /job:localhost/replica:0/task:0/device:CPU:0\n",
      " 122/1875 [>.............................] - ETA: 12s - loss: 0.6322Executing op __inference_train_function_768 in device /job:localhost/replica:0/task:0/device:CPU:0\n",
      "Executing op __inference_train_function_768 in device /job:localhost/replica:0/task:0/device:CPU:0\n",
      "Executing op __inference_train_function_768 in device /job:localhost/replica:0/task:0/device:CPU:0\n",
      "Executing op __inference_train_function_768 in device /job:localhost/replica:0/task:0/device:CPU:0\n",
      "Executing op __inference_train_function_768 in device /job:localhost/replica:0/task:0/device:CPU:0\n",
      "Executing op __inference_train_function_768 in device /job:localhost/replica:0/task:0/device:CPU:0\n",
      "Executing op __inference_train_function_768 in device /job:localhost/replica:0/task:0/device:CPU:0\n",
      "Executing op __inference_train_function_768 in device /job:localhost/replica:0/task:0/device:CPU:0\n",
      "Executing op __inference_train_function_768 in device /job:localhost/replica:0/task:0/device:CPU:0\n",
      "Executing op __inference_train_function_768 in device /job:localhost/replica:0/task:0/device:CPU:0\n",
      " 132/1875 [=>............................] - ETA: 12s - loss: 0.6323Executing op __inference_train_function_768 in device /job:localhost/replica:0/task:0/device:CPU:0\n",
      "Executing op __inference_train_function_768 in device /job:localhost/replica:0/task:0/device:CPU:0\n",
      "Executing op __inference_train_function_768 in device /job:localhost/replica:0/task:0/device:CPU:0\n",
      "Executing op __inference_train_function_768 in device /job:localhost/replica:0/task:0/device:CPU:0\n",
      "Executing op __inference_train_function_768 in device /job:localhost/replica:0/task:0/device:CPU:0\n",
      "Executing op __inference_train_function_768 in device /job:localhost/replica:0/task:0/device:CPU:0\n",
      "Executing op __inference_train_function_768 in device /job:localhost/replica:0/task:0/device:CPU:0\n",
      "Executing op __inference_train_function_768 in device /job:localhost/replica:0/task:0/device:CPU:0\n"
     ]
    },
    {
     "name": "stdout",
     "output_type": "stream",
     "text": [
      " 140/1875 [=>............................] - ETA: 12s - loss: 0.6356Executing op __inference_train_function_768 in device /job:localhost/replica:0/task:0/device:CPU:0\n",
      "Executing op __inference_train_function_768 in device /job:localhost/replica:0/task:0/device:CPU:0\n",
      "Executing op __inference_train_function_768 in device /job:localhost/replica:0/task:0/device:CPU:0\n",
      "Executing op __inference_train_function_768 in device /job:localhost/replica:0/task:0/device:CPU:0\n",
      "Executing op __inference_train_function_768 in device /job:localhost/replica:0/task:0/device:CPU:0\n",
      "Executing op __inference_train_function_768 in device /job:localhost/replica:0/task:0/device:CPU:0\n",
      "Executing op __inference_train_function_768 in device /job:localhost/replica:0/task:0/device:CPU:0\n",
      "Executing op __inference_train_function_768 in device /job:localhost/replica:0/task:0/device:CPU:0\n",
      "Executing op __inference_train_function_768 in device /job:localhost/replica:0/task:0/device:CPU:0\n",
      " 149/1875 [=>............................] - ETA: 12s - loss: 0.6336Executing op __inference_train_function_768 in device /job:localhost/replica:0/task:0/device:CPU:0\n",
      "Executing op __inference_train_function_768 in device /job:localhost/replica:0/task:0/device:CPU:0\n",
      "Executing op __inference_train_function_768 in device /job:localhost/replica:0/task:0/device:CPU:0\n",
      "Executing op __inference_train_function_768 in device /job:localhost/replica:0/task:0/device:CPU:0\n",
      "Executing op __inference_train_function_768 in device /job:localhost/replica:0/task:0/device:CPU:0\n",
      "Executing op __inference_train_function_768 in device /job:localhost/replica:0/task:0/device:CPU:0\n",
      "Executing op __inference_train_function_768 in device /job:localhost/replica:0/task:0/device:CPU:0\n",
      "Executing op __inference_train_function_768 in device /job:localhost/replica:0/task:0/device:CPU:0\n",
      " 157/1875 [=>............................] - ETA: 12s - loss: 0.6336Executing op __inference_train_function_768 in device /job:localhost/replica:0/task:0/device:CPU:0\n",
      "Executing op __inference_train_function_768 in device /job:localhost/replica:0/task:0/device:CPU:0\n",
      "Executing op __inference_train_function_768 in device /job:localhost/replica:0/task:0/device:CPU:0\n",
      "Executing op __inference_train_function_768 in device /job:localhost/replica:0/task:0/device:CPU:0\n",
      "Executing op __inference_train_function_768 in device /job:localhost/replica:0/task:0/device:CPU:0\n",
      "Executing op __inference_train_function_768 in device /job:localhost/replica:0/task:0/device:CPU:0\n",
      " 163/1875 [=>............................] - ETA: 12s - loss: 0.6329Executing op __inference_train_function_768 in device /job:localhost/replica:0/task:0/device:CPU:0\n",
      "Executing op __inference_train_function_768 in device /job:localhost/replica:0/task:0/device:CPU:0\n",
      "Executing op __inference_train_function_768 in device /job:localhost/replica:0/task:0/device:CPU:0\n",
      "Executing op __inference_train_function_768 in device /job:localhost/replica:0/task:0/device:CPU:0\n",
      " 167/1875 [=>............................] - ETA: 12s - loss: 0.6341Executing op __inference_train_function_768 in device /job:localhost/replica:0/task:0/device:CPU:0\n",
      "Executing op __inference_train_function_768 in device /job:localhost/replica:0/task:0/device:CPU:0\n",
      "Executing op __inference_train_function_768 in device /job:localhost/replica:0/task:0/device:CPU:0\n",
      "Executing op __inference_train_function_768 in device /job:localhost/replica:0/task:0/device:CPU:0\n",
      "Executing op __inference_train_function_768 in device /job:localhost/replica:0/task:0/device:CPU:0\n",
      "Executing op __inference_train_function_768 in device /job:localhost/replica:0/task:0/device:CPU:0\n",
      " 173/1875 [=>............................] - ETA: 12s - loss: 0.6344Executing op __inference_train_function_768 in device /job:localhost/replica:0/task:0/device:CPU:0\n",
      "Executing op __inference_train_function_768 in device /job:localhost/replica:0/task:0/device:CPU:0\n",
      "Executing op __inference_train_function_768 in device /job:localhost/replica:0/task:0/device:CPU:0\n",
      "Executing op __inference_train_function_768 in device /job:localhost/replica:0/task:0/device:CPU:0\n",
      "Executing op __inference_train_function_768 in device /job:localhost/replica:0/task:0/device:CPU:0\n",
      "Executing op __inference_train_function_768 in device /job:localhost/replica:0/task:0/device:CPU:0\n",
      "Executing op __inference_train_function_768 in device /job:localhost/replica:0/task:0/device:CPU:0\n",
      "Executing op __inference_train_function_768 in device /job:localhost/replica:0/task:0/device:CPU:0\n",
      "Executing op __inference_train_function_768 in device /job:localhost/replica:0/task:0/device:CPU:0\n",
      "Executing op __inference_train_function_768 in device /job:localhost/replica:0/task:0/device:CPU:0\n",
      " 183/1875 [=>............................] - ETA: 12s - loss: 0.6298Executing op __inference_train_function_768 in device /job:localhost/replica:0/task:0/device:CPU:0\n",
      "Executing op __inference_train_function_768 in device /job:localhost/replica:0/task:0/device:CPU:0\n",
      "Executing op __inference_train_function_768 in device /job:localhost/replica:0/task:0/device:CPU:0\n",
      "Executing op __inference_train_function_768 in device /job:localhost/replica:0/task:0/device:CPU:0\n",
      "Executing op __inference_train_function_768 in device /job:localhost/replica:0/task:0/device:CPU:0\n",
      "Executing op __inference_train_function_768 in device /job:localhost/replica:0/task:0/device:CPU:0\n",
      "Executing op __inference_train_function_768 in device /job:localhost/replica:0/task:0/device:CPU:0\n",
      "Executing op __inference_train_function_768 in device /job:localhost/replica:0/task:0/device:CPU:0\n",
      "Executing op __inference_train_function_768 in device /job:localhost/replica:0/task:0/device:CPU:0\n",
      " 192/1875 [==>...........................] - ETA: 12s - loss: 0.6273Executing op __inference_train_function_768 in device /job:localhost/replica:0/task:0/device:CPU:0\n",
      "Executing op __inference_train_function_768 in device /job:localhost/replica:0/task:0/device:CPU:0\n",
      "Executing op __inference_train_function_768 in device /job:localhost/replica:0/task:0/device:CPU:0\n",
      "Executing op __inference_train_function_768 in device /job:localhost/replica:0/task:0/device:CPU:0\n",
      "Executing op __inference_train_function_768 in device /job:localhost/replica:0/task:0/device:CPU:0\n",
      "Executing op __inference_train_function_768 in device /job:localhost/replica:0/task:0/device:CPU:0\n",
      "Executing op __inference_train_function_768 in device /job:localhost/replica:0/task:0/device:CPU:0\n",
      "Executing op __inference_train_function_768 in device /job:localhost/replica:0/task:0/device:CPU:0\n",
      "Executing op __inference_train_function_768 in device /job:localhost/replica:0/task:0/device:CPU:0\n",
      " 201/1875 [==>...........................] - ETA: 12s - loss: 0.6237Executing op __inference_train_function_768 in device /job:localhost/replica:0/task:0/device:CPU:0\n",
      "Executing op __inference_train_function_768 in device /job:localhost/replica:0/task:0/device:CPU:0\n",
      "Executing op __inference_train_function_768 in device /job:localhost/replica:0/task:0/device:CPU:0\n",
      "Executing op __inference_train_function_768 in device /job:localhost/replica:0/task:0/device:CPU:0\n",
      "Executing op __inference_train_function_768 in device /job:localhost/replica:0/task:0/device:CPU:0\n",
      "Executing op __inference_train_function_768 in device /job:localhost/replica:0/task:0/device:CPU:0\n",
      "Executing op __inference_train_function_768 in device /job:localhost/replica:0/task:0/device:CPU:0\n",
      "Executing op __inference_train_function_768 in device /job:localhost/replica:0/task:0/device:CPU:0\n",
      "Executing op __inference_train_function_768 in device /job:localhost/replica:0/task:0/device:CPU:0\n",
      " 210/1875 [==>...........................] - ETA: 12s - loss: 0.6211Executing op __inference_train_function_768 in device /job:localhost/replica:0/task:0/device:CPU:0\n",
      "Executing op __inference_train_function_768 in device /job:localhost/replica:0/task:0/device:CPU:0\n",
      "Executing op __inference_train_function_768 in device /job:localhost/replica:0/task:0/device:CPU:0\n",
      "Executing op __inference_train_function_768 in device /job:localhost/replica:0/task:0/device:CPU:0\n",
      "Executing op __inference_train_function_768 in device /job:localhost/replica:0/task:0/device:CPU:0\n",
      "Executing op __inference_train_function_768 in device /job:localhost/replica:0/task:0/device:CPU:0\n"
     ]
    },
    {
     "name": "stdout",
     "output_type": "stream",
     "text": [
      "Executing op __inference_train_function_768 in device /job:localhost/replica:0/task:0/device:CPU:0\n",
      "Executing op __inference_train_function_768 in device /job:localhost/replica:0/task:0/device:CPU:0\n",
      " 218/1875 [==>...........................] - ETA: 11s - loss: 0.6183Executing op __inference_train_function_768 in device /job:localhost/replica:0/task:0/device:CPU:0\n",
      "Executing op __inference_train_function_768 in device /job:localhost/replica:0/task:0/device:CPU:0\n",
      "Executing op __inference_train_function_768 in device /job:localhost/replica:0/task:0/device:CPU:0\n",
      "Executing op __inference_train_function_768 in device /job:localhost/replica:0/task:0/device:CPU:0\n",
      "Executing op __inference_train_function_768 in device /job:localhost/replica:0/task:0/device:CPU:0\n",
      "Executing op __inference_train_function_768 in device /job:localhost/replica:0/task:0/device:CPU:0\n",
      "Executing op __inference_train_function_768 in device /job:localhost/replica:0/task:0/device:CPU:0\n",
      "Executing op __inference_train_function_768 in device /job:localhost/replica:0/task:0/device:CPU:0\n",
      "Executing op __inference_train_function_768 in device /job:localhost/replica:0/task:0/device:CPU:0\n",
      "Executing op __inference_train_function_768 in device /job:localhost/replica:0/task:0/device:CPU:0\n",
      " 228/1875 [==>...........................] - ETA: 11s - loss: 0.6121Executing op __inference_train_function_768 in device /job:localhost/replica:0/task:0/device:CPU:0\n",
      "Executing op __inference_train_function_768 in device /job:localhost/replica:0/task:0/device:CPU:0\n",
      "Executing op __inference_train_function_768 in device /job:localhost/replica:0/task:0/device:CPU:0\n",
      "Executing op __inference_train_function_768 in device /job:localhost/replica:0/task:0/device:CPU:0\n",
      "Executing op __inference_train_function_768 in device /job:localhost/replica:0/task:0/device:CPU:0\n",
      "Executing op __inference_train_function_768 in device /job:localhost/replica:0/task:0/device:CPU:0\n",
      "Executing op __inference_train_function_768 in device /job:localhost/replica:0/task:0/device:CPU:0\n",
      " 235/1875 [==>...........................] - ETA: 11s - loss: 0.6125Executing op __inference_train_function_768 in device /job:localhost/replica:0/task:0/device:CPU:0\n",
      "Executing op __inference_train_function_768 in device /job:localhost/replica:0/task:0/device:CPU:0\n",
      "Executing op __inference_train_function_768 in device /job:localhost/replica:0/task:0/device:CPU:0\n",
      "Executing op __inference_train_function_768 in device /job:localhost/replica:0/task:0/device:CPU:0\n",
      "Executing op __inference_train_function_768 in device /job:localhost/replica:0/task:0/device:CPU:0\n",
      "Executing op __inference_train_function_768 in device /job:localhost/replica:0/task:0/device:CPU:0\n",
      "Executing op __inference_train_function_768 in device /job:localhost/replica:0/task:0/device:CPU:0\n",
      "Executing op __inference_train_function_768 in device /job:localhost/replica:0/task:0/device:CPU:0\n",
      "Executing op __inference_train_function_768 in device /job:localhost/replica:0/task:0/device:CPU:0\n",
      " 244/1875 [==>...........................] - ETA: 11s - loss: 0.6149Executing op __inference_train_function_768 in device /job:localhost/replica:0/task:0/device:CPU:0\n",
      "Executing op __inference_train_function_768 in device /job:localhost/replica:0/task:0/device:CPU:0\n",
      "Executing op __inference_train_function_768 in device /job:localhost/replica:0/task:0/device:CPU:0\n",
      "Executing op __inference_train_function_768 in device /job:localhost/replica:0/task:0/device:CPU:0\n",
      "Executing op __inference_train_function_768 in device /job:localhost/replica:0/task:0/device:CPU:0\n",
      "Executing op __inference_train_function_768 in device /job:localhost/replica:0/task:0/device:CPU:0\n",
      "Executing op __inference_train_function_768 in device /job:localhost/replica:0/task:0/device:CPU:0\n",
      "Executing op __inference_train_function_768 in device /job:localhost/replica:0/task:0/device:CPU:0\n",
      "Executing op __inference_train_function_768 in device /job:localhost/replica:0/task:0/device:CPU:0\n",
      "Executing op __inference_train_function_768 in device /job:localhost/replica:0/task:0/device:CPU:0\n",
      " 254/1875 [===>..........................] - ETA: 11s - loss: 0.6130Executing op __inference_train_function_768 in device /job:localhost/replica:0/task:0/device:CPU:0\n",
      "Executing op __inference_train_function_768 in device /job:localhost/replica:0/task:0/device:CPU:0\n",
      "Executing op __inference_train_function_768 in device /job:localhost/replica:0/task:0/device:CPU:0\n",
      "Executing op __inference_train_function_768 in device /job:localhost/replica:0/task:0/device:CPU:0\n",
      "Executing op __inference_train_function_768 in device /job:localhost/replica:0/task:0/device:CPU:0\n",
      "Executing op __inference_train_function_768 in device /job:localhost/replica:0/task:0/device:CPU:0\n",
      "Executing op __inference_train_function_768 in device /job:localhost/replica:0/task:0/device:CPU:0\n",
      "Executing op __inference_train_function_768 in device /job:localhost/replica:0/task:0/device:CPU:0\n",
      "Executing op __inference_train_function_768 in device /job:localhost/replica:0/task:0/device:CPU:0\n",
      " 263/1875 [===>..........................] - ETA: 11s - loss: 0.6139Executing op __inference_train_function_768 in device /job:localhost/replica:0/task:0/device:CPU:0\n",
      "Executing op __inference_train_function_768 in device /job:localhost/replica:0/task:0/device:CPU:0\n",
      "Executing op __inference_train_function_768 in device /job:localhost/replica:0/task:0/device:CPU:0\n",
      "Executing op __inference_train_function_768 in device /job:localhost/replica:0/task:0/device:CPU:0\n",
      "Executing op __inference_train_function_768 in device /job:localhost/replica:0/task:0/device:CPU:0\n",
      "Executing op __inference_train_function_768 in device /job:localhost/replica:0/task:0/device:CPU:0\n",
      "Executing op __inference_train_function_768 in device /job:localhost/replica:0/task:0/device:CPU:0\n",
      "Executing op __inference_train_function_768 in device /job:localhost/replica:0/task:0/device:CPU:0\n",
      "Executing op __inference_train_function_768 in device /job:localhost/replica:0/task:0/device:CPU:0\n",
      " 272/1875 [===>..........................] - ETA: 11s - loss: 0.6124Executing op __inference_train_function_768 in device /job:localhost/replica:0/task:0/device:CPU:0\n",
      "Executing op __inference_train_function_768 in device /job:localhost/replica:0/task:0/device:CPU:0\n",
      "Executing op __inference_train_function_768 in device /job:localhost/replica:0/task:0/device:CPU:0\n",
      "Executing op __inference_train_function_768 in device /job:localhost/replica:0/task:0/device:CPU:0\n",
      "Executing op __inference_train_function_768 in device /job:localhost/replica:0/task:0/device:CPU:0\n",
      " 277/1875 [===>..........................] - ETA: 11s - loss: 0.6121Executing op __inference_train_function_768 in device /job:localhost/replica:0/task:0/device:CPU:0\n",
      "Executing op __inference_train_function_768 in device /job:localhost/replica:0/task:0/device:CPU:0\n",
      "Executing op __inference_train_function_768 in device /job:localhost/replica:0/task:0/device:CPU:0\n",
      "Executing op __inference_train_function_768 in device /job:localhost/replica:0/task:0/device:CPU:0\n",
      "Executing op __inference_train_function_768 in device /job:localhost/replica:0/task:0/device:CPU:0\n",
      "Executing op __inference_train_function_768 in device /job:localhost/replica:0/task:0/device:CPU:0\n",
      "Executing op __inference_train_function_768 in device /job:localhost/replica:0/task:0/device:CPU:0\n",
      "Executing op __inference_train_function_768 in device /job:localhost/replica:0/task:0/device:CPU:0\n",
      "Executing op __inference_train_function_768 in device /job:localhost/replica:0/task:0/device:CPU:0\n",
      "Executing op __inference_train_function_768 in device /job:localhost/replica:0/task:0/device:CPU:0\n",
      " 287/1875 [===>..........................] - ETA: 10s - loss: 0.6096Executing op __inference_train_function_768 in device /job:localhost/replica:0/task:0/device:CPU:0\n",
      "Executing op __inference_train_function_768 in device /job:localhost/replica:0/task:0/device:CPU:0\n",
      "Executing op __inference_train_function_768 in device /job:localhost/replica:0/task:0/device:CPU:0\n",
      "Executing op __inference_train_function_768 in device /job:localhost/replica:0/task:0/device:CPU:0\n",
      "Executing op __inference_train_function_768 in device /job:localhost/replica:0/task:0/device:CPU:0\n",
      "Executing op __inference_train_function_768 in device /job:localhost/replica:0/task:0/device:CPU:0\n"
     ]
    },
    {
     "name": "stdout",
     "output_type": "stream",
     "text": [
      "Executing op __inference_train_function_768 in device /job:localhost/replica:0/task:0/device:CPU:0\n",
      "Executing op __inference_train_function_768 in device /job:localhost/replica:0/task:0/device:CPU:0\n",
      "Executing op __inference_train_function_768 in device /job:localhost/replica:0/task:0/device:CPU:0\n",
      "Executing op __inference_train_function_768 in device /job:localhost/replica:0/task:0/device:CPU:0\n",
      "Executing op __inference_train_function_768 in device /job:localhost/replica:0/task:0/device:CPU:0\n",
      " 298/1875 [===>..........................] - ETA: 10s - loss: 0.6100Executing op __inference_train_function_768 in device /job:localhost/replica:0/task:0/device:CPU:0\n",
      "Executing op __inference_train_function_768 in device /job:localhost/replica:0/task:0/device:CPU:0\n",
      "Executing op __inference_train_function_768 in device /job:localhost/replica:0/task:0/device:CPU:0\n",
      "Executing op __inference_train_function_768 in device /job:localhost/replica:0/task:0/device:CPU:0\n",
      "Executing op __inference_train_function_768 in device /job:localhost/replica:0/task:0/device:CPU:0\n",
      "Executing op __inference_train_function_768 in device /job:localhost/replica:0/task:0/device:CPU:0\n",
      "Executing op __inference_train_function_768 in device /job:localhost/replica:0/task:0/device:CPU:0\n",
      "Executing op __inference_train_function_768 in device /job:localhost/replica:0/task:0/device:CPU:0\n",
      "Executing op __inference_train_function_768 in device /job:localhost/replica:0/task:0/device:CPU:0\n",
      "Executing op __inference_train_function_768 in device /job:localhost/replica:0/task:0/device:CPU:0\n",
      " 308/1875 [===>..........................] - ETA: 10s - loss: 0.6065Executing op __inference_train_function_768 in device /job:localhost/replica:0/task:0/device:CPU:0\n",
      "Executing op __inference_train_function_768 in device /job:localhost/replica:0/task:0/device:CPU:0\n",
      "Executing op __inference_train_function_768 in device /job:localhost/replica:0/task:0/device:CPU:0\n",
      "Executing op __inference_train_function_768 in device /job:localhost/replica:0/task:0/device:CPU:0\n",
      "Executing op __inference_train_function_768 in device /job:localhost/replica:0/task:0/device:CPU:0\n",
      "Executing op __inference_train_function_768 in device /job:localhost/replica:0/task:0/device:CPU:0\n",
      "Executing op __inference_train_function_768 in device /job:localhost/replica:0/task:0/device:CPU:0\n",
      "Executing op __inference_train_function_768 in device /job:localhost/replica:0/task:0/device:CPU:0\n",
      " 316/1875 [====>.........................] - ETA: 10s - loss: 0.6075Executing op __inference_train_function_768 in device /job:localhost/replica:0/task:0/device:CPU:0\n",
      "Executing op __inference_train_function_768 in device /job:localhost/replica:0/task:0/device:CPU:0\n",
      "Executing op __inference_train_function_768 in device /job:localhost/replica:0/task:0/device:CPU:0\n",
      "Executing op __inference_train_function_768 in device /job:localhost/replica:0/task:0/device:CPU:0\n",
      "Executing op __inference_train_function_768 in device /job:localhost/replica:0/task:0/device:CPU:0\n",
      "Executing op __inference_train_function_768 in device /job:localhost/replica:0/task:0/device:CPU:0\n",
      "Executing op __inference_train_function_768 in device /job:localhost/replica:0/task:0/device:CPU:0\n",
      "Executing op __inference_train_function_768 in device /job:localhost/replica:0/task:0/device:CPU:0\n",
      " 324/1875 [====>.........................] - ETA: 10s - loss: 0.6055Executing op __inference_train_function_768 in device /job:localhost/replica:0/task:0/device:CPU:0\n",
      "Executing op __inference_train_function_768 in device /job:localhost/replica:0/task:0/device:CPU:0\n",
      "Executing op __inference_train_function_768 in device /job:localhost/replica:0/task:0/device:CPU:0\n",
      "Executing op __inference_train_function_768 in device /job:localhost/replica:0/task:0/device:CPU:0\n",
      "Executing op __inference_train_function_768 in device /job:localhost/replica:0/task:0/device:CPU:0\n",
      "Executing op __inference_train_function_768 in device /job:localhost/replica:0/task:0/device:CPU:0\n",
      "Executing op __inference_train_function_768 in device /job:localhost/replica:0/task:0/device:CPU:0\n",
      "Executing op __inference_train_function_768 in device /job:localhost/replica:0/task:0/device:CPU:0\n",
      "Executing op __inference_train_function_768 in device /job:localhost/replica:0/task:0/device:CPU:0\n",
      " 333/1875 [====>.........................] - ETA: 10s - loss: 0.6051Executing op __inference_train_function_768 in device /job:localhost/replica:0/task:0/device:CPU:0\n",
      "Executing op __inference_train_function_768 in device /job:localhost/replica:0/task:0/device:CPU:0\n",
      "Executing op __inference_train_function_768 in device /job:localhost/replica:0/task:0/device:CPU:0\n",
      "Executing op __inference_train_function_768 in device /job:localhost/replica:0/task:0/device:CPU:0\n",
      "Executing op __inference_train_function_768 in device /job:localhost/replica:0/task:0/device:CPU:0\n",
      "Executing op __inference_train_function_768 in device /job:localhost/replica:0/task:0/device:CPU:0\n",
      "Executing op __inference_train_function_768 in device /job:localhost/replica:0/task:0/device:CPU:0\n",
      "Executing op __inference_train_function_768 in device /job:localhost/replica:0/task:0/device:CPU:0\n",
      "Executing op __inference_train_function_768 in device /job:localhost/replica:0/task:0/device:CPU:0\n",
      "Executing op __inference_train_function_768 in device /job:localhost/replica:0/task:0/device:CPU:0\n",
      " 343/1875 [====>.........................] - ETA: 10s - loss: 0.6028Executing op __inference_train_function_768 in device /job:localhost/replica:0/task:0/device:CPU:0\n",
      "Executing op __inference_train_function_768 in device /job:localhost/replica:0/task:0/device:CPU:0\n",
      "Executing op __inference_train_function_768 in device /job:localhost/replica:0/task:0/device:CPU:0\n",
      "Executing op __inference_train_function_768 in device /job:localhost/replica:0/task:0/device:CPU:0\n",
      "Executing op __inference_train_function_768 in device /job:localhost/replica:0/task:0/device:CPU:0\n",
      "Executing op __inference_train_function_768 in device /job:localhost/replica:0/task:0/device:CPU:0\n",
      "Executing op __inference_train_function_768 in device /job:localhost/replica:0/task:0/device:CPU:0\n",
      "Executing op __inference_train_function_768 in device /job:localhost/replica:0/task:0/device:CPU:0\n",
      "Executing op __inference_train_function_768 in device /job:localhost/replica:0/task:0/device:CPU:0\n",
      " 352/1875 [====>.........................] - ETA: 10s - loss: 0.6024Executing op __inference_train_function_768 in device /job:localhost/replica:0/task:0/device:CPU:0\n",
      "Executing op __inference_train_function_768 in device /job:localhost/replica:0/task:0/device:CPU:0\n",
      "Executing op __inference_train_function_768 in device /job:localhost/replica:0/task:0/device:CPU:0\n",
      "Executing op __inference_train_function_768 in device /job:localhost/replica:0/task:0/device:CPU:0\n",
      "Executing op __inference_train_function_768 in device /job:localhost/replica:0/task:0/device:CPU:0\n",
      "Executing op __inference_train_function_768 in device /job:localhost/replica:0/task:0/device:CPU:0\n",
      "Executing op __inference_train_function_768 in device /job:localhost/replica:0/task:0/device:CPU:0\n",
      "Executing op __inference_train_function_768 in device /job:localhost/replica:0/task:0/device:CPU:0\n",
      "Executing op __inference_train_function_768 in device /job:localhost/replica:0/task:0/device:CPU:0\n",
      " 361/1875 [====>.........................] - ETA: 10s - loss: 0.6021Executing op __inference_train_function_768 in device /job:localhost/replica:0/task:0/device:CPU:0\n",
      "Executing op __inference_train_function_768 in device /job:localhost/replica:0/task:0/device:CPU:0\n",
      "Executing op __inference_train_function_768 in device /job:localhost/replica:0/task:0/device:CPU:0\n",
      "Executing op __inference_train_function_768 in device /job:localhost/replica:0/task:0/device:CPU:0\n",
      "Executing op __inference_train_function_768 in device /job:localhost/replica:0/task:0/device:CPU:0\n",
      "Executing op __inference_train_function_768 in device /job:localhost/replica:0/task:0/device:CPU:0\n",
      "Executing op __inference_train_function_768 in device /job:localhost/replica:0/task:0/device:CPU:0\n",
      "Executing op __inference_train_function_768 in device /job:localhost/replica:0/task:0/device:CPU:0\n",
      "Executing op __inference_train_function_768 in device /job:localhost/replica:0/task:0/device:CPU:0\n",
      "Executing op __inference_train_function_768 in device /job:localhost/replica:0/task:0/device:CPU:0\n"
     ]
    },
    {
     "name": "stdout",
     "output_type": "stream",
     "text": [
      " 371/1875 [====>.........................] - ETA: 10s - loss: 0.5991Executing op __inference_train_function_768 in device /job:localhost/replica:0/task:0/device:CPU:0\n",
      "Executing op __inference_train_function_768 in device /job:localhost/replica:0/task:0/device:CPU:0\n",
      "Executing op __inference_train_function_768 in device /job:localhost/replica:0/task:0/device:CPU:0\n",
      "Executing op __inference_train_function_768 in device /job:localhost/replica:0/task:0/device:CPU:0\n",
      "Executing op __inference_train_function_768 in device /job:localhost/replica:0/task:0/device:CPU:0\n",
      "Executing op __inference_train_function_768 in device /job:localhost/replica:0/task:0/device:CPU:0\n",
      "Executing op __inference_train_function_768 in device /job:localhost/replica:0/task:0/device:CPU:0\n",
      "Executing op __inference_train_function_768 in device /job:localhost/replica:0/task:0/device:CPU:0\n",
      "Executing op __inference_train_function_768 in device /job:localhost/replica:0/task:0/device:CPU:0\n",
      "Executing op __inference_train_function_768 in device /job:localhost/replica:0/task:0/device:CPU:0\n",
      " 381/1875 [=====>........................] - ETA: 9s - loss: 0.6007 Executing op __inference_train_function_768 in device /job:localhost/replica:0/task:0/device:CPU:0\n",
      "Executing op __inference_train_function_768 in device /job:localhost/replica:0/task:0/device:CPU:0\n",
      "Executing op __inference_train_function_768 in device /job:localhost/replica:0/task:0/device:CPU:0\n",
      "Executing op __inference_train_function_768 in device /job:localhost/replica:0/task:0/device:CPU:0\n",
      "Executing op __inference_train_function_768 in device /job:localhost/replica:0/task:0/device:CPU:0\n",
      "Executing op __inference_train_function_768 in device /job:localhost/replica:0/task:0/device:CPU:0\n",
      "Executing op __inference_train_function_768 in device /job:localhost/replica:0/task:0/device:CPU:0\n",
      "Executing op __inference_train_function_768 in device /job:localhost/replica:0/task:0/device:CPU:0\n",
      "Executing op __inference_train_function_768 in device /job:localhost/replica:0/task:0/device:CPU:0\n",
      "Executing op __inference_train_function_768 in device /job:localhost/replica:0/task:0/device:CPU:0\n",
      " 391/1875 [=====>........................] - ETA: 9s - loss: 0.5978Executing op __inference_train_function_768 in device /job:localhost/replica:0/task:0/device:CPU:0\n",
      "Executing op __inference_train_function_768 in device /job:localhost/replica:0/task:0/device:CPU:0\n",
      "Executing op __inference_train_function_768 in device /job:localhost/replica:0/task:0/device:CPU:0\n",
      "Executing op __inference_train_function_768 in device /job:localhost/replica:0/task:0/device:CPU:0\n",
      "Executing op __inference_train_function_768 in device /job:localhost/replica:0/task:0/device:CPU:0\n",
      "Executing op __inference_train_function_768 in device /job:localhost/replica:0/task:0/device:CPU:0\n",
      "Executing op __inference_train_function_768 in device /job:localhost/replica:0/task:0/device:CPU:0\n",
      "Executing op __inference_train_function_768 in device /job:localhost/replica:0/task:0/device:CPU:0\n",
      "Executing op __inference_train_function_768 in device /job:localhost/replica:0/task:0/device:CPU:0\n",
      " 400/1875 [=====>........................] - ETA: 9s - loss: 0.5969Executing op __inference_train_function_768 in device /job:localhost/replica:0/task:0/device:CPU:0\n",
      "Executing op __inference_train_function_768 in device /job:localhost/replica:0/task:0/device:CPU:0\n",
      "Executing op __inference_train_function_768 in device /job:localhost/replica:0/task:0/device:CPU:0\n",
      "Executing op __inference_train_function_768 in device /job:localhost/replica:0/task:0/device:CPU:0\n",
      "Executing op __inference_train_function_768 in device /job:localhost/replica:0/task:0/device:CPU:0\n",
      "Executing op __inference_train_function_768 in device /job:localhost/replica:0/task:0/device:CPU:0\n",
      " 406/1875 [=====>........................] - ETA: 9s - loss: 0.5948Executing op __inference_train_function_768 in device /job:localhost/replica:0/task:0/device:CPU:0\n",
      "Executing op __inference_train_function_768 in device /job:localhost/replica:0/task:0/device:CPU:0\n",
      "Executing op __inference_train_function_768 in device /job:localhost/replica:0/task:0/device:CPU:0\n",
      "Executing op __inference_train_function_768 in device /job:localhost/replica:0/task:0/device:CPU:0\n",
      " 410/1875 [=====>........................] - ETA: 9s - loss: 0.5951Executing op __inference_train_function_768 in device /job:localhost/replica:0/task:0/device:CPU:0\n",
      "Executing op __inference_train_function_768 in device /job:localhost/replica:0/task:0/device:CPU:0\n",
      "Executing op __inference_train_function_768 in device /job:localhost/replica:0/task:0/device:CPU:0\n",
      "Executing op __inference_train_function_768 in device /job:localhost/replica:0/task:0/device:CPU:0\n",
      "Executing op __inference_train_function_768 in device /job:localhost/replica:0/task:0/device:CPU:0\n",
      "Executing op __inference_train_function_768 in device /job:localhost/replica:0/task:0/device:CPU:0\n",
      " 416/1875 [=====>........................] - ETA: 9s - loss: 0.5941Executing op __inference_train_function_768 in device /job:localhost/replica:0/task:0/device:CPU:0\n",
      "Executing op __inference_train_function_768 in device /job:localhost/replica:0/task:0/device:CPU:0\n",
      "Executing op __inference_train_function_768 in device /job:localhost/replica:0/task:0/device:CPU:0\n",
      "Executing op __inference_train_function_768 in device /job:localhost/replica:0/task:0/device:CPU:0\n",
      "Executing op __inference_train_function_768 in device /job:localhost/replica:0/task:0/device:CPU:0\n",
      "Executing op __inference_train_function_768 in device /job:localhost/replica:0/task:0/device:CPU:0\n",
      "Executing op __inference_train_function_768 in device /job:localhost/replica:0/task:0/device:CPU:0\n",
      "Executing op __inference_train_function_768 in device /job:localhost/replica:0/task:0/device:CPU:0\n",
      " 424/1875 [=====>........................] - ETA: 9s - loss: 0.5931Executing op __inference_train_function_768 in device /job:localhost/replica:0/task:0/device:CPU:0\n",
      "Executing op __inference_train_function_768 in device /job:localhost/replica:0/task:0/device:CPU:0\n",
      "Executing op __inference_train_function_768 in device /job:localhost/replica:0/task:0/device:CPU:0\n",
      "Executing op __inference_train_function_768 in device /job:localhost/replica:0/task:0/device:CPU:0\n",
      "Executing op __inference_train_function_768 in device /job:localhost/replica:0/task:0/device:CPU:0\n",
      "Executing op __inference_train_function_768 in device /job:localhost/replica:0/task:0/device:CPU:0\n",
      "Executing op __inference_train_function_768 in device /job:localhost/replica:0/task:0/device:CPU:0\n",
      "Executing op __inference_train_function_768 in device /job:localhost/replica:0/task:0/device:CPU:0\n",
      "Executing op __inference_train_function_768 in device /job:localhost/replica:0/task:0/device:CPU:0\n",
      "Executing op __inference_train_function_768 in device /job:localhost/replica:0/task:0/device:CPU:0\n",
      " 434/1875 [=====>........................] - ETA: 9s - loss: 0.5913Executing op __inference_train_function_768 in device /job:localhost/replica:0/task:0/device:CPU:0\n",
      "Executing op __inference_train_function_768 in device /job:localhost/replica:0/task:0/device:CPU:0\n",
      "Executing op __inference_train_function_768 in device /job:localhost/replica:0/task:0/device:CPU:0\n",
      "Executing op __inference_train_function_768 in device /job:localhost/replica:0/task:0/device:CPU:0\n",
      "Executing op __inference_train_function_768 in device /job:localhost/replica:0/task:0/device:CPU:0\n",
      "Executing op __inference_train_function_768 in device /job:localhost/replica:0/task:0/device:CPU:0\n",
      "Executing op __inference_train_function_768 in device /job:localhost/replica:0/task:0/device:CPU:0\n",
      "Executing op __inference_train_function_768 in device /job:localhost/replica:0/task:0/device:CPU:0\n",
      "Executing op __inference_train_function_768 in device /job:localhost/replica:0/task:0/device:CPU:0\n",
      " 443/1875 [======>.......................] - ETA: 9s - loss: 0.5909Executing op __inference_train_function_768 in device /job:localhost/replica:0/task:0/device:CPU:0\n",
      "Executing op __inference_train_function_768 in device /job:localhost/replica:0/task:0/device:CPU:0\n",
      "Executing op __inference_train_function_768 in device /job:localhost/replica:0/task:0/device:CPU:0\n",
      "Executing op __inference_train_function_768 in device /job:localhost/replica:0/task:0/device:CPU:0\n"
     ]
    },
    {
     "name": "stdout",
     "output_type": "stream",
     "text": [
      "Executing op __inference_train_function_768 in device /job:localhost/replica:0/task:0/device:CPU:0\n",
      "Executing op __inference_train_function_768 in device /job:localhost/replica:0/task:0/device:CPU:0\n",
      "Executing op __inference_train_function_768 in device /job:localhost/replica:0/task:0/device:CPU:0\n",
      "Executing op __inference_train_function_768 in device /job:localhost/replica:0/task:0/device:CPU:0\n",
      "Executing op __inference_train_function_768 in device /job:localhost/replica:0/task:0/device:CPU:0\n",
      "Executing op __inference_train_function_768 in device /job:localhost/replica:0/task:0/device:CPU:0\n",
      " 453/1875 [======>.......................] - ETA: 9s - loss: 0.5910Executing op __inference_train_function_768 in device /job:localhost/replica:0/task:0/device:CPU:0\n",
      "Executing op __inference_train_function_768 in device /job:localhost/replica:0/task:0/device:CPU:0\n",
      "Executing op __inference_train_function_768 in device /job:localhost/replica:0/task:0/device:CPU:0\n",
      "Executing op __inference_train_function_768 in device /job:localhost/replica:0/task:0/device:CPU:0\n",
      "Executing op __inference_train_function_768 in device /job:localhost/replica:0/task:0/device:CPU:0\n",
      "Executing op __inference_train_function_768 in device /job:localhost/replica:0/task:0/device:CPU:0\n",
      "Executing op __inference_train_function_768 in device /job:localhost/replica:0/task:0/device:CPU:0\n",
      "Executing op __inference_train_function_768 in device /job:localhost/replica:0/task:0/device:CPU:0\n",
      "Executing op __inference_train_function_768 in device /job:localhost/replica:0/task:0/device:CPU:0\n",
      "Executing op __inference_train_function_768 in device /job:localhost/replica:0/task:0/device:CPU:0\n",
      " 463/1875 [======>.......................] - ETA: 9s - loss: 0.5896Executing op __inference_train_function_768 in device /job:localhost/replica:0/task:0/device:CPU:0\n",
      "Executing op __inference_train_function_768 in device /job:localhost/replica:0/task:0/device:CPU:0\n",
      "Executing op __inference_train_function_768 in device /job:localhost/replica:0/task:0/device:CPU:0\n",
      "Executing op __inference_train_function_768 in device /job:localhost/replica:0/task:0/device:CPU:0\n",
      "Executing op __inference_train_function_768 in device /job:localhost/replica:0/task:0/device:CPU:0\n",
      "Executing op __inference_train_function_768 in device /job:localhost/replica:0/task:0/device:CPU:0\n",
      "Executing op __inference_train_function_768 in device /job:localhost/replica:0/task:0/device:CPU:0\n",
      "Executing op __inference_train_function_768 in device /job:localhost/replica:0/task:0/device:CPU:0\n",
      " 471/1875 [======>.......................] - ETA: 9s - loss: 0.5892Executing op __inference_train_function_768 in device /job:localhost/replica:0/task:0/device:CPU:0\n",
      "Executing op __inference_train_function_768 in device /job:localhost/replica:0/task:0/device:CPU:0\n",
      "Executing op __inference_train_function_768 in device /job:localhost/replica:0/task:0/device:CPU:0\n",
      "Executing op __inference_train_function_768 in device /job:localhost/replica:0/task:0/device:CPU:0\n",
      "Executing op __inference_train_function_768 in device /job:localhost/replica:0/task:0/device:CPU:0\n",
      "Executing op __inference_train_function_768 in device /job:localhost/replica:0/task:0/device:CPU:0\n",
      "Executing op __inference_train_function_768 in device /job:localhost/replica:0/task:0/device:CPU:0\n",
      "Executing op __inference_train_function_768 in device /job:localhost/replica:0/task:0/device:CPU:0\n",
      " 479/1875 [======>.......................] - ETA: 9s - loss: 0.5884Executing op __inference_train_function_768 in device /job:localhost/replica:0/task:0/device:CPU:0\n",
      "Executing op __inference_train_function_768 in device /job:localhost/replica:0/task:0/device:CPU:0\n",
      "Executing op __inference_train_function_768 in device /job:localhost/replica:0/task:0/device:CPU:0\n",
      "Executing op __inference_train_function_768 in device /job:localhost/replica:0/task:0/device:CPU:0\n",
      "Executing op __inference_train_function_768 in device /job:localhost/replica:0/task:0/device:CPU:0\n",
      "Executing op __inference_train_function_768 in device /job:localhost/replica:0/task:0/device:CPU:0\n",
      "Executing op __inference_train_function_768 in device /job:localhost/replica:0/task:0/device:CPU:0\n",
      "Executing op __inference_train_function_768 in device /job:localhost/replica:0/task:0/device:CPU:0\n",
      "Executing op __inference_train_function_768 in device /job:localhost/replica:0/task:0/device:CPU:0\n",
      "Executing op __inference_train_function_768 in device /job:localhost/replica:0/task:0/device:CPU:0\n",
      "Executing op __inference_train_function_768 in device /job:localhost/replica:0/task:0/device:CPU:0\n",
      "Executing op __inference_train_function_768 in device /job:localhost/replica:0/task:0/device:CPU:0\n",
      "Executing op __inference_train_function_768 in device /job:localhost/replica:0/task:0/device:CPU:0\n",
      "Executing op __inference_train_function_768 in device /job:localhost/replica:0/task:0/device:CPU:0\n",
      "Executing op __inference_train_function_768 in device /job:localhost/replica:0/task:0/device:CPU:0\n",
      " 494/1875 [======>.......................] - ETA: 9s - loss: 0.5881Executing op __inference_train_function_768 in device /job:localhost/replica:0/task:0/device:CPU:0\n",
      "Executing op __inference_train_function_768 in device /job:localhost/replica:0/task:0/device:CPU:0\n",
      "Executing op __inference_train_function_768 in device /job:localhost/replica:0/task:0/device:CPU:0\n",
      "Executing op __inference_train_function_768 in device /job:localhost/replica:0/task:0/device:CPU:0\n",
      "Executing op __inference_train_function_768 in device /job:localhost/replica:0/task:0/device:CPU:0\n",
      "Executing op __inference_train_function_768 in device /job:localhost/replica:0/task:0/device:CPU:0\n",
      "Executing op __inference_train_function_768 in device /job:localhost/replica:0/task:0/device:CPU:0\n",
      "Executing op __inference_train_function_768 in device /job:localhost/replica:0/task:0/device:CPU:0\n",
      "Executing op __inference_train_function_768 in device /job:localhost/replica:0/task:0/device:CPU:0\n",
      "Executing op __inference_train_function_768 in device /job:localhost/replica:0/task:0/device:CPU:0\n",
      "Executing op __inference_train_function_768 in device /job:localhost/replica:0/task:0/device:CPU:0\n",
      "Executing op __inference_train_function_768 in device /job:localhost/replica:0/task:0/device:CPU:0\n",
      "Executing op __inference_train_function_768 in device /job:localhost/replica:0/task:0/device:CPU:0\n",
      "Executing op __inference_train_function_768 in device /job:localhost/replica:0/task:0/device:CPU:0\n",
      "Executing op __inference_train_function_768 in device /job:localhost/replica:0/task:0/device:CPU:0\n",
      " 509/1875 [=======>......................] - ETA: 8s - loss: 0.5850Executing op __inference_train_function_768 in device /job:localhost/replica:0/task:0/device:CPU:0\n",
      "Executing op __inference_train_function_768 in device /job:localhost/replica:0/task:0/device:CPU:0\n",
      "Executing op __inference_train_function_768 in device /job:localhost/replica:0/task:0/device:CPU:0\n",
      "Executing op __inference_train_function_768 in device /job:localhost/replica:0/task:0/device:CPU:0\n",
      "Executing op __inference_train_function_768 in device /job:localhost/replica:0/task:0/device:CPU:0\n",
      "Executing op __inference_train_function_768 in device /job:localhost/replica:0/task:0/device:CPU:0\n",
      "Executing op __inference_train_function_768 in device /job:localhost/replica:0/task:0/device:CPU:0\n",
      "Executing op __inference_train_function_768 in device /job:localhost/replica:0/task:0/device:CPU:0\n",
      "Executing op __inference_train_function_768 in device /job:localhost/replica:0/task:0/device:CPU:0\n",
      "Executing op __inference_train_function_768 in device /job:localhost/replica:0/task:0/device:CPU:0\n",
      "Executing op __inference_train_function_768 in device /job:localhost/replica:0/task:0/device:CPU:0\n",
      "Executing op __inference_train_function_768 in device /job:localhost/replica:0/task:0/device:CPU:0\n",
      "Executing op __inference_train_function_768 in device /job:localhost/replica:0/task:0/device:CPU:0\n",
      "Executing op __inference_train_function_768 in device /job:localhost/replica:0/task:0/device:CPU:0\n",
      "Executing op __inference_train_function_768 in device /job:localhost/replica:0/task:0/device:CPU:0\n",
      " 524/1875 [=======>......................] - ETA: 8s - loss: 0.5811Executing op __inference_train_function_768 in device /job:localhost/replica:0/task:0/device:CPU:0\n",
      "Executing op __inference_train_function_768 in device /job:localhost/replica:0/task:0/device:CPU:0\n"
     ]
    },
    {
     "name": "stdout",
     "output_type": "stream",
     "text": [
      "Executing op __inference_train_function_768 in device /job:localhost/replica:0/task:0/device:CPU:0\n",
      "Executing op __inference_train_function_768 in device /job:localhost/replica:0/task:0/device:CPU:0\n",
      "Executing op __inference_train_function_768 in device /job:localhost/replica:0/task:0/device:CPU:0\n",
      "Executing op __inference_train_function_768 in device /job:localhost/replica:0/task:0/device:CPU:0\n",
      "Executing op __inference_train_function_768 in device /job:localhost/replica:0/task:0/device:CPU:0\n",
      "Executing op __inference_train_function_768 in device /job:localhost/replica:0/task:0/device:CPU:0\n",
      "Executing op __inference_train_function_768 in device /job:localhost/replica:0/task:0/device:CPU:0\n",
      "Executing op __inference_train_function_768 in device /job:localhost/replica:0/task:0/device:CPU:0\n",
      "Executing op __inference_train_function_768 in device /job:localhost/replica:0/task:0/device:CPU:0\n",
      "Executing op __inference_train_function_768 in device /job:localhost/replica:0/task:0/device:CPU:0\n",
      " 536/1875 [=======>......................] - ETA: 8s - loss: 0.5801Executing op __inference_train_function_768 in device /job:localhost/replica:0/task:0/device:CPU:0\n",
      "Executing op __inference_train_function_768 in device /job:localhost/replica:0/task:0/device:CPU:0\n",
      "Executing op __inference_train_function_768 in device /job:localhost/replica:0/task:0/device:CPU:0\n",
      "Executing op __inference_train_function_768 in device /job:localhost/replica:0/task:0/device:CPU:0\n",
      "Executing op __inference_train_function_768 in device /job:localhost/replica:0/task:0/device:CPU:0\n",
      "Executing op __inference_train_function_768 in device /job:localhost/replica:0/task:0/device:CPU:0\n",
      "Executing op __inference_train_function_768 in device /job:localhost/replica:0/task:0/device:CPU:0\n",
      "Executing op __inference_train_function_768 in device /job:localhost/replica:0/task:0/device:CPU:0\n",
      "Executing op __inference_train_function_768 in device /job:localhost/replica:0/task:0/device:CPU:0\n",
      "Executing op __inference_train_function_768 in device /job:localhost/replica:0/task:0/device:CPU:0\n",
      "Executing op __inference_train_function_768 in device /job:localhost/replica:0/task:0/device:CPU:0\n",
      " 547/1875 [=======>......................] - ETA: 8s - loss: 0.5803Executing op __inference_train_function_768 in device /job:localhost/replica:0/task:0/device:CPU:0\n",
      "Executing op __inference_train_function_768 in device /job:localhost/replica:0/task:0/device:CPU:0\n",
      "Executing op __inference_train_function_768 in device /job:localhost/replica:0/task:0/device:CPU:0\n",
      "Executing op __inference_train_function_768 in device /job:localhost/replica:0/task:0/device:CPU:0\n",
      "Executing op __inference_train_function_768 in device /job:localhost/replica:0/task:0/device:CPU:0\n",
      "Executing op __inference_train_function_768 in device /job:localhost/replica:0/task:0/device:CPU:0\n",
      "Executing op __inference_train_function_768 in device /job:localhost/replica:0/task:0/device:CPU:0\n",
      "Executing op __inference_train_function_768 in device /job:localhost/replica:0/task:0/device:CPU:0\n",
      "Executing op __inference_train_function_768 in device /job:localhost/replica:0/task:0/device:CPU:0\n",
      " 556/1875 [=======>......................] - ETA: 8s - loss: 0.5791Executing op __inference_train_function_768 in device /job:localhost/replica:0/task:0/device:CPU:0\n",
      "Executing op __inference_train_function_768 in device /job:localhost/replica:0/task:0/device:CPU:0\n",
      "Executing op __inference_train_function_768 in device /job:localhost/replica:0/task:0/device:CPU:0\n",
      "Executing op __inference_train_function_768 in device /job:localhost/replica:0/task:0/device:CPU:0\n",
      " 560/1875 [=======>......................] - ETA: 8s - loss: 0.5790Executing op __inference_train_function_768 in device /job:localhost/replica:0/task:0/device:CPU:0\n",
      "Executing op __inference_train_function_768 in device /job:localhost/replica:0/task:0/device:CPU:0\n",
      "Executing op __inference_train_function_768 in device /job:localhost/replica:0/task:0/device:CPU:0\n",
      "Executing op __inference_train_function_768 in device /job:localhost/replica:0/task:0/device:CPU:0\n",
      "Executing op __inference_train_function_768 in device /job:localhost/replica:0/task:0/device:CPU:0\n",
      " 565/1875 [========>.....................] - ETA: 8s - loss: 0.5789Executing op __inference_train_function_768 in device /job:localhost/replica:0/task:0/device:CPU:0\n",
      "Executing op __inference_train_function_768 in device /job:localhost/replica:0/task:0/device:CPU:0\n",
      "Executing op __inference_train_function_768 in device /job:localhost/replica:0/task:0/device:CPU:0\n",
      "Executing op __inference_train_function_768 in device /job:localhost/replica:0/task:0/device:CPU:0\n",
      "Executing op __inference_train_function_768 in device /job:localhost/replica:0/task:0/device:CPU:0\n",
      "Executing op __inference_train_function_768 in device /job:localhost/replica:0/task:0/device:CPU:0\n",
      "Executing op __inference_train_function_768 in device /job:localhost/replica:0/task:0/device:CPU:0\n",
      "Executing op __inference_train_function_768 in device /job:localhost/replica:0/task:0/device:CPU:0\n",
      "Executing op __inference_train_function_768 in device /job:localhost/replica:0/task:0/device:CPU:0\n",
      "Executing op __inference_train_function_768 in device /job:localhost/replica:0/task:0/device:CPU:0\n",
      "Executing op __inference_train_function_768 in device /job:localhost/replica:0/task:0/device:CPU:0\n",
      " 576/1875 [========>.....................] - ETA: 8s - loss: 0.5797Executing op __inference_train_function_768 in device /job:localhost/replica:0/task:0/device:CPU:0\n",
      "Executing op __inference_train_function_768 in device /job:localhost/replica:0/task:0/device:CPU:0\n",
      "Executing op __inference_train_function_768 in device /job:localhost/replica:0/task:0/device:CPU:0\n",
      "Executing op __inference_train_function_768 in device /job:localhost/replica:0/task:0/device:CPU:0\n",
      "Executing op __inference_train_function_768 in device /job:localhost/replica:0/task:0/device:CPU:0\n",
      "Executing op __inference_train_function_768 in device /job:localhost/replica:0/task:0/device:CPU:0\n",
      "Executing op __inference_train_function_768 in device /job:localhost/replica:0/task:0/device:CPU:0\n",
      "Executing op __inference_train_function_768 in device /job:localhost/replica:0/task:0/device:CPU:0\n",
      "Executing op __inference_train_function_768 in device /job:localhost/replica:0/task:0/device:CPU:0\n",
      " 585/1875 [========>.....................] - ETA: 8s - loss: 0.5772Executing op __inference_train_function_768 in device /job:localhost/replica:0/task:0/device:CPU:0\n",
      "Executing op __inference_train_function_768 in device /job:localhost/replica:0/task:0/device:CPU:0\n",
      "Executing op __inference_train_function_768 in device /job:localhost/replica:0/task:0/device:CPU:0\n",
      "Executing op __inference_train_function_768 in device /job:localhost/replica:0/task:0/device:CPU:0\n",
      "Executing op __inference_train_function_768 in device /job:localhost/replica:0/task:0/device:CPU:0\n",
      "Executing op __inference_train_function_768 in device /job:localhost/replica:0/task:0/device:CPU:0\n",
      "Executing op __inference_train_function_768 in device /job:localhost/replica:0/task:0/device:CPU:0\n",
      "Executing op __inference_train_function_768 in device /job:localhost/replica:0/task:0/device:CPU:0\n",
      "Executing op __inference_train_function_768 in device /job:localhost/replica:0/task:0/device:CPU:0\n",
      " 594/1875 [========>.....................] - ETA: 8s - loss: 0.5769Executing op __inference_train_function_768 in device /job:localhost/replica:0/task:0/device:CPU:0\n",
      "Executing op __inference_train_function_768 in device /job:localhost/replica:0/task:0/device:CPU:0\n",
      "Executing op __inference_train_function_768 in device /job:localhost/replica:0/task:0/device:CPU:0\n",
      "Executing op __inference_train_function_768 in device /job:localhost/replica:0/task:0/device:CPU:0\n",
      "Executing op __inference_train_function_768 in device /job:localhost/replica:0/task:0/device:CPU:0\n",
      "Executing op __inference_train_function_768 in device /job:localhost/replica:0/task:0/device:CPU:0\n",
      "Executing op __inference_train_function_768 in device /job:localhost/replica:0/task:0/device:CPU:0\n",
      "Executing op __inference_train_function_768 in device /job:localhost/replica:0/task:0/device:CPU:0\n",
      "Executing op __inference_train_function_768 in device /job:localhost/replica:0/task:0/device:CPU:0\n",
      "Executing op __inference_train_function_768 in device /job:localhost/replica:0/task:0/device:CPU:0\n"
     ]
    },
    {
     "name": "stdout",
     "output_type": "stream",
     "text": [
      "Executing op __inference_train_function_768 in device /job:localhost/replica:0/task:0/device:CPU:0\n",
      "Executing op __inference_train_function_768 in device /job:localhost/replica:0/task:0/device:CPU:0\n",
      " 606/1875 [========>.....................] - ETA: 7s - loss: 0.5766Executing op __inference_train_function_768 in device /job:localhost/replica:0/task:0/device:CPU:0\n",
      "Executing op __inference_train_function_768 in device /job:localhost/replica:0/task:0/device:CPU:0\n",
      "Executing op __inference_train_function_768 in device /job:localhost/replica:0/task:0/device:CPU:0\n",
      "Executing op __inference_train_function_768 in device /job:localhost/replica:0/task:0/device:CPU:0\n",
      "Executing op __inference_train_function_768 in device /job:localhost/replica:0/task:0/device:CPU:0\n",
      "Executing op __inference_train_function_768 in device /job:localhost/replica:0/task:0/device:CPU:0\n",
      "Executing op __inference_train_function_768 in device /job:localhost/replica:0/task:0/device:CPU:0\n",
      "Executing op __inference_train_function_768 in device /job:localhost/replica:0/task:0/device:CPU:0\n",
      "Executing op __inference_train_function_768 in device /job:localhost/replica:0/task:0/device:CPU:0\n",
      "Executing op __inference_train_function_768 in device /job:localhost/replica:0/task:0/device:CPU:0\n",
      "Executing op __inference_train_function_768 in device /job:localhost/replica:0/task:0/device:CPU:0\n",
      "Executing op __inference_train_function_768 in device /job:localhost/replica:0/task:0/device:CPU:0\n",
      " 618/1875 [========>.....................] - ETA: 7s - loss: 0.5750Executing op __inference_train_function_768 in device /job:localhost/replica:0/task:0/device:CPU:0\n",
      "Executing op __inference_train_function_768 in device /job:localhost/replica:0/task:0/device:CPU:0\n",
      "Executing op __inference_train_function_768 in device /job:localhost/replica:0/task:0/device:CPU:0\n",
      "Executing op __inference_train_function_768 in device /job:localhost/replica:0/task:0/device:CPU:0\n",
      "Executing op __inference_train_function_768 in device /job:localhost/replica:0/task:0/device:CPU:0\n",
      "Executing op __inference_train_function_768 in device /job:localhost/replica:0/task:0/device:CPU:0\n",
      "Executing op __inference_train_function_768 in device /job:localhost/replica:0/task:0/device:CPU:0\n",
      "Executing op __inference_train_function_768 in device /job:localhost/replica:0/task:0/device:CPU:0\n",
      "Executing op __inference_train_function_768 in device /job:localhost/replica:0/task:0/device:CPU:0\n",
      "Executing op __inference_train_function_768 in device /job:localhost/replica:0/task:0/device:CPU:0\n",
      "Executing op __inference_train_function_768 in device /job:localhost/replica:0/task:0/device:CPU:0\n",
      "Executing op __inference_train_function_768 in device /job:localhost/replica:0/task:0/device:CPU:0\n",
      " 630/1875 [=========>....................] - ETA: 7s - loss: 0.5726Executing op __inference_train_function_768 in device /job:localhost/replica:0/task:0/device:CPU:0\n",
      "Executing op __inference_train_function_768 in device /job:localhost/replica:0/task:0/device:CPU:0\n",
      "Executing op __inference_train_function_768 in device /job:localhost/replica:0/task:0/device:CPU:0\n",
      "Executing op __inference_train_function_768 in device /job:localhost/replica:0/task:0/device:CPU:0\n",
      "Executing op __inference_train_function_768 in device /job:localhost/replica:0/task:0/device:CPU:0\n",
      "Executing op __inference_train_function_768 in device /job:localhost/replica:0/task:0/device:CPU:0\n",
      "Executing op __inference_train_function_768 in device /job:localhost/replica:0/task:0/device:CPU:0\n",
      "Executing op __inference_train_function_768 in device /job:localhost/replica:0/task:0/device:CPU:0\n",
      "Executing op __inference_train_function_768 in device /job:localhost/replica:0/task:0/device:CPU:0\n",
      "Executing op __inference_train_function_768 in device /job:localhost/replica:0/task:0/device:CPU:0\n",
      "Executing op __inference_train_function_768 in device /job:localhost/replica:0/task:0/device:CPU:0\n",
      " 641/1875 [=========>....................] - ETA: 7s - loss: 0.5708Executing op __inference_train_function_768 in device /job:localhost/replica:0/task:0/device:CPU:0\n",
      "Executing op __inference_train_function_768 in device /job:localhost/replica:0/task:0/device:CPU:0\n",
      "Executing op __inference_train_function_768 in device /job:localhost/replica:0/task:0/device:CPU:0\n",
      "Executing op __inference_train_function_768 in device /job:localhost/replica:0/task:0/device:CPU:0\n",
      "Executing op __inference_train_function_768 in device /job:localhost/replica:0/task:0/device:CPU:0\n",
      "Executing op __inference_train_function_768 in device /job:localhost/replica:0/task:0/device:CPU:0\n",
      "Executing op __inference_train_function_768 in device /job:localhost/replica:0/task:0/device:CPU:0\n",
      " 648/1875 [=========>....................] - ETA: 7s - loss: 0.5710Executing op __inference_train_function_768 in device /job:localhost/replica:0/task:0/device:CPU:0\n",
      "Executing op __inference_train_function_768 in device /job:localhost/replica:0/task:0/device:CPU:0\n",
      "Executing op __inference_train_function_768 in device /job:localhost/replica:0/task:0/device:CPU:0\n",
      "Executing op __inference_train_function_768 in device /job:localhost/replica:0/task:0/device:CPU:0\n",
      "Executing op __inference_train_function_768 in device /job:localhost/replica:0/task:0/device:CPU:0\n",
      "Executing op __inference_train_function_768 in device /job:localhost/replica:0/task:0/device:CPU:0\n",
      " 654/1875 [=========>....................] - ETA: 7s - loss: 0.5699Executing op __inference_train_function_768 in device /job:localhost/replica:0/task:0/device:CPU:0\n",
      "Executing op __inference_train_function_768 in device /job:localhost/replica:0/task:0/device:CPU:0\n",
      "Executing op __inference_train_function_768 in device /job:localhost/replica:0/task:0/device:CPU:0\n",
      "Executing op __inference_train_function_768 in device /job:localhost/replica:0/task:0/device:CPU:0\n",
      "Executing op __inference_train_function_768 in device /job:localhost/replica:0/task:0/device:CPU:0\n",
      "Executing op __inference_train_function_768 in device /job:localhost/replica:0/task:0/device:CPU:0\n",
      "Executing op __inference_train_function_768 in device /job:localhost/replica:0/task:0/device:CPU:0\n",
      "Executing op __inference_train_function_768 in device /job:localhost/replica:0/task:0/device:CPU:0\n",
      "Executing op __inference_train_function_768 in device /job:localhost/replica:0/task:0/device:CPU:0\n",
      " 663/1875 [=========>....................] - ETA: 7s - loss: 0.5705Executing op __inference_train_function_768 in device /job:localhost/replica:0/task:0/device:CPU:0\n",
      "Executing op __inference_train_function_768 in device /job:localhost/replica:0/task:0/device:CPU:0\n",
      "Executing op __inference_train_function_768 in device /job:localhost/replica:0/task:0/device:CPU:0\n",
      "Executing op __inference_train_function_768 in device /job:localhost/replica:0/task:0/device:CPU:0\n",
      "Executing op __inference_train_function_768 in device /job:localhost/replica:0/task:0/device:CPU:0\n",
      "Executing op __inference_train_function_768 in device /job:localhost/replica:0/task:0/device:CPU:0\n",
      "Executing op __inference_train_function_768 in device /job:localhost/replica:0/task:0/device:CPU:0\n",
      "Executing op __inference_train_function_768 in device /job:localhost/replica:0/task:0/device:CPU:0\n",
      "Executing op __inference_train_function_768 in device /job:localhost/replica:0/task:0/device:CPU:0\n",
      " 672/1875 [=========>....................] - ETA: 7s - loss: 0.5707Executing op __inference_train_function_768 in device /job:localhost/replica:0/task:0/device:CPU:0\n",
      "Executing op __inference_train_function_768 in device /job:localhost/replica:0/task:0/device:CPU:0\n",
      "Executing op __inference_train_function_768 in device /job:localhost/replica:0/task:0/device:CPU:0\n",
      "Executing op __inference_train_function_768 in device /job:localhost/replica:0/task:0/device:CPU:0\n",
      "Executing op __inference_train_function_768 in device /job:localhost/replica:0/task:0/device:CPU:0\n",
      "Executing op __inference_train_function_768 in device /job:localhost/replica:0/task:0/device:CPU:0\n",
      "Executing op __inference_train_function_768 in device /job:localhost/replica:0/task:0/device:CPU:0\n",
      "Executing op __inference_train_function_768 in device /job:localhost/replica:0/task:0/device:CPU:0\n",
      "Executing op __inference_train_function_768 in device /job:localhost/replica:0/task:0/device:CPU:0\n",
      "Executing op __inference_train_function_768 in device /job:localhost/replica:0/task:0/device:CPU:0\n"
     ]
    },
    {
     "name": "stdout",
     "output_type": "stream",
     "text": [
      "Executing op __inference_train_function_768 in device /job:localhost/replica:0/task:0/device:CPU:0\n",
      " 683/1875 [=========>....................] - ETA: 7s - loss: 0.5695Executing op __inference_train_function_768 in device /job:localhost/replica:0/task:0/device:CPU:0\n",
      "Executing op __inference_train_function_768 in device /job:localhost/replica:0/task:0/device:CPU:0\n",
      "Executing op __inference_train_function_768 in device /job:localhost/replica:0/task:0/device:CPU:0\n",
      "Executing op __inference_train_function_768 in device /job:localhost/replica:0/task:0/device:CPU:0\n",
      "Executing op __inference_train_function_768 in device /job:localhost/replica:0/task:0/device:CPU:0\n",
      "Executing op __inference_train_function_768 in device /job:localhost/replica:0/task:0/device:CPU:0\n",
      "Executing op __inference_train_function_768 in device /job:localhost/replica:0/task:0/device:CPU:0\n",
      "Executing op __inference_train_function_768 in device /job:localhost/replica:0/task:0/device:CPU:0\n",
      "Executing op __inference_train_function_768 in device /job:localhost/replica:0/task:0/device:CPU:0\n",
      " 692/1875 [==========>...................] - ETA: 7s - loss: 0.5691Executing op __inference_train_function_768 in device /job:localhost/replica:0/task:0/device:CPU:0\n",
      "Executing op __inference_train_function_768 in device /job:localhost/replica:0/task:0/device:CPU:0\n",
      "Executing op __inference_train_function_768 in device /job:localhost/replica:0/task:0/device:CPU:0\n",
      "Executing op __inference_train_function_768 in device /job:localhost/replica:0/task:0/device:CPU:0\n",
      "Executing op __inference_train_function_768 in device /job:localhost/replica:0/task:0/device:CPU:0\n",
      "Executing op __inference_train_function_768 in device /job:localhost/replica:0/task:0/device:CPU:0\n",
      "Executing op __inference_train_function_768 in device /job:localhost/replica:0/task:0/device:CPU:0\n",
      "Executing op __inference_train_function_768 in device /job:localhost/replica:0/task:0/device:CPU:0\n",
      "Executing op __inference_train_function_768 in device /job:localhost/replica:0/task:0/device:CPU:0\n",
      "Executing op __inference_train_function_768 in device /job:localhost/replica:0/task:0/device:CPU:0\n",
      "Executing op __inference_train_function_768 in device /job:localhost/replica:0/task:0/device:CPU:0\n",
      "Executing op __inference_train_function_768 in device /job:localhost/replica:0/task:0/device:CPU:0\n",
      " 704/1875 [==========>...................] - ETA: 7s - loss: 0.5678Executing op __inference_train_function_768 in device /job:localhost/replica:0/task:0/device:CPU:0\n",
      "Executing op __inference_train_function_768 in device /job:localhost/replica:0/task:0/device:CPU:0\n",
      "Executing op __inference_train_function_768 in device /job:localhost/replica:0/task:0/device:CPU:0\n",
      "Executing op __inference_train_function_768 in device /job:localhost/replica:0/task:0/device:CPU:0\n",
      "Executing op __inference_train_function_768 in device /job:localhost/replica:0/task:0/device:CPU:0\n",
      " 709/1875 [==========>...................] - ETA: 7s - loss: 0.5671Executing op __inference_train_function_768 in device /job:localhost/replica:0/task:0/device:CPU:0\n",
      "Executing op __inference_train_function_768 in device /job:localhost/replica:0/task:0/device:CPU:0\n",
      "Executing op __inference_train_function_768 in device /job:localhost/replica:0/task:0/device:CPU:0\n",
      "Executing op __inference_train_function_768 in device /job:localhost/replica:0/task:0/device:CPU:0\n",
      "Executing op __inference_train_function_768 in device /job:localhost/replica:0/task:0/device:CPU:0\n",
      " 714/1875 [==========>...................] - ETA: 7s - loss: 0.5666Executing op __inference_train_function_768 in device /job:localhost/replica:0/task:0/device:CPU:0\n",
      "Executing op __inference_train_function_768 in device /job:localhost/replica:0/task:0/device:CPU:0\n",
      "Executing op __inference_train_function_768 in device /job:localhost/replica:0/task:0/device:CPU:0\n",
      "Executing op __inference_train_function_768 in device /job:localhost/replica:0/task:0/device:CPU:0\n",
      "Executing op __inference_train_function_768 in device /job:localhost/replica:0/task:0/device:CPU:0\n",
      "Executing op __inference_train_function_768 in device /job:localhost/replica:0/task:0/device:CPU:0\n",
      "Executing op __inference_train_function_768 in device /job:localhost/replica:0/task:0/device:CPU:0\n",
      "Executing op __inference_train_function_768 in device /job:localhost/replica:0/task:0/device:CPU:0\n",
      "Executing op __inference_train_function_768 in device /job:localhost/replica:0/task:0/device:CPU:0\n",
      "Executing op __inference_train_function_768 in device /job:localhost/replica:0/task:0/device:CPU:0\n",
      "Executing op __inference_train_function_768 in device /job:localhost/replica:0/task:0/device:CPU:0\n",
      " 725/1875 [==========>...................] - ETA: 7s - loss: 0.5661Executing op __inference_train_function_768 in device /job:localhost/replica:0/task:0/device:CPU:0\n",
      "Executing op __inference_train_function_768 in device /job:localhost/replica:0/task:0/device:CPU:0\n",
      "Executing op __inference_train_function_768 in device /job:localhost/replica:0/task:0/device:CPU:0\n",
      "Executing op __inference_train_function_768 in device /job:localhost/replica:0/task:0/device:CPU:0\n",
      "Executing op __inference_train_function_768 in device /job:localhost/replica:0/task:0/device:CPU:0\n",
      "Executing op __inference_train_function_768 in device /job:localhost/replica:0/task:0/device:CPU:0\n",
      "Executing op __inference_train_function_768 in device /job:localhost/replica:0/task:0/device:CPU:0\n",
      "Executing op __inference_train_function_768 in device /job:localhost/replica:0/task:0/device:CPU:0\n",
      "Executing op __inference_train_function_768 in device /job:localhost/replica:0/task:0/device:CPU:0\n",
      " 734/1875 [==========>...................] - ETA: 7s - loss: 0.5648Executing op __inference_train_function_768 in device /job:localhost/replica:0/task:0/device:CPU:0\n",
      "Executing op __inference_train_function_768 in device /job:localhost/replica:0/task:0/device:CPU:0\n",
      "Executing op __inference_train_function_768 in device /job:localhost/replica:0/task:0/device:CPU:0\n",
      "Executing op __inference_train_function_768 in device /job:localhost/replica:0/task:0/device:CPU:0\n",
      "Executing op __inference_train_function_768 in device /job:localhost/replica:0/task:0/device:CPU:0\n",
      "Executing op __inference_train_function_768 in device /job:localhost/replica:0/task:0/device:CPU:0\n",
      "Executing op __inference_train_function_768 in device /job:localhost/replica:0/task:0/device:CPU:0\n",
      "Executing op __inference_train_function_768 in device /job:localhost/replica:0/task:0/device:CPU:0\n",
      "Executing op __inference_train_function_768 in device /job:localhost/replica:0/task:0/device:CPU:0\n",
      " 743/1875 [==========>...................] - ETA: 6s - loss: 0.5636Executing op __inference_train_function_768 in device /job:localhost/replica:0/task:0/device:CPU:0\n",
      "Executing op __inference_train_function_768 in device /job:localhost/replica:0/task:0/device:CPU:0\n",
      "Executing op __inference_train_function_768 in device /job:localhost/replica:0/task:0/device:CPU:0\n",
      "Executing op __inference_train_function_768 in device /job:localhost/replica:0/task:0/device:CPU:0\n",
      "Executing op __inference_train_function_768 in device /job:localhost/replica:0/task:0/device:CPU:0\n",
      "Executing op __inference_train_function_768 in device /job:localhost/replica:0/task:0/device:CPU:0\n",
      "Executing op __inference_train_function_768 in device /job:localhost/replica:0/task:0/device:CPU:0\n",
      "Executing op __inference_train_function_768 in device /job:localhost/replica:0/task:0/device:CPU:0\n",
      " 751/1875 [===========>..................] - ETA: 6s - loss: 0.5623Executing op __inference_train_function_768 in device /job:localhost/replica:0/task:0/device:CPU:0\n",
      "Executing op __inference_train_function_768 in device /job:localhost/replica:0/task:0/device:CPU:0\n",
      "Executing op __inference_train_function_768 in device /job:localhost/replica:0/task:0/device:CPU:0\n",
      "Executing op __inference_train_function_768 in device /job:localhost/replica:0/task:0/device:CPU:0\n",
      "Executing op __inference_train_function_768 in device /job:localhost/replica:0/task:0/device:CPU:0\n",
      "Executing op __inference_train_function_768 in device /job:localhost/replica:0/task:0/device:CPU:0\n",
      "Executing op __inference_train_function_768 in device /job:localhost/replica:0/task:0/device:CPU:0\n",
      "Executing op __inference_train_function_768 in device /job:localhost/replica:0/task:0/device:CPU:0\n"
     ]
    },
    {
     "name": "stdout",
     "output_type": "stream",
     "text": [
      "Executing op __inference_train_function_768 in device /job:localhost/replica:0/task:0/device:CPU:0\n",
      " 760/1875 [===========>..................] - ETA: 6s - loss: 0.5613Executing op __inference_train_function_768 in device /job:localhost/replica:0/task:0/device:CPU:0\n",
      "Executing op __inference_train_function_768 in device /job:localhost/replica:0/task:0/device:CPU:0\n",
      "Executing op __inference_train_function_768 in device /job:localhost/replica:0/task:0/device:CPU:0\n",
      "Executing op __inference_train_function_768 in device /job:localhost/replica:0/task:0/device:CPU:0\n",
      "Executing op __inference_train_function_768 in device /job:localhost/replica:0/task:0/device:CPU:0\n",
      "Executing op __inference_train_function_768 in device /job:localhost/replica:0/task:0/device:CPU:0\n",
      "Executing op __inference_train_function_768 in device /job:localhost/replica:0/task:0/device:CPU:0\n",
      "Executing op __inference_train_function_768 in device /job:localhost/replica:0/task:0/device:CPU:0\n",
      "Executing op __inference_train_function_768 in device /job:localhost/replica:0/task:0/device:CPU:0\n",
      "Executing op __inference_train_function_768 in device /job:localhost/replica:0/task:0/device:CPU:0\n",
      "Executing op __inference_train_function_768 in device /job:localhost/replica:0/task:0/device:CPU:0\n",
      " 771/1875 [===========>..................] - ETA: 6s - loss: 0.5614Executing op __inference_train_function_768 in device /job:localhost/replica:0/task:0/device:CPU:0\n",
      "Executing op __inference_train_function_768 in device /job:localhost/replica:0/task:0/device:CPU:0\n",
      "Executing op __inference_train_function_768 in device /job:localhost/replica:0/task:0/device:CPU:0\n",
      "Executing op __inference_train_function_768 in device /job:localhost/replica:0/task:0/device:CPU:0\n",
      "Executing op __inference_train_function_768 in device /job:localhost/replica:0/task:0/device:CPU:0\n",
      "Executing op __inference_train_function_768 in device /job:localhost/replica:0/task:0/device:CPU:0\n",
      "Executing op __inference_train_function_768 in device /job:localhost/replica:0/task:0/device:CPU:0\n",
      "Executing op __inference_train_function_768 in device /job:localhost/replica:0/task:0/device:CPU:0\n",
      "Executing op __inference_train_function_768 in device /job:localhost/replica:0/task:0/device:CPU:0\n",
      "Executing op __inference_train_function_768 in device /job:localhost/replica:0/task:0/device:CPU:0\n",
      " 781/1875 [===========>..................] - ETA: 6s - loss: 0.5610Executing op __inference_train_function_768 in device /job:localhost/replica:0/task:0/device:CPU:0\n",
      "Executing op __inference_train_function_768 in device /job:localhost/replica:0/task:0/device:CPU:0\n",
      "Executing op __inference_train_function_768 in device /job:localhost/replica:0/task:0/device:CPU:0\n",
      "Executing op __inference_train_function_768 in device /job:localhost/replica:0/task:0/device:CPU:0\n",
      "Executing op __inference_train_function_768 in device /job:localhost/replica:0/task:0/device:CPU:0\n",
      "Executing op __inference_train_function_768 in device /job:localhost/replica:0/task:0/device:CPU:0\n",
      "Executing op __inference_train_function_768 in device /job:localhost/replica:0/task:0/device:CPU:0\n",
      "Executing op __inference_train_function_768 in device /job:localhost/replica:0/task:0/device:CPU:0\n",
      " 789/1875 [===========>..................] - ETA: 6s - loss: 0.5601Executing op __inference_train_function_768 in device /job:localhost/replica:0/task:0/device:CPU:0\n",
      "Executing op __inference_train_function_768 in device /job:localhost/replica:0/task:0/device:CPU:0\n",
      "Executing op __inference_train_function_768 in device /job:localhost/replica:0/task:0/device:CPU:0\n",
      "Executing op __inference_train_function_768 in device /job:localhost/replica:0/task:0/device:CPU:0\n",
      "Executing op __inference_train_function_768 in device /job:localhost/replica:0/task:0/device:CPU:0\n",
      "Executing op __inference_train_function_768 in device /job:localhost/replica:0/task:0/device:CPU:0\n",
      "Executing op __inference_train_function_768 in device /job:localhost/replica:0/task:0/device:CPU:0\n",
      "Executing op __inference_train_function_768 in device /job:localhost/replica:0/task:0/device:CPU:0\n",
      "Executing op __inference_train_function_768 in device /job:localhost/replica:0/task:0/device:CPU:0\n",
      "Executing op __inference_train_function_768 in device /job:localhost/replica:0/task:0/device:CPU:0\n",
      " 799/1875 [===========>..................] - ETA: 6s - loss: 0.5593Executing op __inference_train_function_768 in device /job:localhost/replica:0/task:0/device:CPU:0\n",
      "Executing op __inference_train_function_768 in device /job:localhost/replica:0/task:0/device:CPU:0\n",
      "Executing op __inference_train_function_768 in device /job:localhost/replica:0/task:0/device:CPU:0\n",
      "Executing op __inference_train_function_768 in device /job:localhost/replica:0/task:0/device:CPU:0\n",
      "Executing op __inference_train_function_768 in device /job:localhost/replica:0/task:0/device:CPU:0\n",
      "Executing op __inference_train_function_768 in device /job:localhost/replica:0/task:0/device:CPU:0\n",
      "Executing op __inference_train_function_768 in device /job:localhost/replica:0/task:0/device:CPU:0\n",
      "Executing op __inference_train_function_768 in device /job:localhost/replica:0/task:0/device:CPU:0\n",
      "Executing op __inference_train_function_768 in device /job:localhost/replica:0/task:0/device:CPU:0\n",
      "Executing op __inference_train_function_768 in device /job:localhost/replica:0/task:0/device:CPU:0\n",
      " 809/1875 [===========>..................] - ETA: 6s - loss: 0.5589Executing op __inference_train_function_768 in device /job:localhost/replica:0/task:0/device:CPU:0\n",
      "Executing op __inference_train_function_768 in device /job:localhost/replica:0/task:0/device:CPU:0\n",
      "Executing op __inference_train_function_768 in device /job:localhost/replica:0/task:0/device:CPU:0\n",
      "Executing op __inference_train_function_768 in device /job:localhost/replica:0/task:0/device:CPU:0\n",
      "Executing op __inference_train_function_768 in device /job:localhost/replica:0/task:0/device:CPU:0\n",
      "Executing op __inference_train_function_768 in device /job:localhost/replica:0/task:0/device:CPU:0\n",
      "Executing op __inference_train_function_768 in device /job:localhost/replica:0/task:0/device:CPU:0\n",
      "Executing op __inference_train_function_768 in device /job:localhost/replica:0/task:0/device:CPU:0\n",
      " 817/1875 [============>.................] - ETA: 6s - loss: 0.5578Executing op __inference_train_function_768 in device /job:localhost/replica:0/task:0/device:CPU:0\n",
      "Executing op __inference_train_function_768 in device /job:localhost/replica:0/task:0/device:CPU:0\n",
      "Executing op __inference_train_function_768 in device /job:localhost/replica:0/task:0/device:CPU:0\n",
      "Executing op __inference_train_function_768 in device /job:localhost/replica:0/task:0/device:CPU:0\n",
      "Executing op __inference_train_function_768 in device /job:localhost/replica:0/task:0/device:CPU:0\n",
      "Executing op __inference_train_function_768 in device /job:localhost/replica:0/task:0/device:CPU:0\n",
      "Executing op __inference_train_function_768 in device /job:localhost/replica:0/task:0/device:CPU:0\n",
      "Executing op __inference_train_function_768 in device /job:localhost/replica:0/task:0/device:CPU:0\n",
      "Executing op __inference_train_function_768 in device /job:localhost/replica:0/task:0/device:CPU:0\n",
      "Executing op __inference_train_function_768 in device /job:localhost/replica:0/task:0/device:CPU:0\n",
      " 827/1875 [============>.................] - ETA: 6s - loss: 0.5564Executing op __inference_train_function_768 in device /job:localhost/replica:0/task:0/device:CPU:0\n",
      "Executing op __inference_train_function_768 in device /job:localhost/replica:0/task:0/device:CPU:0\n",
      "Executing op __inference_train_function_768 in device /job:localhost/replica:0/task:0/device:CPU:0\n",
      "Executing op __inference_train_function_768 in device /job:localhost/replica:0/task:0/device:CPU:0\n",
      "Executing op __inference_train_function_768 in device /job:localhost/replica:0/task:0/device:CPU:0\n",
      "Executing op __inference_train_function_768 in device /job:localhost/replica:0/task:0/device:CPU:0\n",
      "Executing op __inference_train_function_768 in device /job:localhost/replica:0/task:0/device:CPU:0\n",
      "Executing op __inference_train_function_768 in device /job:localhost/replica:0/task:0/device:CPU:0\n",
      "Executing op __inference_train_function_768 in device /job:localhost/replica:0/task:0/device:CPU:0\n",
      "Executing op __inference_train_function_768 in device /job:localhost/replica:0/task:0/device:CPU:0\n"
     ]
    },
    {
     "name": "stdout",
     "output_type": "stream",
     "text": [
      "Executing op __inference_train_function_768 in device /job:localhost/replica:0/task:0/device:CPU:0\n",
      "Executing op __inference_train_function_768 in device /job:localhost/replica:0/task:0/device:CPU:0\n",
      " 839/1875 [============>.................] - ETA: 6s - loss: 0.5562Executing op __inference_train_function_768 in device /job:localhost/replica:0/task:0/device:CPU:0\n",
      "Executing op __inference_train_function_768 in device /job:localhost/replica:0/task:0/device:CPU:0\n",
      "Executing op __inference_train_function_768 in device /job:localhost/replica:0/task:0/device:CPU:0\n",
      "Executing op __inference_train_function_768 in device /job:localhost/replica:0/task:0/device:CPU:0\n",
      "Executing op __inference_train_function_768 in device /job:localhost/replica:0/task:0/device:CPU:0\n",
      "Executing op __inference_train_function_768 in device /job:localhost/replica:0/task:0/device:CPU:0\n",
      "Executing op __inference_train_function_768 in device /job:localhost/replica:0/task:0/device:CPU:0\n",
      "Executing op __inference_train_function_768 in device /job:localhost/replica:0/task:0/device:CPU:0\n",
      "Executing op __inference_train_function_768 in device /job:localhost/replica:0/task:0/device:CPU:0\n",
      "Executing op __inference_train_function_768 in device /job:localhost/replica:0/task:0/device:CPU:0\n",
      "Executing op __inference_train_function_768 in device /job:localhost/replica:0/task:0/device:CPU:0\n",
      "Executing op __inference_train_function_768 in device /job:localhost/replica:0/task:0/device:CPU:0\n",
      "Executing op __inference_train_function_768 in device /job:localhost/replica:0/task:0/device:CPU:0\n",
      " 852/1875 [============>.................] - ETA: 6s - loss: 0.5558Executing op __inference_train_function_768 in device /job:localhost/replica:0/task:0/device:CPU:0\n",
      "Executing op __inference_train_function_768 in device /job:localhost/replica:0/task:0/device:CPU:0\n",
      "Executing op __inference_train_function_768 in device /job:localhost/replica:0/task:0/device:CPU:0\n",
      "Executing op __inference_train_function_768 in device /job:localhost/replica:0/task:0/device:CPU:0\n",
      "Executing op __inference_train_function_768 in device /job:localhost/replica:0/task:0/device:CPU:0\n",
      "Executing op __inference_train_function_768 in device /job:localhost/replica:0/task:0/device:CPU:0\n",
      "Executing op __inference_train_function_768 in device /job:localhost/replica:0/task:0/device:CPU:0\n",
      "Executing op __inference_train_function_768 in device /job:localhost/replica:0/task:0/device:CPU:0\n",
      "Executing op __inference_train_function_768 in device /job:localhost/replica:0/task:0/device:CPU:0\n",
      "Executing op __inference_train_function_768 in device /job:localhost/replica:0/task:0/device:CPU:0\n",
      "Executing op __inference_train_function_768 in device /job:localhost/replica:0/task:0/device:CPU:0\n",
      "Executing op __inference_train_function_768 in device /job:localhost/replica:0/task:0/device:CPU:0\n",
      "Executing op __inference_train_function_768 in device /job:localhost/replica:0/task:0/device:CPU:0\n",
      "Executing op __inference_train_function_768 in device /job:localhost/replica:0/task:0/device:CPU:0\n",
      " 866/1875 [============>.................] - ETA: 6s - loss: 0.5540Executing op __inference_train_function_768 in device /job:localhost/replica:0/task:0/device:CPU:0\n",
      "Executing op __inference_train_function_768 in device /job:localhost/replica:0/task:0/device:CPU:0\n",
      "Executing op __inference_train_function_768 in device /job:localhost/replica:0/task:0/device:CPU:0\n",
      "Executing op __inference_train_function_768 in device /job:localhost/replica:0/task:0/device:CPU:0\n",
      "Executing op __inference_train_function_768 in device /job:localhost/replica:0/task:0/device:CPU:0\n",
      "Executing op __inference_train_function_768 in device /job:localhost/replica:0/task:0/device:CPU:0\n",
      "Executing op __inference_train_function_768 in device /job:localhost/replica:0/task:0/device:CPU:0\n",
      "Executing op __inference_train_function_768 in device /job:localhost/replica:0/task:0/device:CPU:0\n",
      "Executing op __inference_train_function_768 in device /job:localhost/replica:0/task:0/device:CPU:0\n",
      "Executing op __inference_train_function_768 in device /job:localhost/replica:0/task:0/device:CPU:0\n",
      "Executing op __inference_train_function_768 in device /job:localhost/replica:0/task:0/device:CPU:0\n",
      "Executing op __inference_train_function_768 in device /job:localhost/replica:0/task:0/device:CPU:0\n",
      "Executing op __inference_train_function_768 in device /job:localhost/replica:0/task:0/device:CPU:0\n",
      " 879/1875 [=============>................] - ETA: 5s - loss: 0.5538Executing op __inference_train_function_768 in device /job:localhost/replica:0/task:0/device:CPU:0\n",
      "Executing op __inference_train_function_768 in device /job:localhost/replica:0/task:0/device:CPU:0\n",
      "Executing op __inference_train_function_768 in device /job:localhost/replica:0/task:0/device:CPU:0\n",
      "Executing op __inference_train_function_768 in device /job:localhost/replica:0/task:0/device:CPU:0\n",
      "Executing op __inference_train_function_768 in device /job:localhost/replica:0/task:0/device:CPU:0\n",
      "Executing op __inference_train_function_768 in device /job:localhost/replica:0/task:0/device:CPU:0\n",
      "Executing op __inference_train_function_768 in device /job:localhost/replica:0/task:0/device:CPU:0\n",
      "Executing op __inference_train_function_768 in device /job:localhost/replica:0/task:0/device:CPU:0\n",
      "Executing op __inference_train_function_768 in device /job:localhost/replica:0/task:0/device:CPU:0\n",
      "Executing op __inference_train_function_768 in device /job:localhost/replica:0/task:0/device:CPU:0\n",
      "Executing op __inference_train_function_768 in device /job:localhost/replica:0/task:0/device:CPU:0\n",
      " 890/1875 [=============>................] - ETA: 5s - loss: 0.5529Executing op __inference_train_function_768 in device /job:localhost/replica:0/task:0/device:CPU:0\n",
      "Executing op __inference_train_function_768 in device /job:localhost/replica:0/task:0/device:CPU:0\n",
      "Executing op __inference_train_function_768 in device /job:localhost/replica:0/task:0/device:CPU:0\n",
      "Executing op __inference_train_function_768 in device /job:localhost/replica:0/task:0/device:CPU:0\n",
      "Executing op __inference_train_function_768 in device /job:localhost/replica:0/task:0/device:CPU:0\n",
      "Executing op __inference_train_function_768 in device /job:localhost/replica:0/task:0/device:CPU:0\n",
      "Executing op __inference_train_function_768 in device /job:localhost/replica:0/task:0/device:CPU:0\n",
      "Executing op __inference_train_function_768 in device /job:localhost/replica:0/task:0/device:CPU:0\n",
      "Executing op __inference_train_function_768 in device /job:localhost/replica:0/task:0/device:CPU:0\n",
      "Executing op __inference_train_function_768 in device /job:localhost/replica:0/task:0/device:CPU:0\n",
      " 900/1875 [=============>................] - ETA: 5s - loss: 0.5526Executing op __inference_train_function_768 in device /job:localhost/replica:0/task:0/device:CPU:0\n",
      "Executing op __inference_train_function_768 in device /job:localhost/replica:0/task:0/device:CPU:0\n",
      "Executing op __inference_train_function_768 in device /job:localhost/replica:0/task:0/device:CPU:0\n",
      "Executing op __inference_train_function_768 in device /job:localhost/replica:0/task:0/device:CPU:0\n",
      "Executing op __inference_train_function_768 in device /job:localhost/replica:0/task:0/device:CPU:0\n",
      "Executing op __inference_train_function_768 in device /job:localhost/replica:0/task:0/device:CPU:0\n",
      "Executing op __inference_train_function_768 in device /job:localhost/replica:0/task:0/device:CPU:0\n",
      "Executing op __inference_train_function_768 in device /job:localhost/replica:0/task:0/device:CPU:0\n",
      "Executing op __inference_train_function_768 in device /job:localhost/replica:0/task:0/device:CPU:0\n",
      "Executing op __inference_train_function_768 in device /job:localhost/replica:0/task:0/device:CPU:0\n",
      " 910/1875 [=============>................] - ETA: 5s - loss: 0.5524Executing op __inference_train_function_768 in device /job:localhost/replica:0/task:0/device:CPU:0\n",
      "Executing op __inference_train_function_768 in device /job:localhost/replica:0/task:0/device:CPU:0\n",
      "Executing op __inference_train_function_768 in device /job:localhost/replica:0/task:0/device:CPU:0\n",
      "Executing op __inference_train_function_768 in device /job:localhost/replica:0/task:0/device:CPU:0\n",
      "Executing op __inference_train_function_768 in device /job:localhost/replica:0/task:0/device:CPU:0\n",
      "Executing op __inference_train_function_768 in device /job:localhost/replica:0/task:0/device:CPU:0\n"
     ]
    },
    {
     "name": "stdout",
     "output_type": "stream",
     "text": [
      "Executing op __inference_train_function_768 in device /job:localhost/replica:0/task:0/device:CPU:0\n",
      "Executing op __inference_train_function_768 in device /job:localhost/replica:0/task:0/device:CPU:0\n",
      "Executing op __inference_train_function_768 in device /job:localhost/replica:0/task:0/device:CPU:0\n",
      "Executing op __inference_train_function_768 in device /job:localhost/replica:0/task:0/device:CPU:0\n",
      "Executing op __inference_train_function_768 in device /job:localhost/replica:0/task:0/device:CPU:0\n",
      "Executing op __inference_train_function_768 in device /job:localhost/replica:0/task:0/device:CPU:0\n",
      " 922/1875 [=============>................] - ETA: 5s - loss: 0.5511Executing op __inference_train_function_768 in device /job:localhost/replica:0/task:0/device:CPU:0\n",
      "Executing op __inference_train_function_768 in device /job:localhost/replica:0/task:0/device:CPU:0\n",
      "Executing op __inference_train_function_768 in device /job:localhost/replica:0/task:0/device:CPU:0\n",
      "Executing op __inference_train_function_768 in device /job:localhost/replica:0/task:0/device:CPU:0\n",
      "Executing op __inference_train_function_768 in device /job:localhost/replica:0/task:0/device:CPU:0\n",
      "Executing op __inference_train_function_768 in device /job:localhost/replica:0/task:0/device:CPU:0\n",
      "Executing op __inference_train_function_768 in device /job:localhost/replica:0/task:0/device:CPU:0\n",
      "Executing op __inference_train_function_768 in device /job:localhost/replica:0/task:0/device:CPU:0\n",
      "Executing op __inference_train_function_768 in device /job:localhost/replica:0/task:0/device:CPU:0\n",
      "Executing op __inference_train_function_768 in device /job:localhost/replica:0/task:0/device:CPU:0\n",
      " 932/1875 [=============>................] - ETA: 5s - loss: 0.5511Executing op __inference_train_function_768 in device /job:localhost/replica:0/task:0/device:CPU:0\n",
      "Executing op __inference_train_function_768 in device /job:localhost/replica:0/task:0/device:CPU:0\n",
      "Executing op __inference_train_function_768 in device /job:localhost/replica:0/task:0/device:CPU:0\n",
      "Executing op __inference_train_function_768 in device /job:localhost/replica:0/task:0/device:CPU:0\n",
      "Executing op __inference_train_function_768 in device /job:localhost/replica:0/task:0/device:CPU:0\n",
      "Executing op __inference_train_function_768 in device /job:localhost/replica:0/task:0/device:CPU:0\n",
      "Executing op __inference_train_function_768 in device /job:localhost/replica:0/task:0/device:CPU:0\n",
      " 939/1875 [==============>...............] - ETA: 5s - loss: 0.5510Executing op __inference_train_function_768 in device /job:localhost/replica:0/task:0/device:CPU:0\n",
      "Executing op __inference_train_function_768 in device /job:localhost/replica:0/task:0/device:CPU:0\n",
      "Executing op __inference_train_function_768 in device /job:localhost/replica:0/task:0/device:CPU:0\n",
      "Executing op __inference_train_function_768 in device /job:localhost/replica:0/task:0/device:CPU:0\n",
      "Executing op __inference_train_function_768 in device /job:localhost/replica:0/task:0/device:CPU:0\n",
      " 944/1875 [==============>...............] - ETA: 5s - loss: 0.5505Executing op __inference_train_function_768 in device /job:localhost/replica:0/task:0/device:CPU:0\n",
      "Executing op __inference_train_function_768 in device /job:localhost/replica:0/task:0/device:CPU:0\n",
      "Executing op __inference_train_function_768 in device /job:localhost/replica:0/task:0/device:CPU:0\n",
      "Executing op __inference_train_function_768 in device /job:localhost/replica:0/task:0/device:CPU:0\n",
      "Executing op __inference_train_function_768 in device /job:localhost/replica:0/task:0/device:CPU:0\n",
      "Executing op __inference_train_function_768 in device /job:localhost/replica:0/task:0/device:CPU:0\n",
      "Executing op __inference_train_function_768 in device /job:localhost/replica:0/task:0/device:CPU:0\n",
      "Executing op __inference_train_function_768 in device /job:localhost/replica:0/task:0/device:CPU:0\n",
      "Executing op __inference_train_function_768 in device /job:localhost/replica:0/task:0/device:CPU:0\n",
      "Executing op __inference_train_function_768 in device /job:localhost/replica:0/task:0/device:CPU:0\n",
      " 954/1875 [==============>...............] - ETA: 5s - loss: 0.5500Executing op __inference_train_function_768 in device /job:localhost/replica:0/task:0/device:CPU:0\n",
      "Executing op __inference_train_function_768 in device /job:localhost/replica:0/task:0/device:CPU:0\n",
      "Executing op __inference_train_function_768 in device /job:localhost/replica:0/task:0/device:CPU:0\n",
      "Executing op __inference_train_function_768 in device /job:localhost/replica:0/task:0/device:CPU:0\n",
      "Executing op __inference_train_function_768 in device /job:localhost/replica:0/task:0/device:CPU:0\n",
      "Executing op __inference_train_function_768 in device /job:localhost/replica:0/task:0/device:CPU:0\n",
      " 960/1875 [==============>...............] - ETA: 5s - loss: 0.5494Executing op __inference_train_function_768 in device /job:localhost/replica:0/task:0/device:CPU:0\n",
      "Executing op __inference_train_function_768 in device /job:localhost/replica:0/task:0/device:CPU:0\n",
      "Executing op __inference_train_function_768 in device /job:localhost/replica:0/task:0/device:CPU:0\n",
      "Executing op __inference_train_function_768 in device /job:localhost/replica:0/task:0/device:CPU:0\n",
      "Executing op __inference_train_function_768 in device /job:localhost/replica:0/task:0/device:CPU:0\n",
      "Executing op __inference_train_function_768 in device /job:localhost/replica:0/task:0/device:CPU:0\n",
      "Executing op __inference_train_function_768 in device /job:localhost/replica:0/task:0/device:CPU:0\n",
      " 967/1875 [==============>...............] - ETA: 5s - loss: 0.5494Executing op __inference_train_function_768 in device /job:localhost/replica:0/task:0/device:CPU:0\n",
      "Executing op __inference_train_function_768 in device /job:localhost/replica:0/task:0/device:CPU:0\n",
      "Executing op __inference_train_function_768 in device /job:localhost/replica:0/task:0/device:CPU:0\n",
      "Executing op __inference_train_function_768 in device /job:localhost/replica:0/task:0/device:CPU:0\n",
      "Executing op __inference_train_function_768 in device /job:localhost/replica:0/task:0/device:CPU:0\n",
      "Executing op __inference_train_function_768 in device /job:localhost/replica:0/task:0/device:CPU:0\n",
      "Executing op __inference_train_function_768 in device /job:localhost/replica:0/task:0/device:CPU:0\n",
      "Executing op __inference_train_function_768 in device /job:localhost/replica:0/task:0/device:CPU:0\n",
      "Executing op __inference_train_function_768 in device /job:localhost/replica:0/task:0/device:CPU:0\n",
      "Executing op __inference_train_function_768 in device /job:localhost/replica:0/task:0/device:CPU:0\n",
      " 977/1875 [==============>...............] - ETA: 5s - loss: 0.5482Executing op __inference_train_function_768 in device /job:localhost/replica:0/task:0/device:CPU:0\n",
      "Executing op __inference_train_function_768 in device /job:localhost/replica:0/task:0/device:CPU:0\n",
      "Executing op __inference_train_function_768 in device /job:localhost/replica:0/task:0/device:CPU:0\n",
      "Executing op __inference_train_function_768 in device /job:localhost/replica:0/task:0/device:CPU:0\n",
      "Executing op __inference_train_function_768 in device /job:localhost/replica:0/task:0/device:CPU:0\n",
      "Executing op __inference_train_function_768 in device /job:localhost/replica:0/task:0/device:CPU:0\n",
      "Executing op __inference_train_function_768 in device /job:localhost/replica:0/task:0/device:CPU:0\n",
      "Executing op __inference_train_function_768 in device /job:localhost/replica:0/task:0/device:CPU:0\n",
      " 985/1875 [==============>...............] - ETA: 5s - loss: 0.5475Executing op __inference_train_function_768 in device /job:localhost/replica:0/task:0/device:CPU:0\n",
      "Executing op __inference_train_function_768 in device /job:localhost/replica:0/task:0/device:CPU:0\n",
      "Executing op __inference_train_function_768 in device /job:localhost/replica:0/task:0/device:CPU:0\n",
      "Executing op __inference_train_function_768 in device /job:localhost/replica:0/task:0/device:CPU:0\n",
      " 989/1875 [==============>...............] - ETA: 5s - loss: 0.5473Executing op __inference_train_function_768 in device /job:localhost/replica:0/task:0/device:CPU:0\n",
      "Executing op __inference_train_function_768 in device /job:localhost/replica:0/task:0/device:CPU:0\n",
      "Executing op __inference_train_function_768 in device /job:localhost/replica:0/task:0/device:CPU:0\n"
     ]
    },
    {
     "name": "stdout",
     "output_type": "stream",
     "text": [
      "Executing op __inference_train_function_768 in device /job:localhost/replica:0/task:0/device:CPU:0\n",
      "Executing op __inference_train_function_768 in device /job:localhost/replica:0/task:0/device:CPU:0\n",
      "Executing op __inference_train_function_768 in device /job:localhost/replica:0/task:0/device:CPU:0\n",
      "Executing op __inference_train_function_768 in device /job:localhost/replica:0/task:0/device:CPU:0\n",
      "Executing op __inference_train_function_768 in device /job:localhost/replica:0/task:0/device:CPU:0\n",
      "Executing op __inference_train_function_768 in device /job:localhost/replica:0/task:0/device:CPU:0\n",
      "Executing op __inference_train_function_768 in device /job:localhost/replica:0/task:0/device:CPU:0\n",
      "Executing op __inference_train_function_768 in device /job:localhost/replica:0/task:0/device:CPU:0\n",
      "Executing op __inference_train_function_768 in device /job:localhost/replica:0/task:0/device:CPU:0\n",
      "1001/1875 [===============>..............] - ETA: 5s - loss: 0.5461Executing op __inference_train_function_768 in device /job:localhost/replica:0/task:0/device:CPU:0\n",
      "Executing op __inference_train_function_768 in device /job:localhost/replica:0/task:0/device:CPU:0\n",
      "Executing op __inference_train_function_768 in device /job:localhost/replica:0/task:0/device:CPU:0\n",
      "Executing op __inference_train_function_768 in device /job:localhost/replica:0/task:0/device:CPU:0\n",
      "Executing op __inference_train_function_768 in device /job:localhost/replica:0/task:0/device:CPU:0\n",
      "Executing op __inference_train_function_768 in device /job:localhost/replica:0/task:0/device:CPU:0\n",
      "Executing op __inference_train_function_768 in device /job:localhost/replica:0/task:0/device:CPU:0\n",
      "Executing op __inference_train_function_768 in device /job:localhost/replica:0/task:0/device:CPU:0\n",
      "Executing op __inference_train_function_768 in device /job:localhost/replica:0/task:0/device:CPU:0\n",
      "Executing op __inference_train_function_768 in device /job:localhost/replica:0/task:0/device:CPU:0\n",
      "Executing op __inference_train_function_768 in device /job:localhost/replica:0/task:0/device:CPU:0\n",
      "Executing op __inference_train_function_768 in device /job:localhost/replica:0/task:0/device:CPU:0\n",
      "Executing op __inference_train_function_768 in device /job:localhost/replica:0/task:0/device:CPU:0\n",
      "Executing op __inference_train_function_768 in device /job:localhost/replica:0/task:0/device:CPU:0\n",
      "Executing op __inference_train_function_768 in device /job:localhost/replica:0/task:0/device:CPU:0\n",
      "Executing op __inference_train_function_768 in device /job:localhost/replica:0/task:0/device:CPU:0\n",
      "Executing op __inference_train_function_768 in device /job:localhost/replica:0/task:0/device:CPU:0\n",
      "1018/1875 [===============>..............] - ETA: 5s - loss: 0.5439Executing op __inference_train_function_768 in device /job:localhost/replica:0/task:0/device:CPU:0\n",
      "Executing op __inference_train_function_768 in device /job:localhost/replica:0/task:0/device:CPU:0\n",
      "Executing op __inference_train_function_768 in device /job:localhost/replica:0/task:0/device:CPU:0\n",
      "Executing op __inference_train_function_768 in device /job:localhost/replica:0/task:0/device:CPU:0\n",
      "Executing op __inference_train_function_768 in device /job:localhost/replica:0/task:0/device:CPU:0\n",
      "Executing op __inference_train_function_768 in device /job:localhost/replica:0/task:0/device:CPU:0\n",
      "Executing op __inference_train_function_768 in device /job:localhost/replica:0/task:0/device:CPU:0\n",
      "Executing op __inference_train_function_768 in device /job:localhost/replica:0/task:0/device:CPU:0\n",
      "Executing op __inference_train_function_768 in device /job:localhost/replica:0/task:0/device:CPU:0\n",
      "Executing op __inference_train_function_768 in device /job:localhost/replica:0/task:0/device:CPU:0\n",
      "Executing op __inference_train_function_768 in device /job:localhost/replica:0/task:0/device:CPU:0\n",
      "Executing op __inference_train_function_768 in device /job:localhost/replica:0/task:0/device:CPU:0\n",
      "Executing op __inference_train_function_768 in device /job:localhost/replica:0/task:0/device:CPU:0\n",
      "Executing op __inference_train_function_768 in device /job:localhost/replica:0/task:0/device:CPU:0\n",
      "Executing op __inference_train_function_768 in device /job:localhost/replica:0/task:0/device:CPU:0\n",
      "Executing op __inference_train_function_768 in device /job:localhost/replica:0/task:0/device:CPU:0\n",
      "1034/1875 [===============>..............] - ETA: 4s - loss: 0.5427Executing op __inference_train_function_768 in device /job:localhost/replica:0/task:0/device:CPU:0\n",
      "Executing op __inference_train_function_768 in device /job:localhost/replica:0/task:0/device:CPU:0\n",
      "Executing op __inference_train_function_768 in device /job:localhost/replica:0/task:0/device:CPU:0\n",
      "Executing op __inference_train_function_768 in device /job:localhost/replica:0/task:0/device:CPU:0\n",
      "Executing op __inference_train_function_768 in device /job:localhost/replica:0/task:0/device:CPU:0\n",
      "Executing op __inference_train_function_768 in device /job:localhost/replica:0/task:0/device:CPU:0\n",
      "Executing op __inference_train_function_768 in device /job:localhost/replica:0/task:0/device:CPU:0\n",
      "Executing op __inference_train_function_768 in device /job:localhost/replica:0/task:0/device:CPU:0\n",
      "Executing op __inference_train_function_768 in device /job:localhost/replica:0/task:0/device:CPU:0\n",
      "Executing op __inference_train_function_768 in device /job:localhost/replica:0/task:0/device:CPU:0\n",
      "Executing op __inference_train_function_768 in device /job:localhost/replica:0/task:0/device:CPU:0\n",
      "Executing op __inference_train_function_768 in device /job:localhost/replica:0/task:0/device:CPU:0\n",
      "Executing op __inference_train_function_768 in device /job:localhost/replica:0/task:0/device:CPU:0\n",
      "Executing op __inference_train_function_768 in device /job:localhost/replica:0/task:0/device:CPU:0\n",
      "Executing op __inference_train_function_768 in device /job:localhost/replica:0/task:0/device:CPU:0\n",
      "Executing op __inference_train_function_768 in device /job:localhost/replica:0/task:0/device:CPU:0\n",
      "1050/1875 [===============>..............] - ETA: 4s - loss: 0.5420Executing op __inference_train_function_768 in device /job:localhost/replica:0/task:0/device:CPU:0\n",
      "Executing op __inference_train_function_768 in device /job:localhost/replica:0/task:0/device:CPU:0\n",
      "Executing op __inference_train_function_768 in device /job:localhost/replica:0/task:0/device:CPU:0\n",
      "Executing op __inference_train_function_768 in device /job:localhost/replica:0/task:0/device:CPU:0\n",
      "Executing op __inference_train_function_768 in device /job:localhost/replica:0/task:0/device:CPU:0\n",
      "Executing op __inference_train_function_768 in device /job:localhost/replica:0/task:0/device:CPU:0\n",
      "Executing op __inference_train_function_768 in device /job:localhost/replica:0/task:0/device:CPU:0\n",
      "Executing op __inference_train_function_768 in device /job:localhost/replica:0/task:0/device:CPU:0\n",
      "Executing op __inference_train_function_768 in device /job:localhost/replica:0/task:0/device:CPU:0\n",
      "Executing op __inference_train_function_768 in device /job:localhost/replica:0/task:0/device:CPU:0\n",
      "Executing op __inference_train_function_768 in device /job:localhost/replica:0/task:0/device:CPU:0\n",
      "Executing op __inference_train_function_768 in device /job:localhost/replica:0/task:0/device:CPU:0\n",
      "Executing op __inference_train_function_768 in device /job:localhost/replica:0/task:0/device:CPU:0\n",
      "Executing op __inference_train_function_768 in device /job:localhost/replica:0/task:0/device:CPU:0\n",
      "Executing op __inference_train_function_768 in device /job:localhost/replica:0/task:0/device:CPU:0\n",
      "Executing op __inference_train_function_768 in device /job:localhost/replica:0/task:0/device:CPU:0\n",
      "1066/1875 [================>.............] - ETA: 4s - loss: 0.5417Executing op __inference_train_function_768 in device /job:localhost/replica:0/task:0/device:CPU:0\n",
      "Executing op __inference_train_function_768 in device /job:localhost/replica:0/task:0/device:CPU:0\n",
      "Executing op __inference_train_function_768 in device /job:localhost/replica:0/task:0/device:CPU:0\n",
      "Executing op __inference_train_function_768 in device /job:localhost/replica:0/task:0/device:CPU:0\n",
      "Executing op __inference_train_function_768 in device /job:localhost/replica:0/task:0/device:CPU:0\n",
      "Executing op __inference_train_function_768 in device /job:localhost/replica:0/task:0/device:CPU:0\n"
     ]
    },
    {
     "name": "stdout",
     "output_type": "stream",
     "text": [
      "Executing op __inference_train_function_768 in device /job:localhost/replica:0/task:0/device:CPU:0\n",
      "Executing op __inference_train_function_768 in device /job:localhost/replica:0/task:0/device:CPU:0\n",
      "1074/1875 [================>.............] - ETA: 4s - loss: 0.5417Executing op __inference_train_function_768 in device /job:localhost/replica:0/task:0/device:CPU:0\n",
      "Executing op __inference_train_function_768 in device /job:localhost/replica:0/task:0/device:CPU:0\n",
      "Executing op __inference_train_function_768 in device /job:localhost/replica:0/task:0/device:CPU:0\n",
      "Executing op __inference_train_function_768 in device /job:localhost/replica:0/task:0/device:CPU:0\n",
      "Executing op __inference_train_function_768 in device /job:localhost/replica:0/task:0/device:CPU:0\n",
      "Executing op __inference_train_function_768 in device /job:localhost/replica:0/task:0/device:CPU:0\n",
      "Executing op __inference_train_function_768 in device /job:localhost/replica:0/task:0/device:CPU:0\n",
      "Executing op __inference_train_function_768 in device /job:localhost/replica:0/task:0/device:CPU:0\n",
      "1082/1875 [================>.............] - ETA: 4s - loss: 0.5411Executing op __inference_train_function_768 in device /job:localhost/replica:0/task:0/device:CPU:0\n",
      "Executing op __inference_train_function_768 in device /job:localhost/replica:0/task:0/device:CPU:0\n",
      "Executing op __inference_train_function_768 in device /job:localhost/replica:0/task:0/device:CPU:0\n",
      "Executing op __inference_train_function_768 in device /job:localhost/replica:0/task:0/device:CPU:0\n",
      "Executing op __inference_train_function_768 in device /job:localhost/replica:0/task:0/device:CPU:0\n",
      "Executing op __inference_train_function_768 in device /job:localhost/replica:0/task:0/device:CPU:0\n",
      "Executing op __inference_train_function_768 in device /job:localhost/replica:0/task:0/device:CPU:0\n",
      "Executing op __inference_train_function_768 in device /job:localhost/replica:0/task:0/device:CPU:0\n",
      "1090/1875 [================>.............] - ETA: 4s - loss: 0.5407Executing op __inference_train_function_768 in device /job:localhost/replica:0/task:0/device:CPU:0\n",
      "Executing op __inference_train_function_768 in device /job:localhost/replica:0/task:0/device:CPU:0\n",
      "Executing op __inference_train_function_768 in device /job:localhost/replica:0/task:0/device:CPU:0\n",
      "Executing op __inference_train_function_768 in device /job:localhost/replica:0/task:0/device:CPU:0\n",
      "Executing op __inference_train_function_768 in device /job:localhost/replica:0/task:0/device:CPU:0\n",
      "Executing op __inference_train_function_768 in device /job:localhost/replica:0/task:0/device:CPU:0\n",
      "Executing op __inference_train_function_768 in device /job:localhost/replica:0/task:0/device:CPU:0\n",
      "1097/1875 [================>.............] - ETA: 4s - loss: 0.5400Executing op __inference_train_function_768 in device /job:localhost/replica:0/task:0/device:CPU:0\n",
      "Executing op __inference_train_function_768 in device /job:localhost/replica:0/task:0/device:CPU:0\n",
      "Executing op __inference_train_function_768 in device /job:localhost/replica:0/task:0/device:CPU:0\n",
      "Executing op __inference_train_function_768 in device /job:localhost/replica:0/task:0/device:CPU:0\n",
      "Executing op __inference_train_function_768 in device /job:localhost/replica:0/task:0/device:CPU:0\n",
      "Executing op __inference_train_function_768 in device /job:localhost/replica:0/task:0/device:CPU:0\n",
      "Executing op __inference_train_function_768 in device /job:localhost/replica:0/task:0/device:CPU:0\n",
      "Executing op __inference_train_function_768 in device /job:localhost/replica:0/task:0/device:CPU:0\n",
      "Executing op __inference_train_function_768 in device /job:localhost/replica:0/task:0/device:CPU:0\n",
      "Executing op __inference_train_function_768 in device /job:localhost/replica:0/task:0/device:CPU:0\n",
      "Executing op __inference_train_function_768 in device /job:localhost/replica:0/task:0/device:CPU:0\n",
      "Executing op __inference_train_function_768 in device /job:localhost/replica:0/task:0/device:CPU:0\n",
      "1109/1875 [================>.............] - ETA: 4s - loss: 0.5392Executing op __inference_train_function_768 in device /job:localhost/replica:0/task:0/device:CPU:0\n",
      "Executing op __inference_train_function_768 in device /job:localhost/replica:0/task:0/device:CPU:0\n",
      "Executing op __inference_train_function_768 in device /job:localhost/replica:0/task:0/device:CPU:0\n",
      "Executing op __inference_train_function_768 in device /job:localhost/replica:0/task:0/device:CPU:0\n",
      "Executing op __inference_train_function_768 in device /job:localhost/replica:0/task:0/device:CPU:0\n",
      "Executing op __inference_train_function_768 in device /job:localhost/replica:0/task:0/device:CPU:0\n",
      "Executing op __inference_train_function_768 in device /job:localhost/replica:0/task:0/device:CPU:0\n",
      "Executing op __inference_train_function_768 in device /job:localhost/replica:0/task:0/device:CPU:0\n",
      "Executing op __inference_train_function_768 in device /job:localhost/replica:0/task:0/device:CPU:0\n",
      "Executing op __inference_train_function_768 in device /job:localhost/replica:0/task:0/device:CPU:0\n",
      "1119/1875 [================>.............] - ETA: 4s - loss: 0.5391Executing op __inference_train_function_768 in device /job:localhost/replica:0/task:0/device:CPU:0\n",
      "Executing op __inference_train_function_768 in device /job:localhost/replica:0/task:0/device:CPU:0\n",
      "Executing op __inference_train_function_768 in device /job:localhost/replica:0/task:0/device:CPU:0\n",
      "Executing op __inference_train_function_768 in device /job:localhost/replica:0/task:0/device:CPU:0\n",
      "Executing op __inference_train_function_768 in device /job:localhost/replica:0/task:0/device:CPU:0\n",
      "Executing op __inference_train_function_768 in device /job:localhost/replica:0/task:0/device:CPU:0\n",
      "1125/1875 [=================>............] - ETA: 4s - loss: 0.5396Executing op __inference_train_function_768 in device /job:localhost/replica:0/task:0/device:CPU:0\n",
      "Executing op __inference_train_function_768 in device /job:localhost/replica:0/task:0/device:CPU:0\n",
      "Executing op __inference_train_function_768 in device /job:localhost/replica:0/task:0/device:CPU:0\n",
      "Executing op __inference_train_function_768 in device /job:localhost/replica:0/task:0/device:CPU:0\n",
      "Executing op __inference_train_function_768 in device /job:localhost/replica:0/task:0/device:CPU:0\n",
      "Executing op __inference_train_function_768 in device /job:localhost/replica:0/task:0/device:CPU:0\n",
      "Executing op __inference_train_function_768 in device /job:localhost/replica:0/task:0/device:CPU:0\n",
      "Executing op __inference_train_function_768 in device /job:localhost/replica:0/task:0/device:CPU:0\n",
      "Executing op __inference_train_function_768 in device /job:localhost/replica:0/task:0/device:CPU:0\n",
      "1134/1875 [=================>............] - ETA: 4s - loss: 0.5392Executing op __inference_train_function_768 in device /job:localhost/replica:0/task:0/device:CPU:0\n",
      "Executing op __inference_train_function_768 in device /job:localhost/replica:0/task:0/device:CPU:0\n",
      "Executing op __inference_train_function_768 in device /job:localhost/replica:0/task:0/device:CPU:0\n",
      "Executing op __inference_train_function_768 in device /job:localhost/replica:0/task:0/device:CPU:0\n",
      "Executing op __inference_train_function_768 in device /job:localhost/replica:0/task:0/device:CPU:0\n",
      "Executing op __inference_train_function_768 in device /job:localhost/replica:0/task:0/device:CPU:0\n",
      "Executing op __inference_train_function_768 in device /job:localhost/replica:0/task:0/device:CPU:0\n",
      "Executing op __inference_train_function_768 in device /job:localhost/replica:0/task:0/device:CPU:0\n",
      "Executing op __inference_train_function_768 in device /job:localhost/replica:0/task:0/device:CPU:0\n",
      "Executing op __inference_train_function_768 in device /job:localhost/replica:0/task:0/device:CPU:0\n",
      "Executing op __inference_train_function_768 in device /job:localhost/replica:0/task:0/device:CPU:0\n",
      "1145/1875 [=================>............] - ETA: 4s - loss: 0.5389Executing op __inference_train_function_768 in device /job:localhost/replica:0/task:0/device:CPU:0\n",
      "Executing op __inference_train_function_768 in device /job:localhost/replica:0/task:0/device:CPU:0\n",
      "Executing op __inference_train_function_768 in device /job:localhost/replica:0/task:0/device:CPU:0\n",
      "Executing op __inference_train_function_768 in device /job:localhost/replica:0/task:0/device:CPU:0\n"
     ]
    },
    {
     "name": "stdout",
     "output_type": "stream",
     "text": [
      "Executing op __inference_train_function_768 in device /job:localhost/replica:0/task:0/device:CPU:0\n",
      "Executing op __inference_train_function_768 in device /job:localhost/replica:0/task:0/device:CPU:0\n",
      "Executing op __inference_train_function_768 in device /job:localhost/replica:0/task:0/device:CPU:0\n",
      "Executing op __inference_train_function_768 in device /job:localhost/replica:0/task:0/device:CPU:0\n",
      "1153/1875 [=================>............] - ETA: 4s - loss: 0.5387Executing op __inference_train_function_768 in device /job:localhost/replica:0/task:0/device:CPU:0\n",
      "Executing op __inference_train_function_768 in device /job:localhost/replica:0/task:0/device:CPU:0\n",
      "Executing op __inference_train_function_768 in device /job:localhost/replica:0/task:0/device:CPU:0\n",
      "Executing op __inference_train_function_768 in device /job:localhost/replica:0/task:0/device:CPU:0\n",
      "Executing op __inference_train_function_768 in device /job:localhost/replica:0/task:0/device:CPU:0\n",
      "Executing op __inference_train_function_768 in device /job:localhost/replica:0/task:0/device:CPU:0\n",
      "Executing op __inference_train_function_768 in device /job:localhost/replica:0/task:0/device:CPU:0\n",
      "Executing op __inference_train_function_768 in device /job:localhost/replica:0/task:0/device:CPU:0\n",
      "1161/1875 [=================>............] - ETA: 4s - loss: 0.5385Executing op __inference_train_function_768 in device /job:localhost/replica:0/task:0/device:CPU:0\n",
      "Executing op __inference_train_function_768 in device /job:localhost/replica:0/task:0/device:CPU:0\n",
      "Executing op __inference_train_function_768 in device /job:localhost/replica:0/task:0/device:CPU:0\n",
      "Executing op __inference_train_function_768 in device /job:localhost/replica:0/task:0/device:CPU:0\n",
      "Executing op __inference_train_function_768 in device /job:localhost/replica:0/task:0/device:CPU:0\n",
      "Executing op __inference_train_function_768 in device /job:localhost/replica:0/task:0/device:CPU:0\n",
      "Executing op __inference_train_function_768 in device /job:localhost/replica:0/task:0/device:CPU:0\n",
      "Executing op __inference_train_function_768 in device /job:localhost/replica:0/task:0/device:CPU:0\n",
      "1169/1875 [=================>............] - ETA: 4s - loss: 0.5380Executing op __inference_train_function_768 in device /job:localhost/replica:0/task:0/device:CPU:0\n",
      "Executing op __inference_train_function_768 in device /job:localhost/replica:0/task:0/device:CPU:0\n",
      "Executing op __inference_train_function_768 in device /job:localhost/replica:0/task:0/device:CPU:0\n",
      "Executing op __inference_train_function_768 in device /job:localhost/replica:0/task:0/device:CPU:0\n",
      "Executing op __inference_train_function_768 in device /job:localhost/replica:0/task:0/device:CPU:0\n",
      "Executing op __inference_train_function_768 in device /job:localhost/replica:0/task:0/device:CPU:0\n",
      "Executing op __inference_train_function_768 in device /job:localhost/replica:0/task:0/device:CPU:0\n",
      "Executing op __inference_train_function_768 in device /job:localhost/replica:0/task:0/device:CPU:0\n",
      "1177/1875 [=================>............] - ETA: 4s - loss: 0.5377Executing op __inference_train_function_768 in device /job:localhost/replica:0/task:0/device:CPU:0\n",
      "Executing op __inference_train_function_768 in device /job:localhost/replica:0/task:0/device:CPU:0\n",
      "Executing op __inference_train_function_768 in device /job:localhost/replica:0/task:0/device:CPU:0\n",
      "Executing op __inference_train_function_768 in device /job:localhost/replica:0/task:0/device:CPU:0\n",
      "Executing op __inference_train_function_768 in device /job:localhost/replica:0/task:0/device:CPU:0\n",
      "Executing op __inference_train_function_768 in device /job:localhost/replica:0/task:0/device:CPU:0\n",
      "Executing op __inference_train_function_768 in device /job:localhost/replica:0/task:0/device:CPU:0\n",
      "Executing op __inference_train_function_768 in device /job:localhost/replica:0/task:0/device:CPU:0\n",
      "Executing op __inference_train_function_768 in device /job:localhost/replica:0/task:0/device:CPU:0\n",
      "Executing op __inference_train_function_768 in device /job:localhost/replica:0/task:0/device:CPU:0\n",
      "1187/1875 [=================>............] - ETA: 4s - loss: 0.5375Executing op __inference_train_function_768 in device /job:localhost/replica:0/task:0/device:CPU:0\n",
      "Executing op __inference_train_function_768 in device /job:localhost/replica:0/task:0/device:CPU:0\n",
      "Executing op __inference_train_function_768 in device /job:localhost/replica:0/task:0/device:CPU:0\n",
      "Executing op __inference_train_function_768 in device /job:localhost/replica:0/task:0/device:CPU:0\n",
      "Executing op __inference_train_function_768 in device /job:localhost/replica:0/task:0/device:CPU:0\n",
      "Executing op __inference_train_function_768 in device /job:localhost/replica:0/task:0/device:CPU:0\n",
      "Executing op __inference_train_function_768 in device /job:localhost/replica:0/task:0/device:CPU:0\n",
      "1194/1875 [==================>...........] - ETA: 4s - loss: 0.5376Executing op __inference_train_function_768 in device /job:localhost/replica:0/task:0/device:CPU:0\n",
      "Executing op __inference_train_function_768 in device /job:localhost/replica:0/task:0/device:CPU:0\n",
      "Executing op __inference_train_function_768 in device /job:localhost/replica:0/task:0/device:CPU:0\n",
      "Executing op __inference_train_function_768 in device /job:localhost/replica:0/task:0/device:CPU:0\n",
      "Executing op __inference_train_function_768 in device /job:localhost/replica:0/task:0/device:CPU:0\n",
      "Executing op __inference_train_function_768 in device /job:localhost/replica:0/task:0/device:CPU:0\n",
      "Executing op __inference_train_function_768 in device /job:localhost/replica:0/task:0/device:CPU:0\n",
      "Executing op __inference_train_function_768 in device /job:localhost/replica:0/task:0/device:CPU:0\n",
      "1202/1875 [==================>...........] - ETA: 3s - loss: 0.5371Executing op __inference_train_function_768 in device /job:localhost/replica:0/task:0/device:CPU:0\n",
      "Executing op __inference_train_function_768 in device /job:localhost/replica:0/task:0/device:CPU:0\n",
      "Executing op __inference_train_function_768 in device /job:localhost/replica:0/task:0/device:CPU:0\n",
      "Executing op __inference_train_function_768 in device /job:localhost/replica:0/task:0/device:CPU:0\n",
      "Executing op __inference_train_function_768 in device /job:localhost/replica:0/task:0/device:CPU:0\n",
      "Executing op __inference_train_function_768 in device /job:localhost/replica:0/task:0/device:CPU:0\n",
      "Executing op __inference_train_function_768 in device /job:localhost/replica:0/task:0/device:CPU:0\n",
      "Executing op __inference_train_function_768 in device /job:localhost/replica:0/task:0/device:CPU:0\n",
      "Executing op __inference_train_function_768 in device /job:localhost/replica:0/task:0/device:CPU:0\n",
      "Executing op __inference_train_function_768 in device /job:localhost/replica:0/task:0/device:CPU:0\n",
      "1212/1875 [==================>...........] - ETA: 3s - loss: 0.5362Executing op __inference_train_function_768 in device /job:localhost/replica:0/task:0/device:CPU:0\n",
      "Executing op __inference_train_function_768 in device /job:localhost/replica:0/task:0/device:CPU:0\n",
      "Executing op __inference_train_function_768 in device /job:localhost/replica:0/task:0/device:CPU:0\n",
      "Executing op __inference_train_function_768 in device /job:localhost/replica:0/task:0/device:CPU:0\n",
      "Executing op __inference_train_function_768 in device /job:localhost/replica:0/task:0/device:CPU:0\n",
      "Executing op __inference_train_function_768 in device /job:localhost/replica:0/task:0/device:CPU:0\n",
      "Executing op __inference_train_function_768 in device /job:localhost/replica:0/task:0/device:CPU:0\n",
      "Executing op __inference_train_function_768 in device /job:localhost/replica:0/task:0/device:CPU:0\n",
      "Executing op __inference_train_function_768 in device /job:localhost/replica:0/task:0/device:CPU:0\n",
      "Executing op __inference_train_function_768 in device /job:localhost/replica:0/task:0/device:CPU:0\n",
      "1222/1875 [==================>...........] - ETA: 3s - loss: 0.5351Executing op __inference_train_function_768 in device /job:localhost/replica:0/task:0/device:CPU:0\n",
      "Executing op __inference_train_function_768 in device /job:localhost/replica:0/task:0/device:CPU:0\n",
      "Executing op __inference_train_function_768 in device /job:localhost/replica:0/task:0/device:CPU:0\n",
      "Executing op __inference_train_function_768 in device /job:localhost/replica:0/task:0/device:CPU:0\n"
     ]
    },
    {
     "name": "stdout",
     "output_type": "stream",
     "text": [
      "Executing op __inference_train_function_768 in device /job:localhost/replica:0/task:0/device:CPU:0\n",
      "Executing op __inference_train_function_768 in device /job:localhost/replica:0/task:0/device:CPU:0\n",
      "Executing op __inference_train_function_768 in device /job:localhost/replica:0/task:0/device:CPU:0\n",
      "Executing op __inference_train_function_768 in device /job:localhost/replica:0/task:0/device:CPU:0\n",
      "Executing op __inference_train_function_768 in device /job:localhost/replica:0/task:0/device:CPU:0\n",
      "Executing op __inference_train_function_768 in device /job:localhost/replica:0/task:0/device:CPU:0\n",
      "Executing op __inference_train_function_768 in device /job:localhost/replica:0/task:0/device:CPU:0\n",
      "1233/1875 [==================>...........] - ETA: 3s - loss: 0.5347Executing op __inference_train_function_768 in device /job:localhost/replica:0/task:0/device:CPU:0\n",
      "Executing op __inference_train_function_768 in device /job:localhost/replica:0/task:0/device:CPU:0\n",
      "Executing op __inference_train_function_768 in device /job:localhost/replica:0/task:0/device:CPU:0\n",
      "Executing op __inference_train_function_768 in device /job:localhost/replica:0/task:0/device:CPU:0\n",
      "Executing op __inference_train_function_768 in device /job:localhost/replica:0/task:0/device:CPU:0\n",
      "Executing op __inference_train_function_768 in device /job:localhost/replica:0/task:0/device:CPU:0\n",
      "Executing op __inference_train_function_768 in device /job:localhost/replica:0/task:0/device:CPU:0\n",
      "Executing op __inference_train_function_768 in device /job:localhost/replica:0/task:0/device:CPU:0\n",
      "1241/1875 [==================>...........] - ETA: 3s - loss: 0.5344Executing op __inference_train_function_768 in device /job:localhost/replica:0/task:0/device:CPU:0\n",
      "Executing op __inference_train_function_768 in device /job:localhost/replica:0/task:0/device:CPU:0\n",
      "Executing op __inference_train_function_768 in device /job:localhost/replica:0/task:0/device:CPU:0\n",
      "Executing op __inference_train_function_768 in device /job:localhost/replica:0/task:0/device:CPU:0\n",
      "Executing op __inference_train_function_768 in device /job:localhost/replica:0/task:0/device:CPU:0\n",
      "Executing op __inference_train_function_768 in device /job:localhost/replica:0/task:0/device:CPU:0\n",
      "Executing op __inference_train_function_768 in device /job:localhost/replica:0/task:0/device:CPU:0\n",
      "Executing op __inference_train_function_768 in device /job:localhost/replica:0/task:0/device:CPU:0\n",
      "Executing op __inference_train_function_768 in device /job:localhost/replica:0/task:0/device:CPU:0\n",
      "1250/1875 [===================>..........] - ETA: 3s - loss: 0.5340Executing op __inference_train_function_768 in device /job:localhost/replica:0/task:0/device:CPU:0\n",
      "Executing op __inference_train_function_768 in device /job:localhost/replica:0/task:0/device:CPU:0\n",
      "Executing op __inference_train_function_768 in device /job:localhost/replica:0/task:0/device:CPU:0\n",
      "Executing op __inference_train_function_768 in device /job:localhost/replica:0/task:0/device:CPU:0\n",
      "Executing op __inference_train_function_768 in device /job:localhost/replica:0/task:0/device:CPU:0\n",
      "Executing op __inference_train_function_768 in device /job:localhost/replica:0/task:0/device:CPU:0\n",
      "Executing op __inference_train_function_768 in device /job:localhost/replica:0/task:0/device:CPU:0\n",
      "Executing op __inference_train_function_768 in device /job:localhost/replica:0/task:0/device:CPU:0\n",
      "Executing op __inference_train_function_768 in device /job:localhost/replica:0/task:0/device:CPU:0\n",
      "Executing op __inference_train_function_768 in device /job:localhost/replica:0/task:0/device:CPU:0\n",
      "1260/1875 [===================>..........] - ETA: 3s - loss: 0.5337Executing op __inference_train_function_768 in device /job:localhost/replica:0/task:0/device:CPU:0\n",
      "Executing op __inference_train_function_768 in device /job:localhost/replica:0/task:0/device:CPU:0\n",
      "Executing op __inference_train_function_768 in device /job:localhost/replica:0/task:0/device:CPU:0\n",
      "Executing op __inference_train_function_768 in device /job:localhost/replica:0/task:0/device:CPU:0\n",
      "Executing op __inference_train_function_768 in device /job:localhost/replica:0/task:0/device:CPU:0\n",
      "Executing op __inference_train_function_768 in device /job:localhost/replica:0/task:0/device:CPU:0\n",
      "Executing op __inference_train_function_768 in device /job:localhost/replica:0/task:0/device:CPU:0\n",
      "Executing op __inference_train_function_768 in device /job:localhost/replica:0/task:0/device:CPU:0\n",
      "Executing op __inference_train_function_768 in device /job:localhost/replica:0/task:0/device:CPU:0\n",
      "1269/1875 [===================>..........] - ETA: 3s - loss: 0.5328Executing op __inference_train_function_768 in device /job:localhost/replica:0/task:0/device:CPU:0\n",
      "Executing op __inference_train_function_768 in device /job:localhost/replica:0/task:0/device:CPU:0\n",
      "Executing op __inference_train_function_768 in device /job:localhost/replica:0/task:0/device:CPU:0\n",
      "Executing op __inference_train_function_768 in device /job:localhost/replica:0/task:0/device:CPU:0\n",
      "Executing op __inference_train_function_768 in device /job:localhost/replica:0/task:0/device:CPU:0\n",
      "Executing op __inference_train_function_768 in device /job:localhost/replica:0/task:0/device:CPU:0\n",
      "Executing op __inference_train_function_768 in device /job:localhost/replica:0/task:0/device:CPU:0\n",
      "Executing op __inference_train_function_768 in device /job:localhost/replica:0/task:0/device:CPU:0\n",
      "Executing op __inference_train_function_768 in device /job:localhost/replica:0/task:0/device:CPU:0\n",
      "Executing op __inference_train_function_768 in device /job:localhost/replica:0/task:0/device:CPU:0\n",
      "Executing op __inference_train_function_768 in device /job:localhost/replica:0/task:0/device:CPU:0\n",
      "1280/1875 [===================>..........] - ETA: 3s - loss: 0.5320Executing op __inference_train_function_768 in device /job:localhost/replica:0/task:0/device:CPU:0\n",
      "Executing op __inference_train_function_768 in device /job:localhost/replica:0/task:0/device:CPU:0\n",
      "Executing op __inference_train_function_768 in device /job:localhost/replica:0/task:0/device:CPU:0\n",
      "Executing op __inference_train_function_768 in device /job:localhost/replica:0/task:0/device:CPU:0\n",
      "Executing op __inference_train_function_768 in device /job:localhost/replica:0/task:0/device:CPU:0\n",
      "Executing op __inference_train_function_768 in device /job:localhost/replica:0/task:0/device:CPU:0\n",
      "Executing op __inference_train_function_768 in device /job:localhost/replica:0/task:0/device:CPU:0\n",
      "Executing op __inference_train_function_768 in device /job:localhost/replica:0/task:0/device:CPU:0\n",
      "Executing op __inference_train_function_768 in device /job:localhost/replica:0/task:0/device:CPU:0\n",
      "Executing op __inference_train_function_768 in device /job:localhost/replica:0/task:0/device:CPU:0\n",
      "1290/1875 [===================>..........] - ETA: 3s - loss: 0.5318Executing op __inference_train_function_768 in device /job:localhost/replica:0/task:0/device:CPU:0\n",
      "Executing op __inference_train_function_768 in device /job:localhost/replica:0/task:0/device:CPU:0\n",
      "Executing op __inference_train_function_768 in device /job:localhost/replica:0/task:0/device:CPU:0\n",
      "Executing op __inference_train_function_768 in device /job:localhost/replica:0/task:0/device:CPU:0\n",
      "Executing op __inference_train_function_768 in device /job:localhost/replica:0/task:0/device:CPU:0\n",
      "Executing op __inference_train_function_768 in device /job:localhost/replica:0/task:0/device:CPU:0\n",
      "Executing op __inference_train_function_768 in device /job:localhost/replica:0/task:0/device:CPU:0\n",
      "Executing op __inference_train_function_768 in device /job:localhost/replica:0/task:0/device:CPU:0\n",
      "Executing op __inference_train_function_768 in device /job:localhost/replica:0/task:0/device:CPU:0\n",
      "Executing op __inference_train_function_768 in device /job:localhost/replica:0/task:0/device:CPU:0\n",
      "1300/1875 [===================>..........] - ETA: 3s - loss: 0.5319Executing op __inference_train_function_768 in device /job:localhost/replica:0/task:0/device:CPU:0\n",
      "Executing op __inference_train_function_768 in device /job:localhost/replica:0/task:0/device:CPU:0\n",
      "Executing op __inference_train_function_768 in device /job:localhost/replica:0/task:0/device:CPU:0\n",
      "Executing op __inference_train_function_768 in device /job:localhost/replica:0/task:0/device:CPU:0\n"
     ]
    },
    {
     "name": "stdout",
     "output_type": "stream",
     "text": [
      "Executing op __inference_train_function_768 in device /job:localhost/replica:0/task:0/device:CPU:0\n",
      "Executing op __inference_train_function_768 in device /job:localhost/replica:0/task:0/device:CPU:0\n",
      "Executing op __inference_train_function_768 in device /job:localhost/replica:0/task:0/device:CPU:0\n",
      "Executing op __inference_train_function_768 in device /job:localhost/replica:0/task:0/device:CPU:0\n",
      "1308/1875 [===================>..........] - ETA: 3s - loss: 0.5317Executing op __inference_train_function_768 in device /job:localhost/replica:0/task:0/device:CPU:0\n",
      "Executing op __inference_train_function_768 in device /job:localhost/replica:0/task:0/device:CPU:0\n",
      "Executing op __inference_train_function_768 in device /job:localhost/replica:0/task:0/device:CPU:0\n",
      "Executing op __inference_train_function_768 in device /job:localhost/replica:0/task:0/device:CPU:0\n",
      "Executing op __inference_train_function_768 in device /job:localhost/replica:0/task:0/device:CPU:0\n",
      "Executing op __inference_train_function_768 in device /job:localhost/replica:0/task:0/device:CPU:0\n",
      "1314/1875 [====================>.........] - ETA: 3s - loss: 0.5311Executing op __inference_train_function_768 in device /job:localhost/replica:0/task:0/device:CPU:0\n",
      "Executing op __inference_train_function_768 in device /job:localhost/replica:0/task:0/device:CPU:0\n",
      "Executing op __inference_train_function_768 in device /job:localhost/replica:0/task:0/device:CPU:0\n",
      "Executing op __inference_train_function_768 in device /job:localhost/replica:0/task:0/device:CPU:0\n",
      "Executing op __inference_train_function_768 in device /job:localhost/replica:0/task:0/device:CPU:0\n",
      "Executing op __inference_train_function_768 in device /job:localhost/replica:0/task:0/device:CPU:0\n",
      "Executing op __inference_train_function_768 in device /job:localhost/replica:0/task:0/device:CPU:0\n",
      "Executing op __inference_train_function_768 in device /job:localhost/replica:0/task:0/device:CPU:0\n",
      "Executing op __inference_train_function_768 in device /job:localhost/replica:0/task:0/device:CPU:0\n",
      "1323/1875 [====================>.........] - ETA: 3s - loss: 0.5302Executing op __inference_train_function_768 in device /job:localhost/replica:0/task:0/device:CPU:0\n",
      "Executing op __inference_train_function_768 in device /job:localhost/replica:0/task:0/device:CPU:0\n",
      "Executing op __inference_train_function_768 in device /job:localhost/replica:0/task:0/device:CPU:0\n",
      "Executing op __inference_train_function_768 in device /job:localhost/replica:0/task:0/device:CPU:0\n",
      "Executing op __inference_train_function_768 in device /job:localhost/replica:0/task:0/device:CPU:0\n",
      "Executing op __inference_train_function_768 in device /job:localhost/replica:0/task:0/device:CPU:0\n",
      "Executing op __inference_train_function_768 in device /job:localhost/replica:0/task:0/device:CPU:0\n",
      "Executing op __inference_train_function_768 in device /job:localhost/replica:0/task:0/device:CPU:0\n",
      "Executing op __inference_train_function_768 in device /job:localhost/replica:0/task:0/device:CPU:0\n",
      "Executing op __inference_train_function_768 in device /job:localhost/replica:0/task:0/device:CPU:0\n",
      "1333/1875 [====================>.........] - ETA: 3s - loss: 0.5299Executing op __inference_train_function_768 in device /job:localhost/replica:0/task:0/device:CPU:0\n",
      "Executing op __inference_train_function_768 in device /job:localhost/replica:0/task:0/device:CPU:0\n",
      "Executing op __inference_train_function_768 in device /job:localhost/replica:0/task:0/device:CPU:0\n",
      "Executing op __inference_train_function_768 in device /job:localhost/replica:0/task:0/device:CPU:0\n",
      "Executing op __inference_train_function_768 in device /job:localhost/replica:0/task:0/device:CPU:0\n",
      "Executing op __inference_train_function_768 in device /job:localhost/replica:0/task:0/device:CPU:0\n",
      "Executing op __inference_train_function_768 in device /job:localhost/replica:0/task:0/device:CPU:0\n",
      "Executing op __inference_train_function_768 in device /job:localhost/replica:0/task:0/device:CPU:0\n",
      "Executing op __inference_train_function_768 in device /job:localhost/replica:0/task:0/device:CPU:0\n",
      "Executing op __inference_train_function_768 in device /job:localhost/replica:0/task:0/device:CPU:0\n",
      "Executing op __inference_train_function_768 in device /job:localhost/replica:0/task:0/device:CPU:0\n",
      "Executing op __inference_train_function_768 in device /job:localhost/replica:0/task:0/device:CPU:0\n",
      "1345/1875 [====================>.........] - ETA: 3s - loss: 0.5289Executing op __inference_train_function_768 in device /job:localhost/replica:0/task:0/device:CPU:0\n",
      "Executing op __inference_train_function_768 in device /job:localhost/replica:0/task:0/device:CPU:0\n",
      "Executing op __inference_train_function_768 in device /job:localhost/replica:0/task:0/device:CPU:0\n",
      "Executing op __inference_train_function_768 in device /job:localhost/replica:0/task:0/device:CPU:0\n",
      "Executing op __inference_train_function_768 in device /job:localhost/replica:0/task:0/device:CPU:0\n",
      "Executing op __inference_train_function_768 in device /job:localhost/replica:0/task:0/device:CPU:0\n",
      "Executing op __inference_train_function_768 in device /job:localhost/replica:0/task:0/device:CPU:0\n",
      "Executing op __inference_train_function_768 in device /job:localhost/replica:0/task:0/device:CPU:0\n",
      "Executing op __inference_train_function_768 in device /job:localhost/replica:0/task:0/device:CPU:0\n",
      "1354/1875 [====================>.........] - ETA: 3s - loss: 0.5287Executing op __inference_train_function_768 in device /job:localhost/replica:0/task:0/device:CPU:0\n",
      "Executing op __inference_train_function_768 in device /job:localhost/replica:0/task:0/device:CPU:0\n",
      "Executing op __inference_train_function_768 in device /job:localhost/replica:0/task:0/device:CPU:0\n",
      "Executing op __inference_train_function_768 in device /job:localhost/replica:0/task:0/device:CPU:0\n",
      "Executing op __inference_train_function_768 in device /job:localhost/replica:0/task:0/device:CPU:0\n",
      "1359/1875 [====================>.........] - ETA: 3s - loss: 0.5288Executing op __inference_train_function_768 in device /job:localhost/replica:0/task:0/device:CPU:0\n",
      "Executing op __inference_train_function_768 in device /job:localhost/replica:0/task:0/device:CPU:0\n",
      "Executing op __inference_train_function_768 in device /job:localhost/replica:0/task:0/device:CPU:0\n",
      "Executing op __inference_train_function_768 in device /job:localhost/replica:0/task:0/device:CPU:0\n",
      "Executing op __inference_train_function_768 in device /job:localhost/replica:0/task:0/device:CPU:0\n",
      "Executing op __inference_train_function_768 in device /job:localhost/replica:0/task:0/device:CPU:0\n",
      "Executing op __inference_train_function_768 in device /job:localhost/replica:0/task:0/device:CPU:0\n",
      "Executing op __inference_train_function_768 in device /job:localhost/replica:0/task:0/device:CPU:0\n",
      "Executing op __inference_train_function_768 in device /job:localhost/replica:0/task:0/device:CPU:0\n",
      "1368/1875 [====================>.........] - ETA: 2s - loss: 0.5289Executing op __inference_train_function_768 in device /job:localhost/replica:0/task:0/device:CPU:0\n",
      "Executing op __inference_train_function_768 in device /job:localhost/replica:0/task:0/device:CPU:0\n",
      "Executing op __inference_train_function_768 in device /job:localhost/replica:0/task:0/device:CPU:0\n",
      "Executing op __inference_train_function_768 in device /job:localhost/replica:0/task:0/device:CPU:0\n",
      "Executing op __inference_train_function_768 in device /job:localhost/replica:0/task:0/device:CPU:0\n",
      "Executing op __inference_train_function_768 in device /job:localhost/replica:0/task:0/device:CPU:0\n",
      "Executing op __inference_train_function_768 in device /job:localhost/replica:0/task:0/device:CPU:0\n",
      "Executing op __inference_train_function_768 in device /job:localhost/replica:0/task:0/device:CPU:0\n",
      "Executing op __inference_train_function_768 in device /job:localhost/replica:0/task:0/device:CPU:0\n",
      "1377/1875 [=====================>........] - ETA: 2s - loss: 0.5283Executing op __inference_train_function_768 in device /job:localhost/replica:0/task:0/device:CPU:0\n",
      "Executing op __inference_train_function_768 in device /job:localhost/replica:0/task:0/device:CPU:0\n",
      "Executing op __inference_train_function_768 in device /job:localhost/replica:0/task:0/device:CPU:0\n",
      "Executing op __inference_train_function_768 in device /job:localhost/replica:0/task:0/device:CPU:0\n"
     ]
    },
    {
     "name": "stdout",
     "output_type": "stream",
     "text": [
      "Executing op __inference_train_function_768 in device /job:localhost/replica:0/task:0/device:CPU:0\n",
      "Executing op __inference_train_function_768 in device /job:localhost/replica:0/task:0/device:CPU:0\n",
      "Executing op __inference_train_function_768 in device /job:localhost/replica:0/task:0/device:CPU:0\n",
      "Executing op __inference_train_function_768 in device /job:localhost/replica:0/task:0/device:CPU:0\n",
      "Executing op __inference_train_function_768 in device /job:localhost/replica:0/task:0/device:CPU:0\n",
      "Executing op __inference_train_function_768 in device /job:localhost/replica:0/task:0/device:CPU:0\n",
      "1387/1875 [=====================>........] - ETA: 2s - loss: 0.5285Executing op __inference_train_function_768 in device /job:localhost/replica:0/task:0/device:CPU:0\n",
      "Executing op __inference_train_function_768 in device /job:localhost/replica:0/task:0/device:CPU:0\n",
      "Executing op __inference_train_function_768 in device /job:localhost/replica:0/task:0/device:CPU:0\n",
      "Executing op __inference_train_function_768 in device /job:localhost/replica:0/task:0/device:CPU:0\n",
      "Executing op __inference_train_function_768 in device /job:localhost/replica:0/task:0/device:CPU:0\n",
      "Executing op __inference_train_function_768 in device /job:localhost/replica:0/task:0/device:CPU:0\n",
      "Executing op __inference_train_function_768 in device /job:localhost/replica:0/task:0/device:CPU:0\n",
      "Executing op __inference_train_function_768 in device /job:localhost/replica:0/task:0/device:CPU:0\n",
      "Executing op __inference_train_function_768 in device /job:localhost/replica:0/task:0/device:CPU:0\n",
      "Executing op __inference_train_function_768 in device /job:localhost/replica:0/task:0/device:CPU:0\n",
      "Executing op __inference_train_function_768 in device /job:localhost/replica:0/task:0/device:CPU:0\n",
      "1398/1875 [=====================>........] - ETA: 2s - loss: 0.5279Executing op __inference_train_function_768 in device /job:localhost/replica:0/task:0/device:CPU:0\n",
      "Executing op __inference_train_function_768 in device /job:localhost/replica:0/task:0/device:CPU:0\n",
      "Executing op __inference_train_function_768 in device /job:localhost/replica:0/task:0/device:CPU:0\n",
      "Executing op __inference_train_function_768 in device /job:localhost/replica:0/task:0/device:CPU:0\n",
      "Executing op __inference_train_function_768 in device /job:localhost/replica:0/task:0/device:CPU:0\n",
      "Executing op __inference_train_function_768 in device /job:localhost/replica:0/task:0/device:CPU:0\n",
      "Executing op __inference_train_function_768 in device /job:localhost/replica:0/task:0/device:CPU:0\n",
      "Executing op __inference_train_function_768 in device /job:localhost/replica:0/task:0/device:CPU:0\n",
      "Executing op __inference_train_function_768 in device /job:localhost/replica:0/task:0/device:CPU:0\n",
      "Executing op __inference_train_function_768 in device /job:localhost/replica:0/task:0/device:CPU:0\n",
      "Executing op __inference_train_function_768 in device /job:localhost/replica:0/task:0/device:CPU:0\n",
      "1409/1875 [=====================>........] - ETA: 2s - loss: 0.5270Executing op __inference_train_function_768 in device /job:localhost/replica:0/task:0/device:CPU:0\n",
      "Executing op __inference_train_function_768 in device /job:localhost/replica:0/task:0/device:CPU:0\n",
      "Executing op __inference_train_function_768 in device /job:localhost/replica:0/task:0/device:CPU:0\n",
      "Executing op __inference_train_function_768 in device /job:localhost/replica:0/task:0/device:CPU:0\n",
      "Executing op __inference_train_function_768 in device /job:localhost/replica:0/task:0/device:CPU:0\n",
      "Executing op __inference_train_function_768 in device /job:localhost/replica:0/task:0/device:CPU:0\n",
      "Executing op __inference_train_function_768 in device /job:localhost/replica:0/task:0/device:CPU:0\n",
      "Executing op __inference_train_function_768 in device /job:localhost/replica:0/task:0/device:CPU:0\n",
      "Executing op __inference_train_function_768 in device /job:localhost/replica:0/task:0/device:CPU:0\n",
      "Executing op __inference_train_function_768 in device /job:localhost/replica:0/task:0/device:CPU:0\n",
      "1419/1875 [=====================>........] - ETA: 2s - loss: 0.5260Executing op __inference_train_function_768 in device /job:localhost/replica:0/task:0/device:CPU:0\n",
      "Executing op __inference_train_function_768 in device /job:localhost/replica:0/task:0/device:CPU:0\n",
      "Executing op __inference_train_function_768 in device /job:localhost/replica:0/task:0/device:CPU:0\n",
      "Executing op __inference_train_function_768 in device /job:localhost/replica:0/task:0/device:CPU:0\n",
      "Executing op __inference_train_function_768 in device /job:localhost/replica:0/task:0/device:CPU:0\n",
      "1424/1875 [=====================>........] - ETA: 2s - loss: 0.5259Executing op __inference_train_function_768 in device /job:localhost/replica:0/task:0/device:CPU:0\n",
      "Executing op __inference_train_function_768 in device /job:localhost/replica:0/task:0/device:CPU:0\n",
      "Executing op __inference_train_function_768 in device /job:localhost/replica:0/task:0/device:CPU:0\n",
      "Executing op __inference_train_function_768 in device /job:localhost/replica:0/task:0/device:CPU:0\n",
      "Executing op __inference_train_function_768 in device /job:localhost/replica:0/task:0/device:CPU:0\n",
      "1429/1875 [=====================>........] - ETA: 2s - loss: 0.5254Executing op __inference_train_function_768 in device /job:localhost/replica:0/task:0/device:CPU:0\n",
      "Executing op __inference_train_function_768 in device /job:localhost/replica:0/task:0/device:CPU:0\n",
      "Executing op __inference_train_function_768 in device /job:localhost/replica:0/task:0/device:CPU:0\n",
      "Executing op __inference_train_function_768 in device /job:localhost/replica:0/task:0/device:CPU:0\n",
      "Executing op __inference_train_function_768 in device /job:localhost/replica:0/task:0/device:CPU:0\n",
      "Executing op __inference_train_function_768 in device /job:localhost/replica:0/task:0/device:CPU:0\n",
      "Executing op __inference_train_function_768 in device /job:localhost/replica:0/task:0/device:CPU:0\n",
      "Executing op __inference_train_function_768 in device /job:localhost/replica:0/task:0/device:CPU:0\n",
      "1437/1875 [=====================>........] - ETA: 2s - loss: 0.5258Executing op __inference_train_function_768 in device /job:localhost/replica:0/task:0/device:CPU:0\n",
      "Executing op __inference_train_function_768 in device /job:localhost/replica:0/task:0/device:CPU:0\n",
      "Executing op __inference_train_function_768 in device /job:localhost/replica:0/task:0/device:CPU:0\n",
      "Executing op __inference_train_function_768 in device /job:localhost/replica:0/task:0/device:CPU:0\n",
      "Executing op __inference_train_function_768 in device /job:localhost/replica:0/task:0/device:CPU:0\n",
      "Executing op __inference_train_function_768 in device /job:localhost/replica:0/task:0/device:CPU:0\n",
      "Executing op __inference_train_function_768 in device /job:localhost/replica:0/task:0/device:CPU:0\n",
      "Executing op __inference_train_function_768 in device /job:localhost/replica:0/task:0/device:CPU:0\n",
      "Executing op __inference_train_function_768 in device /job:localhost/replica:0/task:0/device:CPU:0\n",
      "Executing op __inference_train_function_768 in device /job:localhost/replica:0/task:0/device:CPU:0\n",
      "Executing op __inference_train_function_768 in device /job:localhost/replica:0/task:0/device:CPU:0\n",
      "Executing op __inference_train_function_768 in device /job:localhost/replica:0/task:0/device:CPU:0\n",
      "Executing op __inference_train_function_768 in device /job:localhost/replica:0/task:0/device:CPU:0\n",
      "1450/1875 [======================>.......] - ETA: 2s - loss: 0.5255Executing op __inference_train_function_768 in device /job:localhost/replica:0/task:0/device:CPU:0\n",
      "Executing op __inference_train_function_768 in device /job:localhost/replica:0/task:0/device:CPU:0\n",
      "Executing op __inference_train_function_768 in device /job:localhost/replica:0/task:0/device:CPU:0\n",
      "Executing op __inference_train_function_768 in device /job:localhost/replica:0/task:0/device:CPU:0\n",
      "Executing op __inference_train_function_768 in device /job:localhost/replica:0/task:0/device:CPU:0\n",
      "Executing op __inference_train_function_768 in device /job:localhost/replica:0/task:0/device:CPU:0\n",
      "Executing op __inference_train_function_768 in device /job:localhost/replica:0/task:0/device:CPU:0\n",
      "Executing op __inference_train_function_768 in device /job:localhost/replica:0/task:0/device:CPU:0\n",
      "Executing op __inference_train_function_768 in device /job:localhost/replica:0/task:0/device:CPU:0\n"
     ]
    },
    {
     "name": "stdout",
     "output_type": "stream",
     "text": [
      "Executing op __inference_train_function_768 in device /job:localhost/replica:0/task:0/device:CPU:0\n",
      "Executing op __inference_train_function_768 in device /job:localhost/replica:0/task:0/device:CPU:0\n",
      "Executing op __inference_train_function_768 in device /job:localhost/replica:0/task:0/device:CPU:0\n",
      "Executing op __inference_train_function_768 in device /job:localhost/replica:0/task:0/device:CPU:0\n",
      "Executing op __inference_train_function_768 in device /job:localhost/replica:0/task:0/device:CPU:0\n",
      "1464/1875 [======================>.......] - ETA: 2s - loss: 0.5243Executing op __inference_train_function_768 in device /job:localhost/replica:0/task:0/device:CPU:0\n",
      "Executing op __inference_train_function_768 in device /job:localhost/replica:0/task:0/device:CPU:0\n",
      "Executing op __inference_train_function_768 in device /job:localhost/replica:0/task:0/device:CPU:0\n",
      "Executing op __inference_train_function_768 in device /job:localhost/replica:0/task:0/device:CPU:0\n",
      "Executing op __inference_train_function_768 in device /job:localhost/replica:0/task:0/device:CPU:0\n",
      "Executing op __inference_train_function_768 in device /job:localhost/replica:0/task:0/device:CPU:0\n",
      "Executing op __inference_train_function_768 in device /job:localhost/replica:0/task:0/device:CPU:0\n",
      "Executing op __inference_train_function_768 in device /job:localhost/replica:0/task:0/device:CPU:0\n",
      "Executing op __inference_train_function_768 in device /job:localhost/replica:0/task:0/device:CPU:0\n",
      "Executing op __inference_train_function_768 in device /job:localhost/replica:0/task:0/device:CPU:0\n",
      "Executing op __inference_train_function_768 in device /job:localhost/replica:0/task:0/device:CPU:0\n",
      "Executing op __inference_train_function_768 in device /job:localhost/replica:0/task:0/device:CPU:0\n",
      "Executing op __inference_train_function_768 in device /job:localhost/replica:0/task:0/device:CPU:0\n",
      "Executing op __inference_train_function_768 in device /job:localhost/replica:0/task:0/device:CPU:0\n",
      "1478/1875 [======================>.......] - ETA: 2s - loss: 0.5241Executing op __inference_train_function_768 in device /job:localhost/replica:0/task:0/device:CPU:0\n",
      "Executing op __inference_train_function_768 in device /job:localhost/replica:0/task:0/device:CPU:0\n",
      "Executing op __inference_train_function_768 in device /job:localhost/replica:0/task:0/device:CPU:0\n",
      "Executing op __inference_train_function_768 in device /job:localhost/replica:0/task:0/device:CPU:0\n",
      "Executing op __inference_train_function_768 in device /job:localhost/replica:0/task:0/device:CPU:0\n",
      "Executing op __inference_train_function_768 in device /job:localhost/replica:0/task:0/device:CPU:0\n",
      "Executing op __inference_train_function_768 in device /job:localhost/replica:0/task:0/device:CPU:0\n",
      "Executing op __inference_train_function_768 in device /job:localhost/replica:0/task:0/device:CPU:0\n",
      "Executing op __inference_train_function_768 in device /job:localhost/replica:0/task:0/device:CPU:0\n",
      "Executing op __inference_train_function_768 in device /job:localhost/replica:0/task:0/device:CPU:0\n",
      "1488/1875 [======================>.......] - ETA: 2s - loss: 0.5235Executing op __inference_train_function_768 in device /job:localhost/replica:0/task:0/device:CPU:0\n",
      "Executing op __inference_train_function_768 in device /job:localhost/replica:0/task:0/device:CPU:0\n",
      "Executing op __inference_train_function_768 in device /job:localhost/replica:0/task:0/device:CPU:0\n",
      "Executing op __inference_train_function_768 in device /job:localhost/replica:0/task:0/device:CPU:0\n",
      "Executing op __inference_train_function_768 in device /job:localhost/replica:0/task:0/device:CPU:0\n",
      "Executing op __inference_train_function_768 in device /job:localhost/replica:0/task:0/device:CPU:0\n",
      "Executing op __inference_train_function_768 in device /job:localhost/replica:0/task:0/device:CPU:0\n",
      "Executing op __inference_train_function_768 in device /job:localhost/replica:0/task:0/device:CPU:0\n",
      "Executing op __inference_train_function_768 in device /job:localhost/replica:0/task:0/device:CPU:0\n",
      "Executing op __inference_train_function_768 in device /job:localhost/replica:0/task:0/device:CPU:0\n",
      "Executing op __inference_train_function_768 in device /job:localhost/replica:0/task:0/device:CPU:0\n",
      "1499/1875 [======================>.......] - ETA: 2s - loss: 0.5232Executing op __inference_train_function_768 in device /job:localhost/replica:0/task:0/device:CPU:0\n",
      "Executing op __inference_train_function_768 in device /job:localhost/replica:0/task:0/device:CPU:0\n",
      "Executing op __inference_train_function_768 in device /job:localhost/replica:0/task:0/device:CPU:0\n",
      "Executing op __inference_train_function_768 in device /job:localhost/replica:0/task:0/device:CPU:0\n",
      "Executing op __inference_train_function_768 in device /job:localhost/replica:0/task:0/device:CPU:0\n",
      "Executing op __inference_train_function_768 in device /job:localhost/replica:0/task:0/device:CPU:0\n",
      "Executing op __inference_train_function_768 in device /job:localhost/replica:0/task:0/device:CPU:0\n",
      "Executing op __inference_train_function_768 in device /job:localhost/replica:0/task:0/device:CPU:0\n",
      "Executing op __inference_train_function_768 in device /job:localhost/replica:0/task:0/device:CPU:0\n",
      "Executing op __inference_train_function_768 in device /job:localhost/replica:0/task:0/device:CPU:0\n",
      "1509/1875 [=======================>......] - ETA: 2s - loss: 0.5226Executing op __inference_train_function_768 in device /job:localhost/replica:0/task:0/device:CPU:0\n",
      "Executing op __inference_train_function_768 in device /job:localhost/replica:0/task:0/device:CPU:0\n",
      "Executing op __inference_train_function_768 in device /job:localhost/replica:0/task:0/device:CPU:0\n",
      "Executing op __inference_train_function_768 in device /job:localhost/replica:0/task:0/device:CPU:0\n",
      "Executing op __inference_train_function_768 in device /job:localhost/replica:0/task:0/device:CPU:0\n",
      "Executing op __inference_train_function_768 in device /job:localhost/replica:0/task:0/device:CPU:0\n",
      "Executing op __inference_train_function_768 in device /job:localhost/replica:0/task:0/device:CPU:0\n",
      "Executing op __inference_train_function_768 in device /job:localhost/replica:0/task:0/device:CPU:0\n",
      "Executing op __inference_train_function_768 in device /job:localhost/replica:0/task:0/device:CPU:0\n",
      "Executing op __inference_train_function_768 in device /job:localhost/replica:0/task:0/device:CPU:0\n",
      "Executing op __inference_train_function_768 in device /job:localhost/replica:0/task:0/device:CPU:0\n",
      "1520/1875 [=======================>......] - ETA: 2s - loss: 0.5226Executing op __inference_train_function_768 in device /job:localhost/replica:0/task:0/device:CPU:0\n",
      "Executing op __inference_train_function_768 in device /job:localhost/replica:0/task:0/device:CPU:0\n",
      "Executing op __inference_train_function_768 in device /job:localhost/replica:0/task:0/device:CPU:0\n",
      "Executing op __inference_train_function_768 in device /job:localhost/replica:0/task:0/device:CPU:0\n",
      "Executing op __inference_train_function_768 in device /job:localhost/replica:0/task:0/device:CPU:0\n",
      "Executing op __inference_train_function_768 in device /job:localhost/replica:0/task:0/device:CPU:0\n",
      "Executing op __inference_train_function_768 in device /job:localhost/replica:0/task:0/device:CPU:0\n",
      "Executing op __inference_train_function_768 in device /job:localhost/replica:0/task:0/device:CPU:0\n",
      "Executing op __inference_train_function_768 in device /job:localhost/replica:0/task:0/device:CPU:0\n",
      "Executing op __inference_train_function_768 in device /job:localhost/replica:0/task:0/device:CPU:0\n",
      "Executing op __inference_train_function_768 in device /job:localhost/replica:0/task:0/device:CPU:0\n",
      "1531/1875 [=======================>......] - ETA: 1s - loss: 0.5226Executing op __inference_train_function_768 in device /job:localhost/replica:0/task:0/device:CPU:0\n",
      "Executing op __inference_train_function_768 in device /job:localhost/replica:0/task:0/device:CPU:0\n",
      "Executing op __inference_train_function_768 in device /job:localhost/replica:0/task:0/device:CPU:0\n",
      "Executing op __inference_train_function_768 in device /job:localhost/replica:0/task:0/device:CPU:0\n",
      "Executing op __inference_train_function_768 in device /job:localhost/replica:0/task:0/device:CPU:0\n",
      "Executing op __inference_train_function_768 in device /job:localhost/replica:0/task:0/device:CPU:0\n",
      "Executing op __inference_train_function_768 in device /job:localhost/replica:0/task:0/device:CPU:0\n"
     ]
    },
    {
     "name": "stdout",
     "output_type": "stream",
     "text": [
      "Executing op __inference_train_function_768 in device /job:localhost/replica:0/task:0/device:CPU:0\n",
      "1539/1875 [=======================>......] - ETA: 1s - loss: 0.5224Executing op __inference_train_function_768 in device /job:localhost/replica:0/task:0/device:CPU:0\n",
      "Executing op __inference_train_function_768 in device /job:localhost/replica:0/task:0/device:CPU:0\n",
      "Executing op __inference_train_function_768 in device /job:localhost/replica:0/task:0/device:CPU:0\n",
      "Executing op __inference_train_function_768 in device /job:localhost/replica:0/task:0/device:CPU:0\n",
      "Executing op __inference_train_function_768 in device /job:localhost/replica:0/task:0/device:CPU:0\n",
      "Executing op __inference_train_function_768 in device /job:localhost/replica:0/task:0/device:CPU:0\n",
      "Executing op __inference_train_function_768 in device /job:localhost/replica:0/task:0/device:CPU:0\n",
      "1546/1875 [=======================>......] - ETA: 1s - loss: 0.5226Executing op __inference_train_function_768 in device /job:localhost/replica:0/task:0/device:CPU:0\n",
      "Executing op __inference_train_function_768 in device /job:localhost/replica:0/task:0/device:CPU:0\n",
      "Executing op __inference_train_function_768 in device /job:localhost/replica:0/task:0/device:CPU:0\n",
      "Executing op __inference_train_function_768 in device /job:localhost/replica:0/task:0/device:CPU:0\n",
      "Executing op __inference_train_function_768 in device /job:localhost/replica:0/task:0/device:CPU:0\n",
      "Executing op __inference_train_function_768 in device /job:localhost/replica:0/task:0/device:CPU:0\n",
      "Executing op __inference_train_function_768 in device /job:localhost/replica:0/task:0/device:CPU:0\n",
      "Executing op __inference_train_function_768 in device /job:localhost/replica:0/task:0/device:CPU:0\n",
      "Executing op __inference_train_function_768 in device /job:localhost/replica:0/task:0/device:CPU:0\n",
      "Executing op __inference_train_function_768 in device /job:localhost/replica:0/task:0/device:CPU:0\n",
      "Executing op __inference_train_function_768 in device /job:localhost/replica:0/task:0/device:CPU:0\n",
      "Executing op __inference_train_function_768 in device /job:localhost/replica:0/task:0/device:CPU:0\n",
      "Executing op __inference_train_function_768 in device /job:localhost/replica:0/task:0/device:CPU:0\n",
      "Executing op __inference_train_function_768 in device /job:localhost/replica:0/task:0/device:CPU:0\n",
      "1560/1875 [=======================>......] - ETA: 1s - loss: 0.5220Executing op __inference_train_function_768 in device /job:localhost/replica:0/task:0/device:CPU:0\n",
      "Executing op __inference_train_function_768 in device /job:localhost/replica:0/task:0/device:CPU:0\n",
      "Executing op __inference_train_function_768 in device /job:localhost/replica:0/task:0/device:CPU:0\n",
      "Executing op __inference_train_function_768 in device /job:localhost/replica:0/task:0/device:CPU:0\n",
      "Executing op __inference_train_function_768 in device /job:localhost/replica:0/task:0/device:CPU:0\n",
      "Executing op __inference_train_function_768 in device /job:localhost/replica:0/task:0/device:CPU:0\n",
      "Executing op __inference_train_function_768 in device /job:localhost/replica:0/task:0/device:CPU:0\n",
      "Executing op __inference_train_function_768 in device /job:localhost/replica:0/task:0/device:CPU:0\n",
      "Executing op __inference_train_function_768 in device /job:localhost/replica:0/task:0/device:CPU:0\n",
      "Executing op __inference_train_function_768 in device /job:localhost/replica:0/task:0/device:CPU:0\n",
      "Executing op __inference_train_function_768 in device /job:localhost/replica:0/task:0/device:CPU:0\n",
      "Executing op __inference_train_function_768 in device /job:localhost/replica:0/task:0/device:CPU:0\n",
      "Executing op __inference_train_function_768 in device /job:localhost/replica:0/task:0/device:CPU:0\n",
      "Executing op __inference_train_function_768 in device /job:localhost/replica:0/task:0/device:CPU:0\n",
      "1574/1875 [========================>.....] - ETA: 1s - loss: 0.5212Executing op __inference_train_function_768 in device /job:localhost/replica:0/task:0/device:CPU:0\n",
      "Executing op __inference_train_function_768 in device /job:localhost/replica:0/task:0/device:CPU:0\n",
      "Executing op __inference_train_function_768 in device /job:localhost/replica:0/task:0/device:CPU:0\n",
      "Executing op __inference_train_function_768 in device /job:localhost/replica:0/task:0/device:CPU:0\n",
      "Executing op __inference_train_function_768 in device /job:localhost/replica:0/task:0/device:CPU:0\n",
      "Executing op __inference_train_function_768 in device /job:localhost/replica:0/task:0/device:CPU:0\n",
      "Executing op __inference_train_function_768 in device /job:localhost/replica:0/task:0/device:CPU:0\n",
      "Executing op __inference_train_function_768 in device /job:localhost/replica:0/task:0/device:CPU:0\n",
      "1582/1875 [========================>.....] - ETA: 1s - loss: 0.5213Executing op __inference_train_function_768 in device /job:localhost/replica:0/task:0/device:CPU:0\n",
      "Executing op __inference_train_function_768 in device /job:localhost/replica:0/task:0/device:CPU:0\n",
      "Executing op __inference_train_function_768 in device /job:localhost/replica:0/task:0/device:CPU:0\n",
      "1585/1875 [========================>.....] - ETA: 1s - loss: 0.5213Executing op __inference_train_function_768 in device /job:localhost/replica:0/task:0/device:CPU:0\n",
      "Executing op __inference_train_function_768 in device /job:localhost/replica:0/task:0/device:CPU:0\n",
      "Executing op __inference_train_function_768 in device /job:localhost/replica:0/task:0/device:CPU:0\n",
      "Executing op __inference_train_function_768 in device /job:localhost/replica:0/task:0/device:CPU:0\n",
      "Executing op __inference_train_function_768 in device /job:localhost/replica:0/task:0/device:CPU:0\n",
      "Executing op __inference_train_function_768 in device /job:localhost/replica:0/task:0/device:CPU:0\n",
      "Executing op __inference_train_function_768 in device /job:localhost/replica:0/task:0/device:CPU:0\n",
      "Executing op __inference_train_function_768 in device /job:localhost/replica:0/task:0/device:CPU:0\n",
      "Executing op __inference_train_function_768 in device /job:localhost/replica:0/task:0/device:CPU:0\n",
      "Executing op __inference_train_function_768 in device /job:localhost/replica:0/task:0/device:CPU:0\n",
      "Executing op __inference_train_function_768 in device /job:localhost/replica:0/task:0/device:CPU:0\n",
      "1596/1875 [========================>.....] - ETA: 1s - loss: 0.5215Executing op __inference_train_function_768 in device /job:localhost/replica:0/task:0/device:CPU:0\n",
      "Executing op __inference_train_function_768 in device /job:localhost/replica:0/task:0/device:CPU:0\n",
      "Executing op __inference_train_function_768 in device /job:localhost/replica:0/task:0/device:CPU:0\n",
      "Executing op __inference_train_function_768 in device /job:localhost/replica:0/task:0/device:CPU:0\n",
      "Executing op __inference_train_function_768 in device /job:localhost/replica:0/task:0/device:CPU:0\n",
      "Executing op __inference_train_function_768 in device /job:localhost/replica:0/task:0/device:CPU:0\n",
      "Executing op __inference_train_function_768 in device /job:localhost/replica:0/task:0/device:CPU:0\n",
      "Executing op __inference_train_function_768 in device /job:localhost/replica:0/task:0/device:CPU:0\n",
      "Executing op __inference_train_function_768 in device /job:localhost/replica:0/task:0/device:CPU:0\n",
      "Executing op __inference_train_function_768 in device /job:localhost/replica:0/task:0/device:CPU:0\n",
      "1606/1875 [========================>.....] - ETA: 1s - loss: 0.5214Executing op __inference_train_function_768 in device /job:localhost/replica:0/task:0/device:CPU:0\n",
      "Executing op __inference_train_function_768 in device /job:localhost/replica:0/task:0/device:CPU:0\n",
      "Executing op __inference_train_function_768 in device /job:localhost/replica:0/task:0/device:CPU:0\n",
      "Executing op __inference_train_function_768 in device /job:localhost/replica:0/task:0/device:CPU:0\n",
      "Executing op __inference_train_function_768 in device /job:localhost/replica:0/task:0/device:CPU:0\n",
      "Executing op __inference_train_function_768 in device /job:localhost/replica:0/task:0/device:CPU:0\n",
      "Executing op __inference_train_function_768 in device /job:localhost/replica:0/task:0/device:CPU:0\n",
      "Executing op __inference_train_function_768 in device /job:localhost/replica:0/task:0/device:CPU:0\n",
      "Executing op __inference_train_function_768 in device /job:localhost/replica:0/task:0/device:CPU:0\n",
      "Executing op __inference_train_function_768 in device /job:localhost/replica:0/task:0/device:CPU:0\n"
     ]
    },
    {
     "name": "stdout",
     "output_type": "stream",
     "text": [
      "Executing op __inference_train_function_768 in device /job:localhost/replica:0/task:0/device:CPU:0\n",
      "1617/1875 [========================>.....] - ETA: 1s - loss: 0.5209Executing op __inference_train_function_768 in device /job:localhost/replica:0/task:0/device:CPU:0\n",
      "Executing op __inference_train_function_768 in device /job:localhost/replica:0/task:0/device:CPU:0\n",
      "Executing op __inference_train_function_768 in device /job:localhost/replica:0/task:0/device:CPU:0\n",
      "Executing op __inference_train_function_768 in device /job:localhost/replica:0/task:0/device:CPU:0\n",
      "Executing op __inference_train_function_768 in device /job:localhost/replica:0/task:0/device:CPU:0\n",
      "Executing op __inference_train_function_768 in device /job:localhost/replica:0/task:0/device:CPU:0\n",
      "Executing op __inference_train_function_768 in device /job:localhost/replica:0/task:0/device:CPU:0\n",
      "Executing op __inference_train_function_768 in device /job:localhost/replica:0/task:0/device:CPU:0\n",
      "Executing op __inference_train_function_768 in device /job:localhost/replica:0/task:0/device:CPU:0\n",
      "Executing op __inference_train_function_768 in device /job:localhost/replica:0/task:0/device:CPU:0\n",
      "1627/1875 [=========================>....] - ETA: 1s - loss: 0.5207Executing op __inference_train_function_768 in device /job:localhost/replica:0/task:0/device:CPU:0\n",
      "Executing op __inference_train_function_768 in device /job:localhost/replica:0/task:0/device:CPU:0\n",
      "Executing op __inference_train_function_768 in device /job:localhost/replica:0/task:0/device:CPU:0\n",
      "Executing op __inference_train_function_768 in device /job:localhost/replica:0/task:0/device:CPU:0\n",
      "Executing op __inference_train_function_768 in device /job:localhost/replica:0/task:0/device:CPU:0\n",
      "Executing op __inference_train_function_768 in device /job:localhost/replica:0/task:0/device:CPU:0\n",
      "Executing op __inference_train_function_768 in device /job:localhost/replica:0/task:0/device:CPU:0\n",
      "Executing op __inference_train_function_768 in device /job:localhost/replica:0/task:0/device:CPU:0\n",
      "Executing op __inference_train_function_768 in device /job:localhost/replica:0/task:0/device:CPU:0\n",
      "Executing op __inference_train_function_768 in device /job:localhost/replica:0/task:0/device:CPU:0\n",
      "1637/1875 [=========================>....] - ETA: 1s - loss: 0.5203Executing op __inference_train_function_768 in device /job:localhost/replica:0/task:0/device:CPU:0\n",
      "Executing op __inference_train_function_768 in device /job:localhost/replica:0/task:0/device:CPU:0\n",
      "Executing op __inference_train_function_768 in device /job:localhost/replica:0/task:0/device:CPU:0\n",
      "Executing op __inference_train_function_768 in device /job:localhost/replica:0/task:0/device:CPU:0\n",
      "Executing op __inference_train_function_768 in device /job:localhost/replica:0/task:0/device:CPU:0\n",
      "Executing op __inference_train_function_768 in device /job:localhost/replica:0/task:0/device:CPU:0\n",
      "Executing op __inference_train_function_768 in device /job:localhost/replica:0/task:0/device:CPU:0\n",
      "Executing op __inference_train_function_768 in device /job:localhost/replica:0/task:0/device:CPU:0\n",
      "Executing op __inference_train_function_768 in device /job:localhost/replica:0/task:0/device:CPU:0\n",
      "Executing op __inference_train_function_768 in device /job:localhost/replica:0/task:0/device:CPU:0\n",
      "Executing op __inference_train_function_768 in device /job:localhost/replica:0/task:0/device:CPU:0\n",
      "1648/1875 [=========================>....] - ETA: 1s - loss: 0.5201Executing op __inference_train_function_768 in device /job:localhost/replica:0/task:0/device:CPU:0\n",
      "Executing op __inference_train_function_768 in device /job:localhost/replica:0/task:0/device:CPU:0\n",
      "Executing op __inference_train_function_768 in device /job:localhost/replica:0/task:0/device:CPU:0\n",
      "Executing op __inference_train_function_768 in device /job:localhost/replica:0/task:0/device:CPU:0\n",
      "Executing op __inference_train_function_768 in device /job:localhost/replica:0/task:0/device:CPU:0\n",
      "Executing op __inference_train_function_768 in device /job:localhost/replica:0/task:0/device:CPU:0\n",
      "Executing op __inference_train_function_768 in device /job:localhost/replica:0/task:0/device:CPU:0\n",
      "Executing op __inference_train_function_768 in device /job:localhost/replica:0/task:0/device:CPU:0\n",
      "Executing op __inference_train_function_768 in device /job:localhost/replica:0/task:0/device:CPU:0\n",
      "Executing op __inference_train_function_768 in device /job:localhost/replica:0/task:0/device:CPU:0\n",
      "1658/1875 [=========================>....] - ETA: 1s - loss: 0.5203Executing op __inference_train_function_768 in device /job:localhost/replica:0/task:0/device:CPU:0\n",
      "Executing op __inference_train_function_768 in device /job:localhost/replica:0/task:0/device:CPU:0\n",
      "Executing op __inference_train_function_768 in device /job:localhost/replica:0/task:0/device:CPU:0\n",
      "Executing op __inference_train_function_768 in device /job:localhost/replica:0/task:0/device:CPU:0\n",
      "Executing op __inference_train_function_768 in device /job:localhost/replica:0/task:0/device:CPU:0\n",
      "Executing op __inference_train_function_768 in device /job:localhost/replica:0/task:0/device:CPU:0\n",
      "Executing op __inference_train_function_768 in device /job:localhost/replica:0/task:0/device:CPU:0\n",
      "Executing op __inference_train_function_768 in device /job:localhost/replica:0/task:0/device:CPU:0\n",
      "Executing op __inference_train_function_768 in device /job:localhost/replica:0/task:0/device:CPU:0\n",
      "1667/1875 [=========================>....] - ETA: 1s - loss: 0.5204Executing op __inference_train_function_768 in device /job:localhost/replica:0/task:0/device:CPU:0\n",
      "Executing op __inference_train_function_768 in device /job:localhost/replica:0/task:0/device:CPU:0\n",
      "Executing op __inference_train_function_768 in device /job:localhost/replica:0/task:0/device:CPU:0\n",
      "Executing op __inference_train_function_768 in device /job:localhost/replica:0/task:0/device:CPU:0\n",
      "Executing op __inference_train_function_768 in device /job:localhost/replica:0/task:0/device:CPU:0\n",
      "Executing op __inference_train_function_768 in device /job:localhost/replica:0/task:0/device:CPU:0\n",
      "Executing op __inference_train_function_768 in device /job:localhost/replica:0/task:0/device:CPU:0\n",
      "1674/1875 [=========================>....] - ETA: 1s - loss: 0.5199Executing op __inference_train_function_768 in device /job:localhost/replica:0/task:0/device:CPU:0\n",
      "Executing op __inference_train_function_768 in device /job:localhost/replica:0/task:0/device:CPU:0\n",
      "Executing op __inference_train_function_768 in device /job:localhost/replica:0/task:0/device:CPU:0\n",
      "Executing op __inference_train_function_768 in device /job:localhost/replica:0/task:0/device:CPU:0\n",
      "Executing op __inference_train_function_768 in device /job:localhost/replica:0/task:0/device:CPU:0\n",
      "Executing op __inference_train_function_768 in device /job:localhost/replica:0/task:0/device:CPU:0\n",
      "Executing op __inference_train_function_768 in device /job:localhost/replica:0/task:0/device:CPU:0\n",
      "1681/1875 [=========================>....] - ETA: 1s - loss: 0.5195Executing op __inference_train_function_768 in device /job:localhost/replica:0/task:0/device:CPU:0\n",
      "Executing op __inference_train_function_768 in device /job:localhost/replica:0/task:0/device:CPU:0\n",
      "Executing op __inference_train_function_768 in device /job:localhost/replica:0/task:0/device:CPU:0\n",
      "Executing op __inference_train_function_768 in device /job:localhost/replica:0/task:0/device:CPU:0\n",
      "Executing op __inference_train_function_768 in device /job:localhost/replica:0/task:0/device:CPU:0\n",
      "Executing op __inference_train_function_768 in device /job:localhost/replica:0/task:0/device:CPU:0\n",
      "Executing op __inference_train_function_768 in device /job:localhost/replica:0/task:0/device:CPU:0\n",
      "Executing op __inference_train_function_768 in device /job:localhost/replica:0/task:0/device:CPU:0\n",
      "Executing op __inference_train_function_768 in device /job:localhost/replica:0/task:0/device:CPU:0\n",
      "Executing op __inference_train_function_768 in device /job:localhost/replica:0/task:0/device:CPU:0\n",
      "1691/1875 [==========================>...] - ETA: 1s - loss: 0.5188Executing op __inference_train_function_768 in device /job:localhost/replica:0/task:0/device:CPU:0\n",
      "Executing op __inference_train_function_768 in device /job:localhost/replica:0/task:0/device:CPU:0\n"
     ]
    },
    {
     "name": "stdout",
     "output_type": "stream",
     "text": [
      "Executing op __inference_train_function_768 in device /job:localhost/replica:0/task:0/device:CPU:0\n",
      "Executing op __inference_train_function_768 in device /job:localhost/replica:0/task:0/device:CPU:0\n",
      "Executing op __inference_train_function_768 in device /job:localhost/replica:0/task:0/device:CPU:0\n",
      "Executing op __inference_train_function_768 in device /job:localhost/replica:0/task:0/device:CPU:0\n",
      "Executing op __inference_train_function_768 in device /job:localhost/replica:0/task:0/device:CPU:0\n",
      "Executing op __inference_train_function_768 in device /job:localhost/replica:0/task:0/device:CPU:0\n",
      "Executing op __inference_train_function_768 in device /job:localhost/replica:0/task:0/device:CPU:0\n",
      "1700/1875 [==========================>...] - ETA: 1s - loss: 0.5185Executing op __inference_train_function_768 in device /job:localhost/replica:0/task:0/device:CPU:0\n",
      "Executing op __inference_train_function_768 in device /job:localhost/replica:0/task:0/device:CPU:0\n",
      "Executing op __inference_train_function_768 in device /job:localhost/replica:0/task:0/device:CPU:0\n",
      "Executing op __inference_train_function_768 in device /job:localhost/replica:0/task:0/device:CPU:0\n",
      "Executing op __inference_train_function_768 in device /job:localhost/replica:0/task:0/device:CPU:0\n",
      "Executing op __inference_train_function_768 in device /job:localhost/replica:0/task:0/device:CPU:0\n",
      "Executing op __inference_train_function_768 in device /job:localhost/replica:0/task:0/device:CPU:0\n",
      "Executing op __inference_train_function_768 in device /job:localhost/replica:0/task:0/device:CPU:0\n",
      "Executing op __inference_train_function_768 in device /job:localhost/replica:0/task:0/device:CPU:0\n",
      "Executing op __inference_train_function_768 in device /job:localhost/replica:0/task:0/device:CPU:0\n",
      "1710/1875 [==========================>...] - ETA: 0s - loss: 0.5183Executing op __inference_train_function_768 in device /job:localhost/replica:0/task:0/device:CPU:0\n",
      "Executing op __inference_train_function_768 in device /job:localhost/replica:0/task:0/device:CPU:0\n",
      "Executing op __inference_train_function_768 in device /job:localhost/replica:0/task:0/device:CPU:0\n",
      "Executing op __inference_train_function_768 in device /job:localhost/replica:0/task:0/device:CPU:0\n",
      "Executing op __inference_train_function_768 in device /job:localhost/replica:0/task:0/device:CPU:0\n",
      "Executing op __inference_train_function_768 in device /job:localhost/replica:0/task:0/device:CPU:0\n",
      "Executing op __inference_train_function_768 in device /job:localhost/replica:0/task:0/device:CPU:0\n",
      "Executing op __inference_train_function_768 in device /job:localhost/replica:0/task:0/device:CPU:0\n",
      "Executing op __inference_train_function_768 in device /job:localhost/replica:0/task:0/device:CPU:0\n",
      "Executing op __inference_train_function_768 in device /job:localhost/replica:0/task:0/device:CPU:0\n",
      "Executing op __inference_train_function_768 in device /job:localhost/replica:0/task:0/device:CPU:0\n",
      "1721/1875 [==========================>...] - ETA: 0s - loss: 0.5177Executing op __inference_train_function_768 in device /job:localhost/replica:0/task:0/device:CPU:0\n",
      "Executing op __inference_train_function_768 in device /job:localhost/replica:0/task:0/device:CPU:0\n",
      "Executing op __inference_train_function_768 in device /job:localhost/replica:0/task:0/device:CPU:0\n",
      "Executing op __inference_train_function_768 in device /job:localhost/replica:0/task:0/device:CPU:0\n",
      "Executing op __inference_train_function_768 in device /job:localhost/replica:0/task:0/device:CPU:0\n",
      "Executing op __inference_train_function_768 in device /job:localhost/replica:0/task:0/device:CPU:0\n",
      "Executing op __inference_train_function_768 in device /job:localhost/replica:0/task:0/device:CPU:0\n",
      "Executing op __inference_train_function_768 in device /job:localhost/replica:0/task:0/device:CPU:0\n",
      "Executing op __inference_train_function_768 in device /job:localhost/replica:0/task:0/device:CPU:0\n",
      "Executing op __inference_train_function_768 in device /job:localhost/replica:0/task:0/device:CPU:0\n",
      "1731/1875 [==========================>...] - ETA: 0s - loss: 0.5167Executing op __inference_train_function_768 in device /job:localhost/replica:0/task:0/device:CPU:0\n",
      "Executing op __inference_train_function_768 in device /job:localhost/replica:0/task:0/device:CPU:0\n",
      "Executing op __inference_train_function_768 in device /job:localhost/replica:0/task:0/device:CPU:0\n",
      "Executing op __inference_train_function_768 in device /job:localhost/replica:0/task:0/device:CPU:0\n",
      "Executing op __inference_train_function_768 in device /job:localhost/replica:0/task:0/device:CPU:0\n",
      "Executing op __inference_train_function_768 in device /job:localhost/replica:0/task:0/device:CPU:0\n",
      "Executing op __inference_train_function_768 in device /job:localhost/replica:0/task:0/device:CPU:0\n",
      "Executing op __inference_train_function_768 in device /job:localhost/replica:0/task:0/device:CPU:0\n",
      "Executing op __inference_train_function_768 in device /job:localhost/replica:0/task:0/device:CPU:0\n",
      "Executing op __inference_train_function_768 in device /job:localhost/replica:0/task:0/device:CPU:0\n",
      "Executing op __inference_train_function_768 in device /job:localhost/replica:0/task:0/device:CPU:0\n",
      "Executing op __inference_train_function_768 in device /job:localhost/replica:0/task:0/device:CPU:0\n",
      "1743/1875 [==========================>...] - ETA: 0s - loss: 0.5160Executing op __inference_train_function_768 in device /job:localhost/replica:0/task:0/device:CPU:0\n",
      "Executing op __inference_train_function_768 in device /job:localhost/replica:0/task:0/device:CPU:0\n",
      "Executing op __inference_train_function_768 in device /job:localhost/replica:0/task:0/device:CPU:0\n",
      "Executing op __inference_train_function_768 in device /job:localhost/replica:0/task:0/device:CPU:0\n",
      "Executing op __inference_train_function_768 in device /job:localhost/replica:0/task:0/device:CPU:0\n",
      "Executing op __inference_train_function_768 in device /job:localhost/replica:0/task:0/device:CPU:0\n",
      "Executing op __inference_train_function_768 in device /job:localhost/replica:0/task:0/device:CPU:0\n",
      "Executing op __inference_train_function_768 in device /job:localhost/replica:0/task:0/device:CPU:0\n",
      "Executing op __inference_train_function_768 in device /job:localhost/replica:0/task:0/device:CPU:0\n",
      "1752/1875 [===========================>..] - ETA: 0s - loss: 0.5156Executing op __inference_train_function_768 in device /job:localhost/replica:0/task:0/device:CPU:0\n",
      "Executing op __inference_train_function_768 in device /job:localhost/replica:0/task:0/device:CPU:0\n",
      "Executing op __inference_train_function_768 in device /job:localhost/replica:0/task:0/device:CPU:0\n",
      "Executing op __inference_train_function_768 in device /job:localhost/replica:0/task:0/device:CPU:0\n",
      "Executing op __inference_train_function_768 in device /job:localhost/replica:0/task:0/device:CPU:0\n",
      "Executing op __inference_train_function_768 in device /job:localhost/replica:0/task:0/device:CPU:0\n",
      "Executing op __inference_train_function_768 in device /job:localhost/replica:0/task:0/device:CPU:0\n",
      "Executing op __inference_train_function_768 in device /job:localhost/replica:0/task:0/device:CPU:0\n",
      "1760/1875 [===========================>..] - ETA: 0s - loss: 0.5155Executing op __inference_train_function_768 in device /job:localhost/replica:0/task:0/device:CPU:0\n",
      "Executing op __inference_train_function_768 in device /job:localhost/replica:0/task:0/device:CPU:0\n",
      "Executing op __inference_train_function_768 in device /job:localhost/replica:0/task:0/device:CPU:0\n",
      "Executing op __inference_train_function_768 in device /job:localhost/replica:0/task:0/device:CPU:0\n",
      "Executing op __inference_train_function_768 in device /job:localhost/replica:0/task:0/device:CPU:0\n",
      "Executing op __inference_train_function_768 in device /job:localhost/replica:0/task:0/device:CPU:0\n",
      "Executing op __inference_train_function_768 in device /job:localhost/replica:0/task:0/device:CPU:0\n",
      "1767/1875 [===========================>..] - ETA: 0s - loss: 0.5148Executing op __inference_train_function_768 in device /job:localhost/replica:0/task:0/device:CPU:0\n",
      "Executing op __inference_train_function_768 in device /job:localhost/replica:0/task:0/device:CPU:0\n",
      "Executing op __inference_train_function_768 in device /job:localhost/replica:0/task:0/device:CPU:0\n",
      "Executing op __inference_train_function_768 in device /job:localhost/replica:0/task:0/device:CPU:0\n"
     ]
    },
    {
     "name": "stdout",
     "output_type": "stream",
     "text": [
      "Executing op __inference_train_function_768 in device /job:localhost/replica:0/task:0/device:CPU:0\n",
      "Executing op __inference_train_function_768 in device /job:localhost/replica:0/task:0/device:CPU:0\n",
      "Executing op __inference_train_function_768 in device /job:localhost/replica:0/task:0/device:CPU:0\n",
      "1774/1875 [===========================>..] - ETA: 0s - loss: 0.5144Executing op __inference_train_function_768 in device /job:localhost/replica:0/task:0/device:CPU:0\n",
      "Executing op __inference_train_function_768 in device /job:localhost/replica:0/task:0/device:CPU:0\n",
      "Executing op __inference_train_function_768 in device /job:localhost/replica:0/task:0/device:CPU:0\n",
      "Executing op __inference_train_function_768 in device /job:localhost/replica:0/task:0/device:CPU:0\n",
      "Executing op __inference_train_function_768 in device /job:localhost/replica:0/task:0/device:CPU:0\n",
      "Executing op __inference_train_function_768 in device /job:localhost/replica:0/task:0/device:CPU:0\n",
      "Executing op __inference_train_function_768 in device /job:localhost/replica:0/task:0/device:CPU:0\n",
      "Executing op __inference_train_function_768 in device /job:localhost/replica:0/task:0/device:CPU:0\n",
      "1782/1875 [===========================>..] - ETA: 0s - loss: 0.5137Executing op __inference_train_function_768 in device /job:localhost/replica:0/task:0/device:CPU:0\n",
      "Executing op __inference_train_function_768 in device /job:localhost/replica:0/task:0/device:CPU:0\n",
      "Executing op __inference_train_function_768 in device /job:localhost/replica:0/task:0/device:CPU:0\n",
      "Executing op __inference_train_function_768 in device /job:localhost/replica:0/task:0/device:CPU:0\n",
      "Executing op __inference_train_function_768 in device /job:localhost/replica:0/task:0/device:CPU:0\n",
      "Executing op __inference_train_function_768 in device /job:localhost/replica:0/task:0/device:CPU:0\n",
      "Executing op __inference_train_function_768 in device /job:localhost/replica:0/task:0/device:CPU:0\n",
      "Executing op __inference_train_function_768 in device /job:localhost/replica:0/task:0/device:CPU:0\n",
      "Executing op __inference_train_function_768 in device /job:localhost/replica:0/task:0/device:CPU:0\n",
      "Executing op __inference_train_function_768 in device /job:localhost/replica:0/task:0/device:CPU:0\n",
      "1792/1875 [===========================>..] - ETA: 0s - loss: 0.5130Executing op __inference_train_function_768 in device /job:localhost/replica:0/task:0/device:CPU:0\n",
      "Executing op __inference_train_function_768 in device /job:localhost/replica:0/task:0/device:CPU:0\n",
      "Executing op __inference_train_function_768 in device /job:localhost/replica:0/task:0/device:CPU:0\n",
      "Executing op __inference_train_function_768 in device /job:localhost/replica:0/task:0/device:CPU:0\n",
      "Executing op __inference_train_function_768 in device /job:localhost/replica:0/task:0/device:CPU:0\n",
      "Executing op __inference_train_function_768 in device /job:localhost/replica:0/task:0/device:CPU:0\n",
      "Executing op __inference_train_function_768 in device /job:localhost/replica:0/task:0/device:CPU:0\n",
      "Executing op __inference_train_function_768 in device /job:localhost/replica:0/task:0/device:CPU:0\n",
      "Executing op __inference_train_function_768 in device /job:localhost/replica:0/task:0/device:CPU:0\n",
      "Executing op __inference_train_function_768 in device /job:localhost/replica:0/task:0/device:CPU:0\n",
      "1802/1875 [===========================>..] - ETA: 0s - loss: 0.5127Executing op __inference_train_function_768 in device /job:localhost/replica:0/task:0/device:CPU:0\n",
      "Executing op __inference_train_function_768 in device /job:localhost/replica:0/task:0/device:CPU:0\n",
      "Executing op __inference_train_function_768 in device /job:localhost/replica:0/task:0/device:CPU:0\n",
      "Executing op __inference_train_function_768 in device /job:localhost/replica:0/task:0/device:CPU:0\n",
      "Executing op __inference_train_function_768 in device /job:localhost/replica:0/task:0/device:CPU:0\n",
      "Executing op __inference_train_function_768 in device /job:localhost/replica:0/task:0/device:CPU:0\n",
      "Executing op __inference_train_function_768 in device /job:localhost/replica:0/task:0/device:CPU:0\n",
      "Executing op __inference_train_function_768 in device /job:localhost/replica:0/task:0/device:CPU:0\n",
      "Executing op __inference_train_function_768 in device /job:localhost/replica:0/task:0/device:CPU:0\n",
      "Executing op __inference_train_function_768 in device /job:localhost/replica:0/task:0/device:CPU:0\n",
      "Executing op __inference_train_function_768 in device /job:localhost/replica:0/task:0/device:CPU:0\n",
      "Executing op __inference_train_function_768 in device /job:localhost/replica:0/task:0/device:CPU:0\n",
      "Executing op __inference_train_function_768 in device /job:localhost/replica:0/task:0/device:CPU:0\n",
      "1815/1875 [============================>.] - ETA: 0s - loss: 0.5121Executing op __inference_train_function_768 in device /job:localhost/replica:0/task:0/device:CPU:0\n",
      "Executing op __inference_train_function_768 in device /job:localhost/replica:0/task:0/device:CPU:0\n",
      "Executing op __inference_train_function_768 in device /job:localhost/replica:0/task:0/device:CPU:0\n",
      "Executing op __inference_train_function_768 in device /job:localhost/replica:0/task:0/device:CPU:0\n",
      "Executing op __inference_train_function_768 in device /job:localhost/replica:0/task:0/device:CPU:0\n",
      "Executing op __inference_train_function_768 in device /job:localhost/replica:0/task:0/device:CPU:0\n",
      "Executing op __inference_train_function_768 in device /job:localhost/replica:0/task:0/device:CPU:0\n",
      "Executing op __inference_train_function_768 in device /job:localhost/replica:0/task:0/device:CPU:0\n",
      "Executing op __inference_train_function_768 in device /job:localhost/replica:0/task:0/device:CPU:0\n",
      "Executing op __inference_train_function_768 in device /job:localhost/replica:0/task:0/device:CPU:0\n",
      "Executing op __inference_train_function_768 in device /job:localhost/replica:0/task:0/device:CPU:0\n",
      "Executing op __inference_train_function_768 in device /job:localhost/replica:0/task:0/device:CPU:0\n",
      "Executing op __inference_train_function_768 in device /job:localhost/replica:0/task:0/device:CPU:0\n",
      "1828/1875 [============================>.] - ETA: 0s - loss: 0.5118Executing op __inference_train_function_768 in device /job:localhost/replica:0/task:0/device:CPU:0\n",
      "Executing op __inference_train_function_768 in device /job:localhost/replica:0/task:0/device:CPU:0\n",
      "Executing op __inference_train_function_768 in device /job:localhost/replica:0/task:0/device:CPU:0\n",
      "Executing op __inference_train_function_768 in device /job:localhost/replica:0/task:0/device:CPU:0\n",
      "Executing op __inference_train_function_768 in device /job:localhost/replica:0/task:0/device:CPU:0\n",
      "Executing op __inference_train_function_768 in device /job:localhost/replica:0/task:0/device:CPU:0\n",
      "Executing op __inference_train_function_768 in device /job:localhost/replica:0/task:0/device:CPU:0\n",
      "Executing op __inference_train_function_768 in device /job:localhost/replica:0/task:0/device:CPU:0\n",
      "Executing op __inference_train_function_768 in device /job:localhost/replica:0/task:0/device:CPU:0\n",
      "Executing op __inference_train_function_768 in device /job:localhost/replica:0/task:0/device:CPU:0\n",
      "Executing op __inference_train_function_768 in device /job:localhost/replica:0/task:0/device:CPU:0\n",
      "1839/1875 [============================>.] - ETA: 0s - loss: 0.5111Executing op __inference_train_function_768 in device /job:localhost/replica:0/task:0/device:CPU:0\n",
      "Executing op __inference_train_function_768 in device /job:localhost/replica:0/task:0/device:CPU:0\n",
      "Executing op __inference_train_function_768 in device /job:localhost/replica:0/task:0/device:CPU:0\n",
      "Executing op __inference_train_function_768 in device /job:localhost/replica:0/task:0/device:CPU:0\n",
      "Executing op __inference_train_function_768 in device /job:localhost/replica:0/task:0/device:CPU:0\n",
      "Executing op __inference_train_function_768 in device /job:localhost/replica:0/task:0/device:CPU:0\n",
      "Executing op __inference_train_function_768 in device /job:localhost/replica:0/task:0/device:CPU:0\n",
      "Executing op __inference_train_function_768 in device /job:localhost/replica:0/task:0/device:CPU:0\n",
      "Executing op __inference_train_function_768 in device /job:localhost/replica:0/task:0/device:CPU:0\n",
      "Executing op __inference_train_function_768 in device /job:localhost/replica:0/task:0/device:CPU:0\n"
     ]
    },
    {
     "name": "stdout",
     "output_type": "stream",
     "text": [
      "1849/1875 [============================>.] - ETA: 0s - loss: 0.5105Executing op __inference_train_function_768 in device /job:localhost/replica:0/task:0/device:CPU:0\n",
      "Executing op __inference_train_function_768 in device /job:localhost/replica:0/task:0/device:CPU:0\n",
      "Executing op __inference_train_function_768 in device /job:localhost/replica:0/task:0/device:CPU:0\n",
      "Executing op __inference_train_function_768 in device /job:localhost/replica:0/task:0/device:CPU:0\n",
      "Executing op __inference_train_function_768 in device /job:localhost/replica:0/task:0/device:CPU:0\n",
      "Executing op __inference_train_function_768 in device /job:localhost/replica:0/task:0/device:CPU:0\n",
      "Executing op __inference_train_function_768 in device /job:localhost/replica:0/task:0/device:CPU:0\n",
      "Executing op __inference_train_function_768 in device /job:localhost/replica:0/task:0/device:CPU:0\n",
      "Executing op __inference_train_function_768 in device /job:localhost/replica:0/task:0/device:CPU:0\n",
      "Executing op __inference_train_function_768 in device /job:localhost/replica:0/task:0/device:CPU:0\n",
      "Executing op __inference_train_function_768 in device /job:localhost/replica:0/task:0/device:CPU:0\n",
      "1860/1875 [============================>.] - ETA: 0s - loss: 0.5103Executing op __inference_train_function_768 in device /job:localhost/replica:0/task:0/device:CPU:0\n",
      "Executing op __inference_train_function_768 in device /job:localhost/replica:0/task:0/device:CPU:0\n",
      "Executing op __inference_train_function_768 in device /job:localhost/replica:0/task:0/device:CPU:0\n",
      "Executing op __inference_train_function_768 in device /job:localhost/replica:0/task:0/device:CPU:0\n",
      "Executing op __inference_train_function_768 in device /job:localhost/replica:0/task:0/device:CPU:0\n",
      "Executing op __inference_train_function_768 in device /job:localhost/replica:0/task:0/device:CPU:0\n",
      "Executing op __inference_train_function_768 in device /job:localhost/replica:0/task:0/device:CPU:0\n",
      "Executing op __inference_train_function_768 in device /job:localhost/replica:0/task:0/device:CPU:0\n",
      "Executing op __inference_train_function_768 in device /job:localhost/replica:0/task:0/device:CPU:0\n",
      "Executing op __inference_train_function_768 in device /job:localhost/replica:0/task:0/device:CPU:0\n",
      "1870/1875 [============================>.] - ETA: 0s - loss: 0.5101Executing op __inference_train_function_768 in device /job:localhost/replica:0/task:0/device:CPU:0\n",
      "Executing op __inference_train_function_768 in device /job:localhost/replica:0/task:0/device:CPU:0\n",
      "Executing op __inference_train_function_768 in device /job:localhost/replica:0/task:0/device:CPU:0\n",
      "Executing op __inference_train_function_768 in device /job:localhost/replica:0/task:0/device:CPU:0\n",
      "Executing op __inference_train_function_768 in device /job:localhost/replica:0/task:0/device:CPU:0\n",
      "1875/1875 [==============================] - 11s 6ms/step - loss: 0.5100\n",
      "Executing op DeleteIterator in device /job:localhost/replica:0/task:0/device:CPU:0\n",
      "Executing op ReadVariableOp in device /job:localhost/replica:0/task:0/device:CPU:0\n",
      "Executing op Identity in device /job:localhost/replica:0/task:0/device:CPU:0\n",
      "Executing op RangeDataset in device /job:localhost/replica:0/task:0/device:CPU:0\n",
      "Executing op RepeatDataset in device /job:localhost/replica:0/task:0/device:CPU:0\n",
      "Executing op MapDataset in device /job:localhost/replica:0/task:0/device:CPU:0\n",
      "Executing op PrefetchDataset in device /job:localhost/replica:0/task:0/device:CPU:0\n",
      "Executing op FlatMapDataset in device /job:localhost/replica:0/task:0/device:CPU:0\n",
      "Executing op TensorDataset in device /job:localhost/replica:0/task:0/device:CPU:0\n",
      "Executing op RepeatDataset in device /job:localhost/replica:0/task:0/device:CPU:0\n",
      "Executing op ZipDataset in device /job:localhost/replica:0/task:0/device:CPU:0\n",
      "Executing op ParallelMapDatasetV2 in device /job:localhost/replica:0/task:0/device:CPU:0\n",
      "Executing op AssignVariableOp in device /job:localhost/replica:0/task:0/device:CPU:0\n",
      "Executing op ModelDataset in device /job:localhost/replica:0/task:0/device:CPU:0\n",
      "Executing op AnonymousIteratorV2 in device /job:localhost/replica:0/task:0/device:CPU:0\n",
      "Executing op MakeIterator in device /job:localhost/replica:0/task:0/device:CPU:0\n",
      "Executing op AssignVariableOp in device /job:localhost/replica:0/task:0/device:CPU:0\n",
      "Executing op AssignVariableOp in device /job:localhost/replica:0/task:0/device:CPU:0\n",
      "Executing op __inference_test_function_2783 in device /job:localhost/replica:0/task:0/device:CPU:0\n",
      "  1/313 [..............................] - ETA: 0s - loss: 0.4497Executing op __inference_test_function_2783 in device /job:localhost/replica:0/task:0/device:CPU:0\n",
      "Executing op __inference_test_function_2783 in device /job:localhost/replica:0/task:0/device:CPU:0\n",
      "Executing op __inference_test_function_2783 in device /job:localhost/replica:0/task:0/device:CPU:0\n",
      "Executing op __inference_test_function_2783 in device /job:localhost/replica:0/task:0/device:CPU:0\n",
      "Executing op __inference_test_function_2783 in device /job:localhost/replica:0/task:0/device:CPU:0\n",
      "Executing op __inference_test_function_2783 in device /job:localhost/replica:0/task:0/device:CPU:0\n",
      "  7/313 [..............................] - ETA: 2s - loss: 0.3791Executing op __inference_test_function_2783 in device /job:localhost/replica:0/task:0/device:CPU:0\n",
      "Executing op __inference_test_function_2783 in device /job:localhost/replica:0/task:0/device:CPU:0\n",
      "Executing op __inference_test_function_2783 in device /job:localhost/replica:0/task:0/device:CPU:0\n",
      "Executing op __inference_test_function_2783 in device /job:localhost/replica:0/task:0/device:CPU:0\n",
      "Executing op __inference_test_function_2783 in device /job:localhost/replica:0/task:0/device:CPU:0\n",
      "Executing op __inference_test_function_2783 in device /job:localhost/replica:0/task:0/device:CPU:0\n",
      "Executing op __inference_test_function_2783 in device /job:localhost/replica:0/task:0/device:CPU:0\n",
      "Executing op __inference_test_function_2783 in device /job:localhost/replica:0/task:0/device:CPU:0\n",
      " 15/313 [>.............................] - ETA: 2s - loss: 0.4380Executing op __inference_test_function_2783 in device /job:localhost/replica:0/task:0/device:CPU:0\n",
      "Executing op __inference_test_function_2783 in device /job:localhost/replica:0/task:0/device:CPU:0\n",
      "Executing op __inference_test_function_2783 in device /job:localhost/replica:0/task:0/device:CPU:0\n",
      "Executing op __inference_test_function_2783 in device /job:localhost/replica:0/task:0/device:CPU:0\n",
      "Executing op __inference_test_function_2783 in device /job:localhost/replica:0/task:0/device:CPU:0\n",
      "Executing op __inference_test_function_2783 in device /job:localhost/replica:0/task:0/device:CPU:0\n",
      "Executing op __inference_test_function_2783 in device /job:localhost/replica:0/task:0/device:CPU:0\n",
      "Executing op __inference_test_function_2783 in device /job:localhost/replica:0/task:0/device:CPU:0\n",
      "Executing op __inference_test_function_2783 in device /job:localhost/replica:0/task:0/device:CPU:0\n",
      "Executing op __inference_test_function_2783 in device /job:localhost/replica:0/task:0/device:CPU:0\n",
      "Executing op __inference_test_function_2783 in device /job:localhost/replica:0/task:0/device:CPU:0\n",
      " 26/313 [=>............................] - ETA: 1s - loss: 0.4597Executing op __inference_test_function_2783 in device /job:localhost/replica:0/task:0/device:CPU:0\n",
      "Executing op __inference_test_function_2783 in device /job:localhost/replica:0/task:0/device:CPU:0\n",
      "Executing op __inference_test_function_2783 in device /job:localhost/replica:0/task:0/device:CPU:0\n",
      "Executing op __inference_test_function_2783 in device /job:localhost/replica:0/task:0/device:CPU:0\n",
      "Executing op __inference_test_function_2783 in device /job:localhost/replica:0/task:0/device:CPU:0\n",
      "Executing op __inference_test_function_2783 in device /job:localhost/replica:0/task:0/device:CPU:0\n",
      "Executing op __inference_test_function_2783 in device /job:localhost/replica:0/task:0/device:CPU:0\n",
      "Executing op __inference_test_function_2783 in device /job:localhost/replica:0/task:0/device:CPU:0\n",
      "Executing op __inference_test_function_2783 in device /job:localhost/replica:0/task:0/device:CPU:0\n",
      "Executing op __inference_test_function_2783 in device /job:localhost/replica:0/task:0/device:CPU:0\n",
      "Executing op __inference_test_function_2783 in device /job:localhost/replica:0/task:0/device:CPU:0\n"
     ]
    },
    {
     "name": "stdout",
     "output_type": "stream",
     "text": [
      "Executing op __inference_test_function_2783 in device /job:localhost/replica:0/task:0/device:CPU:0\n",
      "Executing op __inference_test_function_2783 in device /job:localhost/replica:0/task:0/device:CPU:0\n",
      "Executing op __inference_test_function_2783 in device /job:localhost/replica:0/task:0/device:CPU:0\n",
      " 40/313 [==>...........................] - ETA: 1s - loss: 0.4864Executing op __inference_test_function_2783 in device /job:localhost/replica:0/task:0/device:CPU:0\n",
      "Executing op __inference_test_function_2783 in device /job:localhost/replica:0/task:0/device:CPU:0\n",
      "Executing op __inference_test_function_2783 in device /job:localhost/replica:0/task:0/device:CPU:0\n",
      "Executing op __inference_test_function_2783 in device /job:localhost/replica:0/task:0/device:CPU:0\n",
      "Executing op __inference_test_function_2783 in device /job:localhost/replica:0/task:0/device:CPU:0\n",
      "Executing op __inference_test_function_2783 in device /job:localhost/replica:0/task:0/device:CPU:0\n",
      "Executing op __inference_test_function_2783 in device /job:localhost/replica:0/task:0/device:CPU:0\n",
      "Executing op __inference_test_function_2783 in device /job:localhost/replica:0/task:0/device:CPU:0\n",
      "Executing op __inference_test_function_2783 in device /job:localhost/replica:0/task:0/device:CPU:0\n",
      "Executing op __inference_test_function_2783 in device /job:localhost/replica:0/task:0/device:CPU:0\n",
      "Executing op __inference_test_function_2783 in device /job:localhost/replica:0/task:0/device:CPU:0\n",
      "Executing op __inference_test_function_2783 in device /job:localhost/replica:0/task:0/device:CPU:0\n",
      " 52/313 [===>..........................] - ETA: 1s - loss: 0.4977Executing op __inference_test_function_2783 in device /job:localhost/replica:0/task:0/device:CPU:0\n",
      "Executing op __inference_test_function_2783 in device /job:localhost/replica:0/task:0/device:CPU:0\n",
      "Executing op __inference_test_function_2783 in device /job:localhost/replica:0/task:0/device:CPU:0\n",
      "Executing op __inference_test_function_2783 in device /job:localhost/replica:0/task:0/device:CPU:0\n",
      "Executing op __inference_test_function_2783 in device /job:localhost/replica:0/task:0/device:CPU:0\n",
      "Executing op __inference_test_function_2783 in device /job:localhost/replica:0/task:0/device:CPU:0\n",
      "Executing op __inference_test_function_2783 in device /job:localhost/replica:0/task:0/device:CPU:0\n",
      "Executing op __inference_test_function_2783 in device /job:localhost/replica:0/task:0/device:CPU:0\n",
      "Executing op __inference_test_function_2783 in device /job:localhost/replica:0/task:0/device:CPU:0\n",
      "Executing op __inference_test_function_2783 in device /job:localhost/replica:0/task:0/device:CPU:0\n",
      "Executing op __inference_test_function_2783 in device /job:localhost/replica:0/task:0/device:CPU:0\n",
      " 63/313 [=====>........................] - ETA: 1s - loss: 0.5097Executing op __inference_test_function_2783 in device /job:localhost/replica:0/task:0/device:CPU:0\n",
      "Executing op __inference_test_function_2783 in device /job:localhost/replica:0/task:0/device:CPU:0\n",
      "Executing op __inference_test_function_2783 in device /job:localhost/replica:0/task:0/device:CPU:0\n",
      "Executing op __inference_test_function_2783 in device /job:localhost/replica:0/task:0/device:CPU:0\n",
      "Executing op __inference_test_function_2783 in device /job:localhost/replica:0/task:0/device:CPU:0\n",
      "Executing op __inference_test_function_2783 in device /job:localhost/replica:0/task:0/device:CPU:0\n",
      "Executing op __inference_test_function_2783 in device /job:localhost/replica:0/task:0/device:CPU:0\n",
      "Executing op __inference_test_function_2783 in device /job:localhost/replica:0/task:0/device:CPU:0\n",
      "Executing op __inference_test_function_2783 in device /job:localhost/replica:0/task:0/device:CPU:0\n",
      " 72/313 [=====>........................] - ETA: 1s - loss: 0.5297Executing op __inference_test_function_2783 in device /job:localhost/replica:0/task:0/device:CPU:0\n",
      "Executing op __inference_test_function_2783 in device /job:localhost/replica:0/task:0/device:CPU:0\n",
      "Executing op __inference_test_function_2783 in device /job:localhost/replica:0/task:0/device:CPU:0\n",
      "Executing op __inference_test_function_2783 in device /job:localhost/replica:0/task:0/device:CPU:0\n",
      "Executing op __inference_test_function_2783 in device /job:localhost/replica:0/task:0/device:CPU:0\n",
      "Executing op __inference_test_function_2783 in device /job:localhost/replica:0/task:0/device:CPU:0\n",
      "Executing op __inference_test_function_2783 in device /job:localhost/replica:0/task:0/device:CPU:0\n",
      "Executing op __inference_test_function_2783 in device /job:localhost/replica:0/task:0/device:CPU:0\n",
      " 80/313 [======>.......................] - ETA: 1s - loss: 0.5264Executing op __inference_test_function_2783 in device /job:localhost/replica:0/task:0/device:CPU:0\n",
      "Executing op __inference_test_function_2783 in device /job:localhost/replica:0/task:0/device:CPU:0\n",
      "Executing op __inference_test_function_2783 in device /job:localhost/replica:0/task:0/device:CPU:0\n",
      "Executing op __inference_test_function_2783 in device /job:localhost/replica:0/task:0/device:CPU:0\n",
      "Executing op __inference_test_function_2783 in device /job:localhost/replica:0/task:0/device:CPU:0\n",
      "Executing op __inference_test_function_2783 in device /job:localhost/replica:0/task:0/device:CPU:0\n",
      "Executing op __inference_test_function_2783 in device /job:localhost/replica:0/task:0/device:CPU:0\n",
      "Executing op __inference_test_function_2783 in device /job:localhost/replica:0/task:0/device:CPU:0\n",
      " 88/313 [=======>......................] - ETA: 1s - loss: 0.5242Executing op __inference_test_function_2783 in device /job:localhost/replica:0/task:0/device:CPU:0\n",
      "Executing op __inference_test_function_2783 in device /job:localhost/replica:0/task:0/device:CPU:0\n",
      "Executing op __inference_test_function_2783 in device /job:localhost/replica:0/task:0/device:CPU:0\n",
      "Executing op __inference_test_function_2783 in device /job:localhost/replica:0/task:0/device:CPU:0\n",
      "Executing op __inference_test_function_2783 in device /job:localhost/replica:0/task:0/device:CPU:0\n",
      "Executing op __inference_test_function_2783 in device /job:localhost/replica:0/task:0/device:CPU:0\n",
      "Executing op __inference_test_function_2783 in device /job:localhost/replica:0/task:0/device:CPU:0\n",
      "Executing op __inference_test_function_2783 in device /job:localhost/replica:0/task:0/device:CPU:0\n",
      " 96/313 [========>.....................] - ETA: 1s - loss: 0.5150Executing op __inference_test_function_2783 in device /job:localhost/replica:0/task:0/device:CPU:0\n",
      "Executing op __inference_test_function_2783 in device /job:localhost/replica:0/task:0/device:CPU:0\n",
      "Executing op __inference_test_function_2783 in device /job:localhost/replica:0/task:0/device:CPU:0\n",
      "Executing op __inference_test_function_2783 in device /job:localhost/replica:0/task:0/device:CPU:0\n",
      "Executing op __inference_test_function_2783 in device /job:localhost/replica:0/task:0/device:CPU:0\n",
      "Executing op __inference_test_function_2783 in device /job:localhost/replica:0/task:0/device:CPU:0\n",
      "Executing op __inference_test_function_2783 in device /job:localhost/replica:0/task:0/device:CPU:0\n",
      "Executing op __inference_test_function_2783 in device /job:localhost/replica:0/task:0/device:CPU:0\n",
      "Executing op __inference_test_function_2783 in device /job:localhost/replica:0/task:0/device:CPU:0\n",
      "Executing op __inference_test_function_2783 in device /job:localhost/replica:0/task:0/device:CPU:0\n",
      "106/313 [=========>....................] - ETA: 1s - loss: 0.5098Executing op __inference_test_function_2783 in device /job:localhost/replica:0/task:0/device:CPU:0\n",
      "Executing op __inference_test_function_2783 in device /job:localhost/replica:0/task:0/device:CPU:0\n",
      "Executing op __inference_test_function_2783 in device /job:localhost/replica:0/task:0/device:CPU:0\n",
      "Executing op __inference_test_function_2783 in device /job:localhost/replica:0/task:0/device:CPU:0\n",
      "Executing op __inference_test_function_2783 in device /job:localhost/replica:0/task:0/device:CPU:0\n",
      "Executing op __inference_test_function_2783 in device /job:localhost/replica:0/task:0/device:CPU:0\n",
      "Executing op __inference_test_function_2783 in device /job:localhost/replica:0/task:0/device:CPU:0\n",
      "Executing op __inference_test_function_2783 in device /job:localhost/replica:0/task:0/device:CPU:0\n",
      "Executing op __inference_test_function_2783 in device /job:localhost/replica:0/task:0/device:CPU:0\n"
     ]
    },
    {
     "name": "stdout",
     "output_type": "stream",
     "text": [
      "Executing op __inference_test_function_2783 in device /job:localhost/replica:0/task:0/device:CPU:0\n",
      "116/313 [==========>...................] - ETA: 1s - loss: 0.5082Executing op __inference_test_function_2783 in device /job:localhost/replica:0/task:0/device:CPU:0\n",
      "Executing op __inference_test_function_2783 in device /job:localhost/replica:0/task:0/device:CPU:0\n",
      "Executing op __inference_test_function_2783 in device /job:localhost/replica:0/task:0/device:CPU:0\n",
      "Executing op __inference_test_function_2783 in device /job:localhost/replica:0/task:0/device:CPU:0\n",
      "Executing op __inference_test_function_2783 in device /job:localhost/replica:0/task:0/device:CPU:0\n",
      "Executing op __inference_test_function_2783 in device /job:localhost/replica:0/task:0/device:CPU:0\n",
      "Executing op __inference_test_function_2783 in device /job:localhost/replica:0/task:0/device:CPU:0\n",
      "Executing op __inference_test_function_2783 in device /job:localhost/replica:0/task:0/device:CPU:0\n",
      "Executing op __inference_test_function_2783 in device /job:localhost/replica:0/task:0/device:CPU:0\n",
      "Executing op __inference_test_function_2783 in device /job:localhost/replica:0/task:0/device:CPU:0\n",
      "126/313 [===========>..................] - ETA: 1s - loss: 0.5215Executing op __inference_test_function_2783 in device /job:localhost/replica:0/task:0/device:CPU:0\n",
      "Executing op __inference_test_function_2783 in device /job:localhost/replica:0/task:0/device:CPU:0\n",
      "Executing op __inference_test_function_2783 in device /job:localhost/replica:0/task:0/device:CPU:0\n",
      "Executing op __inference_test_function_2783 in device /job:localhost/replica:0/task:0/device:CPU:0\n",
      "Executing op __inference_test_function_2783 in device /job:localhost/replica:0/task:0/device:CPU:0\n",
      "Executing op __inference_test_function_2783 in device /job:localhost/replica:0/task:0/device:CPU:0\n",
      "Executing op __inference_test_function_2783 in device /job:localhost/replica:0/task:0/device:CPU:0\n",
      "Executing op __inference_test_function_2783 in device /job:localhost/replica:0/task:0/device:CPU:0\n",
      "Executing op __inference_test_function_2783 in device /job:localhost/replica:0/task:0/device:CPU:0\n",
      "Executing op __inference_test_function_2783 in device /job:localhost/replica:0/task:0/device:CPU:0\n",
      "Executing op __inference_test_function_2783 in device /job:localhost/replica:0/task:0/device:CPU:0\n",
      "Executing op __inference_test_function_2783 in device /job:localhost/replica:0/task:0/device:CPU:0\n",
      "138/313 [============>.................] - ETA: 0s - loss: 0.5234Executing op __inference_test_function_2783 in device /job:localhost/replica:0/task:0/device:CPU:0\n",
      "Executing op __inference_test_function_2783 in device /job:localhost/replica:0/task:0/device:CPU:0\n",
      "Executing op __inference_test_function_2783 in device /job:localhost/replica:0/task:0/device:CPU:0\n",
      "Executing op __inference_test_function_2783 in device /job:localhost/replica:0/task:0/device:CPU:0\n",
      "Executing op __inference_test_function_2783 in device /job:localhost/replica:0/task:0/device:CPU:0\n",
      "Executing op __inference_test_function_2783 in device /job:localhost/replica:0/task:0/device:CPU:0\n",
      "Executing op __inference_test_function_2783 in device /job:localhost/replica:0/task:0/device:CPU:0\n",
      "Executing op __inference_test_function_2783 in device /job:localhost/replica:0/task:0/device:CPU:0\n",
      "Executing op __inference_test_function_2783 in device /job:localhost/replica:0/task:0/device:CPU:0\n",
      "Executing op __inference_test_function_2783 in device /job:localhost/replica:0/task:0/device:CPU:0\n",
      "148/313 [=============>................] - ETA: 0s - loss: 0.5195Executing op __inference_test_function_2783 in device /job:localhost/replica:0/task:0/device:CPU:0\n",
      "Executing op __inference_test_function_2783 in device /job:localhost/replica:0/task:0/device:CPU:0\n",
      "Executing op __inference_test_function_2783 in device /job:localhost/replica:0/task:0/device:CPU:0\n",
      "Executing op __inference_test_function_2783 in device /job:localhost/replica:0/task:0/device:CPU:0\n",
      "Executing op __inference_test_function_2783 in device /job:localhost/replica:0/task:0/device:CPU:0\n",
      "Executing op __inference_test_function_2783 in device /job:localhost/replica:0/task:0/device:CPU:0\n",
      "Executing op __inference_test_function_2783 in device /job:localhost/replica:0/task:0/device:CPU:0\n",
      "Executing op __inference_test_function_2783 in device /job:localhost/replica:0/task:0/device:CPU:0\n",
      "Executing op __inference_test_function_2783 in device /job:localhost/replica:0/task:0/device:CPU:0\n",
      "Executing op __inference_test_function_2783 in device /job:localhost/replica:0/task:0/device:CPU:0\n",
      "Executing op __inference_test_function_2783 in device /job:localhost/replica:0/task:0/device:CPU:0\n",
      "Executing op __inference_test_function_2783 in device /job:localhost/replica:0/task:0/device:CPU:0\n",
      "160/313 [==============>...............] - ETA: 0s - loss: 0.5156Executing op __inference_test_function_2783 in device /job:localhost/replica:0/task:0/device:CPU:0\n",
      "Executing op __inference_test_function_2783 in device /job:localhost/replica:0/task:0/device:CPU:0\n",
      "Executing op __inference_test_function_2783 in device /job:localhost/replica:0/task:0/device:CPU:0\n",
      "Executing op __inference_test_function_2783 in device /job:localhost/replica:0/task:0/device:CPU:0\n",
      "Executing op __inference_test_function_2783 in device /job:localhost/replica:0/task:0/device:CPU:0\n",
      "Executing op __inference_test_function_2783 in device /job:localhost/replica:0/task:0/device:CPU:0\n",
      "Executing op __inference_test_function_2783 in device /job:localhost/replica:0/task:0/device:CPU:0\n",
      "Executing op __inference_test_function_2783 in device /job:localhost/replica:0/task:0/device:CPU:0\n",
      "Executing op __inference_test_function_2783 in device /job:localhost/replica:0/task:0/device:CPU:0\n",
      "Executing op __inference_test_function_2783 in device /job:localhost/replica:0/task:0/device:CPU:0\n",
      "Executing op __inference_test_function_2783 in device /job:localhost/replica:0/task:0/device:CPU:0\n",
      "Executing op __inference_test_function_2783 in device /job:localhost/replica:0/task:0/device:CPU:0\n",
      "172/313 [===============>..............] - ETA: 0s - loss: 0.4955Executing op __inference_test_function_2783 in device /job:localhost/replica:0/task:0/device:CPU:0\n",
      "Executing op __inference_test_function_2783 in device /job:localhost/replica:0/task:0/device:CPU:0\n",
      "Executing op __inference_test_function_2783 in device /job:localhost/replica:0/task:0/device:CPU:0\n",
      "Executing op __inference_test_function_2783 in device /job:localhost/replica:0/task:0/device:CPU:0\n",
      "Executing op __inference_test_function_2783 in device /job:localhost/replica:0/task:0/device:CPU:0\n",
      "Executing op __inference_test_function_2783 in device /job:localhost/replica:0/task:0/device:CPU:0\n",
      "Executing op __inference_test_function_2783 in device /job:localhost/replica:0/task:0/device:CPU:0\n",
      "Executing op __inference_test_function_2783 in device /job:localhost/replica:0/task:0/device:CPU:0\n",
      "Executing op __inference_test_function_2783 in device /job:localhost/replica:0/task:0/device:CPU:0\n",
      "Executing op __inference_test_function_2783 in device /job:localhost/replica:0/task:0/device:CPU:0\n",
      "182/313 [================>.............] - ETA: 0s - loss: 0.4865Executing op __inference_test_function_2783 in device /job:localhost/replica:0/task:0/device:CPU:0\n",
      "Executing op __inference_test_function_2783 in device /job:localhost/replica:0/task:0/device:CPU:0\n",
      "Executing op __inference_test_function_2783 in device /job:localhost/replica:0/task:0/device:CPU:0\n",
      "Executing op __inference_test_function_2783 in device /job:localhost/replica:0/task:0/device:CPU:0\n",
      "Executing op __inference_test_function_2783 in device /job:localhost/replica:0/task:0/device:CPU:0\n",
      "Executing op __inference_test_function_2783 in device /job:localhost/replica:0/task:0/device:CPU:0\n",
      "Executing op __inference_test_function_2783 in device /job:localhost/replica:0/task:0/device:CPU:0\n",
      "Executing op __inference_test_function_2783 in device /job:localhost/replica:0/task:0/device:CPU:0\n",
      "Executing op __inference_test_function_2783 in device /job:localhost/replica:0/task:0/device:CPU:0\n",
      "Executing op __inference_test_function_2783 in device /job:localhost/replica:0/task:0/device:CPU:0\n",
      "192/313 [=================>............] - ETA: 0s - loss: 0.4889Executing op __inference_test_function_2783 in device /job:localhost/replica:0/task:0/device:CPU:0\n"
     ]
    },
    {
     "name": "stdout",
     "output_type": "stream",
     "text": [
      "Executing op __inference_test_function_2783 in device /job:localhost/replica:0/task:0/device:CPU:0\n",
      "Executing op __inference_test_function_2783 in device /job:localhost/replica:0/task:0/device:CPU:0\n",
      "Executing op __inference_test_function_2783 in device /job:localhost/replica:0/task:0/device:CPU:0\n",
      "Executing op __inference_test_function_2783 in device /job:localhost/replica:0/task:0/device:CPU:0\n",
      "Executing op __inference_test_function_2783 in device /job:localhost/replica:0/task:0/device:CPU:0\n",
      "Executing op __inference_test_function_2783 in device /job:localhost/replica:0/task:0/device:CPU:0\n",
      "Executing op __inference_test_function_2783 in device /job:localhost/replica:0/task:0/device:CPU:0\n",
      "Executing op __inference_test_function_2783 in device /job:localhost/replica:0/task:0/device:CPU:0\n",
      "Executing op __inference_test_function_2783 in device /job:localhost/replica:0/task:0/device:CPU:0\n",
      "202/313 [==================>...........] - ETA: 0s - loss: 0.4813Executing op __inference_test_function_2783 in device /job:localhost/replica:0/task:0/device:CPU:0\n",
      "Executing op __inference_test_function_2783 in device /job:localhost/replica:0/task:0/device:CPU:0\n",
      "Executing op __inference_test_function_2783 in device /job:localhost/replica:0/task:0/device:CPU:0\n",
      "Executing op __inference_test_function_2783 in device /job:localhost/replica:0/task:0/device:CPU:0\n",
      "Executing op __inference_test_function_2783 in device /job:localhost/replica:0/task:0/device:CPU:0\n",
      "Executing op __inference_test_function_2783 in device /job:localhost/replica:0/task:0/device:CPU:0\n",
      "Executing op __inference_test_function_2783 in device /job:localhost/replica:0/task:0/device:CPU:0\n",
      "Executing op __inference_test_function_2783 in device /job:localhost/replica:0/task:0/device:CPU:0\n",
      "210/313 [===================>..........] - ETA: 0s - loss: 0.4797Executing op __inference_test_function_2783 in device /job:localhost/replica:0/task:0/device:CPU:0\n",
      "Executing op __inference_test_function_2783 in device /job:localhost/replica:0/task:0/device:CPU:0\n",
      "Executing op __inference_test_function_2783 in device /job:localhost/replica:0/task:0/device:CPU:0\n",
      "Executing op __inference_test_function_2783 in device /job:localhost/replica:0/task:0/device:CPU:0\n",
      "Executing op __inference_test_function_2783 in device /job:localhost/replica:0/task:0/device:CPU:0\n",
      "Executing op __inference_test_function_2783 in device /job:localhost/replica:0/task:0/device:CPU:0\n",
      "Executing op __inference_test_function_2783 in device /job:localhost/replica:0/task:0/device:CPU:0\n",
      "Executing op __inference_test_function_2783 in device /job:localhost/replica:0/task:0/device:CPU:0\n",
      "Executing op __inference_test_function_2783 in device /job:localhost/replica:0/task:0/device:CPU:0\n",
      "Executing op __inference_test_function_2783 in device /job:localhost/replica:0/task:0/device:CPU:0\n",
      "220/313 [====================>.........] - ETA: 0s - loss: 0.4726Executing op __inference_test_function_2783 in device /job:localhost/replica:0/task:0/device:CPU:0\n",
      "Executing op __inference_test_function_2783 in device /job:localhost/replica:0/task:0/device:CPU:0\n",
      "Executing op __inference_test_function_2783 in device /job:localhost/replica:0/task:0/device:CPU:0\n",
      "Executing op __inference_test_function_2783 in device /job:localhost/replica:0/task:0/device:CPU:0\n",
      "Executing op __inference_test_function_2783 in device /job:localhost/replica:0/task:0/device:CPU:0\n",
      "Executing op __inference_test_function_2783 in device /job:localhost/replica:0/task:0/device:CPU:0\n",
      "Executing op __inference_test_function_2783 in device /job:localhost/replica:0/task:0/device:CPU:0\n",
      "Executing op __inference_test_function_2783 in device /job:localhost/replica:0/task:0/device:CPU:0\n",
      "Executing op __inference_test_function_2783 in device /job:localhost/replica:0/task:0/device:CPU:0\n",
      "Executing op __inference_test_function_2783 in device /job:localhost/replica:0/task:0/device:CPU:0\n",
      "230/313 [=====================>........] - ETA: 0s - loss: 0.4617Executing op __inference_test_function_2783 in device /job:localhost/replica:0/task:0/device:CPU:0\n",
      "Executing op __inference_test_function_2783 in device /job:localhost/replica:0/task:0/device:CPU:0\n",
      "Executing op __inference_test_function_2783 in device /job:localhost/replica:0/task:0/device:CPU:0\n",
      "Executing op __inference_test_function_2783 in device /job:localhost/replica:0/task:0/device:CPU:0\n",
      "Executing op __inference_test_function_2783 in device /job:localhost/replica:0/task:0/device:CPU:0\n",
      "Executing op __inference_test_function_2783 in device /job:localhost/replica:0/task:0/device:CPU:0\n",
      "Executing op __inference_test_function_2783 in device /job:localhost/replica:0/task:0/device:CPU:0\n",
      "237/313 [=====================>........] - ETA: 0s - loss: 0.4586Executing op __inference_test_function_2783 in device /job:localhost/replica:0/task:0/device:CPU:0\n",
      "Executing op __inference_test_function_2783 in device /job:localhost/replica:0/task:0/device:CPU:0\n",
      "Executing op __inference_test_function_2783 in device /job:localhost/replica:0/task:0/device:CPU:0\n",
      "Executing op __inference_test_function_2783 in device /job:localhost/replica:0/task:0/device:CPU:0\n",
      "Executing op __inference_test_function_2783 in device /job:localhost/replica:0/task:0/device:CPU:0\n",
      "Executing op __inference_test_function_2783 in device /job:localhost/replica:0/task:0/device:CPU:0\n",
      "Executing op __inference_test_function_2783 in device /job:localhost/replica:0/task:0/device:CPU:0\n",
      "244/313 [======================>.......] - ETA: 0s - loss: 0.4526Executing op __inference_test_function_2783 in device /job:localhost/replica:0/task:0/device:CPU:0\n",
      "Executing op __inference_test_function_2783 in device /job:localhost/replica:0/task:0/device:CPU:0\n",
      "Executing op __inference_test_function_2783 in device /job:localhost/replica:0/task:0/device:CPU:0\n",
      "Executing op __inference_test_function_2783 in device /job:localhost/replica:0/task:0/device:CPU:0\n",
      "Executing op __inference_test_function_2783 in device /job:localhost/replica:0/task:0/device:CPU:0\n",
      "Executing op __inference_test_function_2783 in device /job:localhost/replica:0/task:0/device:CPU:0\n",
      "250/313 [======================>.......] - ETA: 0s - loss: 0.4542Executing op __inference_test_function_2783 in device /job:localhost/replica:0/task:0/device:CPU:0\n",
      "Executing op __inference_test_function_2783 in device /job:localhost/replica:0/task:0/device:CPU:0\n",
      "Executing op __inference_test_function_2783 in device /job:localhost/replica:0/task:0/device:CPU:0\n",
      "Executing op __inference_test_function_2783 in device /job:localhost/replica:0/task:0/device:CPU:0\n",
      "Executing op __inference_test_function_2783 in device /job:localhost/replica:0/task:0/device:CPU:0\n",
      "Executing op __inference_test_function_2783 in device /job:localhost/replica:0/task:0/device:CPU:0\n",
      "Executing op __inference_test_function_2783 in device /job:localhost/replica:0/task:0/device:CPU:0\n",
      "Executing op __inference_test_function_2783 in device /job:localhost/replica:0/task:0/device:CPU:0\n",
      "Executing op __inference_test_function_2783 in device /job:localhost/replica:0/task:0/device:CPU:0\n",
      "259/313 [=======================>......] - ETA: 0s - loss: 0.4479Executing op __inference_test_function_2783 in device /job:localhost/replica:0/task:0/device:CPU:0\n",
      "Executing op __inference_test_function_2783 in device /job:localhost/replica:0/task:0/device:CPU:0\n",
      "Executing op __inference_test_function_2783 in device /job:localhost/replica:0/task:0/device:CPU:0\n",
      "Executing op __inference_test_function_2783 in device /job:localhost/replica:0/task:0/device:CPU:0\n",
      "Executing op __inference_test_function_2783 in device /job:localhost/replica:0/task:0/device:CPU:0\n",
      "Executing op __inference_test_function_2783 in device /job:localhost/replica:0/task:0/device:CPU:0\n",
      "Executing op __inference_test_function_2783 in device /job:localhost/replica:0/task:0/device:CPU:0\n",
      "Executing op __inference_test_function_2783 in device /job:localhost/replica:0/task:0/device:CPU:0\n",
      "Executing op __inference_test_function_2783 in device /job:localhost/replica:0/task:0/device:CPU:0\n",
      "Executing op __inference_test_function_2783 in device /job:localhost/replica:0/task:0/device:CPU:0\n",
      "Executing op __inference_test_function_2783 in device /job:localhost/replica:0/task:0/device:CPU:0\n"
     ]
    },
    {
     "name": "stdout",
     "output_type": "stream",
     "text": [
      "270/313 [========================>.....] - ETA: 0s - loss: 0.4415Executing op __inference_test_function_2783 in device /job:localhost/replica:0/task:0/device:CPU:0\n",
      "Executing op __inference_test_function_2783 in device /job:localhost/replica:0/task:0/device:CPU:0\n",
      "Executing op __inference_test_function_2783 in device /job:localhost/replica:0/task:0/device:CPU:0\n",
      "Executing op __inference_test_function_2783 in device /job:localhost/replica:0/task:0/device:CPU:0\n",
      "Executing op __inference_test_function_2783 in device /job:localhost/replica:0/task:0/device:CPU:0\n",
      "Executing op __inference_test_function_2783 in device /job:localhost/replica:0/task:0/device:CPU:0\n",
      "Executing op __inference_test_function_2783 in device /job:localhost/replica:0/task:0/device:CPU:0\n",
      "Executing op __inference_test_function_2783 in device /job:localhost/replica:0/task:0/device:CPU:0\n",
      "Executing op __inference_test_function_2783 in device /job:localhost/replica:0/task:0/device:CPU:0\n",
      "Executing op __inference_test_function_2783 in device /job:localhost/replica:0/task:0/device:CPU:0\n",
      "Executing op __inference_test_function_2783 in device /job:localhost/replica:0/task:0/device:CPU:0\n",
      "Executing op __inference_test_function_2783 in device /job:localhost/replica:0/task:0/device:CPU:0\n",
      "Executing op __inference_test_function_2783 in device /job:localhost/replica:0/task:0/device:CPU:0\n",
      "Executing op __inference_test_function_2783 in device /job:localhost/replica:0/task:0/device:CPU:0\n",
      "Executing op __inference_test_function_2783 in device /job:localhost/replica:0/task:0/device:CPU:0\n",
      "285/313 [==========================>...] - ETA: 0s - loss: 0.4303Executing op __inference_test_function_2783 in device /job:localhost/replica:0/task:0/device:CPU:0\n",
      "Executing op __inference_test_function_2783 in device /job:localhost/replica:0/task:0/device:CPU:0\n",
      "Executing op __inference_test_function_2783 in device /job:localhost/replica:0/task:0/device:CPU:0\n",
      "Executing op __inference_test_function_2783 in device /job:localhost/replica:0/task:0/device:CPU:0\n",
      "Executing op __inference_test_function_2783 in device /job:localhost/replica:0/task:0/device:CPU:0\n",
      "Executing op __inference_test_function_2783 in device /job:localhost/replica:0/task:0/device:CPU:0\n",
      "Executing op __inference_test_function_2783 in device /job:localhost/replica:0/task:0/device:CPU:0\n",
      "Executing op __inference_test_function_2783 in device /job:localhost/replica:0/task:0/device:CPU:0\n",
      "Executing op __inference_test_function_2783 in device /job:localhost/replica:0/task:0/device:CPU:0\n",
      "Executing op __inference_test_function_2783 in device /job:localhost/replica:0/task:0/device:CPU:0\n",
      "Executing op __inference_test_function_2783 in device /job:localhost/replica:0/task:0/device:CPU:0\n",
      "Executing op __inference_test_function_2783 in device /job:localhost/replica:0/task:0/device:CPU:0\n",
      "297/313 [===========================>..] - ETA: 0s - loss: 0.4235Executing op __inference_test_function_2783 in device /job:localhost/replica:0/task:0/device:CPU:0\n",
      "Executing op __inference_test_function_2783 in device /job:localhost/replica:0/task:0/device:CPU:0\n",
      "Executing op __inference_test_function_2783 in device /job:localhost/replica:0/task:0/device:CPU:0\n",
      "Executing op __inference_test_function_2783 in device /job:localhost/replica:0/task:0/device:CPU:0\n",
      "Executing op __inference_test_function_2783 in device /job:localhost/replica:0/task:0/device:CPU:0\n",
      "Executing op __inference_test_function_2783 in device /job:localhost/replica:0/task:0/device:CPU:0\n",
      "Executing op __inference_test_function_2783 in device /job:localhost/replica:0/task:0/device:CPU:0\n",
      "Executing op __inference_test_function_2783 in device /job:localhost/replica:0/task:0/device:CPU:0\n",
      "Executing op __inference_test_function_2783 in device /job:localhost/replica:0/task:0/device:CPU:0\n",
      "Executing op __inference_test_function_2783 in device /job:localhost/replica:0/task:0/device:CPU:0\n",
      "Executing op __inference_test_function_2783 in device /job:localhost/replica:0/task:0/device:CPU:0\n",
      "308/313 [============================>.] - ETA: 0s - loss: 0.4255Executing op __inference_test_function_2783 in device /job:localhost/replica:0/task:0/device:CPU:0\n",
      "Executing op __inference_test_function_2783 in device /job:localhost/replica:0/task:0/device:CPU:0\n",
      "Executing op __inference_test_function_2783 in device /job:localhost/replica:0/task:0/device:CPU:0\n",
      "Executing op __inference_test_function_2783 in device /job:localhost/replica:0/task:0/device:CPU:0\n",
      "Executing op __inference_test_function_2783 in device /job:localhost/replica:0/task:0/device:CPU:0\n",
      "313/313 [==============================] - 2s 5ms/step - loss: 0.4286\n",
      "Executing op DeleteIterator in device /job:localhost/replica:0/task:0/device:CPU:0\n"
     ]
    },
    {
     "data": {
      "text/plain": [
       "0.4285552203655243"
      ]
     },
     "execution_count": 41,
     "metadata": {},
     "output_type": "execute_result"
    }
   ],
   "source": [
    "#복잡한 모델을 다양한 옵션으로 만듦.\n",
    "model.fit(X_train.reshape(-1,28*28), y_train,epochs=1)\n",
    "model.evaluate(X_test.reshape(-1,784), y_test ) #sklearn 의 score"
   ]
  },
  {
   "cell_type": "code",
   "execution_count": 42,
   "metadata": {
    "colab": {
     "base_uri": "https://localhost:8080/",
     "height": 1000
    },
    "colab_type": "code",
    "id": "MFsTCSuRsIW-",
    "outputId": "8e318abb-787c-4dbd-b275-3daf03daebe7"
   },
   "outputs": [
    {
     "name": "stdout",
     "output_type": "stream",
     "text": [
      "Executing op ReadVariableOp in device /job:localhost/replica:0/task:0/device:CPU:0\n",
      "Executing op Identity in device /job:localhost/replica:0/task:0/device:CPU:0\n",
      "Executing op RangeDataset in device /job:localhost/replica:0/task:0/device:CPU:0\n",
      "Executing op RepeatDataset in device /job:localhost/replica:0/task:0/device:CPU:0\n",
      "Executing op MapDataset in device /job:localhost/replica:0/task:0/device:CPU:0\n",
      "Executing op PrefetchDataset in device /job:localhost/replica:0/task:0/device:CPU:0\n",
      "Executing op FlatMapDataset in device /job:localhost/replica:0/task:0/device:CPU:0\n",
      "Executing op TensorDataset in device /job:localhost/replica:0/task:0/device:CPU:0\n",
      "Executing op RepeatDataset in device /job:localhost/replica:0/task:0/device:CPU:0\n",
      "Executing op ZipDataset in device /job:localhost/replica:0/task:0/device:CPU:0\n",
      "Executing op ParallelMapDatasetV2 in device /job:localhost/replica:0/task:0/device:CPU:0\n",
      "Executing op AssignVariableOp in device /job:localhost/replica:0/task:0/device:CPU:0\n",
      "Executing op ModelDataset in device /job:localhost/replica:0/task:0/device:CPU:0\n",
      "Executing op AnonymousIteratorV2 in device /job:localhost/replica:0/task:0/device:CPU:0\n",
      "Executing op MakeIterator in device /job:localhost/replica:0/task:0/device:CPU:0\n",
      "Executing op AssignVariableOp in device /job:localhost/replica:0/task:0/device:CPU:0\n",
      "Executing op AssignVariableOp in device /job:localhost/replica:0/task:0/device:CPU:0\n",
      "Executing op __inference_test_function_2783 in device /job:localhost/replica:0/task:0/device:CPU:0\n",
      "  1/313 [..............................] - ETA: 0s - loss: 0.4497Executing op __inference_test_function_2783 in device /job:localhost/replica:0/task:0/device:CPU:0\n",
      "Executing op __inference_test_function_2783 in device /job:localhost/replica:0/task:0/device:CPU:0\n",
      "Executing op __inference_test_function_2783 in device /job:localhost/replica:0/task:0/device:CPU:0\n",
      "Executing op __inference_test_function_2783 in device /job:localhost/replica:0/task:0/device:CPU:0\n",
      "Executing op __inference_test_function_2783 in device /job:localhost/replica:0/task:0/device:CPU:0\n",
      "Executing op __inference_test_function_2783 in device /job:localhost/replica:0/task:0/device:CPU:0\n",
      "Executing op __inference_test_function_2783 in device /job:localhost/replica:0/task:0/device:CPU:0\n",
      "Executing op __inference_test_function_2783 in device /job:localhost/replica:0/task:0/device:CPU:0\n",
      "Executing op __inference_test_function_2783 in device /job:localhost/replica:0/task:0/device:CPU:0\n",
      "Executing op __inference_test_function_2783 in device /job:localhost/replica:0/task:0/device:CPU:0\n",
      "Executing op __inference_test_function_2783 in device /job:localhost/replica:0/task:0/device:CPU:0\n",
      " 12/313 [>.............................] - ETA: 1s - loss: 0.4396Executing op __inference_test_function_2783 in device /job:localhost/replica:0/task:0/device:CPU:0\n",
      "Executing op __inference_test_function_2783 in device /job:localhost/replica:0/task:0/device:CPU:0\n",
      "Executing op __inference_test_function_2783 in device /job:localhost/replica:0/task:0/device:CPU:0\n",
      "Executing op __inference_test_function_2783 in device /job:localhost/replica:0/task:0/device:CPU:0\n",
      "Executing op __inference_test_function_2783 in device /job:localhost/replica:0/task:0/device:CPU:0\n",
      "Executing op __inference_test_function_2783 in device /job:localhost/replica:0/task:0/device:CPU:0\n",
      "Executing op __inference_test_function_2783 in device /job:localhost/replica:0/task:0/device:CPU:0\n",
      "Executing op __inference_test_function_2783 in device /job:localhost/replica:0/task:0/device:CPU:0\n",
      "Executing op __inference_test_function_2783 in device /job:localhost/replica:0/task:0/device:CPU:0\n",
      "Executing op __inference_test_function_2783 in device /job:localhost/replica:0/task:0/device:CPU:0\n",
      " 22/313 [=>............................] - ETA: 1s - loss: 0.4757Executing op __inference_test_function_2783 in device /job:localhost/replica:0/task:0/device:CPU:0\n",
      "Executing op __inference_test_function_2783 in device /job:localhost/replica:0/task:0/device:CPU:0\n",
      "Executing op __inference_test_function_2783 in device /job:localhost/replica:0/task:0/device:CPU:0\n",
      "Executing op __inference_test_function_2783 in device /job:localhost/replica:0/task:0/device:CPU:0\n",
      "Executing op __inference_test_function_2783 in device /job:localhost/replica:0/task:0/device:CPU:0\n",
      "Executing op __inference_test_function_2783 in device /job:localhost/replica:0/task:0/device:CPU:0\n",
      "Executing op __inference_test_function_2783 in device /job:localhost/replica:0/task:0/device:CPU:0\n",
      "Executing op __inference_test_function_2783 in device /job:localhost/replica:0/task:0/device:CPU:0\n",
      " 30/313 [=>............................] - ETA: 1s - loss: 0.4534Executing op __inference_test_function_2783 in device /job:localhost/replica:0/task:0/device:CPU:0\n",
      "Executing op __inference_test_function_2783 in device /job:localhost/replica:0/task:0/device:CPU:0\n",
      "Executing op __inference_test_function_2783 in device /job:localhost/replica:0/task:0/device:CPU:0\n",
      "Executing op __inference_test_function_2783 in device /job:localhost/replica:0/task:0/device:CPU:0\n",
      "Executing op __inference_test_function_2783 in device /job:localhost/replica:0/task:0/device:CPU:0\n",
      "Executing op __inference_test_function_2783 in device /job:localhost/replica:0/task:0/device:CPU:0\n",
      "Executing op __inference_test_function_2783 in device /job:localhost/replica:0/task:0/device:CPU:0\n",
      "Executing op __inference_test_function_2783 in device /job:localhost/replica:0/task:0/device:CPU:0\n",
      " 38/313 [==>...........................] - ETA: 1s - loss: 0.4651Executing op __inference_test_function_2783 in device /job:localhost/replica:0/task:0/device:CPU:0\n",
      "Executing op __inference_test_function_2783 in device /job:localhost/replica:0/task:0/device:CPU:0\n",
      "Executing op __inference_test_function_2783 in device /job:localhost/replica:0/task:0/device:CPU:0\n",
      "Executing op __inference_test_function_2783 in device /job:localhost/replica:0/task:0/device:CPU:0\n",
      "Executing op __inference_test_function_2783 in device /job:localhost/replica:0/task:0/device:CPU:0\n",
      "Executing op __inference_test_function_2783 in device /job:localhost/replica:0/task:0/device:CPU:0\n",
      "Executing op __inference_test_function_2783 in device /job:localhost/replica:0/task:0/device:CPU:0\n",
      "Executing op __inference_test_function_2783 in device /job:localhost/replica:0/task:0/device:CPU:0\n",
      "Executing op __inference_test_function_2783 in device /job:localhost/replica:0/task:0/device:CPU:0\n",
      "Executing op __inference_test_function_2783 in device /job:localhost/replica:0/task:0/device:CPU:0\n",
      " 48/313 [===>..........................] - ETA: 1s - loss: 0.4978Executing op __inference_test_function_2783 in device /job:localhost/replica:0/task:0/device:CPU:0\n",
      "Executing op __inference_test_function_2783 in device /job:localhost/replica:0/task:0/device:CPU:0\n",
      "Executing op __inference_test_function_2783 in device /job:localhost/replica:0/task:0/device:CPU:0\n",
      "Executing op __inference_test_function_2783 in device /job:localhost/replica:0/task:0/device:CPU:0\n",
      "Executing op __inference_test_function_2783 in device /job:localhost/replica:0/task:0/device:CPU:0\n",
      "Executing op __inference_test_function_2783 in device /job:localhost/replica:0/task:0/device:CPU:0\n",
      "Executing op __inference_test_function_2783 in device /job:localhost/replica:0/task:0/device:CPU:0\n",
      "Executing op __inference_test_function_2783 in device /job:localhost/replica:0/task:0/device:CPU:0\n",
      "Executing op __inference_test_function_2783 in device /job:localhost/replica:0/task:0/device:CPU:0\n",
      "Executing op __inference_test_function_2783 in device /job:localhost/replica:0/task:0/device:CPU:0\n",
      "Executing op __inference_test_function_2783 in device /job:localhost/replica:0/task:0/device:CPU:0\n",
      " 59/313 [====>.........................] - ETA: 1s - loss: 0.5135Executing op __inference_test_function_2783 in device /job:localhost/replica:0/task:0/device:CPU:0\n",
      "Executing op __inference_test_function_2783 in device /job:localhost/replica:0/task:0/device:CPU:0\n",
      "Executing op __inference_test_function_2783 in device /job:localhost/replica:0/task:0/device:CPU:0\n",
      "Executing op __inference_test_function_2783 in device /job:localhost/replica:0/task:0/device:CPU:0\n",
      "Executing op __inference_test_function_2783 in device /job:localhost/replica:0/task:0/device:CPU:0\n"
     ]
    },
    {
     "name": "stdout",
     "output_type": "stream",
     "text": [
      "Executing op __inference_test_function_2783 in device /job:localhost/replica:0/task:0/device:CPU:0\n",
      "Executing op __inference_test_function_2783 in device /job:localhost/replica:0/task:0/device:CPU:0\n",
      "Executing op __inference_test_function_2783 in device /job:localhost/replica:0/task:0/device:CPU:0\n",
      "Executing op __inference_test_function_2783 in device /job:localhost/replica:0/task:0/device:CPU:0\n",
      "Executing op __inference_test_function_2783 in device /job:localhost/replica:0/task:0/device:CPU:0\n",
      " 69/313 [=====>........................] - ETA: 1s - loss: 0.5263Executing op __inference_test_function_2783 in device /job:localhost/replica:0/task:0/device:CPU:0\n",
      "Executing op __inference_test_function_2783 in device /job:localhost/replica:0/task:0/device:CPU:0\n",
      "Executing op __inference_test_function_2783 in device /job:localhost/replica:0/task:0/device:CPU:0\n",
      "Executing op __inference_test_function_2783 in device /job:localhost/replica:0/task:0/device:CPU:0\n",
      "Executing op __inference_test_function_2783 in device /job:localhost/replica:0/task:0/device:CPU:0\n",
      "Executing op __inference_test_function_2783 in device /job:localhost/replica:0/task:0/device:CPU:0\n",
      "Executing op __inference_test_function_2783 in device /job:localhost/replica:0/task:0/device:CPU:0\n",
      "Executing op __inference_test_function_2783 in device /job:localhost/replica:0/task:0/device:CPU:0\n",
      "Executing op __inference_test_function_2783 in device /job:localhost/replica:0/task:0/device:CPU:0\n",
      "Executing op __inference_test_function_2783 in device /job:localhost/replica:0/task:0/device:CPU:0\n",
      " 79/313 [======>.......................] - ETA: 1s - loss: 0.5264Executing op __inference_test_function_2783 in device /job:localhost/replica:0/task:0/device:CPU:0\n",
      "Executing op __inference_test_function_2783 in device /job:localhost/replica:0/task:0/device:CPU:0\n",
      "Executing op __inference_test_function_2783 in device /job:localhost/replica:0/task:0/device:CPU:0\n",
      "Executing op __inference_test_function_2783 in device /job:localhost/replica:0/task:0/device:CPU:0\n",
      "Executing op __inference_test_function_2783 in device /job:localhost/replica:0/task:0/device:CPU:0\n",
      "Executing op __inference_test_function_2783 in device /job:localhost/replica:0/task:0/device:CPU:0\n",
      "Executing op __inference_test_function_2783 in device /job:localhost/replica:0/task:0/device:CPU:0\n",
      "Executing op __inference_test_function_2783 in device /job:localhost/replica:0/task:0/device:CPU:0\n",
      "Executing op __inference_test_function_2783 in device /job:localhost/replica:0/task:0/device:CPU:0\n",
      "Executing op __inference_test_function_2783 in device /job:localhost/replica:0/task:0/device:CPU:0\n",
      "Executing op __inference_test_function_2783 in device /job:localhost/replica:0/task:0/device:CPU:0\n",
      " 90/313 [=======>......................] - ETA: 1s - loss: 0.5212Executing op __inference_test_function_2783 in device /job:localhost/replica:0/task:0/device:CPU:0\n",
      "Executing op __inference_test_function_2783 in device /job:localhost/replica:0/task:0/device:CPU:0\n",
      "Executing op __inference_test_function_2783 in device /job:localhost/replica:0/task:0/device:CPU:0\n",
      "Executing op __inference_test_function_2783 in device /job:localhost/replica:0/task:0/device:CPU:0\n",
      "Executing op __inference_test_function_2783 in device /job:localhost/replica:0/task:0/device:CPU:0\n",
      "Executing op __inference_test_function_2783 in device /job:localhost/replica:0/task:0/device:CPU:0\n",
      "Executing op __inference_test_function_2783 in device /job:localhost/replica:0/task:0/device:CPU:0\n",
      "Executing op __inference_test_function_2783 in device /job:localhost/replica:0/task:0/device:CPU:0\n",
      "Executing op __inference_test_function_2783 in device /job:localhost/replica:0/task:0/device:CPU:0\n",
      "Executing op __inference_test_function_2783 in device /job:localhost/replica:0/task:0/device:CPU:0\n",
      "Executing op __inference_test_function_2783 in device /job:localhost/replica:0/task:0/device:CPU:0\n",
      "101/313 [========>.....................] - ETA: 1s - loss: 0.5138Executing op __inference_test_function_2783 in device /job:localhost/replica:0/task:0/device:CPU:0\n",
      "Executing op __inference_test_function_2783 in device /job:localhost/replica:0/task:0/device:CPU:0\n",
      "Executing op __inference_test_function_2783 in device /job:localhost/replica:0/task:0/device:CPU:0\n",
      "Executing op __inference_test_function_2783 in device /job:localhost/replica:0/task:0/device:CPU:0\n",
      "Executing op __inference_test_function_2783 in device /job:localhost/replica:0/task:0/device:CPU:0\n",
      "Executing op __inference_test_function_2783 in device /job:localhost/replica:0/task:0/device:CPU:0\n",
      "Executing op __inference_test_function_2783 in device /job:localhost/replica:0/task:0/device:CPU:0\n",
      "Executing op __inference_test_function_2783 in device /job:localhost/replica:0/task:0/device:CPU:0\n",
      "Executing op __inference_test_function_2783 in device /job:localhost/replica:0/task:0/device:CPU:0\n",
      "Executing op __inference_test_function_2783 in device /job:localhost/replica:0/task:0/device:CPU:0\n",
      "Executing op __inference_test_function_2783 in device /job:localhost/replica:0/task:0/device:CPU:0\n",
      "Executing op __inference_test_function_2783 in device /job:localhost/replica:0/task:0/device:CPU:0\n",
      "113/313 [=========>....................] - ETA: 1s - loss: 0.5125Executing op __inference_test_function_2783 in device /job:localhost/replica:0/task:0/device:CPU:0\n",
      "Executing op __inference_test_function_2783 in device /job:localhost/replica:0/task:0/device:CPU:0\n",
      "Executing op __inference_test_function_2783 in device /job:localhost/replica:0/task:0/device:CPU:0\n",
      "Executing op __inference_test_function_2783 in device /job:localhost/replica:0/task:0/device:CPU:0\n",
      "Executing op __inference_test_function_2783 in device /job:localhost/replica:0/task:0/device:CPU:0\n",
      "Executing op __inference_test_function_2783 in device /job:localhost/replica:0/task:0/device:CPU:0\n",
      "Executing op __inference_test_function_2783 in device /job:localhost/replica:0/task:0/device:CPU:0\n",
      "Executing op __inference_test_function_2783 in device /job:localhost/replica:0/task:0/device:CPU:0\n",
      "Executing op __inference_test_function_2783 in device /job:localhost/replica:0/task:0/device:CPU:0\n",
      "Executing op __inference_test_function_2783 in device /job:localhost/replica:0/task:0/device:CPU:0\n",
      "Executing op __inference_test_function_2783 in device /job:localhost/replica:0/task:0/device:CPU:0\n",
      "124/313 [==========>...................] - ETA: 0s - loss: 0.5228Executing op __inference_test_function_2783 in device /job:localhost/replica:0/task:0/device:CPU:0\n",
      "Executing op __inference_test_function_2783 in device /job:localhost/replica:0/task:0/device:CPU:0\n",
      "Executing op __inference_test_function_2783 in device /job:localhost/replica:0/task:0/device:CPU:0\n",
      "Executing op __inference_test_function_2783 in device /job:localhost/replica:0/task:0/device:CPU:0\n",
      "Executing op __inference_test_function_2783 in device /job:localhost/replica:0/task:0/device:CPU:0\n",
      "Executing op __inference_test_function_2783 in device /job:localhost/replica:0/task:0/device:CPU:0\n",
      "Executing op __inference_test_function_2783 in device /job:localhost/replica:0/task:0/device:CPU:0\n",
      "Executing op __inference_test_function_2783 in device /job:localhost/replica:0/task:0/device:CPU:0\n",
      "Executing op __inference_test_function_2783 in device /job:localhost/replica:0/task:0/device:CPU:0\n",
      "Executing op __inference_test_function_2783 in device /job:localhost/replica:0/task:0/device:CPU:0\n",
      "134/313 [===========>..................] - ETA: 0s - loss: 0.5230Executing op __inference_test_function_2783 in device /job:localhost/replica:0/task:0/device:CPU:0\n",
      "Executing op __inference_test_function_2783 in device /job:localhost/replica:0/task:0/device:CPU:0\n",
      "Executing op __inference_test_function_2783 in device /job:localhost/replica:0/task:0/device:CPU:0\n",
      "Executing op __inference_test_function_2783 in device /job:localhost/replica:0/task:0/device:CPU:0\n",
      "Executing op __inference_test_function_2783 in device /job:localhost/replica:0/task:0/device:CPU:0\n",
      "Executing op __inference_test_function_2783 in device /job:localhost/replica:0/task:0/device:CPU:0\n",
      "Executing op __inference_test_function_2783 in device /job:localhost/replica:0/task:0/device:CPU:0\n",
      "Executing op __inference_test_function_2783 in device /job:localhost/replica:0/task:0/device:CPU:0\n",
      "Executing op __inference_test_function_2783 in device /job:localhost/replica:0/task:0/device:CPU:0\n"
     ]
    },
    {
     "name": "stdout",
     "output_type": "stream",
     "text": [
      "143/313 [============>.................] - ETA: 0s - loss: 0.5244Executing op __inference_test_function_2783 in device /job:localhost/replica:0/task:0/device:CPU:0\n",
      "Executing op __inference_test_function_2783 in device /job:localhost/replica:0/task:0/device:CPU:0\n",
      "Executing op __inference_test_function_2783 in device /job:localhost/replica:0/task:0/device:CPU:0\n",
      "Executing op __inference_test_function_2783 in device /job:localhost/replica:0/task:0/device:CPU:0\n",
      "Executing op __inference_test_function_2783 in device /job:localhost/replica:0/task:0/device:CPU:0\n",
      "Executing op __inference_test_function_2783 in device /job:localhost/replica:0/task:0/device:CPU:0\n",
      "Executing op __inference_test_function_2783 in device /job:localhost/replica:0/task:0/device:CPU:0\n",
      "Executing op __inference_test_function_2783 in device /job:localhost/replica:0/task:0/device:CPU:0\n",
      "151/313 [=============>................] - ETA: 0s - loss: 0.5186Executing op __inference_test_function_2783 in device /job:localhost/replica:0/task:0/device:CPU:0\n",
      "Executing op __inference_test_function_2783 in device /job:localhost/replica:0/task:0/device:CPU:0\n",
      "Executing op __inference_test_function_2783 in device /job:localhost/replica:0/task:0/device:CPU:0\n",
      "Executing op __inference_test_function_2783 in device /job:localhost/replica:0/task:0/device:CPU:0\n",
      "Executing op __inference_test_function_2783 in device /job:localhost/replica:0/task:0/device:CPU:0\n",
      "Executing op __inference_test_function_2783 in device /job:localhost/replica:0/task:0/device:CPU:0\n",
      "Executing op __inference_test_function_2783 in device /job:localhost/replica:0/task:0/device:CPU:0\n",
      "Executing op __inference_test_function_2783 in device /job:localhost/replica:0/task:0/device:CPU:0\n",
      "Executing op __inference_test_function_2783 in device /job:localhost/replica:0/task:0/device:CPU:0\n",
      "160/313 [==============>...............] - ETA: 0s - loss: 0.5156Executing op __inference_test_function_2783 in device /job:localhost/replica:0/task:0/device:CPU:0\n",
      "Executing op __inference_test_function_2783 in device /job:localhost/replica:0/task:0/device:CPU:0\n",
      "Executing op __inference_test_function_2783 in device /job:localhost/replica:0/task:0/device:CPU:0\n",
      "Executing op __inference_test_function_2783 in device /job:localhost/replica:0/task:0/device:CPU:0\n",
      "Executing op __inference_test_function_2783 in device /job:localhost/replica:0/task:0/device:CPU:0\n",
      "Executing op __inference_test_function_2783 in device /job:localhost/replica:0/task:0/device:CPU:0\n",
      "Executing op __inference_test_function_2783 in device /job:localhost/replica:0/task:0/device:CPU:0\n",
      "Executing op __inference_test_function_2783 in device /job:localhost/replica:0/task:0/device:CPU:0\n",
      "Executing op __inference_test_function_2783 in device /job:localhost/replica:0/task:0/device:CPU:0\n",
      "Executing op __inference_test_function_2783 in device /job:localhost/replica:0/task:0/device:CPU:0\n",
      "Executing op __inference_test_function_2783 in device /job:localhost/replica:0/task:0/device:CPU:0\n",
      "Executing op __inference_test_function_2783 in device /job:localhost/replica:0/task:0/device:CPU:0\n",
      "Executing op __inference_test_function_2783 in device /job:localhost/replica:0/task:0/device:CPU:0\n",
      "Executing op __inference_test_function_2783 in device /job:localhost/replica:0/task:0/device:CPU:0\n",
      "174/313 [===============>..............] - ETA: 0s - loss: 0.4920Executing op __inference_test_function_2783 in device /job:localhost/replica:0/task:0/device:CPU:0\n",
      "Executing op __inference_test_function_2783 in device /job:localhost/replica:0/task:0/device:CPU:0\n",
      "Executing op __inference_test_function_2783 in device /job:localhost/replica:0/task:0/device:CPU:0\n",
      "Executing op __inference_test_function_2783 in device /job:localhost/replica:0/task:0/device:CPU:0\n",
      "Executing op __inference_test_function_2783 in device /job:localhost/replica:0/task:0/device:CPU:0\n",
      "Executing op __inference_test_function_2783 in device /job:localhost/replica:0/task:0/device:CPU:0\n",
      "Executing op __inference_test_function_2783 in device /job:localhost/replica:0/task:0/device:CPU:0\n",
      "Executing op __inference_test_function_2783 in device /job:localhost/replica:0/task:0/device:CPU:0\n",
      "Executing op __inference_test_function_2783 in device /job:localhost/replica:0/task:0/device:CPU:0\n",
      "Executing op __inference_test_function_2783 in device /job:localhost/replica:0/task:0/device:CPU:0\n",
      "184/313 [================>.............] - ETA: 0s - loss: 0.4882Executing op __inference_test_function_2783 in device /job:localhost/replica:0/task:0/device:CPU:0\n",
      "Executing op __inference_test_function_2783 in device /job:localhost/replica:0/task:0/device:CPU:0\n",
      "Executing op __inference_test_function_2783 in device /job:localhost/replica:0/task:0/device:CPU:0\n",
      "Executing op __inference_test_function_2783 in device /job:localhost/replica:0/task:0/device:CPU:0\n",
      "Executing op __inference_test_function_2783 in device /job:localhost/replica:0/task:0/device:CPU:0\n",
      "Executing op __inference_test_function_2783 in device /job:localhost/replica:0/task:0/device:CPU:0\n",
      "Executing op __inference_test_function_2783 in device /job:localhost/replica:0/task:0/device:CPU:0\n",
      "Executing op __inference_test_function_2783 in device /job:localhost/replica:0/task:0/device:CPU:0\n",
      "Executing op __inference_test_function_2783 in device /job:localhost/replica:0/task:0/device:CPU:0\n",
      "Executing op __inference_test_function_2783 in device /job:localhost/replica:0/task:0/device:CPU:0\n",
      "Executing op __inference_test_function_2783 in device /job:localhost/replica:0/task:0/device:CPU:0\n",
      "195/313 [=================>............] - ETA: 0s - loss: 0.4884Executing op __inference_test_function_2783 in device /job:localhost/replica:0/task:0/device:CPU:0\n",
      "Executing op __inference_test_function_2783 in device /job:localhost/replica:0/task:0/device:CPU:0\n",
      "Executing op __inference_test_function_2783 in device /job:localhost/replica:0/task:0/device:CPU:0\n",
      "Executing op __inference_test_function_2783 in device /job:localhost/replica:0/task:0/device:CPU:0\n",
      "Executing op __inference_test_function_2783 in device /job:localhost/replica:0/task:0/device:CPU:0\n",
      "Executing op __inference_test_function_2783 in device /job:localhost/replica:0/task:0/device:CPU:0\n",
      "Executing op __inference_test_function_2783 in device /job:localhost/replica:0/task:0/device:CPU:0\n",
      "Executing op __inference_test_function_2783 in device /job:localhost/replica:0/task:0/device:CPU:0\n",
      "Executing op __inference_test_function_2783 in device /job:localhost/replica:0/task:0/device:CPU:0\n",
      "Executing op __inference_test_function_2783 in device /job:localhost/replica:0/task:0/device:CPU:0\n",
      "Executing op __inference_test_function_2783 in device /job:localhost/replica:0/task:0/device:CPU:0\n",
      "206/313 [==================>...........] - ETA: 0s - loss: 0.4804Executing op __inference_test_function_2783 in device /job:localhost/replica:0/task:0/device:CPU:0\n",
      "Executing op __inference_test_function_2783 in device /job:localhost/replica:0/task:0/device:CPU:0\n",
      "Executing op __inference_test_function_2783 in device /job:localhost/replica:0/task:0/device:CPU:0\n",
      "Executing op __inference_test_function_2783 in device /job:localhost/replica:0/task:0/device:CPU:0\n",
      "Executing op __inference_test_function_2783 in device /job:localhost/replica:0/task:0/device:CPU:0\n",
      "Executing op __inference_test_function_2783 in device /job:localhost/replica:0/task:0/device:CPU:0\n",
      "Executing op __inference_test_function_2783 in device /job:localhost/replica:0/task:0/device:CPU:0\n",
      "Executing op __inference_test_function_2783 in device /job:localhost/replica:0/task:0/device:CPU:0\n",
      "Executing op __inference_test_function_2783 in device /job:localhost/replica:0/task:0/device:CPU:0\n",
      "Executing op __inference_test_function_2783 in device /job:localhost/replica:0/task:0/device:CPU:0\n",
      "216/313 [===================>..........] - ETA: 0s - loss: 0.4776Executing op __inference_test_function_2783 in device /job:localhost/replica:0/task:0/device:CPU:0\n",
      "Executing op __inference_test_function_2783 in device /job:localhost/replica:0/task:0/device:CPU:0\n",
      "Executing op __inference_test_function_2783 in device /job:localhost/replica:0/task:0/device:CPU:0\n",
      "Executing op __inference_test_function_2783 in device /job:localhost/replica:0/task:0/device:CPU:0\n",
      "Executing op __inference_test_function_2783 in device /job:localhost/replica:0/task:0/device:CPU:0\n"
     ]
    },
    {
     "name": "stdout",
     "output_type": "stream",
     "text": [
      "Executing op __inference_test_function_2783 in device /job:localhost/replica:0/task:0/device:CPU:0\n",
      "Executing op __inference_test_function_2783 in device /job:localhost/replica:0/task:0/device:CPU:0\n",
      "Executing op __inference_test_function_2783 in device /job:localhost/replica:0/task:0/device:CPU:0\n",
      "Executing op __inference_test_function_2783 in device /job:localhost/replica:0/task:0/device:CPU:0\n",
      "Executing op __inference_test_function_2783 in device /job:localhost/replica:0/task:0/device:CPU:0\n",
      "Executing op __inference_test_function_2783 in device /job:localhost/replica:0/task:0/device:CPU:0\n",
      "227/313 [====================>.........] - ETA: 0s - loss: 0.4653Executing op __inference_test_function_2783 in device /job:localhost/replica:0/task:0/device:CPU:0\n",
      "Executing op __inference_test_function_2783 in device /job:localhost/replica:0/task:0/device:CPU:0\n",
      "Executing op __inference_test_function_2783 in device /job:localhost/replica:0/task:0/device:CPU:0\n",
      "Executing op __inference_test_function_2783 in device /job:localhost/replica:0/task:0/device:CPU:0\n",
      "Executing op __inference_test_function_2783 in device /job:localhost/replica:0/task:0/device:CPU:0\n",
      "Executing op __inference_test_function_2783 in device /job:localhost/replica:0/task:0/device:CPU:0\n",
      "Executing op __inference_test_function_2783 in device /job:localhost/replica:0/task:0/device:CPU:0\n",
      "Executing op __inference_test_function_2783 in device /job:localhost/replica:0/task:0/device:CPU:0\n",
      "Executing op __inference_test_function_2783 in device /job:localhost/replica:0/task:0/device:CPU:0\n",
      "Executing op __inference_test_function_2783 in device /job:localhost/replica:0/task:0/device:CPU:0\n",
      "Executing op __inference_test_function_2783 in device /job:localhost/replica:0/task:0/device:CPU:0\n",
      "Executing op __inference_test_function_2783 in device /job:localhost/replica:0/task:0/device:CPU:0\n",
      "Executing op __inference_test_function_2783 in device /job:localhost/replica:0/task:0/device:CPU:0\n",
      "240/313 [======================>.......] - ETA: 0s - loss: 0.4559Executing op __inference_test_function_2783 in device /job:localhost/replica:0/task:0/device:CPU:0\n",
      "Executing op __inference_test_function_2783 in device /job:localhost/replica:0/task:0/device:CPU:0\n",
      "Executing op __inference_test_function_2783 in device /job:localhost/replica:0/task:0/device:CPU:0\n",
      "Executing op __inference_test_function_2783 in device /job:localhost/replica:0/task:0/device:CPU:0\n",
      "Executing op __inference_test_function_2783 in device /job:localhost/replica:0/task:0/device:CPU:0\n",
      "Executing op __inference_test_function_2783 in device /job:localhost/replica:0/task:0/device:CPU:0\n",
      "Executing op __inference_test_function_2783 in device /job:localhost/replica:0/task:0/device:CPU:0\n",
      "Executing op __inference_test_function_2783 in device /job:localhost/replica:0/task:0/device:CPU:0\n",
      "Executing op __inference_test_function_2783 in device /job:localhost/replica:0/task:0/device:CPU:0\n",
      "Executing op __inference_test_function_2783 in device /job:localhost/replica:0/task:0/device:CPU:0\n",
      "Executing op __inference_test_function_2783 in device /job:localhost/replica:0/task:0/device:CPU:0\n",
      "Executing op __inference_test_function_2783 in device /job:localhost/replica:0/task:0/device:CPU:0\n",
      "Executing op __inference_test_function_2783 in device /job:localhost/replica:0/task:0/device:CPU:0\n",
      "Executing op __inference_test_function_2783 in device /job:localhost/replica:0/task:0/device:CPU:0\n",
      "254/313 [=======================>......] - ETA: 0s - loss: 0.4516Executing op __inference_test_function_2783 in device /job:localhost/replica:0/task:0/device:CPU:0\n",
      "Executing op __inference_test_function_2783 in device /job:localhost/replica:0/task:0/device:CPU:0\n",
      "Executing op __inference_test_function_2783 in device /job:localhost/replica:0/task:0/device:CPU:0\n",
      "Executing op __inference_test_function_2783 in device /job:localhost/replica:0/task:0/device:CPU:0\n",
      "Executing op __inference_test_function_2783 in device /job:localhost/replica:0/task:0/device:CPU:0\n",
      "Executing op __inference_test_function_2783 in device /job:localhost/replica:0/task:0/device:CPU:0\n",
      "Executing op __inference_test_function_2783 in device /job:localhost/replica:0/task:0/device:CPU:0\n",
      "Executing op __inference_test_function_2783 in device /job:localhost/replica:0/task:0/device:CPU:0\n",
      "Executing op __inference_test_function_2783 in device /job:localhost/replica:0/task:0/device:CPU:0\n",
      "263/313 [========================>.....] - ETA: 0s - loss: 0.4466Executing op __inference_test_function_2783 in device /job:localhost/replica:0/task:0/device:CPU:0\n",
      "Executing op __inference_test_function_2783 in device /job:localhost/replica:0/task:0/device:CPU:0\n",
      "Executing op __inference_test_function_2783 in device /job:localhost/replica:0/task:0/device:CPU:0\n",
      "Executing op __inference_test_function_2783 in device /job:localhost/replica:0/task:0/device:CPU:0\n",
      "267/313 [========================>.....] - ETA: 0s - loss: 0.4442Executing op __inference_test_function_2783 in device /job:localhost/replica:0/task:0/device:CPU:0\n",
      "Executing op __inference_test_function_2783 in device /job:localhost/replica:0/task:0/device:CPU:0\n",
      "Executing op __inference_test_function_2783 in device /job:localhost/replica:0/task:0/device:CPU:0\n",
      "Executing op __inference_test_function_2783 in device /job:localhost/replica:0/task:0/device:CPU:0\n",
      "Executing op __inference_test_function_2783 in device /job:localhost/replica:0/task:0/device:CPU:0\n",
      "Executing op __inference_test_function_2783 in device /job:localhost/replica:0/task:0/device:CPU:0\n",
      "Executing op __inference_test_function_2783 in device /job:localhost/replica:0/task:0/device:CPU:0\n",
      "Executing op __inference_test_function_2783 in device /job:localhost/replica:0/task:0/device:CPU:0\n",
      "Executing op __inference_test_function_2783 in device /job:localhost/replica:0/task:0/device:CPU:0\n",
      "Executing op __inference_test_function_2783 in device /job:localhost/replica:0/task:0/device:CPU:0\n",
      "277/313 [=========================>....] - ETA: 0s - loss: 0.4335Executing op __inference_test_function_2783 in device /job:localhost/replica:0/task:0/device:CPU:0\n",
      "Executing op __inference_test_function_2783 in device /job:localhost/replica:0/task:0/device:CPU:0\n",
      "Executing op __inference_test_function_2783 in device /job:localhost/replica:0/task:0/device:CPU:0\n",
      "Executing op __inference_test_function_2783 in device /job:localhost/replica:0/task:0/device:CPU:0\n",
      "Executing op __inference_test_function_2783 in device /job:localhost/replica:0/task:0/device:CPU:0\n",
      "Executing op __inference_test_function_2783 in device /job:localhost/replica:0/task:0/device:CPU:0\n",
      "Executing op __inference_test_function_2783 in device /job:localhost/replica:0/task:0/device:CPU:0\n",
      "Executing op __inference_test_function_2783 in device /job:localhost/replica:0/task:0/device:CPU:0\n",
      "285/313 [==========================>...] - ETA: 0s - loss: 0.4303Executing op __inference_test_function_2783 in device /job:localhost/replica:0/task:0/device:CPU:0\n",
      "Executing op __inference_test_function_2783 in device /job:localhost/replica:0/task:0/device:CPU:0\n",
      "Executing op __inference_test_function_2783 in device /job:localhost/replica:0/task:0/device:CPU:0\n",
      "Executing op __inference_test_function_2783 in device /job:localhost/replica:0/task:0/device:CPU:0\n",
      "Executing op __inference_test_function_2783 in device /job:localhost/replica:0/task:0/device:CPU:0\n",
      "Executing op __inference_test_function_2783 in device /job:localhost/replica:0/task:0/device:CPU:0\n",
      "291/313 [==========================>...] - ETA: 0s - loss: 0.4259Executing op __inference_test_function_2783 in device /job:localhost/replica:0/task:0/device:CPU:0\n",
      "Executing op __inference_test_function_2783 in device /job:localhost/replica:0/task:0/device:CPU:0\n",
      "Executing op __inference_test_function_2783 in device /job:localhost/replica:0/task:0/device:CPU:0\n",
      "Executing op __inference_test_function_2783 in device /job:localhost/replica:0/task:0/device:CPU:0\n",
      "Executing op __inference_test_function_2783 in device /job:localhost/replica:0/task:0/device:CPU:0\n",
      "Executing op __inference_test_function_2783 in device /job:localhost/replica:0/task:0/device:CPU:0\n",
      "297/313 [===========================>..] - ETA: 0s - loss: 0.4235Executing op __inference_test_function_2783 in device /job:localhost/replica:0/task:0/device:CPU:0\n"
     ]
    },
    {
     "name": "stdout",
     "output_type": "stream",
     "text": [
      "Executing op __inference_test_function_2783 in device /job:localhost/replica:0/task:0/device:CPU:0\n",
      "Executing op __inference_test_function_2783 in device /job:localhost/replica:0/task:0/device:CPU:0\n",
      "Executing op __inference_test_function_2783 in device /job:localhost/replica:0/task:0/device:CPU:0\n",
      "Executing op __inference_test_function_2783 in device /job:localhost/replica:0/task:0/device:CPU:0\n",
      "302/313 [===========================>..] - ETA: 0s - loss: 0.4226Executing op __inference_test_function_2783 in device /job:localhost/replica:0/task:0/device:CPU:0\n",
      "Executing op __inference_test_function_2783 in device /job:localhost/replica:0/task:0/device:CPU:0\n",
      "Executing op __inference_test_function_2783 in device /job:localhost/replica:0/task:0/device:CPU:0\n",
      "Executing op __inference_test_function_2783 in device /job:localhost/replica:0/task:0/device:CPU:0\n",
      "Executing op __inference_test_function_2783 in device /job:localhost/replica:0/task:0/device:CPU:0\n",
      "Executing op __inference_test_function_2783 in device /job:localhost/replica:0/task:0/device:CPU:0\n",
      "Executing op __inference_test_function_2783 in device /job:localhost/replica:0/task:0/device:CPU:0\n",
      "Executing op __inference_test_function_2783 in device /job:localhost/replica:0/task:0/device:CPU:0\n",
      "Executing op __inference_test_function_2783 in device /job:localhost/replica:0/task:0/device:CPU:0\n",
      "Executing op __inference_test_function_2783 in device /job:localhost/replica:0/task:0/device:CPU:0\n",
      "Executing op __inference_test_function_2783 in device /job:localhost/replica:0/task:0/device:CPU:0\n",
      "313/313 [==============================] - 2s 6ms/step - loss: 0.4286\n",
      "Executing op DeleteIterator in device /job:localhost/replica:0/task:0/device:CPU:0\n"
     ]
    },
    {
     "data": {
      "text/plain": [
       "0.4285552203655243"
      ]
     },
     "execution_count": 42,
     "metadata": {},
     "output_type": "execute_result"
    }
   ],
   "source": [
    "model.evaluate(X_test,y_test)"
   ]
  },
  {
   "cell_type": "markdown",
   "metadata": {
    "colab_type": "text",
    "id": "JajjC0wUms2b"
   },
   "source": [
    "전반적인 과정은 sklearn 과 크게 차이가 없음\n",
    "- sklearn : 기계학습 전반적으로 쓰는 프레임워크\n",
    "- tf: 뉴럴네트워크 에 집주됨\n",
    "- 모델 구해서 선택한 metric기준으로 어떠한지 평가\n",
    "- 해당 학습한 모델을 저장하여 불러와서 사용 가능.\n",
    "---\n",
    "Tensorflow 튜토리얼 https://www.tensorflow.org/tutorials/quickstart/beginner\n",
    "  - 고급반에 이어서 해야하니 복습!\n",
    "  - 응용하려면 수학 필요함! 나중에 분위기 좋을떄 할 예정."
   ]
  },
  {
   "cell_type": "code",
   "execution_count": null,
   "metadata": {
    "colab": {},
    "colab_type": "code",
    "id": "fdSE8fHSlqNQ"
   },
   "outputs": [],
   "source": [
    "# 튜토리얼 부분을 자세히 다룰 예정 : activation function..\n",
    "model = tf.keras.models.Sequential([\n",
    "  tf.keras.layers.Flatten(input_shape=(28, 28)),\n",
    "  tf.keras.layers.Dense(128, activation='relu'),\n",
    "  tf.keras.layers.Dropout(0.2),\n",
    "  tf.keras.layers.Dense(10, activation='softmax')\n",
    "])"
   ]
  }
 ],
 "metadata": {
  "colab": {
   "name": "200811_11기_기본저녁반_필기.ipynb",
   "provenance": []
  },
  "kernelspec": {
   "display_name": "Python 3",
   "language": "python",
   "name": "python3"
  },
  "language_info": {
   "codemirror_mode": {
    "name": "ipython",
    "version": 3
   },
   "file_extension": ".py",
   "mimetype": "text/x-python",
   "name": "python",
   "nbconvert_exporter": "python",
   "pygments_lexer": "ipython3",
   "version": "3.7.6"
  }
 },
 "nbformat": 4,
 "nbformat_minor": 1
}
