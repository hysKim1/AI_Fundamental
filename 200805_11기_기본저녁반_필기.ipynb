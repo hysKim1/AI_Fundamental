{
 "cells": [
  {
   "cell_type": "markdown",
   "metadata": {},
   "source": [
    "# [AI 이노베이션 스퀘어] 11기 기본 저녁반\n",
    "- github: https://github.com/hysKim1/AI_Fundamental\n",
    "    -  [파이썬 공식문서]https://docs.python.org/ko/3/\n",
    "    - [Numpy 공식문서]https://numpy.org/devdocs/\n",
    "    - [ML]https://developers.google.com/machine-learning/crash-course/ml-intro?hl=ko\n",
    "---\n",
    "* [1.전처리에 따른 검정결과 변화 ](#검정) <br>\n",
    "     *  [1.1 Holdout](#KMeans)\n",
    "         * [ 2 way](#2-way)<br>\n",
    "         * [ 3 way](#3-way)<br>\n",
    "     *  [1.2  검정 그래프 ](#검정-그래프)\n",
    "          * [learning_curve](#learning_curve)<br>\n",
    "          * [sklearn_evaluation](#sklearn_evaluation)<br>\n",
    "* [2. 자동화](#자동화) <br>\n",
    "     *  [2.1 Pipeline](#Pipeline)\n",
    "     *  [2.2 GridSearchCV ](#GridSearchCV)\n",
    "         * [ 1.하이퍼파라미터 비교](#1.하이퍼파라미터 비교)<br>\n",
    "         * [ 2.전처리와 모델](#2.전처리와 모델)<br>\n",
    "         * [ 3.모델 비교](#3.모델 비교)<br>\n",
    "         * [ 4.하이퍼 파라미터 조합 비교](#4.하이퍼 파라미터 조합 비교)<br>\n",
    "     *  [2.2 고급기법: GridSearchCV & Pipeline ](# GridSearchCV & Pipeline)\n",
    "* [3. Feature Seleciton ](# feature seleciton) <br>\n",
    "     *  [3.1 filter](#1.filter)\n",
    "         * [ chi2](#chi2)<br>\n",
    "         * [ SelectKBest](#SelectKBest)<br>\n",
    "     *  [3.2 wrapper ](#2.wrapper)\n",
    "          * [RFE](#RFE)<br>\n",
    "          * [RFECV](#RFECV)<br>\n",
    "     *  [3.2 embeded ](#2.embeded)\n",
    "          * [feature_importances_](#feature_importances_)<br>"
   ]
  },
  {
   "cell_type": "code",
   "execution_count": 5,
   "metadata": {},
   "outputs": [],
   "source": [
    "import seaborn as sns\n",
    "import inspect\n",
    "import numpy as np\n",
    "import pandas as pd"
   ]
  },
  {
   "cell_type": "markdown",
   "metadata": {},
   "source": [
    "sklearn, seaborn외에 온라인 레포지토리(git hub)에 저장된 데이터 세트를 가져올 수 있음.\n",
    "\n",
    " - link : https://github.com/mwaskom/seaborn\n",
    " \n",
    " * `inspect.getsource(sns.load_dataset)`통해서 어떤 데이터 세트가 있는지 알수 있음."
   ]
  },
  {
   "cell_type": "code",
   "execution_count": 2,
   "metadata": {},
   "outputs": [],
   "source": [
    "#data = pd.read_csv('https://raw.githubusercontent.com/mwaskom/seaborn-data/master/raw/attention.csv')"
   ]
  },
  {
   "cell_type": "code",
   "execution_count": 3,
   "metadata": {},
   "outputs": [
    {
     "name": "stdout",
     "output_type": "stream",
     "text": [
      "def load_dataset(name, cache=True, data_home=None, **kws):\n",
      "    \"\"\"Load a dataset from the online repository (requires internet).\n",
      "\n",
      "    Parameters\n",
      "    ----------\n",
      "    name : str\n",
      "        Name of the dataset (`name`.csv on\n",
      "        https://github.com/mwaskom/seaborn-data).  You can obtain list of\n",
      "        available datasets using :func:`get_dataset_names`\n",
      "    cache : boolean, optional\n",
      "        If True, then cache data locally and use the cache on subsequent calls\n",
      "    data_home : string, optional\n",
      "        The directory in which to cache data. By default, uses ~/seaborn-data/\n",
      "    kws : dict, optional\n",
      "        Passed to pandas.read_csv\n",
      "\n",
      "    \"\"\"\n",
      "    path = (\"https://raw.githubusercontent.com/\"\n",
      "            \"mwaskom/seaborn-data/master/{}.csv\")\n",
      "    full_path = path.format(name)\n",
      "\n",
      "    if cache:\n",
      "        cache_path = os.path.join(get_data_home(data_home),\n",
      "                                  os.path.basename(full_path))\n",
      "        if not os.path.exists(cache_path):\n",
      "            urlretrieve(full_path, cache_path)\n",
      "        full_path = cache_path\n",
      "\n",
      "    df = pd.read_csv(full_path, **kws)\n",
      "    if df.iloc[-1].isnull().all():\n",
      "        df = df.iloc[:-1]\n",
      "\n",
      "    # Set some columns as a categorical type with ordered levels\n",
      "\n",
      "    if name == \"tips\":\n",
      "        df[\"day\"] = pd.Categorical(df[\"day\"], [\"Thur\", \"Fri\", \"Sat\", \"Sun\"])\n",
      "        df[\"sex\"] = pd.Categorical(df[\"sex\"], [\"Male\", \"Female\"])\n",
      "        df[\"time\"] = pd.Categorical(df[\"time\"], [\"Lunch\", \"Dinner\"])\n",
      "        df[\"smoker\"] = pd.Categorical(df[\"smoker\"], [\"Yes\", \"No\"])\n",
      "\n",
      "    if name == \"flights\":\n",
      "        df[\"month\"] = pd.Categorical(df[\"month\"], df.month.unique())\n",
      "\n",
      "    if name == \"exercise\":\n",
      "        df[\"time\"] = pd.Categorical(df[\"time\"], [\"1 min\", \"15 min\", \"30 min\"])\n",
      "        df[\"kind\"] = pd.Categorical(df[\"kind\"], [\"rest\", \"walking\", \"running\"])\n",
      "        df[\"diet\"] = pd.Categorical(df[\"diet\"], [\"no fat\", \"low fat\"])\n",
      "\n",
      "    if name == \"titanic\":\n",
      "        df[\"class\"] = pd.Categorical(df[\"class\"], [\"First\", \"Second\", \"Third\"])\n",
      "        df[\"deck\"] = pd.Categorical(df[\"deck\"], list(\"ABCDEFG\"))\n",
      "\n",
      "    return df\n",
      "\n"
     ]
    }
   ],
   "source": [
    "print( inspect.getsource(sns.load_dataset)) "
   ]
  },
  {
   "cell_type": "markdown",
   "metadata": {},
   "source": [
    "원하는 데이터 세트가 없어서 scikitlearn의 데이터 세트 이용"
   ]
  },
  {
   "cell_type": "code",
   "execution_count": 6,
   "metadata": {},
   "outputs": [],
   "source": [
    "from sklearn.datasets import load_wine"
   ]
  },
  {
   "cell_type": "markdown",
   "metadata": {},
   "source": [
    "wine 데이터를 가져와서 pandas의 DataFrame으로 만듦.\n",
    "- features,와 target을 하나의 DataFrame으로 합침."
   ]
  },
  {
   "cell_type": "code",
   "execution_count": 7,
   "metadata": {},
   "outputs": [],
   "source": [
    "data= load_wine()"
   ]
  },
  {
   "cell_type": "code",
   "execution_count": 8,
   "metadata": {},
   "outputs": [],
   "source": [
    "wine= pd.DataFrame(data.data , columns=data.feature_names)"
   ]
  },
  {
   "cell_type": "code",
   "execution_count": 9,
   "metadata": {},
   "outputs": [],
   "source": [
    "wine['target']=data.target"
   ]
  },
  {
   "cell_type": "code",
   "execution_count": 10,
   "metadata": {},
   "outputs": [
    {
     "data": {
      "text/html": [
       "<div>\n",
       "<style scoped>\n",
       "    .dataframe tbody tr th:only-of-type {\n",
       "        vertical-align: middle;\n",
       "    }\n",
       "\n",
       "    .dataframe tbody tr th {\n",
       "        vertical-align: top;\n",
       "    }\n",
       "\n",
       "    .dataframe thead th {\n",
       "        text-align: right;\n",
       "    }\n",
       "</style>\n",
       "<table border=\"1\" class=\"dataframe\">\n",
       "  <thead>\n",
       "    <tr style=\"text-align: right;\">\n",
       "      <th></th>\n",
       "      <th>alcohol</th>\n",
       "      <th>malic_acid</th>\n",
       "      <th>ash</th>\n",
       "      <th>alcalinity_of_ash</th>\n",
       "      <th>magnesium</th>\n",
       "      <th>total_phenols</th>\n",
       "      <th>flavanoids</th>\n",
       "      <th>nonflavanoid_phenols</th>\n",
       "      <th>proanthocyanins</th>\n",
       "      <th>color_intensity</th>\n",
       "      <th>hue</th>\n",
       "      <th>od280/od315_of_diluted_wines</th>\n",
       "      <th>proline</th>\n",
       "      <th>target</th>\n",
       "    </tr>\n",
       "  </thead>\n",
       "  <tbody>\n",
       "    <tr>\n",
       "      <th>0</th>\n",
       "      <td>14.23</td>\n",
       "      <td>1.71</td>\n",
       "      <td>2.43</td>\n",
       "      <td>15.6</td>\n",
       "      <td>127.0</td>\n",
       "      <td>2.80</td>\n",
       "      <td>3.06</td>\n",
       "      <td>0.28</td>\n",
       "      <td>2.29</td>\n",
       "      <td>5.64</td>\n",
       "      <td>1.04</td>\n",
       "      <td>3.92</td>\n",
       "      <td>1065.0</td>\n",
       "      <td>0</td>\n",
       "    </tr>\n",
       "    <tr>\n",
       "      <th>1</th>\n",
       "      <td>13.20</td>\n",
       "      <td>1.78</td>\n",
       "      <td>2.14</td>\n",
       "      <td>11.2</td>\n",
       "      <td>100.0</td>\n",
       "      <td>2.65</td>\n",
       "      <td>2.76</td>\n",
       "      <td>0.26</td>\n",
       "      <td>1.28</td>\n",
       "      <td>4.38</td>\n",
       "      <td>1.05</td>\n",
       "      <td>3.40</td>\n",
       "      <td>1050.0</td>\n",
       "      <td>0</td>\n",
       "    </tr>\n",
       "    <tr>\n",
       "      <th>2</th>\n",
       "      <td>13.16</td>\n",
       "      <td>2.36</td>\n",
       "      <td>2.67</td>\n",
       "      <td>18.6</td>\n",
       "      <td>101.0</td>\n",
       "      <td>2.80</td>\n",
       "      <td>3.24</td>\n",
       "      <td>0.30</td>\n",
       "      <td>2.81</td>\n",
       "      <td>5.68</td>\n",
       "      <td>1.03</td>\n",
       "      <td>3.17</td>\n",
       "      <td>1185.0</td>\n",
       "      <td>0</td>\n",
       "    </tr>\n",
       "    <tr>\n",
       "      <th>3</th>\n",
       "      <td>14.37</td>\n",
       "      <td>1.95</td>\n",
       "      <td>2.50</td>\n",
       "      <td>16.8</td>\n",
       "      <td>113.0</td>\n",
       "      <td>3.85</td>\n",
       "      <td>3.49</td>\n",
       "      <td>0.24</td>\n",
       "      <td>2.18</td>\n",
       "      <td>7.80</td>\n",
       "      <td>0.86</td>\n",
       "      <td>3.45</td>\n",
       "      <td>1480.0</td>\n",
       "      <td>0</td>\n",
       "    </tr>\n",
       "    <tr>\n",
       "      <th>4</th>\n",
       "      <td>13.24</td>\n",
       "      <td>2.59</td>\n",
       "      <td>2.87</td>\n",
       "      <td>21.0</td>\n",
       "      <td>118.0</td>\n",
       "      <td>2.80</td>\n",
       "      <td>2.69</td>\n",
       "      <td>0.39</td>\n",
       "      <td>1.82</td>\n",
       "      <td>4.32</td>\n",
       "      <td>1.04</td>\n",
       "      <td>2.93</td>\n",
       "      <td>735.0</td>\n",
       "      <td>0</td>\n",
       "    </tr>\n",
       "    <tr>\n",
       "      <th>...</th>\n",
       "      <td>...</td>\n",
       "      <td>...</td>\n",
       "      <td>...</td>\n",
       "      <td>...</td>\n",
       "      <td>...</td>\n",
       "      <td>...</td>\n",
       "      <td>...</td>\n",
       "      <td>...</td>\n",
       "      <td>...</td>\n",
       "      <td>...</td>\n",
       "      <td>...</td>\n",
       "      <td>...</td>\n",
       "      <td>...</td>\n",
       "      <td>...</td>\n",
       "    </tr>\n",
       "    <tr>\n",
       "      <th>173</th>\n",
       "      <td>13.71</td>\n",
       "      <td>5.65</td>\n",
       "      <td>2.45</td>\n",
       "      <td>20.5</td>\n",
       "      <td>95.0</td>\n",
       "      <td>1.68</td>\n",
       "      <td>0.61</td>\n",
       "      <td>0.52</td>\n",
       "      <td>1.06</td>\n",
       "      <td>7.70</td>\n",
       "      <td>0.64</td>\n",
       "      <td>1.74</td>\n",
       "      <td>740.0</td>\n",
       "      <td>2</td>\n",
       "    </tr>\n",
       "    <tr>\n",
       "      <th>174</th>\n",
       "      <td>13.40</td>\n",
       "      <td>3.91</td>\n",
       "      <td>2.48</td>\n",
       "      <td>23.0</td>\n",
       "      <td>102.0</td>\n",
       "      <td>1.80</td>\n",
       "      <td>0.75</td>\n",
       "      <td>0.43</td>\n",
       "      <td>1.41</td>\n",
       "      <td>7.30</td>\n",
       "      <td>0.70</td>\n",
       "      <td>1.56</td>\n",
       "      <td>750.0</td>\n",
       "      <td>2</td>\n",
       "    </tr>\n",
       "    <tr>\n",
       "      <th>175</th>\n",
       "      <td>13.27</td>\n",
       "      <td>4.28</td>\n",
       "      <td>2.26</td>\n",
       "      <td>20.0</td>\n",
       "      <td>120.0</td>\n",
       "      <td>1.59</td>\n",
       "      <td>0.69</td>\n",
       "      <td>0.43</td>\n",
       "      <td>1.35</td>\n",
       "      <td>10.20</td>\n",
       "      <td>0.59</td>\n",
       "      <td>1.56</td>\n",
       "      <td>835.0</td>\n",
       "      <td>2</td>\n",
       "    </tr>\n",
       "    <tr>\n",
       "      <th>176</th>\n",
       "      <td>13.17</td>\n",
       "      <td>2.59</td>\n",
       "      <td>2.37</td>\n",
       "      <td>20.0</td>\n",
       "      <td>120.0</td>\n",
       "      <td>1.65</td>\n",
       "      <td>0.68</td>\n",
       "      <td>0.53</td>\n",
       "      <td>1.46</td>\n",
       "      <td>9.30</td>\n",
       "      <td>0.60</td>\n",
       "      <td>1.62</td>\n",
       "      <td>840.0</td>\n",
       "      <td>2</td>\n",
       "    </tr>\n",
       "    <tr>\n",
       "      <th>177</th>\n",
       "      <td>14.13</td>\n",
       "      <td>4.10</td>\n",
       "      <td>2.74</td>\n",
       "      <td>24.5</td>\n",
       "      <td>96.0</td>\n",
       "      <td>2.05</td>\n",
       "      <td>0.76</td>\n",
       "      <td>0.56</td>\n",
       "      <td>1.35</td>\n",
       "      <td>9.20</td>\n",
       "      <td>0.61</td>\n",
       "      <td>1.60</td>\n",
       "      <td>560.0</td>\n",
       "      <td>2</td>\n",
       "    </tr>\n",
       "  </tbody>\n",
       "</table>\n",
       "<p>178 rows × 14 columns</p>\n",
       "</div>"
      ],
      "text/plain": [
       "     alcohol  malic_acid   ash  alcalinity_of_ash  magnesium  total_phenols  \\\n",
       "0      14.23        1.71  2.43               15.6      127.0           2.80   \n",
       "1      13.20        1.78  2.14               11.2      100.0           2.65   \n",
       "2      13.16        2.36  2.67               18.6      101.0           2.80   \n",
       "3      14.37        1.95  2.50               16.8      113.0           3.85   \n",
       "4      13.24        2.59  2.87               21.0      118.0           2.80   \n",
       "..       ...         ...   ...                ...        ...            ...   \n",
       "173    13.71        5.65  2.45               20.5       95.0           1.68   \n",
       "174    13.40        3.91  2.48               23.0      102.0           1.80   \n",
       "175    13.27        4.28  2.26               20.0      120.0           1.59   \n",
       "176    13.17        2.59  2.37               20.0      120.0           1.65   \n",
       "177    14.13        4.10  2.74               24.5       96.0           2.05   \n",
       "\n",
       "     flavanoids  nonflavanoid_phenols  proanthocyanins  color_intensity   hue  \\\n",
       "0          3.06                  0.28             2.29             5.64  1.04   \n",
       "1          2.76                  0.26             1.28             4.38  1.05   \n",
       "2          3.24                  0.30             2.81             5.68  1.03   \n",
       "3          3.49                  0.24             2.18             7.80  0.86   \n",
       "4          2.69                  0.39             1.82             4.32  1.04   \n",
       "..          ...                   ...              ...              ...   ...   \n",
       "173        0.61                  0.52             1.06             7.70  0.64   \n",
       "174        0.75                  0.43             1.41             7.30  0.70   \n",
       "175        0.69                  0.43             1.35            10.20  0.59   \n",
       "176        0.68                  0.53             1.46             9.30  0.60   \n",
       "177        0.76                  0.56             1.35             9.20  0.61   \n",
       "\n",
       "     od280/od315_of_diluted_wines  proline  target  \n",
       "0                            3.92   1065.0       0  \n",
       "1                            3.40   1050.0       0  \n",
       "2                            3.17   1185.0       0  \n",
       "3                            3.45   1480.0       0  \n",
       "4                            2.93    735.0       0  \n",
       "..                            ...      ...     ...  \n",
       "173                          1.74    740.0       2  \n",
       "174                          1.56    750.0       2  \n",
       "175                          1.56    835.0       2  \n",
       "176                          1.62    840.0       2  \n",
       "177                          1.60    560.0       2  \n",
       "\n",
       "[178 rows x 14 columns]"
      ]
     },
     "execution_count": 10,
     "metadata": {},
     "output_type": "execute_result"
    }
   ],
   "source": [
    "wine"
   ]
  },
  {
   "cell_type": "markdown",
   "metadata": {},
   "source": [
    "13개의 dimension으로 이루어졌고 모든 데이터 타입은 수치형(float, int)"
   ]
  },
  {
   "cell_type": "code",
   "execution_count": 6,
   "metadata": {},
   "outputs": [
    {
     "name": "stdout",
     "output_type": "stream",
     "text": [
      "<class 'pandas.core.frame.DataFrame'>\n",
      "RangeIndex: 178 entries, 0 to 177\n",
      "Data columns (total 14 columns):\n",
      " #   Column                        Non-Null Count  Dtype  \n",
      "---  ------                        --------------  -----  \n",
      " 0   alcohol                       178 non-null    float64\n",
      " 1   malic_acid                    178 non-null    float64\n",
      " 2   ash                           178 non-null    float64\n",
      " 3   alcalinity_of_ash             178 non-null    float64\n",
      " 4   magnesium                     178 non-null    float64\n",
      " 5   total_phenols                 178 non-null    float64\n",
      " 6   flavanoids                    178 non-null    float64\n",
      " 7   nonflavanoid_phenols          178 non-null    float64\n",
      " 8   proanthocyanins               178 non-null    float64\n",
      " 9   color_intensity               178 non-null    float64\n",
      " 10  hue                           178 non-null    float64\n",
      " 11  od280/od315_of_diluted_wines  178 non-null    float64\n",
      " 12  proline                       178 non-null    float64\n",
      " 13  target                        178 non-null    int64  \n",
      "dtypes: float64(13), int64(1)\n",
      "memory usage: 19.6 KB\n"
     ]
    }
   ],
   "source": [
    "wine.info()"
   ]
  },
  {
   "cell_type": "code",
   "execution_count": 12,
   "metadata": {
    "scrolled": true
   },
   "outputs": [
    {
     "data": {
      "text/plain": [
       "<AxesSubplot:>"
      ]
     },
     "execution_count": 12,
     "metadata": {},
     "output_type": "execute_result"
    },
    {
     "data": {
      "image/png": "[encoded data removed]",
      "text/plain": [
       "<Figure size 1800x360 with 1 Axes>"
      ]
     },
     "metadata": {
      "needs_background": "light"
     },
     "output_type": "display_data"
    }
   ],
   "source": [
    "wine.boxplot(figsize=(25,5))"
   ]
  },
  {
   "cell_type": "code",
   "execution_count": 7,
   "metadata": {},
   "outputs": [
    {
     "data": {
      "text/plain": [
       "<AxesSubplot:>"
      ]
     },
     "execution_count": 7,
     "metadata": {},
     "output_type": "execute_result"
    },
    {
     "data": {
      "image/png": "[encoded data removed]",
      "text/plain": [
       "<Figure size 432x288 with 2 Axes>"
      ]
     },
     "metadata": {
      "needs_background": "light"
     },
     "output_type": "display_data"
    }
   ],
   "source": [
    "sns.heatmap(wine.corr())"
   ]
  },
  {
   "cell_type": "markdown",
   "metadata": {},
   "source": [
    "> ### No Free Lunch\n",
    "    - 모든 데이터에 만능인 알고리즘 없다\n",
    "- 지금까지 각 모델과 하이퍼 파라미터 변경하여서 성능을 향상 시키려함\n",
    "- 특정 사항에 맞는 평가 기준에 맞는것은 찾아야함\n",
    "\n",
    "\n",
    "학습 한번한 데이터를 다시 학습시키면 성능은 좋은 (과대적합)\n",
    "- 학습시킨 데이터를 성능 평가를 하기 위해서 학습하지 않은 새로운 데이터에 해야함\n",
    "    - Holdout :train_test_split\n",
    "    - cross_val_score"
   ]
  },
  {
   "cell_type": "markdown",
   "metadata": {},
   "source": [
    "[2020/08/03 수업](https://github.com/hysKim1/AI_Fundamental/blob/master/200803_11기_기본저녁반_필기.ipynb )에 위의 wine data에 대해서 자세히 소개 되었음.\n",
    "\n",
    "---\n",
    "표준화된 데이터와 아닌 데이터의 성능 비교 "
   ]
  },
  {
   "cell_type": "code",
   "execution_count": 8,
   "metadata": {},
   "outputs": [],
   "source": [
    "from sklearn.preprocessing import StandardScaler     #전처리:표준화\n",
    "from sklearn.model_selection import train_test_split #holdout\n",
    "from sklearn.neighbors import KNeighborsClassifier   #estimator"
   ]
  },
  {
   "cell_type": "code",
   "execution_count": 9,
   "metadata": {},
   "outputs": [],
   "source": [
    "ss=StandardScaler()       #인스턴스"
   ]
  },
  {
   "cell_type": "markdown",
   "metadata": {},
   "source": [
    "### Holdout\n",
    "- train_test_split\n",
    "- 학습된 데이터가 다른 데이터에서도  제대로 작동하는지 검정 \n",
    "    - 2way: train, test\n",
    "    - 3way: train, test, validation \n",
    "        - train, validation으로 하이퍼 파라미터를 찾고,test로 성능 확인.\n",
    "   - validation: 하이퍼 파라미터 사용했던 데이터이기 때문에 최종 성능평가용으로 부적절"
   ]
  },
  {
   "cell_type": "markdown",
   "metadata": {},
   "source": [
    "#### 2 way\n",
    "\n",
    "1.train,test 로 분할"
   ]
  },
  {
   "cell_type": "code",
   "execution_count": 10,
   "metadata": {},
   "outputs": [],
   "source": [
    "X_train,X_test, y_train, y_test= train_test_split(wine.iloc[:,:-1],wine.target)"
   ]
  },
  {
   "cell_type": "markdown",
   "metadata": {},
   "source": [
    "#### 3 way\n",
    "\n",
    "1. train,test 로 분할\n",
    "2. test데이터를 다시 특정 사이즈(비율)를 정하여 test,validation으로 분할"
   ]
  },
  {
   "cell_type": "code",
   "execution_count": 11,
   "metadata": {},
   "outputs": [],
   "source": [
    "X_train,X_test, y_train, y_test= train_test_split(wine.iloc[:,:-1],wine.target)\n",
    "X_test, X_validation, y_test, y_validation = train_test_split(X_test, y_test, test_size=0.5)"
   ]
  },
  {
   "cell_type": "markdown",
   "metadata": {},
   "source": [
    "--- \n",
    "전처리 여부에 따른 검정 결과 비교\n",
    "- wine: 원래 wine 데이터\n",
    "    -  knn알고리즘에서 약 0.67의 정확도를 보임"
   ]
  },
  {
   "cell_type": "code",
   "execution_count": 15,
   "metadata": {},
   "outputs": [],
   "source": [
    "X_train,X_test, y_train, y_test= train_test_split(wine.iloc[:,:-1],wine.target)"
   ]
  },
  {
   "cell_type": "code",
   "execution_count": 16,
   "metadata": {},
   "outputs": [
    {
     "data": {
      "text/plain": [
       "KNeighborsClassifier()"
      ]
     },
     "execution_count": 16,
     "metadata": {},
     "output_type": "execute_result"
    }
   ],
   "source": [
    "knn=KNeighborsClassifier()\n",
    "knn.fit(X_train,y_train)"
   ]
  },
  {
   "cell_type": "code",
   "execution_count": 17,
   "metadata": {},
   "outputs": [
    {
     "data": {
      "text/plain": [
       "0.6666666666666666"
      ]
     },
     "execution_count": 17,
     "metadata": {},
     "output_type": "execute_result"
    }
   ],
   "source": [
    "knn.score(X_test,y_test)"
   ]
  },
  {
   "cell_type": "markdown",
   "metadata": {},
   "source": [
    "- wine2 : wine 데이터를 표준화한 데이터\n",
    "    - knn알고리즘에서 1.0의 정확도를 보임\n",
    "    - 표준화를 통해 성능이 월등히 올라감."
   ]
  },
  {
   "cell_type": "code",
   "execution_count": 12,
   "metadata": {},
   "outputs": [],
   "source": [
    "wine2=wine.copy()    #와인데이터의 DataFrame copy"
   ]
  },
  {
   "cell_type": "code",
   "execution_count": 23,
   "metadata": {},
   "outputs": [],
   "source": [
    "wine2.iloc[:,:-1]=ss.fit_transform(wine.iloc[:,:-1])"
   ]
  },
  {
   "cell_type": "code",
   "execution_count": 24,
   "metadata": {},
   "outputs": [],
   "source": [
    "X_train,X_test, y_train, y_test= train_test_split(wine2.iloc[:,:-1],wine2.target)"
   ]
  },
  {
   "cell_type": "code",
   "execution_count": 25,
   "metadata": {},
   "outputs": [
    {
     "data": {
      "text/plain": [
       "KNeighborsClassifier()"
      ]
     },
     "execution_count": 25,
     "metadata": {},
     "output_type": "execute_result"
    }
   ],
   "source": [
    "knn.fit(X_train,y_train)"
   ]
  },
  {
   "cell_type": "code",
   "execution_count": 26,
   "metadata": {},
   "outputs": [
    {
     "data": {
      "text/plain": [
       "1.0"
      ]
     },
     "execution_count": 26,
     "metadata": {},
     "output_type": "execute_result"
    }
   ],
   "source": [
    "knn.score(X_test,y_test)"
   ]
  },
  {
   "cell_type": "markdown",
   "metadata": {},
   "source": [
    "표준화된 데이터와 원래 데이터의 분포 비교"
   ]
  },
  {
   "cell_type": "code",
   "execution_count": 28,
   "metadata": {},
   "outputs": [
    {
     "data": {
      "text/plain": [
       "<matplotlib.axes._subplots.AxesSubplot at 0x26a22a98988>"
      ]
     },
     "execution_count": 28,
     "metadata": {},
     "output_type": "execute_result"
    },
    {
     "data": {
      "image/png": "[encoded data removed]",
      "text/plain": [
       "<Figure size 1800x360 with 1 Axes>"
      ]
     },
     "metadata": {
      "needs_background": "light"
     },
     "output_type": "display_data"
    }
   ],
   "source": [
    "wine.boxplot(figsize=(25,5)) #original :분포 차이가 심함.(영향력 차이 발생)"
   ]
  },
  {
   "cell_type": "code",
   "execution_count": 29,
   "metadata": {},
   "outputs": [
    {
     "data": {
      "text/plain": [
       "<matplotlib.axes._subplots.AxesSubplot at 0x26a22ee67c8>"
      ]
     },
     "execution_count": 29,
     "metadata": {},
     "output_type": "execute_result"
    },
    {
     "data": {
      "image/png": "[encoded data removed]",
      "text/plain": [
       "<Figure size 1800x360 with 1 Axes>"
      ]
     },
     "metadata": {
      "needs_background": "light"
     },
     "output_type": "display_data"
    }
   ],
   "source": [
    "wine2.boxplot(figsize=(25,5)) #표준화 :분포 차이가 크지 않고 0 에서 가장 많이 나타남."
   ]
  },
  {
   "cell_type": "markdown",
   "metadata": {},
   "source": [
    "### cross_val_score\n",
    "데이터가 차원에 비해 적은 경우 holdout 방식은 큰 도움이 되지 않아 교차 검정을 함"
   ]
  },
  {
   "cell_type": "code",
   "execution_count": 19,
   "metadata": {},
   "outputs": [],
   "source": [
    "from sklearn.model_selection import train_test_split, cross_val_score"
   ]
  },
  {
   "cell_type": "markdown",
   "metadata": {},
   "source": [
    "표준화된 데이터와 원래 데이터간의 교차검정 비교"
   ]
  },
  {
   "cell_type": "code",
   "execution_count": 31,
   "metadata": {},
   "outputs": [
    {
     "data": {
      "text/plain": [
       "array([0.66666667, 0.66666667, 0.61111111, 0.61111111, 0.61111111,\n",
       "       0.61111111, 0.72222222, 0.66666667, 0.82352941, 0.76470588])"
      ]
     },
     "execution_count": 31,
     "metadata": {},
     "output_type": "execute_result"
    }
   ],
   "source": [
    "cross_val_score(KNeighborsClassifier(5),wine.iloc[:,:-1],wine.target,cv=10)"
   ]
  },
  {
   "cell_type": "code",
   "execution_count": 32,
   "metadata": {},
   "outputs": [
    {
     "data": {
      "text/plain": [
       "array([0.94444444, 0.94444444, 0.94444444, 0.94444444, 1.        ,\n",
       "       0.94444444, 1.        , 1.        , 0.94117647, 1.        ])"
      ]
     },
     "execution_count": 32,
     "metadata": {},
     "output_type": "execute_result"
    }
   ],
   "source": [
    "cross_val_score(KNeighborsClassifier(10),wine2.iloc[:,:-1],wine2.target,cv=10)"
   ]
  },
  {
   "cell_type": "markdown",
   "metadata": {},
   "source": [
    "### 검정 그래프\n",
    "- 모델들을 검정하기 위해서 데이터 양에 따라 training , validation 검정값을 그래프로 표현 \n",
    "- bias(편향)에러나 variance(분산)에러로부터 모델이 얼마나 영향을 받는지 봄\n",
    "\n",
    "    - 오버 피팅 : 데이터 많을수록 성능 떨어짐\n",
    "    -  플라토현상 올떄까지 데이터 수집\n",
    "- https://scikit-learn.org/stable/modules/learning_curve.html"
   ]
  },
  {
   "cell_type": "markdown",
   "metadata": {},
   "source": [
    "### learning_curve\n",
    "적정 데이터 양 확인하는 방법으로 각 데이터양에 따라 `cross_validation_score(cv=5)` 수행한 평균, 표준편차 값을 array형태로 보여줌 "
   ]
  },
  {
   "cell_type": "code",
   "execution_count": 50,
   "metadata": {},
   "outputs": [],
   "source": [
    "from sklearn.model_selection import learning_curve"
   ]
  },
  {
   "cell_type": "markdown",
   "metadata": {},
   "source": [
    "array 가 여러개인경우 unpacking 으로 분할 가능"
   ]
  },
  {
   "cell_type": "code",
   "execution_count": 259,
   "metadata": {},
   "outputs": [
    {
     "data": {
      "text/plain": [
       "(array([ 14,  46,  78, 110, 142]),\n",
       " array([[1.        , 1.        , 1.        , 1.        , 1.        ],\n",
       "        [1.        , 1.        , 1.        , 1.        , 1.        ],\n",
       "        [0.93589744, 0.93589744, 0.91025641, 0.93589744, 0.91025641],\n",
       "        [0.9       , 0.9       , 0.88181818, 0.89090909, 0.87272727],\n",
       "        [0.8028169 , 0.78873239, 0.8028169 , 0.78169014, 0.73943662]]),\n",
       " array([[0.33333333, 0.33333333, 0.33333333, 0.34285714, 0.31428571],\n",
       "        [0.33333333, 0.33333333, 0.33333333, 0.34285714, 0.31428571],\n",
       "        [0.63888889, 0.63888889, 0.69444444, 0.71428571, 0.74285714],\n",
       "        [0.63888889, 0.63888889, 0.69444444, 0.71428571, 0.74285714],\n",
       "        [0.72222222, 0.66666667, 0.63888889, 0.65714286, 0.74285714]]))"
      ]
     },
     "execution_count": 259,
     "metadata": {},
     "output_type": "execute_result"
    }
   ],
   "source": [
    "learning_curve(KNeighborsClassifier(),wine.iloc[:,:-1],wine.target)"
   ]
  },
  {
   "cell_type": "markdown",
   "metadata": {},
   "source": [
    "### sklearn_evaluation\n",
    "- 위의 `learning_curve` 의 각 array값을 시각화하여 시각적 이해 높임\n",
    "- `sklearn_evaluation.plot.learning_curve(train_score, test_score,train_size)` \n",
    "   "
   ]
  },
  {
   "cell_type": "markdown",
   "metadata": {},
   "source": [
    "`-` 설치\n",
    "`_ `사용"
   ]
  },
  {
   "cell_type": "code",
   "execution_count": 48,
   "metadata": {},
   "outputs": [],
   "source": [
    "#!pip install sklearn-evaluation\n",
    "import sklearn_evaluation"
   ]
  },
  {
   "cell_type": "code",
   "execution_count": 270,
   "metadata": {},
   "outputs": [
    {
     "data": {
      "text/plain": [
       "['ClassifierEvaluator',\n",
       " '__all__',\n",
       " '__builtins__',\n",
       " '__cached__',\n",
       " '__doc__',\n",
       " '__file__',\n",
       " '__loader__',\n",
       " '__name__',\n",
       " '__package__',\n",
       " '__path__',\n",
       " '__spec__',\n",
       " '__version__',\n",
       " 'compute',\n",
       " 'evaluator',\n",
       " 'metrics',\n",
       " 'plot',\n",
       " 'preprocessing',\n",
       " 'report',\n",
       " 'util',\n",
       " 'validate']"
      ]
     },
     "execution_count": 270,
     "metadata": {},
     "output_type": "execute_result"
    }
   ],
   "source": [
    "dir(sklearn_evaluation)"
   ]
  },
  {
   "cell_type": "markdown",
   "metadata": {},
   "source": [
    "learning_curve에서 계산된 데이터 양에 따른 평균, 표준편차값을 담은 3개의 array분할"
   ]
  },
  {
   "cell_type": "code",
   "execution_count": 260,
   "metadata": {},
   "outputs": [
    {
     "data": {
      "text/plain": [
       "3"
      ]
     },
     "execution_count": 260,
     "metadata": {},
     "output_type": "execute_result"
    }
   ],
   "source": [
    "len(learning_curve(KNeighborsClassifier(),wine.iloc[:,:-1],wine.target))"
   ]
  },
  {
   "cell_type": "code",
   "execution_count": 262,
   "metadata": {},
   "outputs": [],
   "source": [
    "train_size,train_score,test_score= learning_curve(KNeighborsClassifier(),wine.iloc[:,:-1],wine.target)"
   ]
  },
  {
   "cell_type": "markdown",
   "metadata": {},
   "source": [
    "- x축: 데이터의 개수\n",
    "- y축: 각 평가 지표의 평균\n",
    "    - 데이터가 많아질 수록 성능이 높아지는 양상을 보인다.(우상향 그래프)\n",
    "- Training score(붉은색): 모델이 학습한 데이터로 평가\n",
    "- Cross-validation score(녹색): 모델이 학습 안한 데이터로 평가\n",
    "    - line graph에서 범위로 색상이 칠해진 부분 :  오차범위 (편차)"
   ]
  },
  {
   "cell_type": "code",
   "execution_count": 271,
   "metadata": {},
   "outputs": [
    {
     "data": {
      "text/plain": [
       "<matplotlib.axes._subplots.AxesSubplot at 0x1c4a9cf5708>"
      ]
     },
     "execution_count": 271,
     "metadata": {},
     "output_type": "execute_result"
    },
    {
     "data": {
      "image/png": "[encoded data removed]",
      "text/plain": [
       "<Figure size 432x288 with 1 Axes>"
      ]
     },
     "metadata": {
      "needs_background": "light"
     },
     "output_type": "display_data"
    }
   ],
   "source": [
    "sklearn_evaluation.plot.learning_curve(train_score, test_score,train_size)"
   ]
  },
  {
   "cell_type": "markdown",
   "metadata": {},
   "source": [
    "위의 그래프에서 두 그래프는 데이터가 늘어날수록 약 꽤 낮은 검정값으로 수렴함"
   ]
  },
  {
   "cell_type": "markdown",
   "metadata": {},
   "source": [
    " - training data는 overfiting 될 가능성 높음.\n",
    "      - train 데이터에 과대적함되고 test 데이터에서는 낮은 점수를 보임"
   ]
  },
  {
   "cell_type": "raw",
   "metadata": {},
   "source": [
    "pipe=Pipeline([('ss',StandardScaler()),('clf',KNeighborsClassifier())])"
   ]
  },
  {
   "cell_type": "code",
   "execution_count": 51,
   "metadata": {},
   "outputs": [],
   "source": [
    "train_size,train_score,test_score= learning_curve(pipe,\n",
    "                                                  wine.iloc[:,:-1],wine.target\n",
    "                                                 , train_sizes=[0.1,0.2,0.3,0.4,0.5,0.6,0.7,0.8,0.9])"
   ]
  },
  {
   "cell_type": "markdown",
   "metadata": {},
   "source": [
    "wine 데이터를 파이프를 이용하여 전처리 하게 되면 cross-validaiton score(교차 검정)결과가 향상됨.\n",
    "- 동일한 데이터임에 전처리하니 두 그래프는 데이터가 늘어날수록 높은 검정값으로 수렴함\n",
    "    -   일반화(generalization) 향상됨"
   ]
  },
  {
   "cell_type": "code",
   "execution_count": 52,
   "metadata": {
    "scrolled": true
   },
   "outputs": [
    {
     "data": {
      "text/plain": [
       "<AxesSubplot:title={'center':'Learning Curve'}, xlabel='Training examples', ylabel='Score mean'>"
      ]
     },
     "execution_count": 52,
     "metadata": {},
     "output_type": "execute_result"
    },
    {
     "data": {
      "image/png": "[encoded data removed]",
      "text/plain": [
       "<Figure size 432x288 with 1 Axes>"
      ]
     },
     "metadata": {
      "needs_background": "light"
     },
     "output_type": "display_data"
    }
   ],
   "source": [
    "sklearn_evaluation.plot.learning_curve(train_score, test_score,train_size)"
   ]
  },
  {
   "cell_type": "markdown",
   "metadata": {},
   "source": [
    "--- \n",
    "### 자동화\n",
    "\n",
    "### Pipeline\n",
    "> 복습\n",
    "   - 전처리부터 학습을 이어주어 한번에 처리해주는 편리한 기능\n",
    "    - 데이터 전처리,학습 하는 과정을 한번에 할 수 있고 전체 데이터에 적용됨\n",
    "    - structured araay 형태로 넣어 순서대로 실행\n",
    "        - `Pipeline([( 지정 이름, 인스턴스화한 객체   )])`\n",
    "    - 마지막에 estimator 넣어야함\n",
    "\n",
    "[이전 필기 참고](https://github.com/hysKim1/AI_Fundamental/blob/master/200804_11%EA%B8%B0_%EA%B8%B0%EB%B3%B8%EC%A0%80%EB%85%81%EB%B0%98_%ED%95%84%EA%B8%B0.ipynb)\n",
    "- `Pipeline`, `make_pipeline`, `ColumnTransforme`\n",
    "- 파이프라인 +gridsearch_CV를 동시에 사용하면 자동화하여 모델 비교를  막강함."
   ]
  },
  {
   "cell_type": "code",
   "execution_count": 12,
   "metadata": {},
   "outputs": [],
   "source": [
    "from sklearn.pipeline import Pipeline\n",
    "from sklearn.preprocessing import StandardScaler"
   ]
  },
  {
   "cell_type": "raw",
   "metadata": {},
   "source": [
    "#이전에 배운것\n",
    "ss = StandardScaler()\n",
    "ss.fit_transform(wine.iloc[:, :-1])\n",
    "\n",
    "knn=KNeighborsClassifier()\n",
    "knn.fit((wine.iloc[:,:-1], wine.target)"
   ]
  },
  {
   "cell_type": "markdown",
   "metadata": {},
   "source": [
    "단 두줄로 요약 가능\n",
    "- structured araay 형태"
   ]
  },
  {
   "cell_type": "code",
   "execution_count": 13,
   "metadata": {},
   "outputs": [
    {
     "data": {
      "text/plain": [
       "Pipeline(memory=None,\n",
       "         steps=[('ss',\n",
       "                 StandardScaler(copy=True, with_mean=True, with_std=True)),\n",
       "                ('knn',\n",
       "                 KNeighborsClassifier(algorithm='auto', leaf_size=30,\n",
       "                                      metric='minkowski', metric_params=None,\n",
       "                                      n_jobs=None, n_neighbors=5, p=2,\n",
       "                                      weights='uniform'))],\n",
       "         verbose=False)"
      ]
     },
     "execution_count": 13,
     "metadata": {},
     "output_type": "execute_result"
    }
   ],
   "source": [
    "pipe=Pipeline([('ss',StandardScaler()),('knn',KNeighborsClassifier())])\n",
    "pipe.fit(wine.iloc[:,:-1], wine.target)"
   ]
  },
  {
   "cell_type": "markdown",
   "metadata": {},
   "source": [
    "각 스텝과 하이퍼 파라미터가 저장되어 있음"
   ]
  },
  {
   "cell_type": "code",
   "execution_count": 14,
   "metadata": {},
   "outputs": [
    {
     "data": {
      "text/plain": [
       "{'steps': [('ss', StandardScaler(copy=True, with_mean=True, with_std=True)),\n",
       "  ('knn',\n",
       "   KNeighborsClassifier(algorithm='auto', leaf_size=30, metric='minkowski',\n",
       "                        metric_params=None, n_jobs=None, n_neighbors=5, p=2,\n",
       "                        weights='uniform'))],\n",
       " 'memory': None,\n",
       " 'verbose': False}"
      ]
     },
     "execution_count": 14,
     "metadata": {},
     "output_type": "execute_result"
    }
   ],
   "source": [
    "vars(pipe)"
   ]
  },
  {
   "cell_type": "markdown",
   "metadata": {},
   "source": [
    "#### mangling \n",
    "-  piple line을 인스턴스하게 되면 각 파라미터이름이 변경됨.\n",
    "    - `클래스이름__하이퍼파라미터` ( 언더바 2개)\n",
    "    - 예.knn__n_neighbors"
   ]
  },
  {
   "cell_type": "code",
   "execution_count": 123,
   "metadata": {
    "scrolled": true
   },
   "outputs": [
    {
     "data": {
      "text/plain": [
       "{'memory': None,\n",
       " 'steps': [('ss', StandardScaler()), ('knn', KNeighborsClassifier())],\n",
       " 'verbose': False,\n",
       " 'ss': StandardScaler(),\n",
       " 'knn': KNeighborsClassifier(),\n",
       " 'ss__copy': True,\n",
       " 'ss__with_mean': True,\n",
       " 'ss__with_std': True,\n",
       " 'knn__algorithm': 'auto',\n",
       " 'knn__leaf_size': 30,\n",
       " 'knn__metric': 'minkowski',\n",
       " 'knn__metric_params': None,\n",
       " 'knn__n_jobs': None,\n",
       " 'knn__n_neighbors': 5,\n",
       " 'knn__p': 2,\n",
       " 'knn__weights': 'uniform'}"
      ]
     },
     "execution_count": 123,
     "metadata": {},
     "output_type": "execute_result"
    }
   ],
   "source": [
    "pipe.get_params()"
   ]
  },
  {
   "cell_type": "markdown",
   "metadata": {},
   "source": [
    "### GridSearchCV\n",
    "- 사이킷런에서 중요함.\n",
    "- estimator 의 하이퍼 파라미터를 **모든 경우의 수를 다 탐색**해서 그리트 형태로 찾아줌. \n",
    "- ` GridSearchCV(estimator= ,param_grid={'Hyper parameter1': 파라미터값 지정} ,cv= )`\n",
    "    - 머신러닝 기법의 최적의 파라미터값을 자동으로 찾아주기 떄문에 자동화가 가능"
   ]
  },
  {
   "cell_type": "code",
   "execution_count": 16,
   "metadata": {},
   "outputs": [],
   "source": [
    "from sklearn.model_selection import GridSearchCV"
   ]
  },
  {
   "cell_type": "markdown",
   "metadata": {},
   "source": [
    "### 1.하이퍼파라미터 비교\n",
    "사람들이 지정해야하는 성능에 영향을 주는 하이퍼 파라미터와 기계학습을 통해서 찾는 파라미터가 있음.\n",
    "\n",
    "#### KNeighborsClassifier"
   ]
  },
  {
   "cell_type": "code",
   "execution_count": 17,
   "metadata": {},
   "outputs": [
    {
     "data": {
      "text/plain": [
       "GridSearchCV(cv=10, error_score=nan,\n",
       "             estimator=KNeighborsClassifier(algorithm='auto', leaf_size=30,\n",
       "                                            metric='minkowski',\n",
       "                                            metric_params=None, n_jobs=None,\n",
       "                                            n_neighbors=5, p=2,\n",
       "                                            weights='uniform'),\n",
       "             iid='deprecated', n_jobs=None,\n",
       "             param_grid={'leaf_size': [10, 20, 30], 'n_neighbors': range(2, 7)},\n",
       "             pre_dispatch='2*n_jobs', refit=True, return_train_score=False,\n",
       "             scoring=None, verbose=0)"
      ]
     },
     "execution_count": 17,
     "metadata": {},
     "output_type": "execute_result"
    }
   ],
   "source": [
    "grid=GridSearchCV(estimator=KNeighborsClassifier(),\n",
    "                  param_grid={'n_neighbors':range(2,7),\n",
    "                   'leaf_size':[10,20,30]},   cv=10 ) #딕셔너리 형태\n",
    "grid.fit(wine.iloc[:,:-1],wine.target) #탐색"
   ]
  },
  {
   "cell_type": "markdown",
   "metadata": {},
   "source": [
    "####  cv_results_\n",
    "각 파라미터의 조합마다의 학습속도, 검정 결과와 테스트 데이터의 검정결과를 한번에 보여줌\n",
    "- 진행 시간, 정확도 각 파라미터간 교차검정 결과를 평균, 표준편차 값으로 보여줌\n",
    "\n",
    "맨 마지막에 랭킹으로 어떠한 파라미터일때 성능이 최고인지 한눈에봄\n",
    "- 가능한 모든 가능한 값의 결과값을 보여줌 "
   ]
  },
  {
   "cell_type": "markdown",
   "metadata": {},
   "source": [
    "깔끔하게 보기위해서 데이터 DataFrame형식에 행,열 위치를 바꾸어(transpose) 직관적으로 봄\n",
    "- leaf_size를 먼저 고정하고 n_neighbors의 값을 바꾸어서 모든 조합을 봄"
   ]
  },
  {
   "cell_type": "code",
   "execution_count": 51,
   "metadata": {},
   "outputs": [
    {
     "data": {
      "text/html": [
       "<div>\n",
       "<style scoped>\n",
       "    .dataframe tbody tr th:only-of-type {\n",
       "        vertical-align: middle;\n",
       "    }\n",
       "\n",
       "    .dataframe tbody tr th {\n",
       "        vertical-align: top;\n",
       "    }\n",
       "\n",
       "    .dataframe thead th {\n",
       "        text-align: right;\n",
       "    }\n",
       "</style>\n",
       "<table border=\"1\" class=\"dataframe\">\n",
       "  <thead>\n",
       "    <tr style=\"text-align: right;\">\n",
       "      <th></th>\n",
       "      <th>0</th>\n",
       "      <th>1</th>\n",
       "      <th>2</th>\n",
       "      <th>3</th>\n",
       "      <th>4</th>\n",
       "      <th>5</th>\n",
       "      <th>6</th>\n",
       "      <th>7</th>\n",
       "      <th>8</th>\n",
       "      <th>9</th>\n",
       "      <th>10</th>\n",
       "      <th>11</th>\n",
       "      <th>12</th>\n",
       "      <th>13</th>\n",
       "      <th>14</th>\n",
       "    </tr>\n",
       "  </thead>\n",
       "  <tbody>\n",
       "    <tr>\n",
       "      <th>mean_fit_time</th>\n",
       "      <td>0.00540624</td>\n",
       "      <td>0.00290325</td>\n",
       "      <td>0.00279484</td>\n",
       "      <td>0.00259786</td>\n",
       "      <td>0.00269971</td>\n",
       "      <td>0.00260751</td>\n",
       "      <td>0.0033108</td>\n",
       "      <td>0.00320084</td>\n",
       "      <td>0.00290072</td>\n",
       "      <td>0.00280249</td>\n",
       "      <td>0.00310075</td>\n",
       "      <td>0.00300057</td>\n",
       "      <td>0.00330288</td>\n",
       "      <td>0.00389099</td>\n",
       "      <td>0.00419722</td>\n",
       "    </tr>\n",
       "    <tr>\n",
       "      <th>std_fit_time</th>\n",
       "      <td>0.00195581</td>\n",
       "      <td>0.000301145</td>\n",
       "      <td>0.000598466</td>\n",
       "      <td>0.000480367</td>\n",
       "      <td>0.000450521</td>\n",
       "      <td>0.000490134</td>\n",
       "      <td>0.00111222</td>\n",
       "      <td>0.000864411</td>\n",
       "      <td>0.000683181</td>\n",
       "      <td>0.000601219</td>\n",
       "      <td>0.000699816</td>\n",
       "      <td>0.000632601</td>\n",
       "      <td>0.000462233</td>\n",
       "      <td>0.00150868</td>\n",
       "      <td>0.00198827</td>\n",
       "    </tr>\n",
       "    <tr>\n",
       "      <th>mean_score_time</th>\n",
       "      <td>0.00461121</td>\n",
       "      <td>0.00350387</td>\n",
       "      <td>0.00269985</td>\n",
       "      <td>0.00280039</td>\n",
       "      <td>0.00289781</td>\n",
       "      <td>0.00270302</td>\n",
       "      <td>0.00320723</td>\n",
       "      <td>0.00300183</td>\n",
       "      <td>0.00290287</td>\n",
       "      <td>0.0033077</td>\n",
       "      <td>0.00310037</td>\n",
       "      <td>0.00300052</td>\n",
       "      <td>0.00320072</td>\n",
       "      <td>0.00429244</td>\n",
       "      <td>0.00330973</td>\n",
       "    </tr>\n",
       "    <tr>\n",
       "      <th>std_score_time</th>\n",
       "      <td>0.00201334</td>\n",
       "      <td>0.00120949</td>\n",
       "      <td>0.000649404</td>\n",
       "      <td>0.000401523</td>\n",
       "      <td>0.000698604</td>\n",
       "      <td>0.000445132</td>\n",
       "      <td>0.00108665</td>\n",
       "      <td>0.000996726</td>\n",
       "      <td>0.000707453</td>\n",
       "      <td>0.000455035</td>\n",
       "      <td>0.000526464</td>\n",
       "      <td>0.000775982</td>\n",
       "      <td>0.000749696</td>\n",
       "      <td>0.00199923</td>\n",
       "      <td>0.00063431</td>\n",
       "    </tr>\n",
       "    <tr>\n",
       "      <th>param_leaf_size</th>\n",
       "      <td>10</td>\n",
       "      <td>10</td>\n",
       "      <td>10</td>\n",
       "      <td>10</td>\n",
       "      <td>10</td>\n",
       "      <td>20</td>\n",
       "      <td>20</td>\n",
       "      <td>20</td>\n",
       "      <td>20</td>\n",
       "      <td>20</td>\n",
       "      <td>30</td>\n",
       "      <td>30</td>\n",
       "      <td>30</td>\n",
       "      <td>30</td>\n",
       "      <td>30</td>\n",
       "    </tr>\n",
       "    <tr>\n",
       "      <th>param_n_neighbors</th>\n",
       "      <td>2</td>\n",
       "      <td>3</td>\n",
       "      <td>4</td>\n",
       "      <td>5</td>\n",
       "      <td>6</td>\n",
       "      <td>2</td>\n",
       "      <td>3</td>\n",
       "      <td>4</td>\n",
       "      <td>5</td>\n",
       "      <td>6</td>\n",
       "      <td>2</td>\n",
       "      <td>3</td>\n",
       "      <td>4</td>\n",
       "      <td>5</td>\n",
       "      <td>6</td>\n",
       "    </tr>\n",
       "    <tr>\n",
       "      <th>params</th>\n",
       "      <td>{'leaf_size': 10, 'n_neighbors': 2}</td>\n",
       "      <td>{'leaf_size': 10, 'n_neighbors': 3}</td>\n",
       "      <td>{'leaf_size': 10, 'n_neighbors': 4}</td>\n",
       "      <td>{'leaf_size': 10, 'n_neighbors': 5}</td>\n",
       "      <td>{'leaf_size': 10, 'n_neighbors': 6}</td>\n",
       "      <td>{'leaf_size': 20, 'n_neighbors': 2}</td>\n",
       "      <td>{'leaf_size': 20, 'n_neighbors': 3}</td>\n",
       "      <td>{'leaf_size': 20, 'n_neighbors': 4}</td>\n",
       "      <td>{'leaf_size': 20, 'n_neighbors': 5}</td>\n",
       "      <td>{'leaf_size': 20, 'n_neighbors': 6}</td>\n",
       "      <td>{'leaf_size': 30, 'n_neighbors': 2}</td>\n",
       "      <td>{'leaf_size': 30, 'n_neighbors': 3}</td>\n",
       "      <td>{'leaf_size': 30, 'n_neighbors': 4}</td>\n",
       "      <td>{'leaf_size': 30, 'n_neighbors': 5}</td>\n",
       "      <td>{'leaf_size': 30, 'n_neighbors': 6}</td>\n",
       "    </tr>\n",
       "    <tr>\n",
       "      <th>split0_test_score</th>\n",
       "      <td>0.555556</td>\n",
       "      <td>0.666667</td>\n",
       "      <td>0.666667</td>\n",
       "      <td>0.666667</td>\n",
       "      <td>0.666667</td>\n",
       "      <td>0.555556</td>\n",
       "      <td>0.666667</td>\n",
       "      <td>0.666667</td>\n",
       "      <td>0.666667</td>\n",
       "      <td>0.666667</td>\n",
       "      <td>0.555556</td>\n",
       "      <td>0.666667</td>\n",
       "      <td>0.666667</td>\n",
       "      <td>0.666667</td>\n",
       "      <td>0.666667</td>\n",
       "    </tr>\n",
       "    <tr>\n",
       "      <th>split1_test_score</th>\n",
       "      <td>0.666667</td>\n",
       "      <td>0.611111</td>\n",
       "      <td>0.666667</td>\n",
       "      <td>0.666667</td>\n",
       "      <td>0.722222</td>\n",
       "      <td>0.666667</td>\n",
       "      <td>0.611111</td>\n",
       "      <td>0.666667</td>\n",
       "      <td>0.666667</td>\n",
       "      <td>0.722222</td>\n",
       "      <td>0.666667</td>\n",
       "      <td>0.611111</td>\n",
       "      <td>0.666667</td>\n",
       "      <td>0.666667</td>\n",
       "      <td>0.722222</td>\n",
       "    </tr>\n",
       "    <tr>\n",
       "      <th>split2_test_score</th>\n",
       "      <td>0.555556</td>\n",
       "      <td>0.666667</td>\n",
       "      <td>0.611111</td>\n",
       "      <td>0.611111</td>\n",
       "      <td>0.611111</td>\n",
       "      <td>0.555556</td>\n",
       "      <td>0.666667</td>\n",
       "      <td>0.611111</td>\n",
       "      <td>0.611111</td>\n",
       "      <td>0.611111</td>\n",
       "      <td>0.555556</td>\n",
       "      <td>0.666667</td>\n",
       "      <td>0.611111</td>\n",
       "      <td>0.611111</td>\n",
       "      <td>0.611111</td>\n",
       "    </tr>\n",
       "    <tr>\n",
       "      <th>split3_test_score</th>\n",
       "      <td>0.611111</td>\n",
       "      <td>0.666667</td>\n",
       "      <td>0.611111</td>\n",
       "      <td>0.611111</td>\n",
       "      <td>0.555556</td>\n",
       "      <td>0.611111</td>\n",
       "      <td>0.666667</td>\n",
       "      <td>0.611111</td>\n",
       "      <td>0.611111</td>\n",
       "      <td>0.555556</td>\n",
       "      <td>0.611111</td>\n",
       "      <td>0.666667</td>\n",
       "      <td>0.611111</td>\n",
       "      <td>0.611111</td>\n",
       "      <td>0.555556</td>\n",
       "    </tr>\n",
       "    <tr>\n",
       "      <th>split4_test_score</th>\n",
       "      <td>0.611111</td>\n",
       "      <td>0.666667</td>\n",
       "      <td>0.611111</td>\n",
       "      <td>0.611111</td>\n",
       "      <td>0.666667</td>\n",
       "      <td>0.611111</td>\n",
       "      <td>0.666667</td>\n",
       "      <td>0.611111</td>\n",
       "      <td>0.611111</td>\n",
       "      <td>0.666667</td>\n",
       "      <td>0.611111</td>\n",
       "      <td>0.666667</td>\n",
       "      <td>0.611111</td>\n",
       "      <td>0.611111</td>\n",
       "      <td>0.666667</td>\n",
       "    </tr>\n",
       "    <tr>\n",
       "      <th>split5_test_score</th>\n",
       "      <td>0.666667</td>\n",
       "      <td>0.666667</td>\n",
       "      <td>0.611111</td>\n",
       "      <td>0.611111</td>\n",
       "      <td>0.611111</td>\n",
       "      <td>0.666667</td>\n",
       "      <td>0.666667</td>\n",
       "      <td>0.611111</td>\n",
       "      <td>0.611111</td>\n",
       "      <td>0.611111</td>\n",
       "      <td>0.666667</td>\n",
       "      <td>0.666667</td>\n",
       "      <td>0.611111</td>\n",
       "      <td>0.611111</td>\n",
       "      <td>0.611111</td>\n",
       "    </tr>\n",
       "    <tr>\n",
       "      <th>split6_test_score</th>\n",
       "      <td>0.777778</td>\n",
       "      <td>0.722222</td>\n",
       "      <td>0.611111</td>\n",
       "      <td>0.722222</td>\n",
       "      <td>0.666667</td>\n",
       "      <td>0.777778</td>\n",
       "      <td>0.722222</td>\n",
       "      <td>0.611111</td>\n",
       "      <td>0.722222</td>\n",
       "      <td>0.666667</td>\n",
       "      <td>0.777778</td>\n",
       "      <td>0.722222</td>\n",
       "      <td>0.611111</td>\n",
       "      <td>0.722222</td>\n",
       "      <td>0.666667</td>\n",
       "    </tr>\n",
       "    <tr>\n",
       "      <th>split7_test_score</th>\n",
       "      <td>0.666667</td>\n",
       "      <td>0.777778</td>\n",
       "      <td>0.611111</td>\n",
       "      <td>0.666667</td>\n",
       "      <td>0.555556</td>\n",
       "      <td>0.666667</td>\n",
       "      <td>0.777778</td>\n",
       "      <td>0.611111</td>\n",
       "      <td>0.666667</td>\n",
       "      <td>0.555556</td>\n",
       "      <td>0.666667</td>\n",
       "      <td>0.777778</td>\n",
       "      <td>0.611111</td>\n",
       "      <td>0.666667</td>\n",
       "      <td>0.555556</td>\n",
       "    </tr>\n",
       "    <tr>\n",
       "      <th>split8_test_score</th>\n",
       "      <td>0.823529</td>\n",
       "      <td>0.882353</td>\n",
       "      <td>0.823529</td>\n",
       "      <td>0.823529</td>\n",
       "      <td>0.823529</td>\n",
       "      <td>0.823529</td>\n",
       "      <td>0.882353</td>\n",
       "      <td>0.823529</td>\n",
       "      <td>0.823529</td>\n",
       "      <td>0.823529</td>\n",
       "      <td>0.823529</td>\n",
       "      <td>0.882353</td>\n",
       "      <td>0.823529</td>\n",
       "      <td>0.823529</td>\n",
       "      <td>0.823529</td>\n",
       "    </tr>\n",
       "    <tr>\n",
       "      <th>split9_test_score</th>\n",
       "      <td>0.764706</td>\n",
       "      <td>0.882353</td>\n",
       "      <td>0.823529</td>\n",
       "      <td>0.764706</td>\n",
       "      <td>0.823529</td>\n",
       "      <td>0.764706</td>\n",
       "      <td>0.882353</td>\n",
       "      <td>0.823529</td>\n",
       "      <td>0.764706</td>\n",
       "      <td>0.823529</td>\n",
       "      <td>0.764706</td>\n",
       "      <td>0.882353</td>\n",
       "      <td>0.823529</td>\n",
       "      <td>0.764706</td>\n",
       "      <td>0.823529</td>\n",
       "    </tr>\n",
       "    <tr>\n",
       "      <th>mean_test_score</th>\n",
       "      <td>0.669935</td>\n",
       "      <td>0.720915</td>\n",
       "      <td>0.664706</td>\n",
       "      <td>0.67549</td>\n",
       "      <td>0.670261</td>\n",
       "      <td>0.669935</td>\n",
       "      <td>0.720915</td>\n",
       "      <td>0.664706</td>\n",
       "      <td>0.67549</td>\n",
       "      <td>0.670261</td>\n",
       "      <td>0.669935</td>\n",
       "      <td>0.720915</td>\n",
       "      <td>0.664706</td>\n",
       "      <td>0.67549</td>\n",
       "      <td>0.670261</td>\n",
       "    </tr>\n",
       "    <tr>\n",
       "      <th>std_test_score</th>\n",
       "      <td>0.0879322</td>\n",
       "      <td>0.090626</td>\n",
       "      <td>0.0822751</td>\n",
       "      <td>0.0699079</td>\n",
       "      <td>0.0911226</td>\n",
       "      <td>0.0879322</td>\n",
       "      <td>0.090626</td>\n",
       "      <td>0.0822751</td>\n",
       "      <td>0.0699079</td>\n",
       "      <td>0.0911226</td>\n",
       "      <td>0.0879322</td>\n",
       "      <td>0.090626</td>\n",
       "      <td>0.0822751</td>\n",
       "      <td>0.0699079</td>\n",
       "      <td>0.0911226</td>\n",
       "    </tr>\n",
       "    <tr>\n",
       "      <th>rank_test_score</th>\n",
       "      <td>10</td>\n",
       "      <td>1</td>\n",
       "      <td>13</td>\n",
       "      <td>4</td>\n",
       "      <td>7</td>\n",
       "      <td>10</td>\n",
       "      <td>1</td>\n",
       "      <td>13</td>\n",
       "      <td>4</td>\n",
       "      <td>7</td>\n",
       "      <td>10</td>\n",
       "      <td>1</td>\n",
       "      <td>13</td>\n",
       "      <td>4</td>\n",
       "      <td>7</td>\n",
       "    </tr>\n",
       "  </tbody>\n",
       "</table>\n",
       "</div>"
      ],
      "text/plain": [
       "                                                     0  \\\n",
       "mean_fit_time                               0.00540624   \n",
       "std_fit_time                                0.00195581   \n",
       "mean_score_time                             0.00461121   \n",
       "std_score_time                              0.00201334   \n",
       "param_leaf_size                                     10   \n",
       "param_n_neighbors                                    2   \n",
       "params             {'leaf_size': 10, 'n_neighbors': 2}   \n",
       "split0_test_score                             0.555556   \n",
       "split1_test_score                             0.666667   \n",
       "split2_test_score                             0.555556   \n",
       "split3_test_score                             0.611111   \n",
       "split4_test_score                             0.611111   \n",
       "split5_test_score                             0.666667   \n",
       "split6_test_score                             0.777778   \n",
       "split7_test_score                             0.666667   \n",
       "split8_test_score                             0.823529   \n",
       "split9_test_score                             0.764706   \n",
       "mean_test_score                               0.669935   \n",
       "std_test_score                               0.0879322   \n",
       "rank_test_score                                     10   \n",
       "\n",
       "                                                     1  \\\n",
       "mean_fit_time                               0.00290325   \n",
       "std_fit_time                               0.000301145   \n",
       "mean_score_time                             0.00350387   \n",
       "std_score_time                              0.00120949   \n",
       "param_leaf_size                                     10   \n",
       "param_n_neighbors                                    3   \n",
       "params             {'leaf_size': 10, 'n_neighbors': 3}   \n",
       "split0_test_score                             0.666667   \n",
       "split1_test_score                             0.611111   \n",
       "split2_test_score                             0.666667   \n",
       "split3_test_score                             0.666667   \n",
       "split4_test_score                             0.666667   \n",
       "split5_test_score                             0.666667   \n",
       "split6_test_score                             0.722222   \n",
       "split7_test_score                             0.777778   \n",
       "split8_test_score                             0.882353   \n",
       "split9_test_score                             0.882353   \n",
       "mean_test_score                               0.720915   \n",
       "std_test_score                                0.090626   \n",
       "rank_test_score                                      1   \n",
       "\n",
       "                                                     2  \\\n",
       "mean_fit_time                               0.00279484   \n",
       "std_fit_time                               0.000598466   \n",
       "mean_score_time                             0.00269985   \n",
       "std_score_time                             0.000649404   \n",
       "param_leaf_size                                     10   \n",
       "param_n_neighbors                                    4   \n",
       "params             {'leaf_size': 10, 'n_neighbors': 4}   \n",
       "split0_test_score                             0.666667   \n",
       "split1_test_score                             0.666667   \n",
       "split2_test_score                             0.611111   \n",
       "split3_test_score                             0.611111   \n",
       "split4_test_score                             0.611111   \n",
       "split5_test_score                             0.611111   \n",
       "split6_test_score                             0.611111   \n",
       "split7_test_score                             0.611111   \n",
       "split8_test_score                             0.823529   \n",
       "split9_test_score                             0.823529   \n",
       "mean_test_score                               0.664706   \n",
       "std_test_score                               0.0822751   \n",
       "rank_test_score                                     13   \n",
       "\n",
       "                                                     3  \\\n",
       "mean_fit_time                               0.00259786   \n",
       "std_fit_time                               0.000480367   \n",
       "mean_score_time                             0.00280039   \n",
       "std_score_time                             0.000401523   \n",
       "param_leaf_size                                     10   \n",
       "param_n_neighbors                                    5   \n",
       "params             {'leaf_size': 10, 'n_neighbors': 5}   \n",
       "split0_test_score                             0.666667   \n",
       "split1_test_score                             0.666667   \n",
       "split2_test_score                             0.611111   \n",
       "split3_test_score                             0.611111   \n",
       "split4_test_score                             0.611111   \n",
       "split5_test_score                             0.611111   \n",
       "split6_test_score                             0.722222   \n",
       "split7_test_score                             0.666667   \n",
       "split8_test_score                             0.823529   \n",
       "split9_test_score                             0.764706   \n",
       "mean_test_score                                0.67549   \n",
       "std_test_score                               0.0699079   \n",
       "rank_test_score                                      4   \n",
       "\n",
       "                                                     4  \\\n",
       "mean_fit_time                               0.00269971   \n",
       "std_fit_time                               0.000450521   \n",
       "mean_score_time                             0.00289781   \n",
       "std_score_time                             0.000698604   \n",
       "param_leaf_size                                     10   \n",
       "param_n_neighbors                                    6   \n",
       "params             {'leaf_size': 10, 'n_neighbors': 6}   \n",
       "split0_test_score                             0.666667   \n",
       "split1_test_score                             0.722222   \n",
       "split2_test_score                             0.611111   \n",
       "split3_test_score                             0.555556   \n",
       "split4_test_score                             0.666667   \n",
       "split5_test_score                             0.611111   \n",
       "split6_test_score                             0.666667   \n",
       "split7_test_score                             0.555556   \n",
       "split8_test_score                             0.823529   \n",
       "split9_test_score                             0.823529   \n",
       "mean_test_score                               0.670261   \n",
       "std_test_score                               0.0911226   \n",
       "rank_test_score                                      7   \n",
       "\n",
       "                                                     5  \\\n",
       "mean_fit_time                               0.00260751   \n",
       "std_fit_time                               0.000490134   \n",
       "mean_score_time                             0.00270302   \n",
       "std_score_time                             0.000445132   \n",
       "param_leaf_size                                     20   \n",
       "param_n_neighbors                                    2   \n",
       "params             {'leaf_size': 20, 'n_neighbors': 2}   \n",
       "split0_test_score                             0.555556   \n",
       "split1_test_score                             0.666667   \n",
       "split2_test_score                             0.555556   \n",
       "split3_test_score                             0.611111   \n",
       "split4_test_score                             0.611111   \n",
       "split5_test_score                             0.666667   \n",
       "split6_test_score                             0.777778   \n",
       "split7_test_score                             0.666667   \n",
       "split8_test_score                             0.823529   \n",
       "split9_test_score                             0.764706   \n",
       "mean_test_score                               0.669935   \n",
       "std_test_score                               0.0879322   \n",
       "rank_test_score                                     10   \n",
       "\n",
       "                                                     6  \\\n",
       "mean_fit_time                                0.0033108   \n",
       "std_fit_time                                0.00111222   \n",
       "mean_score_time                             0.00320723   \n",
       "std_score_time                              0.00108665   \n",
       "param_leaf_size                                     20   \n",
       "param_n_neighbors                                    3   \n",
       "params             {'leaf_size': 20, 'n_neighbors': 3}   \n",
       "split0_test_score                             0.666667   \n",
       "split1_test_score                             0.611111   \n",
       "split2_test_score                             0.666667   \n",
       "split3_test_score                             0.666667   \n",
       "split4_test_score                             0.666667   \n",
       "split5_test_score                             0.666667   \n",
       "split6_test_score                             0.722222   \n",
       "split7_test_score                             0.777778   \n",
       "split8_test_score                             0.882353   \n",
       "split9_test_score                             0.882353   \n",
       "mean_test_score                               0.720915   \n",
       "std_test_score                                0.090626   \n",
       "rank_test_score                                      1   \n",
       "\n",
       "                                                     7  \\\n",
       "mean_fit_time                               0.00320084   \n",
       "std_fit_time                               0.000864411   \n",
       "mean_score_time                             0.00300183   \n",
       "std_score_time                             0.000996726   \n",
       "param_leaf_size                                     20   \n",
       "param_n_neighbors                                    4   \n",
       "params             {'leaf_size': 20, 'n_neighbors': 4}   \n",
       "split0_test_score                             0.666667   \n",
       "split1_test_score                             0.666667   \n",
       "split2_test_score                             0.611111   \n",
       "split3_test_score                             0.611111   \n",
       "split4_test_score                             0.611111   \n",
       "split5_test_score                             0.611111   \n",
       "split6_test_score                             0.611111   \n",
       "split7_test_score                             0.611111   \n",
       "split8_test_score                             0.823529   \n",
       "split9_test_score                             0.823529   \n",
       "mean_test_score                               0.664706   \n",
       "std_test_score                               0.0822751   \n",
       "rank_test_score                                     13   \n",
       "\n",
       "                                                     8  \\\n",
       "mean_fit_time                               0.00290072   \n",
       "std_fit_time                               0.000683181   \n",
       "mean_score_time                             0.00290287   \n",
       "std_score_time                             0.000707453   \n",
       "param_leaf_size                                     20   \n",
       "param_n_neighbors                                    5   \n",
       "params             {'leaf_size': 20, 'n_neighbors': 5}   \n",
       "split0_test_score                             0.666667   \n",
       "split1_test_score                             0.666667   \n",
       "split2_test_score                             0.611111   \n",
       "split3_test_score                             0.611111   \n",
       "split4_test_score                             0.611111   \n",
       "split5_test_score                             0.611111   \n",
       "split6_test_score                             0.722222   \n",
       "split7_test_score                             0.666667   \n",
       "split8_test_score                             0.823529   \n",
       "split9_test_score                             0.764706   \n",
       "mean_test_score                                0.67549   \n",
       "std_test_score                               0.0699079   \n",
       "rank_test_score                                      4   \n",
       "\n",
       "                                                     9  \\\n",
       "mean_fit_time                               0.00280249   \n",
       "std_fit_time                               0.000601219   \n",
       "mean_score_time                              0.0033077   \n",
       "std_score_time                             0.000455035   \n",
       "param_leaf_size                                     20   \n",
       "param_n_neighbors                                    6   \n",
       "params             {'leaf_size': 20, 'n_neighbors': 6}   \n",
       "split0_test_score                             0.666667   \n",
       "split1_test_score                             0.722222   \n",
       "split2_test_score                             0.611111   \n",
       "split3_test_score                             0.555556   \n",
       "split4_test_score                             0.666667   \n",
       "split5_test_score                             0.611111   \n",
       "split6_test_score                             0.666667   \n",
       "split7_test_score                             0.555556   \n",
       "split8_test_score                             0.823529   \n",
       "split9_test_score                             0.823529   \n",
       "mean_test_score                               0.670261   \n",
       "std_test_score                               0.0911226   \n",
       "rank_test_score                                      7   \n",
       "\n",
       "                                                    10  \\\n",
       "mean_fit_time                               0.00310075   \n",
       "std_fit_time                               0.000699816   \n",
       "mean_score_time                             0.00310037   \n",
       "std_score_time                             0.000526464   \n",
       "param_leaf_size                                     30   \n",
       "param_n_neighbors                                    2   \n",
       "params             {'leaf_size': 30, 'n_neighbors': 2}   \n",
       "split0_test_score                             0.555556   \n",
       "split1_test_score                             0.666667   \n",
       "split2_test_score                             0.555556   \n",
       "split3_test_score                             0.611111   \n",
       "split4_test_score                             0.611111   \n",
       "split5_test_score                             0.666667   \n",
       "split6_test_score                             0.777778   \n",
       "split7_test_score                             0.666667   \n",
       "split8_test_score                             0.823529   \n",
       "split9_test_score                             0.764706   \n",
       "mean_test_score                               0.669935   \n",
       "std_test_score                               0.0879322   \n",
       "rank_test_score                                     10   \n",
       "\n",
       "                                                    11  \\\n",
       "mean_fit_time                               0.00300057   \n",
       "std_fit_time                               0.000632601   \n",
       "mean_score_time                             0.00300052   \n",
       "std_score_time                             0.000775982   \n",
       "param_leaf_size                                     30   \n",
       "param_n_neighbors                                    3   \n",
       "params             {'leaf_size': 30, 'n_neighbors': 3}   \n",
       "split0_test_score                             0.666667   \n",
       "split1_test_score                             0.611111   \n",
       "split2_test_score                             0.666667   \n",
       "split3_test_score                             0.666667   \n",
       "split4_test_score                             0.666667   \n",
       "split5_test_score                             0.666667   \n",
       "split6_test_score                             0.722222   \n",
       "split7_test_score                             0.777778   \n",
       "split8_test_score                             0.882353   \n",
       "split9_test_score                             0.882353   \n",
       "mean_test_score                               0.720915   \n",
       "std_test_score                                0.090626   \n",
       "rank_test_score                                      1   \n",
       "\n",
       "                                                    12  \\\n",
       "mean_fit_time                               0.00330288   \n",
       "std_fit_time                               0.000462233   \n",
       "mean_score_time                             0.00320072   \n",
       "std_score_time                             0.000749696   \n",
       "param_leaf_size                                     30   \n",
       "param_n_neighbors                                    4   \n",
       "params             {'leaf_size': 30, 'n_neighbors': 4}   \n",
       "split0_test_score                             0.666667   \n",
       "split1_test_score                             0.666667   \n",
       "split2_test_score                             0.611111   \n",
       "split3_test_score                             0.611111   \n",
       "split4_test_score                             0.611111   \n",
       "split5_test_score                             0.611111   \n",
       "split6_test_score                             0.611111   \n",
       "split7_test_score                             0.611111   \n",
       "split8_test_score                             0.823529   \n",
       "split9_test_score                             0.823529   \n",
       "mean_test_score                               0.664706   \n",
       "std_test_score                               0.0822751   \n",
       "rank_test_score                                     13   \n",
       "\n",
       "                                                    13  \\\n",
       "mean_fit_time                               0.00389099   \n",
       "std_fit_time                                0.00150868   \n",
       "mean_score_time                             0.00429244   \n",
       "std_score_time                              0.00199923   \n",
       "param_leaf_size                                     30   \n",
       "param_n_neighbors                                    5   \n",
       "params             {'leaf_size': 30, 'n_neighbors': 5}   \n",
       "split0_test_score                             0.666667   \n",
       "split1_test_score                             0.666667   \n",
       "split2_test_score                             0.611111   \n",
       "split3_test_score                             0.611111   \n",
       "split4_test_score                             0.611111   \n",
       "split5_test_score                             0.611111   \n",
       "split6_test_score                             0.722222   \n",
       "split7_test_score                             0.666667   \n",
       "split8_test_score                             0.823529   \n",
       "split9_test_score                             0.764706   \n",
       "mean_test_score                                0.67549   \n",
       "std_test_score                               0.0699079   \n",
       "rank_test_score                                      4   \n",
       "\n",
       "                                                    14  \n",
       "mean_fit_time                               0.00419722  \n",
       "std_fit_time                                0.00198827  \n",
       "mean_score_time                             0.00330973  \n",
       "std_score_time                              0.00063431  \n",
       "param_leaf_size                                     30  \n",
       "param_n_neighbors                                    6  \n",
       "params             {'leaf_size': 30, 'n_neighbors': 6}  \n",
       "split0_test_score                             0.666667  \n",
       "split1_test_score                             0.722222  \n",
       "split2_test_score                             0.611111  \n",
       "split3_test_score                             0.555556  \n",
       "split4_test_score                             0.666667  \n",
       "split5_test_score                             0.611111  \n",
       "split6_test_score                             0.666667  \n",
       "split7_test_score                             0.555556  \n",
       "split8_test_score                             0.823529  \n",
       "split9_test_score                             0.823529  \n",
       "mean_test_score                               0.670261  \n",
       "std_test_score                               0.0911226  \n",
       "rank_test_score                                      7  "
      ]
     },
     "execution_count": 51,
     "metadata": {},
     "output_type": "execute_result"
    }
   ],
   "source": [
    "pd.DataFrame(grid.cv_results_).T"
   ]
  },
  {
   "cell_type": "markdown",
   "metadata": {},
   "source": [
    "#### best_estimator_\n",
    "#### best_params_\n",
    "- 최고의 성능을 가져다 주는 파라미터 조합을 보여줌.\n",
    " - {'leaf_size': 10, 'n_neighbors': 3} 일때 성능이 가장 좋음"
   ]
  },
  {
   "cell_type": "code",
   "execution_count": 52,
   "metadata": {},
   "outputs": [
    {
     "data": {
      "text/plain": [
       "KNeighborsClassifier(leaf_size=10, n_neighbors=3)"
      ]
     },
     "execution_count": 52,
     "metadata": {},
     "output_type": "execute_result"
    }
   ],
   "source": [
    "grid.best_estimator_"
   ]
  },
  {
   "cell_type": "code",
   "execution_count": 54,
   "metadata": {
    "scrolled": false
   },
   "outputs": [
    {
     "data": {
      "text/plain": [
       "{'leaf_size': 10, 'n_neighbors': 3}"
      ]
     },
     "execution_count": 54,
     "metadata": {},
     "output_type": "execute_result"
    }
   ],
   "source": [
    "grid.best_params_ # 파라미터 쉽게 찾음"
   ]
  },
  {
   "cell_type": "markdown",
   "metadata": {},
   "source": [
    "#### best_index_\n",
    "- 최고의 성능을 가져다 주는 파라미터 조합의 인덱스 위치 \n",
    " - {'leaf_size': 10, 'n_neighbors': 3}는 1번 인덱스"
   ]
  },
  {
   "cell_type": "code",
   "execution_count": 53,
   "metadata": {},
   "outputs": [
    {
     "data": {
      "text/plain": [
       "1"
      ]
     },
     "execution_count": 53,
     "metadata": {},
     "output_type": "execute_result"
    }
   ],
   "source": [
    "grid.best_index_ "
   ]
  },
  {
   "cell_type": "markdown",
   "metadata": {},
   "source": [
    "#### best_score_\n",
    "- 최고의 성능을 가져다 주는 파라미터 조합의 인덱스 위치 \n",
    " - {'leaf_size': 10, 'n_neighbors': 3}는 의 mean_test_score 검정 결과"
   ]
  },
  {
   "cell_type": "code",
   "execution_count": 55,
   "metadata": {},
   "outputs": [
    {
     "data": {
      "text/plain": [
       "0.7209150326797384"
      ]
     },
     "execution_count": 55,
     "metadata": {},
     "output_type": "execute_result"
    }
   ],
   "source": [
    "grid.best_score_ #가장 높은 검정결과"
   ]
  },
  {
   "cell_type": "markdown",
   "metadata": {},
   "source": [
    "cross validation 10번을 실행한 값들의 평균을 for문으로 확인\n",
    "- 3번째가 0.72로 제일 높음"
   ]
  },
  {
   "cell_type": "code",
   "execution_count": 20,
   "metadata": {
    "scrolled": false
   },
   "outputs": [
    {
     "name": "stdout",
     "output_type": "stream",
     "text": [
      "2 0.6699346405228759\n",
      "3 0.7209150326797384\n",
      "4 0.6647058823529411\n",
      "5 0.6754901960784313\n",
      "6 0.6702614379084967\n",
      "7 0.669607843137255\n",
      "8 0.7088235294117646\n",
      "9 0.6977124183006536\n"
     ]
    }
   ],
   "source": [
    "for i in range(2,10):\n",
    "    x=cross_val_score(KNeighborsClassifier(i),wine.iloc[:,:-1],wine.target,cv=10)\n",
    "    print(i,x.mean()) #best_score_와 동일 "
   ]
  },
  {
   "cell_type": "markdown",
   "metadata": {},
   "source": [
    "자동화의 핵심\n",
    "\n",
    "- 파이프 라인까지 붙이면 전처리까지 한번에 가능\n",
    "- 알고리즘별로 가능\n",
    "- 전체 컬럼을 전체 다사용 -> 컬럼만 하는애 쓸거 column transformer"
   ]
  },
  {
   "cell_type": "markdown",
   "metadata": {},
   "source": [
    "####     LogisticRegression\n",
    " C를 크게할수록 모델을 복잡하게 만들지 않음(단순화됨)"
   ]
  },
  {
   "cell_type": "code",
   "execution_count": 27,
   "metadata": {},
   "outputs": [],
   "source": [
    "from sklearn.linear_model import LogisticRegression"
   ]
  },
  {
   "cell_type": "code",
   "execution_count": 84,
   "metadata": {},
   "outputs": [
    {
     "data": {
      "text/plain": [
       "GridSearchCV(cv=10, estimator=LogisticRegression(max_iter=10000),\n",
       "             param_grid={'C': [0.5, 1, 1.5]})"
      ]
     },
     "execution_count": 84,
     "metadata": {},
     "output_type": "execute_result"
    }
   ],
   "source": [
    "grid2= GridSearchCV(LogisticRegression(max_iter=10000),\n",
    "                    {'C':[0.5 ,1,1.5 ]},cv=10)\n",
    "#convergence warning 수렴하지 않음.  반복해서 값을 찾기 떄문에..\n",
    "grid2.fit(wine.iloc[:,:-1],wine.target)"
   ]
  },
  {
   "cell_type": "markdown",
   "metadata": {},
   "source": [
    "- C가 클수록 복잡한 모델이 됨\n",
    "- 성능은 좋아지지만 과대적합문제 (overfiting) 가능성이 높아짐\n",
    "- 이데이터에 잘 맞는 모델임을 알 수 있음"
   ]
  },
  {
   "cell_type": "code",
   "execution_count": 85,
   "metadata": {},
   "outputs": [
    {
     "data": {
      "text/html": [
       "<div>\n",
       "<style scoped>\n",
       "    .dataframe tbody tr th:only-of-type {\n",
       "        vertical-align: middle;\n",
       "    }\n",
       "\n",
       "    .dataframe tbody tr th {\n",
       "        vertical-align: top;\n",
       "    }\n",
       "\n",
       "    .dataframe thead th {\n",
       "        text-align: right;\n",
       "    }\n",
       "</style>\n",
       "<table border=\"1\" class=\"dataframe\">\n",
       "  <thead>\n",
       "    <tr style=\"text-align: right;\">\n",
       "      <th></th>\n",
       "      <th>0</th>\n",
       "      <th>1</th>\n",
       "      <th>2</th>\n",
       "    </tr>\n",
       "  </thead>\n",
       "  <tbody>\n",
       "    <tr>\n",
       "      <th>mean_fit_time</th>\n",
       "      <td>0.551756</td>\n",
       "      <td>0.832004</td>\n",
       "      <td>0.865991</td>\n",
       "    </tr>\n",
       "    <tr>\n",
       "      <th>std_fit_time</th>\n",
       "      <td>0.0577886</td>\n",
       "      <td>0.12501</td>\n",
       "      <td>0.236895</td>\n",
       "    </tr>\n",
       "    <tr>\n",
       "      <th>mean_score_time</th>\n",
       "      <td>0.0024977</td>\n",
       "      <td>0.00219641</td>\n",
       "      <td>0.00230582</td>\n",
       "    </tr>\n",
       "    <tr>\n",
       "      <th>std_score_time</th>\n",
       "      <td>0.000665753</td>\n",
       "      <td>0.000862448</td>\n",
       "      <td>0.000776641</td>\n",
       "    </tr>\n",
       "    <tr>\n",
       "      <th>param_C</th>\n",
       "      <td>0.5</td>\n",
       "      <td>1</td>\n",
       "      <td>1.5</td>\n",
       "    </tr>\n",
       "    <tr>\n",
       "      <th>params</th>\n",
       "      <td>{'C': 0.5}</td>\n",
       "      <td>{'C': 1}</td>\n",
       "      <td>{'C': 1.5}</td>\n",
       "    </tr>\n",
       "    <tr>\n",
       "      <th>split0_test_score</th>\n",
       "      <td>0.888889</td>\n",
       "      <td>0.944444</td>\n",
       "      <td>0.944444</td>\n",
       "    </tr>\n",
       "    <tr>\n",
       "      <th>split1_test_score</th>\n",
       "      <td>1</td>\n",
       "      <td>0.944444</td>\n",
       "      <td>0.944444</td>\n",
       "    </tr>\n",
       "    <tr>\n",
       "      <th>split2_test_score</th>\n",
       "      <td>0.888889</td>\n",
       "      <td>0.888889</td>\n",
       "      <td>0.944444</td>\n",
       "    </tr>\n",
       "    <tr>\n",
       "      <th>split3_test_score</th>\n",
       "      <td>0.944444</td>\n",
       "      <td>0.944444</td>\n",
       "      <td>0.944444</td>\n",
       "    </tr>\n",
       "    <tr>\n",
       "      <th>split4_test_score</th>\n",
       "      <td>0.944444</td>\n",
       "      <td>0.944444</td>\n",
       "      <td>0.944444</td>\n",
       "    </tr>\n",
       "    <tr>\n",
       "      <th>split5_test_score</th>\n",
       "      <td>0.944444</td>\n",
       "      <td>0.944444</td>\n",
       "      <td>0.944444</td>\n",
       "    </tr>\n",
       "    <tr>\n",
       "      <th>split6_test_score</th>\n",
       "      <td>1</td>\n",
       "      <td>1</td>\n",
       "      <td>1</td>\n",
       "    </tr>\n",
       "    <tr>\n",
       "      <th>split7_test_score</th>\n",
       "      <td>1</td>\n",
       "      <td>1</td>\n",
       "      <td>1</td>\n",
       "    </tr>\n",
       "    <tr>\n",
       "      <th>split8_test_score</th>\n",
       "      <td>1</td>\n",
       "      <td>1</td>\n",
       "      <td>1</td>\n",
       "    </tr>\n",
       "    <tr>\n",
       "      <th>split9_test_score</th>\n",
       "      <td>1</td>\n",
       "      <td>1</td>\n",
       "      <td>1</td>\n",
       "    </tr>\n",
       "    <tr>\n",
       "      <th>mean_test_score</th>\n",
       "      <td>0.961111</td>\n",
       "      <td>0.961111</td>\n",
       "      <td>0.966667</td>\n",
       "    </tr>\n",
       "    <tr>\n",
       "      <th>std_test_score</th>\n",
       "      <td>0.0433903</td>\n",
       "      <td>0.0355729</td>\n",
       "      <td>0.0272166</td>\n",
       "    </tr>\n",
       "    <tr>\n",
       "      <th>rank_test_score</th>\n",
       "      <td>2</td>\n",
       "      <td>2</td>\n",
       "      <td>1</td>\n",
       "    </tr>\n",
       "  </tbody>\n",
       "</table>\n",
       "</div>"
      ],
      "text/plain": [
       "                             0            1            2\n",
       "mean_fit_time         0.551756     0.832004     0.865991\n",
       "std_fit_time         0.0577886      0.12501     0.236895\n",
       "mean_score_time      0.0024977   0.00219641   0.00230582\n",
       "std_score_time     0.000665753  0.000862448  0.000776641\n",
       "param_C                    0.5            1          1.5\n",
       "params              {'C': 0.5}     {'C': 1}   {'C': 1.5}\n",
       "split0_test_score     0.888889     0.944444     0.944444\n",
       "split1_test_score            1     0.944444     0.944444\n",
       "split2_test_score     0.888889     0.888889     0.944444\n",
       "split3_test_score     0.944444     0.944444     0.944444\n",
       "split4_test_score     0.944444     0.944444     0.944444\n",
       "split5_test_score     0.944444     0.944444     0.944444\n",
       "split6_test_score            1            1            1\n",
       "split7_test_score            1            1            1\n",
       "split8_test_score            1            1            1\n",
       "split9_test_score            1            1            1\n",
       "mean_test_score       0.961111     0.961111     0.966667\n",
       "std_test_score       0.0433903    0.0355729    0.0272166\n",
       "rank_test_score              2            2            1"
      ]
     },
     "execution_count": 85,
     "metadata": {},
     "output_type": "execute_result"
    }
   ],
   "source": [
    "pd.DataFrame(grid2.cv_results_).T"
   ]
  },
  {
   "cell_type": "code",
   "execution_count": 86,
   "metadata": {},
   "outputs": [
    {
     "data": {
      "text/plain": [
       "0.9666666666666666"
      ]
     },
     "execution_count": 86,
     "metadata": {},
     "output_type": "execute_result"
    }
   ],
   "source": [
    "grid2.best_score_"
   ]
  },
  {
   "cell_type": "code",
   "execution_count": 87,
   "metadata": {},
   "outputs": [
    {
     "data": {
      "text/plain": [
       "{'C': 1.5}"
      ]
     },
     "execution_count": 87,
     "metadata": {},
     "output_type": "execute_result"
    }
   ],
   "source": [
    "grid2.best_params_"
   ]
  },
  {
   "cell_type": "markdown",
   "metadata": {},
   "source": [
    "#### DecisionTreeClassifier"
   ]
  },
  {
   "cell_type": "code",
   "execution_count": 20,
   "metadata": {},
   "outputs": [],
   "source": [
    "from sklearn.tree import DecisionTreeClassifier"
   ]
  },
  {
   "cell_type": "code",
   "execution_count": 56,
   "metadata": {},
   "outputs": [
    {
     "data": {
      "text/plain": [
       "{'ccp_alpha': 0.0,\n",
       " 'class_weight': None,\n",
       " 'criterion': 'gini',\n",
       " 'max_depth': None,\n",
       " 'max_features': None,\n",
       " 'max_leaf_nodes': None,\n",
       " 'min_impurity_decrease': 0.0,\n",
       " 'min_impurity_split': None,\n",
       " 'min_samples_leaf': 1,\n",
       " 'min_samples_split': 2,\n",
       " 'min_weight_fraction_leaf': 0.0,\n",
       " 'presort': 'deprecated',\n",
       " 'random_state': None,\n",
       " 'splitter': 'best'}"
      ]
     },
     "execution_count": 56,
     "metadata": {},
     "output_type": "execute_result"
    }
   ],
   "source": [
    "dt=DecisionTreeClassifier()\n",
    "dt.get_params()"
   ]
  },
  {
   "cell_type": "code",
   "execution_count": 108,
   "metadata": {},
   "outputs": [],
   "source": [
    "grid3= GridSearchCV(DecisionTreeClassifier(),\n",
    "                    {'max_depth':range(6)},cv=10)      "
   ]
  },
  {
   "cell_type": "code",
   "execution_count": 109,
   "metadata": {},
   "outputs": [
    {
     "name": "stderr",
     "output_type": "stream",
     "text": [
      "C:\\Users\\AI02\\AppData\\Roaming\\Python\\Python37\\site-packages\\sklearn\\model_selection\\_validation.py:552: FitFailedWarning: Estimator fit failed. The score on this train-test partition for these parameters will be set to nan. Details: \n",
      "Traceback (most recent call last):\n",
      "  File \"C:\\Users\\AI02\\AppData\\Roaming\\Python\\Python37\\site-packages\\sklearn\\model_selection\\_validation.py\", line 531, in _fit_and_score\n",
      "    estimator.fit(X_train, y_train, **fit_params)\n",
      "  File \"C:\\Users\\AI02\\AppData\\Roaming\\Python\\Python37\\site-packages\\sklearn\\tree\\_classes.py\", line 894, in fit\n",
      "    X_idx_sorted=X_idx_sorted)\n",
      "  File \"C:\\Users\\AI02\\AppData\\Roaming\\Python\\Python37\\site-packages\\sklearn\\tree\\_classes.py\", line 277, in fit\n",
      "    raise ValueError(\"max_depth must be greater than zero. \")\n",
      "ValueError: max_depth must be greater than zero. \n",
      "\n",
      "  FitFailedWarning)\n",
      "C:\\Users\\AI02\\AppData\\Roaming\\Python\\Python37\\site-packages\\sklearn\\model_selection\\_validation.py:552: FitFailedWarning: Estimator fit failed. The score on this train-test partition for these parameters will be set to nan. Details: \n",
      "Traceback (most recent call last):\n",
      "  File \"C:\\Users\\AI02\\AppData\\Roaming\\Python\\Python37\\site-packages\\sklearn\\model_selection\\_validation.py\", line 531, in _fit_and_score\n",
      "    estimator.fit(X_train, y_train, **fit_params)\n",
      "  File \"C:\\Users\\AI02\\AppData\\Roaming\\Python\\Python37\\site-packages\\sklearn\\tree\\_classes.py\", line 894, in fit\n",
      "    X_idx_sorted=X_idx_sorted)\n",
      "  File \"C:\\Users\\AI02\\AppData\\Roaming\\Python\\Python37\\site-packages\\sklearn\\tree\\_classes.py\", line 277, in fit\n",
      "    raise ValueError(\"max_depth must be greater than zero. \")\n",
      "ValueError: max_depth must be greater than zero. \n",
      "\n",
      "  FitFailedWarning)\n",
      "C:\\Users\\AI02\\AppData\\Roaming\\Python\\Python37\\site-packages\\sklearn\\model_selection\\_validation.py:552: FitFailedWarning: Estimator fit failed. The score on this train-test partition for these parameters will be set to nan. Details: \n",
      "Traceback (most recent call last):\n",
      "  File \"C:\\Users\\AI02\\AppData\\Roaming\\Python\\Python37\\site-packages\\sklearn\\model_selection\\_validation.py\", line 531, in _fit_and_score\n",
      "    estimator.fit(X_train, y_train, **fit_params)\n",
      "  File \"C:\\Users\\AI02\\AppData\\Roaming\\Python\\Python37\\site-packages\\sklearn\\tree\\_classes.py\", line 894, in fit\n",
      "    X_idx_sorted=X_idx_sorted)\n",
      "  File \"C:\\Users\\AI02\\AppData\\Roaming\\Python\\Python37\\site-packages\\sklearn\\tree\\_classes.py\", line 277, in fit\n",
      "    raise ValueError(\"max_depth must be greater than zero. \")\n",
      "ValueError: max_depth must be greater than zero. \n",
      "\n",
      "  FitFailedWarning)\n",
      "C:\\Users\\AI02\\AppData\\Roaming\\Python\\Python37\\site-packages\\sklearn\\model_selection\\_validation.py:552: FitFailedWarning: Estimator fit failed. The score on this train-test partition for these parameters will be set to nan. Details: \n",
      "Traceback (most recent call last):\n",
      "  File \"C:\\Users\\AI02\\AppData\\Roaming\\Python\\Python37\\site-packages\\sklearn\\model_selection\\_validation.py\", line 531, in _fit_and_score\n",
      "    estimator.fit(X_train, y_train, **fit_params)\n",
      "  File \"C:\\Users\\AI02\\AppData\\Roaming\\Python\\Python37\\site-packages\\sklearn\\tree\\_classes.py\", line 894, in fit\n",
      "    X_idx_sorted=X_idx_sorted)\n",
      "  File \"C:\\Users\\AI02\\AppData\\Roaming\\Python\\Python37\\site-packages\\sklearn\\tree\\_classes.py\", line 277, in fit\n",
      "    raise ValueError(\"max_depth must be greater than zero. \")\n",
      "ValueError: max_depth must be greater than zero. \n",
      "\n",
      "  FitFailedWarning)\n",
      "C:\\Users\\AI02\\AppData\\Roaming\\Python\\Python37\\site-packages\\sklearn\\model_selection\\_validation.py:552: FitFailedWarning: Estimator fit failed. The score on this train-test partition for these parameters will be set to nan. Details: \n",
      "Traceback (most recent call last):\n",
      "  File \"C:\\Users\\AI02\\AppData\\Roaming\\Python\\Python37\\site-packages\\sklearn\\model_selection\\_validation.py\", line 531, in _fit_and_score\n",
      "    estimator.fit(X_train, y_train, **fit_params)\n",
      "  File \"C:\\Users\\AI02\\AppData\\Roaming\\Python\\Python37\\site-packages\\sklearn\\tree\\_classes.py\", line 894, in fit\n",
      "    X_idx_sorted=X_idx_sorted)\n",
      "  File \"C:\\Users\\AI02\\AppData\\Roaming\\Python\\Python37\\site-packages\\sklearn\\tree\\_classes.py\", line 277, in fit\n",
      "    raise ValueError(\"max_depth must be greater than zero. \")\n",
      "ValueError: max_depth must be greater than zero. \n",
      "\n",
      "  FitFailedWarning)\n",
      "C:\\Users\\AI02\\AppData\\Roaming\\Python\\Python37\\site-packages\\sklearn\\model_selection\\_validation.py:552: FitFailedWarning: Estimator fit failed. The score on this train-test partition for these parameters will be set to nan. Details: \n",
      "Traceback (most recent call last):\n",
      "  File \"C:\\Users\\AI02\\AppData\\Roaming\\Python\\Python37\\site-packages\\sklearn\\model_selection\\_validation.py\", line 531, in _fit_and_score\n",
      "    estimator.fit(X_train, y_train, **fit_params)\n",
      "  File \"C:\\Users\\AI02\\AppData\\Roaming\\Python\\Python37\\site-packages\\sklearn\\tree\\_classes.py\", line 894, in fit\n",
      "    X_idx_sorted=X_idx_sorted)\n",
      "  File \"C:\\Users\\AI02\\AppData\\Roaming\\Python\\Python37\\site-packages\\sklearn\\tree\\_classes.py\", line 277, in fit\n",
      "    raise ValueError(\"max_depth must be greater than zero. \")\n",
      "ValueError: max_depth must be greater than zero. \n",
      "\n",
      "  FitFailedWarning)\n",
      "C:\\Users\\AI02\\AppData\\Roaming\\Python\\Python37\\site-packages\\sklearn\\model_selection\\_validation.py:552: FitFailedWarning: Estimator fit failed. The score on this train-test partition for these parameters will be set to nan. Details: \n",
      "Traceback (most recent call last):\n",
      "  File \"C:\\Users\\AI02\\AppData\\Roaming\\Python\\Python37\\site-packages\\sklearn\\model_selection\\_validation.py\", line 531, in _fit_and_score\n",
      "    estimator.fit(X_train, y_train, **fit_params)\n",
      "  File \"C:\\Users\\AI02\\AppData\\Roaming\\Python\\Python37\\site-packages\\sklearn\\tree\\_classes.py\", line 894, in fit\n",
      "    X_idx_sorted=X_idx_sorted)\n",
      "  File \"C:\\Users\\AI02\\AppData\\Roaming\\Python\\Python37\\site-packages\\sklearn\\tree\\_classes.py\", line 277, in fit\n",
      "    raise ValueError(\"max_depth must be greater than zero. \")\n",
      "ValueError: max_depth must be greater than zero. \n",
      "\n",
      "  FitFailedWarning)\n",
      "C:\\Users\\AI02\\AppData\\Roaming\\Python\\Python37\\site-packages\\sklearn\\model_selection\\_validation.py:552: FitFailedWarning: Estimator fit failed. The score on this train-test partition for these parameters will be set to nan. Details: \n",
      "Traceback (most recent call last):\n",
      "  File \"C:\\Users\\AI02\\AppData\\Roaming\\Python\\Python37\\site-packages\\sklearn\\model_selection\\_validation.py\", line 531, in _fit_and_score\n",
      "    estimator.fit(X_train, y_train, **fit_params)\n",
      "  File \"C:\\Users\\AI02\\AppData\\Roaming\\Python\\Python37\\site-packages\\sklearn\\tree\\_classes.py\", line 894, in fit\n",
      "    X_idx_sorted=X_idx_sorted)\n",
      "  File \"C:\\Users\\AI02\\AppData\\Roaming\\Python\\Python37\\site-packages\\sklearn\\tree\\_classes.py\", line 277, in fit\n",
      "    raise ValueError(\"max_depth must be greater than zero. \")\n",
      "ValueError: max_depth must be greater than zero. \n",
      "\n",
      "  FitFailedWarning)\n",
      "C:\\Users\\AI02\\AppData\\Roaming\\Python\\Python37\\site-packages\\sklearn\\model_selection\\_validation.py:552: FitFailedWarning: Estimator fit failed. The score on this train-test partition for these parameters will be set to nan. Details: \n",
      "Traceback (most recent call last):\n",
      "  File \"C:\\Users\\AI02\\AppData\\Roaming\\Python\\Python37\\site-packages\\sklearn\\model_selection\\_validation.py\", line 531, in _fit_and_score\n",
      "    estimator.fit(X_train, y_train, **fit_params)\n",
      "  File \"C:\\Users\\AI02\\AppData\\Roaming\\Python\\Python37\\site-packages\\sklearn\\tree\\_classes.py\", line 894, in fit\n",
      "    X_idx_sorted=X_idx_sorted)\n",
      "  File \"C:\\Users\\AI02\\AppData\\Roaming\\Python\\Python37\\site-packages\\sklearn\\tree\\_classes.py\", line 277, in fit\n",
      "    raise ValueError(\"max_depth must be greater than zero. \")\n",
      "ValueError: max_depth must be greater than zero. \n",
      "\n",
      "  FitFailedWarning)\n",
      "C:\\Users\\AI02\\AppData\\Roaming\\Python\\Python37\\site-packages\\sklearn\\model_selection\\_validation.py:552: FitFailedWarning: Estimator fit failed. The score on this train-test partition for these parameters will be set to nan. Details: \n",
      "Traceback (most recent call last):\n",
      "  File \"C:\\Users\\AI02\\AppData\\Roaming\\Python\\Python37\\site-packages\\sklearn\\model_selection\\_validation.py\", line 531, in _fit_and_score\n",
      "    estimator.fit(X_train, y_train, **fit_params)\n",
      "  File \"C:\\Users\\AI02\\AppData\\Roaming\\Python\\Python37\\site-packages\\sklearn\\tree\\_classes.py\", line 894, in fit\n",
      "    X_idx_sorted=X_idx_sorted)\n",
      "  File \"C:\\Users\\AI02\\AppData\\Roaming\\Python\\Python37\\site-packages\\sklearn\\tree\\_classes.py\", line 277, in fit\n",
      "    raise ValueError(\"max_depth must be greater than zero. \")\n",
      "ValueError: max_depth must be greater than zero. \n",
      "\n",
      "  FitFailedWarning)\n"
     ]
    },
    {
     "data": {
      "text/plain": [
       "GridSearchCV(cv=10, estimator=DecisionTreeClassifier(),\n",
       "             param_grid={'max_depth': range(0, 6)})"
      ]
     },
     "execution_count": 109,
     "metadata": {},
     "output_type": "execute_result"
    }
   ],
   "source": [
    "grid3.fit(wine.iloc[:,:-1],wine.target)"
   ]
  },
  {
   "cell_type": "markdown",
   "metadata": {},
   "source": [
    "max_depth: 결정나무의 깊이가 깊어지면 모델이 복잡해짐\n",
    "    - 성능은 좋아지지만 과대적합문제 (overfiting) 가능성이 높아짐"
   ]
  },
  {
   "cell_type": "code",
   "execution_count": 110,
   "metadata": {},
   "outputs": [
    {
     "data": {
      "text/html": [
       "<div>\n",
       "<style scoped>\n",
       "    .dataframe tbody tr th:only-of-type {\n",
       "        vertical-align: middle;\n",
       "    }\n",
       "\n",
       "    .dataframe tbody tr th {\n",
       "        vertical-align: top;\n",
       "    }\n",
       "\n",
       "    .dataframe thead th {\n",
       "        text-align: right;\n",
       "    }\n",
       "</style>\n",
       "<table border=\"1\" class=\"dataframe\">\n",
       "  <thead>\n",
       "    <tr style=\"text-align: right;\">\n",
       "      <th></th>\n",
       "      <th>0</th>\n",
       "      <th>1</th>\n",
       "      <th>2</th>\n",
       "      <th>3</th>\n",
       "      <th>4</th>\n",
       "      <th>5</th>\n",
       "    </tr>\n",
       "  </thead>\n",
       "  <tbody>\n",
       "    <tr>\n",
       "      <th>mean_fit_time</th>\n",
       "      <td>0.00441175</td>\n",
       "      <td>0.00490737</td>\n",
       "      <td>0.0027925</td>\n",
       "      <td>0.00410199</td>\n",
       "      <td>0.00560203</td>\n",
       "      <td>0.00509965</td>\n",
       "    </tr>\n",
       "    <tr>\n",
       "      <th>std_fit_time</th>\n",
       "      <td>0.00102989</td>\n",
       "      <td>0.0021144</td>\n",
       "      <td>0.000600352</td>\n",
       "      <td>0.000932218</td>\n",
       "      <td>0.00261892</td>\n",
       "      <td>0.00348738</td>\n",
       "    </tr>\n",
       "    <tr>\n",
       "      <th>mean_score_time</th>\n",
       "      <td>0</td>\n",
       "      <td>0.00269952</td>\n",
       "      <td>0.00190802</td>\n",
       "      <td>0.00219159</td>\n",
       "      <td>0.00360663</td>\n",
       "      <td>0.00279138</td>\n",
       "    </tr>\n",
       "    <tr>\n",
       "      <th>std_score_time</th>\n",
       "      <td>0</td>\n",
       "      <td>0.00237613</td>\n",
       "      <td>0.000286763</td>\n",
       "      <td>0.000873996</td>\n",
       "      <td>0.00156777</td>\n",
       "      <td>0.000870308</td>\n",
       "    </tr>\n",
       "    <tr>\n",
       "      <th>param_max_depth</th>\n",
       "      <td>0</td>\n",
       "      <td>1</td>\n",
       "      <td>2</td>\n",
       "      <td>3</td>\n",
       "      <td>4</td>\n",
       "      <td>5</td>\n",
       "    </tr>\n",
       "    <tr>\n",
       "      <th>params</th>\n",
       "      <td>{'max_depth': 0}</td>\n",
       "      <td>{'max_depth': 1}</td>\n",
       "      <td>{'max_depth': 2}</td>\n",
       "      <td>{'max_depth': 3}</td>\n",
       "      <td>{'max_depth': 4}</td>\n",
       "      <td>{'max_depth': 5}</td>\n",
       "    </tr>\n",
       "    <tr>\n",
       "      <th>split0_test_score</th>\n",
       "      <td>NaN</td>\n",
       "      <td>0.5</td>\n",
       "      <td>0.777778</td>\n",
       "      <td>0.888889</td>\n",
       "      <td>0.888889</td>\n",
       "      <td>0.888889</td>\n",
       "    </tr>\n",
       "    <tr>\n",
       "      <th>split1_test_score</th>\n",
       "      <td>NaN</td>\n",
       "      <td>0.5</td>\n",
       "      <td>0.722222</td>\n",
       "      <td>0.888889</td>\n",
       "      <td>0.888889</td>\n",
       "      <td>0.888889</td>\n",
       "    </tr>\n",
       "    <tr>\n",
       "      <th>split2_test_score</th>\n",
       "      <td>NaN</td>\n",
       "      <td>0.611111</td>\n",
       "      <td>0.722222</td>\n",
       "      <td>0.722222</td>\n",
       "      <td>0.666667</td>\n",
       "      <td>0.666667</td>\n",
       "    </tr>\n",
       "    <tr>\n",
       "      <th>split3_test_score</th>\n",
       "      <td>NaN</td>\n",
       "      <td>0.555556</td>\n",
       "      <td>0.833333</td>\n",
       "      <td>0.888889</td>\n",
       "      <td>0.888889</td>\n",
       "      <td>0.888889</td>\n",
       "    </tr>\n",
       "    <tr>\n",
       "      <th>split4_test_score</th>\n",
       "      <td>NaN</td>\n",
       "      <td>0.611111</td>\n",
       "      <td>0.833333</td>\n",
       "      <td>0.833333</td>\n",
       "      <td>0.833333</td>\n",
       "      <td>0.833333</td>\n",
       "    </tr>\n",
       "    <tr>\n",
       "      <th>split5_test_score</th>\n",
       "      <td>NaN</td>\n",
       "      <td>0.666667</td>\n",
       "      <td>0.833333</td>\n",
       "      <td>0.833333</td>\n",
       "      <td>0.888889</td>\n",
       "      <td>0.833333</td>\n",
       "    </tr>\n",
       "    <tr>\n",
       "      <th>split6_test_score</th>\n",
       "      <td>NaN</td>\n",
       "      <td>0.555556</td>\n",
       "      <td>0.833333</td>\n",
       "      <td>0.833333</td>\n",
       "      <td>1</td>\n",
       "      <td>1</td>\n",
       "    </tr>\n",
       "    <tr>\n",
       "      <th>split7_test_score</th>\n",
       "      <td>NaN</td>\n",
       "      <td>0.666667</td>\n",
       "      <td>0.944444</td>\n",
       "      <td>0.944444</td>\n",
       "      <td>0.944444</td>\n",
       "      <td>0.944444</td>\n",
       "    </tr>\n",
       "    <tr>\n",
       "      <th>split8_test_score</th>\n",
       "      <td>NaN</td>\n",
       "      <td>0.764706</td>\n",
       "      <td>0.941176</td>\n",
       "      <td>0.941176</td>\n",
       "      <td>0.941176</td>\n",
       "      <td>0.941176</td>\n",
       "    </tr>\n",
       "    <tr>\n",
       "      <th>split9_test_score</th>\n",
       "      <td>NaN</td>\n",
       "      <td>0.764706</td>\n",
       "      <td>1</td>\n",
       "      <td>1</td>\n",
       "      <td>0.764706</td>\n",
       "      <td>0.764706</td>\n",
       "    </tr>\n",
       "    <tr>\n",
       "      <th>mean_test_score</th>\n",
       "      <td>NaN</td>\n",
       "      <td>0.619608</td>\n",
       "      <td>0.844118</td>\n",
       "      <td>0.877451</td>\n",
       "      <td>0.870588</td>\n",
       "      <td>0.865033</td>\n",
       "    </tr>\n",
       "    <tr>\n",
       "      <th>std_test_score</th>\n",
       "      <td>NaN</td>\n",
       "      <td>0.0913771</td>\n",
       "      <td>0.0885259</td>\n",
       "      <td>0.0734131</td>\n",
       "      <td>0.0909437</td>\n",
       "      <td>0.091352</td>\n",
       "    </tr>\n",
       "    <tr>\n",
       "      <th>rank_test_score</th>\n",
       "      <td>6</td>\n",
       "      <td>5</td>\n",
       "      <td>4</td>\n",
       "      <td>1</td>\n",
       "      <td>2</td>\n",
       "      <td>3</td>\n",
       "    </tr>\n",
       "  </tbody>\n",
       "</table>\n",
       "</div>"
      ],
      "text/plain": [
       "                                  0                 1                 2  \\\n",
       "mean_fit_time            0.00441175        0.00490737         0.0027925   \n",
       "std_fit_time             0.00102989         0.0021144       0.000600352   \n",
       "mean_score_time                   0        0.00269952        0.00190802   \n",
       "std_score_time                    0        0.00237613       0.000286763   \n",
       "param_max_depth                   0                 1                 2   \n",
       "params             {'max_depth': 0}  {'max_depth': 1}  {'max_depth': 2}   \n",
       "split0_test_score               NaN               0.5          0.777778   \n",
       "split1_test_score               NaN               0.5          0.722222   \n",
       "split2_test_score               NaN          0.611111          0.722222   \n",
       "split3_test_score               NaN          0.555556          0.833333   \n",
       "split4_test_score               NaN          0.611111          0.833333   \n",
       "split5_test_score               NaN          0.666667          0.833333   \n",
       "split6_test_score               NaN          0.555556          0.833333   \n",
       "split7_test_score               NaN          0.666667          0.944444   \n",
       "split8_test_score               NaN          0.764706          0.941176   \n",
       "split9_test_score               NaN          0.764706                 1   \n",
       "mean_test_score                 NaN          0.619608          0.844118   \n",
       "std_test_score                  NaN         0.0913771         0.0885259   \n",
       "rank_test_score                   6                 5                 4   \n",
       "\n",
       "                                  3                 4                 5  \n",
       "mean_fit_time            0.00410199        0.00560203        0.00509965  \n",
       "std_fit_time            0.000932218        0.00261892        0.00348738  \n",
       "mean_score_time          0.00219159        0.00360663        0.00279138  \n",
       "std_score_time          0.000873996        0.00156777       0.000870308  \n",
       "param_max_depth                   3                 4                 5  \n",
       "params             {'max_depth': 3}  {'max_depth': 4}  {'max_depth': 5}  \n",
       "split0_test_score          0.888889          0.888889          0.888889  \n",
       "split1_test_score          0.888889          0.888889          0.888889  \n",
       "split2_test_score          0.722222          0.666667          0.666667  \n",
       "split3_test_score          0.888889          0.888889          0.888889  \n",
       "split4_test_score          0.833333          0.833333          0.833333  \n",
       "split5_test_score          0.833333          0.888889          0.833333  \n",
       "split6_test_score          0.833333                 1                 1  \n",
       "split7_test_score          0.944444          0.944444          0.944444  \n",
       "split8_test_score          0.941176          0.941176          0.941176  \n",
       "split9_test_score                 1          0.764706          0.764706  \n",
       "mean_test_score            0.877451          0.870588          0.865033  \n",
       "std_test_score            0.0734131         0.0909437          0.091352  \n",
       "rank_test_score                   1                 2                 3  "
      ]
     },
     "execution_count": 110,
     "metadata": {},
     "output_type": "execute_result"
    }
   ],
   "source": [
    "pd.DataFrame(grid3.cv_results_).T"
   ]
  },
  {
   "cell_type": "markdown",
   "metadata": {},
   "source": [
    "결정나무의 길이가 최대 3인경우에 가장 최적의 파라미터를 얻음"
   ]
  },
  {
   "cell_type": "code",
   "execution_count": 111,
   "metadata": {},
   "outputs": [
    {
     "data": {
      "text/plain": [
       "{'max_depth': 3}"
      ]
     },
     "execution_count": 111,
     "metadata": {},
     "output_type": "execute_result"
    }
   ],
   "source": [
    "grid3.best_params_"
   ]
  },
  {
   "cell_type": "code",
   "execution_count": 112,
   "metadata": {},
   "outputs": [
    {
     "data": {
      "text/plain": [
       "0.877450980392157"
      ]
     },
     "execution_count": 112,
     "metadata": {},
     "output_type": "execute_result"
    }
   ],
   "source": [
    "grid3.best_score_"
   ]
  },
  {
   "cell_type": "markdown",
   "metadata": {},
   "source": [
    "### 2.전처리와 모델"
   ]
  },
  {
   "cell_type": "code",
   "execution_count": 23,
   "metadata": {},
   "outputs": [],
   "source": [
    "from sklearn.preprocessing import MinMaxScaler"
   ]
  },
  {
   "cell_type": "code",
   "execution_count": 126,
   "metadata": {},
   "outputs": [],
   "source": [
    "grid2=GridSearchCV(pipe,{'ss':[StandardScaler(),MinMaxScaler()],\n",
    "                         'knn__n_neighbors':[2,3,4,5,6,7]},cv=10)"
   ]
  },
  {
   "cell_type": "code",
   "execution_count": 127,
   "metadata": {},
   "outputs": [
    {
     "data": {
      "text/plain": [
       "GridSearchCV(cv=10,\n",
       "             estimator=Pipeline(steps=[('ss', StandardScaler()),\n",
       "                                       ('knn', KNeighborsClassifier())]),\n",
       "             param_grid={'knn__n_neighbors': [2, 3, 4, 5, 6, 7],\n",
       "                         'ss': [StandardScaler(), MinMaxScaler()]})"
      ]
     },
     "execution_count": 127,
     "metadata": {},
     "output_type": "execute_result"
    }
   ],
   "source": [
    "grid2.fit(wine.iloc[:,:-1], wine.target)"
   ]
  },
  {
   "cell_type": "markdown",
   "metadata": {},
   "source": [
    "- 전처리는 StandardScaler일때가 제일 좋음\n",
    "- KNN 분류기에서 최근접이웃 k=7이고 "
   ]
  },
  {
   "cell_type": "code",
   "execution_count": 129,
   "metadata": {},
   "outputs": [
    {
     "data": {
      "text/html": [
       "<div>\n",
       "<style scoped>\n",
       "    .dataframe tbody tr th:only-of-type {\n",
       "        vertical-align: middle;\n",
       "    }\n",
       "\n",
       "    .dataframe tbody tr th {\n",
       "        vertical-align: top;\n",
       "    }\n",
       "\n",
       "    .dataframe thead th {\n",
       "        text-align: right;\n",
       "    }\n",
       "</style>\n",
       "<table border=\"1\" class=\"dataframe\">\n",
       "  <thead>\n",
       "    <tr style=\"text-align: right;\">\n",
       "      <th></th>\n",
       "      <th>0</th>\n",
       "      <th>1</th>\n",
       "      <th>2</th>\n",
       "      <th>3</th>\n",
       "      <th>4</th>\n",
       "      <th>5</th>\n",
       "      <th>6</th>\n",
       "      <th>7</th>\n",
       "      <th>8</th>\n",
       "      <th>9</th>\n",
       "      <th>10</th>\n",
       "      <th>11</th>\n",
       "    </tr>\n",
       "  </thead>\n",
       "  <tbody>\n",
       "    <tr>\n",
       "      <th>mean_fit_time</th>\n",
       "      <td>0.00730112</td>\n",
       "      <td>0.005495</td>\n",
       "      <td>0.00560524</td>\n",
       "      <td>0.00460851</td>\n",
       "      <td>0.00500886</td>\n",
       "      <td>0.00469894</td>\n",
       "      <td>0.00629568</td>\n",
       "      <td>0.00460138</td>\n",
       "      <td>0.00550046</td>\n",
       "      <td>0.00499752</td>\n",
       "      <td>0.00490222</td>\n",
       "      <td>0.0048969</td>\n",
       "    </tr>\n",
       "    <tr>\n",
       "      <th>std_fit_time</th>\n",
       "      <td>0.00222305</td>\n",
       "      <td>0.00180401</td>\n",
       "      <td>0.000804901</td>\n",
       "      <td>0.000488979</td>\n",
       "      <td>0.00045227</td>\n",
       "      <td>0.000643626</td>\n",
       "      <td>0.00191043</td>\n",
       "      <td>0.000666081</td>\n",
       "      <td>0.00143725</td>\n",
       "      <td>0.000780525</td>\n",
       "      <td>0.000288256</td>\n",
       "      <td>0.00121134</td>\n",
       "    </tr>\n",
       "    <tr>\n",
       "      <th>mean_score_time</th>\n",
       "      <td>0.00469069</td>\n",
       "      <td>0.00339885</td>\n",
       "      <td>0.0036999</td>\n",
       "      <td>0.0028924</td>\n",
       "      <td>0.00300572</td>\n",
       "      <td>0.00300424</td>\n",
       "      <td>0.00330858</td>\n",
       "      <td>0.00319362</td>\n",
       "      <td>0.0038101</td>\n",
       "      <td>0.00380769</td>\n",
       "      <td>0.00290141</td>\n",
       "      <td>0.00340638</td>\n",
       "    </tr>\n",
       "    <tr>\n",
       "      <th>std_score_time</th>\n",
       "      <td>0.0014788</td>\n",
       "      <td>0.00168436</td>\n",
       "      <td>0.00148708</td>\n",
       "      <td>0.000297706</td>\n",
       "      <td>0.000642529</td>\n",
       "      <td>2.97634e-05</td>\n",
       "      <td>0.000638339</td>\n",
       "      <td>0.000865013</td>\n",
       "      <td>0.00087614</td>\n",
       "      <td>0.00141438</td>\n",
       "      <td>0.000545997</td>\n",
       "      <td>0.0004895</td>\n",
       "    </tr>\n",
       "    <tr>\n",
       "      <th>param_knn__n_neighbors</th>\n",
       "      <td>2</td>\n",
       "      <td>2</td>\n",
       "      <td>3</td>\n",
       "      <td>3</td>\n",
       "      <td>4</td>\n",
       "      <td>4</td>\n",
       "      <td>5</td>\n",
       "      <td>5</td>\n",
       "      <td>6</td>\n",
       "      <td>6</td>\n",
       "      <td>7</td>\n",
       "      <td>7</td>\n",
       "    </tr>\n",
       "    <tr>\n",
       "      <th>param_ss</th>\n",
       "      <td>StandardScaler()</td>\n",
       "      <td>MinMaxScaler()</td>\n",
       "      <td>StandardScaler()</td>\n",
       "      <td>MinMaxScaler()</td>\n",
       "      <td>StandardScaler()</td>\n",
       "      <td>MinMaxScaler()</td>\n",
       "      <td>StandardScaler()</td>\n",
       "      <td>MinMaxScaler()</td>\n",
       "      <td>StandardScaler()</td>\n",
       "      <td>MinMaxScaler()</td>\n",
       "      <td>StandardScaler()</td>\n",
       "      <td>MinMaxScaler()</td>\n",
       "    </tr>\n",
       "    <tr>\n",
       "      <th>params</th>\n",
       "      <td>{'knn__n_neighbors': 2, 'ss': StandardScaler()}</td>\n",
       "      <td>{'knn__n_neighbors': 2, 'ss': MinMaxScaler()}</td>\n",
       "      <td>{'knn__n_neighbors': 3, 'ss': StandardScaler()}</td>\n",
       "      <td>{'knn__n_neighbors': 3, 'ss': MinMaxScaler()}</td>\n",
       "      <td>{'knn__n_neighbors': 4, 'ss': StandardScaler()}</td>\n",
       "      <td>{'knn__n_neighbors': 4, 'ss': MinMaxScaler()}</td>\n",
       "      <td>{'knn__n_neighbors': 5, 'ss': StandardScaler()}</td>\n",
       "      <td>{'knn__n_neighbors': 5, 'ss': MinMaxScaler()}</td>\n",
       "      <td>{'knn__n_neighbors': 6, 'ss': StandardScaler()}</td>\n",
       "      <td>{'knn__n_neighbors': 6, 'ss': MinMaxScaler()}</td>\n",
       "      <td>{'knn__n_neighbors': 7, 'ss': StandardScaler()}</td>\n",
       "      <td>{'knn__n_neighbors': 7, 'ss': MinMaxScaler()}</td>\n",
       "    </tr>\n",
       "    <tr>\n",
       "      <th>split0_test_score</th>\n",
       "      <td>0.888889</td>\n",
       "      <td>0.833333</td>\n",
       "      <td>0.944444</td>\n",
       "      <td>0.833333</td>\n",
       "      <td>0.888889</td>\n",
       "      <td>0.888889</td>\n",
       "      <td>1</td>\n",
       "      <td>0.944444</td>\n",
       "      <td>0.944444</td>\n",
       "      <td>0.888889</td>\n",
       "      <td>1</td>\n",
       "      <td>1</td>\n",
       "    </tr>\n",
       "    <tr>\n",
       "      <th>split1_test_score</th>\n",
       "      <td>0.944444</td>\n",
       "      <td>0.888889</td>\n",
       "      <td>0.944444</td>\n",
       "      <td>0.944444</td>\n",
       "      <td>0.944444</td>\n",
       "      <td>0.944444</td>\n",
       "      <td>0.944444</td>\n",
       "      <td>0.888889</td>\n",
       "      <td>0.944444</td>\n",
       "      <td>0.888889</td>\n",
       "      <td>0.944444</td>\n",
       "      <td>0.888889</td>\n",
       "    </tr>\n",
       "    <tr>\n",
       "      <th>split2_test_score</th>\n",
       "      <td>0.944444</td>\n",
       "      <td>0.944444</td>\n",
       "      <td>0.888889</td>\n",
       "      <td>0.944444</td>\n",
       "      <td>0.944444</td>\n",
       "      <td>0.944444</td>\n",
       "      <td>0.944444</td>\n",
       "      <td>0.944444</td>\n",
       "      <td>0.888889</td>\n",
       "      <td>0.944444</td>\n",
       "      <td>0.944444</td>\n",
       "      <td>0.944444</td>\n",
       "    </tr>\n",
       "    <tr>\n",
       "      <th>split3_test_score</th>\n",
       "      <td>0.944444</td>\n",
       "      <td>0.944444</td>\n",
       "      <td>0.944444</td>\n",
       "      <td>0.944444</td>\n",
       "      <td>0.944444</td>\n",
       "      <td>0.944444</td>\n",
       "      <td>0.944444</td>\n",
       "      <td>0.944444</td>\n",
       "      <td>0.944444</td>\n",
       "      <td>0.944444</td>\n",
       "      <td>0.944444</td>\n",
       "      <td>0.944444</td>\n",
       "    </tr>\n",
       "    <tr>\n",
       "      <th>split4_test_score</th>\n",
       "      <td>1</td>\n",
       "      <td>1</td>\n",
       "      <td>1</td>\n",
       "      <td>1</td>\n",
       "      <td>1</td>\n",
       "      <td>1</td>\n",
       "      <td>1</td>\n",
       "      <td>1</td>\n",
       "      <td>1</td>\n",
       "      <td>1</td>\n",
       "      <td>1</td>\n",
       "      <td>1</td>\n",
       "    </tr>\n",
       "    <tr>\n",
       "      <th>split5_test_score</th>\n",
       "      <td>0.888889</td>\n",
       "      <td>1</td>\n",
       "      <td>0.944444</td>\n",
       "      <td>1</td>\n",
       "      <td>0.944444</td>\n",
       "      <td>0.944444</td>\n",
       "      <td>0.944444</td>\n",
       "      <td>0.944444</td>\n",
       "      <td>0.944444</td>\n",
       "      <td>0.944444</td>\n",
       "      <td>0.888889</td>\n",
       "      <td>0.944444</td>\n",
       "    </tr>\n",
       "    <tr>\n",
       "      <th>split6_test_score</th>\n",
       "      <td>1</td>\n",
       "      <td>1</td>\n",
       "      <td>1</td>\n",
       "      <td>1</td>\n",
       "      <td>1</td>\n",
       "      <td>1</td>\n",
       "      <td>1</td>\n",
       "      <td>1</td>\n",
       "      <td>1</td>\n",
       "      <td>1</td>\n",
       "      <td>1</td>\n",
       "      <td>1</td>\n",
       "    </tr>\n",
       "    <tr>\n",
       "      <th>split7_test_score</th>\n",
       "      <td>1</td>\n",
       "      <td>1</td>\n",
       "      <td>1</td>\n",
       "      <td>1</td>\n",
       "      <td>1</td>\n",
       "      <td>1</td>\n",
       "      <td>1</td>\n",
       "      <td>1</td>\n",
       "      <td>1</td>\n",
       "      <td>1</td>\n",
       "      <td>1</td>\n",
       "      <td>1</td>\n",
       "    </tr>\n",
       "    <tr>\n",
       "      <th>split8_test_score</th>\n",
       "      <td>0.882353</td>\n",
       "      <td>0.882353</td>\n",
       "      <td>0.882353</td>\n",
       "      <td>0.882353</td>\n",
       "      <td>0.882353</td>\n",
       "      <td>0.941176</td>\n",
       "      <td>0.941176</td>\n",
       "      <td>0.941176</td>\n",
       "      <td>0.941176</td>\n",
       "      <td>0.941176</td>\n",
       "      <td>0.941176</td>\n",
       "      <td>0.941176</td>\n",
       "    </tr>\n",
       "    <tr>\n",
       "      <th>split9_test_score</th>\n",
       "      <td>0.941176</td>\n",
       "      <td>0.941176</td>\n",
       "      <td>0.941176</td>\n",
       "      <td>0.941176</td>\n",
       "      <td>0.941176</td>\n",
       "      <td>0.941176</td>\n",
       "      <td>0.941176</td>\n",
       "      <td>0.941176</td>\n",
       "      <td>0.941176</td>\n",
       "      <td>0.882353</td>\n",
       "      <td>1</td>\n",
       "      <td>1</td>\n",
       "    </tr>\n",
       "    <tr>\n",
       "      <th>mean_test_score</th>\n",
       "      <td>0.943464</td>\n",
       "      <td>0.943464</td>\n",
       "      <td>0.94902</td>\n",
       "      <td>0.94902</td>\n",
       "      <td>0.94902</td>\n",
       "      <td>0.954902</td>\n",
       "      <td>0.966013</td>\n",
       "      <td>0.954902</td>\n",
       "      <td>0.954902</td>\n",
       "      <td>0.943464</td>\n",
       "      <td>0.96634</td>\n",
       "      <td>0.96634</td>\n",
       "    </tr>\n",
       "    <tr>\n",
       "      <th>std_test_score</th>\n",
       "      <td>0.0439187</td>\n",
       "      <td>0.0562443</td>\n",
       "      <td>0.040003</td>\n",
       "      <td>0.0532429</td>\n",
       "      <td>0.040003</td>\n",
       "      <td>0.0335759</td>\n",
       "      <td>0.0277759</td>\n",
       "      <td>0.0335759</td>\n",
       "      <td>0.0335759</td>\n",
       "      <td>0.0439187</td>\n",
       "      <td>0.0370609</td>\n",
       "      <td>0.0370609</td>\n",
       "    </tr>\n",
       "    <tr>\n",
       "      <th>rank_test_score</th>\n",
       "      <td>10</td>\n",
       "      <td>10</td>\n",
       "      <td>7</td>\n",
       "      <td>7</td>\n",
       "      <td>7</td>\n",
       "      <td>4</td>\n",
       "      <td>3</td>\n",
       "      <td>4</td>\n",
       "      <td>4</td>\n",
       "      <td>10</td>\n",
       "      <td>1</td>\n",
       "      <td>1</td>\n",
       "    </tr>\n",
       "  </tbody>\n",
       "</table>\n",
       "</div>"
      ],
      "text/plain": [
       "                                                                      0  \\\n",
       "mean_fit_time                                                0.00730112   \n",
       "std_fit_time                                                 0.00222305   \n",
       "mean_score_time                                              0.00469069   \n",
       "std_score_time                                                0.0014788   \n",
       "param_knn__n_neighbors                                                2   \n",
       "param_ss                                               StandardScaler()   \n",
       "params                  {'knn__n_neighbors': 2, 'ss': StandardScaler()}   \n",
       "split0_test_score                                              0.888889   \n",
       "split1_test_score                                              0.944444   \n",
       "split2_test_score                                              0.944444   \n",
       "split3_test_score                                              0.944444   \n",
       "split4_test_score                                                     1   \n",
       "split5_test_score                                              0.888889   \n",
       "split6_test_score                                                     1   \n",
       "split7_test_score                                                     1   \n",
       "split8_test_score                                              0.882353   \n",
       "split9_test_score                                              0.941176   \n",
       "mean_test_score                                                0.943464   \n",
       "std_test_score                                                0.0439187   \n",
       "rank_test_score                                                      10   \n",
       "\n",
       "                                                                    1  \\\n",
       "mean_fit_time                                                0.005495   \n",
       "std_fit_time                                               0.00180401   \n",
       "mean_score_time                                            0.00339885   \n",
       "std_score_time                                             0.00168436   \n",
       "param_knn__n_neighbors                                              2   \n",
       "param_ss                                               MinMaxScaler()   \n",
       "params                  {'knn__n_neighbors': 2, 'ss': MinMaxScaler()}   \n",
       "split0_test_score                                            0.833333   \n",
       "split1_test_score                                            0.888889   \n",
       "split2_test_score                                            0.944444   \n",
       "split3_test_score                                            0.944444   \n",
       "split4_test_score                                                   1   \n",
       "split5_test_score                                                   1   \n",
       "split6_test_score                                                   1   \n",
       "split7_test_score                                                   1   \n",
       "split8_test_score                                            0.882353   \n",
       "split9_test_score                                            0.941176   \n",
       "mean_test_score                                              0.943464   \n",
       "std_test_score                                              0.0562443   \n",
       "rank_test_score                                                    10   \n",
       "\n",
       "                                                                      2  \\\n",
       "mean_fit_time                                                0.00560524   \n",
       "std_fit_time                                                0.000804901   \n",
       "mean_score_time                                               0.0036999   \n",
       "std_score_time                                               0.00148708   \n",
       "param_knn__n_neighbors                                                3   \n",
       "param_ss                                               StandardScaler()   \n",
       "params                  {'knn__n_neighbors': 3, 'ss': StandardScaler()}   \n",
       "split0_test_score                                              0.944444   \n",
       "split1_test_score                                              0.944444   \n",
       "split2_test_score                                              0.888889   \n",
       "split3_test_score                                              0.944444   \n",
       "split4_test_score                                                     1   \n",
       "split5_test_score                                              0.944444   \n",
       "split6_test_score                                                     1   \n",
       "split7_test_score                                                     1   \n",
       "split8_test_score                                              0.882353   \n",
       "split9_test_score                                              0.941176   \n",
       "mean_test_score                                                 0.94902   \n",
       "std_test_score                                                 0.040003   \n",
       "rank_test_score                                                       7   \n",
       "\n",
       "                                                                    3  \\\n",
       "mean_fit_time                                              0.00460851   \n",
       "std_fit_time                                              0.000488979   \n",
       "mean_score_time                                             0.0028924   \n",
       "std_score_time                                            0.000297706   \n",
       "param_knn__n_neighbors                                              3   \n",
       "param_ss                                               MinMaxScaler()   \n",
       "params                  {'knn__n_neighbors': 3, 'ss': MinMaxScaler()}   \n",
       "split0_test_score                                            0.833333   \n",
       "split1_test_score                                            0.944444   \n",
       "split2_test_score                                            0.944444   \n",
       "split3_test_score                                            0.944444   \n",
       "split4_test_score                                                   1   \n",
       "split5_test_score                                                   1   \n",
       "split6_test_score                                                   1   \n",
       "split7_test_score                                                   1   \n",
       "split8_test_score                                            0.882353   \n",
       "split9_test_score                                            0.941176   \n",
       "mean_test_score                                               0.94902   \n",
       "std_test_score                                              0.0532429   \n",
       "rank_test_score                                                     7   \n",
       "\n",
       "                                                                      4  \\\n",
       "mean_fit_time                                                0.00500886   \n",
       "std_fit_time                                                 0.00045227   \n",
       "mean_score_time                                              0.00300572   \n",
       "std_score_time                                              0.000642529   \n",
       "param_knn__n_neighbors                                                4   \n",
       "param_ss                                               StandardScaler()   \n",
       "params                  {'knn__n_neighbors': 4, 'ss': StandardScaler()}   \n",
       "split0_test_score                                              0.888889   \n",
       "split1_test_score                                              0.944444   \n",
       "split2_test_score                                              0.944444   \n",
       "split3_test_score                                              0.944444   \n",
       "split4_test_score                                                     1   \n",
       "split5_test_score                                              0.944444   \n",
       "split6_test_score                                                     1   \n",
       "split7_test_score                                                     1   \n",
       "split8_test_score                                              0.882353   \n",
       "split9_test_score                                              0.941176   \n",
       "mean_test_score                                                 0.94902   \n",
       "std_test_score                                                 0.040003   \n",
       "rank_test_score                                                       7   \n",
       "\n",
       "                                                                    5  \\\n",
       "mean_fit_time                                              0.00469894   \n",
       "std_fit_time                                              0.000643626   \n",
       "mean_score_time                                            0.00300424   \n",
       "std_score_time                                            2.97634e-05   \n",
       "param_knn__n_neighbors                                              4   \n",
       "param_ss                                               MinMaxScaler()   \n",
       "params                  {'knn__n_neighbors': 4, 'ss': MinMaxScaler()}   \n",
       "split0_test_score                                            0.888889   \n",
       "split1_test_score                                            0.944444   \n",
       "split2_test_score                                            0.944444   \n",
       "split3_test_score                                            0.944444   \n",
       "split4_test_score                                                   1   \n",
       "split5_test_score                                            0.944444   \n",
       "split6_test_score                                                   1   \n",
       "split7_test_score                                                   1   \n",
       "split8_test_score                                            0.941176   \n",
       "split9_test_score                                            0.941176   \n",
       "mean_test_score                                              0.954902   \n",
       "std_test_score                                              0.0335759   \n",
       "rank_test_score                                                     4   \n",
       "\n",
       "                                                                      6  \\\n",
       "mean_fit_time                                                0.00629568   \n",
       "std_fit_time                                                 0.00191043   \n",
       "mean_score_time                                              0.00330858   \n",
       "std_score_time                                              0.000638339   \n",
       "param_knn__n_neighbors                                                5   \n",
       "param_ss                                               StandardScaler()   \n",
       "params                  {'knn__n_neighbors': 5, 'ss': StandardScaler()}   \n",
       "split0_test_score                                                     1   \n",
       "split1_test_score                                              0.944444   \n",
       "split2_test_score                                              0.944444   \n",
       "split3_test_score                                              0.944444   \n",
       "split4_test_score                                                     1   \n",
       "split5_test_score                                              0.944444   \n",
       "split6_test_score                                                     1   \n",
       "split7_test_score                                                     1   \n",
       "split8_test_score                                              0.941176   \n",
       "split9_test_score                                              0.941176   \n",
       "mean_test_score                                                0.966013   \n",
       "std_test_score                                                0.0277759   \n",
       "rank_test_score                                                       3   \n",
       "\n",
       "                                                                    7  \\\n",
       "mean_fit_time                                              0.00460138   \n",
       "std_fit_time                                              0.000666081   \n",
       "mean_score_time                                            0.00319362   \n",
       "std_score_time                                            0.000865013   \n",
       "param_knn__n_neighbors                                              5   \n",
       "param_ss                                               MinMaxScaler()   \n",
       "params                  {'knn__n_neighbors': 5, 'ss': MinMaxScaler()}   \n",
       "split0_test_score                                            0.944444   \n",
       "split1_test_score                                            0.888889   \n",
       "split2_test_score                                            0.944444   \n",
       "split3_test_score                                            0.944444   \n",
       "split4_test_score                                                   1   \n",
       "split5_test_score                                            0.944444   \n",
       "split6_test_score                                                   1   \n",
       "split7_test_score                                                   1   \n",
       "split8_test_score                                            0.941176   \n",
       "split9_test_score                                            0.941176   \n",
       "mean_test_score                                              0.954902   \n",
       "std_test_score                                              0.0335759   \n",
       "rank_test_score                                                     4   \n",
       "\n",
       "                                                                      8  \\\n",
       "mean_fit_time                                                0.00550046   \n",
       "std_fit_time                                                 0.00143725   \n",
       "mean_score_time                                               0.0038101   \n",
       "std_score_time                                               0.00087614   \n",
       "param_knn__n_neighbors                                                6   \n",
       "param_ss                                               StandardScaler()   \n",
       "params                  {'knn__n_neighbors': 6, 'ss': StandardScaler()}   \n",
       "split0_test_score                                              0.944444   \n",
       "split1_test_score                                              0.944444   \n",
       "split2_test_score                                              0.888889   \n",
       "split3_test_score                                              0.944444   \n",
       "split4_test_score                                                     1   \n",
       "split5_test_score                                              0.944444   \n",
       "split6_test_score                                                     1   \n",
       "split7_test_score                                                     1   \n",
       "split8_test_score                                              0.941176   \n",
       "split9_test_score                                              0.941176   \n",
       "mean_test_score                                                0.954902   \n",
       "std_test_score                                                0.0335759   \n",
       "rank_test_score                                                       4   \n",
       "\n",
       "                                                                    9  \\\n",
       "mean_fit_time                                              0.00499752   \n",
       "std_fit_time                                              0.000780525   \n",
       "mean_score_time                                            0.00380769   \n",
       "std_score_time                                             0.00141438   \n",
       "param_knn__n_neighbors                                              6   \n",
       "param_ss                                               MinMaxScaler()   \n",
       "params                  {'knn__n_neighbors': 6, 'ss': MinMaxScaler()}   \n",
       "split0_test_score                                            0.888889   \n",
       "split1_test_score                                            0.888889   \n",
       "split2_test_score                                            0.944444   \n",
       "split3_test_score                                            0.944444   \n",
       "split4_test_score                                                   1   \n",
       "split5_test_score                                            0.944444   \n",
       "split6_test_score                                                   1   \n",
       "split7_test_score                                                   1   \n",
       "split8_test_score                                            0.941176   \n",
       "split9_test_score                                            0.882353   \n",
       "mean_test_score                                              0.943464   \n",
       "std_test_score                                              0.0439187   \n",
       "rank_test_score                                                    10   \n",
       "\n",
       "                                                                     10  \\\n",
       "mean_fit_time                                                0.00490222   \n",
       "std_fit_time                                                0.000288256   \n",
       "mean_score_time                                              0.00290141   \n",
       "std_score_time                                              0.000545997   \n",
       "param_knn__n_neighbors                                                7   \n",
       "param_ss                                               StandardScaler()   \n",
       "params                  {'knn__n_neighbors': 7, 'ss': StandardScaler()}   \n",
       "split0_test_score                                                     1   \n",
       "split1_test_score                                              0.944444   \n",
       "split2_test_score                                              0.944444   \n",
       "split3_test_score                                              0.944444   \n",
       "split4_test_score                                                     1   \n",
       "split5_test_score                                              0.888889   \n",
       "split6_test_score                                                     1   \n",
       "split7_test_score                                                     1   \n",
       "split8_test_score                                              0.941176   \n",
       "split9_test_score                                                     1   \n",
       "mean_test_score                                                 0.96634   \n",
       "std_test_score                                                0.0370609   \n",
       "rank_test_score                                                       1   \n",
       "\n",
       "                                                                   11  \n",
       "mean_fit_time                                               0.0048969  \n",
       "std_fit_time                                               0.00121134  \n",
       "mean_score_time                                            0.00340638  \n",
       "std_score_time                                              0.0004895  \n",
       "param_knn__n_neighbors                                              7  \n",
       "param_ss                                               MinMaxScaler()  \n",
       "params                  {'knn__n_neighbors': 7, 'ss': MinMaxScaler()}  \n",
       "split0_test_score                                                   1  \n",
       "split1_test_score                                            0.888889  \n",
       "split2_test_score                                            0.944444  \n",
       "split3_test_score                                            0.944444  \n",
       "split4_test_score                                                   1  \n",
       "split5_test_score                                            0.944444  \n",
       "split6_test_score                                                   1  \n",
       "split7_test_score                                                   1  \n",
       "split8_test_score                                            0.941176  \n",
       "split9_test_score                                                   1  \n",
       "mean_test_score                                               0.96634  \n",
       "std_test_score                                              0.0370609  \n",
       "rank_test_score                                                     1  "
      ]
     },
     "execution_count": 129,
     "metadata": {},
     "output_type": "execute_result"
    }
   ],
   "source": [
    "pd.DataFrame(grid2.cv_results_).T"
   ]
  },
  {
   "cell_type": "markdown",
   "metadata": {},
   "source": [
    "### 3.모델 비교"
   ]
  },
  {
   "cell_type": "code",
   "execution_count": null,
   "metadata": {},
   "outputs": [],
   "source": [
    "grid3=GridSearchCV(estimator=pipe,param_grid=\n",
    "                   {'ss':[StandardScaler(),MinMaxScaler()],\n",
    "                         'model':[KNeighborsClassifier(),LogisticRegression()],\n",
    "                         'knn__n_neighbors':[2,3,4,5,6,7]},cv=10)"
   ]
  },
  {
   "cell_type": "markdown",
   "metadata": {},
   "source": [
    "LogisticRegression 에서는 knn__n_neighbors 없어서임."
   ]
  },
  {
   "cell_type": "code",
   "execution_count": 132,
   "metadata": {
    "scrolled": true
   },
   "outputs": [
    {
     "data": {
      "text/plain": [
       "GridSearchCV(cv=10,\n",
       "             estimator=Pipeline(steps=[('ss', StandardScaler()),\n",
       "                                       ('knn', KNeighborsClassifier())]),\n",
       "             param_grid={'knn__n_neighbors': [2, 3, 4, 5, 6, 7],\n",
       "                         'ss': [StandardScaler(), MinMaxScaler()]})"
      ]
     },
     "execution_count": 132,
     "metadata": {},
     "output_type": "execute_result"
    }
   ],
   "source": [
    "grid3.fit(wine.iloc[:,:-1], wine.target)"
   ]
  },
  {
   "cell_type": "code",
   "execution_count": 133,
   "metadata": {},
   "outputs": [
    {
     "data": {
      "text/html": [
       "<div>\n",
       "<style scoped>\n",
       "    .dataframe tbody tr th:only-of-type {\n",
       "        vertical-align: middle;\n",
       "    }\n",
       "\n",
       "    .dataframe tbody tr th {\n",
       "        vertical-align: top;\n",
       "    }\n",
       "\n",
       "    .dataframe thead th {\n",
       "        text-align: right;\n",
       "    }\n",
       "</style>\n",
       "<table border=\"1\" class=\"dataframe\">\n",
       "  <thead>\n",
       "    <tr style=\"text-align: right;\">\n",
       "      <th></th>\n",
       "      <th>0</th>\n",
       "      <th>1</th>\n",
       "      <th>2</th>\n",
       "      <th>3</th>\n",
       "      <th>4</th>\n",
       "      <th>5</th>\n",
       "      <th>6</th>\n",
       "      <th>7</th>\n",
       "      <th>8</th>\n",
       "      <th>9</th>\n",
       "      <th>10</th>\n",
       "      <th>11</th>\n",
       "    </tr>\n",
       "  </thead>\n",
       "  <tbody>\n",
       "    <tr>\n",
       "      <th>mean_fit_time</th>\n",
       "      <td>0.0118107</td>\n",
       "      <td>0.00761395</td>\n",
       "      <td>0.0089915</td>\n",
       "      <td>0.00851629</td>\n",
       "      <td>0.00658426</td>\n",
       "      <td>0.00479681</td>\n",
       "      <td>0.00741115</td>\n",
       "      <td>0.00701306</td>\n",
       "      <td>0.00660396</td>\n",
       "      <td>0.00500302</td>\n",
       "      <td>0.00669789</td>\n",
       "      <td>0.00511696</td>\n",
       "    </tr>\n",
       "    <tr>\n",
       "      <th>std_fit_time</th>\n",
       "      <td>0.00522826</td>\n",
       "      <td>0.00250201</td>\n",
       "      <td>0.00223819</td>\n",
       "      <td>0.00261917</td>\n",
       "      <td>0.00175024</td>\n",
       "      <td>0.000756338</td>\n",
       "      <td>0.00293112</td>\n",
       "      <td>0.0029235</td>\n",
       "      <td>0.00190083</td>\n",
       "      <td>0.000901146</td>\n",
       "      <td>0.00162081</td>\n",
       "      <td>0.000827011</td>\n",
       "    </tr>\n",
       "    <tr>\n",
       "      <th>mean_score_time</th>\n",
       "      <td>0.00559072</td>\n",
       "      <td>0.00468469</td>\n",
       "      <td>0.00570626</td>\n",
       "      <td>0.0044862</td>\n",
       "      <td>0.00401125</td>\n",
       "      <td>0.00378485</td>\n",
       "      <td>0.00489917</td>\n",
       "      <td>0.00539267</td>\n",
       "      <td>0.00360744</td>\n",
       "      <td>0.00339656</td>\n",
       "      <td>0.00390308</td>\n",
       "      <td>0.00339081</td>\n",
       "    </tr>\n",
       "    <tr>\n",
       "      <th>std_score_time</th>\n",
       "      <td>0.00200986</td>\n",
       "      <td>0.00195219</td>\n",
       "      <td>0.00147488</td>\n",
       "      <td>0.00174453</td>\n",
       "      <td>0.00184052</td>\n",
       "      <td>0.00106455</td>\n",
       "      <td>0.00270473</td>\n",
       "      <td>0.00285663</td>\n",
       "      <td>0.00157143</td>\n",
       "      <td>0.000790256</td>\n",
       "      <td>0.00196702</td>\n",
       "      <td>0.0004828</td>\n",
       "    </tr>\n",
       "    <tr>\n",
       "      <th>param_knn__n_neighbors</th>\n",
       "      <td>2</td>\n",
       "      <td>2</td>\n",
       "      <td>3</td>\n",
       "      <td>3</td>\n",
       "      <td>4</td>\n",
       "      <td>4</td>\n",
       "      <td>5</td>\n",
       "      <td>5</td>\n",
       "      <td>6</td>\n",
       "      <td>6</td>\n",
       "      <td>7</td>\n",
       "      <td>7</td>\n",
       "    </tr>\n",
       "    <tr>\n",
       "      <th>param_ss</th>\n",
       "      <td>StandardScaler()</td>\n",
       "      <td>MinMaxScaler()</td>\n",
       "      <td>StandardScaler()</td>\n",
       "      <td>MinMaxScaler()</td>\n",
       "      <td>StandardScaler()</td>\n",
       "      <td>MinMaxScaler()</td>\n",
       "      <td>StandardScaler()</td>\n",
       "      <td>MinMaxScaler()</td>\n",
       "      <td>StandardScaler()</td>\n",
       "      <td>MinMaxScaler()</td>\n",
       "      <td>StandardScaler()</td>\n",
       "      <td>MinMaxScaler()</td>\n",
       "    </tr>\n",
       "    <tr>\n",
       "      <th>params</th>\n",
       "      <td>{'knn__n_neighbors': 2, 'ss': StandardScaler()}</td>\n",
       "      <td>{'knn__n_neighbors': 2, 'ss': MinMaxScaler()}</td>\n",
       "      <td>{'knn__n_neighbors': 3, 'ss': StandardScaler()}</td>\n",
       "      <td>{'knn__n_neighbors': 3, 'ss': MinMaxScaler()}</td>\n",
       "      <td>{'knn__n_neighbors': 4, 'ss': StandardScaler()}</td>\n",
       "      <td>{'knn__n_neighbors': 4, 'ss': MinMaxScaler()}</td>\n",
       "      <td>{'knn__n_neighbors': 5, 'ss': StandardScaler()}</td>\n",
       "      <td>{'knn__n_neighbors': 5, 'ss': MinMaxScaler()}</td>\n",
       "      <td>{'knn__n_neighbors': 6, 'ss': StandardScaler()}</td>\n",
       "      <td>{'knn__n_neighbors': 6, 'ss': MinMaxScaler()}</td>\n",
       "      <td>{'knn__n_neighbors': 7, 'ss': StandardScaler()}</td>\n",
       "      <td>{'knn__n_neighbors': 7, 'ss': MinMaxScaler()}</td>\n",
       "    </tr>\n",
       "    <tr>\n",
       "      <th>split0_test_score</th>\n",
       "      <td>0.888889</td>\n",
       "      <td>0.833333</td>\n",
       "      <td>0.944444</td>\n",
       "      <td>0.833333</td>\n",
       "      <td>0.888889</td>\n",
       "      <td>0.888889</td>\n",
       "      <td>1</td>\n",
       "      <td>0.944444</td>\n",
       "      <td>0.944444</td>\n",
       "      <td>0.888889</td>\n",
       "      <td>1</td>\n",
       "      <td>1</td>\n",
       "    </tr>\n",
       "    <tr>\n",
       "      <th>split1_test_score</th>\n",
       "      <td>0.944444</td>\n",
       "      <td>0.888889</td>\n",
       "      <td>0.944444</td>\n",
       "      <td>0.944444</td>\n",
       "      <td>0.944444</td>\n",
       "      <td>0.944444</td>\n",
       "      <td>0.944444</td>\n",
       "      <td>0.888889</td>\n",
       "      <td>0.944444</td>\n",
       "      <td>0.888889</td>\n",
       "      <td>0.944444</td>\n",
       "      <td>0.888889</td>\n",
       "    </tr>\n",
       "    <tr>\n",
       "      <th>split2_test_score</th>\n",
       "      <td>0.944444</td>\n",
       "      <td>0.944444</td>\n",
       "      <td>0.888889</td>\n",
       "      <td>0.944444</td>\n",
       "      <td>0.944444</td>\n",
       "      <td>0.944444</td>\n",
       "      <td>0.944444</td>\n",
       "      <td>0.944444</td>\n",
       "      <td>0.888889</td>\n",
       "      <td>0.944444</td>\n",
       "      <td>0.944444</td>\n",
       "      <td>0.944444</td>\n",
       "    </tr>\n",
       "    <tr>\n",
       "      <th>split3_test_score</th>\n",
       "      <td>0.944444</td>\n",
       "      <td>0.944444</td>\n",
       "      <td>0.944444</td>\n",
       "      <td>0.944444</td>\n",
       "      <td>0.944444</td>\n",
       "      <td>0.944444</td>\n",
       "      <td>0.944444</td>\n",
       "      <td>0.944444</td>\n",
       "      <td>0.944444</td>\n",
       "      <td>0.944444</td>\n",
       "      <td>0.944444</td>\n",
       "      <td>0.944444</td>\n",
       "    </tr>\n",
       "    <tr>\n",
       "      <th>split4_test_score</th>\n",
       "      <td>1</td>\n",
       "      <td>1</td>\n",
       "      <td>1</td>\n",
       "      <td>1</td>\n",
       "      <td>1</td>\n",
       "      <td>1</td>\n",
       "      <td>1</td>\n",
       "      <td>1</td>\n",
       "      <td>1</td>\n",
       "      <td>1</td>\n",
       "      <td>1</td>\n",
       "      <td>1</td>\n",
       "    </tr>\n",
       "    <tr>\n",
       "      <th>split5_test_score</th>\n",
       "      <td>0.888889</td>\n",
       "      <td>1</td>\n",
       "      <td>0.944444</td>\n",
       "      <td>1</td>\n",
       "      <td>0.944444</td>\n",
       "      <td>0.944444</td>\n",
       "      <td>0.944444</td>\n",
       "      <td>0.944444</td>\n",
       "      <td>0.944444</td>\n",
       "      <td>0.944444</td>\n",
       "      <td>0.888889</td>\n",
       "      <td>0.944444</td>\n",
       "    </tr>\n",
       "    <tr>\n",
       "      <th>split6_test_score</th>\n",
       "      <td>1</td>\n",
       "      <td>1</td>\n",
       "      <td>1</td>\n",
       "      <td>1</td>\n",
       "      <td>1</td>\n",
       "      <td>1</td>\n",
       "      <td>1</td>\n",
       "      <td>1</td>\n",
       "      <td>1</td>\n",
       "      <td>1</td>\n",
       "      <td>1</td>\n",
       "      <td>1</td>\n",
       "    </tr>\n",
       "    <tr>\n",
       "      <th>split7_test_score</th>\n",
       "      <td>1</td>\n",
       "      <td>1</td>\n",
       "      <td>1</td>\n",
       "      <td>1</td>\n",
       "      <td>1</td>\n",
       "      <td>1</td>\n",
       "      <td>1</td>\n",
       "      <td>1</td>\n",
       "      <td>1</td>\n",
       "      <td>1</td>\n",
       "      <td>1</td>\n",
       "      <td>1</td>\n",
       "    </tr>\n",
       "    <tr>\n",
       "      <th>split8_test_score</th>\n",
       "      <td>0.882353</td>\n",
       "      <td>0.882353</td>\n",
       "      <td>0.882353</td>\n",
       "      <td>0.882353</td>\n",
       "      <td>0.882353</td>\n",
       "      <td>0.941176</td>\n",
       "      <td>0.941176</td>\n",
       "      <td>0.941176</td>\n",
       "      <td>0.941176</td>\n",
       "      <td>0.941176</td>\n",
       "      <td>0.941176</td>\n",
       "      <td>0.941176</td>\n",
       "    </tr>\n",
       "    <tr>\n",
       "      <th>split9_test_score</th>\n",
       "      <td>0.941176</td>\n",
       "      <td>0.941176</td>\n",
       "      <td>0.941176</td>\n",
       "      <td>0.941176</td>\n",
       "      <td>0.941176</td>\n",
       "      <td>0.941176</td>\n",
       "      <td>0.941176</td>\n",
       "      <td>0.941176</td>\n",
       "      <td>0.941176</td>\n",
       "      <td>0.882353</td>\n",
       "      <td>1</td>\n",
       "      <td>1</td>\n",
       "    </tr>\n",
       "    <tr>\n",
       "      <th>mean_test_score</th>\n",
       "      <td>0.943464</td>\n",
       "      <td>0.943464</td>\n",
       "      <td>0.94902</td>\n",
       "      <td>0.94902</td>\n",
       "      <td>0.94902</td>\n",
       "      <td>0.954902</td>\n",
       "      <td>0.966013</td>\n",
       "      <td>0.954902</td>\n",
       "      <td>0.954902</td>\n",
       "      <td>0.943464</td>\n",
       "      <td>0.96634</td>\n",
       "      <td>0.96634</td>\n",
       "    </tr>\n",
       "    <tr>\n",
       "      <th>std_test_score</th>\n",
       "      <td>0.0439187</td>\n",
       "      <td>0.0562443</td>\n",
       "      <td>0.040003</td>\n",
       "      <td>0.0532429</td>\n",
       "      <td>0.040003</td>\n",
       "      <td>0.0335759</td>\n",
       "      <td>0.0277759</td>\n",
       "      <td>0.0335759</td>\n",
       "      <td>0.0335759</td>\n",
       "      <td>0.0439187</td>\n",
       "      <td>0.0370609</td>\n",
       "      <td>0.0370609</td>\n",
       "    </tr>\n",
       "    <tr>\n",
       "      <th>rank_test_score</th>\n",
       "      <td>10</td>\n",
       "      <td>10</td>\n",
       "      <td>7</td>\n",
       "      <td>7</td>\n",
       "      <td>7</td>\n",
       "      <td>4</td>\n",
       "      <td>3</td>\n",
       "      <td>4</td>\n",
       "      <td>4</td>\n",
       "      <td>10</td>\n",
       "      <td>1</td>\n",
       "      <td>1</td>\n",
       "    </tr>\n",
       "  </tbody>\n",
       "</table>\n",
       "</div>"
      ],
      "text/plain": [
       "                                                                      0  \\\n",
       "mean_fit_time                                                 0.0118107   \n",
       "std_fit_time                                                 0.00522826   \n",
       "mean_score_time                                              0.00559072   \n",
       "std_score_time                                               0.00200986   \n",
       "param_knn__n_neighbors                                                2   \n",
       "param_ss                                               StandardScaler()   \n",
       "params                  {'knn__n_neighbors': 2, 'ss': StandardScaler()}   \n",
       "split0_test_score                                              0.888889   \n",
       "split1_test_score                                              0.944444   \n",
       "split2_test_score                                              0.944444   \n",
       "split3_test_score                                              0.944444   \n",
       "split4_test_score                                                     1   \n",
       "split5_test_score                                              0.888889   \n",
       "split6_test_score                                                     1   \n",
       "split7_test_score                                                     1   \n",
       "split8_test_score                                              0.882353   \n",
       "split9_test_score                                              0.941176   \n",
       "mean_test_score                                                0.943464   \n",
       "std_test_score                                                0.0439187   \n",
       "rank_test_score                                                      10   \n",
       "\n",
       "                                                                    1  \\\n",
       "mean_fit_time                                              0.00761395   \n",
       "std_fit_time                                               0.00250201   \n",
       "mean_score_time                                            0.00468469   \n",
       "std_score_time                                             0.00195219   \n",
       "param_knn__n_neighbors                                              2   \n",
       "param_ss                                               MinMaxScaler()   \n",
       "params                  {'knn__n_neighbors': 2, 'ss': MinMaxScaler()}   \n",
       "split0_test_score                                            0.833333   \n",
       "split1_test_score                                            0.888889   \n",
       "split2_test_score                                            0.944444   \n",
       "split3_test_score                                            0.944444   \n",
       "split4_test_score                                                   1   \n",
       "split5_test_score                                                   1   \n",
       "split6_test_score                                                   1   \n",
       "split7_test_score                                                   1   \n",
       "split8_test_score                                            0.882353   \n",
       "split9_test_score                                            0.941176   \n",
       "mean_test_score                                              0.943464   \n",
       "std_test_score                                              0.0562443   \n",
       "rank_test_score                                                    10   \n",
       "\n",
       "                                                                      2  \\\n",
       "mean_fit_time                                                 0.0089915   \n",
       "std_fit_time                                                 0.00223819   \n",
       "mean_score_time                                              0.00570626   \n",
       "std_score_time                                               0.00147488   \n",
       "param_knn__n_neighbors                                                3   \n",
       "param_ss                                               StandardScaler()   \n",
       "params                  {'knn__n_neighbors': 3, 'ss': StandardScaler()}   \n",
       "split0_test_score                                              0.944444   \n",
       "split1_test_score                                              0.944444   \n",
       "split2_test_score                                              0.888889   \n",
       "split3_test_score                                              0.944444   \n",
       "split4_test_score                                                     1   \n",
       "split5_test_score                                              0.944444   \n",
       "split6_test_score                                                     1   \n",
       "split7_test_score                                                     1   \n",
       "split8_test_score                                              0.882353   \n",
       "split9_test_score                                              0.941176   \n",
       "mean_test_score                                                 0.94902   \n",
       "std_test_score                                                 0.040003   \n",
       "rank_test_score                                                       7   \n",
       "\n",
       "                                                                    3  \\\n",
       "mean_fit_time                                              0.00851629   \n",
       "std_fit_time                                               0.00261917   \n",
       "mean_score_time                                             0.0044862   \n",
       "std_score_time                                             0.00174453   \n",
       "param_knn__n_neighbors                                              3   \n",
       "param_ss                                               MinMaxScaler()   \n",
       "params                  {'knn__n_neighbors': 3, 'ss': MinMaxScaler()}   \n",
       "split0_test_score                                            0.833333   \n",
       "split1_test_score                                            0.944444   \n",
       "split2_test_score                                            0.944444   \n",
       "split3_test_score                                            0.944444   \n",
       "split4_test_score                                                   1   \n",
       "split5_test_score                                                   1   \n",
       "split6_test_score                                                   1   \n",
       "split7_test_score                                                   1   \n",
       "split8_test_score                                            0.882353   \n",
       "split9_test_score                                            0.941176   \n",
       "mean_test_score                                               0.94902   \n",
       "std_test_score                                              0.0532429   \n",
       "rank_test_score                                                     7   \n",
       "\n",
       "                                                                      4  \\\n",
       "mean_fit_time                                                0.00658426   \n",
       "std_fit_time                                                 0.00175024   \n",
       "mean_score_time                                              0.00401125   \n",
       "std_score_time                                               0.00184052   \n",
       "param_knn__n_neighbors                                                4   \n",
       "param_ss                                               StandardScaler()   \n",
       "params                  {'knn__n_neighbors': 4, 'ss': StandardScaler()}   \n",
       "split0_test_score                                              0.888889   \n",
       "split1_test_score                                              0.944444   \n",
       "split2_test_score                                              0.944444   \n",
       "split3_test_score                                              0.944444   \n",
       "split4_test_score                                                     1   \n",
       "split5_test_score                                              0.944444   \n",
       "split6_test_score                                                     1   \n",
       "split7_test_score                                                     1   \n",
       "split8_test_score                                              0.882353   \n",
       "split9_test_score                                              0.941176   \n",
       "mean_test_score                                                 0.94902   \n",
       "std_test_score                                                 0.040003   \n",
       "rank_test_score                                                       7   \n",
       "\n",
       "                                                                    5  \\\n",
       "mean_fit_time                                              0.00479681   \n",
       "std_fit_time                                              0.000756338   \n",
       "mean_score_time                                            0.00378485   \n",
       "std_score_time                                             0.00106455   \n",
       "param_knn__n_neighbors                                              4   \n",
       "param_ss                                               MinMaxScaler()   \n",
       "params                  {'knn__n_neighbors': 4, 'ss': MinMaxScaler()}   \n",
       "split0_test_score                                            0.888889   \n",
       "split1_test_score                                            0.944444   \n",
       "split2_test_score                                            0.944444   \n",
       "split3_test_score                                            0.944444   \n",
       "split4_test_score                                                   1   \n",
       "split5_test_score                                            0.944444   \n",
       "split6_test_score                                                   1   \n",
       "split7_test_score                                                   1   \n",
       "split8_test_score                                            0.941176   \n",
       "split9_test_score                                            0.941176   \n",
       "mean_test_score                                              0.954902   \n",
       "std_test_score                                              0.0335759   \n",
       "rank_test_score                                                     4   \n",
       "\n",
       "                                                                      6  \\\n",
       "mean_fit_time                                                0.00741115   \n",
       "std_fit_time                                                 0.00293112   \n",
       "mean_score_time                                              0.00489917   \n",
       "std_score_time                                               0.00270473   \n",
       "param_knn__n_neighbors                                                5   \n",
       "param_ss                                               StandardScaler()   \n",
       "params                  {'knn__n_neighbors': 5, 'ss': StandardScaler()}   \n",
       "split0_test_score                                                     1   \n",
       "split1_test_score                                              0.944444   \n",
       "split2_test_score                                              0.944444   \n",
       "split3_test_score                                              0.944444   \n",
       "split4_test_score                                                     1   \n",
       "split5_test_score                                              0.944444   \n",
       "split6_test_score                                                     1   \n",
       "split7_test_score                                                     1   \n",
       "split8_test_score                                              0.941176   \n",
       "split9_test_score                                              0.941176   \n",
       "mean_test_score                                                0.966013   \n",
       "std_test_score                                                0.0277759   \n",
       "rank_test_score                                                       3   \n",
       "\n",
       "                                                                    7  \\\n",
       "mean_fit_time                                              0.00701306   \n",
       "std_fit_time                                                0.0029235   \n",
       "mean_score_time                                            0.00539267   \n",
       "std_score_time                                             0.00285663   \n",
       "param_knn__n_neighbors                                              5   \n",
       "param_ss                                               MinMaxScaler()   \n",
       "params                  {'knn__n_neighbors': 5, 'ss': MinMaxScaler()}   \n",
       "split0_test_score                                            0.944444   \n",
       "split1_test_score                                            0.888889   \n",
       "split2_test_score                                            0.944444   \n",
       "split3_test_score                                            0.944444   \n",
       "split4_test_score                                                   1   \n",
       "split5_test_score                                            0.944444   \n",
       "split6_test_score                                                   1   \n",
       "split7_test_score                                                   1   \n",
       "split8_test_score                                            0.941176   \n",
       "split9_test_score                                            0.941176   \n",
       "mean_test_score                                              0.954902   \n",
       "std_test_score                                              0.0335759   \n",
       "rank_test_score                                                     4   \n",
       "\n",
       "                                                                      8  \\\n",
       "mean_fit_time                                                0.00660396   \n",
       "std_fit_time                                                 0.00190083   \n",
       "mean_score_time                                              0.00360744   \n",
       "std_score_time                                               0.00157143   \n",
       "param_knn__n_neighbors                                                6   \n",
       "param_ss                                               StandardScaler()   \n",
       "params                  {'knn__n_neighbors': 6, 'ss': StandardScaler()}   \n",
       "split0_test_score                                              0.944444   \n",
       "split1_test_score                                              0.944444   \n",
       "split2_test_score                                              0.888889   \n",
       "split3_test_score                                              0.944444   \n",
       "split4_test_score                                                     1   \n",
       "split5_test_score                                              0.944444   \n",
       "split6_test_score                                                     1   \n",
       "split7_test_score                                                     1   \n",
       "split8_test_score                                              0.941176   \n",
       "split9_test_score                                              0.941176   \n",
       "mean_test_score                                                0.954902   \n",
       "std_test_score                                                0.0335759   \n",
       "rank_test_score                                                       4   \n",
       "\n",
       "                                                                    9  \\\n",
       "mean_fit_time                                              0.00500302   \n",
       "std_fit_time                                              0.000901146   \n",
       "mean_score_time                                            0.00339656   \n",
       "std_score_time                                            0.000790256   \n",
       "param_knn__n_neighbors                                              6   \n",
       "param_ss                                               MinMaxScaler()   \n",
       "params                  {'knn__n_neighbors': 6, 'ss': MinMaxScaler()}   \n",
       "split0_test_score                                            0.888889   \n",
       "split1_test_score                                            0.888889   \n",
       "split2_test_score                                            0.944444   \n",
       "split3_test_score                                            0.944444   \n",
       "split4_test_score                                                   1   \n",
       "split5_test_score                                            0.944444   \n",
       "split6_test_score                                                   1   \n",
       "split7_test_score                                                   1   \n",
       "split8_test_score                                            0.941176   \n",
       "split9_test_score                                            0.882353   \n",
       "mean_test_score                                              0.943464   \n",
       "std_test_score                                              0.0439187   \n",
       "rank_test_score                                                    10   \n",
       "\n",
       "                                                                     10  \\\n",
       "mean_fit_time                                                0.00669789   \n",
       "std_fit_time                                                 0.00162081   \n",
       "mean_score_time                                              0.00390308   \n",
       "std_score_time                                               0.00196702   \n",
       "param_knn__n_neighbors                                                7   \n",
       "param_ss                                               StandardScaler()   \n",
       "params                  {'knn__n_neighbors': 7, 'ss': StandardScaler()}   \n",
       "split0_test_score                                                     1   \n",
       "split1_test_score                                              0.944444   \n",
       "split2_test_score                                              0.944444   \n",
       "split3_test_score                                              0.944444   \n",
       "split4_test_score                                                     1   \n",
       "split5_test_score                                              0.888889   \n",
       "split6_test_score                                                     1   \n",
       "split7_test_score                                                     1   \n",
       "split8_test_score                                              0.941176   \n",
       "split9_test_score                                                     1   \n",
       "mean_test_score                                                 0.96634   \n",
       "std_test_score                                                0.0370609   \n",
       "rank_test_score                                                       1   \n",
       "\n",
       "                                                                   11  \n",
       "mean_fit_time                                              0.00511696  \n",
       "std_fit_time                                              0.000827011  \n",
       "mean_score_time                                            0.00339081  \n",
       "std_score_time                                              0.0004828  \n",
       "param_knn__n_neighbors                                              7  \n",
       "param_ss                                               MinMaxScaler()  \n",
       "params                  {'knn__n_neighbors': 7, 'ss': MinMaxScaler()}  \n",
       "split0_test_score                                                   1  \n",
       "split1_test_score                                            0.888889  \n",
       "split2_test_score                                            0.944444  \n",
       "split3_test_score                                            0.944444  \n",
       "split4_test_score                                                   1  \n",
       "split5_test_score                                            0.944444  \n",
       "split6_test_score                                                   1  \n",
       "split7_test_score                                                   1  \n",
       "split8_test_score                                            0.941176  \n",
       "split9_test_score                                                   1  \n",
       "mean_test_score                                               0.96634  \n",
       "std_test_score                                              0.0370609  \n",
       "rank_test_score                                                     1  "
      ]
     },
     "execution_count": 133,
     "metadata": {},
     "output_type": "execute_result"
    }
   ],
   "source": [
    "pd.DataFrame(grid3.cv_results_).T"
   ]
  },
  {
   "cell_type": "code",
   "execution_count": 130,
   "metadata": {
    "scrolled": true
   },
   "outputs": [
    {
     "data": {
      "text/plain": [
       "{'knn__n_neighbors': 7, 'ss': StandardScaler()}"
      ]
     },
     "execution_count": 130,
     "metadata": {},
     "output_type": "execute_result"
    }
   ],
   "source": [
    "grid3.best_params_"
   ]
  },
  {
   "cell_type": "markdown",
   "metadata": {},
   "source": [
    "### 4.하이퍼 파라미터 조합 비교"
   ]
  },
  {
   "cell_type": "markdown",
   "metadata": {},
   "source": [
    "#### 우연히 발견한 tip\n",
    "`GridSearchCV` 에 ` param_grid`에 대한 설명\n",
    "> ### param_grid \n",
    "> ##### dict or list of dictionaries\n",
    "    Dictionary with parameters names (string) as keys and lists of\n",
    "    parameter settings to try as values, or a list of such\n",
    "    dictionaries, in which case the grids spanned by each dictionary\n",
    "    in the list are explored. This enables searching over any sequence\n",
    "    of parameter settings.\n",
    "    \n",
    " Dictionary 형태나 여러 Dictionary들이 list내에 들어가 있는 형태로 사용 가능 "
   ]
  },
  {
   "cell_type": "markdown",
   "metadata": {},
   "source": [
    "dictionary 형식 대신  list 내에 dictionary를 포함하는 형식으로 작성함"
   ]
  },
  {
   "cell_type": "code",
   "execution_count": 144,
   "metadata": {},
   "outputs": [],
   "source": [
    "grid5=GridSearchCV(estimator=KNeighborsClassifier(),\n",
    "                   param_grid=[{'n_neighbors': [2,3,4,5]},\n",
    "                   {'n_neighbors': [2,3,4,5],'leaf_size':[5,10]}],\n",
    "                   cv=10)"
   ]
  },
  {
   "cell_type": "markdown",
   "metadata": {},
   "source": [
    "LogisticRegression 에서는 knn__n_neighbors 없어서임."
   ]
  },
  {
   "cell_type": "code",
   "execution_count": 145,
   "metadata": {},
   "outputs": [
    {
     "data": {
      "text/plain": [
       "GridSearchCV(cv=10, estimator=KNeighborsClassifier(),\n",
       "             param_grid=[{'n_neighbors': [2, 3, 4, 5]},\n",
       "                         {'leaf_size': [5, 10], 'n_neighbors': [2, 3, 4, 5]}])"
      ]
     },
     "execution_count": 145,
     "metadata": {},
     "output_type": "execute_result"
    }
   ],
   "source": [
    "grid5.fit(wine.iloc[:,:-1], wine.target)"
   ]
  },
  {
   "cell_type": "code",
   "execution_count": 143,
   "metadata": {
    "scrolled": true
   },
   "outputs": [
    {
     "data": {
      "text/html": [
       "<div>\n",
       "<style scoped>\n",
       "    .dataframe tbody tr th:only-of-type {\n",
       "        vertical-align: middle;\n",
       "    }\n",
       "\n",
       "    .dataframe tbody tr th {\n",
       "        vertical-align: top;\n",
       "    }\n",
       "\n",
       "    .dataframe thead th {\n",
       "        text-align: right;\n",
       "    }\n",
       "</style>\n",
       "<table border=\"1\" class=\"dataframe\">\n",
       "  <thead>\n",
       "    <tr style=\"text-align: right;\">\n",
       "      <th></th>\n",
       "      <th>0</th>\n",
       "      <th>1</th>\n",
       "      <th>2</th>\n",
       "      <th>3</th>\n",
       "      <th>4</th>\n",
       "      <th>5</th>\n",
       "      <th>6</th>\n",
       "      <th>7</th>\n",
       "      <th>8</th>\n",
       "      <th>9</th>\n",
       "      <th>10</th>\n",
       "      <th>11</th>\n",
       "    </tr>\n",
       "  </thead>\n",
       "  <tbody>\n",
       "    <tr>\n",
       "      <th>mean_fit_time</th>\n",
       "      <td>0.00459838</td>\n",
       "      <td>0.00410244</td>\n",
       "      <td>0.00320151</td>\n",
       "      <td>0.00330215</td>\n",
       "      <td>0.0033144</td>\n",
       "      <td>0.00311563</td>\n",
       "      <td>0.00322666</td>\n",
       "      <td>0.00290444</td>\n",
       "      <td>0.00310304</td>\n",
       "      <td>0.00319588</td>\n",
       "      <td>0.00290143</td>\n",
       "      <td>0.00310032</td>\n",
       "    </tr>\n",
       "    <tr>\n",
       "      <th>std_fit_time</th>\n",
       "      <td>0.00185178</td>\n",
       "      <td>0.000832729</td>\n",
       "      <td>0.000399379</td>\n",
       "      <td>0.00134958</td>\n",
       "      <td>0.000654723</td>\n",
       "      <td>0.00055251</td>\n",
       "      <td>0.000979092</td>\n",
       "      <td>0.000301819</td>\n",
       "      <td>0.000538559</td>\n",
       "      <td>0.00106711</td>\n",
       "      <td>0.000703234</td>\n",
       "      <td>0.000538156</td>\n",
       "    </tr>\n",
       "    <tr>\n",
       "      <th>mean_score_time</th>\n",
       "      <td>0.00410473</td>\n",
       "      <td>0.00419083</td>\n",
       "      <td>0.00365412</td>\n",
       "      <td>0.00370092</td>\n",
       "      <td>0.00289154</td>\n",
       "      <td>0.00261338</td>\n",
       "      <td>0.00281355</td>\n",
       "      <td>0.00281088</td>\n",
       "      <td>0.00420649</td>\n",
       "      <td>0.00299962</td>\n",
       "      <td>0.00289998</td>\n",
       "      <td>0.00259967</td>\n",
       "    </tr>\n",
       "    <tr>\n",
       "      <th>std_score_time</th>\n",
       "      <td>0.00157834</td>\n",
       "      <td>0.00193762</td>\n",
       "      <td>0.000893135</td>\n",
       "      <td>0.00110244</td>\n",
       "      <td>0.000936348</td>\n",
       "      <td>0.000494684</td>\n",
       "      <td>0.000777815</td>\n",
       "      <td>0.000756076</td>\n",
       "      <td>0.00166832</td>\n",
       "      <td>0.000894736</td>\n",
       "      <td>0.000698591</td>\n",
       "      <td>0.000489505</td>\n",
       "    </tr>\n",
       "    <tr>\n",
       "      <th>param_n_neighbors</th>\n",
       "      <td>2</td>\n",
       "      <td>3</td>\n",
       "      <td>4</td>\n",
       "      <td>5</td>\n",
       "      <td>2</td>\n",
       "      <td>3</td>\n",
       "      <td>4</td>\n",
       "      <td>5</td>\n",
       "      <td>2</td>\n",
       "      <td>3</td>\n",
       "      <td>4</td>\n",
       "      <td>5</td>\n",
       "    </tr>\n",
       "    <tr>\n",
       "      <th>param_leaf_size</th>\n",
       "      <td>NaN</td>\n",
       "      <td>NaN</td>\n",
       "      <td>NaN</td>\n",
       "      <td>NaN</td>\n",
       "      <td>5</td>\n",
       "      <td>5</td>\n",
       "      <td>5</td>\n",
       "      <td>5</td>\n",
       "      <td>10</td>\n",
       "      <td>10</td>\n",
       "      <td>10</td>\n",
       "      <td>10</td>\n",
       "    </tr>\n",
       "    <tr>\n",
       "      <th>params</th>\n",
       "      <td>{'n_neighbors': 2}</td>\n",
       "      <td>{'n_neighbors': 3}</td>\n",
       "      <td>{'n_neighbors': 4}</td>\n",
       "      <td>{'n_neighbors': 5}</td>\n",
       "      <td>{'leaf_size': 5, 'n_neighbors': 2}</td>\n",
       "      <td>{'leaf_size': 5, 'n_neighbors': 3}</td>\n",
       "      <td>{'leaf_size': 5, 'n_neighbors': 4}</td>\n",
       "      <td>{'leaf_size': 5, 'n_neighbors': 5}</td>\n",
       "      <td>{'leaf_size': 10, 'n_neighbors': 2}</td>\n",
       "      <td>{'leaf_size': 10, 'n_neighbors': 3}</td>\n",
       "      <td>{'leaf_size': 10, 'n_neighbors': 4}</td>\n",
       "      <td>{'leaf_size': 10, 'n_neighbors': 5}</td>\n",
       "    </tr>\n",
       "    <tr>\n",
       "      <th>split0_test_score</th>\n",
       "      <td>0.555556</td>\n",
       "      <td>0.666667</td>\n",
       "      <td>0.666667</td>\n",
       "      <td>0.666667</td>\n",
       "      <td>0.555556</td>\n",
       "      <td>0.666667</td>\n",
       "      <td>0.666667</td>\n",
       "      <td>0.666667</td>\n",
       "      <td>0.555556</td>\n",
       "      <td>0.666667</td>\n",
       "      <td>0.666667</td>\n",
       "      <td>0.666667</td>\n",
       "    </tr>\n",
       "    <tr>\n",
       "      <th>split1_test_score</th>\n",
       "      <td>0.666667</td>\n",
       "      <td>0.611111</td>\n",
       "      <td>0.666667</td>\n",
       "      <td>0.666667</td>\n",
       "      <td>0.666667</td>\n",
       "      <td>0.611111</td>\n",
       "      <td>0.666667</td>\n",
       "      <td>0.666667</td>\n",
       "      <td>0.666667</td>\n",
       "      <td>0.611111</td>\n",
       "      <td>0.666667</td>\n",
       "      <td>0.666667</td>\n",
       "    </tr>\n",
       "    <tr>\n",
       "      <th>split2_test_score</th>\n",
       "      <td>0.555556</td>\n",
       "      <td>0.666667</td>\n",
       "      <td>0.611111</td>\n",
       "      <td>0.611111</td>\n",
       "      <td>0.555556</td>\n",
       "      <td>0.666667</td>\n",
       "      <td>0.611111</td>\n",
       "      <td>0.611111</td>\n",
       "      <td>0.555556</td>\n",
       "      <td>0.666667</td>\n",
       "      <td>0.611111</td>\n",
       "      <td>0.611111</td>\n",
       "    </tr>\n",
       "    <tr>\n",
       "      <th>split3_test_score</th>\n",
       "      <td>0.611111</td>\n",
       "      <td>0.666667</td>\n",
       "      <td>0.611111</td>\n",
       "      <td>0.611111</td>\n",
       "      <td>0.611111</td>\n",
       "      <td>0.666667</td>\n",
       "      <td>0.611111</td>\n",
       "      <td>0.611111</td>\n",
       "      <td>0.611111</td>\n",
       "      <td>0.666667</td>\n",
       "      <td>0.611111</td>\n",
       "      <td>0.611111</td>\n",
       "    </tr>\n",
       "    <tr>\n",
       "      <th>split4_test_score</th>\n",
       "      <td>0.611111</td>\n",
       "      <td>0.666667</td>\n",
       "      <td>0.611111</td>\n",
       "      <td>0.611111</td>\n",
       "      <td>0.611111</td>\n",
       "      <td>0.666667</td>\n",
       "      <td>0.611111</td>\n",
       "      <td>0.611111</td>\n",
       "      <td>0.611111</td>\n",
       "      <td>0.666667</td>\n",
       "      <td>0.611111</td>\n",
       "      <td>0.611111</td>\n",
       "    </tr>\n",
       "    <tr>\n",
       "      <th>split5_test_score</th>\n",
       "      <td>0.666667</td>\n",
       "      <td>0.666667</td>\n",
       "      <td>0.611111</td>\n",
       "      <td>0.611111</td>\n",
       "      <td>0.666667</td>\n",
       "      <td>0.666667</td>\n",
       "      <td>0.611111</td>\n",
       "      <td>0.611111</td>\n",
       "      <td>0.666667</td>\n",
       "      <td>0.666667</td>\n",
       "      <td>0.611111</td>\n",
       "      <td>0.611111</td>\n",
       "    </tr>\n",
       "    <tr>\n",
       "      <th>split6_test_score</th>\n",
       "      <td>0.777778</td>\n",
       "      <td>0.722222</td>\n",
       "      <td>0.611111</td>\n",
       "      <td>0.722222</td>\n",
       "      <td>0.777778</td>\n",
       "      <td>0.722222</td>\n",
       "      <td>0.611111</td>\n",
       "      <td>0.722222</td>\n",
       "      <td>0.777778</td>\n",
       "      <td>0.722222</td>\n",
       "      <td>0.611111</td>\n",
       "      <td>0.722222</td>\n",
       "    </tr>\n",
       "    <tr>\n",
       "      <th>split7_test_score</th>\n",
       "      <td>0.666667</td>\n",
       "      <td>0.777778</td>\n",
       "      <td>0.611111</td>\n",
       "      <td>0.666667</td>\n",
       "      <td>0.666667</td>\n",
       "      <td>0.777778</td>\n",
       "      <td>0.611111</td>\n",
       "      <td>0.666667</td>\n",
       "      <td>0.666667</td>\n",
       "      <td>0.777778</td>\n",
       "      <td>0.611111</td>\n",
       "      <td>0.666667</td>\n",
       "    </tr>\n",
       "    <tr>\n",
       "      <th>split8_test_score</th>\n",
       "      <td>0.823529</td>\n",
       "      <td>0.882353</td>\n",
       "      <td>0.823529</td>\n",
       "      <td>0.823529</td>\n",
       "      <td>0.823529</td>\n",
       "      <td>0.882353</td>\n",
       "      <td>0.823529</td>\n",
       "      <td>0.823529</td>\n",
       "      <td>0.823529</td>\n",
       "      <td>0.882353</td>\n",
       "      <td>0.823529</td>\n",
       "      <td>0.823529</td>\n",
       "    </tr>\n",
       "    <tr>\n",
       "      <th>split9_test_score</th>\n",
       "      <td>0.764706</td>\n",
       "      <td>0.882353</td>\n",
       "      <td>0.823529</td>\n",
       "      <td>0.764706</td>\n",
       "      <td>0.764706</td>\n",
       "      <td>0.882353</td>\n",
       "      <td>0.823529</td>\n",
       "      <td>0.764706</td>\n",
       "      <td>0.764706</td>\n",
       "      <td>0.882353</td>\n",
       "      <td>0.823529</td>\n",
       "      <td>0.764706</td>\n",
       "    </tr>\n",
       "    <tr>\n",
       "      <th>mean_test_score</th>\n",
       "      <td>0.669935</td>\n",
       "      <td>0.720915</td>\n",
       "      <td>0.664706</td>\n",
       "      <td>0.67549</td>\n",
       "      <td>0.669935</td>\n",
       "      <td>0.720915</td>\n",
       "      <td>0.664706</td>\n",
       "      <td>0.67549</td>\n",
       "      <td>0.669935</td>\n",
       "      <td>0.720915</td>\n",
       "      <td>0.664706</td>\n",
       "      <td>0.67549</td>\n",
       "    </tr>\n",
       "    <tr>\n",
       "      <th>std_test_score</th>\n",
       "      <td>0.0879322</td>\n",
       "      <td>0.090626</td>\n",
       "      <td>0.0822751</td>\n",
       "      <td>0.0699079</td>\n",
       "      <td>0.0879322</td>\n",
       "      <td>0.090626</td>\n",
       "      <td>0.0822751</td>\n",
       "      <td>0.0699079</td>\n",
       "      <td>0.0879322</td>\n",
       "      <td>0.090626</td>\n",
       "      <td>0.0822751</td>\n",
       "      <td>0.0699079</td>\n",
       "    </tr>\n",
       "    <tr>\n",
       "      <th>rank_test_score</th>\n",
       "      <td>7</td>\n",
       "      <td>1</td>\n",
       "      <td>10</td>\n",
       "      <td>4</td>\n",
       "      <td>7</td>\n",
       "      <td>1</td>\n",
       "      <td>10</td>\n",
       "      <td>4</td>\n",
       "      <td>7</td>\n",
       "      <td>1</td>\n",
       "      <td>10</td>\n",
       "      <td>4</td>\n",
       "    </tr>\n",
       "  </tbody>\n",
       "</table>\n",
       "</div>"
      ],
      "text/plain": [
       "                                    0                   1                   2  \\\n",
       "mean_fit_time              0.00459838          0.00410244          0.00320151   \n",
       "std_fit_time               0.00185178         0.000832729         0.000399379   \n",
       "mean_score_time            0.00410473          0.00419083          0.00365412   \n",
       "std_score_time             0.00157834          0.00193762         0.000893135   \n",
       "param_n_neighbors                   2                   3                   4   \n",
       "param_leaf_size                   NaN                 NaN                 NaN   \n",
       "params             {'n_neighbors': 2}  {'n_neighbors': 3}  {'n_neighbors': 4}   \n",
       "split0_test_score            0.555556            0.666667            0.666667   \n",
       "split1_test_score            0.666667            0.611111            0.666667   \n",
       "split2_test_score            0.555556            0.666667            0.611111   \n",
       "split3_test_score            0.611111            0.666667            0.611111   \n",
       "split4_test_score            0.611111            0.666667            0.611111   \n",
       "split5_test_score            0.666667            0.666667            0.611111   \n",
       "split6_test_score            0.777778            0.722222            0.611111   \n",
       "split7_test_score            0.666667            0.777778            0.611111   \n",
       "split8_test_score            0.823529            0.882353            0.823529   \n",
       "split9_test_score            0.764706            0.882353            0.823529   \n",
       "mean_test_score              0.669935            0.720915            0.664706   \n",
       "std_test_score              0.0879322            0.090626           0.0822751   \n",
       "rank_test_score                     7                   1                  10   \n",
       "\n",
       "                                    3                                   4  \\\n",
       "mean_fit_time              0.00330215                           0.0033144   \n",
       "std_fit_time               0.00134958                         0.000654723   \n",
       "mean_score_time            0.00370092                          0.00289154   \n",
       "std_score_time             0.00110244                         0.000936348   \n",
       "param_n_neighbors                   5                                   2   \n",
       "param_leaf_size                   NaN                                   5   \n",
       "params             {'n_neighbors': 5}  {'leaf_size': 5, 'n_neighbors': 2}   \n",
       "split0_test_score            0.666667                            0.555556   \n",
       "split1_test_score            0.666667                            0.666667   \n",
       "split2_test_score            0.611111                            0.555556   \n",
       "split3_test_score            0.611111                            0.611111   \n",
       "split4_test_score            0.611111                            0.611111   \n",
       "split5_test_score            0.611111                            0.666667   \n",
       "split6_test_score            0.722222                            0.777778   \n",
       "split7_test_score            0.666667                            0.666667   \n",
       "split8_test_score            0.823529                            0.823529   \n",
       "split9_test_score            0.764706                            0.764706   \n",
       "mean_test_score               0.67549                            0.669935   \n",
       "std_test_score              0.0699079                           0.0879322   \n",
       "rank_test_score                     4                                   7   \n",
       "\n",
       "                                                    5  \\\n",
       "mean_fit_time                              0.00311563   \n",
       "std_fit_time                               0.00055251   \n",
       "mean_score_time                            0.00261338   \n",
       "std_score_time                            0.000494684   \n",
       "param_n_neighbors                                   3   \n",
       "param_leaf_size                                     5   \n",
       "params             {'leaf_size': 5, 'n_neighbors': 3}   \n",
       "split0_test_score                            0.666667   \n",
       "split1_test_score                            0.611111   \n",
       "split2_test_score                            0.666667   \n",
       "split3_test_score                            0.666667   \n",
       "split4_test_score                            0.666667   \n",
       "split5_test_score                            0.666667   \n",
       "split6_test_score                            0.722222   \n",
       "split7_test_score                            0.777778   \n",
       "split8_test_score                            0.882353   \n",
       "split9_test_score                            0.882353   \n",
       "mean_test_score                              0.720915   \n",
       "std_test_score                               0.090626   \n",
       "rank_test_score                                     1   \n",
       "\n",
       "                                                    6  \\\n",
       "mean_fit_time                              0.00322666   \n",
       "std_fit_time                              0.000979092   \n",
       "mean_score_time                            0.00281355   \n",
       "std_score_time                            0.000777815   \n",
       "param_n_neighbors                                   4   \n",
       "param_leaf_size                                     5   \n",
       "params             {'leaf_size': 5, 'n_neighbors': 4}   \n",
       "split0_test_score                            0.666667   \n",
       "split1_test_score                            0.666667   \n",
       "split2_test_score                            0.611111   \n",
       "split3_test_score                            0.611111   \n",
       "split4_test_score                            0.611111   \n",
       "split5_test_score                            0.611111   \n",
       "split6_test_score                            0.611111   \n",
       "split7_test_score                            0.611111   \n",
       "split8_test_score                            0.823529   \n",
       "split9_test_score                            0.823529   \n",
       "mean_test_score                              0.664706   \n",
       "std_test_score                              0.0822751   \n",
       "rank_test_score                                    10   \n",
       "\n",
       "                                                    7  \\\n",
       "mean_fit_time                              0.00290444   \n",
       "std_fit_time                              0.000301819   \n",
       "mean_score_time                            0.00281088   \n",
       "std_score_time                            0.000756076   \n",
       "param_n_neighbors                                   5   \n",
       "param_leaf_size                                     5   \n",
       "params             {'leaf_size': 5, 'n_neighbors': 5}   \n",
       "split0_test_score                            0.666667   \n",
       "split1_test_score                            0.666667   \n",
       "split2_test_score                            0.611111   \n",
       "split3_test_score                            0.611111   \n",
       "split4_test_score                            0.611111   \n",
       "split5_test_score                            0.611111   \n",
       "split6_test_score                            0.722222   \n",
       "split7_test_score                            0.666667   \n",
       "split8_test_score                            0.823529   \n",
       "split9_test_score                            0.764706   \n",
       "mean_test_score                               0.67549   \n",
       "std_test_score                              0.0699079   \n",
       "rank_test_score                                     4   \n",
       "\n",
       "                                                     8  \\\n",
       "mean_fit_time                               0.00310304   \n",
       "std_fit_time                               0.000538559   \n",
       "mean_score_time                             0.00420649   \n",
       "std_score_time                              0.00166832   \n",
       "param_n_neighbors                                    2   \n",
       "param_leaf_size                                     10   \n",
       "params             {'leaf_size': 10, 'n_neighbors': 2}   \n",
       "split0_test_score                             0.555556   \n",
       "split1_test_score                             0.666667   \n",
       "split2_test_score                             0.555556   \n",
       "split3_test_score                             0.611111   \n",
       "split4_test_score                             0.611111   \n",
       "split5_test_score                             0.666667   \n",
       "split6_test_score                             0.777778   \n",
       "split7_test_score                             0.666667   \n",
       "split8_test_score                             0.823529   \n",
       "split9_test_score                             0.764706   \n",
       "mean_test_score                               0.669935   \n",
       "std_test_score                               0.0879322   \n",
       "rank_test_score                                      7   \n",
       "\n",
       "                                                     9  \\\n",
       "mean_fit_time                               0.00319588   \n",
       "std_fit_time                                0.00106711   \n",
       "mean_score_time                             0.00299962   \n",
       "std_score_time                             0.000894736   \n",
       "param_n_neighbors                                    3   \n",
       "param_leaf_size                                     10   \n",
       "params             {'leaf_size': 10, 'n_neighbors': 3}   \n",
       "split0_test_score                             0.666667   \n",
       "split1_test_score                             0.611111   \n",
       "split2_test_score                             0.666667   \n",
       "split3_test_score                             0.666667   \n",
       "split4_test_score                             0.666667   \n",
       "split5_test_score                             0.666667   \n",
       "split6_test_score                             0.722222   \n",
       "split7_test_score                             0.777778   \n",
       "split8_test_score                             0.882353   \n",
       "split9_test_score                             0.882353   \n",
       "mean_test_score                               0.720915   \n",
       "std_test_score                                0.090626   \n",
       "rank_test_score                                      1   \n",
       "\n",
       "                                                    10  \\\n",
       "mean_fit_time                               0.00290143   \n",
       "std_fit_time                               0.000703234   \n",
       "mean_score_time                             0.00289998   \n",
       "std_score_time                             0.000698591   \n",
       "param_n_neighbors                                    4   \n",
       "param_leaf_size                                     10   \n",
       "params             {'leaf_size': 10, 'n_neighbors': 4}   \n",
       "split0_test_score                             0.666667   \n",
       "split1_test_score                             0.666667   \n",
       "split2_test_score                             0.611111   \n",
       "split3_test_score                             0.611111   \n",
       "split4_test_score                             0.611111   \n",
       "split5_test_score                             0.611111   \n",
       "split6_test_score                             0.611111   \n",
       "split7_test_score                             0.611111   \n",
       "split8_test_score                             0.823529   \n",
       "split9_test_score                             0.823529   \n",
       "mean_test_score                               0.664706   \n",
       "std_test_score                               0.0822751   \n",
       "rank_test_score                                     10   \n",
       "\n",
       "                                                    11  \n",
       "mean_fit_time                               0.00310032  \n",
       "std_fit_time                               0.000538156  \n",
       "mean_score_time                             0.00259967  \n",
       "std_score_time                             0.000489505  \n",
       "param_n_neighbors                                    5  \n",
       "param_leaf_size                                     10  \n",
       "params             {'leaf_size': 10, 'n_neighbors': 5}  \n",
       "split0_test_score                             0.666667  \n",
       "split1_test_score                             0.666667  \n",
       "split2_test_score                             0.611111  \n",
       "split3_test_score                             0.611111  \n",
       "split4_test_score                             0.611111  \n",
       "split5_test_score                             0.611111  \n",
       "split6_test_score                             0.722222  \n",
       "split7_test_score                             0.666667  \n",
       "split8_test_score                             0.823529  \n",
       "split9_test_score                             0.764706  \n",
       "mean_test_score                                0.67549  \n",
       "std_test_score                               0.0699079  \n",
       "rank_test_score                                      4  "
      ]
     },
     "execution_count": 143,
     "metadata": {},
     "output_type": "execute_result"
    }
   ],
   "source": [
    "pd.DataFrame(grid5.cv_results_).T"
   ]
  },
  {
   "cell_type": "markdown",
   "metadata": {},
   "source": [
    "### GridSearchCV &  Pipeline\n",
    "파라미터화되어 `GridSearchCV`를 통해 쓸 수 있음\n",
    "데이터를 자동으로 **전처리, 학습시키고 가장 성능 좋은 하이퍼 파라미터 조합을 한번에 알 수 있음**."
   ]
  },
  {
   "cell_type": "code",
   "execution_count": 30,
   "metadata": {},
   "outputs": [],
   "source": [
    "pipe=Pipeline([ ('ss',StandardScaler()),\n",
    "               ('clf',KNeighborsClassifier()) ])"
   ]
  },
  {
   "cell_type": "code",
   "execution_count": null,
   "metadata": {},
   "outputs": [],
   "source": [
    "pipe.get_params()"
   ]
  },
  {
   "cell_type": "markdown",
   "metadata": {},
   "source": [
    "1. param_grid에 리스트 내에 딕셔너리형태를 이용\n",
    "2. 각 모델의 이름을 동일하게 지정 \n",
    "   -  clf : classifier(분류기)의 약자\n",
    "   - mangling을 이용하여 \n",
    "\n",
    "여러 모델과 해당 모델의 하이퍼 파라미터 서능 조합 비교 가능"
   ]
  },
  {
   "cell_type": "code",
   "execution_count": 31,
   "metadata": {},
   "outputs": [],
   "source": [
    "grid6=GridSearchCV(estimator=pipe,\n",
    "                   param_grid= [\n",
    "                       {'ss':[StandardScaler(),MinMaxScaler()]},\n",
    "                        {'clf':[KNeighborsClassifier()],'clf__n_neighbors':[2,3,4,5]},\n",
    "                         {'clf':[LogisticRegression()],'clf__C':[2,3,4,5]}\n",
    "                         ],cv=10)"
   ]
  },
  {
   "cell_type": "code",
   "execution_count": 32,
   "metadata": {},
   "outputs": [
    {
     "data": {
      "text/plain": [
       "GridSearchCV(cv=10, error_score=nan,\n",
       "             estimator=Pipeline(memory=None,\n",
       "                                steps=[('ss',\n",
       "                                        StandardScaler(copy=True,\n",
       "                                                       with_mean=True,\n",
       "                                                       with_std=True)),\n",
       "                                       ('clf',\n",
       "                                        KNeighborsClassifier(algorithm='auto',\n",
       "                                                             leaf_size=30,\n",
       "                                                             metric='minkowski',\n",
       "                                                             metric_params=None,\n",
       "                                                             n_jobs=None,\n",
       "                                                             n_neighbors=5, p=2,\n",
       "                                                             weights='uniform'))],\n",
       "                                verbose=False),\n",
       "             iid='deprecated', n_jobs=None,\n",
       "             param_grid=[{'ss': [Stand...\n",
       "                          'clf__n_neighbors': [2, 3, 4, 5]},\n",
       "                         {'clf': [LogisticRegression(C=2, class_weight=None,\n",
       "                                                     dual=False,\n",
       "                                                     fit_intercept=True,\n",
       "                                                     intercept_scaling=1,\n",
       "                                                     l1_ratio=None,\n",
       "                                                     max_iter=100,\n",
       "                                                     multi_class='auto',\n",
       "                                                     n_jobs=None, penalty='l2',\n",
       "                                                     random_state=None,\n",
       "                                                     solver='lbfgs', tol=0.0001,\n",
       "                                                     verbose=0,\n",
       "                                                     warm_start=False)],\n",
       "                          'clf__C': [2, 3, 4, 5]}],\n",
       "             pre_dispatch='2*n_jobs', refit=True, return_train_score=False,\n",
       "             scoring=None, verbose=0)"
      ]
     },
     "execution_count": 32,
     "metadata": {},
     "output_type": "execute_result"
    }
   ],
   "source": [
    "grid6.fit(wine.iloc[:,:-1], wine.target)"
   ]
  },
  {
   "cell_type": "code",
   "execution_count": 33,
   "metadata": {},
   "outputs": [
    {
     "data": {
      "text/html": [
       "<div>\n",
       "<style scoped>\n",
       "    .dataframe tbody tr th:only-of-type {\n",
       "        vertical-align: middle;\n",
       "    }\n",
       "\n",
       "    .dataframe tbody tr th {\n",
       "        vertical-align: top;\n",
       "    }\n",
       "\n",
       "    .dataframe thead th {\n",
       "        text-align: right;\n",
       "    }\n",
       "</style>\n",
       "<table border=\"1\" class=\"dataframe\">\n",
       "  <thead>\n",
       "    <tr style=\"text-align: right;\">\n",
       "      <th></th>\n",
       "      <th>0</th>\n",
       "      <th>1</th>\n",
       "      <th>2</th>\n",
       "      <th>3</th>\n",
       "      <th>4</th>\n",
       "      <th>5</th>\n",
       "      <th>6</th>\n",
       "      <th>7</th>\n",
       "      <th>8</th>\n",
       "      <th>9</th>\n",
       "    </tr>\n",
       "  </thead>\n",
       "  <tbody>\n",
       "    <tr>\n",
       "      <th>mean_fit_time</th>\n",
       "      <td>0.00545225</td>\n",
       "      <td>0.00301452</td>\n",
       "      <td>0.00334203</td>\n",
       "      <td>0.00320303</td>\n",
       "      <td>0.00364723</td>\n",
       "      <td>0.00332532</td>\n",
       "      <td>0.020845</td>\n",
       "      <td>0.0270289</td>\n",
       "      <td>0.020512</td>\n",
       "      <td>0.0174508</td>\n",
       "    </tr>\n",
       "    <tr>\n",
       "      <th>std_fit_time</th>\n",
       "      <td>0.00177387</td>\n",
       "      <td>0.000354808</td>\n",
       "      <td>0.000114982</td>\n",
       "      <td>5.18904e-05</td>\n",
       "      <td>0.000540683</td>\n",
       "      <td>0.000182759</td>\n",
       "      <td>0.00748652</td>\n",
       "      <td>0.00688618</td>\n",
       "      <td>0.00508746</td>\n",
       "      <td>0.0010468</td>\n",
       "    </tr>\n",
       "    <tr>\n",
       "      <th>mean_score_time</th>\n",
       "      <td>0.00484724</td>\n",
       "      <td>0.00271349</td>\n",
       "      <td>0.00274048</td>\n",
       "      <td>0.0026396</td>\n",
       "      <td>0.00286541</td>\n",
       "      <td>0.00271256</td>\n",
       "      <td>0.00172153</td>\n",
       "      <td>0.00208621</td>\n",
       "      <td>0.0016233</td>\n",
       "      <td>0.00146751</td>\n",
       "    </tr>\n",
       "    <tr>\n",
       "      <th>std_score_time</th>\n",
       "      <td>0.00142728</td>\n",
       "      <td>0.000117524</td>\n",
       "      <td>0.000200164</td>\n",
       "      <td>7.24816e-05</td>\n",
       "      <td>0.000546456</td>\n",
       "      <td>0.000109695</td>\n",
       "      <td>0.000396299</td>\n",
       "      <td>0.000380804</td>\n",
       "      <td>0.00054227</td>\n",
       "      <td>0.000215592</td>\n",
       "    </tr>\n",
       "    <tr>\n",
       "      <th>param_ss</th>\n",
       "      <td>StandardScaler(copy=True, with_mean=True, with...</td>\n",
       "      <td>MinMaxScaler(copy=True, feature_range=(0, 1))</td>\n",
       "      <td>NaN</td>\n",
       "      <td>NaN</td>\n",
       "      <td>NaN</td>\n",
       "      <td>NaN</td>\n",
       "      <td>NaN</td>\n",
       "      <td>NaN</td>\n",
       "      <td>NaN</td>\n",
       "      <td>NaN</td>\n",
       "    </tr>\n",
       "    <tr>\n",
       "      <th>param_clf</th>\n",
       "      <td>NaN</td>\n",
       "      <td>NaN</td>\n",
       "      <td>KNeighborsClassifier(algorithm='auto', leaf_si...</td>\n",
       "      <td>KNeighborsClassifier(algorithm='auto', leaf_si...</td>\n",
       "      <td>KNeighborsClassifier(algorithm='auto', leaf_si...</td>\n",
       "      <td>KNeighborsClassifier(algorithm='auto', leaf_si...</td>\n",
       "      <td>LogisticRegression(C=2, class_weight=None, dua...</td>\n",
       "      <td>LogisticRegression(C=2, class_weight=None, dua...</td>\n",
       "      <td>LogisticRegression(C=2, class_weight=None, dua...</td>\n",
       "      <td>LogisticRegression(C=2, class_weight=None, dua...</td>\n",
       "    </tr>\n",
       "    <tr>\n",
       "      <th>param_clf__n_neighbors</th>\n",
       "      <td>NaN</td>\n",
       "      <td>NaN</td>\n",
       "      <td>2</td>\n",
       "      <td>3</td>\n",
       "      <td>4</td>\n",
       "      <td>5</td>\n",
       "      <td>NaN</td>\n",
       "      <td>NaN</td>\n",
       "      <td>NaN</td>\n",
       "      <td>NaN</td>\n",
       "    </tr>\n",
       "    <tr>\n",
       "      <th>param_clf__C</th>\n",
       "      <td>NaN</td>\n",
       "      <td>NaN</td>\n",
       "      <td>NaN</td>\n",
       "      <td>NaN</td>\n",
       "      <td>NaN</td>\n",
       "      <td>NaN</td>\n",
       "      <td>2</td>\n",
       "      <td>3</td>\n",
       "      <td>4</td>\n",
       "      <td>5</td>\n",
       "    </tr>\n",
       "    <tr>\n",
       "      <th>params</th>\n",
       "      <td>{'ss': StandardScaler(copy=True, with_mean=Tru...</td>\n",
       "      <td>{'ss': MinMaxScaler(copy=True, feature_range=(...</td>\n",
       "      <td>{'clf': KNeighborsClassifier(algorithm='auto',...</td>\n",
       "      <td>{'clf': KNeighborsClassifier(algorithm='auto',...</td>\n",
       "      <td>{'clf': KNeighborsClassifier(algorithm='auto',...</td>\n",
       "      <td>{'clf': KNeighborsClassifier(algorithm='auto',...</td>\n",
       "      <td>{'clf': LogisticRegression(C=2, class_weight=N...</td>\n",
       "      <td>{'clf': LogisticRegression(C=2, class_weight=N...</td>\n",
       "      <td>{'clf': LogisticRegression(C=2, class_weight=N...</td>\n",
       "      <td>{'clf': LogisticRegression(C=2, class_weight=N...</td>\n",
       "    </tr>\n",
       "    <tr>\n",
       "      <th>split0_test_score</th>\n",
       "      <td>1</td>\n",
       "      <td>0.944444</td>\n",
       "      <td>0.888889</td>\n",
       "      <td>0.944444</td>\n",
       "      <td>0.888889</td>\n",
       "      <td>1</td>\n",
       "      <td>0.944444</td>\n",
       "      <td>0.944444</td>\n",
       "      <td>0.944444</td>\n",
       "      <td>0.944444</td>\n",
       "    </tr>\n",
       "    <tr>\n",
       "      <th>split1_test_score</th>\n",
       "      <td>0.944444</td>\n",
       "      <td>0.888889</td>\n",
       "      <td>0.944444</td>\n",
       "      <td>0.944444</td>\n",
       "      <td>0.944444</td>\n",
       "      <td>0.944444</td>\n",
       "      <td>0.944444</td>\n",
       "      <td>0.944444</td>\n",
       "      <td>0.944444</td>\n",
       "      <td>0.944444</td>\n",
       "    </tr>\n",
       "    <tr>\n",
       "      <th>split2_test_score</th>\n",
       "      <td>0.944444</td>\n",
       "      <td>0.944444</td>\n",
       "      <td>0.944444</td>\n",
       "      <td>0.888889</td>\n",
       "      <td>0.944444</td>\n",
       "      <td>0.944444</td>\n",
       "      <td>1</td>\n",
       "      <td>1</td>\n",
       "      <td>1</td>\n",
       "      <td>1</td>\n",
       "    </tr>\n",
       "    <tr>\n",
       "      <th>split3_test_score</th>\n",
       "      <td>0.944444</td>\n",
       "      <td>0.944444</td>\n",
       "      <td>0.944444</td>\n",
       "      <td>0.944444</td>\n",
       "      <td>0.944444</td>\n",
       "      <td>0.944444</td>\n",
       "      <td>0.944444</td>\n",
       "      <td>0.944444</td>\n",
       "      <td>0.944444</td>\n",
       "      <td>0.944444</td>\n",
       "    </tr>\n",
       "    <tr>\n",
       "      <th>split4_test_score</th>\n",
       "      <td>1</td>\n",
       "      <td>1</td>\n",
       "      <td>1</td>\n",
       "      <td>1</td>\n",
       "      <td>1</td>\n",
       "      <td>1</td>\n",
       "      <td>1</td>\n",
       "      <td>1</td>\n",
       "      <td>1</td>\n",
       "      <td>1</td>\n",
       "    </tr>\n",
       "    <tr>\n",
       "      <th>split5_test_score</th>\n",
       "      <td>0.944444</td>\n",
       "      <td>0.944444</td>\n",
       "      <td>0.888889</td>\n",
       "      <td>0.944444</td>\n",
       "      <td>0.944444</td>\n",
       "      <td>0.944444</td>\n",
       "      <td>1</td>\n",
       "      <td>1</td>\n",
       "      <td>1</td>\n",
       "      <td>1</td>\n",
       "    </tr>\n",
       "    <tr>\n",
       "      <th>split6_test_score</th>\n",
       "      <td>1</td>\n",
       "      <td>1</td>\n",
       "      <td>1</td>\n",
       "      <td>1</td>\n",
       "      <td>1</td>\n",
       "      <td>1</td>\n",
       "      <td>1</td>\n",
       "      <td>1</td>\n",
       "      <td>1</td>\n",
       "      <td>1</td>\n",
       "    </tr>\n",
       "    <tr>\n",
       "      <th>split7_test_score</th>\n",
       "      <td>1</td>\n",
       "      <td>1</td>\n",
       "      <td>1</td>\n",
       "      <td>1</td>\n",
       "      <td>1</td>\n",
       "      <td>1</td>\n",
       "      <td>1</td>\n",
       "      <td>1</td>\n",
       "      <td>1</td>\n",
       "      <td>1</td>\n",
       "    </tr>\n",
       "    <tr>\n",
       "      <th>split8_test_score</th>\n",
       "      <td>0.941176</td>\n",
       "      <td>0.941176</td>\n",
       "      <td>0.882353</td>\n",
       "      <td>0.882353</td>\n",
       "      <td>0.882353</td>\n",
       "      <td>0.941176</td>\n",
       "      <td>1</td>\n",
       "      <td>1</td>\n",
       "      <td>1</td>\n",
       "      <td>1</td>\n",
       "    </tr>\n",
       "    <tr>\n",
       "      <th>split9_test_score</th>\n",
       "      <td>0.941176</td>\n",
       "      <td>0.941176</td>\n",
       "      <td>0.941176</td>\n",
       "      <td>0.941176</td>\n",
       "      <td>0.941176</td>\n",
       "      <td>0.941176</td>\n",
       "      <td>1</td>\n",
       "      <td>1</td>\n",
       "      <td>1</td>\n",
       "      <td>1</td>\n",
       "    </tr>\n",
       "    <tr>\n",
       "      <th>mean_test_score</th>\n",
       "      <td>0.966013</td>\n",
       "      <td>0.954902</td>\n",
       "      <td>0.943464</td>\n",
       "      <td>0.94902</td>\n",
       "      <td>0.94902</td>\n",
       "      <td>0.966013</td>\n",
       "      <td>0.983333</td>\n",
       "      <td>0.983333</td>\n",
       "      <td>0.983333</td>\n",
       "      <td>0.983333</td>\n",
       "    </tr>\n",
       "    <tr>\n",
       "      <th>std_test_score</th>\n",
       "      <td>0.0277759</td>\n",
       "      <td>0.0335759</td>\n",
       "      <td>0.0439187</td>\n",
       "      <td>0.040003</td>\n",
       "      <td>0.040003</td>\n",
       "      <td>0.0277759</td>\n",
       "      <td>0.0254588</td>\n",
       "      <td>0.0254588</td>\n",
       "      <td>0.0254588</td>\n",
       "      <td>0.0254588</td>\n",
       "    </tr>\n",
       "    <tr>\n",
       "      <th>rank_test_score</th>\n",
       "      <td>5</td>\n",
       "      <td>7</td>\n",
       "      <td>10</td>\n",
       "      <td>8</td>\n",
       "      <td>8</td>\n",
       "      <td>5</td>\n",
       "      <td>1</td>\n",
       "      <td>1</td>\n",
       "      <td>1</td>\n",
       "      <td>1</td>\n",
       "    </tr>\n",
       "  </tbody>\n",
       "</table>\n",
       "</div>"
      ],
      "text/plain": [
       "                                                                        0  \\\n",
       "mean_fit_time                                                  0.00545225   \n",
       "std_fit_time                                                   0.00177387   \n",
       "mean_score_time                                                0.00484724   \n",
       "std_score_time                                                 0.00142728   \n",
       "param_ss                StandardScaler(copy=True, with_mean=True, with...   \n",
       "param_clf                                                             NaN   \n",
       "param_clf__n_neighbors                                                NaN   \n",
       "param_clf__C                                                          NaN   \n",
       "params                  {'ss': StandardScaler(copy=True, with_mean=Tru...   \n",
       "split0_test_score                                                       1   \n",
       "split1_test_score                                                0.944444   \n",
       "split2_test_score                                                0.944444   \n",
       "split3_test_score                                                0.944444   \n",
       "split4_test_score                                                       1   \n",
       "split5_test_score                                                0.944444   \n",
       "split6_test_score                                                       1   \n",
       "split7_test_score                                                       1   \n",
       "split8_test_score                                                0.941176   \n",
       "split9_test_score                                                0.941176   \n",
       "mean_test_score                                                  0.966013   \n",
       "std_test_score                                                  0.0277759   \n",
       "rank_test_score                                                         5   \n",
       "\n",
       "                                                                        1  \\\n",
       "mean_fit_time                                                  0.00301452   \n",
       "std_fit_time                                                  0.000354808   \n",
       "mean_score_time                                                0.00271349   \n",
       "std_score_time                                                0.000117524   \n",
       "param_ss                    MinMaxScaler(copy=True, feature_range=(0, 1))   \n",
       "param_clf                                                             NaN   \n",
       "param_clf__n_neighbors                                                NaN   \n",
       "param_clf__C                                                          NaN   \n",
       "params                  {'ss': MinMaxScaler(copy=True, feature_range=(...   \n",
       "split0_test_score                                                0.944444   \n",
       "split1_test_score                                                0.888889   \n",
       "split2_test_score                                                0.944444   \n",
       "split3_test_score                                                0.944444   \n",
       "split4_test_score                                                       1   \n",
       "split5_test_score                                                0.944444   \n",
       "split6_test_score                                                       1   \n",
       "split7_test_score                                                       1   \n",
       "split8_test_score                                                0.941176   \n",
       "split9_test_score                                                0.941176   \n",
       "mean_test_score                                                  0.954902   \n",
       "std_test_score                                                  0.0335759   \n",
       "rank_test_score                                                         7   \n",
       "\n",
       "                                                                        2  \\\n",
       "mean_fit_time                                                  0.00334203   \n",
       "std_fit_time                                                  0.000114982   \n",
       "mean_score_time                                                0.00274048   \n",
       "std_score_time                                                0.000200164   \n",
       "param_ss                                                              NaN   \n",
       "param_clf               KNeighborsClassifier(algorithm='auto', leaf_si...   \n",
       "param_clf__n_neighbors                                                  2   \n",
       "param_clf__C                                                          NaN   \n",
       "params                  {'clf': KNeighborsClassifier(algorithm='auto',...   \n",
       "split0_test_score                                                0.888889   \n",
       "split1_test_score                                                0.944444   \n",
       "split2_test_score                                                0.944444   \n",
       "split3_test_score                                                0.944444   \n",
       "split4_test_score                                                       1   \n",
       "split5_test_score                                                0.888889   \n",
       "split6_test_score                                                       1   \n",
       "split7_test_score                                                       1   \n",
       "split8_test_score                                                0.882353   \n",
       "split9_test_score                                                0.941176   \n",
       "mean_test_score                                                  0.943464   \n",
       "std_test_score                                                  0.0439187   \n",
       "rank_test_score                                                        10   \n",
       "\n",
       "                                                                        3  \\\n",
       "mean_fit_time                                                  0.00320303   \n",
       "std_fit_time                                                  5.18904e-05   \n",
       "mean_score_time                                                 0.0026396   \n",
       "std_score_time                                                7.24816e-05   \n",
       "param_ss                                                              NaN   \n",
       "param_clf               KNeighborsClassifier(algorithm='auto', leaf_si...   \n",
       "param_clf__n_neighbors                                                  3   \n",
       "param_clf__C                                                          NaN   \n",
       "params                  {'clf': KNeighborsClassifier(algorithm='auto',...   \n",
       "split0_test_score                                                0.944444   \n",
       "split1_test_score                                                0.944444   \n",
       "split2_test_score                                                0.888889   \n",
       "split3_test_score                                                0.944444   \n",
       "split4_test_score                                                       1   \n",
       "split5_test_score                                                0.944444   \n",
       "split6_test_score                                                       1   \n",
       "split7_test_score                                                       1   \n",
       "split8_test_score                                                0.882353   \n",
       "split9_test_score                                                0.941176   \n",
       "mean_test_score                                                   0.94902   \n",
       "std_test_score                                                   0.040003   \n",
       "rank_test_score                                                         8   \n",
       "\n",
       "                                                                        4  \\\n",
       "mean_fit_time                                                  0.00364723   \n",
       "std_fit_time                                                  0.000540683   \n",
       "mean_score_time                                                0.00286541   \n",
       "std_score_time                                                0.000546456   \n",
       "param_ss                                                              NaN   \n",
       "param_clf               KNeighborsClassifier(algorithm='auto', leaf_si...   \n",
       "param_clf__n_neighbors                                                  4   \n",
       "param_clf__C                                                          NaN   \n",
       "params                  {'clf': KNeighborsClassifier(algorithm='auto',...   \n",
       "split0_test_score                                                0.888889   \n",
       "split1_test_score                                                0.944444   \n",
       "split2_test_score                                                0.944444   \n",
       "split3_test_score                                                0.944444   \n",
       "split4_test_score                                                       1   \n",
       "split5_test_score                                                0.944444   \n",
       "split6_test_score                                                       1   \n",
       "split7_test_score                                                       1   \n",
       "split8_test_score                                                0.882353   \n",
       "split9_test_score                                                0.941176   \n",
       "mean_test_score                                                   0.94902   \n",
       "std_test_score                                                   0.040003   \n",
       "rank_test_score                                                         8   \n",
       "\n",
       "                                                                        5  \\\n",
       "mean_fit_time                                                  0.00332532   \n",
       "std_fit_time                                                  0.000182759   \n",
       "mean_score_time                                                0.00271256   \n",
       "std_score_time                                                0.000109695   \n",
       "param_ss                                                              NaN   \n",
       "param_clf               KNeighborsClassifier(algorithm='auto', leaf_si...   \n",
       "param_clf__n_neighbors                                                  5   \n",
       "param_clf__C                                                          NaN   \n",
       "params                  {'clf': KNeighborsClassifier(algorithm='auto',...   \n",
       "split0_test_score                                                       1   \n",
       "split1_test_score                                                0.944444   \n",
       "split2_test_score                                                0.944444   \n",
       "split3_test_score                                                0.944444   \n",
       "split4_test_score                                                       1   \n",
       "split5_test_score                                                0.944444   \n",
       "split6_test_score                                                       1   \n",
       "split7_test_score                                                       1   \n",
       "split8_test_score                                                0.941176   \n",
       "split9_test_score                                                0.941176   \n",
       "mean_test_score                                                  0.966013   \n",
       "std_test_score                                                  0.0277759   \n",
       "rank_test_score                                                         5   \n",
       "\n",
       "                                                                        6  \\\n",
       "mean_fit_time                                                    0.020845   \n",
       "std_fit_time                                                   0.00748652   \n",
       "mean_score_time                                                0.00172153   \n",
       "std_score_time                                                0.000396299   \n",
       "param_ss                                                              NaN   \n",
       "param_clf               LogisticRegression(C=2, class_weight=None, dua...   \n",
       "param_clf__n_neighbors                                                NaN   \n",
       "param_clf__C                                                            2   \n",
       "params                  {'clf': LogisticRegression(C=2, class_weight=N...   \n",
       "split0_test_score                                                0.944444   \n",
       "split1_test_score                                                0.944444   \n",
       "split2_test_score                                                       1   \n",
       "split3_test_score                                                0.944444   \n",
       "split4_test_score                                                       1   \n",
       "split5_test_score                                                       1   \n",
       "split6_test_score                                                       1   \n",
       "split7_test_score                                                       1   \n",
       "split8_test_score                                                       1   \n",
       "split9_test_score                                                       1   \n",
       "mean_test_score                                                  0.983333   \n",
       "std_test_score                                                  0.0254588   \n",
       "rank_test_score                                                         1   \n",
       "\n",
       "                                                                        7  \\\n",
       "mean_fit_time                                                   0.0270289   \n",
       "std_fit_time                                                   0.00688618   \n",
       "mean_score_time                                                0.00208621   \n",
       "std_score_time                                                0.000380804   \n",
       "param_ss                                                              NaN   \n",
       "param_clf               LogisticRegression(C=2, class_weight=None, dua...   \n",
       "param_clf__n_neighbors                                                NaN   \n",
       "param_clf__C                                                            3   \n",
       "params                  {'clf': LogisticRegression(C=2, class_weight=N...   \n",
       "split0_test_score                                                0.944444   \n",
       "split1_test_score                                                0.944444   \n",
       "split2_test_score                                                       1   \n",
       "split3_test_score                                                0.944444   \n",
       "split4_test_score                                                       1   \n",
       "split5_test_score                                                       1   \n",
       "split6_test_score                                                       1   \n",
       "split7_test_score                                                       1   \n",
       "split8_test_score                                                       1   \n",
       "split9_test_score                                                       1   \n",
       "mean_test_score                                                  0.983333   \n",
       "std_test_score                                                  0.0254588   \n",
       "rank_test_score                                                         1   \n",
       "\n",
       "                                                                        8  \\\n",
       "mean_fit_time                                                    0.020512   \n",
       "std_fit_time                                                   0.00508746   \n",
       "mean_score_time                                                 0.0016233   \n",
       "std_score_time                                                 0.00054227   \n",
       "param_ss                                                              NaN   \n",
       "param_clf               LogisticRegression(C=2, class_weight=None, dua...   \n",
       "param_clf__n_neighbors                                                NaN   \n",
       "param_clf__C                                                            4   \n",
       "params                  {'clf': LogisticRegression(C=2, class_weight=N...   \n",
       "split0_test_score                                                0.944444   \n",
       "split1_test_score                                                0.944444   \n",
       "split2_test_score                                                       1   \n",
       "split3_test_score                                                0.944444   \n",
       "split4_test_score                                                       1   \n",
       "split5_test_score                                                       1   \n",
       "split6_test_score                                                       1   \n",
       "split7_test_score                                                       1   \n",
       "split8_test_score                                                       1   \n",
       "split9_test_score                                                       1   \n",
       "mean_test_score                                                  0.983333   \n",
       "std_test_score                                                  0.0254588   \n",
       "rank_test_score                                                         1   \n",
       "\n",
       "                                                                        9  \n",
       "mean_fit_time                                                   0.0174508  \n",
       "std_fit_time                                                    0.0010468  \n",
       "mean_score_time                                                0.00146751  \n",
       "std_score_time                                                0.000215592  \n",
       "param_ss                                                              NaN  \n",
       "param_clf               LogisticRegression(C=2, class_weight=None, dua...  \n",
       "param_clf__n_neighbors                                                NaN  \n",
       "param_clf__C                                                            5  \n",
       "params                  {'clf': LogisticRegression(C=2, class_weight=N...  \n",
       "split0_test_score                                                0.944444  \n",
       "split1_test_score                                                0.944444  \n",
       "split2_test_score                                                       1  \n",
       "split3_test_score                                                0.944444  \n",
       "split4_test_score                                                       1  \n",
       "split5_test_score                                                       1  \n",
       "split6_test_score                                                       1  \n",
       "split7_test_score                                                       1  \n",
       "split8_test_score                                                       1  \n",
       "split9_test_score                                                       1  \n",
       "mean_test_score                                                  0.983333  \n",
       "std_test_score                                                  0.0254588  \n",
       "rank_test_score                                                         1  "
      ]
     },
     "execution_count": 33,
     "metadata": {},
     "output_type": "execute_result"
    }
   ],
   "source": [
    "pd.DataFrame(grid6.cv_results_).T"
   ]
  },
  {
   "cell_type": "markdown",
   "metadata": {},
   "source": [
    "시간 빼놓고 거의 최고의 알고리즘 찾는데 좋음\n",
    "딥러닝에서도 가져다가 쓸 수 있으므로 꼭 익숙해지도록"
   ]
  },
  {
   "cell_type": "code",
   "execution_count": 238,
   "metadata": {},
   "outputs": [
    {
     "data": {
      "text/plain": [
       "Pipeline(steps=[('ss', StandardScaler()), ('clf', LogisticRegression(C=2))])"
      ]
     },
     "execution_count": 238,
     "metadata": {},
     "output_type": "execute_result"
    }
   ],
   "source": [
    "grid6.best_estimator_"
   ]
  },
  {
   "cell_type": "markdown",
   "metadata": {},
   "source": [
    "#### scoring"
   ]
  },
  {
   "cell_type": "code",
   "execution_count": 162,
   "metadata": {},
   "outputs": [],
   "source": [
    "from sklearn.metrics import SCORERS"
   ]
  },
  {
   "cell_type": "markdown",
   "metadata": {},
   "source": [
    "쓸수 있는 평가 지표 종류 48개"
   ]
  },
  {
   "cell_type": "code",
   "execution_count": 163,
   "metadata": {},
   "outputs": [
    {
     "data": {
      "text/plain": [
       "dict_keys(['explained_variance', 'r2', 'max_error', 'neg_median_absolute_error', 'neg_mean_absolute_error', 'neg_mean_squared_error', 'neg_mean_squared_log_error', 'neg_root_mean_squared_error', 'neg_mean_poisson_deviance', 'neg_mean_gamma_deviance', 'accuracy', 'roc_auc', 'roc_auc_ovr', 'roc_auc_ovo', 'roc_auc_ovr_weighted', 'roc_auc_ovo_weighted', 'balanced_accuracy', 'average_precision', 'neg_log_loss', 'neg_brier_score', 'adjusted_rand_score', 'homogeneity_score', 'completeness_score', 'v_measure_score', 'mutual_info_score', 'adjusted_mutual_info_score', 'normalized_mutual_info_score', 'fowlkes_mallows_score', 'precision', 'precision_macro', 'precision_micro', 'precision_samples', 'precision_weighted', 'recall', 'recall_macro', 'recall_micro', 'recall_samples', 'recall_weighted', 'f1', 'f1_macro', 'f1_micro', 'f1_samples', 'f1_weighted', 'jaccard', 'jaccard_macro', 'jaccard_micro', 'jaccard_samples', 'jaccard_weighted'])"
      ]
     },
     "execution_count": 163,
     "metadata": {},
     "output_type": "execute_result"
    }
   ],
   "source": [
    "SCORERS.keys()"
   ]
  },
  {
   "cell_type": "markdown",
   "metadata": {},
   "source": [
    "리스트를 쓰면 각 하나씩 돌아가기 때문에 인스턴스화된 객체 \n",
    "pipe.get_paprams()에 clf가 한개 , 바꿀수가 있어서 바꿈.\n",
    "- 그냥 딕셔너리 말고 리스트 형태로 해당 GridSearchCV 에서만 바뀜 "
   ]
  },
  {
   "cell_type": "markdown",
   "metadata": {},
   "source": [
    "평가척도가 2개 이상이 되면  가장 좋은거를 구할수가 없음\n",
    "평가척도마다 의미가 다름 (예. precision, recall)\n",
    "best_estimator_ \n",
    "1.ABC A\n",
    "2.ABC B ->best 구할 수가 없음 평가 척도가 여러개라서\n",
    "refit=False : 재활용 안함"
   ]
  },
  {
   "cell_type": "code",
   "execution_count": 250,
   "metadata": {},
   "outputs": [],
   "source": [
    "grid7=GridSearchCV(pipe, [{'clf':[KNeighborsClassifier()],'clf__n_neighbors':[2,3,4,5]},\n",
    "                         {'clf':[LogisticRegression()],'clf__C':[2,3,4,5]}\n",
    "                         ], scoring= ['precision_micro','accuracy'],cv=10,refit=False)"
   ]
  },
  {
   "cell_type": "markdown",
   "metadata": {
    "scrolled": true
   },
   "source": [
    "macro 전체에 대해서 예측한것 중 맞는것\n",
    "micro 객수에 대해서 가중치를 줏것"
   ]
  },
  {
   "cell_type": "code",
   "execution_count": 252,
   "metadata": {},
   "outputs": [
    {
     "data": {
      "text/plain": [
       "{'memory': None,\n",
       " 'steps': [('ss', StandardScaler()), ('clf', KNeighborsClassifier())],\n",
       " 'verbose': False,\n",
       " 'ss': StandardScaler(),\n",
       " 'clf': KNeighborsClassifier(),\n",
       " 'ss__copy': True,\n",
       " 'ss__with_mean': True,\n",
       " 'ss__with_std': True,\n",
       " 'clf__algorithm': 'auto',\n",
       " 'clf__leaf_size': 30,\n",
       " 'clf__metric': 'minkowski',\n",
       " 'clf__metric_params': None,\n",
       " 'clf__n_jobs': None,\n",
       " 'clf__n_neighbors': 5,\n",
       " 'clf__p': 2,\n",
       " 'clf__weights': 'uniform'}"
      ]
     },
     "execution_count": 252,
     "metadata": {},
     "output_type": "execute_result"
    }
   ],
   "source": [
    "pipe.get_params() #LogisticRegression 적용 안됨"
   ]
  },
  {
   "cell_type": "code",
   "execution_count": 253,
   "metadata": {},
   "outputs": [
    {
     "data": {
      "text/plain": [
       "GridSearchCV(cv=10,\n",
       "             estimator=Pipeline(steps=[('ss', StandardScaler()),\n",
       "                                       ('clf', KNeighborsClassifier())]),\n",
       "             param_grid=[{'clf': [KNeighborsClassifier()],\n",
       "                          'clf__n_neighbors': [2, 3, 4, 5]},\n",
       "                         {'clf': [LogisticRegression()],\n",
       "                          'clf__C': [2, 3, 4, 5]}],\n",
       "             refit=False, scoring=['precision_micro', 'accuracy'])"
      ]
     },
     "execution_count": 253,
     "metadata": {},
     "output_type": "execute_result"
    }
   ],
   "source": [
    "grid7.fit(wine.iloc[:,:-1], wine.target)"
   ]
  },
  {
   "cell_type": "markdown",
   "metadata": {},
   "source": [
    "\n",
    "refit : 재학습 시킴 (재활용) \n",
    "    - best 이용하여 재학습 시키므로 다시 학습시키면 계산이 안되니 한번계산에서 두번 동시에 사용"
   ]
  },
  {
   "cell_type": "code",
   "execution_count": null,
   "metadata": {},
   "outputs": [],
   "source": [
    "pd.DataFrame(grid7.cv_results_).T"
   ]
  },
  {
   "cell_type": "code",
   "execution_count": 255,
   "metadata": {
    "scrolled": false
   },
   "outputs": [
    {
     "data": {
      "text/plain": [
       "{'scoring': ['precision_micro', 'accuracy'],\n",
       " 'estimator': Pipeline(steps=[('ss', StandardScaler()), ('clf', KNeighborsClassifier())]),\n",
       " 'n_jobs': None,\n",
       " 'iid': 'deprecated',\n",
       " 'refit': False,\n",
       " 'cv': 10,\n",
       " 'verbose': 0,\n",
       " 'pre_dispatch': '2*n_jobs',\n",
       " 'error_score': nan,\n",
       " 'return_train_score': False,\n",
       " 'param_grid': [{'clf': [KNeighborsClassifier()],\n",
       "   'clf__n_neighbors': [2, 3, 4, 5]},\n",
       "  {'clf': [LogisticRegression()], 'clf__C': [2, 3, 4, 5]}],\n",
       " 'multimetric_': True,\n",
       " 'scorer_': {'precision_micro': make_scorer(precision_score, pos_label=None, average=micro),\n",
       "  'accuracy': make_scorer(accuracy_score)},\n",
       " 'cv_results_': {'mean_fit_time': array([0.00761182, 0.00810647, 0.00760868, 0.00699952, 0.01241579,\n",
       "         0.01279333, 0.0142915 , 0.01490552]),\n",
       "  'std_fit_time': array([0.00258454, 0.00315167, 0.00215069, 0.0023719 , 0.00120972,\n",
       "         0.00086062, 0.00205035, 0.00226943]),\n",
       "  'mean_score_time': array([0.00529864, 0.00690064, 0.00610085, 0.00549266, 0.00332587,\n",
       "         0.00290701, 0.00350685, 0.00259702]),\n",
       "  'std_score_time': array([0.00150003, 0.00221136, 0.00245791, 0.00210752, 0.00129471,\n",
       "         0.00082868, 0.00119545, 0.00065554]),\n",
       "  'param_clf': masked_array(data=[KNeighborsClassifier(), KNeighborsClassifier(),\n",
       "                     KNeighborsClassifier(), KNeighborsClassifier(),\n",
       "                     LogisticRegression(), LogisticRegression(),\n",
       "                     LogisticRegression(), LogisticRegression()],\n",
       "               mask=[False, False, False, False, False, False, False, False],\n",
       "         fill_value='?',\n",
       "              dtype=object),\n",
       "  'param_clf__n_neighbors': masked_array(data=[2, 3, 4, 5, --, --, --, --],\n",
       "               mask=[False, False, False, False,  True,  True,  True,  True],\n",
       "         fill_value='?',\n",
       "              dtype=object),\n",
       "  'param_clf__C': masked_array(data=[--, --, --, --, 2, 3, 4, 5],\n",
       "               mask=[ True,  True,  True,  True, False, False, False, False],\n",
       "         fill_value='?',\n",
       "              dtype=object),\n",
       "  'params': [{'clf': KNeighborsClassifier(), 'clf__n_neighbors': 2},\n",
       "   {'clf': KNeighborsClassifier(), 'clf__n_neighbors': 3},\n",
       "   {'clf': KNeighborsClassifier(), 'clf__n_neighbors': 4},\n",
       "   {'clf': KNeighborsClassifier(), 'clf__n_neighbors': 5},\n",
       "   {'clf': LogisticRegression(), 'clf__C': 2},\n",
       "   {'clf': LogisticRegression(), 'clf__C': 3},\n",
       "   {'clf': LogisticRegression(), 'clf__C': 4},\n",
       "   {'clf': LogisticRegression(), 'clf__C': 5}],\n",
       "  'split0_test_precision_micro': array([0.88888889, 0.94444444, 0.88888889, 1.        , 0.94444444,\n",
       "         0.94444444, 0.94444444, 0.94444444]),\n",
       "  'split1_test_precision_micro': array([0.94444444, 0.94444444, 0.94444444, 0.94444444, 0.94444444,\n",
       "         0.94444444, 0.94444444, 0.94444444]),\n",
       "  'split2_test_precision_micro': array([0.94444444, 0.88888889, 0.94444444, 0.94444444, 1.        ,\n",
       "         1.        , 1.        , 1.        ]),\n",
       "  'split3_test_precision_micro': array([0.94444444, 0.94444444, 0.94444444, 0.94444444, 0.94444444,\n",
       "         0.94444444, 0.94444444, 0.94444444]),\n",
       "  'split4_test_precision_micro': array([1., 1., 1., 1., 1., 1., 1., 1.]),\n",
       "  'split5_test_precision_micro': array([0.88888889, 0.94444444, 0.94444444, 0.94444444, 1.        ,\n",
       "         1.        , 1.        , 1.        ]),\n",
       "  'split6_test_precision_micro': array([1., 1., 1., 1., 1., 1., 1., 1.]),\n",
       "  'split7_test_precision_micro': array([1., 1., 1., 1., 1., 1., 1., 1.]),\n",
       "  'split8_test_precision_micro': array([0.88235294, 0.88235294, 0.88235294, 0.94117647, 1.        ,\n",
       "         1.        , 1.        , 1.        ]),\n",
       "  'split9_test_precision_micro': array([0.94117647, 0.94117647, 0.94117647, 0.94117647, 1.        ,\n",
       "         1.        , 1.        , 1.        ]),\n",
       "  'mean_test_precision_micro': array([0.94346405, 0.94901961, 0.94901961, 0.96601307, 0.98333333,\n",
       "         0.98333333, 0.98333333, 0.98333333]),\n",
       "  'std_test_precision_micro': array([0.0439187 , 0.04000299, 0.04000299, 0.02777586, 0.02545875,\n",
       "         0.02545875, 0.02545875, 0.02545875]),\n",
       "  'rank_test_precision_micro': array([8, 6, 6, 5, 1, 1, 1, 1]),\n",
       "  'split0_test_accuracy': array([0.88888889, 0.94444444, 0.88888889, 1.        , 0.94444444,\n",
       "         0.94444444, 0.94444444, 0.94444444]),\n",
       "  'split1_test_accuracy': array([0.94444444, 0.94444444, 0.94444444, 0.94444444, 0.94444444,\n",
       "         0.94444444, 0.94444444, 0.94444444]),\n",
       "  'split2_test_accuracy': array([0.94444444, 0.88888889, 0.94444444, 0.94444444, 1.        ,\n",
       "         1.        , 1.        , 1.        ]),\n",
       "  'split3_test_accuracy': array([0.94444444, 0.94444444, 0.94444444, 0.94444444, 0.94444444,\n",
       "         0.94444444, 0.94444444, 0.94444444]),\n",
       "  'split4_test_accuracy': array([1., 1., 1., 1., 1., 1., 1., 1.]),\n",
       "  'split5_test_accuracy': array([0.88888889, 0.94444444, 0.94444444, 0.94444444, 1.        ,\n",
       "         1.        , 1.        , 1.        ]),\n",
       "  'split6_test_accuracy': array([1., 1., 1., 1., 1., 1., 1., 1.]),\n",
       "  'split7_test_accuracy': array([1., 1., 1., 1., 1., 1., 1., 1.]),\n",
       "  'split8_test_accuracy': array([0.88235294, 0.88235294, 0.88235294, 0.94117647, 1.        ,\n",
       "         1.        , 1.        , 1.        ]),\n",
       "  'split9_test_accuracy': array([0.94117647, 0.94117647, 0.94117647, 0.94117647, 1.        ,\n",
       "         1.        , 1.        , 1.        ]),\n",
       "  'mean_test_accuracy': array([0.94346405, 0.94901961, 0.94901961, 0.96601307, 0.98333333,\n",
       "         0.98333333, 0.98333333, 0.98333333]),\n",
       "  'std_test_accuracy': array([0.0439187 , 0.04000299, 0.04000299, 0.02777586, 0.02545875,\n",
       "         0.02545875, 0.02545875, 0.02545875]),\n",
       "  'rank_test_accuracy': array([8, 6, 6, 5, 1, 1, 1, 1])},\n",
       " 'n_splits_': 10}"
      ]
     },
     "execution_count": 255,
     "metadata": {},
     "output_type": "execute_result"
    }
   ],
   "source": [
    "vars(grid7)"
   ]
  },
  {
   "cell_type": "markdown",
   "metadata": {},
   "source": [
    "refit 이 재활용 하기떄문에 best_estimator  안나옴\n",
    "근원적 문제 해결이 불가\n",
    " 데이터가 작을때 문제 해결 방법이 없음- 과적합 현상 생김\n",
    " 성능을 못 높임\\\n",
    " \n",
    " - 차원의 저주:13차원(feature 갯수)"
   ]
  },
  {
   "cell_type": "code",
   "execution_count": 257,
   "metadata": {},
   "outputs": [
    {
     "name": "stdout",
     "output_type": "stream",
     "text": [
      "<class 'pandas.core.frame.DataFrame'>\n",
      "RangeIndex: 178 entries, 0 to 177\n",
      "Data columns (total 14 columns):\n",
      " #   Column                        Non-Null Count  Dtype  \n",
      "---  ------                        --------------  -----  \n",
      " 0   alcohol                       178 non-null    float64\n",
      " 1   malic_acid                    178 non-null    float64\n",
      " 2   ash                           178 non-null    float64\n",
      " 3   alcalinity_of_ash             178 non-null    float64\n",
      " 4   magnesium                     178 non-null    float64\n",
      " 5   total_phenols                 178 non-null    float64\n",
      " 6   flavanoids                    178 non-null    float64\n",
      " 7   nonflavanoid_phenols          178 non-null    float64\n",
      " 8   proanthocyanins               178 non-null    float64\n",
      " 9   color_intensity               178 non-null    float64\n",
      " 10  hue                           178 non-null    float64\n",
      " 11  od280/od315_of_diluted_wines  178 non-null    float64\n",
      " 12  proline                       178 non-null    float64\n",
      " 13  target                        178 non-null    int32  \n",
      "dtypes: float64(13), int32(1)\n",
      "memory usage: 18.9 KB\n"
     ]
    }
   ],
   "source": [
    "wine.info()"
   ]
  },
  {
   "cell_type": "markdown",
   "metadata": {},
   "source": [
    "## feature seleciton\n",
    "데이터가 적어서 과대적합 일어나는 경우\n",
    "\n",
    "1. 가장 영향력이 없는 차원 제거 /가장 영향력 있는 차원 선택\n",
    "\n",
    "  -  차원에 비해 데이터가 많아짐\n",
    "  - 성능을 향상하기 위해서 알고리즘 하이퍼 파라미터 튜닝으로는 한계가 있기 때문 \n",
    "\n",
    "|구분 |filter|wrapper|embeded|\n",
    "|:-|:-|:-|:-|\n",
    "|방법|통계값 기반|전체 체크|중요도|\n",
    "|단점|정확성 |computing resrouce $$|지원하는 알고리즘만 가능 <br> (예.decisiton tree)|\n",
    "\n",
    "참고 https://www.ncbi.nlm.nih.gov/pmc/articles/PMC5116216/"
   ]
  },
  {
   "cell_type": "markdown",
   "metadata": {},
   "source": [
    "### 1.filter\n",
    "### chi2\n",
    "-  feature selection에서 비음수(non-negative)값에대한 chi-squared(카이제곱)검정실시, 높은 통계값만 갖는 features를 선택 \n",
    "- **단일 변수(Univariate) 선택법**은 각각의 독립변수를 하나만 사용한 예측모형의 성능을 이용하여 가장 분류성능 혹은 상관관계가 높은 변수만 선택하는 방법\n",
    "    - 이것이 단점으로도 작용\n",
    "\n",
    "### SelectKBest\n",
    "- features 중에서 K개의 높은 값 만 추출 "
   ]
  },
  {
   "cell_type": "code",
   "execution_count": 11,
   "metadata": {},
   "outputs": [],
   "source": [
    "from sklearn.feature_selection import SelectKBest,chi2"
   ]
  },
  {
   "cell_type": "code",
   "execution_count": 12,
   "metadata": {},
   "outputs": [],
   "source": [
    "skb=SelectKBest(chi2,k=8) #높은 10개 선택 "
   ]
  },
  {
   "cell_type": "code",
   "execution_count": 13,
   "metadata": {},
   "outputs": [
    {
     "data": {
      "text/plain": [
       "array([[   1.71,   15.6 ,  127.  , ...,    5.64,    3.92, 1065.  ],\n",
       "       [   1.78,   11.2 ,  100.  , ...,    4.38,    3.4 , 1050.  ],\n",
       "       [   2.36,   18.6 ,  101.  , ...,    5.68,    3.17, 1185.  ],\n",
       "       ...,\n",
       "       [   4.28,   20.  ,  120.  , ...,   10.2 ,    1.56,  835.  ],\n",
       "       [   2.59,   20.  ,  120.  , ...,    9.3 ,    1.62,  840.  ],\n",
       "       [   4.1 ,   24.5 ,   96.  , ...,    9.2 ,    1.6 ,  560.  ]])"
      ]
     },
     "execution_count": 13,
     "metadata": {},
     "output_type": "execute_result"
    }
   ],
   "source": [
    "skb.fit_transform(wine.iloc[:,:-1], wine.target)"
   ]
  },
  {
   "cell_type": "code",
   "execution_count": 14,
   "metadata": {},
   "outputs": [
    {
     "data": {
      "text/plain": [
       "{'score_func': <function sklearn.feature_selection._univariate_selection.chi2(X, y)>,\n",
       " 'k': 8,\n",
       " 'scores_': array([5.44549882e+00, 2.80686046e+01, 7.43380598e-01, 2.93836955e+01,\n",
       "        4.50263809e+01, 1.56230759e+01, 6.33343081e+01, 1.81548480e+00,\n",
       "        9.36828307e+00, 1.09016647e+02, 5.18253981e+00, 2.33898834e+01,\n",
       "        1.65400671e+04]),\n",
       " 'pvalues_': array([6.56938863e-02, 8.03489047e-07, 6.89567769e-01, 4.16304971e-07,\n",
       "        1.66972759e-10, 4.05034646e-04, 1.76656548e-14, 4.03433989e-01,\n",
       "        9.24066398e-03, 2.12488671e-24, 7.49248322e-02, 8.33587826e-06,\n",
       "        0.00000000e+00])}"
      ]
     },
     "execution_count": 14,
     "metadata": {},
     "output_type": "execute_result"
    }
   ],
   "source": [
    "vars(skb) #통계치 13개와 그 통계치의  p값 13개"
   ]
  },
  {
   "cell_type": "code",
   "execution_count": 15,
   "metadata": {},
   "outputs": [
    {
     "data": {
      "text/plain": [
       "['__abstractmethods__',\n",
       " '__class__',\n",
       " '__delattr__',\n",
       " '__dict__',\n",
       " '__dir__',\n",
       " '__doc__',\n",
       " '__eq__',\n",
       " '__format__',\n",
       " '__ge__',\n",
       " '__getattribute__',\n",
       " '__getstate__',\n",
       " '__gt__',\n",
       " '__hash__',\n",
       " '__init__',\n",
       " '__init_subclass__',\n",
       " '__le__',\n",
       " '__lt__',\n",
       " '__module__',\n",
       " '__ne__',\n",
       " '__new__',\n",
       " '__reduce__',\n",
       " '__reduce_ex__',\n",
       " '__repr__',\n",
       " '__setattr__',\n",
       " '__setstate__',\n",
       " '__sizeof__',\n",
       " '__str__',\n",
       " '__subclasshook__',\n",
       " '__weakref__',\n",
       " '_abc_impl',\n",
       " '_check_params',\n",
       " '_get_param_names',\n",
       " '_get_support_mask',\n",
       " '_get_tags',\n",
       " '_more_tags',\n",
       " 'fit',\n",
       " 'fit_transform',\n",
       " 'get_params',\n",
       " 'get_support',\n",
       " 'inverse_transform',\n",
       " 'k',\n",
       " 'pvalues_',\n",
       " 'score_func',\n",
       " 'scores_',\n",
       " 'set_params',\n",
       " 'transform']"
      ]
     },
     "execution_count": 15,
     "metadata": {},
     "output_type": "execute_result"
    }
   ],
   "source": [
    "dir(skb)"
   ]
  },
  {
   "cell_type": "markdown",
   "metadata": {},
   "source": [
    "12 개의 features 중에서 통계적으로 유의한 값 10개\n",
    "    - True : features to select\n",
    "    - False: features to extract"
   ]
  },
  {
   "cell_type": "code",
   "execution_count": 16,
   "metadata": {},
   "outputs": [
    {
     "data": {
      "text/plain": [
       "array([False,  True, False,  True,  True,  True,  True, False, False,\n",
       "        True, False,  True,  True])"
      ]
     },
     "execution_count": 16,
     "metadata": {},
     "output_type": "execute_result"
    }
   ],
   "source": [
    "skb.get_support()"
   ]
  },
  {
   "cell_type": "markdown",
   "metadata": {},
   "source": [
    "Feature seletion : True인 해당 컬럼들만 사용"
   ]
  },
  {
   "cell_type": "code",
   "execution_count": 340,
   "metadata": {
    "scrolled": false
   },
   "outputs": [
    {
     "data": {
      "text/plain": [
       "Index(['alcohol', 'malic_acid', 'alcalinity_of_ash', 'magnesium',\n",
       "       'total_phenols', 'flavanoids', 'proanthocyanins', 'color_intensity',\n",
       "       'od280/od315_of_diluted_wines', 'proline'],\n",
       "      dtype='object')"
      ]
     },
     "execution_count": 340,
     "metadata": {},
     "output_type": "execute_result"
    }
   ],
   "source": [
    "wine.columns[:-1][skb.get_support()]"
   ]
  },
  {
   "cell_type": "code",
   "execution_count": 343,
   "metadata": {},
   "outputs": [],
   "source": [
    "wine2=wine[wine.columns[:-1][skb.get_support()]]"
   ]
  },
  {
   "cell_type": "markdown",
   "metadata": {},
   "source": [
    "feature selection 전후로 성능 비교\n",
    "오캄의 면도날 성능이 동일한경우 간단한게 최고"
   ]
  },
  {
   "cell_type": "code",
   "execution_count": 344,
   "metadata": {},
   "outputs": [
    {
     "name": "stderr",
     "output_type": "stream",
     "text": [
      "C:\\Users\\AI02\\anaconda3\\lib\\site-packages\\ipykernel_launcher.py:1: SettingWithCopyWarning: \n",
      "A value is trying to be set on a copy of a slice from a DataFrame.\n",
      "Try using .loc[row_indexer,col_indexer] = value instead\n",
      "\n",
      "See the caveats in the documentation: https://pandas.pydata.org/pandas-docs/stable/user_guide/indexing.html#returning-a-view-versus-a-copy\n",
      "  \"\"\"Entry point for launching an IPython kernel.\n"
     ]
    }
   ],
   "source": [
    "wine2['target']= wine.target"
   ]
  },
  {
   "cell_type": "code",
   "execution_count": 345,
   "metadata": {},
   "outputs": [
    {
     "name": "stdout",
     "output_type": "stream",
     "text": [
      "<class 'pandas.core.frame.DataFrame'>\n",
      "RangeIndex: 178 entries, 0 to 177\n",
      "Data columns (total 11 columns):\n",
      " #   Column                        Non-Null Count  Dtype  \n",
      "---  ------                        --------------  -----  \n",
      " 0   alcohol                       178 non-null    float64\n",
      " 1   malic_acid                    178 non-null    float64\n",
      " 2   alcalinity_of_ash             178 non-null    float64\n",
      " 3   magnesium                     178 non-null    float64\n",
      " 4   total_phenols                 178 non-null    float64\n",
      " 5   flavanoids                    178 non-null    float64\n",
      " 6   proanthocyanins               178 non-null    float64\n",
      " 7   color_intensity               178 non-null    float64\n",
      " 8   od280/od315_of_diluted_wines  178 non-null    float64\n",
      " 9   proline                       178 non-null    float64\n",
      " 10  target                        178 non-null    int32  \n",
      "dtypes: float64(10), int32(1)\n",
      "memory usage: 14.7 KB\n"
     ]
    }
   ],
   "source": [
    "wine2.info() #10개 선택됨"
   ]
  },
  {
   "cell_type": "markdown",
   "metadata": {},
   "source": [
    "변수 선택으로 10개 선택햇는데 큰 차이가 없음\n",
    "- 단일 변수의 성능이 높은 features만 선택\n",
    "   - 전체 성능이 반드시 향상된다는 보장 없음\n"
   ]
  },
  {
   "cell_type": "code",
   "execution_count": 355,
   "metadata": {},
   "outputs": [
    {
     "data": {
      "text/plain": [
       "array([0.88888889, 0.88888889, 0.61111111, 0.88888889, 0.83333333,\n",
       "       0.83333333, 1.        , 0.94444444, 0.94117647, 0.76470588])"
      ]
     },
     "execution_count": 355,
     "metadata": {},
     "output_type": "execute_result"
    }
   ],
   "source": [
    "cross_val_score(DecisionTreeClassifier(),wine.iloc[:,:-1],wine.target,cv=10)"
   ]
  },
  {
   "cell_type": "code",
   "execution_count": 356,
   "metadata": {},
   "outputs": [
    {
     "data": {
      "text/plain": [
       "array([0.88888889, 0.88888889, 0.72222222, 0.88888889, 0.83333333,\n",
       "       0.94444444, 1.        , 0.94444444, 0.94117647, 0.76470588])"
      ]
     },
     "execution_count": 356,
     "metadata": {},
     "output_type": "execute_result"
    }
   ],
   "source": [
    "cross_val_score(DecisionTreeClassifier(),wine2.iloc[:,:-1],wine2.target,cv=10)"
   ]
  },
  {
   "cell_type": "markdown",
   "metadata": {},
   "source": [
    "### 2.wrapper\n",
    "- 알고리즘을 고려하여 선택함\n",
    "- wrapper는 인스턴스화한 모델를 인자로 받음\n",
    "\n",
    "#### RFE( Recursive Feature Elimination)\n",
    "   - feature 간 조합 다 시도하여 성능을 바탕으로 featuer 랭킹 메김. \n",
    "   - 후방 제거방식\n",
    "   - brute force 탐색 방식 : 여러가지 조합을 하나하나 다 확인하여 결정\n",
    "        - `GridSearchCV` 도 주어진 하이퍼파라미터 조합 다 확인\n",
    "        \n",
    "#### RFECV\n",
    "   - RFE 와 Cross-validation selection 을 이용하여 feature 랭킹 메기고 선택 \n",
    "\n",
    "---\n",
    "> 중요도 기반을 선택/제거 하는 방식\n",
    "    1. Forward Selection(전진 선택)\n",
    "        - 변수 1개로 시작하여 가장 중요한 변수 1개 선택후 그다음 변수 하나를 추가하여 더 이상 중요한 변수가 없을 때까지 변수를 추가\n",
    "    2. Backward Elimination(후방 제거)\n",
    "        - 모든 변수를 선택한 모델로 시작, 가장 덜 중요한 변수를 하나씩 제거, 더 이상 중요하지 않은 변수 없을 때까지 제거\n",
    "    3. Stepwise Selection(단계별 선택)\n",
    "        - Foward Selection 과 Backward Elimination 을 결합\n",
    "        - 모든 변수를 선택한 모델로  시작 , 가장  덜 중요한 변수를 삭제 후 모델에 빠져있는 변수 중에서 가장 중요한 변수를 추가\n",
    "        \n",
    "### RFE\n",
    "- feature 간 조합 다 시도(brute force 탐색 방식)하여 성능을 바탕으로 featuer 랭킹 메김. \n",
    "- `RFE(estimator, n_features_to_select=None)`\n",
    "    - 전체 feature의 갯수 중 반 선택   "
   ]
  },
  {
   "cell_type": "code",
   "execution_count": 4,
   "metadata": {},
   "outputs": [],
   "source": [
    "from sklearn.feature_selection import RFE, RFECV"
   ]
  },
  {
   "cell_type": "code",
   "execution_count": 57,
   "metadata": {},
   "outputs": [],
   "source": [
    "rfe=RFE(DecisionTreeClassifier(),n_features_to_select=8) "
   ]
  },
  {
   "cell_type": "code",
   "execution_count": 58,
   "metadata": {},
   "outputs": [
    {
     "data": {
      "text/plain": [
       "array([[1.423e+01, 3.060e+00, 2.800e-01, ..., 1.040e+00, 3.920e+00,\n",
       "        1.065e+03],\n",
       "       [1.320e+01, 2.760e+00, 2.600e-01, ..., 1.050e+00, 3.400e+00,\n",
       "        1.050e+03],\n",
       "       [1.316e+01, 3.240e+00, 3.000e-01, ..., 1.030e+00, 3.170e+00,\n",
       "        1.185e+03],\n",
       "       ...,\n",
       "       [1.327e+01, 6.900e-01, 4.300e-01, ..., 5.900e-01, 1.560e+00,\n",
       "        8.350e+02],\n",
       "       [1.317e+01, 6.800e-01, 5.300e-01, ..., 6.000e-01, 1.620e+00,\n",
       "        8.400e+02],\n",
       "       [1.413e+01, 7.600e-01, 5.600e-01, ..., 6.100e-01, 1.600e+00,\n",
       "        5.600e+02]])"
      ]
     },
     "execution_count": 58,
     "metadata": {},
     "output_type": "execute_result"
    }
   ],
   "source": [
    "rfe.fit_transform(wine.iloc[:,:-1],wine.target) #불필요"
   ]
  },
  {
   "cell_type": "code",
   "execution_count": 59,
   "metadata": {},
   "outputs": [
    {
     "data": {
      "text/plain": [
       "{'estimator': DecisionTreeClassifier(ccp_alpha=0.0, class_weight=None, criterion='gini',\n",
       "                        max_depth=None, max_features=None, max_leaf_nodes=None,\n",
       "                        min_impurity_decrease=0.0, min_impurity_split=None,\n",
       "                        min_samples_leaf=1, min_samples_split=2,\n",
       "                        min_weight_fraction_leaf=0.0, presort='deprecated',\n",
       "                        random_state=None, splitter='best'),\n",
       " 'n_features_to_select': 8,\n",
       " 'step': 1,\n",
       " 'verbose': 0,\n",
       " 'estimator_': DecisionTreeClassifier(ccp_alpha=0.0, class_weight=None, criterion='gini',\n",
       "                        max_depth=None, max_features=None, max_leaf_nodes=None,\n",
       "                        min_impurity_decrease=0.0, min_impurity_split=None,\n",
       "                        min_samples_leaf=1, min_samples_split=2,\n",
       "                        min_weight_fraction_leaf=0.0, presort='deprecated',\n",
       "                        random_state=None, splitter='best'),\n",
       " 'n_features_': 8,\n",
       " 'support_': array([ True, False, False, False, False, False,  True,  True,  True,\n",
       "         True,  True,  True,  True]),\n",
       " 'ranking_': array([1, 6, 5, 4, 3, 2, 1, 1, 1, 1, 1, 1, 1])}"
      ]
     },
     "execution_count": 59,
     "metadata": {},
     "output_type": "execute_result"
    }
   ],
   "source": [
    "vars(rfe)"
   ]
  },
  {
   "cell_type": "markdown",
   "metadata": {},
   "source": [
    "랭킹을 바탕으로 중요한 8개의 변수가 선택됨. \n",
    "- `ranking_`: array([1, 6, 5, 4, 3, 2, 1, 1, 1, 1, 1, 1, 1])\n",
    "    - ranking 1 이 8개 이고 `support_`는 1위한 feature만 True를 가리킴."
   ]
  },
  {
   "cell_type": "code",
   "execution_count": 60,
   "metadata": {
    "scrolled": true
   },
   "outputs": [
    {
     "data": {
      "text/plain": [
       "array([ True, False, False, False, False, False,  True,  True,  True,\n",
       "        True,  True,  True,  True])"
      ]
     },
     "execution_count": 60,
     "metadata": {},
     "output_type": "execute_result"
    }
   ],
   "source": [
    "rfe.support_"
   ]
  },
  {
   "cell_type": "markdown",
   "metadata": {},
   "source": [
    "### RFECV\n",
    "- `RFECV( estimator(),min_features_to_select=1,cv=None)`\n",
    "    - RFE 와 5 fold Cross-validation selection 을 이용하여 최 feature 랭킹 메기고 소 1개의 featuer를 선택하도록 선택\n"
   ]
  },
  {
   "cell_type": "code",
   "execution_count": 25,
   "metadata": {},
   "outputs": [],
   "source": [
    "rfecv=RFECV(DecisionTreeClassifier(),min_features_to_select=8,cv=10)"
   ]
  },
  {
   "cell_type": "code",
   "execution_count": 26,
   "metadata": {},
   "outputs": [
    {
     "data": {
      "text/plain": [
       "array([[1.423e+01, 1.710e+00, 1.270e+02, ..., 1.040e+00, 3.920e+00,\n",
       "        1.065e+03],\n",
       "       [1.320e+01, 1.780e+00, 1.000e+02, ..., 1.050e+00, 3.400e+00,\n",
       "        1.050e+03],\n",
       "       [1.316e+01, 2.360e+00, 1.010e+02, ..., 1.030e+00, 3.170e+00,\n",
       "        1.185e+03],\n",
       "       ...,\n",
       "       [1.327e+01, 4.280e+00, 1.200e+02, ..., 5.900e-01, 1.560e+00,\n",
       "        8.350e+02],\n",
       "       [1.317e+01, 2.590e+00, 1.200e+02, ..., 6.000e-01, 1.620e+00,\n",
       "        8.400e+02],\n",
       "       [1.413e+01, 4.100e+00, 9.600e+01, ..., 6.100e-01, 1.600e+00,\n",
       "        5.600e+02]])"
      ]
     },
     "execution_count": 26,
     "metadata": {},
     "output_type": "execute_result"
    }
   ],
   "source": [
    "rfecv.fit_transform(wine.iloc[:,:-1],wine.target) "
   ]
  },
  {
   "cell_type": "markdown",
   "metadata": {},
   "source": [
    "최소 8개 로 설정하였지만 11 개의 featuers 선택됨.\n",
    "- `n_features_` :11 (랭킹 1위 11개 선택)"
   ]
  },
  {
   "cell_type": "code",
   "execution_count": 27,
   "metadata": {},
   "outputs": [
    {
     "data": {
      "text/plain": [
       "{'estimator': DecisionTreeClassifier(ccp_alpha=0.0, class_weight=None, criterion='gini',\n",
       "                        max_depth=None, max_features=None, max_leaf_nodes=None,\n",
       "                        min_impurity_decrease=0.0, min_impurity_split=None,\n",
       "                        min_samples_leaf=1, min_samples_split=2,\n",
       "                        min_weight_fraction_leaf=0.0, presort='deprecated',\n",
       "                        random_state=None, splitter='best'),\n",
       " 'step': 1,\n",
       " 'cv': 10,\n",
       " 'scoring': None,\n",
       " 'verbose': 0,\n",
       " 'n_jobs': None,\n",
       " 'min_features_to_select': 8,\n",
       " 'support_': array([ True,  True, False, False,  True,  True,  True,  True,  True,\n",
       "         True,  True,  True,  True]),\n",
       " 'n_features_': 11,\n",
       " 'ranking_': array([1, 1, 3, 2, 1, 1, 1, 1, 1, 1, 1, 1, 1]),\n",
       " 'estimator_': DecisionTreeClassifier(ccp_alpha=0.0, class_weight=None, criterion='gini',\n",
       "                        max_depth=None, max_features=None, max_leaf_nodes=None,\n",
       "                        min_impurity_decrease=0.0, min_impurity_split=None,\n",
       "                        min_samples_leaf=1, min_samples_split=2,\n",
       "                        min_weight_fraction_leaf=0.0, presort='deprecated',\n",
       "                        random_state=None, splitter='best'),\n",
       " 'grid_scores_': array([0.86503268, 0.86503268, 0.86503268, 0.87058824, 0.86503268,\n",
       "        0.86503268])}"
      ]
     },
     "execution_count": 27,
     "metadata": {},
     "output_type": "execute_result"
    }
   ],
   "source": [
    "vars(rfecv)"
   ]
  },
  {
   "cell_type": "markdown",
   "metadata": {},
   "source": [
    "feature selection 방식ㄱ에 따라서 결과가 상이"
   ]
  },
  {
   "cell_type": "code",
   "execution_count": 24,
   "metadata": {
    "scrolled": true
   },
   "outputs": [
    {
     "data": {
      "text/plain": [
       "array([ True, False, False, False,  True,  True,  True,  True,  True,\n",
       "        True,  True,  True,  True])"
      ]
     },
     "execution_count": 24,
     "metadata": {},
     "output_type": "execute_result"
    }
   ],
   "source": [
    "rfecv.support_ #rfecv 결과 11개"
   ]
  },
  {
   "cell_type": "code",
   "execution_count": 60,
   "metadata": {
    "scrolled": true
   },
   "outputs": [
    {
     "data": {
      "text/plain": [
       "array([ True, False, False, False, False, False,  True,  True,  True,\n",
       "        True,  True,  True,  True])"
      ]
     },
     "execution_count": 60,
     "metadata": {},
     "output_type": "execute_result"
    }
   ],
   "source": [
    "rfe.support_  #rfe 결과 8개 "
   ]
  },
  {
   "cell_type": "code",
   "execution_count": 17,
   "metadata": {},
   "outputs": [
    {
     "data": {
      "text/plain": [
       "array([False,  True, False,  True,  True,  True,  True, False, False,\n",
       "        True, False,  True,  True])"
      ]
     },
     "execution_count": 17,
     "metadata": {},
     "output_type": "execute_result"
    }
   ],
   "source": [
    "skb.get_support() #chi2  결과 8개"
   ]
  },
  {
   "cell_type": "markdown",
   "metadata": {},
   "source": [
    "### 3.embeded \n",
    "- 알고리즘 자체에 내장된 기능을 사용\n",
    "- filter의 적은 computational costd와 wrapper의 어느정도의 적확도를 합침\n",
    "\n",
    "#### feature_importances_\n",
    "- 값들 중에서 가장 영향을 크게 미치는 feature를 확률 값으로 보여줌\n",
    "    - 상대비율이므로 가장 큰값이 가장 영향력 있음.\n",
    "    "
   ]
  },
  {
   "cell_type": "code",
   "execution_count": 34,
   "metadata": {},
   "outputs": [
    {
     "data": {
      "text/plain": [
       "DecisionTreeRegressor(ccp_alpha=0.0, criterion='mse', max_depth=None,\n",
       "                      max_features=None, max_leaf_nodes=None,\n",
       "                      min_impurity_decrease=0.0, min_impurity_split=None,\n",
       "                      min_samples_leaf=1, min_samples_split=2,\n",
       "                      min_weight_fraction_leaf=0.0, presort='deprecated',\n",
       "                      random_state=None, splitter='best')"
      ]
     },
     "execution_count": 34,
     "metadata": {},
     "output_type": "execute_result"
    }
   ],
   "source": [
    "from sklearn.tree import DecisionTreeRegressor\n",
    "dt = DecisionTreeRegressor()\n",
    "dt.fit(wine.iloc[:, :-1], wine.target)"
   ]
  },
  {
   "cell_type": "markdown",
   "metadata": {},
   "source": [
    "Gini 중요도 기반"
   ]
  },
  {
   "cell_type": "code",
   "execution_count": 35,
   "metadata": {},
   "outputs": [
    {
     "data": {
      "text/plain": [
       "array([0.00217721, 0.        , 0.        , 0.01626776, 0.        ,\n",
       "       0.        , 0.62537618, 0.        , 0.        , 0.12792536,\n",
       "       0.        , 0.        , 0.22825349])"
      ]
     },
     "execution_count": 35,
     "metadata": {},
     "output_type": "execute_result"
    }
   ],
   "source": [
    "dt.feature_importances_"
   ]
  },
  {
   "cell_type": "markdown",
   "metadata": {},
   "source": [
    "가장 중요한 5개를 중요도 순으로  인덱스 정렬 "
   ]
  },
  {
   "cell_type": "code",
   "execution_count": 58,
   "metadata": {},
   "outputs": [
    {
     "data": {
      "text/plain": [
       "array([ 6, 12,  9,  3,  0])"
      ]
     },
     "execution_count": 58,
     "metadata": {},
     "output_type": "execute_result"
    }
   ],
   "source": [
    "dt.feature_importances_.argsort()[::-1][:5]"
   ]
  },
  {
   "cell_type": "code",
   "execution_count": 37,
   "metadata": {},
   "outputs": [],
   "source": [
    "# columns에서 fancy indexing으로 이름 가져오기"
   ]
  },
  {
   "cell_type": "code",
   "execution_count": 60,
   "metadata": {},
   "outputs": [
    {
     "data": {
      "text/plain": [
       "Index(['flavanoids', 'proline', 'color_intensity', 'alcalinity_of_ash',\n",
       "       'alcohol'],\n",
       "      dtype='object')"
      ]
     },
     "execution_count": 60,
     "metadata": {},
     "output_type": "execute_result"
    }
   ],
   "source": [
    "wine.columns[:-1][dt.feature_importances_.argsort()[::-1][:5]]"
   ]
  },
  {
   "cell_type": "markdown",
   "metadata": {},
   "source": [
    "---\n",
    "절차 배우는게 중요\n",
    "\n",
    "1. 데이터 수집 \n",
    "2. 데이터 전처리 & 모델 검정\n",
    "    - gridsaerchCV, pipe\n",
    "3. 차원 축소,선택\n",
    "4. ensemble 성능 향상\n",
    "    - stacking(개별 모델 결합해서 새로운 모델 생성), boosting\n",
    "    - 속도: 성능 SVM..byebye예측속도 느림 (vectorization 아니기 떄문)\n",
    "        - 하드웨어로.. 해결 $$$"
   ]
  },
  {
   "cell_type": "code",
   "execution_count": null,
   "metadata": {},
   "outputs": [],
   "source": []
  }
 ],
 "metadata": {
  "kernelspec": {
   "display_name": "Python 3",
   "language": "python",
   "name": "python3"
  },
  "language_info": {
   "codemirror_mode": {
    "name": "ipython",
    "version": 3
   },
   "file_extension": ".py",
   "mimetype": "text/x-python",
   "name": "python",
   "nbconvert_exporter": "python",
   "pygments_lexer": "ipython3",
   "version": "3.7.6"
  }
 },
 "nbformat": 4,
 "nbformat_minor": 4
}
