{
 "cells": [
  {
   "cell_type": "markdown",
   "metadata": {},
   "source": [
    "# [AI 오픈 이노베이션] 11기 기본 저녁반\n",
    "- 조교 E-Mail : khys0079@gmail.com\n",
    "- github: https://github.com/hysKim1/AI_Fundamental\n",
    "\n",
    "    -  [파이썬 공식문서](https://docs.python.org/ko/3/)\n",
    "        - [용어집](https://docs.python.org/ko/3/glossary.html)\n",
    "        - [언어 레퍼런스](https://docs.python.org/ko/3/reference/index.html)\n",
    "        - [자습서](https://docs.python.org/ko/3/tutorial/index.html)\n",
    "---"
   ]
  },
  {
   "cell_type": "markdown",
   "metadata": {},
   "source": [
    "\n",
    "   [함수 복습](#함수-복습) <br/>\n",
    "1. [함수 2](#함수-이어서) <br/>\n",
    "      1.1 [ 함수 반환값 ](#함수-반환값)<br/>\n",
    "      1.2 [ 중첩 ](#중첩)<br/>\n",
    "      1.3 [ Closure ](#Closure)<br/>\n",
    "      1.4 [ Higher order function ](#Higher-Order-Function)<br/>\n",
    "      1.5 [ 변수의 스코프 ](#변수의-스코프)<br/>\n",
    "      1.6  [Method Overloading ](#Method-Overloading)<br/>\n",
    "      1.7  [Recursion](#Recursion)<br/>\n",
    "      1.8  [Lambda](#Lambda)<br/>\n",
    "      1.9  [* Asterisk](#Asterisk(별))<br/>\n",
    "      1.10  [Namespace](#Namespace)<br/>\n",
    "      1.11  [Callable](#Callable)<br/>"
   ]
  },
  {
   "cell_type": "markdown",
   "metadata": {},
   "source": [
    "## 함수 복습\n",
    "\n",
    "### Function"
   ]
  },
  {
   "cell_type": "markdown",
   "metadata": {},
   "source": [
    "- 일련의 코드들의 **재사용 빈도가 높은 경우** 특정 **입력값**(들)이 함수를 통해 **출력값**을 얻음\n",
    "\n",
    "    - **매개변수 (Parameter) : 함수 선언/정의** 할 때 쓰는 변수\n",
    "    - **인자(Argument) : 함수 사용** 할 때 쓰는 변수\n",
    "\n",
    "  \n",
    "####  매개변수 7가지 사용방식\n",
    "    1. Positional\n",
    "    2. Keyword\n",
    "    3. Positional & Keyword 혼합\n",
    "    4. Positional only\n",
    "    5. Keyward only\n",
    "    6. 가변 positional\n",
    "    7. 가변 keyward\n",
    "    \n",
    "    \n"
   ]
  },
  {
   "cell_type": "markdown",
   "metadata": {},
   "source": [
    "## 함수 이어서\n",
    "### 함수 반환값\n",
    "\n",
    "- 반환값 없음\n",
    "\n",
    "- 반환값 있음\n",
    "    - pass\n",
    "        - 함수 정의 시점에서 수행 코드 정해지지않을 경우 임시로 입력 가능\n",
    "        - 어떠한 기능도 수행하지 않음\n",
    "    - return\n",
    "        - 원하는 값 or 하나의 값으로 축약 가능한 식을 반환"
   ]
  },
  {
   "cell_type": "markdown",
   "metadata": {},
   "source": [
    "예1. 반환값 없음, 매개 변수 없음"
   ]
  },
  {
   "cell_type": "code",
   "execution_count": 1,
   "metadata": {},
   "outputs": [],
   "source": [
    "def cat():\n",
    "  print('Meow!')"
   ]
  },
  {
   "cell_type": "code",
   "execution_count": 2,
   "metadata": {},
   "outputs": [
    {
     "name": "stdout",
     "output_type": "stream",
     "text": [
      "Meow!\n"
     ]
    }
   ],
   "source": [
    "cat()  "
   ]
  },
  {
   "cell_type": "markdown",
   "metadata": {},
   "source": [
    "예2. 반환값 있음, 매개 변수 없음"
   ]
  },
  {
   "cell_type": "code",
   "execution_count": 3,
   "metadata": {},
   "outputs": [],
   "source": [
    "def return_true():\n",
    "  return True"
   ]
  },
  {
   "cell_type": "code",
   "execution_count": 4,
   "metadata": {},
   "outputs": [
    {
     "data": {
      "text/plain": [
       "True"
      ]
     },
     "execution_count": 4,
     "metadata": {},
     "output_type": "execute_result"
    }
   ],
   "source": [
    "return_true()"
   ]
  },
  {
   "cell_type": "markdown",
   "metadata": {},
   "source": [
    "예3. 반환값 있음, 매개 변수 있음"
   ]
  },
  {
   "cell_type": "code",
   "execution_count": 5,
   "metadata": {},
   "outputs": [],
   "source": [
    "def return_addition(a, b):\n",
    "  return a + b"
   ]
  },
  {
   "cell_type": "code",
   "execution_count": 6,
   "metadata": {},
   "outputs": [
    {
     "data": {
      "text/plain": [
       "12"
      ]
     },
     "execution_count": 6,
     "metadata": {},
     "output_type": "execute_result"
    }
   ],
   "source": [
    "return_addition(10,2)"
   ]
  },
  {
   "cell_type": "markdown",
   "metadata": {},
   "source": [
    "`__name__`: 원래 선언/정의된 이름을 알려줌."
   ]
  },
  {
   "cell_type": "code",
   "execution_count": 7,
   "metadata": {},
   "outputs": [
    {
     "ename": "NameError",
     "evalue": "name 'sun' is not defined",
     "output_type": "error",
     "traceback": [
      "\u001b[0;31m---------------------------------------------------------------------------\u001b[0m",
      "\u001b[0;31mNameError\u001b[0m                                 Traceback (most recent call last)",
      "\u001b[0;32m<ipython-input-7-20a146e0c47e>\u001b[0m in \u001b[0;36m<module>\u001b[0;34m\u001b[0m\n\u001b[0;32m----> 1\u001b[0;31m \u001b[0msun\u001b[0m\u001b[0;34m.\u001b[0m\u001b[0m__name__\u001b[0m\u001b[0;34m\u001b[0m\u001b[0;34m\u001b[0m\u001b[0m\n\u001b[0m",
      "\u001b[0;31mNameError\u001b[0m: name 'sun' is not defined"
     ]
    }
   ],
   "source": [
    "sun.__name__"
   ]
  },
  {
   "cell_type": "markdown",
   "metadata": {},
   "source": [
    "함수를 다른 이름에 재할당해도 `__name__`은 원래 이름을 알려준다."
   ]
  },
  {
   "cell_type": "code",
   "execution_count": 8,
   "metadata": {},
   "outputs": [],
   "source": [
    "dog = cat"
   ]
  },
  {
   "cell_type": "code",
   "execution_count": 9,
   "metadata": {},
   "outputs": [
    {
     "name": "stdout",
     "output_type": "stream",
     "text": [
      "Meow!\n"
     ]
    }
   ],
   "source": [
    "dog() #함수"
   ]
  },
  {
   "cell_type": "code",
   "execution_count": 10,
   "metadata": {},
   "outputs": [
    {
     "data": {
      "text/plain": [
       "'cat'"
      ]
     },
     "execution_count": 10,
     "metadata": {},
     "output_type": "execute_result"
    }
   ],
   "source": [
    "# __name__은 원래 이름\n",
    "dog.__name__"
   ]
  },
  {
   "cell_type": "markdown",
   "metadata": {},
   "source": [
    "### 중첩"
   ]
  },
  {
   "cell_type": "markdown",
   "metadata": {},
   "source": [
    "중첩이 가능한 경우\n",
    "- 코드 흐름제어\n",
    "    - 조건문 : if, elif, else\n",
    "    - 반복문 : for, while, else\n",
    "    - 예외처리: try, except, else,finally, pass\n",
    "- Encapsulation - 접근 제한\n",
    "    - 함수(funtion), 클래스(clasS)"
   ]
  },
  {
   "cell_type": "markdown",
   "metadata": {},
   "source": [
    "##### 예. 입력한 인자 합 구하기\n",
    "- for 구문을 함수 내부에 중첩시켜 구함"
   ]
  },
  {
   "cell_type": "code",
   "execution_count": 11,
   "metadata": {},
   "outputs": [],
   "source": [
    "def sum_(a):\n",
    "    sum2 =0\n",
    "    for i in a:\n",
    "        sum2 +=i\n",
    "    return sum2"
   ]
  },
  {
   "cell_type": "code",
   "execution_count": 12,
   "metadata": {},
   "outputs": [
    {
     "data": {
      "text/plain": [
       "3"
      ]
     },
     "execution_count": 12,
     "metadata": {},
     "output_type": "execute_result"
    }
   ],
   "source": [
    "sum([1,2])"
   ]
  },
  {
   "cell_type": "markdown",
   "metadata": {},
   "source": [
    "##### 예. 주어진 자료에서 1인 값 갯수 세기\n",
    "- 자료가 1인 조건응 검사하기 위해 for 문내에 중첩시켜 하나씩 검사하여 갯수 반환"
   ]
  },
  {
   "cell_type": "code",
   "execution_count": 13,
   "metadata": {},
   "outputs": [],
   "source": [
    "def one_count(*iterable): \n",
    "    count1=0              #초기화\n",
    "    for i in iterable:    #for 반복문으로 자료 갯수만큼 반복\n",
    "        if i==1:          #조건문: i는 1인 경우에만 카운트에 포함\n",
    "            count1 +=1\n",
    "    return count1         #값 반환으"
   ]
  },
  {
   "cell_type": "code",
   "execution_count": 14,
   "metadata": {},
   "outputs": [
    {
     "data": {
      "text/plain": [
       "3"
      ]
     },
     "execution_count": 14,
     "metadata": {},
     "output_type": "execute_result"
    }
   ],
   "source": [
    "one_count(1,1,2,3,2,1)"
   ]
  },
  {
   "cell_type": "markdown",
   "metadata": {},
   "source": [
    "Name Error : 함수 내부의 할당된 식별자는 외부에서 접근 불가\n",
    "- 원인은 [변수의 스코프](#변수의-스코프) 문제때문에 발생"
   ]
  },
  {
   "cell_type": "markdown",
   "metadata": {},
   "source": [
    "##### 예. 함수의 중첩"
   ]
  },
  {
   "cell_type": "markdown",
   "metadata": {},
   "source": [
    "함수 안에 함수를 정의하는 경우로 [Closure](###Closure)  라 부른다."
   ]
  },
  {
   "cell_type": "code",
   "execution_count": 15,
   "metadata": {},
   "outputs": [],
   "source": [
    "def t(a):\n",
    "    def x():\n",
    "        return a+1\n",
    "    return x"
   ]
  },
  {
   "cell_type": "code",
   "execution_count": 16,
   "metadata": {},
   "outputs": [
    {
     "data": {
      "text/plain": [
       "<function __main__.t(a)>"
      ]
     },
     "execution_count": 16,
     "metadata": {},
     "output_type": "execute_result"
    }
   ],
   "source": [
    "t"
   ]
  },
  {
   "cell_type": "code",
   "execution_count": 17,
   "metadata": {},
   "outputs": [
    {
     "data": {
      "text/plain": [
       "<function __main__.t.<locals>.x()>"
      ]
     },
     "execution_count": 17,
     "metadata": {},
     "output_type": "execute_result"
    }
   ],
   "source": [
    "t(3) # t의 return은 x(함수 이름)."
   ]
  },
  {
   "cell_type": "code",
   "execution_count": 18,
   "metadata": {},
   "outputs": [
    {
     "data": {
      "text/plain": [
       "4"
      ]
     },
     "execution_count": 18,
     "metadata": {},
     "output_type": "execute_result"
    }
   ],
   "source": [
    "t(3)() # return으로 나온 x함수를 실행하려면 괄호를 한번 더 붙인다."
   ]
  },
  {
   "cell_type": "code",
   "execution_count": 19,
   "metadata": {},
   "outputs": [
    {
     "ename": "NameError",
     "evalue": "name 'count1' is not defined",
     "output_type": "error",
     "traceback": [
      "\u001b[0;31m---------------------------------------------------------------------------\u001b[0m",
      "\u001b[0;31mNameError\u001b[0m                                 Traceback (most recent call last)",
      "\u001b[0;32m<ipython-input-19-3b5ca710a752>\u001b[0m in \u001b[0;36m<module>\u001b[0;34m\u001b[0m\n\u001b[0;32m----> 1\u001b[0;31m \u001b[0mcount1\u001b[0m\u001b[0;34m\u001b[0m\u001b[0;34m\u001b[0m\u001b[0m\n\u001b[0m",
      "\u001b[0;31mNameError\u001b[0m: name 'count1' is not defined"
     ]
    }
   ],
   "source": [
    "count1"
   ]
  },
  {
   "cell_type": "markdown",
   "metadata": {},
   "source": [
    "### Closure\n",
    "- 함수를 중첩해서 선언  \n",
    "    - 외부함수 실행후 종료가 되어도 내부함수는 외부 함수의 최종변수에 접근 가능 LEGB규칙\n",
    "    - 그 반대는 기본으로 제공하지 않음\n",
    "- 각 함수로 묶어서 독립적 사용 가능하여 내부함수를 외부함수로부터 수정 불가하도록 함\n",
    "- 추후에 First Class function, Global & Nonlocal를 다룰때 더 자세히 다룰 예정 "
   ]
  },
  {
   "cell_type": "code",
   "execution_count": 20,
   "metadata": {},
   "outputs": [],
   "source": [
    "def x(n):      #외부 함수\n",
    "    def y(m):  #내부 함수\n",
    "        return n+m\n",
    "    return y"
   ]
  },
  {
   "cell_type": "code",
   "execution_count": 21,
   "metadata": {
    "scrolled": true
   },
   "outputs": [
    {
     "data": {
      "text/plain": [
       "3"
      ]
     },
     "execution_count": 21,
     "metadata": {},
     "output_type": "execute_result"
    }
   ],
   "source": [
    "x(2)(1)  #외부함의 최종 결과값 y=3"
   ]
  },
  {
   "cell_type": "code",
   "execution_count": 22,
   "metadata": {
    "scrolled": true
   },
   "outputs": [
    {
     "data": {
      "text/plain": [
       "3"
      ]
     },
     "execution_count": 22,
     "metadata": {},
     "output_type": "execute_result"
    }
   ],
   "source": [
    "x(1)(2) #외부함의 최종 결과값 y=3"
   ]
  },
  {
   "cell_type": "code",
   "execution_count": 23,
   "metadata": {},
   "outputs": [
    {
     "data": {
      "text/plain": [
       "<function __main__.x.<locals>.y(m)>"
      ]
     },
     "execution_count": 23,
     "metadata": {},
     "output_type": "execute_result"
    }
   ],
   "source": [
    "x(1)"
   ]
  },
  {
   "cell_type": "markdown",
   "metadata": {},
   "source": [
    "### Higher Order Function\n",
    "- **function을 인자 ,return에** 사용\n",
    "- 고차함수라고도 불리나 고차원 함수로 이해할수있어 higer order function으로 사용"
   ]
  },
  {
   "cell_type": "markdown",
   "metadata": {},
   "source": [
    "- 괄호를 붙이지 않은 함수 이름/ [`Lambda`](#Lambda)사용\n",
    "    - 괄호를 붙인 함수 이름은 실행된 값이기 때문"
   ]
  },
  {
   "cell_type": "code",
   "execution_count": 24,
   "metadata": {},
   "outputs": [],
   "source": [
    "def b(func, xx):\n",
    "    return func(xx)\n",
    "\n",
    "def c(xx):\n",
    "    return xx + 1\n"
   ]
  },
  {
   "cell_type": "code",
   "execution_count": 25,
   "metadata": {},
   "outputs": [
    {
     "data": {
      "text/plain": [
       "2"
      ]
     },
     "execution_count": 25,
     "metadata": {},
     "output_type": "execute_result"
    }
   ],
   "source": [
    "c(1)"
   ]
  },
  {
   "cell_type": "code",
   "execution_count": 26,
   "metadata": {},
   "outputs": [
    {
     "data": {
      "text/plain": [
       "5"
      ]
     },
     "execution_count": 26,
     "metadata": {},
     "output_type": "execute_result"
    }
   ],
   "source": [
    "# 함수 b는 함수 c를 인자로 받음\n",
    "b(c, 4) # b(c,4)=c(4)=5"
   ]
  },
  {
   "cell_type": "code",
   "execution_count": 27,
   "metadata": {},
   "outputs": [
    {
     "data": {
      "text/plain": [
       "<function __main__.b(func, xx)>"
      ]
     },
     "execution_count": 27,
     "metadata": {},
     "output_type": "execute_result"
    }
   ],
   "source": [
    "b  #함수식"
   ]
  },
  {
   "cell_type": "markdown",
   "metadata": {},
   "source": [
    "### 변수의 스코프\n",
    "- 선언된 블록 내에서 변수 사용 가능\n",
    "\n",
    "* **전역범위 (Global Scope)** : 전역변수를 접근 할 수 있는 범위\n",
    "    - 스크립트 전체에 접근 가능\n",
    "\n",
    "* **지역범위 (Local Scope)** : 지역변수를 접근할 수있는 범위\n",
    "    - 지역범수는 클래스, 함수 내에 정의되어 선언된 블록 내에서 변수 사용 가능\n",
    "\n",
    "\n",
    "\n",
    "- 함수내부에서 외부 변수에 접근이 가능\n",
    "- 외부에서는 내부 변수 접근 불가"
   ]
  },
  {
   "cell_type": "markdown",
   "metadata": {},
   "source": [
    "예. 함수내부에서 외부 변수에 접근이 가능\n",
    " - tmp 라는 식별자에 [] 비어있는 list할당하였고 함수에 의해서 값이 추가된 것을 알 수 있음"
   ]
  },
  {
   "cell_type": "code",
   "execution_count": 28,
   "metadata": {},
   "outputs": [],
   "source": [
    "tmp=[]               #함수외부의 전역 변수 tmp \n",
    "def return_list(*a):\n",
    "    tmp.append(a)\n",
    "    return tmp"
   ]
  },
  {
   "cell_type": "code",
   "execution_count": 29,
   "metadata": {},
   "outputs": [
    {
     "data": {
      "text/plain": [
       "[(1,)]"
      ]
     },
     "execution_count": 29,
     "metadata": {},
     "output_type": "execute_result"
    }
   ],
   "source": [
    "return_list(1)"
   ]
  },
  {
   "cell_type": "code",
   "execution_count": 30,
   "metadata": {},
   "outputs": [
    {
     "data": {
      "text/plain": [
       "[(1,), (2,)]"
      ]
     },
     "execution_count": 30,
     "metadata": {},
     "output_type": "execute_result"
    }
   ],
   "source": [
    "return_list(2)"
   ]
  },
  {
   "cell_type": "markdown",
   "metadata": {},
   "source": [
    "- 외부에서는 내부 변수 접근 불가"
   ]
  },
  {
   "cell_type": "code",
   "execution_count": 31,
   "metadata": {},
   "outputs": [],
   "source": [
    "def foo():\n",
    "    zzz = zzz+1  # local 식별자 zzz\n",
    "    return zzz"
   ]
  },
  {
   "cell_type": "code",
   "execution_count": 32,
   "metadata": {
    "scrolled": true
   },
   "outputs": [
    {
     "ename": "NameError",
     "evalue": "name 'zzz' is not defined",
     "output_type": "error",
     "traceback": [
      "\u001b[0;31m---------------------------------------------------------------------------\u001b[0m",
      "\u001b[0;31mNameError\u001b[0m                                 Traceback (most recent call last)",
      "\u001b[0;32m<ipython-input-32-131521d12231>\u001b[0m in \u001b[0;36m<module>\u001b[0;34m\u001b[0m\n\u001b[0;32m----> 1\u001b[0;31m \u001b[0mzzz\u001b[0m\u001b[0;34m\u001b[0m\u001b[0;34m\u001b[0m\u001b[0m\n\u001b[0m",
      "\u001b[0;31mNameError\u001b[0m: name 'zzz' is not defined"
     ]
    }
   ],
   "source": [
    "zzz"
   ]
  },
  {
   "cell_type": "markdown",
   "metadata": {},
   "source": [
    "추후에 Global& Nonlocal에서 더 자세히 다룰 예정"
   ]
  },
  {
   "cell_type": "markdown",
   "metadata": {},
   "source": [
    " ### Method Overloading\n",
    "- 메소드 이름이 동일한 경우, 가장 최근에 정의한 메소드로 덮어씀(overwriting)\n",
    "- python은 overloading을 기본적으로 지원하지 않음 \n",
    "     - 비효율적 해결방법: 조건문\n",
    "     - 효율적 해결방법: multipledispatch 라이브러리\n",
    "          - 인자와 파라미터 갯수에 따라서 알아서 처리"
   ]
  },
  {
   "cell_type": "markdown",
   "metadata": {},
   "source": [
    "예시. 가장 마지막에 실행된 함수 add(a,b) 함수가 앞에 있는 add(a) 함수를 덮어씀."
   ]
  },
  {
   "cell_type": "code",
   "execution_count": 33,
   "metadata": {},
   "outputs": [],
   "source": [
    "def add(a):\n",
    "    return a + 1\n",
    "\n",
    "def add(a, b):\n",
    "    return a + b"
   ]
  },
  {
   "cell_type": "code",
   "execution_count": 34,
   "metadata": {},
   "outputs": [
    {
     "ename": "TypeError",
     "evalue": "add() missing 1 required positional argument: 'b'",
     "output_type": "error",
     "traceback": [
      "\u001b[0;31m---------------------------------------------------------------------------\u001b[0m",
      "\u001b[0;31mTypeError\u001b[0m                                 Traceback (most recent call last)",
      "\u001b[0;32m<ipython-input-34-61d6794f2fe2>\u001b[0m in \u001b[0;36m<module>\u001b[0;34m\u001b[0m\n\u001b[0;32m----> 1\u001b[0;31m \u001b[0madd\u001b[0m\u001b[0;34m(\u001b[0m\u001b[0;36m1\u001b[0m\u001b[0;34m)\u001b[0m   \u001b[0;31m# 해당 함수는 add(a,b)에의해 오버로딩됨\u001b[0m\u001b[0;34m\u001b[0m\u001b[0;34m\u001b[0m\u001b[0m\n\u001b[0m",
      "\u001b[0;31mTypeError\u001b[0m: add() missing 1 required positional argument: 'b'"
     ]
    }
   ],
   "source": [
    "add(1)   # 해당 함수는 add(a,b)에의해 오버로딩됨"
   ]
  },
  {
   "cell_type": "code",
   "execution_count": 35,
   "metadata": {},
   "outputs": [
    {
     "data": {
      "text/plain": [
       "3"
      ]
     },
     "execution_count": 35,
     "metadata": {},
     "output_type": "execute_result"
    }
   ],
   "source": [
    "add(1,2)"
   ]
  },
  {
   "cell_type": "code",
   "execution_count": 36,
   "metadata": {},
   "outputs": [
    {
     "data": {
      "text/plain": [
       "10"
      ]
     },
     "execution_count": 36,
     "metadata": {},
     "output_type": "execute_result"
    }
   ],
   "source": [
    "# positional argument \n",
    "sum((1,2,3,4))"
   ]
  },
  {
   "cell_type": "markdown",
   "metadata": {},
   "source": [
    "argument는 2개가 필요한데 4개를 넣으면 에러를 일으킨다."
   ]
  },
  {
   "cell_type": "code",
   "execution_count": 37,
   "metadata": {},
   "outputs": [
    {
     "ename": "TypeError",
     "evalue": "sum expected at most 2 arguments, got 4",
     "output_type": "error",
     "traceback": [
      "\u001b[0;31m---------------------------------------------------------------------------\u001b[0m",
      "\u001b[0;31mTypeError\u001b[0m                                 Traceback (most recent call last)",
      "\u001b[0;32m<ipython-input-37-ecd458d84989>\u001b[0m in \u001b[0;36m<module>\u001b[0;34m\u001b[0m\n\u001b[1;32m      1\u001b[0m \u001b[0;31m# TypeError\u001b[0m\u001b[0;34m\u001b[0m\u001b[0;34m\u001b[0m\u001b[0;34m\u001b[0m\u001b[0m\n\u001b[0;32m----> 2\u001b[0;31m \u001b[0msum\u001b[0m\u001b[0;34m(\u001b[0m\u001b[0;36m1\u001b[0m\u001b[0;34m,\u001b[0m\u001b[0;36m2\u001b[0m\u001b[0;34m,\u001b[0m\u001b[0;36m3\u001b[0m\u001b[0;34m,\u001b[0m\u001b[0;36m4\u001b[0m\u001b[0;34m)\u001b[0m\u001b[0;34m\u001b[0m\u001b[0;34m\u001b[0m\u001b[0m\n\u001b[0m",
      "\u001b[0;31mTypeError\u001b[0m: sum expected at most 2 arguments, got 4"
     ]
    }
   ],
   "source": [
    "# TypeError\n",
    "sum(1,2,3,4)"
   ]
  },
  {
   "cell_type": "markdown",
   "metadata": {},
   "source": [
    "positional only 방식이므로 keyword 방식으로 argument를 넣으면 에러를 일으킨다."
   ]
  },
  {
   "cell_type": "code",
   "execution_count": 38,
   "metadata": {
    "scrolled": false
   },
   "outputs": [
    {
     "ename": "TypeError",
     "evalue": "sum() takes no keyword arguments",
     "output_type": "error",
     "traceback": [
      "\u001b[0;31m---------------------------------------------------------------------------\u001b[0m",
      "\u001b[0;31mTypeError\u001b[0m                                 Traceback (most recent call last)",
      "\u001b[0;32m<ipython-input-38-4f8b50f403c6>\u001b[0m in \u001b[0;36m<module>\u001b[0;34m\u001b[0m\n\u001b[1;32m      1\u001b[0m \u001b[0;31m# TypeError\u001b[0m\u001b[0;34m\u001b[0m\u001b[0;34m\u001b[0m\u001b[0;34m\u001b[0m\u001b[0m\n\u001b[0;32m----> 2\u001b[0;31m \u001b[0msum\u001b[0m\u001b[0;34m(\u001b[0m\u001b[0miterable\u001b[0m\u001b[0;34m=\u001b[0m\u001b[0;34m(\u001b[0m\u001b[0;36m1\u001b[0m\u001b[0;34m,\u001b[0m\u001b[0;36m2\u001b[0m\u001b[0;34m,\u001b[0m\u001b[0;36m3\u001b[0m\u001b[0;34m,\u001b[0m\u001b[0;36m4\u001b[0m\u001b[0;34m)\u001b[0m\u001b[0;34m)\u001b[0m\u001b[0;34m\u001b[0m\u001b[0;34m\u001b[0m\u001b[0m\n\u001b[0m",
      "\u001b[0;31mTypeError\u001b[0m: sum() takes no keyword arguments"
     ]
    }
   ],
   "source": [
    "# TypeError\n",
    "sum(iterable=(1,2,3,4))"
   ]
  },
  {
   "cell_type": "markdown",
   "metadata": {},
   "source": [
    "## Recursion"
   ]
  },
  {
   "cell_type": "markdown",
   "metadata": {},
   "source": [
    "재귀 함수- 함수 안에서 함수 자기자신을 호출하는 방식\n",
    "- 많은 메모리 차지\n",
    "- 퍼포먼스가 반복문 보다 느리다.\n",
    "- 파이썬에서는 선호하지 않음\n",
    "    -  **dynamic programming을 대신 이용**"
   ]
  },
  {
   "cell_type": "markdown",
   "metadata": {},
   "source": [
    "예. 대표적인 예시는 피보나치수열 ( Fibonacci Series)\n",
    " - 1 1 2 3 5 8 13 ..."
   ]
  },
  {
   "cell_type": "code",
   "execution_count": 39,
   "metadata": {},
   "outputs": [
    {
     "name": "stdout",
     "output_type": "stream",
     "text": [
      "1\n",
      "1\n",
      "2\n",
      "3\n",
      "5\n",
      "8\n",
      "13\n",
      "21\n",
      "34\n"
     ]
    },
    {
     "data": {
      "text/plain": [
       "2"
      ]
     },
     "execution_count": 39,
     "metadata": {},
     "output_type": "execute_result"
    }
   ],
   "source": [
    "#재귀를 이용한 피보나치 수열\n",
    "\n",
    "def fibonacci(n): # 함수 정의할때 파라미터는 식이 올수 없음 주의\n",
    "    if n <= 1: \n",
    "        return n \n",
    "    else: \n",
    "        return(fibonacci(n-1) + fibonacci(n-2))\n",
    "    \n",
    "for i in range(1,10): \n",
    "    print(fibonacci(i))\n",
    "\n",
    "fibonacci(3)"
   ]
  },
  {
   "cell_type": "markdown",
   "metadata": {},
   "source": [
    "예. 팩토리얼 Factorial(n) = nx(n-1)x(n-2)x...x3x2x1 (n은 양의 정수)"
   ]
  },
  {
   "cell_type": "code",
   "execution_count": 40,
   "metadata": {},
   "outputs": [],
   "source": [
    "def factorial(n):\n",
    "    if n == 0:\n",
    "        return 1\n",
    "    else:\n",
    "        return n*factorial(n-1)"
   ]
  },
  {
   "cell_type": "code",
   "execution_count": 41,
   "metadata": {},
   "outputs": [
    {
     "data": {
      "text/plain": [
       "1"
      ]
     },
     "execution_count": 41,
     "metadata": {},
     "output_type": "execute_result"
    }
   ],
   "source": [
    "factorial(0)"
   ]
  },
  {
   "cell_type": "code",
   "execution_count": 42,
   "metadata": {},
   "outputs": [
    {
     "data": {
      "text/plain": [
       "1"
      ]
     },
     "execution_count": 42,
     "metadata": {},
     "output_type": "execute_result"
    }
   ],
   "source": [
    "factorial(1) # 1!=1"
   ]
  },
  {
   "cell_type": "code",
   "execution_count": 43,
   "metadata": {},
   "outputs": [
    {
     "data": {
      "text/plain": [
       "120"
      ]
     },
     "execution_count": 43,
     "metadata": {},
     "output_type": "execute_result"
    }
   ],
   "source": [
    "factorial(5) # 5!= 5 x 4 x 3 x 2 x 1 =120"
   ]
  },
  {
   "cell_type": "markdown",
   "metadata": {},
   "source": [
    "### Lambda"
   ]
  },
  {
   "cell_type": "markdown",
   "metadata": {},
   "source": [
    "- `lambda`(익명함수):\n",
    "    - 런타임에 생성해서 사용할 수 있어 코드 수행중에만 존재하는 일시적으로 있는 함수   \n",
    "- 추후에 배울 **map, reduce** 와 사용하면 더욱 강력함! "
   ]
  },
  {
   "cell_type": "markdown",
   "metadata": {},
   "source": [
    "lambda 함수식 생성\n",
    "- `lambda 변수1, 변수 2 : 식`"
   ]
  },
  {
   "cell_type": "code",
   "execution_count": 44,
   "metadata": {},
   "outputs": [
    {
     "data": {
      "text/plain": [
       "<function __main__.<lambda>(a, b)>"
      ]
     },
     "execution_count": 44,
     "metadata": {},
     "output_type": "execute_result"
    }
   ],
   "source": [
    "lambda a,b: a+b"
   ]
  },
  {
   "cell_type": "code",
   "execution_count": 45,
   "metadata": {},
   "outputs": [],
   "source": [
    "cat = lambda a,b: a+b"
   ]
  },
  {
   "cell_type": "code",
   "execution_count": 46,
   "metadata": {},
   "outputs": [
    {
     "data": {
      "text/plain": [
       "3"
      ]
     },
     "execution_count": 46,
     "metadata": {},
     "output_type": "execute_result"
    }
   ],
   "source": [
    "cat(1,2)"
   ]
  },
  {
   "cell_type": "markdown",
   "metadata": {},
   "source": [
    "원래이름 `<lambda>`"
   ]
  },
  {
   "cell_type": "code",
   "execution_count": 47,
   "metadata": {
    "scrolled": true
   },
   "outputs": [
    {
     "data": {
      "text/plain": [
       "'<lambda>'"
      ]
     },
     "execution_count": 47,
     "metadata": {},
     "output_type": "execute_result"
    }
   ],
   "source": [
    "cat.__name__"
   ]
  },
  {
   "cell_type": "code",
   "execution_count": 48,
   "metadata": {},
   "outputs": [
    {
     "data": {
      "text/plain": [
       "True"
      ]
     },
     "execution_count": 48,
     "metadata": {},
     "output_type": "execute_result"
    }
   ],
   "source": [
    "class A:\n",
    "    def __call__(self):\n",
    "        return 'callable '\n",
    "    \n",
    "callable(A)"
   ]
  },
  {
   "cell_type": "markdown",
   "metadata": {},
   "source": [
    "### Map\n",
    "- 여러개의 데이터(리스트, 딕셔너리, 세트) 요소를 지정된 함수/lambda 로 처리해주는 함수\n",
    "- 추후 reduce와 함께 더 자세히 다룰 예정"
   ]
  },
  {
   "cell_type": "code",
   "execution_count": 49,
   "metadata": {},
   "outputs": [
    {
     "data": {
      "text/plain": [
       "<map at 0x7fbd0b46b4d0>"
      ]
     },
     "execution_count": 49,
     "metadata": {},
     "output_type": "execute_result"
    }
   ],
   "source": [
    "map(lambda x:x+10, [1,2,3,4,5])"
   ]
  },
  {
   "cell_type": "code",
   "execution_count": 50,
   "metadata": {},
   "outputs": [
    {
     "data": {
      "text/plain": [
       "[2, 3, 4, 5, 6]"
      ]
     },
     "execution_count": 50,
     "metadata": {},
     "output_type": "execute_result"
    }
   ],
   "source": [
    "# list로 감싸면 map결과값 볼 수 있음\n",
    "list(map(lambda x:x+1, [1,2,3,4,5]))"
   ]
  },
  {
   "cell_type": "code",
   "execution_count": 51,
   "metadata": {},
   "outputs": [],
   "source": [
    "def add_1(x):\n",
    "    return x+1"
   ]
  },
  {
   "cell_type": "code",
   "execution_count": 52,
   "metadata": {},
   "outputs": [
    {
     "data": {
      "text/plain": [
       "[2, 3, 4, 5, 6]"
      ]
     },
     "execution_count": 52,
     "metadata": {},
     "output_type": "execute_result"
    }
   ],
   "source": [
    "list(map(add_1, [1,2,3,4,5]))"
   ]
  },
  {
   "cell_type": "markdown",
   "metadata": {},
   "source": [
    "### Asterisk(별)\n",
    "- 파이썬에서의 * 는 다양한 용도를 갖음\n",
    "- 더 많은 용도 참고: https://treyhunner.com/2018/10/asterisks-in-python-what-they-are-and-how-to-use-them/\n",
    "\n",
    "1.곱하기와 지수"
   ]
  },
  {
   "cell_type": "code",
   "execution_count": 53,
   "metadata": {},
   "outputs": [
    {
     "data": {
      "text/plain": [
       "2"
      ]
     },
     "execution_count": 53,
     "metadata": {},
     "output_type": "execute_result"
    }
   ],
   "source": [
    "2*1   #2 x 1 =2"
   ]
  },
  {
   "cell_type": "code",
   "execution_count": 54,
   "metadata": {},
   "outputs": [
    {
     "data": {
      "text/plain": [
       "8"
      ]
     },
     "execution_count": 54,
     "metadata": {},
     "output_type": "execute_result"
    }
   ],
   "source": [
    "2**3 # 2의3승 = 2^3= 2x2x2=8"
   ]
  },
  {
   "cell_type": "markdown",
   "metadata": {},
   "source": [
    "2. unpacking 에서 나머지 할당"
   ]
  },
  {
   "cell_type": "code",
   "execution_count": 55,
   "metadata": {},
   "outputs": [
    {
     "data": {
      "text/plain": [
       "[2, 3, 4, 5]"
      ]
     },
     "execution_count": 55,
     "metadata": {},
     "output_type": "execute_result"
    }
   ],
   "source": [
    "a,*b =1,2,3,4,5 # 나머지\n",
    "b"
   ]
  },
  {
   "cell_type": "code",
   "execution_count": 56,
   "metadata": {},
   "outputs": [
    {
     "ename": "TypeError",
     "evalue": "int object argument after * must be an iterable, not function",
     "output_type": "error",
     "traceback": [
      "\u001b[0;31m---------------------------------------------------------------------------\u001b[0m",
      "\u001b[0;31mTypeError\u001b[0m                                 Traceback (most recent call last)",
      "\u001b[0;32m<ipython-input-56-2a2b3e329101>\u001b[0m in \u001b[0;36m<module>\u001b[0;34m\u001b[0m\n\u001b[0;32m----> 1\u001b[0;31m \u001b[0ma\u001b[0m\u001b[0;34m(\u001b[0m\u001b[0;34m*\u001b[0m\u001b[0mx\u001b[0m\u001b[0;34m)\u001b[0m  \u001b[0;31m#unpacking : 개별 인자/args로 들어감\u001b[0m\u001b[0;34m\u001b[0m\u001b[0;34m\u001b[0m\u001b[0m\n\u001b[0m",
      "\u001b[0;31mTypeError\u001b[0m: int object argument after * must be an iterable, not function"
     ]
    }
   ],
   "source": [
    " a(*x)  #unpacking : 개별 인자/args로 들어감"
   ]
  },
  {
   "cell_type": "markdown",
   "metadata": {},
   "source": [
    "3. 매개변수 : 키워드, 키워드 only, 가변 포지셔널 방식 "
   ]
  },
  {
   "cell_type": "code",
   "execution_count": 57,
   "metadata": {},
   "outputs": [
    {
     "data": {
      "text/plain": [
       "([1, 2, 3, 4, 5],)"
      ]
     },
     "execution_count": 57,
     "metadata": {},
     "output_type": "execute_result"
    }
   ],
   "source": [
    "#가변 포지셔널 방식- optional\n",
    "def a(*c):\n",
    "    return c\n",
    "\n",
    "x=[1,2,3,4,5] # 한 묶음으로 ..\n",
    "a(x)"
   ]
  },
  {
   "cell_type": "markdown",
   "metadata": {},
   "source": [
    "4. import 파일명/라이브러리 from *\n",
    "    - 해당 파일이나 라이브러리의 모든 모듈을 불러옴\n",
    "    - 하나하나 불러올 필요가 없어 편리\n",
    "    - 추후에 더 자세히 다룰 예정\n"
   ]
  },
  {
   "cell_type": "code",
   "execution_count": 58,
   "metadata": {},
   "outputs": [],
   "source": [
    "from numpy import * #numpy 라이브러리에서 모든 모듈 불러들임"
   ]
  },
  {
   "cell_type": "markdown",
   "metadata": {},
   "source": [
    "### Namespace"
   ]
  },
  {
   "cell_type": "markdown",
   "metadata": {},
   "source": [
    "### %whos\n",
    "`%whos`는 현재 메모리에 저장된 변수의 이름, 타입, 관련 정보를 보여줌"
   ]
  },
  {
   "cell_type": "code",
   "execution_count": 59,
   "metadata": {},
   "outputs": [
    {
     "name": "stdout",
     "output_type": "stream",
     "text": [
      "Variable                    Type                          Data/Info\n",
      "-------------------------------------------------------------------\n",
      "A                           type                          <class '__main__.A'>\n",
      "ALLOW_THREADS               int                           1\n",
      "AxisError                   type                          <class 'numpy.AxisError'>\n",
      "BUFSIZE                     int                           8192\n",
      "CLIP                        int                           0\n",
      "ComplexWarning              type                          <class 'numpy.ComplexWarning'>\n",
      "DataSource                  type                          <class 'numpy.DataSource'>\n",
      "ERR_CALL                    int                           3\n",
      "ERR_DEFAULT                 int                           521\n",
      "ERR_IGNORE                  int                           0\n",
      "ERR_LOG                     int                           5\n",
      "ERR_PRINT                   int                           4\n",
      "ERR_RAISE                   int                           2\n",
      "ERR_WARN                    int                           1\n",
      "FLOATING_POINT_SUPPORT      int                           1\n",
      "FPE_DIVIDEBYZERO            int                           1\n",
      "FPE_INVALID                 int                           8\n",
      "FPE_OVERFLOW                int                           2\n",
      "FPE_UNDERFLOW               int                           4\n",
      "False_                      bool_                         False\n",
      "Inf                         float                         inf\n",
      "Infinity                    float                         inf\n",
      "MAXDIMS                     int                           32\n",
      "MAY_SHARE_BOUNDS            int                           0\n",
      "MAY_SHARE_EXACT             int                           -1\n",
      "MachAr                      type                          <class 'numpy.MachAr'>\n",
      "ModuleDeprecationWarning    type                          <class 'numpy.ModuleDeprecationWarning'>\n",
      "NAN                         float                         nan\n",
      "NINF                        float                         -inf\n",
      "NZERO                       float                         -0.0\n",
      "NaN                         float                         nan\n",
      "PINF                        float                         inf\n",
      "PZERO                       float                         0.0\n",
      "RAISE                       int                           2\n",
      "RankWarning                 type                          <class 'numpy.RankWarning'>\n",
      "SHIFT_DIVIDEBYZERO          int                           0\n",
      "SHIFT_INVALID               int                           9\n",
      "SHIFT_OVERFLOW              int                           3\n",
      "SHIFT_UNDERFLOW             int                           6\n",
      "ScalarType                  tuple                         n=32\n",
      "TooHardError                type                          <class 'numpy.TooHardError'>\n",
      "True_                       bool_                         True\n",
      "UFUNC_BUFSIZE_DEFAULT       int                           8192\n",
      "UFUNC_PYVALS_NAME           str                           UFUNC_PYVALS\n",
      "VisibleDeprecationWarning   type                          <class 'numpy.VisibleDeprecationWarning'>\n",
      "WRAP                        int                           1\n",
      "a                           function                      <function a at 0x7fbd0b3d8ef0>\n",
      "absolute                    ufunc                         <ufunc 'absolute'>\n",
      "add                         ufunc                         <ufunc 'add'>\n",
      "add_1                       function                      <function add_1 at 0x7fbd0b3d8710>\n",
      "add_docstring               builtin_function_or_method    <built-in function add_docstring>\n",
      "add_newdoc                  function                      <function add_newdoc at 0x7fbd0b5ad3b0>\n",
      "add_newdoc_ufunc            builtin_function_or_method    <built-in function _add_newdoc_ufunc>\n",
      "alen                        function                      <function alen at 0x7fbd0b53a320>\n",
      "all                         function                      <function all at 0x7fbd0b5387a0>\n",
      "allclose                    function                      <function allclose at 0x7fbd0b5517a0>\n",
      "alltrue                     function                      <function alltrue at 0x7fbd0b53fdd0>\n",
      "amax                        function                      <function amax at 0x7fbd0b538e60>\n",
      "amin                        function                      <function amin at 0x7fbd0b53a0e0>\n",
      "angle                       function                      <function angle at 0x7fbd0b694050>\n",
      "any                         function                      <function any at 0x7fbd0b538560>\n",
      "append                      function                      <function append at 0x7fbd0b6a0710>\n",
      "apply_along_axis            function                      <function apply_along_axis at 0x7fbd0b6c20e0>\n",
      "apply_over_axes             function                      <function apply_over_axes at 0x7fbd0b6c2320>\n",
      "arange                      builtin_function_or_method    <built-in function arange>\n",
      "arccos                      ufunc                         <ufunc 'arccos'>\n",
      "arccosh                     ufunc                         <ufunc 'arccosh'>\n",
      "arcsin                      ufunc                         <ufunc 'arcsin'>\n",
      "arcsinh                     ufunc                         <ufunc 'arcsinh'>\n",
      "arctan                      ufunc                         <ufunc 'arctan'>\n",
      "arctan2                     ufunc                         <ufunc 'arctan2'>\n",
      "arctanh                     ufunc                         <ufunc 'arctanh'>\n",
      "argmax                      function                      <function argmax at 0x7fbd0b52e7a0>\n",
      "argmin                      function                      <function argmin at 0x7fbd0b52e9e0>\n",
      "argpartition                function                      <function argpartition at 0x7fbd0b52e0e0>\n",
      "argsort                     function                      <function argsort at 0x7fbd0b52e560>\n",
      "argwhere                    function                      <function argwhere at 0x7fbd0b547a70>\n",
      "around                      function                      <function around at 0x7fbd0b53ae60>\n",
      "array                       builtin_function_or_method    <built-in function array>\n",
      "array2string                function                      <function array2string at 0x7fbd0b562710>\n",
      "array_equal                 function                      <function array_equal at 0x7fbd0b551c20>\n",
      "array_equiv                 function                      <function array_equiv at 0x7fbd0b551e60>\n",
      "array_repr                  function                      <function array_repr at 0x7fbd0b564a70>\n",
      "array_split                 function                      <function array_split at 0x7fbd0b6c2cb0>\n",
      "array_str                   function                      <function array_str at 0x7fbd0b564e60>\n",
      "asanyarray                  function                      <function asanyarray at 0x7fbd0b4e0d40>\n",
      "asarray                     function                      <function asarray at 0x7fbd0b4e0cb0>\n",
      "asarray_chkfinite           function                      <function asarray_chkfinite at 0x7fbd0b68def0>\n",
      "ascontiguousarray           function                      <function ascontiguousarray at 0x7fbd0b4e0dd0>\n",
      "asfarray                    function                      <function asfarray at 0x7fbd0b62cb00>\n",
      "asfortranarray              function                      <function asfortranarray at 0x7fbd0b4e0e60>\n",
      "asmatrix                    function                      <function asmatrix at 0x7fbd0b644560>\n",
      "asscalar                    function                      <function asscalar at 0x7fbd0b630e60>\n",
      "atleast_1d                  function                      <function atleast_1d at 0x7fbd0b53fef0>\n",
      "atleast_2d                  function                      <function atleast_2d at 0x7fbd0b542170>\n",
      "atleast_3d                  function                      <function atleast_3d at 0x7fbd0b5423b0>\n",
      "average                     function                      <function average at 0x7fbd0b68df80>\n",
      "b                           list                          n=4\n",
      "bartlett                    function                      <function bartlett at 0x7fbd0b699710>\n",
      "base_repr                   function                      <function base_repr at 0x7fbd0b5513b0>\n",
      "binary_repr                 function                      <function binary_repr at 0x7fbd0b551320>\n",
      "bincount                    function                      <function bincount at 0x7fbd0b4b6a70>\n",
      "bitwise_and                 ufunc                         <ufunc 'bitwise_and'>\n",
      "bitwise_not                 ufunc                         <ufunc 'invert'>\n",
      "bitwise_or                  ufunc                         <ufunc 'bitwise_or'>\n",
      "bitwise_xor                 ufunc                         <ufunc 'bitwise_xor'>\n",
      "blackman                    function                      <function blackman at 0x7fbd0b6995f0>\n",
      "block                       function                      <function block at 0x7fbd0b5460e0>\n",
      "bmat                        function                      <function bmat at 0x7fbd0b674200>\n",
      "bool8                       type                          <class 'numpy.bool_'>\n",
      "bool_                       type                          <class 'numpy.bool_'>\n",
      "broadcast                   type                          <class 'numpy.broadcast'>\n",
      "broadcast_arrays            function                      <function broadcast_arrays at 0x7fbd0b6a49e0>\n",
      "broadcast_to                function                      <function broadcast_to at 0x7fbd0b6a4710>\n",
      "busday_count                function                      <function busday_count at 0x7fbd0b4b4d40>\n",
      "busday_offset               function                      <function busday_offset at 0x7fbd0b4b4b90>\n",
      "busdaycalendar              type                          <class 'numpy.busdaycalendar'>\n",
      "byte                        type                          <class 'numpy.int8'>\n",
      "byte_bounds                 function                      <function byte_bounds at 0x7fbd0b81b9e0>\n",
      "bytes0                      type                          <class 'numpy.bytes_'>\n",
      "bytes_                      type                          <class 'numpy.bytes_'>\n",
      "c                           function                      <function c at 0x7fbd0b447b90>\n",
      "c_                          CClass                        <numpy.lib.index_tricks.C<...>object at 0x7fbd0b6a51d0>\n",
      "can_cast                    function                      <function can_cast at 0x7fbd0b4b6200>\n",
      "cast                        _typedict                     {<class 'numpy.complex64'<...>mbda> at 0x7fbd0b4cd4d0>}\n",
      "cat                         function                      <function <lambda> at 0x7fbd0b3d8a70>\n",
      "cbrt                        ufunc                         <ufunc 'cbrt'>\n",
      "cdouble                     type                          <class 'numpy.complex128'>\n",
      "ceil                        ufunc                         <ufunc 'ceil'>\n",
      "cfloat                      type                          <class 'numpy.complex128'>\n",
      "char                        module                        <module 'numpy.core.defch<...>py/core/defchararray.py'>\n",
      "character                   type                          <class 'numpy.character'>\n",
      "chararray                   type                          <class 'numpy.chararray'>\n",
      "choose                      function                      <function choose at 0x7fbd0b52d320>\n",
      "clip                        function                      <function clip at 0x7fbd0b5380e0>\n",
      "clongdouble                 type                          <class 'numpy.complex256'>\n",
      "clongfloat                  type                          <class 'numpy.complex256'>\n",
      "column_stack                function                      <function column_stack at 0x7fbd0b6c27a0>\n",
      "common_type                 function                      <function common_type at 0x7fbd0b634170>\n",
      "compare_chararrays          builtin_function_or_method    <built-in function compare_chararrays>\n",
      "complex128                  type                          <class 'numpy.complex128'>\n",
      "complex256                  type                          <class 'numpy.complex256'>\n",
      "complex64                   type                          <class 'numpy.complex64'>\n",
      "complex_                    type                          <class 'numpy.complex128'>\n",
      "complexfloating             type                          <class 'numpy.complexfloating'>\n",
      "compress                    function                      <function compress at 0x7fbd0b532e60>\n",
      "concatenate                 function                      <function concatenate at 0x7fbd0b4b2290>\n",
      "conj                        ufunc                         <ufunc 'conjugate'>\n",
      "conjugate                   ufunc                         <ufunc 'conjugate'>\n",
      "convolve                    function                      <function convolve at 0x7fbd0b54b200>\n",
      "copy                        function                      <function copy at 0x7fbd0b691710>\n",
      "copysign                    ufunc                         <ufunc 'copysign'>\n",
      "copyto                      function                      <function copyto at 0x7fbd0b4b6f80>\n",
      "corrcoef                    function                      <function corrcoef at 0x7fbd0b699680>\n",
      "correlate                   function                      <function correlate at 0x7fbd0b547f80>\n",
      "cos                         ufunc                         <ufunc 'cos'>\n",
      "cosh                        ufunc                         <ufunc 'cosh'>\n",
      "count_nonzero               function                      <function count_nonzero at 0x7fbd0b5477a0>\n",
      "cov                         function                      <function cov at 0x7fbd0b699440>\n",
      "cross                       function                      <function cross at 0x7fbd0b5510e0>\n",
      "csingle                     type                          <class 'numpy.complex64'>\n",
      "ctypeslib                   module                        <module 'numpy.ctypeslib'<...>ages/numpy/ctypeslib.py'>\n",
      "cumprod                     function                      <function cumprod at 0x7fbd0b53a7a0>\n",
      "cumproduct                  function                      <function cumproduct at 0x7fbd0b53fa70>\n",
      "cumsum                      function                      <function cumsum at 0x7fbd0b5389e0>\n",
      "datetime64                  type                          <class 'numpy.datetime64'>\n",
      "datetime_as_string          function                      <function datetime_as_string at 0x7fbd0b4b4ef0>\n",
      "datetime_data               builtin_function_or_method    <built-in function datetime_data>\n",
      "deg2rad                     ufunc                         <ufunc 'deg2rad'>\n",
      "degrees                     ufunc                         <ufunc 'degrees'>\n",
      "delete                      function                      <function delete at 0x7fbd0b6a0290>\n",
      "deprecate                   function                      <function deprecate at 0x7fbd0b81b8c0>\n",
      "deprecate_with_doc          function                      <function <lambda> at 0x7fbd0b81b950>\n",
      "diag                        function                      <function diag at 0x7fbd0b65e9e0>\n",
      "diag_indices                function                      <function diag_indices at 0x7fbd0b6a8680>\n",
      "diag_indices_from           function                      <function diag_indices_from at 0x7fbd0b6a89e0>\n",
      "diagflat                    function                      <function diagflat at 0x7fbd0b65eb90>\n",
      "diagonal                    function                      <function diagonal at 0x7fbd0b532320>\n",
      "diff                        function                      <function diff at 0x7fbd0b691b90>\n",
      "digitize                    function                      <function digitize at 0x7fbd0b6a0950>\n",
      "disp                        function                      <function disp at 0x7fbd0b6948c0>\n",
      "divide                      ufunc                         <ufunc 'true_divide'>\n",
      "divmod                      ufunc                         <ufunc 'divmod'>\n",
      "dog                         function                      <function cat at 0x7fbd0b39a830>\n",
      "dot                         function                      <function dot at 0x7fbd0b4b6710>\n",
      "double                      type                          <class 'numpy.float64'>\n",
      "dsplit                      function                      <function dsplit at 0x7fbd0b8024d0>\n",
      "dstack                      function                      <function dstack at 0x7fbd0b6c29e0>\n",
      "dtype                       type                          <class 'numpy.dtype'>\n",
      "e                           float                         2.718281828459045\n",
      "ediff1d                     function                      <function ediff1d at 0x7fbd0b821170>\n",
      "einsum                      function                      <function einsum at 0x7fbd0b5b9ef0>\n",
      "einsum_path                 function                      <function einsum_path at 0x7fbd0b5b9cb0>\n",
      "emath                       module                        <module 'numpy.lib.scimat<...>es/numpy/lib/scimath.py'>\n",
      "empty                       builtin_function_or_method    <built-in function empty>\n",
      "empty_like                  function                      <function empty_like at 0x7fbd0b4b2170>\n",
      "equal                       ufunc                         <ufunc 'equal'>\n",
      "errstate                    type                          <class 'numpy.errstate'>\n",
      "euler_gamma                 float                         0.5772156649015329\n",
      "exp                         ufunc                         <ufunc 'exp'>\n",
      "exp2                        ufunc                         <ufunc 'exp2'>\n",
      "expand_dims                 function                      <function expand_dims at 0x7fbd0b6c2560>\n",
      "expm1                       ufunc                         <ufunc 'expm1'>\n",
      "extract                     function                      <function extract at 0x7fbd0b694950>\n",
      "eye                         function                      <function eye at 0x7fbd0b65e680>\n",
      "fabs                        ufunc                         <ufunc 'fabs'>\n",
      "factorial                   function                      <function factorial at 0x7fbd0b3d8c20>\n",
      "fastCopyAndTranspose        builtin_function_or_method    <built-in function _fastCopyAndTranspose>\n",
      "fft                         module                        <module 'numpy.fft' from <...>s/numpy/fft/__init__.py'>\n",
      "fibonacci                   function                      <function fibonacci at 0x7fbd0b3d83b0>\n",
      "fill_diagonal               function                      <function fill_diagonal at 0x7fbd0b6a8710>\n",
      "find_common_type            function                      <function find_common_type at 0x7fbd0b4cd7a0>\n",
      "finfo                       type                          <class 'numpy.finfo'>\n",
      "fix                         function                      <function fix at 0x7fbd0b62c4d0>\n",
      "flatiter                    type                          <class 'numpy.flatiter'>\n",
      "flatnonzero                 function                      <function flatnonzero at 0x7fbd0b547cb0>\n",
      "flexible                    type                          <class 'numpy.flexible'>\n",
      "flip                        function                      <function flip at 0x7fbd0b68dcb0>\n",
      "fliplr                      function                      <function fliplr at 0x7fbd0b65e560>\n",
      "flipud                      function                      <function flipud at 0x7fbd0b65e710>\n",
      "float128                    type                          <class 'numpy.float128'>\n",
      "float16                     type                          <class 'numpy.float16'>\n",
      "float32                     type                          <class 'numpy.float32'>\n",
      "float64                     type                          <class 'numpy.float64'>\n",
      "float_                      type                          <class 'numpy.float64'>\n",
      "float_power                 ufunc                         <ufunc 'float_power'>\n",
      "floating                    type                          <class 'numpy.floating'>\n",
      "floor                       ufunc                         <ufunc 'floor'>\n",
      "floor_divide                ufunc                         <ufunc 'floor_divide'>\n",
      "fmax                        ufunc                         <ufunc 'fmax'>\n",
      "fmin                        ufunc                         <ufunc 'fmin'>\n",
      "fmod                        ufunc                         <ufunc 'fmod'>\n",
      "foo                         function                      <function foo at 0x7fbd0b447e60>\n",
      "format_float_positional     function                      <function format_float_po<...>tional at 0x7fbd0b562b00>\n",
      "format_float_scientific     function                      <function format_float_sc<...>ntific at 0x7fbd0b562a70>\n",
      "format_parser               type                          <class 'numpy.format_parser'>\n",
      "frexp                       ufunc                         <ufunc 'frexp'>\n",
      "frombuffer                  builtin_function_or_method    <built-in function frombuffer>\n",
      "fromfile                    builtin_function_or_method    <built-in function fromfile>\n",
      "fromfunction                function                      <function fromfunction at 0x7fbd0b551170>\n",
      "fromiter                    builtin_function_or_method    <built-in function fromiter>\n",
      "frompyfunc                  builtin_function_or_method    <built-in function frompyfunc>\n",
      "fromregex                   function                      <function fromregex at 0x7fbd0b84f200>\n",
      "fromstring                  builtin_function_or_method    <built-in function fromstring>\n",
      "full                        function                      <function full at 0x7fbd0b547200>\n",
      "full_like                   function                      <function full_like at 0x7fbd0b547560>\n",
      "fv                          function                      <function fv at 0x7fbd0b85a710>\n",
      "gcd                         ufunc                         <ufunc 'gcd'>\n",
      "generic                     type                          <class 'numpy.generic'>\n",
      "genfromtxt                  function                      <function genfromtxt at 0x7fbd0b84f320>\n",
      "geomspace                   function                      <function geomspace at 0x7fbd0b5ad320>\n",
      "get_array_wrap              function                      <function get_array_wrap at 0x7fbd0b802440>\n",
      "get_include                 function                      <function get_include at 0x7fbd0b80ba70>\n",
      "get_printoptions            function                      <function get_printoptions at 0x7fbd0b560dd0>\n",
      "getbufsize                  function                      <function getbufsize at 0x7fbd0b546c20>\n",
      "geterr                      function                      <function geterr at 0x7fbd0b546b00>\n",
      "geterrcall                  function                      <function geterrcall at 0x7fbd0b546d40>\n",
      "geterrobj                   builtin_function_or_method    <built-in function geterrobj>\n",
      "gradient                    function                      <function gradient at 0x7fbd0b691950>\n",
      "greater                     ufunc                         <ufunc 'greater'>\n",
      "greater_equal               ufunc                         <ufunc 'greater_equal'>\n",
      "half                        type                          <class 'numpy.float16'>\n",
      "hamming                     function                      <function hamming at 0x7fbd0b699830>\n",
      "hanning                     function                      <function hanning at 0x7fbd0b6997a0>\n",
      "heaviside                   ufunc                         <ufunc 'heaviside'>\n",
      "histogram                   function                      <function histogram at 0x7fbd0b68d7a0>\n",
      "histogram2d                 function                      <function histogram2d at 0x7fbd0b6624d0>\n",
      "histogram_bin_edges         function                      <function histogram_bin_edges at 0x7fbd0b68d560>\n",
      "histogramdd                 function                      <function histogramdd at 0x7fbd0b68d9e0>\n",
      "hsplit                      function                      <function hsplit at 0x7fbd0b802170>\n",
      "hstack                      function                      <function hstack at 0x7fbd0b542830>\n",
      "hypot                       ufunc                         <ufunc 'hypot'>\n",
      "i                           int                           9\n",
      "i0                          function                      <function i0 at 0x7fbd0b699cb0>\n",
      "identity                    function                      <function identity at 0x7fbd0b5514d0>\n",
      "iinfo                       type                          <class 'numpy.iinfo'>\n",
      "imag                        function                      <function imag at 0x7fbd0b62cf80>\n",
      "in1d                        function                      <function in1d at 0x7fbd0b821b90>\n",
      "index_exp                   IndexExpression               <numpy.lib.index_tricks.I<...>object at 0x7fbd0b6a5210>\n",
      "indices                     function                      <function indices at 0x7fbd0b551050>\n",
      "inexact                     type                          <class 'numpy.inexact'>\n",
      "inf                         float                         inf\n",
      "info                        function                      <function info at 0x7fbd0b81bd40>\n",
      "infty                       float                         inf\n",
      "inner                       function                      <function inner at 0x7fbd0b4b2cb0>\n",
      "insert                      function                      <function insert at 0x7fbd0b6a04d0>\n",
      "int0                        type                          <class 'numpy.int64'>\n",
      "int16                       type                          <class 'numpy.int16'>\n",
      "int32                       type                          <class 'numpy.int32'>\n",
      "int64                       type                          <class 'numpy.int64'>\n",
      "int8                        type                          <class 'numpy.int8'>\n",
      "int_                        type                          <class 'numpy.int64'>\n",
      "int_asbuffer                builtin_function_or_method    <built-in function int_asbuffer>\n",
      "intc                        type                          <class 'numpy.int32'>\n",
      "integer                     type                          <class 'numpy.integer'>\n",
      "interp                      function                      <function interp at 0x7fbd0b691dd0>\n",
      "intersect1d                 function                      <function intersect1d at 0x7fbd0b821710>\n",
      "intp                        type                          <class 'numpy.int64'>\n",
      "invert                      ufunc                         <ufunc 'invert'>\n",
      "ipmt                        function                      <function ipmt at 0x7fbd0b85add0>\n",
      "irr                         function                      <function irr at 0x7fbd0b861830>\n",
      "is_busday                   function                      <function is_busday at 0x7fbd0b4b49e0>\n",
      "isclose                     function                      <function isclose at 0x7fbd0b5519e0>\n",
      "iscomplex                   function                      <function iscomplex at 0x7fbd0b630200>\n",
      "iscomplexobj                function                      <function iscomplexobj at 0x7fbd0b630560>\n",
      "isfinite                    ufunc                         <ufunc 'isfinite'>\n",
      "isfortran                   function                      <function isfortran at 0x7fbd0b547710>\n",
      "isin                        function                      <function isin at 0x7fbd0b821dd0>\n",
      "isinf                       ufunc                         <ufunc 'isinf'>\n",
      "isnan                       ufunc                         <ufunc 'isnan'>\n",
      "isnat                       ufunc                         <ufunc 'isnat'>\n",
      "isneginf                    function                      <function isneginf at 0x7fbd0b62c950>\n",
      "isposinf                    function                      <function isposinf at 0x7fbd0b62c710>\n",
      "isreal                      function                      <function isreal at 0x7fbd0b6303b0>\n",
      "isrealobj                   function                      <function isrealobj at 0x7fbd0b630710>\n",
      "isscalar                    function                      <function isscalar at 0x7fbd0b551290>\n",
      "issctype                    function                      <function issctype at 0x7fbd0b4c28c0>\n",
      "issubclass_                 function                      <function issubclass_ at 0x7fbd0b4c2170>\n",
      "issubdtype                  function                      <function issubdtype at 0x7fbd0b4c95f0>\n",
      "issubsctype                 function                      <function issubsctype at 0x7fbd0b4c24d0>\n",
      "iterable                    function                      <function iterable at 0x7fbd0b68dc20>\n",
      "ix_                         function                      <function ix_ at 0x7fbd0b6a4a70>\n",
      "kaiser                      function                      <function kaiser at 0x7fbd0b699c20>\n",
      "kron                        function                      <function kron at 0x7fbd0b802830>\n",
      "lcm                         ufunc                         <ufunc 'lcm'>\n",
      "ldexp                       ufunc                         <ufunc 'ldexp'>\n",
      "left_shift                  ufunc                         <ufunc 'left_shift'>\n",
      "less                        ufunc                         <ufunc 'less'>\n",
      "less_equal                  ufunc                         <ufunc 'less_equal'>\n",
      "lexsort                     function                      <function lexsort at 0x7fbd0b4b6050>\n",
      "linalg                      module                        <module 'numpy.linalg' fr<...>umpy/linalg/__init__.py'>\n",
      "linspace                    function                      <function linspace at 0x7fbd0b5a3e60>\n",
      "little_endian               bool                          True\n",
      "load                        function                      <function load at 0x7fbd0b855710>\n",
      "loads                       function                      <function loads at 0x7fbd0b848dd0>\n",
      "loadtxt                     function                      <function loadtxt at 0x7fbd0b855f80>\n",
      "log                         ufunc                         <ufunc 'log'>\n",
      "log10                       ufunc                         <ufunc 'log10'>\n",
      "log1p                       ufunc                         <ufunc 'log1p'>\n",
      "log2                        ufunc                         <ufunc 'log2'>\n",
      "logaddexp                   ufunc                         <ufunc 'logaddexp'>\n",
      "logaddexp2                  ufunc                         <ufunc 'logaddexp2'>\n",
      "logical_and                 ufunc                         <ufunc 'logical_and'>\n",
      "logical_not                 ufunc                         <ufunc 'logical_not'>\n",
      "logical_or                  ufunc                         <ufunc 'logical_or'>\n",
      "logical_xor                 ufunc                         <ufunc 'logical_xor'>\n",
      "logspace                    function                      <function logspace at 0x7fbd0b5ad0e0>\n",
      "longcomplex                 type                          <class 'numpy.complex256'>\n",
      "longdouble                  type                          <class 'numpy.float128'>\n",
      "longfloat                   type                          <class 'numpy.float128'>\n",
      "longlong                    type                          <class 'numpy.longlong'>\n",
      "lookfor                     function                      <function lookfor at 0x7fbd0b81be60>\n",
      "ma                          module                        <module 'numpy.ma' from '<...>es/numpy/ma/__init__.py'>\n",
      "mafromtxt                   function                      <function mafromtxt at 0x7fbd0b84f3b0>\n",
      "mask_indices                function                      <function mask_indices at 0x7fbd0b662440>\n",
      "mat                         function                      <function asmatrix at 0x7fbd0b644560>\n",
      "math                        module                        <module 'math' from '/Use<...>h.cpython-37m-darwin.so'>\n",
      "matmul                      ufunc                         <ufunc 'matmul'>\n",
      "matrix                      type                          <class 'numpy.matrix'>\n",
      "maximum                     ufunc                         <ufunc 'maximum'>\n",
      "maximum_sctype              function                      <function maximum_sctype at 0x7fbd0b4c2950>\n",
      "may_share_memory            function                      <function may_share_memory at 0x7fbd0b4b4830>\n",
      "mean                        function                      <function mean at 0x7fbd0b53f0e0>\n",
      "median                      function                      <function median at 0x7fbd0b68e4d0>\n",
      "memmap                      type                          <class 'numpy.memmap'>\n",
      "meshgrid                    function                      <function meshgrid at 0x7fbd0b6a0050>\n",
      "mgrid                       MGridClass                    <numpy.lib.index_tricks.M<...>object at 0x7fbd0b63c550>\n",
      "min_scalar_type             function                      <function min_scalar_type at 0x7fbd0b4b63b0>\n",
      "minimum                     ufunc                         <ufunc 'minimum'>\n",
      "mintypecode                 function                      <function mintypecode at 0x7fbd0b626ef0>\n",
      "mirr                        function                      <function mirr at 0x7fbd0b861cb0>\n",
      "mod                         ufunc                         <ufunc 'remainder'>\n",
      "modf                        ufunc                         <ufunc 'modf'>\n",
      "moveaxis                    function                      <function moveaxis at 0x7fbd0b54bdd0>\n",
      "msort                       function                      <function msort at 0x7fbd0b68e200>\n",
      "multiply                    ufunc                         <ufunc 'multiply'>\n",
      "nan                         float                         nan\n",
      "nan_to_num                  function                      <function nan_to_num at 0x7fbd0b6309e0>\n",
      "nanargmax                   function                      <function nanargmax at 0x7fbd0b6b3830>\n",
      "nanargmin                   function                      <function nanargmin at 0x7fbd0b6b35f0>\n",
      "nancumprod                  function                      <function nancumprod at 0x7fbd0b6b6170>\n",
      "nancumsum                   function                      <function nancumsum at 0x7fbd0b6b3ef0>\n",
      "nanmax                      function                      <function nanmax at 0x7fbd0b6b33b0>\n",
      "nanmean                     function                      <function nanmean at 0x7fbd0b6b63b0>\n",
      "nanmedian                   function                      <function nanmedian at 0x7fbd0b6b67a0>\n",
      "nanmin                      function                      <function nanmin at 0x7fbd0b6b3170>\n",
      "nanpercentile               function                      <function nanpercentile at 0x7fbd0b6b69e0>\n",
      "nanprod                     function                      <function nanprod at 0x7fbd0b6b3cb0>\n",
      "nanquantile                 function                      <function nanquantile at 0x7fbd0b6b6c20>\n",
      "nanstd                      function                      <function nanstd at 0x7fbd0b6b9290>\n",
      "nansum                      function                      <function nansum at 0x7fbd0b6b3a70>\n",
      "nanvar                      function                      <function nanvar at 0x7fbd0b6b9050>\n",
      "nbytes                      _typedict                     {<class 'numpy.bool_'>: 1<...> 'numpy.timedelta64'>: 8}\n",
      "ndarray                     type                          <class 'numpy.ndarray'>\n",
      "ndenumerate                 type                          <class 'numpy.ndenumerate'>\n",
      "ndfromtxt                   function                      <function ndfromtxt at 0x7fbd0b84f050>\n",
      "ndim                        function                      <function ndim at 0x7fbd0b53a9e0>\n",
      "ndindex                     type                          <class 'numpy.ndindex'>\n",
      "nditer                      type                          <class 'numpy.nditer'>\n",
      "negative                    ufunc                         <ufunc 'negative'>\n",
      "nested_iters                builtin_function_or_method    <built-in function nested_iters>\n",
      "newaxis                     NoneType                      None\n",
      "nextafter                   ufunc                         <ufunc 'nextafter'>\n",
      "nonzero                     function                      <function nonzero at 0x7fbd0b5329e0>\n",
      "not_equal                   ufunc                         <ufunc 'not_equal'>\n",
      "nper                        function                      <function nper at 0x7fbd0b85ab90>\n",
      "npv                         function                      <function npv at 0x7fbd0b861a70>\n",
      "number                      type                          <class 'numpy.number'>\n",
      "obj2sctype                  function                      <function obj2sctype at 0x7fbd0b4c20e0>\n",
      "object0                     type                          <class 'numpy.object_'>\n",
      "object_                     type                          <class 'numpy.object_'>\n",
      "ogrid                       OGridClass                    <numpy.lib.index_tricks.O<...>object at 0x7fbd0b67c610>\n",
      "one_count                   function                      <function one_count at 0x7fbd0b447320>\n",
      "ones                        function                      <function ones at 0x7fbd0b5468c0>\n",
      "ones_like                   function                      <function ones_like at 0x7fbd0b547290>\n",
      "outer                       function                      <function outer at 0x7fbd0b54b440>\n",
      "packbits                    function                      <function packbits at 0x7fbd0b4b4320>\n",
      "pad                         function                      <function pad at 0x7fbd0b86ab90>\n",
      "partition                   function                      <function partition at 0x7fbd0b52de60>\n",
      "percentile                  function                      <function percentile at 0x7fbd0b68e7a0>\n",
      "pi                          float                         3.141592653589793\n",
      "piecewise                   function                      <function piecewise at 0x7fbd0b691290>\n",
      "place                       function                      <function place at 0x7fbd0b694b90>\n",
      "pmt                         function                      <function pmt at 0x7fbd0b85a950>\n",
      "poly                        function                      <function poly at 0x7fbd0b80bdd0>\n",
      "poly1d                      type                          <class 'numpy.poly1d'>\n",
      "polyadd                     function                      <function polyadd at 0x7fbd0b812b90>\n",
      "polyder                     function                      <function polyder at 0x7fbd0b8124d0>\n",
      "polydiv                     function                      <function polydiv at 0x7fbd0b814170>\n",
      "polyfit                     function                      <function polyfit at 0x7fbd0b812710>\n",
      "polyint                     function                      <function polyint at 0x7fbd0b812290>\n",
      "polymul                     function                      <function polymul at 0x7fbd0b812ef0>\n",
      "polysub                     function                      <function polysub at 0x7fbd0b812d40>\n",
      "polyval                     function                      <function polyval at 0x7fbd0b812950>\n",
      "positive                    ufunc                         <ufunc 'positive'>\n",
      "power                       ufunc                         <ufunc 'power'>\n",
      "ppmt                        function                      <function ppmt at 0x7fbd0b8610e0>\n",
      "printoptions                function                      <function printoptions at 0x7fbd0b560ef0>\n",
      "prod                        function                      <function prod at 0x7fbd0b53a560>\n",
      "product                     function                      <function product at 0x7fbd0b53f8c0>\n",
      "promote_types               builtin_function_or_method    <built-in function promote_types>\n",
      "ptp                         function                      <function ptp at 0x7fbd0b538c20>\n",
      "put                         function                      <function put at 0x7fbd0b52d7a0>\n",
      "put_along_axis              function                      <function put_along_axis at 0x7fbd0b6bde60>\n",
      "putmask                     function                      <function putmask at 0x7fbd0b4b4170>\n",
      "pv                          function                      <function pv at 0x7fbd0b861320>\n",
      "quantile                    function                      <function quantile at 0x7fbd0b68e9e0>\n",
      "r_                          RClass                        <numpy.lib.index_tricks.R<...>object at 0x7fbd0b6a5150>\n",
      "rad2deg                     ufunc                         <ufunc 'rad2deg'>\n",
      "radians                     ufunc                         <ufunc 'radians'>\n",
      "random                      module                        <module 'numpy.random' fr<...>umpy/random/__init__.py'>\n",
      "rate                        function                      <function rate at 0x7fbd0b8615f0>\n",
      "ravel                       function                      <function ravel at 0x7fbd0b5327a0>\n",
      "ravel_multi_index           function                      <function ravel_multi_index at 0x7fbd0b4b6c20>\n",
      "real                        function                      <function real at 0x7fbd0b62cd40>\n",
      "real_if_close               function                      <function real_if_close at 0x7fbd0b630c20>\n",
      "rec                         module                        <module 'numpy.core.recor<...>s/numpy/core/records.py'>\n",
      "recarray                    type                          <class 'numpy.recarray'>\n",
      "recfromcsv                  function                      <function recfromcsv at 0x7fbd0b84f4d0>\n",
      "recfromtxt                  function                      <function recfromtxt at 0x7fbd0b84f440>\n",
      "reciprocal                  ufunc                         <ufunc 'reciprocal'>\n",
      "record                      type                          <class 'numpy.record'>\n",
      "remainder                   ufunc                         <ufunc 'remainder'>\n",
      "repeat                      function                      <function repeat at 0x7fbd0b52d560>\n",
      "require                     function                      <function require at 0x7fbd0b4e0ef0>\n",
      "reshape                     function                      <function reshape at 0x7fbd0b52d0e0>\n",
      "resize                      function                      <function resize at 0x7fbd0b52ee60>\n",
      "result_type                 function                      <function result_type at 0x7fbd0b4b6560>\n",
      "return_addition             function                      <function return_addition at 0x7fbd0b39ab00>\n",
      "return_list                 function                      <function return_list at 0x7fbd0b447c20>\n",
      "return_true                 function                      <function return_true at 0x7fbd0b39a710>\n",
      "right_shift                 ufunc                         <ufunc 'right_shift'>\n",
      "rint                        ufunc                         <ufunc 'rint'>\n",
      "roll                        function                      <function roll at 0x7fbd0b54b8c0>\n",
      "rollaxis                    function                      <function rollaxis at 0x7fbd0b54bb00>\n",
      "roots                       function                      <function roots at 0x7fbd0b812050>\n",
      "rot90                       function                      <function rot90 at 0x7fbd0b68da70>\n",
      "round_                      function                      <function round_ at 0x7fbd0b53f710>\n",
      "row_stack                   function                      <function vstack at 0x7fbd0b542680>\n",
      "s_                          IndexExpression               <numpy.lib.index_tricks.I<...>object at 0x7fbd0b6a5310>\n",
      "safe_eval                   function                      <function safe_eval at 0x7fbd0b81bf80>\n",
      "save                        function                      <function save at 0x7fbd0b8559e0>\n",
      "savetxt                     function                      <function savetxt at 0x7fbd0b84f290>\n",
      "savez                       function                      <function savez at 0x7fbd0b855c20>\n",
      "savez_compressed            function                      <function savez_compressed at 0x7fbd0b855e60>\n",
      "sctype2char                 function                      <function sctype2char at 0x7fbd0b4c97a0>\n",
      "sctypeDict                  dict                          n=158\n",
      "sctypeNA                    TypeNADict                    {'Bool': <class 'numpy.bo<...>>: 'UInt8', 'B': 'UInt8'}\n",
      "sctypes                     dict                          n=5\n",
      "searchsorted                function                      <function searchsorted at 0x7fbd0b52ec20>\n",
      "select                      function                      <function select at 0x7fbd0b6914d0>\n",
      "set_numeric_ops             builtin_function_or_method    <built-in function set_numeric_ops>\n",
      "set_printoptions            function                      <function set_printoptions at 0x7fbd0b560d40>\n",
      "set_string_function         function                      <function set_string_function at 0x7fbd0b564c20>\n",
      "setbufsize                  function                      <function setbufsize at 0x7fbd0b546b90>\n",
      "setdiff1d                   function                      <function setdiff1d at 0x7fbd0b825290>\n",
      "seterr                      function                      <function seterr at 0x7fbd0b546a70>\n",
      "seterrcall                  function                      <function seterrcall at 0x7fbd0b546cb0>\n",
      "seterrobj                   builtin_function_or_method    <built-in function seterrobj>\n",
      "setxor1d                    function                      <function setxor1d at 0x7fbd0b821950>\n",
      "shape                       function                      <function shape at 0x7fbd0b532c20>\n",
      "shares_memory               function                      <function shares_memory at 0x7fbd0b4b4680>\n",
      "short                       type                          <class 'numpy.int16'>\n",
      "show_config                 function                      <function show at 0x7fbd0b478320>\n",
      "sign                        ufunc                         <ufunc 'sign'>\n",
      "signbit                     ufunc                         <ufunc 'signbit'>\n",
      "signedinteger               type                          <class 'numpy.signedinteger'>\n",
      "sin                         ufunc                         <ufunc 'sin'>\n",
      "sinc                        function                      <function sinc at 0x7fbd0b699f80>\n",
      "single                      type                          <class 'numpy.float32'>\n",
      "singlecomplex               type                          <class 'numpy.complex64'>\n",
      "sinh                        ufunc                         <ufunc 'sinh'>\n",
      "size                        function                      <function size at 0x7fbd0b53ac20>\n",
      "sometrue                    function                      <function sometrue at 0x7fbd0b53fc20>\n",
      "sort                        function                      <function sort at 0x7fbd0b52e320>\n",
      "sort_complex                function                      <function sort_complex at 0x7fbd0b6944d0>\n",
      "source                      function                      <function source at 0x7fbd0b81bdd0>\n",
      "spacing                     ufunc                         <ufunc 'spacing'>\n",
      "split                       function                      <function split at 0x7fbd0b6c2ef0>\n",
      "sqrt                        ufunc                         <ufunc 'sqrt'>\n",
      "square                      ufunc                         <ufunc 'square'>\n",
      "squeeze                     function                      <function squeeze at 0x7fbd0b5320e0>\n",
      "stack                       function                      <function stack at 0x7fbd0b542a70>\n",
      "std                         function                      <function std at 0x7fbd0b53f320>\n",
      "str0                        type                          <class 'numpy.str_'>\n",
      "str_                        type                          <class 'numpy.str_'>\n",
      "string_                     type                          <class 'numpy.bytes_'>\n",
      "subtract                    ufunc                         <ufunc 'subtract'>\n",
      "sum                         function                      <function sum at 0x7fbd0b538320>\n",
      "sum_                        function                      <function sum_ at 0x7fbd0b447170>\n",
      "swapaxes                    function                      <function swapaxes at 0x7fbd0b52d9e0>\n",
      "t                           function                      <function t at 0x7fbd0b4474d0>\n",
      "take                        function                      <function take at 0x7fbd0b529e60>\n",
      "take_along_axis             function                      <function take_along_axis at 0x7fbd0b6bdc20>\n",
      "tan                         ufunc                         <ufunc 'tan'>\n",
      "tanh                        ufunc                         <ufunc 'tanh'>\n",
      "tensordot                   function                      <function tensordot at 0x7fbd0b54b680>\n",
      "tile                        function                      <function tile at 0x7fbd0b802a70>\n",
      "timedelta64                 type                          <class 'numpy.timedelta64'>\n",
      "tmp                         list                          n=2\n",
      "trace                       function                      <function trace at 0x7fbd0b532560>\n",
      "tracemalloc_domain          int                           389047\n",
      "transpose                   function                      <function transpose at 0x7fbd0b52dc20>\n",
      "trapz                       function                      <function trapz at 0x7fbd0b68edd0>\n",
      "tri                         function                      <function tri at 0x7fbd0b65eb00>\n",
      "tril                        function                      <function tril at 0x7fbd0b65ee60>\n",
      "tril_indices                function                      <function tril_indices at 0x7fbd0b662560>\n",
      "tril_indices_from           function                      <function tril_indices_from at 0x7fbd0b662830>\n",
      "trim_zeros                  function                      <function trim_zeros at 0x7fbd0b694710>\n",
      "triu                        function                      <function triu at 0x7fbd0b662050>\n",
      "triu_indices                function                      <function triu_indices at 0x7fbd0b6627a0>\n",
      "triu_indices_from           function                      <function triu_indices_from at 0x7fbd0b662a70>\n",
      "true_divide                 ufunc                         <ufunc 'true_divide'>\n",
      "trunc                       ufunc                         <ufunc 'trunc'>\n",
      "typeDict                    dict                          n=158\n",
      "typeNA                      TypeNADict                    {'Bool': <class 'numpy.bo<...>>: 'UInt8', 'B': 'UInt8'}\n",
      "typecodes                   dict                          n=9\n",
      "typename                    function                      <function typename at 0x7fbd0b630dd0>\n",
      "ubyte                       type                          <class 'numpy.uint8'>\n",
      "ufunc                       type                          <class 'numpy.ufunc'>\n",
      "uint                        type                          <class 'numpy.uint64'>\n",
      "uint0                       type                          <class 'numpy.uint64'>\n",
      "uint16                      type                          <class 'numpy.uint16'>\n",
      "uint32                      type                          <class 'numpy.uint32'>\n",
      "uint64                      type                          <class 'numpy.uint64'>\n",
      "uint8                       type                          <class 'numpy.uint8'>\n",
      "uintc                       type                          <class 'numpy.uint32'>\n",
      "uintp                       type                          <class 'numpy.uint64'>\n",
      "ulonglong                   type                          <class 'numpy.ulonglong'>\n",
      "unicode_                    type                          <class 'numpy.str_'>\n",
      "union1d                     function                      <function union1d at 0x7fbd0b825050>\n",
      "unique                      function                      <function unique at 0x7fbd0b821440>\n",
      "unpackbits                  function                      <function unpackbits at 0x7fbd0b4b44d0>\n",
      "unravel_index               function                      <function unravel_index at 0x7fbd0b4b6dd0>\n",
      "unsignedinteger             type                          <class 'numpy.unsignedinteger'>\n",
      "unwrap                      function                      <function unwrap at 0x7fbd0b694290>\n",
      "ushort                      type                          <class 'numpy.uint16'>\n",
      "vander                      function                      <function vander at 0x7fbd0b662290>\n",
      "var                         function                      <function var at 0x7fbd0b53f560>\n",
      "vdot                        function                      <function vdot at 0x7fbd0b4b68c0>\n",
      "vectorize                   type                          <class 'numpy.vectorize'>\n",
      "void                        type                          <class 'numpy.void'>\n",
      "void0                       type                          <class 'numpy.void'>\n",
      "vsplit                      function                      <function vsplit at 0x7fbd0b802320>\n",
      "vstack                      function                      <function vstack at 0x7fbd0b542680>\n",
      "where                       function                      <function where at 0x7fbd0b4b2e60>\n",
      "who                         function                      <function who at 0x7fbd0b81ba70>\n",
      "x                           list                          n=5\n",
      "zeros                       builtin_function_or_method    <built-in function zeros>\n",
      "zeros_like                  function                      <function zeros_like at 0x7fbd0b546dd0>\n"
     ]
    }
   ],
   "source": [
    "%whos"
   ]
  },
  {
   "cell_type": "markdown",
   "metadata": {},
   "source": [
    "### del\n",
    "- namespace 에 저장된 변수를 삭제하는 키워드 (변수와 객체의 연결 끊으므로써 변수가 참조하고 있지 않는 기존에 객체도 다른 변수가 참조하고 있지 않다면 지워짐)\n",
    "    * 파이썬 메모리관리 : 내부의 Garbage Collector가 주기적으로 변수 참고가 끊긴 개게들을 메모리에서 주기적으로 삭제하여 관리\n",
    "- del 키워드 이후 재사용하려는 경우 정의된적 없다는 NameError 발생\n",
    "- 전체를 지우거나 \n",
    "- 유저가 정의한 특정 변수/객체 만 제거\n",
    "    - `del 객체이름 ` \n",
    "- sequence 타입의 컨테이너를 인덱싱/슬라이싱 통해 제거 가능\n",
    "    - `del var[인덱싱/슬라이싱]` \n",
    "- 객체가 많이 생성되면 메모리에 차지하게 되어 속도가 느려지는 현상을 방지하기위해서 사용\n",
    "\n",
    "\n",
    "파이썬 공식 문서 참고 https://docs.python.org/3/reference/simple_stmts.html#the-del-statement"
   ]
  },
  {
   "cell_type": "markdown",
   "metadata": {},
   "source": [
    "특정 변수/객체 참조 namespace 에서 삭제"
   ]
  },
  {
   "cell_type": "code",
   "execution_count": 60,
   "metadata": {},
   "outputs": [],
   "source": [
    "del factorial  #1개 삭제"
   ]
  },
  {
   "cell_type": "code",
   "execution_count": 61,
   "metadata": {},
   "outputs": [
    {
     "ename": "NameError",
     "evalue": "name 'factorial' is not defined",
     "output_type": "error",
     "traceback": [
      "\u001b[0;31m---------------------------------------------------------------------------\u001b[0m",
      "\u001b[0;31mNameError\u001b[0m                                 Traceback (most recent call last)",
      "\u001b[0;32m<ipython-input-61-dbe8791fd208>\u001b[0m in \u001b[0;36m<module>\u001b[0;34m\u001b[0m\n\u001b[0;32m----> 1\u001b[0;31m \u001b[0mfactorial\u001b[0m\u001b[0;34m(\u001b[0m\u001b[0;36m5\u001b[0m\u001b[0;34m)\u001b[0m  \u001b[0;31m#저장된 factorial 삭제됨.\u001b[0m\u001b[0;34m\u001b[0m\u001b[0;34m\u001b[0m\u001b[0m\n\u001b[0m",
      "\u001b[0;31mNameError\u001b[0m: name 'factorial' is not defined"
     ]
    }
   ],
   "source": [
    "factorial(5)  #저장된 factorial 삭제됨."
   ]
  },
  {
   "cell_type": "code",
   "execution_count": 62,
   "metadata": {},
   "outputs": [],
   "source": [
    "del fibonacci, one_count  #2개 삭제"
   ]
  },
  {
   "cell_type": "markdown",
   "metadata": {},
   "source": [
    "예. sequence 타입의 컨테이너를 인덱싱/슬라이싱 통해 제거 가능\n",
    "\n"
   ]
  },
  {
   "cell_type": "code",
   "execution_count": 63,
   "metadata": {},
   "outputs": [
    {
     "data": {
      "text/plain": [
       "[3, 4]"
      ]
     },
     "execution_count": 63,
     "metadata": {},
     "output_type": "execute_result"
    }
   ],
   "source": [
    "a=[1,2,3,4]\n",
    "del a[:2]   #앞에 2개값 삭제\n",
    "a  "
   ]
  },
  {
   "cell_type": "code",
   "execution_count": 64,
   "metadata": {},
   "outputs": [
    {
     "name": "stdout",
     "output_type": "stream",
     "text": [
      "No variables match your requested type.\n"
     ]
    }
   ],
   "source": [
    "%whos  #삭제됨"
   ]
  },
  {
   "cell_type": "markdown",
   "metadata": {},
   "source": [
    "### Callable"
   ]
  },
  {
   "cell_type": "markdown",
   "metadata": {},
   "source": [
    "- 호출(call) 가능한(-able) 함수,클래스,객체\n",
    "    * `함수()`\n",
    "    * `클래스()`\n",
    "        - `__init__` 정의\n",
    "    * `객체()`\n",
    "        - `__call__` 정의"
   ]
  },
  {
   "cell_type": "markdown",
   "metadata": {},
   "source": [
    "함수"
   ]
  },
  {
   "cell_type": "code",
   "execution_count": 65,
   "metadata": {},
   "outputs": [],
   "source": [
    "def x():\n",
    "    return 1"
   ]
  },
  {
   "cell_type": "markdown",
   "metadata": {},
   "source": [
    "python에서는 이름과 ()를 분리해서 생각한다. "
   ]
  },
  {
   "cell_type": "code",
   "execution_count": 66,
   "metadata": {},
   "outputs": [
    {
     "data": {
      "text/plain": [
       "<function __main__.x()>"
      ]
     },
     "execution_count": 66,
     "metadata": {},
     "output_type": "execute_result"
    }
   ],
   "source": [
    "#함수 x\n",
    "x"
   ]
  },
  {
   "cell_type": "code",
   "execution_count": 67,
   "metadata": {},
   "outputs": [
    {
     "data": {
      "text/plain": [
       "1"
      ]
     },
     "execution_count": 67,
     "metadata": {},
     "output_type": "execute_result"
    }
   ],
   "source": [
    "#결과값\n",
    "x()"
   ]
  },
  {
   "cell_type": "markdown",
   "metadata": {},
   "source": [
    "`callable( )`\n",
    "- 함수/클래스/객체가 callable(즉, ()를 붙여 사용할 수 있는지)를 boolean 값(True or False)으로 반환 "
   ]
  },
  {
   "cell_type": "code",
   "execution_count": 68,
   "metadata": {},
   "outputs": [
    {
     "data": {
      "text/plain": [
       "True"
      ]
     },
     "execution_count": 68,
     "metadata": {},
     "output_type": "execute_result"
    }
   ],
   "source": [
    "callable(x) #함수 x는 callable"
   ]
  },
  {
   "cell_type": "markdown",
   "metadata": {},
   "source": [
    "클래스"
   ]
  },
  {
   "cell_type": "code",
   "execution_count": 69,
   "metadata": {},
   "outputs": [
    {
     "data": {
      "text/plain": [
       "True"
      ]
     },
     "execution_count": 69,
     "metadata": {},
     "output_type": "execute_result"
    }
   ],
   "source": [
    "class B():\n",
    "\n",
    "    def __init_(self):\n",
    "        pass\n",
    "    \n",
    "callable (B)"
   ]
  },
  {
   "cell_type": "markdown",
   "metadata": {},
   "source": [
    "객체"
   ]
  },
  {
   "cell_type": "code",
   "execution_count": 70,
   "metadata": {},
   "outputs": [
    {
     "data": {
      "text/plain": [
       "True"
      ]
     },
     "execution_count": 70,
     "metadata": {},
     "output_type": "execute_result"
    }
   ],
   "source": [
    "class A:\n",
    "    def __call__(self):\n",
    "        return 'callable '\n",
    "    \n",
    "callable(A)"
   ]
  },
  {
   "cell_type": "code",
   "execution_count": null,
   "metadata": {},
   "outputs": [],
   "source": []
  }
 ],
 "metadata": {
  "kernelspec": {
   "display_name": "Python 3",
   "language": "python",
   "name": "python3"
  },
  "language_info": {
   "codemirror_mode": {
    "name": "ipython",
    "version": 3
   },
   "file_extension": ".py",
   "mimetype": "text/x-python",
   "name": "python",
   "nbconvert_exporter": "python",
   "pygments_lexer": "ipython3",
   "version": "3.7.6"
  },
  "toc": {
   "base_numbering": 1,
   "nav_menu": {},
   "number_sections": true,
   "sideBar": true,
   "skip_h1_title": true,
   "title_cell": "Table of Contents",
   "title_sidebar": "Contents",
   "toc_cell": true,
   "toc_position": {},
   "toc_section_display": true,
   "toc_window_display": true
  },
  "varInspector": {
   "cols": {
    "lenName": 16,
    "lenType": 16,
    "lenVar": 40
   },
   "kernels_config": {
    "python": {
     "delete_cmd_postfix": "",
     "delete_cmd_prefix": "del ",
     "library": "var_list.py",
     "varRefreshCmd": "print(var_dic_list())"
    },
    "r": {
     "delete_cmd_postfix": ") ",
     "delete_cmd_prefix": "rm(",
     "library": "var_list.r",
     "varRefreshCmd": "cat(var_dic_list()) "
    }
   },
   "types_to_exclude": [
    "module",
    "function",
    "builtin_function_or_method",
    "instance",
    "_Feature"
   ],
   "window_display": false
  }
 },
 "nbformat": 4,
 "nbformat_minor": 2
}
