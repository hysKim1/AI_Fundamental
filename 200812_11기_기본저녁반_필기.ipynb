{
 "cells": [
  {
   "cell_type": "markdown",
   "metadata": {},
   "source": [
    "# [AI 이노베이션 스퀘어] 11기 기본 저녁반\n",
    "- github: https://github.com/hysKim1/AI_Fundamental\n",
    "    - [파이썬 공식문서]https://docs.python.org/ko/3/\n",
    "    - [Numpy 공식문서]https://numpy.org/devdocs/\n",
    "    - [ML]https://developers.google.com/machine-learning/crash-course/ml-intro?hl=ko\n",
    "    - [DL]https://www.tensorflow.org/\n",
    "---\n",
    "* [1. 모델 생성](#모델-생성 ) <br>\n",
    "    *  [ Sequential](#Sequential)\n",
    "    *  [Dense](#Dense)\n",
    "    *  [Flatten](#Flatten)\n",
    "\n",
    "* [1. Sequential 모델 인자 3가지 방법](#인자-3가지 ) <br>\n",
    "     *  [문자열](#문자열)\n",
    "     *  [객체 인스턴스](#객체-인스턴스)\n",
    "     *  [함수](#함수)\n",
    "\n",
    " \n",
    "* [2. 모델 구성 요소](#모델-구성-요소) <br>\n",
    "     *  [input layer 초기값 설정](#초기값-설정)\n",
    "     *  [summary-해석](summary-해석)\n",
    "     * [ input_shape](#input_shape)\n",
    "     * [ Activation Function](#Activation-Function)\n",
    "     * [ output layer ](#output-layer )\n",
    "         * [ Multi-class Classification](#Multi-class-Classification)\n",
    "         * [ Binary Classification](#Binary-Classification)\n",
    "         * [ Regression](#Regression)\n",
    "      * [ 도전: Iris](#도전:-Iris)\n",
    "      * [ 도전: mnist](#도전:-mnist)\n",
    "          * [ 데이터셋 가져오기](#데이터셋-가져오기)<br>\n",
    "          * [ 데이터 탐색](#데이터-탐색)<br>\n",
    "          * [ 데이터 전처리](#데이터-전처리)<br>\n",
    "              * [normalization ](#normalization)<br>\n",
    "\n",
    "* [3. 학습 ](#학습) <br>\n",
    "     *  [학습전략 compile](#학습-전략-compile)\n",
    "         *  [loss](#loss)\n",
    "              *  [분류 문제: cross entorpy](#cross-entorpy)\n",
    "         *  [optimizer](#optimizer)\n",
    "         *  [metrics](#metrics)\n",
    "     *  [학습 fit](#학습-fit)\n",
    "         *  [epoch](#epoch)\n",
    "         *  [batch size](#batch-size)\n",
    "     *  [예측 predict](#예측-predict)\n",
    "\n",
    " ---"
   ]
  },
  {
   "cell_type": "code",
   "execution_count": 2,
   "metadata": {},
   "outputs": [],
   "source": [
    "import tensorflow as tf\n",
    "import numpy as np"
   ]
  },
  {
   "cell_type": "code",
   "execution_count": 3,
   "metadata": {},
   "outputs": [
    {
     "data": {
      "text/plain": [
       "'2.3.0'"
      ]
     },
     "execution_count": 3,
     "metadata": {},
     "output_type": "execute_result"
    }
   ],
   "source": [
    "tf.__version__"
   ]
  },
  {
   "cell_type": "markdown",
   "metadata": {},
   "source": [
    "## 모델 생성\n",
    "Keras에서 모델 만드는 3가지 방법\n",
    "- **Sequential (제일 간단)**\n",
    "- Model : functional Paradigm(기본)/ class 상속\n",
    "\n",
    "\n",
    "## Sequential\n",
    "- keras에서 모델을 만드는 방법은 3가지 중 하나\n",
    "- `Sequential`사용 한 다음 단순하게 레이어를 차례대로 쌓음\n",
    "- 단방향으로만 가능(양방향 불가)\n",
    "\n",
    "- 레이어에 전달하는 키워드 인수는 레이어 종류에 따라 다름\n",
    "\n",
    "\n",
    "### Dense\n",
    "- fully connected: 모든 노드들이 서로 연결 되어 있음\n",
    "- `add` 메소드 통해서 추가 가능\n",
    "\n",
    "\n",
    "MPG 데이터는 다양한 것을 이용해서  자동차 연비 예측하는 회귀(regression) 문제\n",
    "Regression의 output layer에서 실제값 1개 만 나오므로 활성 함수 불필요\n",
    "\n",
    "- 출처 : https://www.tensorflow.org/tutorials/keras/regression"
   ]
  },
  {
   "cell_type": "raw",
   "metadata": {},
   "source": [
    "def build_model():\n",
    "  model = keras.Sequential([\n",
    "    layers.Dense(64, activation='relu', input_shape=[len(train_dataset.keys())]),\n",
    "    layers.Dense(64, activation='relu'),\n",
    "    layers.Dense(1)\n",
    "  ])\n",
    "\n",
    "  optimizer = tf.keras.optimizers.RMSprop(0.001) ## 이것은 무엇일까요??\n",
    "\n",
    "  model.compile(loss='mse',\n",
    "                optimizer=optimizer,\n",
    "                metrics=['mae', 'mse'])\n",
    "  return model"
   ]
  },
  {
   "cell_type": "markdown",
   "metadata": {},
   "source": [
    "### Flatten\n",
    " - `input_shape` 은 1차원을 입력받는데 `Flatten`이용해서 2차원으로 받음\n",
    "- `Flatten`은 입력받은 데이터를 1차원으로 변환(펴줌)\n",
    "\n",
    "- 아래 코드에서 이상한점"
   ]
  },
  {
   "cell_type": "markdown",
   "metadata": {},
   "source": [
    "#### Dropout\n",
    "- 갯수 많으면 overfitting을 방지하기 위해서  0.2 만큼 랜덤하게 전체의 20%의 퍼셉트론을 없앰\n",
    "- 추후 자세히 다룰 예정"
   ]
  },
  {
   "cell_type": "raw",
   "metadata": {},
   "source": [
    "# https://www.tensorflow.org/tutorials/quickstart/beginner \n",
    "\n",
    "model = tf.keras.models.Sequential([\n",
    "  tf.keras.layers.Flatten(input_shape=(28, 28)),  #입력 2차원\n",
    "  tf.keras.layers.Dense(128, activation='relu'),\n",
    "  tf.keras.layers.Dropout(0.2),\n",
    "  tf.keras.layers.Dense(10, activation='softmax')\n",
    "])\n",
    "\n",
    "model.compile(optimizer='adam',\n",
    "              loss='sparse_categorical_crossentropy',\n",
    "              metrics=['accuracy'])"
   ]
  },
  {
   "cell_type": "code",
   "execution_count": 4,
   "metadata": {},
   "outputs": [
    {
     "name": "stdout",
     "output_type": "stream",
     "text": [
      "Model: \"sequential\"\n",
      "_________________________________________________________________\n",
      "Layer (type)                 Output Shape              Param #   \n",
      "=================================================================\n",
      "flatten (Flatten)            (None, 9)                 0         \n",
      "=================================================================\n",
      "Total params: 0\n",
      "Trainable params: 0\n",
      "Non-trainable params: 0\n",
      "_________________________________________________________________\n"
     ]
    }
   ],
   "source": [
    "#Flatten 활용 예시.\n",
    "model2 = tf.keras.models.Sequential([\n",
    "    #몇개 들어온지 모름 \n",
    "    tf.keras.layers.Flatten(input_shape=(3,3))# 데이터 3x3\n",
    "])\n",
    "model2.summary() #결과는 1차원으로 변경"
   ]
  },
  {
   "cell_type": "markdown",
   "metadata": {},
   "source": [
    "왜 파라미터가 40개인지 도전\n",
    "- 3x3 1개의 데이터가 flatten을 통해서 9개로 입력되어 4개의 노드에 각각 9개씩 입력되어 36개\n",
    "- 4개의 편향을 추가\n",
    "    - 총 40개"
   ]
  },
  {
   "cell_type": "markdown",
   "metadata": {},
   "source": [
    "- summary 의 Output Shape : (None, 9)\n",
    "    - 3x3이 크기의 데이터가 몇세트 들어오든 상관 없도록 지정 안함"
   ]
  },
  {
   "cell_type": "code",
   "execution_count": 7,
   "metadata": {},
   "outputs": [
    {
     "name": "stdout",
     "output_type": "stream",
     "text": [
      "Model: \"sequential_2\"\n",
      "_________________________________________________________________\n",
      "Layer (type)                 Output Shape              Param #   \n",
      "=================================================================\n",
      "flatten_2 (Flatten)          (None, 9)                 0         \n",
      "_________________________________________________________________\n",
      "dense (Dense)                (None, 4)                 40        \n",
      "=================================================================\n",
      "Total params: 40\n",
      "Trainable params: 40\n",
      "Non-trainable params: 0\n",
      "_________________________________________________________________\n"
     ]
    }
   ],
   "source": [
    "#Flatten 활용 예시.\n",
    "model2 = tf.keras.models.Sequential([\n",
    "    #몇개 들어온지 모름 \n",
    "    tf.keras.layers.Flatten(input_shape=(3,3)),# 3x3 데이터 한 세트의 영향\n",
    "    tf.keras.layers.Dense(4) #1 차원만 받으면 오케이\n",
    "])\n",
    "model2.summary()"
   ]
  },
  {
   "cell_type": "markdown",
   "metadata": {},
   "source": [
    "아래애서는 학습 시키지 않고 `input_shape` 크기 맞았는지 확인용으로 넣음"
   ]
  },
  {
   "cell_type": "code",
   "execution_count": 7,
   "metadata": {},
   "outputs": [
    {
     "data": {
      "text/plain": [
       "array([[[0, 1, 2],\n",
       "        [3, 4, 5],\n",
       "        [6, 7, 8]]])"
      ]
     },
     "execution_count": 7,
     "metadata": {},
     "output_type": "execute_result"
    }
   ],
   "source": [
    "a= np.arange(9).reshape(1,3,3)  #3x3 데이터 1개\n",
    "a"
   ]
  },
  {
   "cell_type": "code",
   "execution_count": 8,
   "metadata": {
    "scrolled": true
   },
   "outputs": [
    {
     "data": {
      "text/plain": [
       "array([[0., 1., 2., 3., 4., 5., 6., 7., 8.]], dtype=float32)"
      ]
     },
     "execution_count": 8,
     "metadata": {},
     "output_type": "execute_result"
    }
   ],
   "source": [
    "model2.predict(a)"
   ]
  },
  {
   "cell_type": "code",
   "execution_count": 5,
   "metadata": {},
   "outputs": [
    {
     "data": {
      "text/plain": [
       "array([[[ 0,  1,  2],\n",
       "        [ 3,  4,  5],\n",
       "        [ 6,  7,  8]],\n",
       "\n",
       "       [[ 9, 10, 11],\n",
       "        [12, 13, 14],\n",
       "        [15, 16, 17]],\n",
       "\n",
       "       [[18, 19, 20],\n",
       "        [21, 22, 23],\n",
       "        [24, 25, 26]]])"
      ]
     },
     "execution_count": 5,
     "metadata": {},
     "output_type": "execute_result"
    }
   ],
   "source": [
    "a= np.arange(27).reshape(3,3,3)  #2차원 데이터 3개\n",
    "a"
   ]
  },
  {
   "cell_type": "code",
   "execution_count": 6,
   "metadata": {},
   "outputs": [
    {
     "data": {
      "text/plain": [
       "array([[ 0.,  1.,  2.,  3.,  4.,  5.,  6.,  7.,  8.],\n",
       "       [ 9., 10., 11., 12., 13., 14., 15., 16., 17.],\n",
       "       [18., 19., 20., 21., 22., 23., 24., 25., 26.]], dtype=float32)"
      ]
     },
     "execution_count": 6,
     "metadata": {},
     "output_type": "execute_result"
    }
   ],
   "source": [
    "model2.predict(a) "
   ]
  },
  {
   "cell_type": "markdown",
   "metadata": {},
   "source": [
    "## 인자 3가지\n",
    "### 문자열 \n",
    "- 글자 spelling 틀리면 Error \n",
    "- 값 바꾸기 힘들어서 한정적이므로 제일 우아하지 못함\n",
    "\n",
    "`activation='relu'`,`activation='softmax'`"
   ]
  },
  {
   "cell_type": "code",
   "execution_count": 9,
   "metadata": {},
   "outputs": [],
   "source": [
    "model=tf.keras.models.Sequential([\n",
    "    tf.keras.layers.Flatten(input_shape=(28,28)),\n",
    "    tf.keras.layers.Dense(16, activation=tf.keras.activations.relu),  #함수로 교체 사용 가능 \n",
    "    tf.keras.layers.Dense(16, activation='relu'),\n",
    "    tf.keras.layers.Dense(10, activation='softmax')\n",
    "])"
   ]
  },
  {
   "cell_type": "markdown",
   "metadata": {},
   "source": [
    "### 객체 인스턴스\n",
    "- `Sequential`에서 기본값에서 다른 값 변경이 제일 쉬우나 class를 제공하지 않으면 문자열/function 사용 \n",
    "\n",
    "\n",
    "- Class는 인스턴스해서 사용 \n",
    "- 초기값 변경해서 사용 가능 "
   ]
  },
  {
   "cell_type": "code",
   "execution_count": 10,
   "metadata": {},
   "outputs": [
    {
     "data": {
      "text/plain": [
       "<function tensorflow.python.keras.losses.sparse_categorical_crossentropy(y_true, y_pred, from_logits=False, axis=-1)>"
      ]
     },
     "execution_count": 10,
     "metadata": {},
     "output_type": "execute_result"
    }
   ],
   "source": [
    "tf.keras.losses.sparse_categorical_crossentropy  #function"
   ]
  },
  {
   "cell_type": "code",
   "execution_count": 11,
   "metadata": {
    "scrolled": true
   },
   "outputs": [
    {
     "data": {
      "text/plain": [
       "<tensorflow.python.keras.losses.SparseCategoricalCrossentropy at 0x7fe0cdc833d0>"
      ]
     },
     "execution_count": 11,
     "metadata": {},
     "output_type": "execute_result"
    }
   ],
   "source": [
    "#Camel방식 == class\n",
    "tf.keras.losses.SparseCategoricalCrossentropy(from_logits=True) #Class"
   ]
  },
  {
   "cell_type": "code",
   "execution_count": 12,
   "metadata": {},
   "outputs": [],
   "source": [
    "model.compile(loss=tf.keras.losses.SparseCategoricalCrossentropy(from_logits=True),\n",
    "             optimizer='adam',\n",
    "             metrics=['acc'])"
   ]
  },
  {
   "cell_type": "markdown",
   "metadata": {},
   "source": [
    "Q.같은 텐서플로우 라이브러리에서 다른 모듈간의 저수준 고수준 무슨 차이?\n",
    "- 이미 만들어져 있냐 아니냐에 따라서 나뉨\n",
    "    - 고수준 API\n",
    "        - 쉬운 사용: 간단한 코드로 신경망 모델 생성 가능\n",
    "        - 저수준을 기반\n",
    "        - kearas 라이브러리\n",
    "    - 저수준 API\n",
    "        - 유연성: 각종 paramete를 사용자가 사전에 선언/정의하기 때문에 parameter 값 수정 가능\n",
    "        - tf.nn"
   ]
  },
  {
   "cell_type": "markdown",
   "metadata": {},
   "source": [
    "### 함수\n",
    "`activation= 'relu'` 를  `tf.keras.activations.relu`, `tf.nn.relu `함수로 교체 가능\n",
    "- 기본값 지정되어 있음"
   ]
  },
  {
   "cell_type": "markdown",
   "metadata": {},
   "source": [
    "- 이미 만들어진 고수준으로 사용할 때에는  `tf.keras.activations.relu `\n",
    "- 처음부터 하나하나 만들어지는 저수준 사용할 때에는  `tf.nn.relu` "
   ]
  },
  {
   "cell_type": "code",
   "execution_count": 13,
   "metadata": {},
   "outputs": [
    {
     "data": {
      "text/plain": [
       "<function tensorflow.python.keras.activations.relu(x, alpha=0.0, max_value=None, threshold=0)>"
      ]
     },
     "execution_count": 13,
     "metadata": {},
     "output_type": "execute_result"
    }
   ],
   "source": [
    "tf.keras.activations.relu # keras의 function 사용시 어떻게 사용할까"
   ]
  },
  {
   "cell_type": "markdown",
   "metadata": {},
   "source": [
    "  `activation =relu` 사용 시 내부적으로 `tf.nn.relu` 사용"
   ]
  },
  {
   "cell_type": "code",
   "execution_count": 14,
   "metadata": {},
   "outputs": [
    {
     "data": {
      "text/plain": [
       "<function tensorflow.python.ops.gen_nn_ops.relu(features, name=None)>"
      ]
     },
     "execution_count": 14,
     "metadata": {},
     "output_type": "execute_result"
    }
   ],
   "source": [
    "tf.nn.relu                #nn의 패키지의  function- low level(저수준)"
   ]
  },
  {
   "cell_type": "markdown",
   "metadata": {},
   "source": [
    "function 바꾸고 싶은 경우 **decorator**(python 개념으로 `@ `이용) 이용해서 상속해서 바꿈\n",
    "\n",
    "- Sequential 쉽게 사용하는 방법이라서 바꾸는 기능이 부족해서 decorator로 변경 가능하나 굳이...\n",
    "- model 사용하면 변경 쉬움 (중급 수준)"
   ]
  },
  {
   "cell_type": "markdown",
   "metadata": {},
   "source": [
    "고수준 저수준 혼용 사용 가능.\n",
    "- higher order function : function 은 함수의 인자로 들어 갈 수잇음 "
   ]
  },
  {
   "cell_type": "code",
   "execution_count": 15,
   "metadata": {},
   "outputs": [],
   "source": [
    "model=tf.keras.models.Sequential([\n",
    "    tf.keras.layers.Flatten(input_shape=(28,28)),\n",
    "    tf.keras.layers.Dense(16, activation=tf.keras.activations.relu),  #함수로 교체 사용 가능 \n",
    "    tf.keras.layers.Dense(16, activation='relu'),\n",
    "    tf.keras.layers.Dense(10, activation='softmax')\n",
    "])"
   ]
  },
  {
   "cell_type": "markdown",
   "metadata": {},
   "source": [
    "기본적인 과정을 거치었으니 많은 옵션을 배울 예정\n",
    "sequential 다음으로 배울 model은 functional 방식으로 모두 function 사용 "
   ]
  },
  {
   "cell_type": "markdown",
   "metadata": {},
   "source": [
    "## 모델 구성 요소\n",
    "### 초기값 설정\n",
    "  - `kernel_initializer` :가중치 $w$  초기화\n",
    "  - `bias_initialize` : 편향 $b$ 초기화\n",
    "   - `Zeros`: 모든 값이 0 텐서를 생성\n",
    "   - `ones` :모든 값이 1 텐서를 생성\n",
    "   - `RandomNormal`: 정규분포에 따라 텐서를 생성하는 초기값 설정\n",
    "   \n",
    "   input_shape은 입력 데이터의 형태를 2차원에서 1차원으로 바꾸어 차례대로 넣음\n",
    "\n"
   ]
  },
  {
   "cell_type": "code",
   "execution_count": 16,
   "metadata": {},
   "outputs": [],
   "source": [
    "model=tf.keras.models.Sequential()\n",
    "model.add(tf.keras.layers.Dense(4, kernel_initializer='ones',\n",
    "                                bias_initializer ='ones',input_shape=(4,))) # 3개 4\n",
    "model.add(tf.keras.layers.Dense(3,  kernel_initializer='ones',\n",
    "                                bias_initializer ='ones'))"
   ]
  },
  {
   "cell_type": "markdown",
   "metadata": {},
   "source": [
    "#### summary 해석\n",
    "1. 첫번째\n",
    "   - 4개짜리가 4개의 노드에 들어가야하므로 16개 필요\n",
    "   - 각각의  bias가  있으므로 4개, 총 20개\n",
    "2. 두번째\n",
    "   - 4개짜리가 3개의 노드에 들어가야하므로 12개 필요\n",
    "   - 각각의  bias가  있으므로 3개, 총 15개  \n",
    "3. 총 파라미터 수(trainable)\n",
    "     - 20+ 15= 35\n",
    " "
   ]
  },
  {
   "cell_type": "markdown",
   "metadata": {},
   "source": [
    "None : 몇개의 데이터가 들어오는지 지정하지 않음 "
   ]
  },
  {
   "cell_type": "code",
   "execution_count": 17,
   "metadata": {},
   "outputs": [
    {
     "name": "stdout",
     "output_type": "stream",
     "text": [
      "Model: \"sequential_3\"\n",
      "_________________________________________________________________\n",
      "Layer (type)                 Output Shape              Param #   \n",
      "=================================================================\n",
      "dense_6 (Dense)              (None, 4)                 20        \n",
      "_________________________________________________________________\n",
      "dense_7 (Dense)              (None, 3)                 15        \n",
      "=================================================================\n",
      "Total params: 35\n",
      "Trainable params: 35\n",
      "Non-trainable params: 0\n",
      "_________________________________________________________________\n"
     ]
    }
   ],
   "source": [
    "model.summary()"
   ]
  },
  {
   "cell_type": "markdown",
   "metadata": {},
   "source": [
    "### input_shape\n",
    "- 데이터의 크기에 맞추어 입력\n",
    "    - Dense: 1차원으로 변경\n",
    "    - Flatten: 2차원에서 자동으로 1차원 변경"
   ]
  },
  {
   "cell_type": "code",
   "execution_count": 36,
   "metadata": {},
   "outputs": [],
   "source": [
    "model=tf.keras.models.Sequential()\n",
    "model.add(tf.keras.layers.Dense(4, input_shape=(4,),activation='relu'))\n",
    "model.add(tf.keras.layers.Dense(3))\n",
    "model.add(tf.keras.layers.Activation('relu'))"
   ]
  },
  {
   "cell_type": "code",
   "execution_count": 37,
   "metadata": {},
   "outputs": [
    {
     "data": {
      "text/plain": [
       "(3, 4)"
      ]
     },
     "execution_count": 37,
     "metadata": {},
     "output_type": "execute_result"
    }
   ],
   "source": [
    "a= np.array([[1,2,3,4],[1,3,4,5],[1,3,4,5]]) #4x1 데이터 3개\n",
    "a.shape"
   ]
  },
  {
   "cell_type": "code",
   "execution_count": 39,
   "metadata": {
    "scrolled": false
   },
   "outputs": [
    {
     "data": {
      "text/plain": [
       "array([[0.        , 0.689519  , 0.        ],\n",
       "       [0.        , 0.70586187, 0.        ],\n",
       "       [0.        , 0.70586187, 0.        ]], dtype=float32)"
      ]
     },
     "execution_count": 39,
     "metadata": {},
     "output_type": "execute_result"
    }
   ],
   "source": [
    "model.predict(a)"
   ]
  },
  {
   "cell_type": "markdown",
   "metadata": {},
   "source": [
    "### Activation Function\n",
    "- activation function : wx+b값을 집어넣어서 변환하여 다음 레이어로 보냄"
   ]
  },
  {
   "cell_type": "raw",
   "metadata": {},
   "source": [
    "model=tf.keras.models.Sequential()\n",
    "model.add(tf.keras.layers.Dense(4, input_shape=(4,),activation='relu')) #1줄에 씀"
   ]
  },
  {
   "cell_type": "raw",
   "metadata": {},
   "source": [
    "model.add(tf.keras.layers.Dense(3))  #두 줄에 씀\n",
    "model.add(tf.keras.layers.Activation('relu'))"
   ]
  },
  {
   "attachments": {
    "%E1%84%89%E1%85%B3%E1%84%8F%E1%85%B3%E1%84%85%E1%85%B5%E1%86%AB%E1%84%89%E1%85%A3%E1%86%BA%202020-08-18%20%E1%84%8B%E1%85%A9%E1%84%92%E1%85%AE%204.20.28.png": {
     "image/png": "[encoded data removed]"
    }
   },
   "cell_type": "markdown",
   "metadata": {},
   "source": [
    "장단점\n",
    "\n",
    "- step\n",
    "    - 0 for $ x <0 $\n",
    "    - 1 for $ x \\geq 0$\n",
    "- sigmoid\n",
    "    - $f(x) = \\sigma(x) = \\frac{1}{1+ exp(-x)} $\n",
    "- hyperbolic tangent\n",
    "    - $ f(x)= tanh(x)= \\frac{\\sinh(x)}{\\cosh(x) }= \\frac{\\exp(x)-\\exp(-x)}{\\exp(x)+\\exp(-x) } =\\frac{\\exp(2x)-1}{\\exp(2x)+1 } $\n",
    "    \n",
    " 위의 함수들은 레이어가 많아지면서  gradient vanishing 문제 때문에 학습이 잘 안됨.\n",
    " - 이론 공부를 위해서 배우는것\n",
    "\n",
    "- Relu :\n",
    "    - $f(x)= max(0,x)$ ,0 보다 작으면 0, 크면 y=x\n",
    "    - 선형 이면 안되지만 일부만 선형이라서 가능 \n",
    "    - **gradient vanishing 문제를 겪지 않아 기본으로 사용**\n",
    " ![%E1%84%89%E1%85%B3%E1%84%8F%E1%85%B3%E1%84%85%E1%85%B5%E1%86%AB%E1%84%89%E1%85%A3%E1%86%BA%202020-08-18%20%E1%84%8B%E1%85%A9%E1%84%92%E1%85%AE%204.20.28.png](attachment:%E1%84%89%E1%85%B3%E1%84%8F%E1%85%B3%E1%84%85%E1%85%B5%E1%86%AB%E1%84%89%E1%85%A3%E1%86%BA%202020-08-18%20%E1%84%8B%E1%85%A9%E1%84%92%E1%85%AE%204.20.28.png)\n",
    " \n",
    "참고 :[2020.08.10수업](https://github.com/hysKim1/AI_Fundamental/blob/master/200810_11기_기본저녁반_필기.ipynb)"
   ]
  },
  {
   "cell_type": "code",
   "execution_count": 99,
   "metadata": {},
   "outputs": [],
   "source": [
    "model=tf.keras.models.Sequential()\n",
    "model.add(tf.keras.layers.Dense(4, input_shape=(4,),activation='relu')) #1줄에 씀\n",
    "model.add(tf.keras.layers.Dense(3))  #2 줄에 씀\n",
    "model.add(tf.keras.layers.Activation('relu'))"
   ]
  },
  {
   "cell_type": "markdown",
   "metadata": {},
   "source": [
    "## Output Layer\n",
    "### Multi-class Classification\n",
    "- 최종 결과가 target 갯수 만큼 나와야 하므로 크기를 맞추는게 중요\n",
    "- 마지막 레이어의 activation function 은 `softmax`\n",
    "   - 각 3개의 결과 값을 확률처럼 변환\n",
    "    예. [0.1, 0.1 , 0.3 ] -> [ 0.2, 0.2,0.6]  합이 1 "
   ]
  },
  {
   "cell_type": "code",
   "execution_count": 40,
   "metadata": {},
   "outputs": [],
   "source": [
    "model=tf.keras.models.Sequential()\n",
    "model.add(tf.keras.layers.Dense(4, input_shape=(4,),activation='relu'))\n",
    "model.add(tf.keras.layers.Dense(3))\n",
    "model.add(tf.keras.layers.Activation('relu'))\n",
    "#output layer 추가\n",
    "model.add(tf.keras.layers.Dense(3, activation='softmax'))  #3개의 target: 0,1,2                               use_bias=False)) "
   ]
  },
  {
   "cell_type": "markdown",
   "metadata": {},
   "source": [
    "### Binary Classification\n",
    " - 이진 분류하여 0,1 만 나옴 "
   ]
  },
  {
   "cell_type": "code",
   "execution_count": 41,
   "metadata": {},
   "outputs": [],
   "source": [
    "model=tf.keras.models.Sequential()\n",
    "model.add(tf.keras.layers.Dense(4, input_shape=(4,),activation='relu'))\n",
    "model.add(tf.keras.layers.Dense(3))\n",
    "model.add(tf.keras.layers.Activation('relu'))\n",
    "#output layer 추가\n",
    "model.add(tf.keras.layers.Dense(1, activation='sigmoid'))"
   ]
  },
  {
   "cell_type": "markdown",
   "metadata": {},
   "source": [
    "위에서 하나의 perceptron 사용하는것이 아래의 2개보다 간단하므로 위에를 더 많이 씀\n",
    "> 오캄의 면도날 : 같으면 간단한게 좋다"
   ]
  },
  {
   "cell_type": "code",
   "execution_count": 44,
   "metadata": {},
   "outputs": [],
   "source": [
    "model=tf.keras.models.Sequential()\n",
    "model.add(tf.keras.layers.Dense(4, input_shape=(4,),activation='relu'))\n",
    "model.add(tf.keras.layers.Dense(3, activation='relu'))\n",
    "#output layer 추가\n",
    "model.add(tf.keras.layers.Dense(2, activation='softmax'))  # target 실수값"
   ]
  },
  {
   "cell_type": "markdown",
   "metadata": {},
   "source": [
    "### Regression\n",
    " output layer에 실수값 1로 나오도록 해야하기 때문 "
   ]
  },
  {
   "cell_type": "code",
   "execution_count": 22,
   "metadata": {},
   "outputs": [],
   "source": [
    "model=tf.keras.models.Sequential()  #모델 초기화 \n",
    "model.add(tf.keras.layers.Dense(4, input_shape=( 28*28,), activation='relu')) \n",
    "model.add(tf.keras.layers.Dense(3))\n",
    "model.add(tf.keras.layers.Activation('relu'))\n",
    "#output layer 추가\n",
    "model.add(tf.keras.layers.Dense(1))  #3개의 target: 0,1,2 "
   ]
  },
  {
   "cell_type": "markdown",
   "metadata": {},
   "source": [
    "---\n",
    "## 도전: Iris"
   ]
  },
  {
   "cell_type": "code",
   "execution_count": 45,
   "metadata": {},
   "outputs": [],
   "source": [
    "import seaborn as sns"
   ]
  },
  {
   "cell_type": "code",
   "execution_count": 46,
   "metadata": {},
   "outputs": [],
   "source": [
    "iris= sns.load_dataset('iris')"
   ]
  },
  {
   "cell_type": "code",
   "execution_count": 47,
   "metadata": {},
   "outputs": [],
   "source": [
    "iris.species=iris.species.map({'setosa':0, 'versicolor':1, 'virginica':2})"
   ]
  },
  {
   "cell_type": "markdown",
   "metadata": {},
   "source": [
    "실제 iris 데이터로 input_shape 맞추어 보기"
   ]
  },
  {
   "cell_type": "code",
   "execution_count": 48,
   "metadata": {},
   "outputs": [],
   "source": [
    "model=tf.keras.models.Sequential()\n",
    "model.add(tf.keras.layers.Dense(4, input_shape=(4,),activation='relu'))\n",
    "model.add(tf.keras.layers.Dense(3))\n",
    "model.add(tf.keras.layers.Activation('relu'))\n",
    "model.add(tf.keras.layers.Dense(3, activation='softmax'))\n",
    "\n",
    "model.compile(loss='sparse_categorical_crossentropy',\n",
    "             optimizer='adam',\n",
    "             metrics=['acc'])"
   ]
  },
  {
   "cell_type": "code",
   "execution_count": 49,
   "metadata": {
    "scrolled": true
   },
   "outputs": [
    {
     "name": "stdout",
     "output_type": "stream",
     "text": [
      "Epoch 1/5\n",
      "5/5 [==============================] - 0s 2ms/step - loss: 1.7024 - acc: 0.3333\n",
      "Epoch 2/5\n",
      "5/5 [==============================] - 0s 3ms/step - loss: 1.6654 - acc: 0.3333\n",
      "Epoch 3/5\n",
      "5/5 [==============================] - 0s 4ms/step - loss: 1.6297 - acc: 0.3333\n",
      "Epoch 4/5\n",
      "5/5 [==============================] - 0s 3ms/step - loss: 1.5920 - acc: 0.3333\n",
      "Epoch 5/5\n",
      "5/5 [==============================] - 0s 7ms/step - loss: 1.5556 - acc: 0.3333\n"
     ]
    },
    {
     "data": {
      "text/plain": [
       "<tensorflow.python.keras.callbacks.History at 0x7fe0cfb064d0>"
      ]
     },
     "execution_count": 49,
     "metadata": {},
     "output_type": "execute_result"
    }
   ],
   "source": [
    "model.fit(iris.iloc[:,:-1],iris.species, epochs=5)"
   ]
  },
  {
   "cell_type": "markdown",
   "metadata": {},
   "source": [
    "feed forward\n",
    "- `predict`\n",
    "\n",
    "두개의 데이터를 입력하였더니 하단과 같이 두 데이터 모두  1번째 class(versicolor) "
   ]
  },
  {
   "cell_type": "code",
   "execution_count": 51,
   "metadata": {
    "scrolled": true
   },
   "outputs": [
    {
     "data": {
      "text/plain": [
       "array([[0.11426768, 0.4439281 , 0.4418042 ],\n",
       "       [0.28138536, 0.35965306, 0.35896164]], dtype=float32)"
      ]
     },
     "execution_count": 51,
     "metadata": {},
     "output_type": "execute_result"
    }
   ],
   "source": [
    "model.predict([[3,3,3,3],[1,2,1,2]]) #둘다 1번째가 제일 큼"
   ]
  },
  {
   "cell_type": "code",
   "execution_count": 53,
   "metadata": {},
   "outputs": [
    {
     "data": {
      "text/plain": [
       "array([1, 1])"
      ]
     },
     "execution_count": 53,
     "metadata": {},
     "output_type": "execute_result"
    }
   ],
   "source": [
    "model.predict_classes([[3,3,3,3],[1,2,1,2]])"
   ]
  },
  {
   "cell_type": "markdown",
   "metadata": {},
   "source": [
    "---\n",
    "## 도전: mnist"
   ]
  },
  {
   "cell_type": "markdown",
   "metadata": {},
   "source": [
    "> 딥러닝 과정 복습\n",
    "    1. 데이터불러오기\n",
    "    2. holdout\n",
    "        - unapcking\n",
    "    3, 모델 구축\n",
    "    4. 모델 학습전략 \n",
    "        - compile\n",
    "    5. 모델 학습 \n",
    "        - fit\n",
    "    6. 모델 검정 evaluatie"
   ]
  },
  {
   "cell_type": "markdown",
   "metadata": {},
   "source": [
    "## 데이터셋 가져오기\n",
    "### holdout\n",
    "- 정확한 성능 측정을 위해서 train,test 로 나누어 확인"
   ]
  },
  {
   "cell_type": "code",
   "execution_count": 54,
   "metadata": {},
   "outputs": [],
   "source": [
    "(X_train,y_train),(X_test,y_test)=tf.keras.datasets.mnist.load_data()"
   ]
  },
  {
   "cell_type": "markdown",
   "metadata": {},
   "source": [
    " ## 데이터 탐색\n",
    " - 훈련 전 데이터셋 구조 확인\n",
    " \n",
    " 6만개 train,1만개 tests 데이터가 28 by 28 크기임"
   ]
  },
  {
   "cell_type": "code",
   "execution_count": 55,
   "metadata": {},
   "outputs": [
    {
     "data": {
      "text/plain": [
       "((60000, 28, 28), (10000, 28, 28))"
      ]
     },
     "execution_count": 55,
     "metadata": {},
     "output_type": "execute_result"
    }
   ],
   "source": [
    "X_train.shape,X_test.shape #2차원 데이터 총 70,000개"
   ]
  },
  {
   "cell_type": "markdown",
   "metadata": {},
   "source": [
    "- 데이터 1차원 변환"
   ]
  },
  {
   "cell_type": "code",
   "execution_count": 56,
   "metadata": {},
   "outputs": [],
   "source": [
    " # 이미지를 1차원으로 변경해야함 28*28\n",
    "X_train_= X_train.reshape(60000,28*28)\n",
    "X_test_= X_test.reshape(10000,28*28)"
   ]
  },
  {
   "cell_type": "markdown",
   "metadata": {},
   "source": [
    "- 각 클래스별로 몇개의 데이터가 있는지 \n",
    "    - 0~9 까지 10개의 target"
   ]
  },
  {
   "cell_type": "code",
   "execution_count": 57,
   "metadata": {
    "scrolled": true
   },
   "outputs": [
    {
     "data": {
      "text/plain": [
       "(array([0, 1, 2, 3, 4, 5, 6, 7, 8, 9], dtype=uint8),\n",
       " array([5923, 6742, 5958, 6131, 5842, 5421, 5918, 6265, 5851, 5949]))"
      ]
     },
     "execution_count": 57,
     "metadata": {},
     "output_type": "execute_result"
    }
   ],
   "source": [
    "np.unique(y_train, return_counts=True) # 5000개 이상의 수 포함"
   ]
  },
  {
   "cell_type": "markdown",
   "metadata": {},
   "source": [
    "https://www.tensorflow.org/tutorials/keras/classification 정독\n",
    "\n",
    "## 데이터 전처리\n",
    "### normalization \n",
    "- minmax scaler(정규화) 하여 값을 0~1 로 바꿈 \n",
    "- Neural Network는  0~1사이값으로 했어서 경험적으로 정규화 하였을 때 더 빠르고 학습이 잘 됨.\n",
    "\n",
    "- 이미지 데이터 정규화: $\\frac{x-Min}{Max-Min}=\\frac{x-0}{255-0}=\\frac{x}{255}$\n",
    "    - 이미지 데이터틑 0~255사이 값을 갖음"
   ]
  },
  {
   "cell_type": "raw",
   "metadata": {},
   "source": [
    "X_train = X_train / 255.0\n",
    "\n",
    "X_test = X_test / 255.0"
   ]
  },
  {
   "cell_type": "markdown",
   "metadata": {},
   "source": [
    "## 모델 구성\n",
    "- softmax\n",
    "    - 결과값을 확률처럼 만들어줌"
   ]
  },
  {
   "cell_type": "code",
   "execution_count": 58,
   "metadata": {},
   "outputs": [],
   "source": [
    "model=tf.keras.models.Sequential()  #모델 초기화 \n",
    "model.add(tf.keras.layers.Dense(4, input_shape=( 28*28,), activation='relu')) \n",
    "model.add(tf.keras.layers.Dense(3))\n",
    "model.add(tf.keras.layers.Activation('relu'))\n",
    "#output layer 추가\n",
    "model.add(tf.keras.layers.Dense(10, activation='softmax'))  #10개의 target: 0,1,2                               use_bias=False)) "
   ]
  },
  {
   "cell_type": "markdown",
   "metadata": {},
   "source": [
    "- `model=tf.keras.models.Sequential()` 이용하지 않으면 기존 모델에 계속 추가되므로 초기화 해서 사용\n",
    "- 아래와 `Sequentials`의 인자로 넣기도 가능  "
   ]
  },
  {
   "cell_type": "code",
   "execution_count": 59,
   "metadata": {},
   "outputs": [],
   "source": [
    "model= tf.keras.models.Sequential([\n",
    "    tf.keras.layers.Dense(4, input_shape=(28*28,),activation='relu'),\n",
    "    tf.keras.layers.Dense(3, activation='relu'),\n",
    "    tf.keras.layers.Dense(10, activation= 'softmax')\n",
    "])\n",
    "    \n",
    " #   50:00 tensorflow page 초보자를 위한 빠른 시작 -거슬리는거"
   ]
  },
  {
   "cell_type": "markdown",
   "metadata": {},
   "source": [
    "---\n",
    "### 도전: fashion_mnist \n",
    "- 이미지 분류 모델 만들기"
   ]
  },
  {
   "cell_type": "code",
   "execution_count": 60,
   "metadata": {},
   "outputs": [],
   "source": [
    "#기본 이미지 분류\n",
    "(X_train, y_train),(X_test,y_test)=tf.keras.datasets.fashion_mnist.load_data()"
   ]
  },
  {
   "cell_type": "markdown",
   "metadata": {},
   "source": [
    "#### unique\n",
    "- 유일한 값들만 보여줌\n",
    "\n",
    " 0~9 까지 10개의 target 이 있음. "
   ]
  },
  {
   "cell_type": "code",
   "execution_count": 61,
   "metadata": {},
   "outputs": [
    {
     "data": {
      "text/plain": [
       "array([0, 1, 2, 3, 4, 5, 6, 7, 8, 9], dtype=uint8)"
      ]
     },
     "execution_count": 61,
     "metadata": {},
     "output_type": "execute_result"
    }
   ],
   "source": [
    "np.unique(y_train)"
   ]
  },
  {
   "cell_type": "code",
   "execution_count": 62,
   "metadata": {},
   "outputs": [
    {
     "data": {
      "text/plain": [
       "array([9, 0, 0, ..., 3, 0, 5], dtype=uint8)"
      ]
     },
     "execution_count": 62,
     "metadata": {},
     "output_type": "execute_result"
    }
   ],
   "source": [
    "y_train"
   ]
  },
  {
   "cell_type": "code",
   "execution_count": 63,
   "metadata": {},
   "outputs": [],
   "source": [
    "model=tf.keras.models.Sequential([\n",
    "    tf.keras.layers.Flatten(input_shape=(28,28)),\n",
    "    tf.keras.layers.Dense(16, activation='relu'),\n",
    "    tf.keras.layers.Dense(16, activation='relu'),\n",
    "    tf.keras.layers.Dense(10, activation='softmax') #10개로 분류\n",
    "])"
   ]
  },
  {
   "cell_type": "code",
   "execution_count": 64,
   "metadata": {},
   "outputs": [
    {
     "name": "stdout",
     "output_type": "stream",
     "text": [
      "Model: \"sequential_18\"\n",
      "_________________________________________________________________\n",
      "Layer (type)                 Output Shape              Param #   \n",
      "=================================================================\n",
      "flatten_3 (Flatten)          (None, 784)               0         \n",
      "_________________________________________________________________\n",
      "dense_44 (Dense)             (None, 16)                12560     \n",
      "_________________________________________________________________\n",
      "dense_45 (Dense)             (None, 16)                272       \n",
      "_________________________________________________________________\n",
      "dense_46 (Dense)             (None, 10)                170       \n",
      "=================================================================\n",
      "Total params: 13,002\n",
      "Trainable params: 13,002\n",
      "Non-trainable params: 0\n",
      "_________________________________________________________________\n"
     ]
    }
   ],
   "source": [
    "model.summary()"
   ]
  },
  {
   "cell_type": "markdown",
   "metadata": {},
   "source": [
    "### 학습\n",
    "- 예측값과 실제값을 최소화 시키는 weight, bias 를 찾음.\n",
    "- 숫자값인 경우 그 차이를 최소화\n",
    "    - mse\n",
    "- 숫자값이 아닌우 entropy 개념을 도입함\n",
    "    - loss function : crossentorpy\n",
    "    \n",
    "학습 하기 전에 compile해야함"
   ]
  },
  {
   "cell_type": "markdown",
   "metadata": {},
   "source": [
    "> ### No Free Lunch \n",
    "   - 안타깝지만 어떤 모델의 (층의 개수나 뉴런 개수에 해당하는) 적절한 크기나 구조를 결정하는 **마법같은 공식은 없습니다.** 여러 가지 다른 구조를 사용해 실험을 해봐야만 합니다.\n",
    "    \n",
    "- `GridSerachCV`를 통해서 최적의 모델은 모든 조합을 다 시도하고 feed forward한 값과 실제 값 가장 차이 적은 파라미터들을 학습 시킴\n",
    " 학습 전략 : 가장 차이가 적은 파라미터 $w,b$ "
   ]
  },
  {
   "cell_type": "markdown",
   "metadata": {},
   "source": [
    "## 학습 전략 compile\n",
    "- `compile`\n",
    "### loss\n",
    "- `loss` : 예측값과 실제값간의 차를 나타내는 손실 함수\n",
    "    - regression(회귀): MSE(Mean Squared Error)\n",
    "    - classification(분류): cross entropy\n",
    "\n",
    "#### cross entorpy\n",
    "- entropy: 정보이론에서 불확실성에 대한 척도\n",
    "    - 높은 entropy는 정보량이 많고 확률이 낮음\n",
    "    - 예. 동전던지기의 entropy < 주사위 던지기의 entropy\n",
    "   \n",
    "- **classification(분류 문제)** :  a 인데 b로 예측은 구할 수 없으므로 실제값과 예측값간의 확률의 차이를 대표하는 function으로 cross entropy(교차 엔트로피) 도입\n",
    "     - 맞는경우 0 수렴\n",
    "     - 틀린 경우 값 커짐\n",
    "          - 1) binary_crossentropy : 이진 분류\n",
    "          - 2) categorical_crossentropy: y 값이 one-hot encoding인 경우의 다중 분류 \n",
    "          - 3) sparse_categorical_crossentropy: y 값이 label encoding인 경우의 다중 분류 \n",
    "     - 추후 구체적으로 다룰 예정\n",
    "\n",
    "### optimizer\n",
    "- $w,b$를 최적화하기위해 gradient descent 에서 사용하는 최적화 알고리즘 \n",
    "    - adam (adaptive moment estimation)- 기본으로 사용 \n",
    "       이함수를 최소화 하는 gradient descent 방식으로 최소화.\n",
    "        - 파라미터마다 다른 크기의 업데이트를 적용\n",
    "        - 방향, 스텝 사이즈 적당히   \n",
    "        \n",
    "### metrics\n",
    "- 성능평가지표들\n",
    "    - accuracy, precision,recall..\n",
    "    \n",
    "    [2020.08.03](https://github.com/hysKim1/AI_Fundamental/blob/master/200803_11기_기본저녁반_필기.ipynb) 참고"
   ]
  },
  {
   "cell_type": "code",
   "execution_count": 65,
   "metadata": {},
   "outputs": [],
   "source": [
    "model.compile(loss='sparse_categorical_crossentropy',  #분류문제\n",
    "             optimizer='adam',\n",
    "             metrics=['acc'])"
   ]
  },
  {
   "cell_type": "markdown",
   "metadata": {},
   "source": [
    "## 학습 fit\n",
    "- `fit`"
   ]
  },
  {
   "cell_type": "markdown",
   "metadata": {},
   "source": [
    "### epoch\n",
    "epoch: 전체 데이터를 학습한 횟수\n",
    " - 1 epoch :전체 데이터를 한번 학습\n",
    "- epoch 가 많을수록 학습한 것을 더 학습하면 점점 더 정확한 $w,b$찾음\n",
    "    - 점점 `loss`가 작아짐\n",
    "    - 점점 `accuracy` 증가\n",
    "    - overfitting 의 가능성 증가 (train > test)\n",
    "\n",
    "`epochs=5`: 전체 데이터 학습 5번"
   ]
  },
  {
   "cell_type": "code",
   "execution_count": 83,
   "metadata": {},
   "outputs": [
    {
     "name": "stdout",
     "output_type": "stream",
     "text": [
      "Epoch 1/5\n",
      "1875/1875 [==============================] - 3s 1ms/step - loss: 1.9093 - acc: 0.4786\n",
      "Epoch 2/5\n",
      "1875/1875 [==============================] - 3s 1ms/step - loss: 1.0804 - acc: 0.5770A: \n",
      "Epoch 3/5\n",
      "1875/1875 [==============================] - 2s 1ms/step - loss: 0.9175 - acc: 0.6305\n",
      "Epoch 4/5\n",
      "1875/1875 [==============================] - 3s 1ms/step - loss: 0.7731 - acc: 0.6959\n",
      "Epoch 5/5\n",
      "1875/1875 [==============================] - 3s 2ms/step - loss: 0.6828 - acc: 0.7285\n"
     ]
    },
    {
     "data": {
      "text/plain": [
       "<tensorflow.python.keras.callbacks.History at 0x7f8c3b312510>"
      ]
     },
     "execution_count": 83,
     "metadata": {},
     "output_type": "execute_result"
    }
   ],
   "source": [
    "model.fit(X_train,y_train, epochs=5)"
   ]
  },
  {
   "cell_type": "markdown",
   "metadata": {},
   "source": [
    "### batch size\n",
    "- 몇 개의 데이터를 입력 받고 최소화하는 $w,b$를 찾을 것인지\n",
    "    > Q. 수학 문제를 풀 때 ...\n",
    "        - 한 단원 다 풀고 답 확인?\n",
    "        - 몇문제 보고 답 확인\n",
    "        - 1 문제 보고 답 확인\n",
    "- 문제를 다풀고 보면 비슷한 문제가 나왔을때 틀리므로 몇문제씩 보고 풀면 시간 많이 걸리나 그 다음에서 정답확률이 높음\n",
    "    - 경우에 따라서  학습 속도, loss,accuracy 다름\n",
    "     -  batch_size가 클수록 더 빠르나 메모리 크기가 더 커야함.\n",
    "- 상황에 따라서 적정 사이즈 구하는게 중요\n",
    "    - 마법이 없음."
   ]
  },
  {
   "cell_type": "code",
   "execution_count": 84,
   "metadata": {},
   "outputs": [
    {
     "name": "stdout",
     "output_type": "stream",
     "text": [
      "Epoch 1/5\n",
      "5000/5000 [==============================] - 10s 2ms/step - loss: 0.7135 - acc: 0.7224\n",
      "Epoch 2/5\n",
      "5000/5000 [==============================] - 12s 2ms/step - loss: 0.6552 - acc: 0.7388\n",
      "Epoch 3/5\n",
      "5000/5000 [==============================] - 12s 2ms/step - loss: 0.6282 - acc: 0.7487\n",
      "Epoch 4/5\n",
      "5000/5000 [==============================] - 10s 2ms/step - loss: 0.6154 - acc: 0.7513\n",
      "Epoch 5/5\n",
      "5000/5000 [==============================] - 11s 2ms/step - loss: 0.6008 - acc: 0.7554\n"
     ]
    },
    {
     "data": {
      "text/plain": [
       "<tensorflow.python.keras.callbacks.History at 0x7f8c2086c0d0>"
      ]
     },
     "execution_count": 84,
     "metadata": {},
     "output_type": "execute_result"
    }
   ],
   "source": [
    "model.fit(X_train,y_train, epochs=5,batch_size=12) #학습시간 오래걸림. 10s"
   ]
  },
  {
   "cell_type": "code",
   "execution_count": 85,
   "metadata": {},
   "outputs": [
    {
     "name": "stdout",
     "output_type": "stream",
     "text": [
      "Epoch 1/5\n",
      "469/469 [==============================] - 1s 2ms/step - loss: 0.5413 - acc: 0.7722\n",
      "Epoch 2/5\n",
      "469/469 [==============================] - 1s 2ms/step - loss: 0.5319 - acc: 0.7753\n",
      "Epoch 3/5\n",
      "469/469 [==============================] - 1s 2ms/step - loss: 0.5302 - acc: 0.7764\n",
      "Epoch 4/5\n",
      "469/469 [==============================] - 1s 3ms/step - loss: 0.5267 - acc: 0.7776\n",
      "Epoch 5/5\n",
      "469/469 [==============================] - 2s 3ms/step - loss: 0.5268 - acc: 0.7792\n"
     ]
    },
    {
     "data": {
      "text/plain": [
       "<tensorflow.python.keras.callbacks.History at 0x7f8c14189ed0>"
      ]
     },
     "execution_count": 85,
     "metadata": {},
     "output_type": "execute_result"
    }
   ],
   "source": [
    "model.fit(X_train,y_train, epochs=5,batch_size=128) #학습시간빠름 1s (약 10배 빠름ㅇ)"
   ]
  },
  {
   "cell_type": "markdown",
   "metadata": {},
   "source": [
    "## 예측 predict\n",
    "- `predict`\n",
    "    - 학습에 사용하지 않은데이터를 통해서 예측함"
   ]
  },
  {
   "cell_type": "code",
   "execution_count": 112,
   "metadata": {},
   "outputs": [
    {
     "name": "stdout",
     "output_type": "stream",
     "text": [
      "Model: \"sequential_18\"\n",
      "_________________________________________________________________\n",
      "Layer (type)                 Output Shape              Param #   \n",
      "=================================================================\n",
      "flatten_3 (Flatten)          (None, 784)               0         \n",
      "_________________________________________________________________\n",
      "dense_36 (Dense)             (None, 16)                12560     \n",
      "_________________________________________________________________\n",
      "dense_37 (Dense)             (None, 16)                272       \n",
      "_________________________________________________________________\n",
      "dense_38 (Dense)             (None, 10)                170       \n",
      "=================================================================\n",
      "Total params: 13,002\n",
      "Trainable params: 13,002\n",
      "Non-trainable params: 0\n",
      "_________________________________________________________________\n",
      "WARNING:tensorflow:5 out of the last 6 calls to <function Model.make_predict_function.<locals>.predict_function at 0x00000204DCEDBD38> triggered tf.function retracing. Tracing is expensive and the excessive number of tracings could be due to (1) creating @tf.function repeatedly in a loop, (2) passing tensors with different shapes, (3) passing Python objects instead of tensors. For (1), please define your @tf.function outside of the loop. For (2), @tf.function has experimental_relax_shapes=True option that relaxes argument shapes that can avoid unnecessary retracing. For (3), please refer to https://www.tensorflow.org/tutorials/customization/performance#python_or_tensor_args and https://www.tensorflow.org/api_docs/python/tf/function for  more details.\n"
     ]
    },
    {
     "data": {
      "text/plain": [
       "array([[0.0000000e+00, 0.0000000e+00, 8.1216761e-21, ..., 2.3729074e-24,\n",
       "        1.0000000e+00, 0.0000000e+00],\n",
       "       [3.3797782e-25, 5.4087121e-30, 7.8079367e-01, ..., 1.1032401e-07,\n",
       "        2.1919952e-01, 4.2397892e-33],\n",
       "       [0.0000000e+00, 0.0000000e+00, 1.0000000e+00, ..., 5.3544226e-12,\n",
       "        6.6328168e-21, 0.0000000e+00],\n",
       "       ...,\n",
       "       [0.0000000e+00, 0.0000000e+00, 1.9020265e-18, ..., 1.0000000e+00,\n",
       "        3.1278344e-11, 0.0000000e+00],\n",
       "       [1.0172147e-35, 0.0000000e+00, 5.1511416e-13, ..., 4.4487621e-08,\n",
       "        1.0000000e+00, 0.0000000e+00],\n",
       "       [0.0000000e+00, 0.0000000e+00, 7.6282454e-20, ..., 1.0000000e+00,\n",
       "        3.2153671e-31, 0.0000000e+00]], dtype=float32)"
      ]
     },
     "execution_count": 112,
     "metadata": {},
     "output_type": "execute_result"
    }
   ],
   "source": [
    "model.summary()\n",
    "model.predict(X_test)"
   ]
  }
 ],
 "metadata": {
  "kernelspec": {
   "display_name": "Python 3",
   "language": "python",
   "name": "python3"
  },
  "language_info": {
   "codemirror_mode": {
    "name": "ipython",
    "version": 3
   },
   "file_extension": ".py",
   "mimetype": "text/x-python",
   "name": "python",
   "nbconvert_exporter": "python",
   "pygments_lexer": "ipython3",
   "version": "3.7.6"
  }
 },
 "nbformat": 4,
 "nbformat_minor": 4
}
